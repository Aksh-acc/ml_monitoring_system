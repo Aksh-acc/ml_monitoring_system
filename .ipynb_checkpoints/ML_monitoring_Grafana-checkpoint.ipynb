{
 "cells": [
  {
   "cell_type": "code",
   "execution_count": null,
   "metadata": {},
   "outputs": [
    {
     "name": "stderr",
     "output_type": "stream",
     "text": [
      "2025-02-09 13:30:27,293 [13068] WARNING  py.warnings: C:\\Users\\91966\\anaconda3\\Lib\\site-packages\\keras\\src\\layers\\core\\dense.py:87: UserWarning: Do not pass an `input_shape`/`input_dim` argument to a layer. When using Sequential models, prefer using an `Input(shape)` object as the first layer in the model instead.\n",
      "  super().__init__(activity_regularizer=activity_regularizer, **kwargs)\n",
      "\n",
      "2025-02-09 13:30:27,350 [13068] INFO     root: ML Model training started.\n"
     ]
    },
    {
     "name": "stdout",
     "output_type": "stream",
     "text": [
      "Epoch 1/1000\n",
      "\u001b[1m 1/12\u001b[0m \u001b[32m━\u001b[0m\u001b[37m━━━━━━━━━━━━━━━━━━━\u001b[0m \u001b[1m11s\u001b[0m 1s/step - loss: 432.7485 - mae: 19.6513 - mse: 432.7485"
     ]
    },
    {
     "name": "stderr",
     "output_type": "stream",
     "text": [
      "2025-02-09 13:30:28,742 [13068] INFO     root: Epoch 1: Loss=590.3541, Val_Loss=489.7240, MAE=22.3847\n"
     ]
    },
    {
     "name": "stdout",
     "output_type": "stream",
     "text": [
      "\u001b[1m12/12\u001b[0m \u001b[32m━━━━━━━━━━━━━━━━━━━━\u001b[0m\u001b[37m\u001b[0m \u001b[1m1s\u001b[0m 24ms/step - loss: 590.0982 - mae: 22.4190 - mse: 590.0982 - val_loss: 489.7240 - val_mae: 21.1478 - val_mse: 489.7240\n",
      "Epoch 2/1000\n",
      "\u001b[1m 3/12\u001b[0m \u001b[32m━━━━━\u001b[0m\u001b[37m━━━━━━━━━━━━━━━\u001b[0m \u001b[1m0s\u001b[0m 1ms/step - loss: 513.9152 - mae: 21.1571 - mse: 513.91525"
     ]
    },
    {
     "name": "stderr",
     "output_type": "stream",
     "text": [
      "2025-02-09 13:30:28,871 [13068] INFO     root: Epoch 2: Loss=566.3850, Val_Loss=468.0392, MAE=21.8547\n"
     ]
    },
    {
     "name": "stdout",
     "output_type": "stream",
     "text": [
      "\u001b[1m12/12\u001b[0m \u001b[32m━━━━━━━━━━━━━━━━━━━━\u001b[0m\u001b[37m\u001b[0m \u001b[1m0s\u001b[0m 7ms/step - loss: 553.3915 - mae: 21.7464 - mse: 553.3915 - val_loss: 468.0392 - val_mae: 20.6208 - val_mse: 468.0392\n",
      "Epoch 3/1000\n",
      "\u001b[1m 3/12\u001b[0m \u001b[32m━━━━━\u001b[0m\u001b[37m━━━━━━━━━━━━━━━\u001b[0m \u001b[1m0s\u001b[0m 3ms/step - loss: 481.1850 - mae: 20.3044 - mse: 483.83799"
     ]
    },
    {
     "name": "stderr",
     "output_type": "stream",
     "text": [
      "2025-02-09 13:30:28,999 [13068] INFO     root: Epoch 3: Loss=542.3834, Val_Loss=446.3133, MAE=21.3169\n"
     ]
    },
    {
     "name": "stdout",
     "output_type": "stream",
     "text": [
      "\u001b[1m12/12\u001b[0m \u001b[32m━━━━━━━━━━━━━━━━━━━━\u001b[0m\u001b[37m\u001b[0m \u001b[1m0s\u001b[0m 7ms/step - loss: 516.7026 - mae: 20.8513 - mse: 516.7026 - val_loss: 446.3133 - val_mae: 20.0758 - val_mse: 446.3133\n",
      "Epoch 4/1000\n",
      "\u001b[1m 2/12\u001b[0m \u001b[32m━━━\u001b[0m\u001b[37m━━━━━━━━━━━━━━━━━\u001b[0m \u001b[1m0s\u001b[0m 1ms/step - loss: 475.7045 - mae: 20.6545 - mse: 520.0226 "
     ]
    },
    {
     "name": "stderr",
     "output_type": "stream",
     "text": [
      "2025-02-09 13:30:29,119 [13068] INFO     ml_monitor.logging: Starting metrics logging thread...\n"
     ]
    },
    {
     "name": "stdout",
     "output_type": "stream",
     "text": [
      "\u001b[1m 5/12\u001b[0m \u001b[32m━━━━━━━━\u001b[0m\u001b[37m━━━━━━━━━━━━\u001b[0m \u001b[1m0s\u001b[0m 4ms/step - loss: 520.0226 - mae: 20.8579 - mse: 531.5455"
     ]
    },
    {
     "name": "stderr",
     "output_type": "stream",
     "text": [
      "2025-02-09 13:30:29,192 [13068] INFO     root: Epoch 4: Loss=518.0898, Val_Loss=423.1265, MAE=20.7512\n"
     ]
    },
    {
     "name": "stdout",
     "output_type": "stream",
     "text": [
      "\u001b[1m12/12\u001b[0m \u001b[32m━━━━━━━━━━━━━━━━━━━━\u001b[0m\u001b[37m\u001b[0m \u001b[1m0s\u001b[0m 9ms/step - loss: 527.0067 - mae: 20.8591 - mse: 527.0067 - val_loss: 423.1265 - val_mae: 19.4888 - val_mse: 423.1265\n",
      "Epoch 5/1000\n",
      "\u001b[1m 5/12\u001b[0m \u001b[32m━━━━━━━━\u001b[0m\u001b[37m━━━━━━━━━━━━\u001b[0m \u001b[1m0s\u001b[0m 2ms/step - loss: 453.5749 - mae: 19.5637 - mse: 454.5550 "
     ]
    },
    {
     "name": "stderr",
     "output_type": "stream",
     "text": [
      "2025-02-09 13:30:29,326 [13068] INFO     root: Epoch 5: Loss=491.7429, Val_Loss=398.0733, MAE=20.1416\n"
     ]
    },
    {
     "name": "stdout",
     "output_type": "stream",
     "text": [
      "\u001b[1m12/12\u001b[0m \u001b[32m━━━━━━━━━━━━━━━━━━━━\u001b[0m\u001b[37m\u001b[0m \u001b[1m0s\u001b[0m 7ms/step - loss: 471.8126 - mae: 19.8320 - mse: 471.8126 - val_loss: 398.0733 - val_mae: 18.8371 - val_mse: 398.0733\n",
      "Epoch 6/1000\n",
      "\u001b[1m 6/12\u001b[0m \u001b[32m━━━━━━━━━━\u001b[0m\u001b[37m━━━━━━━━━━\u001b[0m \u001b[1m0s\u001b[0m 2ms/step - loss: 482.5600 - mae: 19.7535 - mse: 477.4970 "
     ]
    },
    {
     "name": "stderr",
     "output_type": "stream",
     "text": [
      "2025-02-09 13:30:29,454 [13068] INFO     root: Epoch 6: Loss=463.3702, Val_Loss=370.7310, MAE=19.4595\n"
     ]
    },
    {
     "name": "stdout",
     "output_type": "stream",
     "text": [
      "\u001b[1m12/12\u001b[0m \u001b[32m━━━━━━━━━━━━━━━━━━━━\u001b[0m\u001b[37m\u001b[0m \u001b[1m0s\u001b[0m 8ms/step - loss: 473.8624 - mae: 19.6404 - mse: 473.8624 - val_loss: 370.7310 - val_mae: 18.1149 - val_mse: 370.7310\n",
      "Epoch 7/1000\n",
      "\u001b[1m 2/12\u001b[0m \u001b[32m━━━\u001b[0m\u001b[37m━━━━━━━━━━━━━━━━━\u001b[0m \u001b[1m0s\u001b[0m 6ms/step - loss: 434.6460 - mae: 18.5203 - mse: 417.1921 "
     ]
    },
    {
     "name": "stderr",
     "output_type": "stream",
     "text": [
      "2025-02-09 13:30:29,567 [13068] INFO     root: Epoch 7: Loss=432.4136, Val_Loss=341.1218, MAE=18.7054\n"
     ]
    },
    {
     "name": "stdout",
     "output_type": "stream",
     "text": [
      "\u001b[1m12/12\u001b[0m \u001b[32m━━━━━━━━━━━━━━━━━━━━\u001b[0m\u001b[37m\u001b[0m \u001b[1m0s\u001b[0m 6ms/step - loss: 422.7066 - mae: 18.5824 - mse: 422.7066 - val_loss: 341.1218 - val_mae: 17.2957 - val_mse: 341.1218\n",
      "Epoch 8/1000\n",
      "\u001b[1m 8/12\u001b[0m \u001b[32m━━━━━━━━━━━━━\u001b[0m\u001b[37m━━━━━━━\u001b[0m \u001b[1m0s\u001b[0m 2ms/step - loss: 438.8991 - mae: 18.5578 - mse: 431.6211 8"
     ]
    },
    {
     "name": "stderr",
     "output_type": "stream",
     "text": [
      "2025-02-09 13:30:29,756 [13068] INFO     root: Epoch 8: Loss=399.7582, Val_Loss=309.3578, MAE=17.8710\n"
     ]
    },
    {
     "name": "stdout",
     "output_type": "stream",
     "text": [
      "\u001b[1m12/12\u001b[0m \u001b[32m━━━━━━━━━━━━━━━━━━━━\u001b[0m\u001b[37m\u001b[0m \u001b[1m0s\u001b[0m 8ms/step - loss: 428.5447 - mae: 18.3956 - mse: 428.5447 - val_loss: 309.3578 - val_mae: 16.3838 - val_mse: 309.3578\n",
      "Epoch 9/1000\n",
      "\u001b[1m 8/12\u001b[0m \u001b[32m━━━━━━━━━━━━━\u001b[0m\u001b[37m━━━━━━━\u001b[0m \u001b[1m0s\u001b[0m 2ms/step - loss: 345.7662 - mae: 16.5271 - mse: 350.8915 "
     ]
    },
    {
     "name": "stderr",
     "output_type": "stream",
     "text": [
      "2025-02-09 13:30:29,909 [13068] INFO     root: Epoch 9: Loss=364.0354, Val_Loss=277.4863, MAE=16.9438\n"
     ]
    },
    {
     "name": "stdout",
     "output_type": "stream",
     "text": [
      "\u001b[1m12/12\u001b[0m \u001b[32m━━━━━━━━━━━━━━━━━━━━\u001b[0m\u001b[37m\u001b[0m \u001b[1m0s\u001b[0m 9ms/step - loss: 352.4378 - mae: 16.6778 - mse: 352.4378 - val_loss: 277.4863 - val_mae: 15.4567 - val_mse: 277.4863\n",
      "Epoch 10/1000\n",
      "\u001b[1m 4/12\u001b[0m \u001b[32m━━━━━━\u001b[0m\u001b[37m━━━━━━━━━━━━━━\u001b[0m \u001b[1m0s\u001b[0m 4ms/step - loss: 342.9299 - mae: 16.3534 - mse: 342.9604 "
     ]
    },
    {
     "name": "stderr",
     "output_type": "stream",
     "text": [
      "2025-02-09 13:30:30,039 [13068] INFO     root: Epoch 10: Loss=328.8910, Val_Loss=244.1937, MAE=15.9369\n"
     ]
    },
    {
     "name": "stdout",
     "output_type": "stream",
     "text": [
      "\u001b[1m12/12\u001b[0m \u001b[32m━━━━━━━━━━━━━━━━━━━━\u001b[0m\u001b[37m\u001b[0m \u001b[1m0s\u001b[0m 6ms/step - loss: 340.5985 - mae: 16.2677 - mse: 340.5985 - val_loss: 244.1937 - val_mae: 14.4191 - val_mse: 244.1937\n",
      "Epoch 11/1000\n",
      "\u001b[1m 8/12\u001b[0m \u001b[32m━━━━━━━━━━━━━\u001b[0m\u001b[37m━━━━━━━\u001b[0m \u001b[1m0s\u001b[0m 2ms/step - loss: 300.0923 - mae: 15.1578 - mse: 300.0923 "
     ]
    },
    {
     "name": "stderr",
     "output_type": "stream",
     "text": [
      "2025-02-09 13:30:30,188 [13068] INFO     root: Epoch 11: Loss=292.4805, Val_Loss=211.8448, MAE=14.8660\n"
     ]
    },
    {
     "name": "stdout",
     "output_type": "stream",
     "text": [
      "\u001b[1m12/12\u001b[0m \u001b[32m━━━━━━━━━━━━━━━━━━━━\u001b[0m\u001b[37m\u001b[0m \u001b[1m0s\u001b[0m 8ms/step - loss: 296.1656 - mae: 15.0154 - mse: 296.1656 - val_loss: 211.8448 - val_mae: 13.3129 - val_mse: 211.8448\n",
      "Epoch 12/1000\n",
      "\u001b[1m 2/12\u001b[0m \u001b[32m━━━\u001b[0m\u001b[37m━━━━━━━━━━━━━━━━━\u001b[0m \u001b[1m0s\u001b[0m 2ms/step - loss: 278.2721 - mae: 14.2826 - mse: 271.8966 "
     ]
    },
    {
     "name": "stderr",
     "output_type": "stream",
     "text": [
      "2025-02-09 13:30:30,308 [13068] INFO     root: Epoch 12: Loss=257.6008, Val_Loss=181.0443, MAE=13.7602\n"
     ]
    },
    {
     "name": "stdout",
     "output_type": "stream",
     "text": [
      "\u001b[1m12/12\u001b[0m \u001b[32m━━━━━━━━━━━━━━━━━━━━\u001b[0m\u001b[37m\u001b[0m \u001b[1m0s\u001b[0m 6ms/step - loss: 265.3279 - mae: 13.9604 - mse: 265.3279 - val_loss: 181.0443 - val_mae: 12.1287 - val_mse: 181.0443\n",
      "Epoch 13/1000\n",
      "\u001b[1m 5/12\u001b[0m \u001b[32m━━━━━━━━\u001b[0m\u001b[37m━━━━━━━━━━━━\u001b[0m \u001b[1m0s\u001b[0m 2ms/step - loss: 218.7833 - mae: 12.5479 - mse: 221.91464"
     ]
    },
    {
     "name": "stderr",
     "output_type": "stream",
     "text": [
      "2025-02-09 13:30:30,485 [13068] INFO     root: Epoch 13: Loss=223.5887, Val_Loss=153.4370, MAE=12.6186\n"
     ]
    },
    {
     "name": "stdout",
     "output_type": "stream",
     "text": [
      "\u001b[1m12/12\u001b[0m \u001b[32m━━━━━━━━━━━━━━━━━━━━\u001b[0m\u001b[37m\u001b[0m \u001b[1m0s\u001b[0m 7ms/step - loss: 222.0746 - mae: 12.5916 - mse: 222.0746 - val_loss: 153.4370 - val_mae: 10.9595 - val_mse: 153.4370\n",
      "Epoch 14/1000\n",
      "\u001b[1m 6/12\u001b[0m \u001b[32m━━━━━━━━━━\u001b[0m\u001b[37m━━━━━━━━━━\u001b[0m \u001b[1m0s\u001b[0m 2ms/step - loss: 195.9359 - mae: 11.7009 - mse: 195.6218 "
     ]
    },
    {
     "name": "stderr",
     "output_type": "stream",
     "text": [
      "2025-02-09 13:30:30,612 [13068] INFO     root: Epoch 14: Loss=193.6390, Val_Loss=128.8083, MAE=11.5343\n"
     ]
    },
    {
     "name": "stdout",
     "output_type": "stream",
     "text": [
      "\u001b[1m12/12\u001b[0m \u001b[32m━━━━━━━━━━━━━━━━━━━━\u001b[0m\u001b[37m\u001b[0m \u001b[1m0s\u001b[0m 6ms/step - loss: 195.1816 - mae: 11.6463 - mse: 195.1816 - val_loss: 128.8083 - val_mae: 9.7671 - val_mse: 128.8083\n",
      "Epoch 15/1000\n",
      "\u001b[1m 8/12\u001b[0m \u001b[32m━━━━━━━━━━━━━\u001b[0m\u001b[37m━━━━━━━\u001b[0m \u001b[1m0s\u001b[0m 2ms/step - loss: 170.0608 - mae: 10.6293 - mse: 168.53982"
     ]
    },
    {
     "name": "stderr",
     "output_type": "stream",
     "text": [
      "2025-02-09 13:30:30,794 [13068] INFO     root: Epoch 15: Loss=166.5914, Val_Loss=108.2097, MAE=10.4871\n"
     ]
    },
    {
     "name": "stdout",
     "output_type": "stream",
     "text": [
      "\u001b[1m12/12\u001b[0m \u001b[32m━━━━━━━━━━━━━━━━━━━━\u001b[0m\u001b[37m\u001b[0m \u001b[1m0s\u001b[0m 7ms/step - loss: 168.3899 - mae: 10.6183 - mse: 168.3899 - val_loss: 108.2097 - val_mae: 8.7640 - val_mse: 108.2097\n",
      "Epoch 16/1000\n",
      "\u001b[1m 6/12\u001b[0m \u001b[32m━━━━━━━━━━\u001b[0m\u001b[37m━━━━━━━━━━\u001b[0m \u001b[1m0s\u001b[0m 1ms/step - loss: 165.2068 - mae: 10.1916 - mse: 160.8640 "
     ]
    },
    {
     "name": "stderr",
     "output_type": "stream",
     "text": [
      "2025-02-09 13:30:30,949 [13068] INFO     root: Epoch 16: Loss=144.0813, Val_Loss=91.3879, MAE=9.5712\n"
     ]
    },
    {
     "name": "stdout",
     "output_type": "stream",
     "text": [
      "\u001b[1m12/12\u001b[0m \u001b[32m━━━━━━━━━━━━━━━━━━━━\u001b[0m\u001b[37m\u001b[0m \u001b[1m0s\u001b[0m 5ms/step - loss: 156.0568 - mae: 9.9603 - mse: 156.0568 - val_loss: 91.3879 - val_mae: 8.0545 - val_mse: 91.3879\n",
      "Epoch 17/1000\n",
      "\u001b[1m 2/12\u001b[0m \u001b[32m━━━\u001b[0m\u001b[37m━━━━━━━━━━━━━━━━━\u001b[0m \u001b[1m0s\u001b[0m 4ms/step - loss: 144.5694 - mae: 9.6628 - mse: 142.8247 "
     ]
    },
    {
     "name": "stderr",
     "output_type": "stream",
     "text": [
      "2025-02-09 13:30:31,047 [13068] INFO     root: Epoch 17: Loss=124.6965, Val_Loss=78.2108, MAE=8.8170\n"
     ]
    },
    {
     "name": "stdout",
     "output_type": "stream",
     "text": [
      "\u001b[1m12/12\u001b[0m \u001b[32m━━━━━━━━━━━━━━━━━━━━\u001b[0m\u001b[37m\u001b[0m \u001b[1m0s\u001b[0m 5ms/step - loss: 130.1978 - mae: 9.0965 - mse: 130.1978 - val_loss: 78.2108 - val_mae: 7.4904 - val_mse: 78.2108\n",
      "Epoch 18/1000\n",
      "\u001b[1m 3/12\u001b[0m \u001b[32m━━━━━\u001b[0m\u001b[37m━━━━━━━━━━━━━━━\u001b[0m \u001b[1m0s\u001b[0m 2ms/step - loss: 90.8155 - mae: 8.2801 - mse: 107.7421 "
     ]
    },
    {
     "name": "stderr",
     "output_type": "stream",
     "text": [
      "2025-02-09 13:30:31,227 [13068] INFO     root: Epoch 18: Loss=109.0893, Val_Loss=67.8711, MAE=8.1455\n"
     ]
    },
    {
     "name": "stdout",
     "output_type": "stream",
     "text": [
      "\u001b[1m12/12\u001b[0m \u001b[32m━━━━━━━━━━━━━━━━━━━━\u001b[0m\u001b[37m\u001b[0m \u001b[1m0s\u001b[0m 6ms/step - loss: 107.8836 - mae: 8.2583 - mse: 107.8836 - val_loss: 67.8711 - val_mae: 7.0090 - val_mse: 67.8711\n",
      "Epoch 19/1000\n",
      "\u001b[1m 4/12\u001b[0m \u001b[32m━━━━━━\u001b[0m\u001b[37m━━━━━━━━━━━━━━\u001b[0m \u001b[1m0s\u001b[0m 3ms/step - loss: 113.2844 - mae: 8.0642 - mse: 100.7149 "
     ]
    },
    {
     "name": "stderr",
     "output_type": "stream",
     "text": [
      "2025-02-09 13:30:31,407 [13068] INFO     root: Epoch 19: Loss=96.1783, Val_Loss=59.9598, MAE=7.5641\n"
     ]
    },
    {
     "name": "stdout",
     "output_type": "stream",
     "text": [
      "\u001b[1m12/12\u001b[0m \u001b[32m━━━━━━━━━━━━━━━━━━━━\u001b[0m\u001b[37m\u001b[0m \u001b[1m0s\u001b[0m 7ms/step - loss: 99.6271 - mae: 7.6529 - mse: 99.6271 - val_loss: 59.9598 - val_mae: 6.6293 - val_mse: 59.9598\n",
      "Epoch 20/1000\n",
      "\u001b[1m 8/12\u001b[0m \u001b[32m━━━━━━━━━━━━━\u001b[0m\u001b[37m━━━━━━━\u001b[0m \u001b[1m0s\u001b[0m 3ms/step - loss: 82.1003 - mae: 7.1362 - mse: 85.6163 "
     ]
    },
    {
     "name": "stderr",
     "output_type": "stream",
     "text": [
      "2025-02-09 13:30:31,550 [13068] INFO     root: Epoch 20: Loss=85.2925, Val_Loss=53.4810, MAE=7.0713\n"
     ]
    },
    {
     "name": "stdout",
     "output_type": "stream",
     "text": [
      "\u001b[1m12/12\u001b[0m \u001b[32m━━━━━━━━━━━━━━━━━━━━\u001b[0m\u001b[37m\u001b[0m \u001b[1m0s\u001b[0m 9ms/step - loss: 85.5732 - mae: 7.1833 - mse: 85.5732 - val_loss: 53.4810 - val_mae: 6.2446 - val_mse: 53.4810\n",
      "Epoch 21/1000\n",
      "\u001b[1m 5/12\u001b[0m \u001b[32m━━━━━━━━\u001b[0m\u001b[37m━━━━━━━━━━━━\u001b[0m \u001b[1m0s\u001b[0m 3ms/step - loss: 57.9110 - mae: 6.1510 - mse: 63.2724 "
     ]
    },
    {
     "name": "stderr",
     "output_type": "stream",
     "text": [
      "2025-02-09 13:30:31,666 [13068] INFO     root: Epoch 21: Loss=76.0891, Val_Loss=48.1514, MAE=6.6376\n"
     ]
    },
    {
     "name": "stdout",
     "output_type": "stream",
     "text": [
      "\u001b[1m12/12\u001b[0m \u001b[32m━━━━━━━━━━━━━━━━━━━━\u001b[0m\u001b[37m\u001b[0m \u001b[1m0s\u001b[0m 6ms/step - loss: 67.1227 - mae: 6.3838 - mse: 67.1227 - val_loss: 48.1514 - val_mae: 5.8886 - val_mse: 48.1514\n",
      "Epoch 22/1000\n",
      "\u001b[1m 6/12\u001b[0m \u001b[32m━━━━━━━━━━\u001b[0m\u001b[37m━━━━━━━━━━\u001b[0m \u001b[1m0s\u001b[0m 1ms/step - loss: 81.5588 - mae: 6.5690 - mse: 79.1994 "
     ]
    },
    {
     "name": "stderr",
     "output_type": "stream",
     "text": [
      "2025-02-09 13:30:31,768 [13068] INFO     root: Epoch 22: Loss=68.6355, Val_Loss=43.2853, MAE=6.2544\n"
     ]
    },
    {
     "name": "stdout",
     "output_type": "stream",
     "text": [
      "\u001b[1m12/12\u001b[0m \u001b[32m━━━━━━━━━━━━━━━━━━━━\u001b[0m\u001b[37m\u001b[0m \u001b[1m0s\u001b[0m 5ms/step - loss: 76.4401 - mae: 6.4938 - mse: 76.4401 - val_loss: 43.2853 - val_mae: 5.5360 - val_mse: 43.2853\n",
      "Epoch 23/1000\n",
      "\u001b[1m 3/12\u001b[0m \u001b[32m━━━━━\u001b[0m\u001b[37m━━━━━━━━━━━━━━━\u001b[0m \u001b[1m0s\u001b[0m 3ms/step - loss: 99.3308 - mae: 6.8445 - mse: 89.5308   "
     ]
    },
    {
     "name": "stderr",
     "output_type": "stream",
     "text": [
      "2025-02-09 13:30:31,892 [13068] INFO     root: Epoch 23: Loss=61.4382, Val_Loss=39.4854, MAE=5.8823\n"
     ]
    },
    {
     "name": "stdout",
     "output_type": "stream",
     "text": [
      "\u001b[1m12/12\u001b[0m \u001b[32m━━━━━━━━━━━━━━━━━━━━\u001b[0m\u001b[37m\u001b[0m \u001b[1m0s\u001b[0m 6ms/step - loss: 75.0261 - mae: 6.3331 - mse: 75.0261 - val_loss: 39.4854 - val_mae: 5.2514 - val_mse: 39.4854\n",
      "Epoch 24/1000\n",
      "\u001b[1m 3/12\u001b[0m \u001b[32m━━━━━\u001b[0m\u001b[37m━━━━━━━━━━━━━━━\u001b[0m \u001b[1m0s\u001b[0m 1ms/step - loss: 56.1540 - mae: 5.7597 - mse: 57.4503 "
     ]
    },
    {
     "name": "stderr",
     "output_type": "stream",
     "text": [
      "2025-02-09 13:30:31,998 [13068] INFO     root: Epoch 24: Loss=55.4764, Val_Loss=36.1919, MAE=5.5542\n"
     ]
    },
    {
     "name": "stdout",
     "output_type": "stream",
     "text": [
      "\u001b[1m12/12\u001b[0m \u001b[32m━━━━━━━━━━━━━━━━━━━━\u001b[0m\u001b[37m\u001b[0m \u001b[1m0s\u001b[0m 6ms/step - loss: 57.0712 - mae: 5.7212 - mse: 57.0712 - val_loss: 36.1919 - val_mae: 5.0103 - val_mse: 36.1919\n",
      "Epoch 25/1000\n",
      "\u001b[1m 5/12\u001b[0m \u001b[32m━━━━━━━━\u001b[0m\u001b[37m━━━━━━━━━━━━\u001b[0m \u001b[1m0s\u001b[0m 2ms/step - loss: 50.1203 - mae: 5.1726 - mse: 51.2741 "
     ]
    },
    {
     "name": "stderr",
     "output_type": "stream",
     "text": [
      "2025-02-09 13:30:32,110 [13068] INFO     root: Epoch 25: Loss=50.2522, Val_Loss=33.2463, MAE=5.2350\n"
     ]
    },
    {
     "name": "stdout",
     "output_type": "stream",
     "text": [
      "\u001b[1m12/12\u001b[0m \u001b[32m━━━━━━━━━━━━━━━━━━━━\u001b[0m\u001b[37m\u001b[0m \u001b[1m0s\u001b[0m 6ms/step - loss: 51.1351 - mae: 5.2061 - mse: 51.1351 - val_loss: 33.2463 - val_mae: 4.7789 - val_mse: 33.2463\n",
      "Epoch 26/1000\n",
      "\u001b[1m 7/12\u001b[0m \u001b[32m━━━━━━━━━━━\u001b[0m\u001b[37m━━━━━━━━━\u001b[0m \u001b[1m0s\u001b[0m 2ms/step - loss: 49.5098 - mae: 4.9968 - mse: 48.89484"
     ]
    },
    {
     "name": "stderr",
     "output_type": "stream",
     "text": [
      "2025-02-09 13:30:32,226 [13068] INFO     root: Epoch 26: Loss=45.8112, Val_Loss=30.8551, MAE=4.9546\n"
     ]
    },
    {
     "name": "stdout",
     "output_type": "stream",
     "text": [
      "\u001b[1m12/12\u001b[0m \u001b[32m━━━━━━━━━━━━━━━━━━━━\u001b[0m\u001b[37m\u001b[0m \u001b[1m0s\u001b[0m 6ms/step - loss: 47.4013 - mae: 4.9576 - mse: 47.4013 - val_loss: 30.8551 - val_mae: 4.5741 - val_mse: 30.8551\n",
      "Epoch 27/1000\n",
      "\u001b[1m 2/12\u001b[0m \u001b[32m━━━\u001b[0m\u001b[37m━━━━━━━━━━━━━━━━━\u001b[0m \u001b[1m0s\u001b[0m 2ms/step - loss: 36.8103 - mae: 4.3485 - mse: 37.5062 "
     ]
    },
    {
     "name": "stderr",
     "output_type": "stream",
     "text": [
      "2025-02-09 13:30:32,320 [13068] INFO     root: Epoch 27: Loss=41.9626, Val_Loss=28.8152, MAE=4.6973\n"
     ]
    },
    {
     "name": "stdout",
     "output_type": "stream",
     "text": [
      "\u001b[1m12/12\u001b[0m \u001b[32m━━━━━━━━━━━━━━━━━━━━\u001b[0m\u001b[37m\u001b[0m \u001b[1m0s\u001b[0m 5ms/step - loss: 39.4426 - mae: 4.5019 - mse: 39.4426 - val_loss: 28.8152 - val_mae: 4.4163 - val_mse: 28.8152\n",
      "Epoch 28/1000\n",
      "\u001b[1m 6/12\u001b[0m \u001b[32m━━━━━━━━━━\u001b[0m\u001b[37m━━━━━━━━━━\u001b[0m \u001b[1m0s\u001b[0m 1ms/step - loss: 31.6805 - mae: 4.2545 - mse: 33.9144 5"
     ]
    },
    {
     "name": "stderr",
     "output_type": "stream",
     "text": [
      "2025-02-09 13:30:32,425 [13068] INFO     root: Epoch 28: Loss=39.0209, Val_Loss=27.1892, MAE=4.5015\n"
     ]
    },
    {
     "name": "stdout",
     "output_type": "stream",
     "text": [
      "\u001b[1m12/12\u001b[0m \u001b[32m━━━━━━━━━━━━━━━━━━━━\u001b[0m\u001b[37m\u001b[0m \u001b[1m0s\u001b[0m 6ms/step - loss: 35.8800 - mae: 4.3441 - mse: 35.8800 - val_loss: 27.1892 - val_mae: 4.2953 - val_mse: 27.1892\n",
      "Epoch 29/1000\n",
      "\u001b[1m 3/12\u001b[0m \u001b[32m━━━━━\u001b[0m\u001b[37m━━━━━━━━━━━━━━━\u001b[0m \u001b[1m0s\u001b[0m 2ms/step - loss: 43.0898 - mae: 4.5879 - mse: 39.65898"
     ]
    },
    {
     "name": "stderr",
     "output_type": "stream",
     "text": [
      "2025-02-09 13:30:32,528 [13068] INFO     root: Epoch 29: Loss=36.4757, Val_Loss=26.0346, MAE=4.3236\n"
     ]
    },
    {
     "name": "stdout",
     "output_type": "stream",
     "text": [
      "\u001b[1m12/12\u001b[0m \u001b[32m━━━━━━━━━━━━━━━━━━━━\u001b[0m\u001b[37m\u001b[0m \u001b[1m0s\u001b[0m 6ms/step - loss: 37.7465 - mae: 4.4154 - mse: 37.7465 - val_loss: 26.0346 - val_mae: 4.1875 - val_mse: 26.0346\n",
      "Epoch 30/1000\n",
      "\u001b[1m 7/12\u001b[0m \u001b[32m━━━━━━━━━━━\u001b[0m\u001b[37m━━━━━━━━━\u001b[0m \u001b[1m0s\u001b[0m 2ms/step - loss: 35.6084 - mae: 4.1834 - mse: 35.46217 "
     ]
    },
    {
     "name": "stderr",
     "output_type": "stream",
     "text": [
      "2025-02-09 13:30:32,628 [13068] INFO     root: Epoch 30: Loss=34.3737, Val_Loss=25.2059, MAE=4.1719\n"
     ]
    },
    {
     "name": "stdout",
     "output_type": "stream",
     "text": [
      "\u001b[1m12/12\u001b[0m \u001b[32m━━━━━━━━━━━━━━━━━━━━\u001b[0m\u001b[37m\u001b[0m \u001b[1m0s\u001b[0m 6ms/step - loss: 34.9239 - mae: 4.1805 - mse: 34.9239 - val_loss: 25.2059 - val_mae: 4.0896 - val_mse: 25.2059\n",
      "Epoch 31/1000\n",
      "\u001b[1m 8/12\u001b[0m \u001b[32m━━━━━━━━━━━━━\u001b[0m\u001b[37m━━━━━━━\u001b[0m \u001b[1m0s\u001b[0m 2ms/step - loss: 29.4889 - mae: 3.9385 - mse: 29.7601 "
     ]
    },
    {
     "name": "stderr",
     "output_type": "stream",
     "text": [
      "2025-02-09 13:30:32,731 [13068] INFO     root: Epoch 31: Loss=32.6216, Val_Loss=24.5501, MAE=4.0388\n"
     ]
    },
    {
     "name": "stdout",
     "output_type": "stream",
     "text": [
      "\u001b[1m12/12\u001b[0m \u001b[32m━━━━━━━━━━━━━━━━━━━━\u001b[0m\u001b[37m\u001b[0m \u001b[1m0s\u001b[0m 5ms/step - loss: 30.3886 - mae: 3.9716 - mse: 30.3886 - val_loss: 24.5501 - val_mae: 4.0237 - val_mse: 24.5501\n",
      "Epoch 32/1000\n",
      "\u001b[1m 7/12\u001b[0m \u001b[32m━━━━━━━━━━━\u001b[0m\u001b[37m━━━━━━━━━\u001b[0m \u001b[1m0s\u001b[0m 2ms/step - loss: 42.5560 - mae: 4.1354 - mse: 39.4194 "
     ]
    },
    {
     "name": "stderr",
     "output_type": "stream",
     "text": [
      "2025-02-09 13:30:32,827 [13068] INFO     root: Epoch 32: Loss=31.2061, Val_Loss=24.0787, MAE=3.9302\n"
     ]
    },
    {
     "name": "stdout",
     "output_type": "stream",
     "text": [
      "\u001b[1m12/12\u001b[0m \u001b[32m━━━━━━━━━━━━━━━━━━━━\u001b[0m\u001b[37m\u001b[0m \u001b[1m0s\u001b[0m 5ms/step - loss: 38.3243 - mae: 4.0800 - mse: 38.3243 - val_loss: 24.0787 - val_mae: 3.9731 - val_mse: 24.0787\n",
      "Epoch 33/1000\n",
      "\u001b[1m 2/12\u001b[0m \u001b[32m━━━\u001b[0m\u001b[37m━━━━━━━━━━━━━━━━━\u001b[0m \u001b[1m0s\u001b[0m 2ms/step - loss: 38.3594 - mae: 4.1734 - mse: 34.6268 "
     ]
    },
    {
     "name": "stderr",
     "output_type": "stream",
     "text": [
      "2025-02-09 13:30:32,922 [13068] INFO     root: Epoch 33: Loss=29.9654, Val_Loss=23.7354, MAE=3.8442\n"
     ]
    },
    {
     "name": "stdout",
     "output_type": "stream",
     "text": [
      "\u001b[1m12/12\u001b[0m \u001b[32m━━━━━━━━━━━━━━━━━━━━\u001b[0m\u001b[37m\u001b[0m \u001b[1m0s\u001b[0m 5ms/step - loss: 30.3138 - mae: 3.8107 - mse: 30.3138 - val_loss: 23.7354 - val_mae: 3.9222 - val_mse: 23.7354\n",
      "Epoch 34/1000\n",
      "\u001b[1m 7/12\u001b[0m \u001b[32m━━━━━━━━━━━\u001b[0m\u001b[37m━━━━━━━━━\u001b[0m \u001b[1m0s\u001b[0m 2ms/step - loss: 34.2074 - mae: 3.8321 - mse: 31.0182 "
     ]
    },
    {
     "name": "stderr",
     "output_type": "stream",
     "text": [
      "2025-02-09 13:30:33,011 [13068] INFO     root: Epoch 34: Loss=28.9622, Val_Loss=23.3953, MAE=3.7804\n"
     ]
    },
    {
     "name": "stdout",
     "output_type": "stream",
     "text": [
      "\u001b[1m12/12\u001b[0m \u001b[32m━━━━━━━━━━━━━━━━━━━━\u001b[0m\u001b[37m\u001b[0m \u001b[1m0s\u001b[0m 5ms/step - loss: 30.8897 - mae: 3.8081 - mse: 30.8897 - val_loss: 23.3953 - val_mae: 3.8631 - val_mse: 23.3953\n",
      "Epoch 35/1000\n",
      "\u001b[1m 6/12\u001b[0m \u001b[32m━━━━━━━━━━\u001b[0m\u001b[37m━━━━━━━━━━\u001b[0m \u001b[1m0s\u001b[0m 2ms/step - loss: 28.8428 - mae: 3.6961 - mse: 27.6103 "
     ]
    },
    {
     "name": "stderr",
     "output_type": "stream",
     "text": [
      "2025-02-09 13:30:33,113 [13068] INFO     root: Epoch 35: Loss=27.9855, Val_Loss=23.2947, MAE=3.7213\n"
     ]
    },
    {
     "name": "stdout",
     "output_type": "stream",
     "text": [
      "\u001b[1m12/12\u001b[0m \u001b[32m━━━━━━━━━━━━━━━━━━━━\u001b[0m\u001b[37m\u001b[0m \u001b[1m0s\u001b[0m 5ms/step - loss: 27.7132 - mae: 3.6987 - mse: 27.7132 - val_loss: 23.2947 - val_mae: 3.8354 - val_mse: 23.2947\n",
      "Epoch 36/1000\n",
      "\u001b[1m 3/12\u001b[0m \u001b[32m━━━━━\u001b[0m\u001b[37m━━━━━━━━━━━━━━━\u001b[0m \u001b[1m0s\u001b[0m 3ms/step - loss: 18.0746 - mae: 3.1979 - mse: 20.8385 "
     ]
    },
    {
     "name": "stderr",
     "output_type": "stream",
     "text": [
      "2025-02-09 13:30:33,203 [13068] INFO     root: Epoch 36: Loss=27.2609, Val_Loss=23.1983, MAE=3.6764\n"
     ]
    },
    {
     "name": "stdout",
     "output_type": "stream",
     "text": [
      "\u001b[1m12/12\u001b[0m \u001b[32m━━━━━━━━━━━━━━━━━━━━\u001b[0m\u001b[37m\u001b[0m \u001b[1m0s\u001b[0m 5ms/step - loss: 22.8739 - mae: 3.4174 - mse: 22.8739 - val_loss: 23.1983 - val_mae: 3.8078 - val_mse: 23.1983\n",
      "Epoch 37/1000\n",
      "\u001b[1m 4/12\u001b[0m \u001b[32m━━━━━━\u001b[0m\u001b[37m━━━━━━━━━━━━━━\u001b[0m \u001b[1m0s\u001b[0m 3ms/step - loss: 31.0028 - mae: 3.9347 - mse: 32.5835  "
     ]
    },
    {
     "name": "stderr",
     "output_type": "stream",
     "text": [
      "2025-02-09 13:30:33,430 [13068] INFO     root: Epoch 37: Loss=26.6779, Val_Loss=23.0487, MAE=3.6430\n"
     ]
    },
    {
     "name": "stdout",
     "output_type": "stream",
     "text": [
      "\u001b[1m12/12\u001b[0m \u001b[32m━━━━━━━━━━━━━━━━━━━━\u001b[0m\u001b[37m\u001b[0m \u001b[1m0s\u001b[0m 9ms/step - loss: 31.0059 - mae: 3.8242 - mse: 31.0059 - val_loss: 23.0487 - val_mae: 3.7640 - val_mse: 23.0487\n",
      "Epoch 38/1000\n",
      "\u001b[1m 2/12\u001b[0m \u001b[32m━━━\u001b[0m\u001b[37m━━━━━━━━━━━━━━━━━\u001b[0m \u001b[1m0s\u001b[0m 4ms/step - loss: 41.8312 - mae: 4.6301 - mse: 33.4120 "
     ]
    },
    {
     "name": "stderr",
     "output_type": "stream",
     "text": [
      "2025-02-09 13:30:33,598 [13068] INFO     root: Epoch 38: Loss=25.9915, Val_Loss=23.0187, MAE=3.6150\n"
     ]
    },
    {
     "name": "stdout",
     "output_type": "stream",
     "text": [
      "\u001b[1m12/12\u001b[0m \u001b[32m━━━━━━━━━━━━━━━━━━━━\u001b[0m\u001b[37m\u001b[0m \u001b[1m0s\u001b[0m 8ms/step - loss: 27.0409 - mae: 3.7149 - mse: 27.0409 - val_loss: 23.0187 - val_mae: 3.7421 - val_mse: 23.0187\n",
      "Epoch 39/1000\n",
      "\u001b[1m 5/12\u001b[0m \u001b[32m━━━━━━━━\u001b[0m\u001b[37m━━━━━━━━━━━━\u001b[0m \u001b[1m0s\u001b[0m 2ms/step - loss: 25.2432 - mae: 3.5003 - mse: 25.0620 "
     ]
    },
    {
     "name": "stderr",
     "output_type": "stream",
     "text": [
      "2025-02-09 13:30:33,766 [13068] INFO     root: Epoch 39: Loss=25.5207, Val_Loss=22.8971, MAE=3.5881\n"
     ]
    },
    {
     "name": "stdout",
     "output_type": "stream",
     "text": [
      "\u001b[1m12/12\u001b[0m \u001b[32m━━━━━━━━━━━━━━━━━━━━\u001b[0m\u001b[37m\u001b[0m \u001b[1m0s\u001b[0m 6ms/step - loss: 24.7023 - mae: 3.5084 - mse: 24.7023 - val_loss: 22.8971 - val_mae: 3.7069 - val_mse: 22.8971\n",
      "Epoch 40/1000\n",
      "\u001b[1m 3/12\u001b[0m \u001b[32m━━━━━\u001b[0m\u001b[37m━━━━━━━━━━━━━━━\u001b[0m \u001b[1m0s\u001b[0m 3ms/step - loss: 26.3216 - mae: 3.6423 - mse: 26.69951"
     ]
    },
    {
     "name": "stderr",
     "output_type": "stream",
     "text": [
      "2025-02-09 13:30:33,877 [13068] INFO     root: Epoch 40: Loss=25.0037, Val_Loss=22.8691, MAE=3.5537\n"
     ]
    },
    {
     "name": "stdout",
     "output_type": "stream",
     "text": [
      "\u001b[1m12/12\u001b[0m \u001b[32m━━━━━━━━━━━━━━━━━━━━\u001b[0m\u001b[37m\u001b[0m \u001b[1m0s\u001b[0m 6ms/step - loss: 26.1370 - mae: 3.6127 - mse: 26.1370 - val_loss: 22.8691 - val_mae: 3.6801 - val_mse: 22.8691\n",
      "Epoch 41/1000\n",
      "\u001b[1m 7/12\u001b[0m \u001b[32m━━━━━━━━━━━\u001b[0m\u001b[37m━━━━━━━━━\u001b[0m \u001b[1m0s\u001b[0m 2ms/step - loss: 24.8235 - mae: 3.5552 - mse: 24.0975 "
     ]
    },
    {
     "name": "stderr",
     "output_type": "stream",
     "text": [
      "2025-02-09 13:30:33,987 [13068] INFO     root: Epoch 41: Loss=24.4946, Val_Loss=22.7996, MAE=3.5235\n"
     ]
    },
    {
     "name": "stdout",
     "output_type": "stream",
     "text": [
      "\u001b[1m12/12\u001b[0m \u001b[32m━━━━━━━━━━━━━━━━━━━━\u001b[0m\u001b[37m\u001b[0m \u001b[1m0s\u001b[0m 6ms/step - loss: 24.1240 - mae: 3.5318 - mse: 24.1240 - val_loss: 22.7996 - val_mae: 3.6567 - val_mse: 22.7996\n",
      "Epoch 42/1000\n",
      "\u001b[1m 3/12\u001b[0m \u001b[32m━━━━━\u001b[0m\u001b[37m━━━━━━━━━━━━━━━\u001b[0m \u001b[1m0s\u001b[0m 992us/step - loss: 33.6677 - mae: 3.9875 - mse: 29.2342"
     ]
    },
    {
     "name": "stderr",
     "output_type": "stream",
     "text": [
      "2025-02-09 13:30:34,092 [13068] INFO     root: Epoch 42: Loss=24.0651, Val_Loss=22.7571, MAE=3.5028\n"
     ]
    },
    {
     "name": "stdout",
     "output_type": "stream",
     "text": [
      "\u001b[1m12/12\u001b[0m \u001b[32m━━━━━━━━━━━━━━━━━━━━\u001b[0m\u001b[37m\u001b[0m \u001b[1m0s\u001b[0m 6ms/step - loss: 25.4396 - mae: 3.6064 - mse: 25.4396 - val_loss: 22.7571 - val_mae: 3.6344 - val_mse: 22.7571\n",
      "Epoch 43/1000\n"
     ]
    },
    {
     "name": "stderr",
     "output_type": "stream",
     "text": [
      "2025-02-09 13:30:34,137 [13068] INFO     ml_monitor.logging: Starting metrics logging thread...\n"
     ]
    },
    {
     "name": "stdout",
     "output_type": "stream",
     "text": [
      "\u001b[1m 3/12\u001b[0m \u001b[32m━━━━━\u001b[0m\u001b[37m━━━━━━━━━━━━━━━\u001b[0m \u001b[1m0s\u001b[0m 3ms/step - loss: 22.3854 - mae: 3.4009 - mse: 24.4656 "
     ]
    },
    {
     "name": "stderr",
     "output_type": "stream",
     "text": [
      "2025-02-09 13:30:34,207 [13068] INFO     root: Epoch 43: Loss=23.6535, Val_Loss=22.5747, MAE=3.4813\n"
     ]
    },
    {
     "name": "stdout",
     "output_type": "stream",
     "text": [
      "\u001b[1m12/12\u001b[0m \u001b[32m━━━━━━━━━━━━━━━━━━━━\u001b[0m\u001b[37m\u001b[0m \u001b[1m0s\u001b[0m 6ms/step - loss: 25.0963 - mae: 3.5800 - mse: 25.0963 - val_loss: 22.5747 - val_mae: 3.6050 - val_mse: 22.5747\n",
      "Epoch 44/1000\n",
      "\u001b[1m 6/12\u001b[0m \u001b[32m━━━━━━━━━━\u001b[0m\u001b[37m━━━━━━━━━━\u001b[0m \u001b[1m0s\u001b[0m 1ms/step - loss: 15.8678 - mae: 3.0819 - mse: 18.293620"
     ]
    },
    {
     "name": "stderr",
     "output_type": "stream",
     "text": [
      "2025-02-09 13:30:34,309 [13068] INFO     root: Epoch 44: Loss=23.2945, Val_Loss=22.4575, MAE=3.4573\n"
     ]
    },
    {
     "name": "stdout",
     "output_type": "stream",
     "text": [
      "\u001b[1m12/12\u001b[0m \u001b[32m━━━━━━━━━━━━━━━━━━━━\u001b[0m\u001b[37m\u001b[0m \u001b[1m0s\u001b[0m 6ms/step - loss: 20.6075 - mae: 3.2737 - mse: 20.6075 - val_loss: 22.4575 - val_mae: 3.5783 - val_mse: 22.4575\n",
      "Epoch 45/1000\n",
      "\u001b[1m 6/12\u001b[0m \u001b[32m━━━━━━━━━━\u001b[0m\u001b[37m━━━━━━━━━━\u001b[0m \u001b[1m0s\u001b[0m 2ms/step - loss: 24.4823 - mae: 3.4567 - mse: 23.5486  "
     ]
    },
    {
     "name": "stderr",
     "output_type": "stream",
     "text": [
      "2025-02-09 13:30:34,405 [13068] INFO     root: Epoch 45: Loss=22.9028, Val_Loss=22.2600, MAE=3.4286\n"
     ]
    },
    {
     "name": "stdout",
     "output_type": "stream",
     "text": [
      "\u001b[1m12/12\u001b[0m \u001b[32m━━━━━━━━━━━━━━━━━━━━\u001b[0m\u001b[37m\u001b[0m \u001b[1m0s\u001b[0m 5ms/step - loss: 23.5056 - mae: 3.4429 - mse: 23.5056 - val_loss: 22.2600 - val_mae: 3.5398 - val_mse: 22.2600\n",
      "Epoch 46/1000\n",
      "\u001b[1m 8/12\u001b[0m \u001b[32m━━━━━━━━━━━━━\u001b[0m\u001b[37m━━━━━━━\u001b[0m \u001b[1m0s\u001b[0m 2ms/step - loss: 18.0285 - mae: 3.1243 - mse: 19.4801  "
     ]
    },
    {
     "name": "stderr",
     "output_type": "stream",
     "text": [
      "2025-02-09 13:30:34,500 [13068] INFO     root: Epoch 46: Loss=22.5399, Val_Loss=22.2878, MAE=3.3994\n"
     ]
    },
    {
     "name": "stdout",
     "output_type": "stream",
     "text": [
      "\u001b[1m12/12\u001b[0m \u001b[32m━━━━━━━━━━━━━━━━━━━━\u001b[0m\u001b[37m\u001b[0m \u001b[1m0s\u001b[0m 5ms/step - loss: 19.7155 - mae: 3.2239 - mse: 19.7155 - val_loss: 22.2878 - val_mae: 3.5246 - val_mse: 22.2878\n",
      "Epoch 47/1000\n",
      "\u001b[1m 3/12\u001b[0m \u001b[32m━━━━━\u001b[0m\u001b[37m━━━━━━━━━━━━━━━\u001b[0m \u001b[1m0s\u001b[0m 1ms/step - loss: 21.4724 - mae: 3.2072 - mse: 22.2966"
     ]
    },
    {
     "name": "stderr",
     "output_type": "stream",
     "text": [
      "2025-02-09 13:30:34,587 [13068] INFO     root: Epoch 47: Loss=22.1859, Val_Loss=22.1931, MAE=3.3718\n"
     ]
    },
    {
     "name": "stdout",
     "output_type": "stream",
     "text": [
      "\u001b[1m12/12\u001b[0m \u001b[32m━━━━━━━━━━━━━━━━━━━━\u001b[0m\u001b[37m\u001b[0m \u001b[1m0s\u001b[0m 4ms/step - loss: 22.2893 - mae: 3.3270 - mse: 22.2893 - val_loss: 22.1931 - val_mae: 3.5072 - val_mse: 22.1931\n",
      "Epoch 48/1000\n",
      "\u001b[1m 8/12\u001b[0m \u001b[32m━━━━━━━━━━━━━\u001b[0m\u001b[37m━━━━━━━\u001b[0m \u001b[1m0s\u001b[0m 2ms/step - loss: 16.9348 - mae: 3.1028 - mse: 18.60374"
     ]
    },
    {
     "name": "stderr",
     "output_type": "stream",
     "text": [
      "2025-02-09 13:30:34,677 [13068] INFO     root: Epoch 48: Loss=21.8664, Val_Loss=22.1014, MAE=3.3563\n"
     ]
    },
    {
     "name": "stdout",
     "output_type": "stream",
     "text": [
      "\u001b[1m12/12\u001b[0m \u001b[32m━━━━━━━━━━━━━━━━━━━━\u001b[0m\u001b[37m\u001b[0m \u001b[1m0s\u001b[0m 5ms/step - loss: 18.8547 - mae: 3.1223 - mse: 18.8547 - val_loss: 22.1014 - val_mae: 3.5026 - val_mse: 22.1014\n",
      "Epoch 49/1000\n",
      "\u001b[1m 6/12\u001b[0m \u001b[32m━━━━━━━━━━\u001b[0m\u001b[37m━━━━━━━━━━\u001b[0m \u001b[1m0s\u001b[0m 2ms/step - loss: 21.7049 - mae: 3.4583 - mse: 21.9923 "
     ]
    },
    {
     "name": "stderr",
     "output_type": "stream",
     "text": [
      "2025-02-09 13:30:34,765 [13068] INFO     root: Epoch 49: Loss=21.5723, Val_Loss=21.9519, MAE=3.3374\n"
     ]
    },
    {
     "name": "stdout",
     "output_type": "stream",
     "text": [
      "\u001b[1m12/12\u001b[0m \u001b[32m━━━━━━━━━━━━━━━━━━━━\u001b[0m\u001b[37m\u001b[0m \u001b[1m0s\u001b[0m 5ms/step - loss: 21.9012 - mae: 3.4218 - mse: 21.9012 - val_loss: 21.9519 - val_mae: 3.4850 - val_mse: 21.9519\n",
      "Epoch 50/1000\n",
      "\u001b[1m 6/12\u001b[0m \u001b[32m━━━━━━━━━━\u001b[0m\u001b[37m━━━━━━━━━━\u001b[0m \u001b[1m0s\u001b[0m 2ms/step - loss: 26.6713 - mae: 3.5127 - mse: 25.38298"
     ]
    },
    {
     "name": "stderr",
     "output_type": "stream",
     "text": [
      "2025-02-09 13:30:34,856 [13068] INFO     root: Epoch 50: Loss=21.2604, Val_Loss=21.9083, MAE=3.3139\n"
     ]
    },
    {
     "name": "stdout",
     "output_type": "stream",
     "text": [
      "\u001b[1m12/12\u001b[0m \u001b[32m━━━━━━━━━━━━━━━━━━━━\u001b[0m\u001b[37m\u001b[0m \u001b[1m0s\u001b[0m 5ms/step - loss: 24.1583 - mae: 3.4366 - mse: 24.1583 - val_loss: 21.9083 - val_mae: 3.4867 - val_mse: 21.9083\n",
      "Epoch 51/1000\n",
      "\u001b[1m 5/12\u001b[0m \u001b[32m━━━━━━━━\u001b[0m\u001b[37m━━━━━━━━━━━━\u001b[0m \u001b[1m0s\u001b[0m 2ms/step - loss: 14.1333 - mae: 2.8223 - mse: 14.4386  "
     ]
    },
    {
     "name": "stderr",
     "output_type": "stream",
     "text": [
      "2025-02-09 13:30:34,945 [13068] INFO     root: Epoch 51: Loss=20.9111, Val_Loss=21.7604, MAE=3.2913\n"
     ]
    },
    {
     "name": "stdout",
     "output_type": "stream",
     "text": [
      "\u001b[1m12/12\u001b[0m \u001b[32m━━━━━━━━━━━━━━━━━━━━\u001b[0m\u001b[37m\u001b[0m \u001b[1m0s\u001b[0m 5ms/step - loss: 17.7670 - mae: 3.0816 - mse: 17.7670 - val_loss: 21.7604 - val_mae: 3.4741 - val_mse: 21.7604\n",
      "Epoch 52/1000\n",
      "\u001b[1m 6/12\u001b[0m \u001b[32m━━━━━━━━━━\u001b[0m\u001b[37m━━━━━━━━━━\u001b[0m \u001b[1m0s\u001b[0m 2ms/step - loss: 18.4809 - mae: 3.2757 - mse: 18.35105"
     ]
    },
    {
     "name": "stderr",
     "output_type": "stream",
     "text": [
      "2025-02-09 13:30:35,040 [13068] INFO     root: Epoch 52: Loss=20.6050, Val_Loss=21.7138, MAE=3.2751\n"
     ]
    },
    {
     "name": "stdout",
     "output_type": "stream",
     "text": [
      "\u001b[1m12/12\u001b[0m \u001b[32m━━━━━━━━━━━━━━━━━━━━\u001b[0m\u001b[37m\u001b[0m \u001b[1m0s\u001b[0m 5ms/step - loss: 19.0058 - mae: 3.2493 - mse: 19.0058 - val_loss: 21.7138 - val_mae: 3.4760 - val_mse: 21.7138\n",
      "Epoch 53/1000\n",
      "\u001b[1m 3/12\u001b[0m \u001b[32m━━━━━\u001b[0m\u001b[37m━━━━━━━━━━━━━━━\u001b[0m \u001b[1m0s\u001b[0m 996us/step - loss: 20.8594 - mae: 3.1704 - mse: 21.0327"
     ]
    },
    {
     "name": "stderr",
     "output_type": "stream",
     "text": [
      "2025-02-09 13:30:35,137 [13068] INFO     root: Epoch 53: Loss=20.3638, Val_Loss=21.4318, MAE=3.2595\n"
     ]
    },
    {
     "name": "stdout",
     "output_type": "stream",
     "text": [
      "\u001b[1m12/12\u001b[0m \u001b[32m━━━━━━━━━━━━━━━━━━━━\u001b[0m\u001b[37m\u001b[0m \u001b[1m0s\u001b[0m 5ms/step - loss: 20.9105 - mae: 3.2172 - mse: 20.9105 - val_loss: 21.4318 - val_mae: 3.4484 - val_mse: 21.4318\n",
      "Epoch 54/1000\n",
      "\u001b[1m 7/12\u001b[0m \u001b[32m━━━━━━━━━━━\u001b[0m\u001b[37m━━━━━━━━━\u001b[0m \u001b[1m0s\u001b[0m 2ms/step - loss: 20.8314 - mae: 3.2441 - mse: 20.8235 "
     ]
    },
    {
     "name": "stderr",
     "output_type": "stream",
     "text": [
      "2025-02-09 13:30:35,242 [13068] INFO     root: Epoch 54: Loss=20.0603, Val_Loss=21.0170, MAE=3.2303\n"
     ]
    },
    {
     "name": "stdout",
     "output_type": "stream",
     "text": [
      "\u001b[1m12/12\u001b[0m \u001b[32m━━━━━━━━━━━━━━━━━━━━\u001b[0m\u001b[37m\u001b[0m \u001b[1m0s\u001b[0m 6ms/step - loss: 20.6248 - mae: 3.2381 - mse: 20.6248 - val_loss: 21.0170 - val_mae: 3.4132 - val_mse: 21.0170\n",
      "Epoch 55/1000\n",
      "\u001b[1m 7/12\u001b[0m \u001b[32m━━━━━━━━━━━\u001b[0m\u001b[37m━━━━━━━━━\u001b[0m \u001b[1m0s\u001b[0m 2ms/step - loss: 19.0120 - mae: 3.1578 - mse: 19.5579 "
     ]
    },
    {
     "name": "stderr",
     "output_type": "stream",
     "text": [
      "2025-02-09 13:30:35,345 [13068] INFO     root: Epoch 55: Loss=19.7926, Val_Loss=20.8650, MAE=3.2075\n"
     ]
    },
    {
     "name": "stdout",
     "output_type": "stream",
     "text": [
      "\u001b[1m12/12\u001b[0m \u001b[32m━━━━━━━━━━━━━━━━━━━━\u001b[0m\u001b[37m\u001b[0m \u001b[1m0s\u001b[0m 6ms/step - loss: 19.5760 - mae: 3.1616 - mse: 19.5760 - val_loss: 20.8650 - val_mae: 3.4026 - val_mse: 20.8650\n",
      "Epoch 56/1000\n",
      "\u001b[1m 8/12\u001b[0m \u001b[32m━━━━━━━━━━━━━\u001b[0m\u001b[37m━━━━━━━\u001b[0m \u001b[1m0s\u001b[0m 2ms/step - loss: 19.4342 - mae: 3.1082 - mse: 19.53933"
     ]
    },
    {
     "name": "stderr",
     "output_type": "stream",
     "text": [
      "2025-02-09 13:30:35,444 [13068] INFO     root: Epoch 56: Loss=19.5440, Val_Loss=20.7545, MAE=3.1887\n"
     ]
    },
    {
     "name": "stdout",
     "output_type": "stream",
     "text": [
      "\u001b[1m12/12\u001b[0m \u001b[32m━━━━━━━━━━━━━━━━━━━━\u001b[0m\u001b[37m\u001b[0m \u001b[1m0s\u001b[0m 5ms/step - loss: 19.4481 - mae: 3.1451 - mse: 19.4481 - val_loss: 20.7545 - val_mae: 3.4038 - val_mse: 20.7545\n",
      "Epoch 57/1000\n",
      "\u001b[1m 5/12\u001b[0m \u001b[32m━━━━━━━━\u001b[0m\u001b[37m━━━━━━━━━━━━\u001b[0m \u001b[1m0s\u001b[0m 3ms/step - loss: 20.0290 - mae: 3.2430 - mse: 19.7499 "
     ]
    },
    {
     "name": "stderr",
     "output_type": "stream",
     "text": [
      "2025-02-09 13:30:35,550 [13068] INFO     root: Epoch 57: Loss=19.2937, Val_Loss=20.4988, MAE=3.1679\n"
     ]
    },
    {
     "name": "stdout",
     "output_type": "stream",
     "text": [
      "\u001b[1m12/12\u001b[0m \u001b[32m━━━━━━━━━━━━━━━━━━━━\u001b[0m\u001b[37m\u001b[0m \u001b[1m0s\u001b[0m 6ms/step - loss: 19.5713 - mae: 3.2055 - mse: 19.5713 - val_loss: 20.4988 - val_mae: 3.3814 - val_mse: 20.4988\n",
      "Epoch 58/1000\n",
      "\u001b[1m 4/12\u001b[0m \u001b[32m━━━━━━\u001b[0m\u001b[37m━━━━━━━━━━━━━━\u001b[0m \u001b[1m0s\u001b[0m 2ms/step - loss: 18.8443 - mae: 3.3407 - mse: 18.64344"
     ]
    },
    {
     "name": "stderr",
     "output_type": "stream",
     "text": [
      "2025-02-09 13:30:35,655 [13068] INFO     root: Epoch 58: Loss=19.0690, Val_Loss=20.2854, MAE=3.1466\n"
     ]
    },
    {
     "name": "stdout",
     "output_type": "stream",
     "text": [
      "\u001b[1m12/12\u001b[0m \u001b[32m━━━━━━━━━━━━━━━━━━━━\u001b[0m\u001b[37m\u001b[0m \u001b[1m0s\u001b[0m 5ms/step - loss: 18.8714 - mae: 3.2389 - mse: 18.8714 - val_loss: 20.2854 - val_mae: 3.3715 - val_mse: 20.2854\n",
      "Epoch 59/1000\n",
      "\u001b[1m 5/12\u001b[0m \u001b[32m━━━━━━━━\u001b[0m\u001b[37m━━━━━━━━━━━━\u001b[0m \u001b[1m0s\u001b[0m 2ms/step - loss: 17.9786 - mae: 3.3194 - mse: 18.76451"
     ]
    },
    {
     "name": "stderr",
     "output_type": "stream",
     "text": [
      "2025-02-09 13:30:35,761 [13068] INFO     root: Epoch 59: Loss=18.8178, Val_Loss=20.0747, MAE=3.1257\n"
     ]
    },
    {
     "name": "stdout",
     "output_type": "stream",
     "text": [
      "\u001b[1m12/12\u001b[0m \u001b[32m━━━━━━━━━━━━━━━━━━━━\u001b[0m\u001b[37m\u001b[0m \u001b[1m0s\u001b[0m 6ms/step - loss: 18.9959 - mae: 3.2199 - mse: 18.9959 - val_loss: 20.0747 - val_mae: 3.3496 - val_mse: 20.0747\n",
      "Epoch 60/1000\n",
      "\u001b[1m 7/12\u001b[0m \u001b[32m━━━━━━━━━━━\u001b[0m\u001b[37m━━━━━━━━━\u001b[0m \u001b[1m0s\u001b[0m 2ms/step - loss: 18.6450 - mae: 3.0751 - mse: 18.6157  "
     ]
    },
    {
     "name": "stderr",
     "output_type": "stream",
     "text": [
      "2025-02-09 13:30:35,860 [13068] INFO     root: Epoch 60: Loss=18.5834, Val_Loss=19.9423, MAE=3.1105\n"
     ]
    },
    {
     "name": "stdout",
     "output_type": "stream",
     "text": [
      "\u001b[1m12/12\u001b[0m \u001b[32m━━━━━━━━━━━━━━━━━━━━\u001b[0m\u001b[37m\u001b[0m \u001b[1m0s\u001b[0m 5ms/step - loss: 18.5125 - mae: 3.0746 - mse: 18.5125 - val_loss: 19.9423 - val_mae: 3.3388 - val_mse: 19.9423\n",
      "Epoch 61/1000\n",
      "\u001b[1m 6/12\u001b[0m \u001b[32m━━━━━━━━━━\u001b[0m\u001b[37m━━━━━━━━━━\u001b[0m \u001b[1m0s\u001b[0m 2ms/step - loss: 17.3297 - mae: 2.9902 - mse: 17.20378"
     ]
    },
    {
     "name": "stderr",
     "output_type": "stream",
     "text": [
      "2025-02-09 13:30:35,960 [13068] INFO     root: Epoch 61: Loss=18.3090, Val_Loss=19.8142, MAE=3.0947\n"
     ]
    },
    {
     "name": "stdout",
     "output_type": "stream",
     "text": [
      "\u001b[1m12/12\u001b[0m \u001b[32m━━━━━━━━━━━━━━━━━━━━\u001b[0m\u001b[37m\u001b[0m \u001b[1m0s\u001b[0m 5ms/step - loss: 17.5375 - mae: 3.0096 - mse: 17.5375 - val_loss: 19.8142 - val_mae: 3.3205 - val_mse: 19.8142\n",
      "Epoch 62/1000\n",
      "\u001b[1m 6/12\u001b[0m \u001b[32m━━━━━━━━━━\u001b[0m\u001b[37m━━━━━━━━━━\u001b[0m \u001b[1m0s\u001b[0m 1ms/step - loss: 17.1606 - mae: 2.8149 - mse: 17.1606 "
     ]
    },
    {
     "name": "stderr",
     "output_type": "stream",
     "text": [
      "2025-02-09 13:30:36,059 [13068] INFO     root: Epoch 62: Loss=18.1142, Val_Loss=19.6068, MAE=3.0787\n"
     ]
    },
    {
     "name": "stdout",
     "output_type": "stream",
     "text": [
      "\u001b[1m12/12\u001b[0m \u001b[32m━━━━━━━━━━━━━━━━━━━━\u001b[0m\u001b[37m\u001b[0m \u001b[1m0s\u001b[0m 5ms/step - loss: 17.6563 - mae: 2.9611 - mse: 17.6563 - val_loss: 19.6068 - val_mae: 3.3038 - val_mse: 19.6068\n",
      "Epoch 63/1000\n",
      "\u001b[1m 8/12\u001b[0m \u001b[32m━━━━━━━━━━━━━\u001b[0m\u001b[37m━━━━━━━\u001b[0m \u001b[1m0s\u001b[0m 2ms/step - loss: 18.8780 - mae: 3.1312 - mse: 18.7760 "
     ]
    },
    {
     "name": "stderr",
     "output_type": "stream",
     "text": [
      "2025-02-09 13:30:36,156 [13068] INFO     root: Epoch 63: Loss=17.8731, Val_Loss=19.5009, MAE=3.0603\n"
     ]
    },
    {
     "name": "stdout",
     "output_type": "stream",
     "text": [
      "\u001b[1m12/12\u001b[0m \u001b[32m━━━━━━━━━━━━━━━━━━━━\u001b[0m\u001b[37m\u001b[0m \u001b[1m0s\u001b[0m 5ms/step - loss: 18.5672 - mae: 3.1118 - mse: 18.5672 - val_loss: 19.5009 - val_mae: 3.2957 - val_mse: 19.5009\n",
      "Epoch 64/1000\n",
      "\u001b[1m 8/12\u001b[0m \u001b[32m━━━━━━━━━━━━━\u001b[0m\u001b[37m━━━━━━━\u001b[0m \u001b[1m0s\u001b[0m 2ms/step - loss: 12.3922 - mae: 2.8331 - mse: 12.9350 "
     ]
    },
    {
     "name": "stderr",
     "output_type": "stream",
     "text": [
      "2025-02-09 13:30:36,261 [13068] INFO     root: Epoch 64: Loss=17.6212, Val_Loss=19.2643, MAE=3.0354\n"
     ]
    },
    {
     "name": "stdout",
     "output_type": "stream",
     "text": [
      "\u001b[1m12/12\u001b[0m \u001b[32m━━━━━━━━━━━━━━━━━━━━\u001b[0m\u001b[37m\u001b[0m \u001b[1m0s\u001b[0m 5ms/step - loss: 14.2245 - mae: 2.9077 - mse: 14.2245 - val_loss: 19.2643 - val_mae: 3.2833 - val_mse: 19.2643\n",
      "Epoch 65/1000\n",
      "\u001b[1m 8/12\u001b[0m \u001b[32m━━━━━━━━━━━━━\u001b[0m\u001b[37m━━━━━━━\u001b[0m \u001b[1m0s\u001b[0m 2ms/step - loss: 19.2561 - mae: 3.1706 - mse: 18.83875"
     ]
    },
    {
     "name": "stderr",
     "output_type": "stream",
     "text": [
      "2025-02-09 13:30:36,383 [13068] INFO     root: Epoch 65: Loss=17.4393, Val_Loss=18.9145, MAE=3.0191\n"
     ]
    },
    {
     "name": "stdout",
     "output_type": "stream",
     "text": [
      "\u001b[1m12/12\u001b[0m \u001b[32m━━━━━━━━━━━━━━━━━━━━\u001b[0m\u001b[37m\u001b[0m \u001b[1m0s\u001b[0m 7ms/step - loss: 18.7454 - mae: 3.1249 - mse: 18.7454 - val_loss: 18.9145 - val_mae: 3.2427 - val_mse: 18.9145\n",
      "Epoch 66/1000\n",
      "\u001b[1m 2/12\u001b[0m \u001b[32m━━━\u001b[0m\u001b[37m━━━━━━━━━━━━━━━━━\u001b[0m \u001b[1m0s\u001b[0m 1000us/step - loss: 33.4850 - mae: 3.6023 - mse: 25.3724"
     ]
    },
    {
     "name": "stderr",
     "output_type": "stream",
     "text": [
      "2025-02-09 13:30:36,561 [13068] INFO     root: Epoch 66: Loss=17.1612, Val_Loss=18.8566, MAE=2.9966\n"
     ]
    },
    {
     "name": "stdout",
     "output_type": "stream",
     "text": [
      "\u001b[1m12/12\u001b[0m \u001b[32m━━━━━━━━━━━━━━━━━━━━\u001b[0m\u001b[37m\u001b[0m \u001b[1m0s\u001b[0m 7ms/step - loss: 19.7952 - mae: 3.1652 - mse: 19.7952 - val_loss: 18.8566 - val_mae: 3.2507 - val_mse: 18.8566\n",
      "Epoch 67/1000\n",
      "\u001b[1m 4/12\u001b[0m \u001b[32m━━━━━━\u001b[0m\u001b[37m━━━━━━━━━━━━━━\u001b[0m \u001b[1m0s\u001b[0m 2ms/step - loss: 13.7744 - mae: 2.8628 - mse: 14.16019"
     ]
    },
    {
     "name": "stderr",
     "output_type": "stream",
     "text": [
      "2025-02-09 13:30:36,735 [13068] INFO     root: Epoch 67: Loss=16.9362, Val_Loss=18.5700, MAE=2.9771\n"
     ]
    },
    {
     "name": "stdout",
     "output_type": "stream",
     "text": [
      "\u001b[1m12/12\u001b[0m \u001b[32m━━━━━━━━━━━━━━━━━━━━\u001b[0m\u001b[37m\u001b[0m \u001b[1m0s\u001b[0m 8ms/step - loss: 15.0660 - mae: 2.9034 - mse: 15.0660 - val_loss: 18.5700 - val_mae: 3.2267 - val_mse: 18.5700\n",
      "Epoch 68/1000\n",
      "\u001b[1m 2/12\u001b[0m \u001b[32m━━━\u001b[0m\u001b[37m━━━━━━━━━━━━━━━━━\u001b[0m \u001b[1m0s\u001b[0m 3ms/step - loss: 11.5237 - mae: 2.7372 - mse: 12.8326 "
     ]
    },
    {
     "name": "stderr",
     "output_type": "stream",
     "text": [
      "2025-02-09 13:30:36,875 [13068] INFO     root: Epoch 68: Loss=16.7206, Val_Loss=18.5269, MAE=2.9651\n"
     ]
    },
    {
     "name": "stdout",
     "output_type": "stream",
     "text": [
      "\u001b[1m12/12\u001b[0m \u001b[32m━━━━━━━━━━━━━━━━━━━━\u001b[0m\u001b[37m\u001b[0m \u001b[1m0s\u001b[0m 6ms/step - loss: 14.2479 - mae: 2.8210 - mse: 14.2479 - val_loss: 18.5269 - val_mae: 3.2118 - val_mse: 18.5269\n",
      "Epoch 69/1000\n",
      "\u001b[1m 7/12\u001b[0m \u001b[32m━━━━━━━━━━━\u001b[0m\u001b[37m━━━━━━━━━\u001b[0m \u001b[1m0s\u001b[0m 2ms/step - loss: 12.2383 - mae: 2.6531 - mse: 12.9546 "
     ]
    },
    {
     "name": "stderr",
     "output_type": "stream",
     "text": [
      "2025-02-09 13:30:37,061 [13068] INFO     root: Epoch 69: Loss=16.5168, Val_Loss=18.5999, MAE=2.9448\n"
     ]
    },
    {
     "name": "stdout",
     "output_type": "stream",
     "text": [
      "\u001b[1m12/12\u001b[0m \u001b[32m━━━━━━━━━━━━━━━━━━━━\u001b[0m\u001b[37m\u001b[0m \u001b[1m0s\u001b[0m 8ms/step - loss: 13.7815 - mae: 2.7370 - mse: 13.7815 - val_loss: 18.5999 - val_mae: 3.2403 - val_mse: 18.5999\n",
      "Epoch 70/1000\n",
      "\u001b[1m 8/12\u001b[0m \u001b[32m━━━━━━━━━━━━━\u001b[0m\u001b[37m━━━━━━━\u001b[0m \u001b[1m0s\u001b[0m 3ms/step - loss: 15.0334 - mae: 2.8350 - mse: 15.6398 "
     ]
    },
    {
     "name": "stderr",
     "output_type": "stream",
     "text": [
      "2025-02-09 13:30:37,262 [13068] INFO     root: Epoch 70: Loss=16.2978, Val_Loss=18.3023, MAE=2.9236\n"
     ]
    },
    {
     "name": "stdout",
     "output_type": "stream",
     "text": [
      "\u001b[1m12/12\u001b[0m \u001b[32m━━━━━━━━━━━━━━━━━━━━\u001b[0m\u001b[37m\u001b[0m \u001b[1m0s\u001b[0m 10ms/step - loss: 15.6809 - mae: 2.8787 - mse: 15.6809 - val_loss: 18.3023 - val_mae: 3.2201 - val_mse: 18.3023\n",
      "Epoch 71/1000\n",
      "\u001b[1m 8/12\u001b[0m \u001b[32m━━━━━━━━━━━━━\u001b[0m\u001b[37m━━━━━━━\u001b[0m \u001b[1m0s\u001b[0m 2ms/step - loss: 15.2982 - mae: 2.7357 - mse: 15.4028"
     ]
    },
    {
     "name": "stderr",
     "output_type": "stream",
     "text": [
      "2025-02-09 13:30:37,429 [13068] INFO     root: Epoch 71: Loss=16.0862, Val_Loss=17.9522, MAE=2.8981\n"
     ]
    },
    {
     "name": "stdout",
     "output_type": "stream",
     "text": [
      "\u001b[1m12/12\u001b[0m \u001b[32m━━━━━━━━━━━━━━━━━━━━\u001b[0m\u001b[37m\u001b[0m \u001b[1m0s\u001b[0m 9ms/step - loss: 15.5080 - mae: 2.7887 - mse: 15.5080 - val_loss: 17.9522 - val_mae: 3.1923 - val_mse: 17.9522\n",
      "Epoch 72/1000\n",
      "\u001b[1m 4/12\u001b[0m \u001b[32m━━━━━━\u001b[0m\u001b[37m━━━━━━━━━━━━━━\u001b[0m \u001b[1m0s\u001b[0m 2ms/step - loss: 16.4762 - mae: 2.9014 - mse: 16.6859 "
     ]
    },
    {
     "name": "stderr",
     "output_type": "stream",
     "text": [
      "2025-02-09 13:30:37,584 [13068] INFO     root: Epoch 72: Loss=15.9039, Val_Loss=17.8586, MAE=2.8781\n"
     ]
    },
    {
     "name": "stdout",
     "output_type": "stream",
     "text": [
      "\u001b[1m12/12\u001b[0m \u001b[32m━━━━━━━━━━━━━━━━━━━━\u001b[0m\u001b[37m\u001b[0m \u001b[1m0s\u001b[0m 7ms/step - loss: 16.5817 - mae: 2.9071 - mse: 16.5817 - val_loss: 17.8586 - val_mae: 3.1936 - val_mse: 17.8586\n",
      "Epoch 73/1000\n",
      "\u001b[1m 7/12\u001b[0m \u001b[32m━━━━━━━━━━━\u001b[0m\u001b[37m━━━━━━━━━\u001b[0m \u001b[1m0s\u001b[0m 2ms/step - loss: 19.4654 - mae: 2.7926 - mse: 17.9752 "
     ]
    },
    {
     "name": "stderr",
     "output_type": "stream",
     "text": [
      "2025-02-09 13:30:37,747 [13068] INFO     root: Epoch 73: Loss=15.7329, Val_Loss=17.6505, MAE=2.8596\n"
     ]
    },
    {
     "name": "stdout",
     "output_type": "stream",
     "text": [
      "\u001b[1m12/12\u001b[0m \u001b[32m━━━━━━━━━━━━━━━━━━━━\u001b[0m\u001b[37m\u001b[0m \u001b[1m0s\u001b[0m 6ms/step - loss: 17.2290 - mae: 2.8074 - mse: 17.2290 - val_loss: 17.6505 - val_mae: 3.1784 - val_mse: 17.6505\n",
      "Epoch 74/1000\n",
      "\u001b[1m 8/12\u001b[0m \u001b[32m━━━━━━━━━━━━━\u001b[0m\u001b[37m━━━━━━━\u001b[0m \u001b[1m0s\u001b[0m 2ms/step - loss: 12.7179 - mae: 2.6931 - mse: 12.7179"
     ]
    },
    {
     "name": "stderr",
     "output_type": "stream",
     "text": [
      "2025-02-09 13:30:37,873 [13068] INFO     root: Epoch 74: Loss=15.5123, Val_Loss=17.5919, MAE=2.8308\n"
     ]
    },
    {
     "name": "stdout",
     "output_type": "stream",
     "text": [
      "\u001b[1m12/12\u001b[0m \u001b[32m━━━━━━━━━━━━━━━━━━━━\u001b[0m\u001b[37m\u001b[0m \u001b[1m0s\u001b[0m 6ms/step - loss: 14.2027 - mae: 2.7660 - mse: 14.2027 - val_loss: 17.5919 - val_mae: 3.1986 - val_mse: 17.5919\n",
      "Epoch 75/1000\n",
      "\u001b[1m 4/12\u001b[0m \u001b[32m━━━━━━\u001b[0m\u001b[37m━━━━━━━━━━━━━━\u001b[0m \u001b[1m0s\u001b[0m 2ms/step - loss: 18.0419 - mae: 3.1275 - mse: 17.8755 "
     ]
    },
    {
     "name": "stderr",
     "output_type": "stream",
     "text": [
      "2025-02-09 13:30:37,991 [13068] INFO     root: Epoch 75: Loss=15.3487, Val_Loss=17.1610, MAE=2.8063\n"
     ]
    },
    {
     "name": "stdout",
     "output_type": "stream",
     "text": [
      "\u001b[1m12/12\u001b[0m \u001b[32m━━━━━━━━━━━━━━━━━━━━\u001b[0m\u001b[37m\u001b[0m \u001b[1m0s\u001b[0m 6ms/step - loss: 16.5487 - mae: 2.9410 - mse: 16.5487 - val_loss: 17.1610 - val_mae: 3.1720 - val_mse: 17.1610\n",
      "Epoch 76/1000\n",
      "\u001b[1m 7/12\u001b[0m \u001b[32m━━━━━━━━━━━\u001b[0m\u001b[37m━━━━━━━━━\u001b[0m \u001b[1m0s\u001b[0m 2ms/step - loss: 19.3255 - mae: 2.9805 - mse: 17.3100 "
     ]
    },
    {
     "name": "stderr",
     "output_type": "stream",
     "text": [
      "2025-02-09 13:30:38,122 [13068] INFO     root: Epoch 76: Loss=15.1684, Val_Loss=16.8060, MAE=2.7837\n"
     ]
    },
    {
     "name": "stdout",
     "output_type": "stream",
     "text": [
      "\u001b[1m12/12\u001b[0m \u001b[32m━━━━━━━━━━━━━━━━━━━━\u001b[0m\u001b[37m\u001b[0m \u001b[1m0s\u001b[0m 7ms/step - loss: 17.1840 - mae: 2.9690 - mse: 17.1840 - val_loss: 16.8060 - val_mae: 3.1392 - val_mse: 16.8060\n",
      "Epoch 77/1000\n",
      "\u001b[1m 7/12\u001b[0m \u001b[32m━━━━━━━━━━━\u001b[0m\u001b[37m━━━━━━━━━\u001b[0m \u001b[1m0s\u001b[0m 2ms/step - loss: 13.1848 - mae: 2.6647 - mse: 14.0048 "
     ]
    },
    {
     "name": "stderr",
     "output_type": "stream",
     "text": [
      "2025-02-09 13:30:38,241 [13068] INFO     root: Epoch 77: Loss=15.0007, Val_Loss=16.5445, MAE=2.7652\n"
     ]
    },
    {
     "name": "stdout",
     "output_type": "stream",
     "text": [
      "\u001b[1m12/12\u001b[0m \u001b[32m━━━━━━━━━━━━━━━━━━━━\u001b[0m\u001b[37m\u001b[0m \u001b[1m0s\u001b[0m 7ms/step - loss: 14.0670 - mae: 2.6999 - mse: 14.0670 - val_loss: 16.5445 - val_mae: 3.1109 - val_mse: 16.5445\n",
      "Epoch 78/1000\n",
      "\u001b[1m 3/12\u001b[0m \u001b[32m━━━━━\u001b[0m\u001b[37m━━━━━━━━━━━━━━━\u001b[0m \u001b[1m0s\u001b[0m 3ms/step - loss: 25.6759 - mae: 3.1978 - mse: 22.32877"
     ]
    },
    {
     "name": "stderr",
     "output_type": "stream",
     "text": [
      "2025-02-09 13:30:38,359 [13068] INFO     root: Epoch 78: Loss=14.8238, Val_Loss=16.2499, MAE=2.7497\n"
     ]
    },
    {
     "name": "stdout",
     "output_type": "stream",
     "text": [
      "\u001b[1m12/12\u001b[0m \u001b[32m━━━━━━━━━━━━━━━━━━━━\u001b[0m\u001b[37m\u001b[0m \u001b[1m0s\u001b[0m 7ms/step - loss: 17.9308 - mae: 2.8778 - mse: 17.9308 - val_loss: 16.2499 - val_mae: 3.0770 - val_mse: 16.2499\n",
      "Epoch 79/1000\n",
      "\u001b[1m 5/12\u001b[0m \u001b[32m━━━━━━━━\u001b[0m\u001b[37m━━━━━━━━━━━━\u001b[0m \u001b[1m0s\u001b[0m 1ms/step - loss: 11.5452 - mae: 2.5516 - mse: 13.4121 "
     ]
    },
    {
     "name": "stderr",
     "output_type": "stream",
     "text": [
      "2025-02-09 13:30:38,479 [13068] INFO     root: Epoch 79: Loss=14.6505, Val_Loss=16.1229, MAE=2.7296\n"
     ]
    },
    {
     "name": "stdout",
     "output_type": "stream",
     "text": [
      "\u001b[1m12/12\u001b[0m \u001b[32m━━━━━━━━━━━━━━━━━━━━\u001b[0m\u001b[37m\u001b[0m \u001b[1m0s\u001b[0m 7ms/step - loss: 13.6313 - mae: 2.6820 - mse: 13.6313 - val_loss: 16.1229 - val_mae: 3.0673 - val_mse: 16.1229\n",
      "Epoch 80/1000\n",
      "\u001b[1m 5/12\u001b[0m \u001b[32m━━━━━━━━\u001b[0m\u001b[37m━━━━━━━━━━━━\u001b[0m \u001b[1m0s\u001b[0m 2ms/step - loss: 17.7160 - mae: 2.8753 - mse: 17.2194 "
     ]
    },
    {
     "name": "stderr",
     "output_type": "stream",
     "text": [
      "2025-02-09 13:30:38,594 [13068] INFO     root: Epoch 80: Loss=14.4733, Val_Loss=15.7414, MAE=2.7104\n"
     ]
    },
    {
     "name": "stdout",
     "output_type": "stream",
     "text": [
      "\u001b[1m12/12\u001b[0m \u001b[32m━━━━━━━━━━━━━━━━━━━━\u001b[0m\u001b[37m\u001b[0m \u001b[1m0s\u001b[0m 5ms/step - loss: 15.8669 - mae: 2.8145 - mse: 15.8669 - val_loss: 15.7414 - val_mae: 3.0410 - val_mse: 15.7414\n",
      "Epoch 81/1000\n",
      "\u001b[1m 7/12\u001b[0m \u001b[32m━━━━━━━━━━━\u001b[0m\u001b[37m━━━━━━━━━\u001b[0m \u001b[1m0s\u001b[0m 2ms/step - loss: 11.3966 - mae: 2.6068 - mse: 13.2388 "
     ]
    },
    {
     "name": "stderr",
     "output_type": "stream",
     "text": [
      "2025-02-09 13:30:38,690 [13068] INFO     root: Epoch 81: Loss=14.3195, Val_Loss=15.5769, MAE=2.6946\n"
     ]
    },
    {
     "name": "stdout",
     "output_type": "stream",
     "text": [
      "\u001b[1m12/12\u001b[0m \u001b[32m━━━━━━━━━━━━━━━━━━━━\u001b[0m\u001b[37m\u001b[0m \u001b[1m0s\u001b[0m 5ms/step - loss: 13.2988 - mae: 2.6580 - mse: 13.2988 - val_loss: 15.5769 - val_mae: 3.0290 - val_mse: 15.5769\n",
      "Epoch 82/1000\n",
      "\u001b[1m 3/12\u001b[0m \u001b[32m━━━━━\u001b[0m\u001b[37m━━━━━━━━━━━━━━━\u001b[0m \u001b[1m0s\u001b[0m 2ms/step - loss: 10.6168 - mae: 2.4550 - mse: 11.4490 "
     ]
    },
    {
     "name": "stderr",
     "output_type": "stream",
     "text": [
      "2025-02-09 13:30:38,806 [13068] INFO     root: Epoch 82: Loss=14.1936, Val_Loss=15.2726, MAE=2.6761\n"
     ]
    },
    {
     "name": "stdout",
     "output_type": "stream",
     "text": [
      "\u001b[1m12/12\u001b[0m \u001b[32m━━━━━━━━━━━━━━━━━━━━\u001b[0m\u001b[37m\u001b[0m \u001b[1m0s\u001b[0m 5ms/step - loss: 13.4273 - mae: 2.6075 - mse: 13.4273 - val_loss: 15.2726 - val_mae: 3.0230 - val_mse: 15.2726\n",
      "Epoch 83/1000\n",
      "\u001b[1m 5/12\u001b[0m \u001b[32m━━━━━━━━\u001b[0m\u001b[37m━━━━━━━━━━━━\u001b[0m \u001b[1m0s\u001b[0m 2ms/step - loss: 15.2518 - mae: 2.8304 - mse: 15.212485"
     ]
    },
    {
     "name": "stderr",
     "output_type": "stream",
     "text": [
      "2025-02-09 13:30:38,908 [13068] INFO     root: Epoch 83: Loss=14.0121, Val_Loss=15.1277, MAE=2.6540\n"
     ]
    },
    {
     "name": "stdout",
     "output_type": "stream",
     "text": [
      "\u001b[1m12/12\u001b[0m \u001b[32m━━━━━━━━━━━━━━━━━━━━\u001b[0m\u001b[37m\u001b[0m \u001b[1m0s\u001b[0m 6ms/step - loss: 14.7357 - mae: 2.7518 - mse: 14.7357 - val_loss: 15.1277 - val_mae: 3.0144 - val_mse: 15.1277\n",
      "Epoch 84/1000\n",
      "\u001b[1m 8/12\u001b[0m \u001b[32m━━━━━━━━━━━━━\u001b[0m\u001b[37m━━━━━━━\u001b[0m \u001b[1m0s\u001b[0m 2ms/step - loss: 10.7270 - mae: 2.4749 - mse: 10.7270"
     ]
    },
    {
     "name": "stderr",
     "output_type": "stream",
     "text": [
      "2025-02-09 13:30:39,008 [13068] INFO     root: Epoch 84: Loss=13.8535, Val_Loss=14.9554, MAE=2.6362\n"
     ]
    },
    {
     "name": "stdout",
     "output_type": "stream",
     "text": [
      "\u001b[1m12/12\u001b[0m \u001b[32m━━━━━━━━━━━━━━━━━━━━\u001b[0m\u001b[37m\u001b[0m \u001b[1m0s\u001b[0m 6ms/step - loss: 11.9735 - mae: 2.5380 - mse: 11.9735 - val_loss: 14.9554 - val_mae: 3.0001 - val_mse: 14.9554\n",
      "Epoch 85/1000\n",
      "\u001b[1m 5/12\u001b[0m \u001b[32m━━━━━━━━\u001b[0m\u001b[37m━━━━━━━━━━━━\u001b[0m \u001b[1m0s\u001b[0m 1ms/step - loss: 12.4462 - mae: 2.7043 - mse: 13.16037"
     ]
    },
    {
     "name": "stderr",
     "output_type": "stream",
     "text": [
      "2025-02-09 13:30:39,128 [13068] INFO     root: Epoch 85: Loss=13.7073, Val_Loss=14.8136, MAE=2.6245\n"
     ]
    },
    {
     "name": "stdout",
     "output_type": "stream",
     "text": [
      "\u001b[1m12/12\u001b[0m \u001b[32m━━━━━━━━━━━━━━━━━━━━\u001b[0m\u001b[37m\u001b[0m \u001b[1m0s\u001b[0m 7ms/step - loss: 13.1968 - mae: 2.6595 - mse: 13.1968 - val_loss: 14.8136 - val_mae: 2.9838 - val_mse: 14.8136\n",
      "Epoch 86/1000\n"
     ]
    },
    {
     "name": "stderr",
     "output_type": "stream",
     "text": [
      "2025-02-09 13:30:39,162 [13068] INFO     ml_monitor.logging: Starting metrics logging thread...\n"
     ]
    },
    {
     "name": "stdout",
     "output_type": "stream",
     "text": [
      "\u001b[1m 3/12\u001b[0m \u001b[32m━━━━━\u001b[0m\u001b[37m━━━━━━━━━━━━━━━\u001b[0m \u001b[1m0s\u001b[0m 2ms/step - loss: 12.1475 - mae: 2.5374 - mse: 13.2747 "
     ]
    },
    {
     "name": "stderr",
     "output_type": "stream",
     "text": [
      "2025-02-09 13:30:39,281 [13068] INFO     root: Epoch 86: Loss=13.5757, Val_Loss=14.6300, MAE=2.6127\n"
     ]
    },
    {
     "name": "stdout",
     "output_type": "stream",
     "text": [
      "\u001b[1m12/12\u001b[0m \u001b[32m━━━━━━━━━━━━━━━━━━━━\u001b[0m\u001b[37m\u001b[0m \u001b[1m0s\u001b[0m 7ms/step - loss: 13.3674 - mae: 2.5543 - mse: 13.3674 - val_loss: 14.6300 - val_mae: 2.9673 - val_mse: 14.6300\n",
      "Epoch 87/1000\n",
      "\u001b[1m 3/12\u001b[0m \u001b[32m━━━━━\u001b[0m\u001b[37m━━━━━━━━━━━━━━━\u001b[0m \u001b[1m0s\u001b[0m 2ms/step - loss: 20.8972 - mae: 2.9454 - mse: 17.29865"
     ]
    },
    {
     "name": "stderr",
     "output_type": "stream",
     "text": [
      "2025-02-09 13:30:39,415 [13068] INFO     root: Epoch 87: Loss=13.4613, Val_Loss=14.3822, MAE=2.6029\n"
     ]
    },
    {
     "name": "stdout",
     "output_type": "stream",
     "text": [
      "\u001b[1m12/12\u001b[0m \u001b[32m━━━━━━━━━━━━━━━━━━━━\u001b[0m\u001b[37m\u001b[0m \u001b[1m0s\u001b[0m 6ms/step - loss: 15.2359 - mae: 2.6819 - mse: 15.2359 - val_loss: 14.3822 - val_mae: 2.9427 - val_mse: 14.3822\n",
      "Epoch 88/1000\n",
      "\u001b[1m 4/12\u001b[0m \u001b[32m━━━━━━\u001b[0m\u001b[37m━━━━━━━━━━━━━━\u001b[0m \u001b[1m0s\u001b[0m 2ms/step - loss: 13.2064 - mae: 2.4106 - mse: 12.2872"
     ]
    },
    {
     "name": "stderr",
     "output_type": "stream",
     "text": [
      "2025-02-09 13:30:39,576 [13068] INFO     root: Epoch 88: Loss=13.3700, Val_Loss=14.5209, MAE=2.5892\n"
     ]
    },
    {
     "name": "stdout",
     "output_type": "stream",
     "text": [
      "\u001b[1m12/12\u001b[0m \u001b[32m━━━━━━━━━━━━━━━━━━━━\u001b[0m\u001b[37m\u001b[0m \u001b[1m0s\u001b[0m 6ms/step - loss: 12.5487 - mae: 2.4741 - mse: 12.5487 - val_loss: 14.5209 - val_mae: 2.9996 - val_mse: 14.5209\n",
      "Epoch 89/1000\n",
      "\u001b[1m 3/12\u001b[0m \u001b[32m━━━━━\u001b[0m\u001b[37m━━━━━━━━━━━━━━━\u001b[0m \u001b[1m0s\u001b[0m 1ms/step - loss: 9.9339 - mae: 2.3330 - mse: 10.4471 1"
     ]
    },
    {
     "name": "stderr",
     "output_type": "stream",
     "text": [
      "2025-02-09 13:30:39,699 [13068] INFO     root: Epoch 89: Loss=13.1932, Val_Loss=14.0010, MAE=2.5715\n"
     ]
    },
    {
     "name": "stdout",
     "output_type": "stream",
     "text": [
      "\u001b[1m12/12\u001b[0m \u001b[32m━━━━━━━━━━━━━━━━━━━━\u001b[0m\u001b[37m\u001b[0m \u001b[1m0s\u001b[0m 7ms/step - loss: 11.8874 - mae: 2.5232 - mse: 11.8874 - val_loss: 14.0010 - val_mae: 2.9262 - val_mse: 14.0010\n",
      "Epoch 90/1000\n",
      "\u001b[1m 4/12\u001b[0m \u001b[32m━━━━━━\u001b[0m\u001b[37m━━━━━━━━━━━━━━\u001b[0m \u001b[1m0s\u001b[0m 2ms/step - loss: 13.1840 - mae: 2.6462 - mse: 13.0461  "
     ]
    },
    {
     "name": "stderr",
     "output_type": "stream",
     "text": [
      "2025-02-09 13:30:39,902 [13068] INFO     root: Epoch 90: Loss=13.0658, Val_Loss=13.7522, MAE=2.5518\n"
     ]
    },
    {
     "name": "stdout",
     "output_type": "stream",
     "text": [
      "\u001b[1m12/12\u001b[0m \u001b[32m━━━━━━━━━━━━━━━━━━━━\u001b[0m\u001b[37m\u001b[0m \u001b[1m0s\u001b[0m 10ms/step - loss: 13.0670 - mae: 2.6113 - mse: 13.0670 - val_loss: 13.7522 - val_mae: 2.9221 - val_mse: 13.7522\n",
      "Epoch 91/1000\n",
      "\u001b[1m 4/12\u001b[0m \u001b[32m━━━━━━\u001b[0m\u001b[37m━━━━━━━━━━━━━━\u001b[0m \u001b[1m0s\u001b[0m 3ms/step - loss: 11.8335 - mae: 2.5793 - mse: 12.067639"
     ]
    },
    {
     "name": "stderr",
     "output_type": "stream",
     "text": [
      "2025-02-09 13:30:40,200 [13068] INFO     root: Epoch 91: Loss=12.9183, Val_Loss=13.5225, MAE=2.5358\n"
     ]
    },
    {
     "name": "stdout",
     "output_type": "stream",
     "text": [
      "\u001b[1m12/12\u001b[0m \u001b[32m━━━━━━━━━━━━━━━━━━━━\u001b[0m\u001b[37m\u001b[0m \u001b[1m0s\u001b[0m 7ms/step - loss: 12.1995 - mae: 2.5566 - mse: 12.1995 - val_loss: 13.5225 - val_mae: 2.8909 - val_mse: 13.5225\n",
      "Epoch 92/1000\n",
      "\u001b[1m 2/12\u001b[0m \u001b[32m━━━\u001b[0m\u001b[37m━━━━━━━━━━━━━━━━━\u001b[0m \u001b[1m0s\u001b[0m 8ms/step - loss: 8.5998 - mae: 2.3529 - mse: 10.3871"
     ]
    },
    {
     "name": "stderr",
     "output_type": "stream",
     "text": [
      "2025-02-09 13:30:40,395 [13068] INFO     root: Epoch 92: Loss=12.7916, Val_Loss=13.4799, MAE=2.5126\n"
     ]
    },
    {
     "name": "stdout",
     "output_type": "stream",
     "text": [
      "\u001b[1m12/12\u001b[0m \u001b[32m━━━━━━━━━━━━━━━━━━━━\u001b[0m\u001b[37m\u001b[0m \u001b[1m0s\u001b[0m 9ms/step - loss: 10.4964 - mae: 2.3602 - mse: 10.4964 - val_loss: 13.4799 - val_mae: 2.9270 - val_mse: 13.4799\n",
      "Epoch 93/1000\n",
      "\u001b[1m 4/12\u001b[0m \u001b[32m━━━━━━\u001b[0m\u001b[37m━━━━━━━━━━━━━━\u001b[0m \u001b[1m0s\u001b[0m 2ms/step - loss: 8.5431 - mae: 2.2399 - mse: 8.7419 "
     ]
    },
    {
     "name": "stderr",
     "output_type": "stream",
     "text": [
      "2025-02-09 13:30:40,558 [13068] INFO     root: Epoch 93: Loss=12.7043, Val_Loss=13.0885, MAE=2.4987\n"
     ]
    },
    {
     "name": "stdout",
     "output_type": "stream",
     "text": [
      "\u001b[1m12/12\u001b[0m \u001b[32m━━━━━━━━━━━━━━━━━━━━\u001b[0m\u001b[37m\u001b[0m \u001b[1m0s\u001b[0m 8ms/step - loss: 11.3127 - mae: 2.3967 - mse: 11.3127 - val_loss: 13.0885 - val_mae: 2.8832 - val_mse: 13.0885\n",
      "Epoch 94/1000\n",
      "\u001b[1m 5/12\u001b[0m \u001b[32m━━━━━━━━\u001b[0m\u001b[37m━━━━━━━━━━━━\u001b[0m \u001b[1m0s\u001b[0m 3ms/step - loss: 15.8503 - mae: 2.5403 - mse: 14.6204 43"
     ]
    },
    {
     "name": "stderr",
     "output_type": "stream",
     "text": [
      "2025-02-09 13:30:40,686 [13068] INFO     root: Epoch 94: Loss=12.5451, Val_Loss=13.1530, MAE=2.4827\n"
     ]
    },
    {
     "name": "stdout",
     "output_type": "stream",
     "text": [
      "\u001b[1m12/12\u001b[0m \u001b[32m━━━━━━━━━━━━━━━━━━━━\u001b[0m\u001b[37m\u001b[0m \u001b[1m0s\u001b[0m 7ms/step - loss: 13.8551 - mae: 2.4853 - mse: 13.8551 - val_loss: 13.1530 - val_mae: 2.8926 - val_mse: 13.1530\n",
      "Epoch 95/1000\n",
      "\u001b[1m 4/12\u001b[0m \u001b[32m━━━━━━\u001b[0m\u001b[37m━━━━━━━━━━━━━━\u001b[0m \u001b[1m0s\u001b[0m 2ms/step - loss: 9.1863 - mae: 2.3363 - mse: 10.7721"
     ]
    },
    {
     "name": "stderr",
     "output_type": "stream",
     "text": [
      "2025-02-09 13:30:40,800 [13068] INFO     root: Epoch 95: Loss=12.4264, Val_Loss=13.0448, MAE=2.4695\n"
     ]
    },
    {
     "name": "stdout",
     "output_type": "stream",
     "text": [
      "\u001b[1m12/12\u001b[0m \u001b[32m━━━━━━━━━━━━━━━━━━━━\u001b[0m\u001b[37m\u001b[0m \u001b[1m0s\u001b[0m 6ms/step - loss: 11.3637 - mae: 2.4480 - mse: 11.3637 - val_loss: 13.0448 - val_mae: 2.9076 - val_mse: 13.0448\n",
      "Epoch 96/1000\n",
      "\u001b[1m 5/12\u001b[0m \u001b[32m━━━━━━━━\u001b[0m\u001b[37m━━━━━━━━━━━━\u001b[0m \u001b[1m0s\u001b[0m 4ms/step - loss: 9.5875 - mae: 2.2570 - mse: 10.9819 "
     ]
    },
    {
     "name": "stderr",
     "output_type": "stream",
     "text": [
      "2025-02-09 13:30:40,997 [13068] INFO     root: Epoch 96: Loss=12.3008, Val_Loss=12.6976, MAE=2.4567\n"
     ]
    },
    {
     "name": "stdout",
     "output_type": "stream",
     "text": [
      "\u001b[1m12/12\u001b[0m \u001b[32m━━━━━━━━━━━━━━━━━━━━\u001b[0m\u001b[37m\u001b[0m \u001b[1m0s\u001b[0m 8ms/step - loss: 11.3635 - mae: 2.3246 - mse: 11.3635 - val_loss: 12.6976 - val_mae: 2.8559 - val_mse: 12.6976\n",
      "Epoch 97/1000\n",
      "\u001b[1m 4/12\u001b[0m \u001b[32m━━━━━━\u001b[0m\u001b[37m━━━━━━━━━━━━━━\u001b[0m \u001b[1m0s\u001b[0m 2ms/step - loss: 11.3098 - mae: 2.4693 - mse: 11.19616"
     ]
    },
    {
     "name": "stderr",
     "output_type": "stream",
     "text": [
      "2025-02-09 13:30:41,159 [13068] INFO     root: Epoch 97: Loss=12.2246, Val_Loss=12.5147, MAE=2.4427\n"
     ]
    },
    {
     "name": "stdout",
     "output_type": "stream",
     "text": [
      "\u001b[1m12/12\u001b[0m \u001b[32m━━━━━━━━━━━━━━━━━━━━\u001b[0m\u001b[37m\u001b[0m \u001b[1m0s\u001b[0m 7ms/step - loss: 11.5358 - mae: 2.4526 - mse: 11.5358 - val_loss: 12.5147 - val_mae: 2.8689 - val_mse: 12.5147\n",
      "Epoch 98/1000\n",
      "\u001b[1m 6/12\u001b[0m \u001b[32m━━━━━━━━━━\u001b[0m\u001b[37m━━━━━━━━━━\u001b[0m \u001b[1m0s\u001b[0m 2ms/step - loss: 13.5455 - mae: 2.6045 - mse: 13.0659 "
     ]
    },
    {
     "name": "stderr",
     "output_type": "stream",
     "text": [
      "2025-02-09 13:30:41,283 [13068] INFO     root: Epoch 98: Loss=12.0856, Val_Loss=12.1085, MAE=2.4278\n"
     ]
    },
    {
     "name": "stdout",
     "output_type": "stream",
     "text": [
      "\u001b[1m12/12\u001b[0m \u001b[32m━━━━━━━━━━━━━━━━━━━━\u001b[0m\u001b[37m\u001b[0m \u001b[1m0s\u001b[0m 7ms/step - loss: 13.0114 - mae: 2.5484 - mse: 13.0114 - val_loss: 12.1085 - val_mae: 2.7999 - val_mse: 12.1085\n",
      "Epoch 99/1000\n",
      "\u001b[1m 6/12\u001b[0m \u001b[32m━━━━━━━━━━\u001b[0m\u001b[37m━━━━━━━━━━\u001b[0m \u001b[1m0s\u001b[0m 3ms/step - loss: 9.6330 - mae: 2.3770 - mse: 10.26024"
     ]
    },
    {
     "name": "stderr",
     "output_type": "stream",
     "text": [
      "2025-02-09 13:30:41,453 [13068] INFO     root: Epoch 99: Loss=11.9692, Val_Loss=12.0572, MAE=2.4166\n"
     ]
    },
    {
     "name": "stdout",
     "output_type": "stream",
     "text": [
      "\u001b[1m12/12\u001b[0m \u001b[32m━━━━━━━━━━━━━━━━━━━━\u001b[0m\u001b[37m\u001b[0m \u001b[1m0s\u001b[0m 7ms/step - loss: 10.9986 - mae: 2.3938 - mse: 10.9986 - val_loss: 12.0572 - val_mae: 2.8129 - val_mse: 12.0572\n",
      "Epoch 100/1000\n",
      "\u001b[1m 3/12\u001b[0m \u001b[32m━━━━━\u001b[0m\u001b[37m━━━━━━━━━━━━━━━\u001b[0m \u001b[1m0s\u001b[0m 3ms/step - loss: 12.2615 - mae: 2.5476 - mse: 12.0189 "
     ]
    },
    {
     "name": "stderr",
     "output_type": "stream",
     "text": [
      "2025-02-09 13:30:41,575 [13068] INFO     root: Epoch 100: Loss=11.8755, Val_Loss=12.1309, MAE=2.4158\n"
     ]
    },
    {
     "name": "stdout",
     "output_type": "stream",
     "text": [
      "\u001b[1m12/12\u001b[0m \u001b[32m━━━━━━━━━━━━━━━━━━━━\u001b[0m\u001b[37m\u001b[0m \u001b[1m0s\u001b[0m 7ms/step - loss: 11.4722 - mae: 2.4292 - mse: 11.4722 - val_loss: 12.1309 - val_mae: 2.8030 - val_mse: 12.1309\n",
      "Epoch 101/1000\n",
      "\u001b[1m 4/12\u001b[0m \u001b[32m━━━━━━\u001b[0m\u001b[37m━━━━━━━━━━━━━━\u001b[0m \u001b[1m0s\u001b[0m 2ms/step - loss: 11.0816 - mae: 2.3140 - mse: 10.1254 "
     ]
    },
    {
     "name": "stderr",
     "output_type": "stream",
     "text": [
      "2025-02-09 13:30:41,681 [13068] INFO     root: Epoch 101: Loss=11.7478, Val_Loss=11.8507, MAE=2.4015\n"
     ]
    },
    {
     "name": "stdout",
     "output_type": "stream",
     "text": [
      "\u001b[1m12/12\u001b[0m \u001b[32m━━━━━━━━━━━━━━━━━━━━\u001b[0m\u001b[37m\u001b[0m \u001b[1m0s\u001b[0m 6ms/step - loss: 10.5309 - mae: 2.3065 - mse: 10.5309 - val_loss: 11.8507 - val_mae: 2.7908 - val_mse: 11.8507\n",
      "Epoch 102/1000\n",
      "\u001b[1m 4/12\u001b[0m \u001b[32m━━━━━━\u001b[0m\u001b[37m━━━━━━━━━━━━━━\u001b[0m \u001b[1m0s\u001b[0m 2ms/step - loss: 11.5436 - mae: 2.4409 - mse: 12.6663  "
     ]
    },
    {
     "name": "stderr",
     "output_type": "stream",
     "text": [
      "2025-02-09 13:30:41,771 [13068] INFO     root: Epoch 102: Loss=11.7433, Val_Loss=11.7894, MAE=2.4018\n"
     ]
    },
    {
     "name": "stdout",
     "output_type": "stream",
     "text": [
      "\u001b[1m12/12\u001b[0m \u001b[32m━━━━━━━━━━━━━━━━━━━━\u001b[0m\u001b[37m\u001b[0m \u001b[1m0s\u001b[0m 5ms/step - loss: 12.8138 - mae: 2.5021 - mse: 12.8138 - val_loss: 11.7894 - val_mae: 2.7439 - val_mse: 11.7894\n",
      "Epoch 103/1000\n",
      "\u001b[1m 6/12\u001b[0m \u001b[32m━━━━━━━━━━\u001b[0m\u001b[37m━━━━━━━━━━\u001b[0m \u001b[1m0s\u001b[0m 1ms/step - loss: 10.6838 - mae: 2.3888 - mse: 10.7949 "
     ]
    },
    {
     "name": "stderr",
     "output_type": "stream",
     "text": [
      "2025-02-09 13:30:41,877 [13068] INFO     root: Epoch 103: Loss=11.5472, Val_Loss=11.8091, MAE=2.3886\n"
     ]
    },
    {
     "name": "stdout",
     "output_type": "stream",
     "text": [
      "\u001b[1m12/12\u001b[0m \u001b[32m━━━━━━━━━━━━━━━━━━━━\u001b[0m\u001b[37m\u001b[0m \u001b[1m0s\u001b[0m 6ms/step - loss: 10.9250 - mae: 2.3726 - mse: 10.9250 - val_loss: 11.8091 - val_mae: 2.7772 - val_mse: 11.8091\n",
      "Epoch 104/1000\n",
      "\u001b[1m 5/12\u001b[0m \u001b[32m━━━━━━━━\u001b[0m\u001b[37m━━━━━━━━━━━━\u001b[0m \u001b[1m0s\u001b[0m 1ms/step - loss: 9.6776 - mae: 2.2635 - mse: 9.7394 "
     ]
    },
    {
     "name": "stderr",
     "output_type": "stream",
     "text": [
      "2025-02-09 13:30:42,010 [13068] INFO     root: Epoch 104: Loss=11.4556, Val_Loss=11.8028, MAE=2.3669\n"
     ]
    },
    {
     "name": "stdout",
     "output_type": "stream",
     "text": [
      "\u001b[1m12/12\u001b[0m \u001b[32m━━━━━━━━━━━━━━━━━━━━\u001b[0m\u001b[37m\u001b[0m \u001b[1m0s\u001b[0m 8ms/step - loss: 10.3589 - mae: 2.3159 - mse: 10.3589 - val_loss: 11.8028 - val_mae: 2.8440 - val_mse: 11.8028\n",
      "Epoch 105/1000\n",
      "\u001b[1m 7/12\u001b[0m \u001b[32m━━━━━━━━━━━\u001b[0m\u001b[37m━━━━━━━━━\u001b[0m \u001b[1m0s\u001b[0m 2ms/step - loss: 12.2488 - mae: 2.3846 - mse: 12.1070"
     ]
    },
    {
     "name": "stderr",
     "output_type": "stream",
     "text": [
      "2025-02-09 13:30:42,143 [13068] INFO     root: Epoch 105: Loss=11.3726, Val_Loss=11.6333, MAE=2.3559\n"
     ]
    },
    {
     "name": "stdout",
     "output_type": "stream",
     "text": [
      "\u001b[1m12/12\u001b[0m \u001b[32m━━━━━━━━━━━━━━━━━━━━\u001b[0m\u001b[37m\u001b[0m \u001b[1m0s\u001b[0m 8ms/step - loss: 12.0505 - mae: 2.3824 - mse: 12.0505 - val_loss: 11.6333 - val_mae: 2.8102 - val_mse: 11.6333\n",
      "Epoch 106/1000\n",
      "\u001b[1m 4/12\u001b[0m \u001b[32m━━━━━━\u001b[0m\u001b[37m━━━━━━━━━━━━━━\u001b[0m \u001b[1m0s\u001b[0m 1000us/step - loss: 8.6329 - mae: 2.1796 - mse: 8.5928"
     ]
    },
    {
     "name": "stderr",
     "output_type": "stream",
     "text": [
      "2025-02-09 13:30:42,263 [13068] INFO     root: Epoch 106: Loss=11.2428, Val_Loss=11.2734, MAE=2.3476\n"
     ]
    },
    {
     "name": "stdout",
     "output_type": "stream",
     "text": [
      "\u001b[1m12/12\u001b[0m \u001b[32m━━━━━━━━━━━━━━━━━━━━\u001b[0m\u001b[37m\u001b[0m \u001b[1m0s\u001b[0m 6ms/step - loss: 10.0971 - mae: 2.2800 - mse: 10.0971 - val_loss: 11.2734 - val_mae: 2.7575 - val_mse: 11.2734\n",
      "Epoch 107/1000\n",
      "\u001b[1m 2/12\u001b[0m \u001b[32m━━━\u001b[0m\u001b[37m━━━━━━━━━━━━━━━━━\u001b[0m \u001b[1m0s\u001b[0m 3ms/step - loss: 12.1094 - mae: 2.4406 - mse: 12.5036"
     ]
    },
    {
     "name": "stderr",
     "output_type": "stream",
     "text": [
      "2025-02-09 13:30:42,436 [13068] INFO     root: Epoch 107: Loss=11.1593, Val_Loss=11.1400, MAE=2.3361\n"
     ]
    },
    {
     "name": "stdout",
     "output_type": "stream",
     "text": [
      "\u001b[1m12/12\u001b[0m \u001b[32m━━━━━━━━━━━━━━━━━━━━\u001b[0m\u001b[37m\u001b[0m \u001b[1m0s\u001b[0m 7ms/step - loss: 11.6635 - mae: 2.3597 - mse: 11.6635 - val_loss: 11.1400 - val_mae: 2.7473 - val_mse: 11.1400\n",
      "Epoch 108/1000\n",
      "\u001b[1m 8/12\u001b[0m \u001b[32m━━━━━━━━━━━━━\u001b[0m\u001b[37m━━━━━━━\u001b[0m \u001b[1m0s\u001b[0m 2ms/step - loss: 11.7518 - mae: 2.5081 - mse: 11.559134"
     ]
    },
    {
     "name": "stderr",
     "output_type": "stream",
     "text": [
      "2025-02-09 13:30:42,567 [13068] INFO     root: Epoch 108: Loss=11.0703, Val_Loss=11.1451, MAE=2.3308\n"
     ]
    },
    {
     "name": "stdout",
     "output_type": "stream",
     "text": [
      "\u001b[1m12/12\u001b[0m \u001b[32m━━━━━━━━━━━━━━━━━━━━\u001b[0m\u001b[37m\u001b[0m \u001b[1m0s\u001b[0m 8ms/step - loss: 11.5215 - mae: 2.4465 - mse: 11.5215 - val_loss: 11.1451 - val_mae: 2.7304 - val_mse: 11.1451\n",
      "Epoch 109/1000\n",
      "\u001b[1m 3/12\u001b[0m \u001b[32m━━━━━\u001b[0m\u001b[37m━━━━━━━━━━━━━━━\u001b[0m \u001b[1m0s\u001b[0m 3ms/step - loss: 8.3167 - mae: 2.1696 - mse: 8.7203 "
     ]
    },
    {
     "name": "stderr",
     "output_type": "stream",
     "text": [
      "2025-02-09 13:30:42,679 [13068] INFO     root: Epoch 109: Loss=11.0077, Val_Loss=11.0033, MAE=2.3228\n"
     ]
    },
    {
     "name": "stdout",
     "output_type": "stream",
     "text": [
      "\u001b[1m12/12\u001b[0m \u001b[32m━━━━━━━━━━━━━━━━━━━━\u001b[0m\u001b[37m\u001b[0m \u001b[1m0s\u001b[0m 6ms/step - loss: 9.3549 - mae: 2.2442 - mse: 9.3549 - val_loss: 11.0033 - val_mae: 2.7227 - val_mse: 11.0033\n",
      "Epoch 110/1000\n",
      "\u001b[1m 4/12\u001b[0m \u001b[32m━━━━━━\u001b[0m\u001b[37m━━━━━━━━━━━━━━\u001b[0m \u001b[1m0s\u001b[0m 2ms/step - loss: 17.6983 - mae: 2.6114 - mse: 16.8868  "
     ]
    },
    {
     "name": "stderr",
     "output_type": "stream",
     "text": [
      "2025-02-09 13:30:42,799 [13068] INFO     root: Epoch 110: Loss=10.9406, Val_Loss=10.9912, MAE=2.3170\n"
     ]
    },
    {
     "name": "stdout",
     "output_type": "stream",
     "text": [
      "\u001b[1m12/12\u001b[0m \u001b[32m━━━━━━━━━━━━━━━━━━━━\u001b[0m\u001b[37m\u001b[0m \u001b[1m0s\u001b[0m 7ms/step - loss: 13.1846 - mae: 2.4423 - mse: 13.1846 - val_loss: 10.9912 - val_mae: 2.7195 - val_mse: 10.9912\n",
      "Epoch 111/1000\n",
      "\u001b[1m 6/12\u001b[0m \u001b[32m━━━━━━━━━━\u001b[0m\u001b[37m━━━━━━━━━━\u001b[0m \u001b[1m0s\u001b[0m 2ms/step - loss: 8.9449 - mae: 2.0809 - mse: 9.0582 "
     ]
    },
    {
     "name": "stderr",
     "output_type": "stream",
     "text": [
      "2025-02-09 13:30:42,922 [13068] INFO     root: Epoch 111: Loss=10.8189, Val_Loss=10.8753, MAE=2.3072\n"
     ]
    },
    {
     "name": "stdout",
     "output_type": "stream",
     "text": [
      "\u001b[1m12/12\u001b[0m \u001b[32m━━━━━━━━━━━━━━━━━━━━\u001b[0m\u001b[37m\u001b[0m \u001b[1m0s\u001b[0m 6ms/step - loss: 9.5149 - mae: 2.1813 - mse: 9.5149 - val_loss: 10.8753 - val_mae: 2.7290 - val_mse: 10.8753\n",
      "Epoch 112/1000\n",
      "\u001b[1m 5/12\u001b[0m \u001b[32m━━━━━━━━\u001b[0m\u001b[37m━━━━━━━━━━━━\u001b[0m \u001b[1m0s\u001b[0m 1ms/step - loss: 8.1715 - mae: 2.0858 - mse: 9.0212 15"
     ]
    },
    {
     "name": "stderr",
     "output_type": "stream",
     "text": [
      "2025-02-09 13:30:43,024 [13068] INFO     root: Epoch 112: Loss=10.7447, Val_Loss=10.6924, MAE=2.2965\n"
     ]
    },
    {
     "name": "stdout",
     "output_type": "stream",
     "text": [
      "\u001b[1m12/12\u001b[0m \u001b[32m━━━━━━━━━━━━━━━━━━━━\u001b[0m\u001b[37m\u001b[0m \u001b[1m0s\u001b[0m 6ms/step - loss: 9.6221 - mae: 2.1681 - mse: 9.6221 - val_loss: 10.6924 - val_mae: 2.7155 - val_mse: 10.6924\n",
      "Epoch 113/1000\n",
      "\u001b[1m 4/12\u001b[0m \u001b[32m━━━━━━\u001b[0m\u001b[37m━━━━━━━━━━━━━━\u001b[0m \u001b[1m0s\u001b[0m 5ms/step - loss: 7.2318 - mae: 2.1005 - mse: 8.703246"
     ]
    },
    {
     "name": "stderr",
     "output_type": "stream",
     "text": [
      "2025-02-09 13:30:43,218 [13068] INFO     root: Epoch 113: Loss=10.6703, Val_Loss=10.4964, MAE=2.2864\n"
     ]
    },
    {
     "name": "stdout",
     "output_type": "stream",
     "text": [
      "\u001b[1m12/12\u001b[0m \u001b[32m━━━━━━━━━━━━━━━━━━━━\u001b[0m\u001b[37m\u001b[0m \u001b[1m0s\u001b[0m 7ms/step - loss: 9.3796 - mae: 2.1713 - mse: 9.3796 - val_loss: 10.4964 - val_mae: 2.6801 - val_mse: 10.4964\n",
      "Epoch 114/1000\n",
      "\u001b[1m 4/12\u001b[0m \u001b[32m━━━━━━\u001b[0m\u001b[37m━━━━━━━━━━━━━━\u001b[0m \u001b[1m0s\u001b[0m 3ms/step - loss: 12.5619 - mae: 2.4594 - mse: 12.0476 "
     ]
    },
    {
     "name": "stderr",
     "output_type": "stream",
     "text": [
      "2025-02-09 13:30:43,330 [13068] INFO     root: Epoch 114: Loss=10.5968, Val_Loss=10.3731, MAE=2.2809\n"
     ]
    },
    {
     "name": "stdout",
     "output_type": "stream",
     "text": [
      "\u001b[1m12/12\u001b[0m \u001b[32m━━━━━━━━━━━━━━━━━━━━\u001b[0m\u001b[37m\u001b[0m \u001b[1m0s\u001b[0m 6ms/step - loss: 11.5342 - mae: 2.3721 - mse: 11.5342 - val_loss: 10.3731 - val_mae: 2.6652 - val_mse: 10.3731\n",
      "Epoch 115/1000\n",
      "\u001b[1m 4/12\u001b[0m \u001b[32m━━━━━━\u001b[0m\u001b[37m━━━━━━━━━━━━━━\u001b[0m \u001b[1m0s\u001b[0m 3ms/step - loss: 7.5962 - mae: 2.0038 - mse: 9.67127"
     ]
    },
    {
     "name": "stderr",
     "output_type": "stream",
     "text": [
      "2025-02-09 13:30:43,458 [13068] INFO     root: Epoch 115: Loss=10.5198, Val_Loss=10.4141, MAE=2.2767\n"
     ]
    },
    {
     "name": "stdout",
     "output_type": "stream",
     "text": [
      "\u001b[1m12/12\u001b[0m \u001b[32m━━━━━━━━━━━━━━━━━━━━\u001b[0m\u001b[37m\u001b[0m \u001b[1m0s\u001b[0m 7ms/step - loss: 9.8018 - mae: 2.1518 - mse: 9.8018 - val_loss: 10.4141 - val_mae: 2.6870 - val_mse: 10.4141\n",
      "Epoch 116/1000\n",
      "\u001b[1m 5/12\u001b[0m \u001b[32m━━━━━━━━\u001b[0m\u001b[37m━━━━━━━━━━━━\u001b[0m \u001b[1m0s\u001b[0m 3ms/step - loss: 16.6235 - mae: 2.4901 - mse: 14.46664"
     ]
    },
    {
     "name": "stderr",
     "output_type": "stream",
     "text": [
      "2025-02-09 13:30:43,632 [13068] INFO     root: Epoch 116: Loss=10.4579, Val_Loss=9.9962, MAE=2.2680\n"
     ]
    },
    {
     "name": "stdout",
     "output_type": "stream",
     "text": [
      "\u001b[1m12/12\u001b[0m \u001b[32m━━━━━━━━━━━━━━━━━━━━\u001b[0m\u001b[37m\u001b[0m \u001b[1m0s\u001b[0m 7ms/step - loss: 13.1924 - mae: 2.3953 - mse: 13.1924 - val_loss: 9.9962 - val_mae: 2.6158 - val_mse: 9.9962\n",
      "Epoch 117/1000\n",
      "\u001b[1m 4/12\u001b[0m \u001b[32m━━━━━━\u001b[0m\u001b[37m━━━━━━━━━━━━━━\u001b[0m \u001b[1m0s\u001b[0m 4ms/step - loss: 8.3753 - mae: 2.0948 - mse: 8.525374"
     ]
    },
    {
     "name": "stderr",
     "output_type": "stream",
     "text": [
      "2025-02-09 13:30:43,778 [13068] INFO     root: Epoch 117: Loss=10.3836, Val_Loss=9.8132, MAE=2.2594\n"
     ]
    },
    {
     "name": "stdout",
     "output_type": "stream",
     "text": [
      "\u001b[1m12/12\u001b[0m \u001b[32m━━━━━━━━━━━━━━━━━━━━\u001b[0m\u001b[37m\u001b[0m \u001b[1m0s\u001b[0m 8ms/step - loss: 9.1707 - mae: 2.1671 - mse: 9.1707 - val_loss: 9.8132 - val_mae: 2.6095 - val_mse: 9.8132\n",
      "Epoch 118/1000\n",
      "\u001b[1m 6/12\u001b[0m \u001b[32m━━━━━━━━━━\u001b[0m\u001b[37m━━━━━━━━━━\u001b[0m \u001b[1m0s\u001b[0m 3ms/step - loss: 10.5714 - mae: 2.2320 - mse: 10.1786 "
     ]
    },
    {
     "name": "stderr",
     "output_type": "stream",
     "text": [
      "2025-02-09 13:30:43,961 [13068] INFO     root: Epoch 118: Loss=10.3194, Val_Loss=9.7907, MAE=2.2488\n"
     ]
    },
    {
     "name": "stdout",
     "output_type": "stream",
     "text": [
      "\u001b[1m12/12\u001b[0m \u001b[32m━━━━━━━━━━━━━━━━━━━━\u001b[0m\u001b[37m\u001b[0m \u001b[1m0s\u001b[0m 10ms/step - loss: 10.2207 - mae: 2.2382 - mse: 10.2207 - val_loss: 9.7907 - val_mae: 2.6242 - val_mse: 9.7907\n",
      "Epoch 119/1000\n",
      "\u001b[1m 7/12\u001b[0m \u001b[32m━━━━━━━━━━━\u001b[0m\u001b[37m━━━━━━━━━\u001b[0m \u001b[1m0s\u001b[0m 3ms/step - loss: 9.1077 - mae: 2.1957 - mse: 9.94913"
     ]
    },
    {
     "name": "stderr",
     "output_type": "stream",
     "text": [
      "2025-02-09 13:30:44,131 [13068] INFO     root: Epoch 119: Loss=10.2501, Val_Loss=9.6551, MAE=2.2404\n"
     ]
    },
    {
     "name": "stdout",
     "output_type": "stream",
     "text": [
      "\u001b[1m12/12\u001b[0m \u001b[32m━━━━━━━━━━━━━━━━━━━━\u001b[0m\u001b[37m\u001b[0m \u001b[1m0s\u001b[0m 8ms/step - loss: 10.0230 - mae: 2.2058 - mse: 10.0230 - val_loss: 9.6551 - val_mae: 2.5979 - val_mse: 9.6551\n",
      "Epoch 120/1000\n"
     ]
    },
    {
     "name": "stderr",
     "output_type": "stream",
     "text": [
      "2025-02-09 13:30:44,208 [13068] INFO     ml_monitor.logging: Starting metrics logging thread...\n"
     ]
    },
    {
     "name": "stdout",
     "output_type": "stream",
     "text": [
      "\u001b[1m 5/12\u001b[0m \u001b[32m━━━━━━━━\u001b[0m\u001b[37m━━━━━━━━━━━━\u001b[0m \u001b[1m0s\u001b[0m 2ms/step - loss: 9.7688 - mae: 2.0773 - mse: 10.0040"
     ]
    },
    {
     "name": "stderr",
     "output_type": "stream",
     "text": [
      "2025-02-09 13:30:44,298 [13068] INFO     root: Epoch 120: Loss=10.2416, Val_Loss=9.4946, MAE=2.2423\n"
     ]
    },
    {
     "name": "stdout",
     "output_type": "stream",
     "text": [
      "\u001b[1m12/12\u001b[0m \u001b[32m━━━━━━━━━━━━━━━━━━━━\u001b[0m\u001b[37m\u001b[0m \u001b[1m0s\u001b[0m 7ms/step - loss: 10.0805 - mae: 2.1430 - mse: 10.0805 - val_loss: 9.4946 - val_mae: 2.5583 - val_mse: 9.4946\n",
      "Epoch 121/1000\n",
      "\u001b[1m 7/12\u001b[0m \u001b[32m━━━━━━━━━━━\u001b[0m\u001b[37m━━━━━━━━━\u001b[0m \u001b[1m0s\u001b[0m 2ms/step - loss: 10.1802 - mae: 2.2221 - mse: 10.0904"
     ]
    },
    {
     "name": "stderr",
     "output_type": "stream",
     "text": [
      "2025-02-09 13:30:44,400 [13068] INFO     root: Epoch 121: Loss=10.1225, Val_Loss=9.7480, MAE=2.2340\n"
     ]
    },
    {
     "name": "stdout",
     "output_type": "stream",
     "text": [
      "\u001b[1m12/12\u001b[0m \u001b[32m━━━━━━━━━━━━━━━━━━━━\u001b[0m\u001b[37m\u001b[0m \u001b[1m0s\u001b[0m 5ms/step - loss: 10.0924 - mae: 2.2194 - mse: 10.0924 - val_loss: 9.7480 - val_mae: 2.6336 - val_mse: 9.7480\n",
      "Epoch 122/1000\n",
      "\u001b[1m 8/12\u001b[0m \u001b[32m━━━━━━━━━━━━━\u001b[0m\u001b[37m━━━━━━━\u001b[0m \u001b[1m0s\u001b[0m 1ms/step - loss: 7.7327 - mae: 2.0722 - mse: 8.32338"
     ]
    },
    {
     "name": "stderr",
     "output_type": "stream",
     "text": [
      "2025-02-09 13:30:44,505 [13068] INFO     root: Epoch 122: Loss=10.1272, Val_Loss=9.5384, MAE=2.2252\n"
     ]
    },
    {
     "name": "stdout",
     "output_type": "stream",
     "text": [
      "\u001b[1m12/12\u001b[0m \u001b[32m━━━━━━━━━━━━━━━━━━━━\u001b[0m\u001b[37m\u001b[0m \u001b[1m0s\u001b[0m 6ms/step - loss: 8.7034 - mae: 2.1263 - mse: 8.7034 - val_loss: 9.5384 - val_mae: 2.6325 - val_mse: 9.5384\n",
      "Epoch 123/1000\n",
      "\u001b[1m 4/12\u001b[0m \u001b[32m━━━━━━\u001b[0m\u001b[37m━━━━━━━━━━━━━━\u001b[0m \u001b[1m0s\u001b[0m 3ms/step - loss: 9.5961 - mae: 2.3055 - mse: 10.8705  "
     ]
    },
    {
     "name": "stderr",
     "output_type": "stream",
     "text": [
      "2025-02-09 13:30:44,634 [13068] INFO     root: Epoch 123: Loss=10.0570, Val_Loss=9.0768, MAE=2.2085\n"
     ]
    },
    {
     "name": "stdout",
     "output_type": "stream",
     "text": [
      "\u001b[1m12/12\u001b[0m \u001b[32m━━━━━━━━━━━━━━━━━━━━\u001b[0m\u001b[37m\u001b[0m \u001b[1m0s\u001b[0m 8ms/step - loss: 10.6924 - mae: 2.2710 - mse: 10.6924 - val_loss: 9.0768 - val_mae: 2.5528 - val_mse: 9.0768\n",
      "Epoch 124/1000\n",
      "\u001b[1m 3/12\u001b[0m \u001b[32m━━━━━\u001b[0m\u001b[37m━━━━━━━━━━━━━━━\u001b[0m \u001b[1m0s\u001b[0m 1ms/step - loss: 6.2265 - mae: 1.9537 - mse: 7.6675  "
     ]
    },
    {
     "name": "stderr",
     "output_type": "stream",
     "text": [
      "2025-02-09 13:30:44,763 [13068] INFO     root: Epoch 124: Loss=9.9437, Val_Loss=9.0581, MAE=2.2074\n"
     ]
    },
    {
     "name": "stdout",
     "output_type": "stream",
     "text": [
      "\u001b[1m12/12\u001b[0m \u001b[32m━━━━━━━━━━━━━━━━━━━━\u001b[0m\u001b[37m\u001b[0m \u001b[1m0s\u001b[0m 6ms/step - loss: 9.1649 - mae: 2.1365 - mse: 9.1649 - val_loss: 9.0581 - val_mae: 2.5421 - val_mse: 9.0581\n",
      "Epoch 125/1000\n",
      "\u001b[1m 3/12\u001b[0m \u001b[32m━━━━━\u001b[0m\u001b[37m━━━━━━━━━━━━━━━\u001b[0m \u001b[1m0s\u001b[0m 3ms/step - loss: 11.8777 - mae: 2.4909 - mse: 11.17517"
     ]
    },
    {
     "name": "stderr",
     "output_type": "stream",
     "text": [
      "2025-02-09 13:30:44,881 [13068] INFO     root: Epoch 125: Loss=9.9690, Val_Loss=9.3441, MAE=2.2149\n"
     ]
    },
    {
     "name": "stdout",
     "output_type": "stream",
     "text": [
      "\u001b[1m12/12\u001b[0m \u001b[32m━━━━━━━━━━━━━━━━━━━━\u001b[0m\u001b[37m\u001b[0m \u001b[1m0s\u001b[0m 6ms/step - loss: 10.5653 - mae: 2.3291 - mse: 10.5653 - val_loss: 9.3441 - val_mae: 2.5868 - val_mse: 9.3441\n",
      "Epoch 126/1000\n",
      "\u001b[1m 3/12\u001b[0m \u001b[32m━━━━━\u001b[0m\u001b[37m━━━━━━━━━━━━━━━\u001b[0m \u001b[1m0s\u001b[0m 1ms/step - loss: 10.6679 - mae: 2.3214 - mse: 11.3385 "
     ]
    },
    {
     "name": "stderr",
     "output_type": "stream",
     "text": [
      "2025-02-09 13:30:44,984 [13068] INFO     root: Epoch 126: Loss=9.8699, Val_Loss=9.0332, MAE=2.2083\n"
     ]
    },
    {
     "name": "stdout",
     "output_type": "stream",
     "text": [
      "\u001b[1m12/12\u001b[0m \u001b[32m━━━━━━━━━━━━━━━━━━━━\u001b[0m\u001b[37m\u001b[0m \u001b[1m0s\u001b[0m 5ms/step - loss: 10.6004 - mae: 2.2652 - mse: 10.6004 - val_loss: 9.0332 - val_mae: 2.5299 - val_mse: 9.0332\n",
      "Epoch 127/1000\n",
      "\u001b[1m 6/12\u001b[0m \u001b[32m━━━━━━━━━━\u001b[0m\u001b[37m━━━━━━━━━━\u001b[0m \u001b[1m0s\u001b[0m 2ms/step - loss: 14.2368 - mae: 2.3687 - mse: 12.9724 "
     ]
    },
    {
     "name": "stderr",
     "output_type": "stream",
     "text": [
      "2025-02-09 13:30:45,094 [13068] INFO     root: Epoch 127: Loss=9.7943, Val_Loss=8.9833, MAE=2.1961\n"
     ]
    },
    {
     "name": "stdout",
     "output_type": "stream",
     "text": [
      "\u001b[1m12/12\u001b[0m \u001b[32m━━━━━━━━━━━━━━━━━━━━\u001b[0m\u001b[37m\u001b[0m \u001b[1m0s\u001b[0m 6ms/step - loss: 11.6910 - mae: 2.2666 - mse: 11.6910 - val_loss: 8.9833 - val_mae: 2.5270 - val_mse: 8.9833\n",
      "Epoch 128/1000\n",
      "\u001b[1m 8/12\u001b[0m \u001b[32m━━━━━━━━━━━━━\u001b[0m\u001b[37m━━━━━━━\u001b[0m \u001b[1m0s\u001b[0m 2ms/step - loss: 12.5491 - mae: 2.2458 - mse: 11.77469"
     ]
    },
    {
     "name": "stderr",
     "output_type": "stream",
     "text": [
      "2025-02-09 13:30:45,218 [13068] INFO     root: Epoch 128: Loss=9.7283, Val_Loss=8.9421, MAE=2.1890\n"
     ]
    },
    {
     "name": "stdout",
     "output_type": "stream",
     "text": [
      "\u001b[1m12/12\u001b[0m \u001b[32m━━━━━━━━━━━━━━━━━━━━\u001b[0m\u001b[37m\u001b[0m \u001b[1m0s\u001b[0m 7ms/step - loss: 11.6467 - mae: 2.2252 - mse: 11.6467 - val_loss: 8.9421 - val_mae: 2.5290 - val_mse: 8.9421\n",
      "Epoch 129/1000\n",
      "\u001b[1m 7/12\u001b[0m \u001b[32m━━━━━━━━━━━\u001b[0m\u001b[37m━━━━━━━━━\u001b[0m \u001b[1m0s\u001b[0m 2ms/step - loss: 7.9125 - mae: 1.9811 - mse: 8.43958"
     ]
    },
    {
     "name": "stderr",
     "output_type": "stream",
     "text": [
      "2025-02-09 13:30:45,377 [13068] INFO     root: Epoch 129: Loss=9.6827, Val_Loss=8.9741, MAE=2.1832\n"
     ]
    },
    {
     "name": "stdout",
     "output_type": "stream",
     "text": [
      "\u001b[1m12/12\u001b[0m \u001b[32m━━━━━━━━━━━━━━━━━━━━\u001b[0m\u001b[37m\u001b[0m \u001b[1m0s\u001b[0m 5ms/step - loss: 8.8416 - mae: 2.0432 - mse: 8.8416 - val_loss: 8.9741 - val_mae: 2.5547 - val_mse: 8.9741\n",
      "Epoch 130/1000\n",
      "\u001b[1m 4/12\u001b[0m \u001b[32m━━━━━━\u001b[0m\u001b[37m━━━━━━━━━━━━━━\u001b[0m \u001b[1m0s\u001b[0m 2ms/step - loss: 10.8397 - mae: 2.4026 - mse: 10.8397"
     ]
    },
    {
     "name": "stderr",
     "output_type": "stream",
     "text": [
      "2025-02-09 13:30:45,478 [13068] INFO     root: Epoch 130: Loss=9.6326, Val_Loss=8.6757, MAE=2.1770\n"
     ]
    },
    {
     "name": "stdout",
     "output_type": "stream",
     "text": [
      "\u001b[1m12/12\u001b[0m \u001b[32m━━━━━━━━━━━━━━━━━━━━\u001b[0m\u001b[37m\u001b[0m \u001b[1m0s\u001b[0m 6ms/step - loss: 10.3542 - mae: 2.2896 - mse: 10.3542 - val_loss: 8.6757 - val_mae: 2.5105 - val_mse: 8.6757\n",
      "Epoch 131/1000\n",
      "\u001b[1m 2/12\u001b[0m \u001b[32m━━━\u001b[0m\u001b[37m━━━━━━━━━━━━━━━━━\u001b[0m \u001b[1m0s\u001b[0m 3ms/step - loss: 5.6862 - mae: 1.8649 - mse: 5.9754 "
     ]
    },
    {
     "name": "stderr",
     "output_type": "stream",
     "text": [
      "2025-02-09 13:30:45,617 [13068] INFO     root: Epoch 131: Loss=9.5780, Val_Loss=8.5261, MAE=2.1688\n"
     ]
    },
    {
     "name": "stdout",
     "output_type": "stream",
     "text": [
      "\u001b[1m12/12\u001b[0m \u001b[32m━━━━━━━━━━━━━━━━━━━━\u001b[0m\u001b[37m\u001b[0m \u001b[1m0s\u001b[0m 7ms/step - loss: 7.8762 - mae: 2.0286 - mse: 7.8762 - val_loss: 8.5261 - val_mae: 2.4850 - val_mse: 8.5261\n",
      "Epoch 132/1000\n",
      "\u001b[1m 5/12\u001b[0m \u001b[32m━━━━━━━━\u001b[0m\u001b[37m━━━━━━━━━━━━\u001b[0m \u001b[1m0s\u001b[0m 2ms/step - loss: 9.1646 - mae: 2.2011 - mse: 9.3965 "
     ]
    },
    {
     "name": "stderr",
     "output_type": "stream",
     "text": [
      "2025-02-09 13:30:45,745 [13068] INFO     root: Epoch 132: Loss=9.6063, Val_Loss=8.5665, MAE=2.1720\n"
     ]
    },
    {
     "name": "stdout",
     "output_type": "stream",
     "text": [
      "\u001b[1m12/12\u001b[0m \u001b[32m━━━━━━━━━━━━━━━━━━━━\u001b[0m\u001b[37m\u001b[0m \u001b[1m0s\u001b[0m 7ms/step - loss: 9.4288 - mae: 2.1586 - mse: 9.4288 - val_loss: 8.5665 - val_mae: 2.4636 - val_mse: 8.5665\n",
      "Epoch 133/1000\n",
      "\u001b[1m 5/12\u001b[0m \u001b[32m━━━━━━━━\u001b[0m\u001b[37m━━━━━━━━━━━━\u001b[0m \u001b[1m0s\u001b[0m 2ms/step - loss: 6.6773 - mae: 2.0567 - mse: 7.8078 "
     ]
    },
    {
     "name": "stderr",
     "output_type": "stream",
     "text": [
      "2025-02-09 13:30:45,875 [13068] INFO     root: Epoch 133: Loss=9.4799, Val_Loss=8.5372, MAE=2.1623\n"
     ]
    },
    {
     "name": "stdout",
     "output_type": "stream",
     "text": [
      "\u001b[1m12/12\u001b[0m \u001b[32m━━━━━━━━━━━━━━━━━━━━\u001b[0m\u001b[37m\u001b[0m \u001b[1m0s\u001b[0m 7ms/step - loss: 8.1312 - mae: 2.0762 - mse: 8.1312 - val_loss: 8.5372 - val_mae: 2.4982 - val_mse: 8.5372\n",
      "Epoch 134/1000\n",
      "\u001b[1m 6/12\u001b[0m \u001b[32m━━━━━━━━━━\u001b[0m\u001b[37m━━━━━━━━━━\u001b[0m \u001b[1m0s\u001b[0m 1ms/step - loss: 5.9446 - mae: 1.9186 - mse: 6.7372 "
     ]
    },
    {
     "name": "stderr",
     "output_type": "stream",
     "text": [
      "2025-02-09 13:30:45,990 [13068] INFO     root: Epoch 134: Loss=9.4777, Val_Loss=8.5363, MAE=2.1530\n"
     ]
    },
    {
     "name": "stdout",
     "output_type": "stream",
     "text": [
      "\u001b[1m12/12\u001b[0m \u001b[32m━━━━━━━━━━━━━━━━━━━━\u001b[0m\u001b[37m\u001b[0m \u001b[1m0s\u001b[0m 6ms/step - loss: 7.4972 - mae: 2.0055 - mse: 7.4972 - val_loss: 8.5363 - val_mae: 2.5154 - val_mse: 8.5363\n",
      "Epoch 135/1000\n",
      "\u001b[1m 6/12\u001b[0m \u001b[32m━━━━━━━━━━\u001b[0m\u001b[37m━━━━━━━━━━\u001b[0m \u001b[1m0s\u001b[0m 1ms/step - loss: 8.5616 - mae: 2.1351 - mse: 9.3483  "
     ]
    },
    {
     "name": "stderr",
     "output_type": "stream",
     "text": [
      "2025-02-09 13:30:46,088 [13068] INFO     root: Epoch 135: Loss=9.4275, Val_Loss=8.3998, MAE=2.1486\n"
     ]
    },
    {
     "name": "stdout",
     "output_type": "stream",
     "text": [
      "\u001b[1m12/12\u001b[0m \u001b[32m━━━━━━━━━━━━━━━━━━━━\u001b[0m\u001b[37m\u001b[0m \u001b[1m0s\u001b[0m 6ms/step - loss: 9.4539 - mae: 2.1415 - mse: 9.4539 - val_loss: 8.3998 - val_mae: 2.4880 - val_mse: 8.3998\n",
      "Epoch 136/1000\n",
      "\u001b[1m 7/12\u001b[0m \u001b[32m━━━━━━━━━━━\u001b[0m\u001b[37m━━━━━━━━━\u001b[0m \u001b[1m0s\u001b[0m 2ms/step - loss: 11.7418 - mae: 2.3136 - mse: 11.0204"
     ]
    },
    {
     "name": "stderr",
     "output_type": "stream",
     "text": [
      "2025-02-09 13:30:46,198 [13068] INFO     root: Epoch 136: Loss=9.3843, Val_Loss=8.2182, MAE=2.1462\n"
     ]
    },
    {
     "name": "stdout",
     "output_type": "stream",
     "text": [
      "\u001b[1m12/12\u001b[0m \u001b[32m━━━━━━━━━━━━━━━━━━━━\u001b[0m\u001b[37m\u001b[0m \u001b[1m0s\u001b[0m 6ms/step - loss: 10.9113 - mae: 2.3024 - mse: 10.9113 - val_loss: 8.2182 - val_mae: 2.4366 - val_mse: 8.2182\n",
      "Epoch 137/1000\n",
      "\u001b[1m 8/12\u001b[0m \u001b[32m━━━━━━━━━━━━━\u001b[0m\u001b[37m━━━━━━━\u001b[0m \u001b[1m0s\u001b[0m 3ms/step - loss: 7.9190 - mae: 1.9899 - mse: 8.280019"
     ]
    },
    {
     "name": "stderr",
     "output_type": "stream",
     "text": [
      "2025-02-09 13:30:46,371 [13068] INFO     root: Epoch 137: Loss=9.3616, Val_Loss=8.2531, MAE=2.1444\n"
     ]
    },
    {
     "name": "stdout",
     "output_type": "stream",
     "text": [
      "\u001b[1m12/12\u001b[0m \u001b[32m━━━━━━━━━━━━━━━━━━━━\u001b[0m\u001b[37m\u001b[0m \u001b[1m0s\u001b[0m 7ms/step - loss: 8.5162 - mae: 2.0365 - mse: 8.5162 - val_loss: 8.2531 - val_mae: 2.4627 - val_mse: 8.2531\n",
      "Epoch 138/1000\n",
      "\u001b[1m 8/12\u001b[0m \u001b[32m━━━━━━━━━━━━━\u001b[0m\u001b[37m━━━━━━━\u001b[0m \u001b[1m0s\u001b[0m 2ms/step - loss: 8.5689 - mae: 2.1636 - mse: 8.8459  "
     ]
    },
    {
     "name": "stderr",
     "output_type": "stream",
     "text": [
      "2025-02-09 13:30:46,470 [13068] INFO     root: Epoch 138: Loss=9.3314, Val_Loss=8.4176, MAE=2.1430\n"
     ]
    },
    {
     "name": "stdout",
     "output_type": "stream",
     "text": [
      "\u001b[1m12/12\u001b[0m \u001b[32m━━━━━━━━━━━━━━━━━━━━\u001b[0m\u001b[37m\u001b[0m \u001b[1m0s\u001b[0m 6ms/step - loss: 8.8783 - mae: 2.1622 - mse: 8.8783 - val_loss: 8.4176 - val_mae: 2.5110 - val_mse: 8.4176\n",
      "Epoch 139/1000\n",
      "\u001b[1m 4/12\u001b[0m \u001b[32m━━━━━━\u001b[0m\u001b[37m━━━━━━━━━━━━━━\u001b[0m \u001b[1m0s\u001b[0m 2ms/step - loss: 9.4632 - mae: 2.1495 - mse: 9.5153 "
     ]
    },
    {
     "name": "stderr",
     "output_type": "stream",
     "text": [
      "2025-02-09 13:30:46,580 [13068] INFO     root: Epoch 139: Loss=9.3046, Val_Loss=8.2756, MAE=2.1408\n"
     ]
    },
    {
     "name": "stdout",
     "output_type": "stream",
     "text": [
      "\u001b[1m12/12\u001b[0m \u001b[32m━━━━━━━━━━━━━━━━━━━━\u001b[0m\u001b[37m\u001b[0m \u001b[1m0s\u001b[0m 6ms/step - loss: 9.4920 - mae: 2.1423 - mse: 9.4920 - val_loss: 8.2756 - val_mae: 2.4643 - val_mse: 8.2756\n",
      "Epoch 140/1000\n",
      "\u001b[1m 5/12\u001b[0m \u001b[32m━━━━━━━━\u001b[0m\u001b[37m━━━━━━━━━━━━\u001b[0m \u001b[1m0s\u001b[0m 3ms/step - loss: 14.4067 - mae: 2.5608 - mse: 13.3421 "
     ]
    },
    {
     "name": "stderr",
     "output_type": "stream",
     "text": [
      "2025-02-09 13:30:46,710 [13068] INFO     root: Epoch 140: Loss=9.2476, Val_Loss=8.1168, MAE=2.1334\n"
     ]
    },
    {
     "name": "stdout",
     "output_type": "stream",
     "text": [
      "\u001b[1m12/12\u001b[0m \u001b[32m━━━━━━━━━━━━━━━━━━━━\u001b[0m\u001b[37m\u001b[0m \u001b[1m0s\u001b[0m 7ms/step - loss: 11.5336 - mae: 2.3307 - mse: 11.5336 - val_loss: 8.1168 - val_mae: 2.4513 - val_mse: 8.1168\n",
      "Epoch 141/1000\n",
      "\u001b[1m 8/12\u001b[0m \u001b[32m━━━━━━━━━━━━━\u001b[0m\u001b[37m━━━━━━━\u001b[0m \u001b[1m0s\u001b[0m 2ms/step - loss: 12.8823 - mae: 2.4853 - mse: 12.65813"
     ]
    },
    {
     "name": "stderr",
     "output_type": "stream",
     "text": [
      "2025-02-09 13:30:46,838 [13068] INFO     root: Epoch 141: Loss=9.2101, Val_Loss=8.1105, MAE=2.1257\n"
     ]
    },
    {
     "name": "stdout",
     "output_type": "stream",
     "text": [
      "\u001b[1m12/12\u001b[0m \u001b[32m━━━━━━━━━━━━━━━━━━━━\u001b[0m\u001b[37m\u001b[0m \u001b[1m0s\u001b[0m 7ms/step - loss: 11.0431 - mae: 2.3114 - mse: 11.0431 - val_loss: 8.1105 - val_mae: 2.4496 - val_mse: 8.1105\n",
      "Epoch 142/1000\n",
      "\u001b[1m 3/12\u001b[0m \u001b[32m━━━━━\u001b[0m\u001b[37m━━━━━━━━━━━━━━━\u001b[0m \u001b[1m0s\u001b[0m 988us/step - loss: 6.9229 - mae: 1.9823 - mse: 9.2554"
     ]
    },
    {
     "name": "stderr",
     "output_type": "stream",
     "text": [
      "2025-02-09 13:30:46,949 [13068] INFO     root: Epoch 142: Loss=9.1784, Val_Loss=8.2576, MAE=2.1237\n"
     ]
    },
    {
     "name": "stdout",
     "output_type": "stream",
     "text": [
      "\u001b[1m12/12\u001b[0m \u001b[32m━━━━━━━━━━━━━━━━━━━━\u001b[0m\u001b[37m\u001b[0m \u001b[1m0s\u001b[0m 6ms/step - loss: 9.2844 - mae: 2.0720 - mse: 9.2844 - val_loss: 8.2576 - val_mae: 2.4808 - val_mse: 8.2576\n",
      "Epoch 143/1000\n",
      "\u001b[1m 7/12\u001b[0m \u001b[32m━━━━━━━━━━━\u001b[0m\u001b[37m━━━━━━━━━\u001b[0m \u001b[1m0s\u001b[0m 2ms/step - loss: 7.5454 - mae: 2.0407 - mse: 8.3315  "
     ]
    },
    {
     "name": "stderr",
     "output_type": "stream",
     "text": [
      "2025-02-09 13:30:47,069 [13068] INFO     root: Epoch 143: Loss=9.1585, Val_Loss=7.9995, MAE=2.1233\n"
     ]
    },
    {
     "name": "stdout",
     "output_type": "stream",
     "text": [
      "\u001b[1m12/12\u001b[0m \u001b[32m━━━━━━━━━━━━━━━━━━━━\u001b[0m\u001b[37m\u001b[0m \u001b[1m0s\u001b[0m 7ms/step - loss: 8.4851 - mae: 2.0560 - mse: 8.4851 - val_loss: 7.9995 - val_mae: 2.4405 - val_mse: 7.9995\n",
      "Epoch 144/1000\n",
      "\u001b[1m 4/12\u001b[0m \u001b[32m━━━━━━\u001b[0m\u001b[37m━━━━━━━━━━━━━━\u001b[0m \u001b[1m0s\u001b[0m 4ms/step - loss: 8.6561 - mae: 2.0826 - mse: 8.7275 "
     ]
    },
    {
     "name": "stderr",
     "output_type": "stream",
     "text": [
      "2025-02-09 13:30:47,239 [13068] INFO     root: Epoch 144: Loss=9.1100, Val_Loss=7.8634, MAE=2.1193\n"
     ]
    },
    {
     "name": "stdout",
     "output_type": "stream",
     "text": [
      "\u001b[1m12/12\u001b[0m \u001b[32m━━━━━━━━━━━━━━━━━━━━\u001b[0m\u001b[37m\u001b[0m \u001b[1m0s\u001b[0m 9ms/step - loss: 8.8675 - mae: 2.1080 - mse: 8.8675 - val_loss: 7.8634 - val_mae: 2.4086 - val_mse: 7.8634\n",
      "Epoch 145/1000\n",
      "\u001b[1m 8/12\u001b[0m \u001b[32m━━━━━━━━━━━━━\u001b[0m\u001b[37m━━━━━━━\u001b[0m \u001b[1m0s\u001b[0m 1ms/step - loss: 6.8856 - mae: 1.9954 - mse: 6.8856 "
     ]
    },
    {
     "name": "stderr",
     "output_type": "stream",
     "text": [
      "2025-02-09 13:30:47,380 [13068] INFO     root: Epoch 145: Loss=9.0546, Val_Loss=7.9288, MAE=2.1155\n"
     ]
    },
    {
     "name": "stdout",
     "output_type": "stream",
     "text": [
      "\u001b[1m12/12\u001b[0m \u001b[32m━━━━━━━━━━━━━━━━━━━━\u001b[0m\u001b[37m\u001b[0m \u001b[1m0s\u001b[0m 7ms/step - loss: 7.7539 - mae: 2.0426 - mse: 7.7539 - val_loss: 7.9288 - val_mae: 2.4200 - val_mse: 7.9288\n",
      "Epoch 146/1000\n",
      "\u001b[1m 5/12\u001b[0m \u001b[32m━━━━━━━━\u001b[0m\u001b[37m━━━━━━━━━━━━\u001b[0m \u001b[1m0s\u001b[0m 1ms/step - loss: 6.3052 - mae: 2.0046 - mse: 7.3638 "
     ]
    },
    {
     "name": "stderr",
     "output_type": "stream",
     "text": [
      "2025-02-09 13:30:47,481 [13068] INFO     root: Epoch 146: Loss=9.0554, Val_Loss=8.0127, MAE=2.1136\n"
     ]
    },
    {
     "name": "stdout",
     "output_type": "stream",
     "text": [
      "\u001b[1m12/12\u001b[0m \u001b[32m━━━━━━━━━━━━━━━━━━━━\u001b[0m\u001b[37m\u001b[0m \u001b[1m0s\u001b[0m 5ms/step - loss: 8.1686 - mae: 2.0603 - mse: 8.1686 - val_loss: 8.0127 - val_mae: 2.4616 - val_mse: 8.0127\n",
      "Epoch 147/1000\n",
      "\u001b[1m 8/12\u001b[0m \u001b[32m━━━━━━━━━━━━━\u001b[0m\u001b[37m━━━━━━━\u001b[0m \u001b[1m0s\u001b[0m 2ms/step - loss: 11.6570 - mae: 2.2690 - mse: 11.5247  "
     ]
    },
    {
     "name": "stderr",
     "output_type": "stream",
     "text": [
      "2025-02-09 13:30:47,604 [13068] INFO     root: Epoch 147: Loss=9.0111, Val_Loss=7.7416, MAE=2.1083\n"
     ]
    },
    {
     "name": "stdout",
     "output_type": "stream",
     "text": [
      "\u001b[1m12/12\u001b[0m \u001b[32m━━━━━━━━━━━━━━━━━━━━\u001b[0m\u001b[37m\u001b[0m \u001b[1m0s\u001b[0m 7ms/step - loss: 10.7428 - mae: 2.2200 - mse: 10.7428 - val_loss: 7.7416 - val_mae: 2.4038 - val_mse: 7.7416\n",
      "Epoch 148/1000\n",
      "\u001b[1m 7/12\u001b[0m \u001b[32m━━━━━━━━━━━\u001b[0m\u001b[37m━━━━━━━━━\u001b[0m \u001b[1m0s\u001b[0m 2ms/step - loss: 7.9338 - mae: 2.0538 - mse: 8.3145680"
     ]
    },
    {
     "name": "stderr",
     "output_type": "stream",
     "text": [
      "2025-02-09 13:30:47,837 [13068] INFO     root: Epoch 148: Loss=9.0053, Val_Loss=7.8978, MAE=2.1075\n"
     ]
    },
    {
     "name": "stdout",
     "output_type": "stream",
     "text": [
      "\u001b[1m12/12\u001b[0m \u001b[32m━━━━━━━━━━━━━━━━━━━━\u001b[0m\u001b[37m\u001b[0m \u001b[1m0s\u001b[0m 7ms/step - loss: 8.4285 - mae: 2.0702 - mse: 8.4285 - val_loss: 7.8978 - val_mae: 2.4334 - val_mse: 7.8978\n",
      "Epoch 149/1000\n",
      "\u001b[1m 4/12\u001b[0m \u001b[32m━━━━━━\u001b[0m\u001b[37m━━━━━━━━━━━━━━\u001b[0m \u001b[1m0s\u001b[0m 2ms/step - loss: 6.3761 - mae: 1.8182 - mse: 8.3727 "
     ]
    },
    {
     "name": "stderr",
     "output_type": "stream",
     "text": [
      "2025-02-09 13:30:47,946 [13068] INFO     root: Epoch 149: Loss=8.9533, Val_Loss=7.7389, MAE=2.0985\n"
     ]
    },
    {
     "name": "stdout",
     "output_type": "stream",
     "text": [
      "\u001b[1m12/12\u001b[0m \u001b[32m━━━━━━━━━━━━━━━━━━━━\u001b[0m\u001b[37m\u001b[0m \u001b[1m0s\u001b[0m 6ms/step - loss: 8.6748 - mae: 2.0044 - mse: 8.6748 - val_loss: 7.7389 - val_mae: 2.4241 - val_mse: 7.7389\n",
      "Epoch 150/1000\n",
      "\u001b[1m 6/12\u001b[0m \u001b[32m━━━━━━━━━━\u001b[0m\u001b[37m━━━━━━━━━━\u001b[0m \u001b[1m0s\u001b[0m 1ms/step - loss: 7.2674 - mae: 1.9837 - mse: 7.6476  "
     ]
    },
    {
     "name": "stderr",
     "output_type": "stream",
     "text": [
      "2025-02-09 13:30:48,054 [13068] INFO     root: Epoch 150: Loss=8.9559, Val_Loss=7.6869, MAE=2.0990\n"
     ]
    },
    {
     "name": "stdout",
     "output_type": "stream",
     "text": [
      "\u001b[1m12/12\u001b[0m \u001b[32m━━━━━━━━━━━━━━━━━━━━\u001b[0m\u001b[37m\u001b[0m \u001b[1m0s\u001b[0m 6ms/step - loss: 8.1305 - mae: 2.0285 - mse: 8.1305 - val_loss: 7.6869 - val_mae: 2.4073 - val_mse: 7.6869\n",
      "Epoch 151/1000\n",
      "\u001b[1m 7/12\u001b[0m \u001b[32m━━━━━━━━━━━\u001b[0m\u001b[37m━━━━━━━━━\u001b[0m \u001b[1m0s\u001b[0m 2ms/step - loss: 7.9274 - mae: 2.0513 - mse: 8.0503 "
     ]
    },
    {
     "name": "stderr",
     "output_type": "stream",
     "text": [
      "2025-02-09 13:30:48,162 [13068] INFO     root: Epoch 151: Loss=8.8914, Val_Loss=7.6519, MAE=2.0927\n"
     ]
    },
    {
     "name": "stdout",
     "output_type": "stream",
     "text": [
      "\u001b[1m12/12\u001b[0m \u001b[32m━━━━━━━━━━━━━━━━━━━━\u001b[0m\u001b[37m\u001b[0m \u001b[1m0s\u001b[0m 6ms/step - loss: 8.4736 - mae: 2.0833 - mse: 8.4736 - val_loss: 7.6519 - val_mae: 2.4198 - val_mse: 7.6519\n",
      "Epoch 152/1000\n",
      "\u001b[1m 4/12\u001b[0m \u001b[32m━━━━━━\u001b[0m\u001b[37m━━━━━━━━━━━━━━\u001b[0m \u001b[1m0s\u001b[0m 3ms/step - loss: 9.3141 - mae: 2.3100 - mse: 9.17331"
     ]
    },
    {
     "name": "stderr",
     "output_type": "stream",
     "text": [
      "2025-02-09 13:30:48,266 [13068] INFO     root: Epoch 152: Loss=8.8891, Val_Loss=7.4833, MAE=2.0931\n"
     ]
    },
    {
     "name": "stdout",
     "output_type": "stream",
     "text": [
      "\u001b[1m12/12\u001b[0m \u001b[32m━━━━━━━━━━━━━━━━━━━━\u001b[0m\u001b[37m\u001b[0m \u001b[1m0s\u001b[0m 6ms/step - loss: 9.1534 - mae: 2.2347 - mse: 9.1534 - val_loss: 7.4833 - val_mae: 2.3734 - val_mse: 7.4833\n",
      "Epoch 153/1000\n",
      "\u001b[1m 6/12\u001b[0m \u001b[32m━━━━━━━━━━\u001b[0m\u001b[37m━━━━━━━━━━\u001b[0m \u001b[1m0s\u001b[0m 2ms/step - loss: 7.3526 - mae: 1.9952 - mse: 7.4582  "
     ]
    },
    {
     "name": "stderr",
     "output_type": "stream",
     "text": [
      "2025-02-09 13:30:48,382 [13068] INFO     root: Epoch 153: Loss=8.8453, Val_Loss=7.5852, MAE=2.0843\n"
     ]
    },
    {
     "name": "stdout",
     "output_type": "stream",
     "text": [
      "\u001b[1m12/12\u001b[0m \u001b[32m━━━━━━━━━━━━━━━━━━━━\u001b[0m\u001b[37m\u001b[0m \u001b[1m0s\u001b[0m 6ms/step - loss: 7.8802 - mae: 2.0346 - mse: 7.8802 - val_loss: 7.5852 - val_mae: 2.4034 - val_mse: 7.5852\n",
      "Epoch 154/1000\n",
      "\u001b[1m 4/12\u001b[0m \u001b[32m━━━━━━\u001b[0m\u001b[37m━━━━━━━━━━━━━━\u001b[0m \u001b[1m0s\u001b[0m 3ms/step - loss: 11.4794 - mae: 2.0946 - mse: 11.1948"
     ]
    },
    {
     "name": "stderr",
     "output_type": "stream",
     "text": [
      "2025-02-09 13:30:48,556 [13068] INFO     root: Epoch 154: Loss=8.8067, Val_Loss=7.5442, MAE=2.0836\n"
     ]
    },
    {
     "name": "stdout",
     "output_type": "stream",
     "text": [
      "\u001b[1m12/12\u001b[0m \u001b[32m━━━━━━━━━━━━━━━━━━━━\u001b[0m\u001b[37m\u001b[0m \u001b[1m0s\u001b[0m 7ms/step - loss: 10.2500 - mae: 2.1203 - mse: 10.2500 - val_loss: 7.5442 - val_mae: 2.3869 - val_mse: 7.5442\n",
      "Epoch 155/1000\n",
      "\u001b[1m 6/12\u001b[0m \u001b[32m━━━━━━━━━━\u001b[0m\u001b[37m━━━━━━━━━━\u001b[0m \u001b[1m0s\u001b[0m 2ms/step - loss: 13.4793 - mae: 2.2160 - mse: 11.9806 "
     ]
    },
    {
     "name": "stderr",
     "output_type": "stream",
     "text": [
      "2025-02-09 13:30:48,692 [13068] INFO     root: Epoch 155: Loss=8.7790, Val_Loss=7.5254, MAE=2.0860\n"
     ]
    },
    {
     "name": "stdout",
     "output_type": "stream",
     "text": [
      "\u001b[1m12/12\u001b[0m \u001b[32m━━━━━━━━━━━━━━━━━━━━\u001b[0m\u001b[37m\u001b[0m \u001b[1m0s\u001b[0m 7ms/step - loss: 10.7178 - mae: 2.1684 - mse: 10.7178 - val_loss: 7.5254 - val_mae: 2.3892 - val_mse: 7.5254\n",
      "Epoch 156/1000\n",
      "\u001b[1m 5/12\u001b[0m \u001b[32m━━━━━━━━\u001b[0m\u001b[37m━━━━━━━━━━━━\u001b[0m \u001b[1m0s\u001b[0m 2ms/step - loss: 8.8919 - mae: 2.0378 - mse: 9.06169"
     ]
    },
    {
     "name": "stderr",
     "output_type": "stream",
     "text": [
      "2025-02-09 13:30:48,803 [13068] INFO     root: Epoch 156: Loss=8.7754, Val_Loss=7.4739, MAE=2.0858\n"
     ]
    },
    {
     "name": "stdout",
     "output_type": "stream",
     "text": [
      "\u001b[1m12/12\u001b[0m \u001b[32m━━━━━━━━━━━━━━━━━━━━\u001b[0m\u001b[37m\u001b[0m \u001b[1m0s\u001b[0m 6ms/step - loss: 8.9906 - mae: 2.0448 - mse: 8.9906 - val_loss: 7.4739 - val_mae: 2.3804 - val_mse: 7.4739\n",
      "Epoch 157/1000\n",
      "\u001b[1m 3/12\u001b[0m \u001b[32m━━━━━\u001b[0m\u001b[37m━━━━━━━━━━━━━━━\u001b[0m \u001b[1m0s\u001b[0m 1ms/step - loss: 6.0766 - mae: 1.8448 - mse: 6.2360 "
     ]
    },
    {
     "name": "stderr",
     "output_type": "stream",
     "text": [
      "2025-02-09 13:30:48,907 [13068] INFO     root: Epoch 157: Loss=8.8149, Val_Loss=7.4823, MAE=2.0856\n"
     ]
    },
    {
     "name": "stdout",
     "output_type": "stream",
     "text": [
      "\u001b[1m12/12\u001b[0m \u001b[32m━━━━━━━━━━━━━━━━━━━━\u001b[0m\u001b[37m\u001b[0m \u001b[1m0s\u001b[0m 6ms/step - loss: 7.1322 - mae: 1.9365 - mse: 7.1322 - val_loss: 7.4823 - val_mae: 2.4056 - val_mse: 7.4823\n",
      "Epoch 158/1000\n",
      "\u001b[1m 6/12\u001b[0m \u001b[32m━━━━━━━━━━\u001b[0m\u001b[37m━━━━━━━━━━\u001b[0m \u001b[1m0s\u001b[0m 2ms/step - loss: 9.1624 - mae: 2.2321 - mse: 9.5116 "
     ]
    },
    {
     "name": "stderr",
     "output_type": "stream",
     "text": [
      "2025-02-09 13:30:49,031 [13068] INFO     root: Epoch 158: Loss=8.7244, Val_Loss=7.3847, MAE=2.0740\n"
     ]
    },
    {
     "name": "stdout",
     "output_type": "stream",
     "text": [
      "\u001b[1m12/12\u001b[0m \u001b[32m━━━━━━━━━━━━━━━━━━━━\u001b[0m\u001b[37m\u001b[0m \u001b[1m0s\u001b[0m 7ms/step - loss: 9.3643 - mae: 2.1881 - mse: 9.3643 - val_loss: 7.3847 - val_mae: 2.3839 - val_mse: 7.3847\n",
      "Epoch 159/1000\n",
      "\u001b[1m 3/12\u001b[0m \u001b[32m━━━━━\u001b[0m\u001b[37m━━━━━━━━━━━━━━━\u001b[0m \u001b[1m0s\u001b[0m 3ms/step - loss: 6.0633 - mae: 1.8590 - mse: 6.2274 "
     ]
    },
    {
     "name": "stderr",
     "output_type": "stream",
     "text": [
      "2025-02-09 13:30:49,165 [13068] INFO     root: Epoch 159: Loss=8.6980, Val_Loss=7.2793, MAE=2.0761\n"
     ]
    },
    {
     "name": "stdout",
     "output_type": "stream",
     "text": [
      "\u001b[1m12/12\u001b[0m \u001b[32m━━━━━━━━━━━━━━━━━━━━\u001b[0m\u001b[37m\u001b[0m \u001b[1m0s\u001b[0m 8ms/step - loss: 7.6658 - mae: 1.9907 - mse: 7.6658 - val_loss: 7.2793 - val_mae: 2.3481 - val_mse: 7.2793\n",
      "Epoch 160/1000\n",
      "\u001b[1m 2/12\u001b[0m \u001b[32m━━━\u001b[0m\u001b[37m━━━━━━━━━━━━━━━━━\u001b[0m \u001b[1m0s\u001b[0m 1ms/step - loss: 6.6888 - mae: 1.9745 - mse: 7.8970 "
     ]
    },
    {
     "name": "stderr",
     "output_type": "stream",
     "text": [
      "2025-02-09 13:30:49,229 [13068] INFO     ml_monitor.logging: Starting metrics logging thread...\n",
      "2025-02-09 13:30:49,314 [13068] INFO     root: Epoch 160: Loss=8.6761, Val_Loss=7.2989, MAE=2.0722\n"
     ]
    },
    {
     "name": "stdout",
     "output_type": "stream",
     "text": [
      "\u001b[1m12/12\u001b[0m \u001b[32m━━━━━━━━━━━━━━━━━━━━\u001b[0m\u001b[37m\u001b[0m \u001b[1m0s\u001b[0m 9ms/step - loss: 8.3027 - mae: 2.0607 - mse: 8.3027 - val_loss: 7.2989 - val_mae: 2.3639 - val_mse: 7.2989\n",
      "Epoch 161/1000\n",
      "\u001b[1m 4/12\u001b[0m \u001b[32m━━━━━━\u001b[0m\u001b[37m━━━━━━━━━━━━━━\u001b[0m \u001b[1m0s\u001b[0m 1ms/step - loss: 7.0870 - mae: 1.9169 - mse: 8.84811"
     ]
    },
    {
     "name": "stderr",
     "output_type": "stream",
     "text": [
      "2025-02-09 13:30:49,446 [13068] INFO     root: Epoch 161: Loss=8.6765, Val_Loss=7.4703, MAE=2.0685\n"
     ]
    },
    {
     "name": "stdout",
     "output_type": "stream",
     "text": [
      "\u001b[1m12/12\u001b[0m \u001b[32m━━━━━━━━━━━━━━━━━━━━\u001b[0m\u001b[37m\u001b[0m \u001b[1m0s\u001b[0m 7ms/step - loss: 8.8367 - mae: 2.0450 - mse: 8.8367 - val_loss: 7.4703 - val_mae: 2.4006 - val_mse: 7.4703\n",
      "Epoch 162/1000\n",
      "\u001b[1m 7/12\u001b[0m \u001b[32m━━━━━━━━━━━\u001b[0m\u001b[37m━━━━━━━━━\u001b[0m \u001b[1m0s\u001b[0m 2ms/step - loss: 12.2838 - mae: 2.2467 - mse: 11.9463"
     ]
    },
    {
     "name": "stderr",
     "output_type": "stream",
     "text": [
      "2025-02-09 13:30:49,580 [13068] INFO     root: Epoch 162: Loss=8.6471, Val_Loss=7.4564, MAE=2.0646\n"
     ]
    },
    {
     "name": "stdout",
     "output_type": "stream",
     "text": [
      "\u001b[1m12/12\u001b[0m \u001b[32m━━━━━━━━━━━━━━━━━━━━\u001b[0m\u001b[37m\u001b[0m \u001b[1m0s\u001b[0m 7ms/step - loss: 10.7301 - mae: 2.1779 - mse: 10.7301 - val_loss: 7.4564 - val_mae: 2.4057 - val_mse: 7.4564\n",
      "Epoch 163/1000\n",
      "\u001b[1m 5/12\u001b[0m \u001b[32m━━━━━━━━\u001b[0m\u001b[37m━━━━━━━━━━━━\u001b[0m \u001b[1m0s\u001b[0m 2ms/step - loss: 7.6456 - mae: 2.0701 - mse: 8.39100"
     ]
    },
    {
     "name": "stderr",
     "output_type": "stream",
     "text": [
      "2025-02-09 13:30:49,684 [13068] INFO     root: Epoch 163: Loss=8.6188, Val_Loss=7.2970, MAE=2.0564\n"
     ]
    },
    {
     "name": "stdout",
     "output_type": "stream",
     "text": [
      "\u001b[1m12/12\u001b[0m \u001b[32m━━━━━━━━━━━━━━━━━━━━\u001b[0m\u001b[37m\u001b[0m \u001b[1m0s\u001b[0m 5ms/step - loss: 8.6971 - mae: 2.0837 - mse: 8.6971 - val_loss: 7.2970 - val_mae: 2.3718 - val_mse: 7.2970\n",
      "Epoch 164/1000\n",
      "\u001b[1m 4/12\u001b[0m \u001b[32m━━━━━━\u001b[0m\u001b[37m━━━━━━━━━━━━━━\u001b[0m \u001b[1m0s\u001b[0m 2ms/step - loss: 9.2890 - mae: 2.0954 - mse: 9.4465  "
     ]
    },
    {
     "name": "stderr",
     "output_type": "stream",
     "text": [
      "2025-02-09 13:30:49,885 [13068] INFO     root: Epoch 164: Loss=8.5937, Val_Loss=7.2848, MAE=2.0581\n"
     ]
    },
    {
     "name": "stdout",
     "output_type": "stream",
     "text": [
      "\u001b[1m12/12\u001b[0m \u001b[32m━━━━━━━━━━━━━━━━━━━━\u001b[0m\u001b[37m\u001b[0m \u001b[1m0s\u001b[0m 7ms/step - loss: 9.2717 - mae: 2.0954 - mse: 9.2717 - val_loss: 7.2848 - val_mae: 2.3690 - val_mse: 7.2848\n",
      "Epoch 165/1000\n",
      "\u001b[1m 7/12\u001b[0m \u001b[32m━━━━━━━━━━━\u001b[0m\u001b[37m━━━━━━━━━\u001b[0m \u001b[1m0s\u001b[0m 1ms/step - loss: 9.8293 - mae: 2.2028 - mse: 9.7105 57"
     ]
    },
    {
     "name": "stderr",
     "output_type": "stream",
     "text": [
      "2025-02-09 13:30:50,049 [13068] INFO     root: Epoch 165: Loss=8.5886, Val_Loss=7.3233, MAE=2.0584\n"
     ]
    },
    {
     "name": "stdout",
     "output_type": "stream",
     "text": [
      "\u001b[1m12/12\u001b[0m \u001b[32m━━━━━━━━━━━━━━━━━━━━\u001b[0m\u001b[37m\u001b[0m \u001b[1m0s\u001b[0m 7ms/step - loss: 9.4502 - mae: 2.1543 - mse: 9.4502 - val_loss: 7.3233 - val_mae: 2.3703 - val_mse: 7.3233\n",
      "Epoch 166/1000\n",
      "\u001b[1m 4/12\u001b[0m \u001b[32m━━━━━━\u001b[0m\u001b[37m━━━━━━━━━━━━━━\u001b[0m \u001b[1m0s\u001b[0m 4ms/step - loss: 10.3486 - mae: 2.0904 - mse: 9.6583  "
     ]
    },
    {
     "name": "stderr",
     "output_type": "stream",
     "text": [
      "2025-02-09 13:30:50,183 [13068] INFO     root: Epoch 166: Loss=8.5454, Val_Loss=7.0972, MAE=2.0558\n"
     ]
    },
    {
     "name": "stdout",
     "output_type": "stream",
     "text": [
      "\u001b[1m12/12\u001b[0m \u001b[32m━━━━━━━━━━━━━━━━━━━━\u001b[0m\u001b[37m\u001b[0m \u001b[1m0s\u001b[0m 7ms/step - loss: 9.2596 - mae: 2.0516 - mse: 9.2596 - val_loss: 7.0972 - val_mae: 2.3284 - val_mse: 7.0972\n",
      "Epoch 167/1000\n",
      "\u001b[1m 2/12\u001b[0m \u001b[32m━━━\u001b[0m\u001b[37m━━━━━━━━━━━━━━━━━\u001b[0m \u001b[1m0s\u001b[0m 2ms/step - loss: 9.6299 - mae: 2.1569 - mse: 8.7693 "
     ]
    },
    {
     "name": "stderr",
     "output_type": "stream",
     "text": [
      "2025-02-09 13:30:50,310 [13068] INFO     root: Epoch 167: Loss=8.5323, Val_Loss=7.1067, MAE=2.0552\n"
     ]
    },
    {
     "name": "stdout",
     "output_type": "stream",
     "text": [
      "\u001b[1m12/12\u001b[0m \u001b[32m━━━━━━━━━━━━━━━━━━━━\u001b[0m\u001b[37m\u001b[0m \u001b[1m0s\u001b[0m 7ms/step - loss: 8.7962 - mae: 2.0836 - mse: 8.7962 - val_loss: 7.1067 - val_mae: 2.3436 - val_mse: 7.1067\n",
      "Epoch 168/1000\n",
      "\u001b[1m 3/12\u001b[0m \u001b[32m━━━━━\u001b[0m\u001b[37m━━━━━━━━━━━━━━━\u001b[0m \u001b[1m0s\u001b[0m 2ms/step - loss: 6.6716 - mae: 1.8854 - mse: 6.9256 "
     ]
    },
    {
     "name": "stderr",
     "output_type": "stream",
     "text": [
      "2025-02-09 13:30:50,457 [13068] INFO     root: Epoch 168: Loss=8.5390, Val_Loss=7.1831, MAE=2.0575\n"
     ]
    },
    {
     "name": "stdout",
     "output_type": "stream",
     "text": [
      "\u001b[1m12/12\u001b[0m \u001b[32m━━━━━━━━━━━━━━━━━━━━\u001b[0m\u001b[37m\u001b[0m \u001b[1m0s\u001b[0m 9ms/step - loss: 8.2244 - mae: 1.9915 - mse: 8.2244 - val_loss: 7.1831 - val_mae: 2.3587 - val_mse: 7.1831\n",
      "Epoch 169/1000\n",
      "\u001b[1m 4/12\u001b[0m \u001b[32m━━━━━━\u001b[0m\u001b[37m━━━━━━━━━━━━━━\u001b[0m \u001b[1m0s\u001b[0m 2ms/step - loss: 5.9486 - mae: 1.8115 - mse: 6.3522 "
     ]
    },
    {
     "name": "stderr",
     "output_type": "stream",
     "text": [
      "2025-02-09 13:30:50,616 [13068] INFO     root: Epoch 169: Loss=8.5715, Val_Loss=7.1302, MAE=2.0550\n"
     ]
    },
    {
     "name": "stdout",
     "output_type": "stream",
     "text": [
      "\u001b[1m12/12\u001b[0m \u001b[32m━━━━━━━━━━━━━━━━━━━━\u001b[0m\u001b[37m\u001b[0m \u001b[1m0s\u001b[0m 7ms/step - loss: 7.0463 - mae: 1.9351 - mse: 7.0463 - val_loss: 7.1302 - val_mae: 2.3604 - val_mse: 7.1302\n",
      "Epoch 170/1000\n",
      "\u001b[1m 6/12\u001b[0m \u001b[32m━━━━━━━━━━\u001b[0m\u001b[37m━━━━━━━━━━\u001b[0m \u001b[1m0s\u001b[0m 2ms/step - loss: 6.3346 - mae: 1.8698 - mse: 6.55128"
     ]
    },
    {
     "name": "stderr",
     "output_type": "stream",
     "text": [
      "2025-02-09 13:30:50,745 [13068] INFO     root: Epoch 170: Loss=8.4769, Val_Loss=7.0540, MAE=2.0439\n"
     ]
    },
    {
     "name": "stdout",
     "output_type": "stream",
     "text": [
      "\u001b[1m12/12\u001b[0m \u001b[32m━━━━━━━━━━━━━━━━━━━━\u001b[0m\u001b[37m\u001b[0m \u001b[1m0s\u001b[0m 7ms/step - loss: 7.0326 - mae: 1.9283 - mse: 7.0326 - val_loss: 7.0540 - val_mae: 2.3444 - val_mse: 7.0540\n",
      "Epoch 171/1000\n",
      "\u001b[1m 2/12\u001b[0m \u001b[32m━━━\u001b[0m\u001b[37m━━━━━━━━━━━━━━━━━\u001b[0m \u001b[1m0s\u001b[0m 6ms/step - loss: 10.5909 - mae: 2.1736 - mse: 10.6200"
     ]
    },
    {
     "name": "stderr",
     "output_type": "stream",
     "text": [
      "2025-02-09 13:30:50,913 [13068] INFO     root: Epoch 171: Loss=8.4794, Val_Loss=7.0851, MAE=2.0536\n"
     ]
    },
    {
     "name": "stdout",
     "output_type": "stream",
     "text": [
      "\u001b[1m12/12\u001b[0m \u001b[32m━━━━━━━━━━━━━━━━━━━━\u001b[0m\u001b[37m\u001b[0m \u001b[1m0s\u001b[0m 6ms/step - loss: 9.9732 - mae: 2.1593 - mse: 9.9732 - val_loss: 7.0851 - val_mae: 2.3315 - val_mse: 7.0851\n",
      "Epoch 172/1000\n",
      "\u001b[1m 4/12\u001b[0m \u001b[32m━━━━━━\u001b[0m\u001b[37m━━━━━━━━━━━━━━\u001b[0m \u001b[1m0s\u001b[0m 2ms/step - loss: 10.0841 - mae: 2.0964 - mse: 9.6264 "
     ]
    },
    {
     "name": "stderr",
     "output_type": "stream",
     "text": [
      "2025-02-09 13:30:51,079 [13068] INFO     root: Epoch 172: Loss=8.4581, Val_Loss=7.2563, MAE=2.0559\n"
     ]
    },
    {
     "name": "stdout",
     "output_type": "stream",
     "text": [
      "\u001b[1m12/12\u001b[0m \u001b[32m━━━━━━━━━━━━━━━━━━━━\u001b[0m\u001b[37m\u001b[0m \u001b[1m0s\u001b[0m 6ms/step - loss: 8.7578 - mae: 2.0378 - mse: 8.7578 - val_loss: 7.2563 - val_mae: 2.3670 - val_mse: 7.2563\n",
      "Epoch 173/1000\n",
      "\u001b[1m 8/12\u001b[0m \u001b[32m━━━━━━━━━━━━━\u001b[0m\u001b[37m━━━━━━━\u001b[0m \u001b[1m0s\u001b[0m 2ms/step - loss: 7.7050 - mae: 2.0505 - mse: 7.77924"
     ]
    },
    {
     "name": "stderr",
     "output_type": "stream",
     "text": [
      "2025-02-09 13:30:51,254 [13068] INFO     root: Epoch 173: Loss=8.4075, Val_Loss=7.1438, MAE=2.0410\n"
     ]
    },
    {
     "name": "stdout",
     "output_type": "stream",
     "text": [
      "\u001b[1m12/12\u001b[0m \u001b[32m━━━━━━━━━━━━━━━━━━━━\u001b[0m\u001b[37m\u001b[0m \u001b[1m0s\u001b[0m 6ms/step - loss: 7.8596 - mae: 2.0428 - mse: 7.8596 - val_loss: 7.1438 - val_mae: 2.3590 - val_mse: 7.1438\n",
      "Epoch 174/1000\n",
      "\u001b[1m 4/12\u001b[0m \u001b[32m━━━━━━\u001b[0m\u001b[37m━━━━━━━━━━━━━━\u001b[0m \u001b[1m0s\u001b[0m 1ms/step - loss: 12.0717 - mae: 2.1133 - mse: 12.07175"
     ]
    },
    {
     "name": "stderr",
     "output_type": "stream",
     "text": [
      "2025-02-09 13:30:51,428 [13068] INFO     root: Epoch 174: Loss=8.3809, Val_Loss=7.1184, MAE=2.0351\n"
     ]
    },
    {
     "name": "stdout",
     "output_type": "stream",
     "text": [
      "\u001b[1m12/12\u001b[0m \u001b[32m━━━━━━━━━━━━━━━━━━━━\u001b[0m\u001b[37m\u001b[0m \u001b[1m0s\u001b[0m 6ms/step - loss: 9.6373 - mae: 2.0552 - mse: 9.6373 - val_loss: 7.1184 - val_mae: 2.3577 - val_mse: 7.1184\n",
      "Epoch 175/1000\n",
      "\u001b[1m 5/12\u001b[0m \u001b[32m━━━━━━━━\u001b[0m\u001b[37m━━━━━━━━━━━━\u001b[0m \u001b[1m0s\u001b[0m 1ms/step - loss: 6.2371 - mae: 1.8967 - mse: 7.6509 "
     ]
    },
    {
     "name": "stderr",
     "output_type": "stream",
     "text": [
      "2025-02-09 13:30:51,603 [13068] INFO     root: Epoch 175: Loss=8.3870, Val_Loss=6.9969, MAE=2.0364\n"
     ]
    },
    {
     "name": "stdout",
     "output_type": "stream",
     "text": [
      "\u001b[1m12/12\u001b[0m \u001b[32m━━━━━━━━━━━━━━━━━━━━\u001b[0m\u001b[37m\u001b[0m \u001b[1m0s\u001b[0m 7ms/step - loss: 7.8724 - mae: 1.9470 - mse: 7.8724 - val_loss: 6.9969 - val_mae: 2.3337 - val_mse: 6.9969\n",
      "Epoch 176/1000\n",
      "\u001b[1m 6/12\u001b[0m \u001b[32m━━━━━━━━━━\u001b[0m\u001b[37m━━━━━━━━━━\u001b[0m \u001b[1m0s\u001b[0m 2ms/step - loss: 7.8738 - mae: 2.0936 - mse: 8.38294"
     ]
    },
    {
     "name": "stderr",
     "output_type": "stream",
     "text": [
      "2025-02-09 13:30:51,728 [13068] INFO     root: Epoch 176: Loss=8.3251, Val_Loss=7.1991, MAE=2.0336\n"
     ]
    },
    {
     "name": "stdout",
     "output_type": "stream",
     "text": [
      "\u001b[1m12/12\u001b[0m \u001b[32m━━━━━━━━━━━━━━━━━━━━\u001b[0m\u001b[37m\u001b[0m \u001b[1m0s\u001b[0m 7ms/step - loss: 8.3738 - mae: 2.0757 - mse: 8.3738 - val_loss: 7.1991 - val_mae: 2.3651 - val_mse: 7.1991\n",
      "Epoch 177/1000\n",
      "\u001b[1m 8/12\u001b[0m \u001b[32m━━━━━━━━━━━━━\u001b[0m\u001b[37m━━━━━━━\u001b[0m \u001b[1m0s\u001b[0m 2ms/step - loss: 10.3882 - mae: 2.1931 - mse: 9.7802 4"
     ]
    },
    {
     "name": "stderr",
     "output_type": "stream",
     "text": [
      "2025-02-09 13:30:51,833 [13068] INFO     root: Epoch 177: Loss=8.3584, Val_Loss=7.0975, MAE=2.0435\n"
     ]
    },
    {
     "name": "stdout",
     "output_type": "stream",
     "text": [
      "\u001b[1m12/12\u001b[0m \u001b[32m━━━━━━━━━━━━━━━━━━━━\u001b[0m\u001b[37m\u001b[0m \u001b[1m0s\u001b[0m 6ms/step - loss: 9.5832 - mae: 2.1358 - mse: 9.5832 - val_loss: 7.0975 - val_mae: 2.3358 - val_mse: 7.0975\n",
      "Epoch 178/1000\n",
      "\u001b[1m 5/12\u001b[0m \u001b[32m━━━━━━━━\u001b[0m\u001b[37m━━━━━━━━━━━━\u001b[0m \u001b[1m0s\u001b[0m 3ms/step - loss: 8.0623 - mae: 1.9813 - mse: 8.41865"
     ]
    },
    {
     "name": "stderr",
     "output_type": "stream",
     "text": [
      "2025-02-09 13:30:51,999 [13068] INFO     root: Epoch 178: Loss=8.3152, Val_Loss=7.2347, MAE=2.0359\n"
     ]
    },
    {
     "name": "stdout",
     "output_type": "stream",
     "text": [
      "\u001b[1m12/12\u001b[0m \u001b[32m━━━━━━━━━━━━━━━━━━━━\u001b[0m\u001b[37m\u001b[0m \u001b[1m0s\u001b[0m 6ms/step - loss: 8.3404 - mae: 1.9951 - mse: 8.3404 - val_loss: 7.2347 - val_mae: 2.3764 - val_mse: 7.2347\n",
      "Epoch 179/1000\n",
      "\u001b[1m 2/12\u001b[0m \u001b[32m━━━\u001b[0m\u001b[37m━━━━━━━━━━━━━━━━━\u001b[0m \u001b[1m0s\u001b[0m 999us/step - loss: 7.0316 - mae: 1.9069 - mse: 8.4122"
     ]
    },
    {
     "name": "stderr",
     "output_type": "stream",
     "text": [
      "2025-02-09 13:30:52,098 [13068] INFO     root: Epoch 179: Loss=8.3227, Val_Loss=7.0489, MAE=2.0294\n"
     ]
    },
    {
     "name": "stdout",
     "output_type": "stream",
     "text": [
      "\u001b[1m12/12\u001b[0m \u001b[32m━━━━━━━━━━━━━━━━━━━━\u001b[0m\u001b[37m\u001b[0m \u001b[1m0s\u001b[0m 5ms/step - loss: 8.3772 - mae: 1.9861 - mse: 8.3772 - val_loss: 7.0489 - val_mae: 2.3419 - val_mse: 7.0489\n",
      "Epoch 180/1000\n",
      "\u001b[1m 3/12\u001b[0m \u001b[32m━━━━━\u001b[0m\u001b[37m━━━━━━━━━━━━━━━\u001b[0m \u001b[1m0s\u001b[0m 3ms/step - loss: 7.2304 - mae: 1.9544 - mse: 7.2191  "
     ]
    },
    {
     "name": "stderr",
     "output_type": "stream",
     "text": [
      "2025-02-09 13:30:52,286 [13068] INFO     root: Epoch 180: Loss=8.2883, Val_Loss=7.1810, MAE=2.0231\n"
     ]
    },
    {
     "name": "stdout",
     "output_type": "stream",
     "text": [
      "\u001b[1m12/12\u001b[0m \u001b[32m━━━━━━━━━━━━━━━━━━━━\u001b[0m\u001b[37m\u001b[0m \u001b[1m0s\u001b[0m 6ms/step - loss: 7.5562 - mae: 2.0096 - mse: 7.5562 - val_loss: 7.1810 - val_mae: 2.3888 - val_mse: 7.1810\n",
      "Epoch 181/1000\n",
      "\u001b[1m 3/12\u001b[0m \u001b[32m━━━━━\u001b[0m\u001b[37m━━━━━━━━━━━━━━━\u001b[0m \u001b[1m0s\u001b[0m 5ms/step - loss: 14.0000 - mae: 2.3564 - mse: 13.5018 "
     ]
    },
    {
     "name": "stderr",
     "output_type": "stream",
     "text": [
      "2025-02-09 13:30:52,468 [13068] INFO     root: Epoch 181: Loss=8.2593, Val_Loss=6.8115, MAE=2.0176\n"
     ]
    },
    {
     "name": "stdout",
     "output_type": "stream",
     "text": [
      "\u001b[1m12/12\u001b[0m \u001b[32m━━━━━━━━━━━━━━━━━━━━\u001b[0m\u001b[37m\u001b[0m \u001b[1m0s\u001b[0m 7ms/step - loss: 11.0825 - mae: 2.2099 - mse: 11.0825 - val_loss: 6.8115 - val_mae: 2.3065 - val_mse: 6.8115\n",
      "Epoch 182/1000\n",
      "\u001b[1m 3/12\u001b[0m \u001b[32m━━━━━\u001b[0m\u001b[37m━━━━━━━━━━━━━━━\u001b[0m \u001b[1m0s\u001b[0m 5ms/step - loss: 8.6895 - mae: 2.1414 - mse: 9.0545   "
     ]
    },
    {
     "name": "stderr",
     "output_type": "stream",
     "text": [
      "2025-02-09 13:30:52,612 [13068] INFO     root: Epoch 182: Loss=8.2382, Val_Loss=6.8560, MAE=2.0212\n"
     ]
    },
    {
     "name": "stdout",
     "output_type": "stream",
     "text": [
      "\u001b[1m12/12\u001b[0m \u001b[32m━━━━━━━━━━━━━━━━━━━━\u001b[0m\u001b[37m\u001b[0m \u001b[1m0s\u001b[0m 7ms/step - loss: 8.7258 - mae: 2.0538 - mse: 8.7258 - val_loss: 6.8560 - val_mae: 2.3194 - val_mse: 6.8560\n",
      "Epoch 183/1000\n",
      "\u001b[1m 7/12\u001b[0m \u001b[32m━━━━━━━━━━━\u001b[0m\u001b[37m━━━━━━━━━\u001b[0m \u001b[1m0s\u001b[0m 3ms/step - loss: 10.3324 - mae: 2.1409 - mse: 10.3324"
     ]
    },
    {
     "name": "stderr",
     "output_type": "stream",
     "text": [
      "2025-02-09 13:30:52,795 [13068] INFO     root: Epoch 183: Loss=8.2227, Val_Loss=6.9214, MAE=2.0170\n"
     ]
    },
    {
     "name": "stdout",
     "output_type": "stream",
     "text": [
      "\u001b[1m12/12\u001b[0m \u001b[32m━━━━━━━━━━━━━━━━━━━━\u001b[0m\u001b[37m\u001b[0m \u001b[1m0s\u001b[0m 7ms/step - loss: 9.6803 - mae: 2.1018 - mse: 9.6803 - val_loss: 6.9214 - val_mae: 2.3349 - val_mse: 6.9214\n",
      "Epoch 184/1000\n",
      "\u001b[1m 4/12\u001b[0m \u001b[32m━━━━━━\u001b[0m\u001b[37m━━━━━━━━━━━━━━\u001b[0m \u001b[1m0s\u001b[0m 3ms/step - loss: 6.8258 - mae: 2.0584 - mse: 7.4289 "
     ]
    },
    {
     "name": "stderr",
     "output_type": "stream",
     "text": [
      "2025-02-09 13:30:52,962 [13068] INFO     root: Epoch 184: Loss=8.1817, Val_Loss=7.0298, MAE=2.0097\n"
     ]
    },
    {
     "name": "stdout",
     "output_type": "stream",
     "text": [
      "\u001b[1m12/12\u001b[0m \u001b[32m━━━━━━━━━━━━━━━━━━━━\u001b[0m\u001b[37m\u001b[0m \u001b[1m0s\u001b[0m 7ms/step - loss: 7.9175 - mae: 2.0380 - mse: 7.9175 - val_loss: 7.0298 - val_mae: 2.3508 - val_mse: 7.0298\n",
      "Epoch 185/1000\n",
      "\u001b[1m 4/12\u001b[0m \u001b[32m━━━━━━\u001b[0m\u001b[37m━━━━━━━━━━━━━━\u001b[0m \u001b[1m0s\u001b[0m 2ms/step - loss: 6.8007 - mae: 1.8814 - mse: 7.0889 "
     ]
    },
    {
     "name": "stderr",
     "output_type": "stream",
     "text": [
      "2025-02-09 13:30:53,103 [13068] INFO     root: Epoch 185: Loss=8.1892, Val_Loss=6.9749, MAE=2.0114\n"
     ]
    },
    {
     "name": "stdout",
     "output_type": "stream",
     "text": [
      "\u001b[1m12/12\u001b[0m \u001b[32m━━━━━━━━━━━━━━━━━━━━\u001b[0m\u001b[37m\u001b[0m \u001b[1m0s\u001b[0m 7ms/step - loss: 7.5232 - mae: 1.9300 - mse: 7.5232 - val_loss: 6.9749 - val_mae: 2.3395 - val_mse: 6.9749\n",
      "Epoch 186/1000\n",
      "\u001b[1m 7/12\u001b[0m \u001b[32m━━━━━━━━━━━\u001b[0m\u001b[37m━━━━━━━━━\u001b[0m \u001b[1m0s\u001b[0m 2ms/step - loss: 8.9939 - mae: 2.0584 - mse: 8.9665 "
     ]
    },
    {
     "name": "stderr",
     "output_type": "stream",
     "text": [
      "2025-02-09 13:30:53,275 [13068] INFO     root: Epoch 186: Loss=8.1741, Val_Loss=6.8933, MAE=2.0111\n"
     ]
    },
    {
     "name": "stdout",
     "output_type": "stream",
     "text": [
      "\u001b[1m12/12\u001b[0m \u001b[32m━━━━━━━━━━━━━━━━━━━━\u001b[0m\u001b[37m\u001b[0m \u001b[1m0s\u001b[0m 7ms/step - loss: 8.7631 - mae: 2.0481 - mse: 8.7631 - val_loss: 6.8933 - val_mae: 2.3280 - val_mse: 6.8933\n",
      "Epoch 187/1000\n",
      "\u001b[1m 3/12\u001b[0m \u001b[32m━━━━━\u001b[0m\u001b[37m━━━━━━━━━━━━━━━\u001b[0m \u001b[1m0s\u001b[0m 2ms/step - loss: 6.2824 - mae: 1.9397 - mse: 6.7610  "
     ]
    },
    {
     "name": "stderr",
     "output_type": "stream",
     "text": [
      "2025-02-09 13:30:53,472 [13068] INFO     root: Epoch 187: Loss=8.1778, Val_Loss=6.8032, MAE=2.0156\n"
     ]
    },
    {
     "name": "stdout",
     "output_type": "stream",
     "text": [
      "\u001b[1m12/12\u001b[0m \u001b[32m━━━━━━━━━━━━━━━━━━━━\u001b[0m\u001b[37m\u001b[0m \u001b[1m0s\u001b[0m 7ms/step - loss: 7.2669 - mae: 1.9840 - mse: 7.2669 - val_loss: 6.8032 - val_mae: 2.3127 - val_mse: 6.8032\n",
      "Epoch 188/1000\n",
      "\u001b[1m 8/12\u001b[0m \u001b[32m━━━━━━━━━━━━━\u001b[0m\u001b[37m━━━━━━━\u001b[0m \u001b[1m0s\u001b[0m 2ms/step - loss: 7.4520 - mae: 1.9356 - mse: 7.6539 "
     ]
    },
    {
     "name": "stderr",
     "output_type": "stream",
     "text": [
      "2025-02-09 13:30:53,639 [13068] INFO     root: Epoch 188: Loss=8.1223, Val_Loss=6.7488, MAE=2.0094\n"
     ]
    },
    {
     "name": "stdout",
     "output_type": "stream",
     "text": [
      "\u001b[1m12/12\u001b[0m \u001b[32m━━━━━━━━━━━━━━━━━━━━\u001b[0m\u001b[37m\u001b[0m \u001b[1m0s\u001b[0m 8ms/step - loss: 7.7639 - mae: 1.9522 - mse: 7.7639 - val_loss: 6.7488 - val_mae: 2.2788 - val_mse: 6.7488\n",
      "Epoch 189/1000\n",
      "\u001b[1m 5/12\u001b[0m \u001b[32m━━━━━━━━\u001b[0m\u001b[37m━━━━━━━━━━━━\u001b[0m \u001b[1m0s\u001b[0m 2ms/step - loss: 10.1348 - mae: 2.1096 - mse: 8.8188  "
     ]
    },
    {
     "name": "stderr",
     "output_type": "stream",
     "text": [
      "2025-02-09 13:30:53,821 [13068] INFO     root: Epoch 189: Loss=8.1181, Val_Loss=6.8845, MAE=2.0064\n"
     ]
    },
    {
     "name": "stdout",
     "output_type": "stream",
     "text": [
      "\u001b[1m12/12\u001b[0m \u001b[32m━━━━━━━━━━━━━━━━━━━━\u001b[0m\u001b[37m\u001b[0m \u001b[1m0s\u001b[0m 6ms/step - loss: 8.7020 - mae: 2.0721 - mse: 8.7020 - val_loss: 6.8845 - val_mae: 2.3234 - val_mse: 6.8845\n",
      "Epoch 190/1000\n",
      "\u001b[1m 4/12\u001b[0m \u001b[32m━━━━━━\u001b[0m\u001b[37m━━━━━━━━━━━━━━\u001b[0m \u001b[1m0s\u001b[0m 2ms/step - loss: 8.0062 - mae: 2.1852 - mse: 9.19114"
     ]
    },
    {
     "name": "stderr",
     "output_type": "stream",
     "text": [
      "2025-02-09 13:30:53,934 [13068] INFO     root: Epoch 190: Loss=8.1133, Val_Loss=7.0477, MAE=1.9989\n"
     ]
    },
    {
     "name": "stdout",
     "output_type": "stream",
     "text": [
      "\u001b[1m12/12\u001b[0m \u001b[32m━━━━━━━━━━━━━━━━━━━━\u001b[0m\u001b[37m\u001b[0m \u001b[1m0s\u001b[0m 6ms/step - loss: 8.8551 - mae: 2.1090 - mse: 8.8551 - val_loss: 7.0477 - val_mae: 2.3583 - val_mse: 7.0477\n",
      "Epoch 191/1000\n",
      "\u001b[1m 2/12\u001b[0m \u001b[32m━━━\u001b[0m\u001b[37m━━━━━━━━━━━━━━━━━\u001b[0m \u001b[1m0s\u001b[0m 2ms/step - loss: 5.0014 - mae: 1.9937 - mse: 7.9383 "
     ]
    },
    {
     "name": "stderr",
     "output_type": "stream",
     "text": [
      "2025-02-09 13:30:54,110 [13068] INFO     root: Epoch 191: Loss=8.1184, Val_Loss=6.8229, MAE=2.0059\n"
     ]
    },
    {
     "name": "stdout",
     "output_type": "stream",
     "text": [
      "\u001b[1m12/12\u001b[0m \u001b[32m━━━━━━━━━━━━━━━━━━━━\u001b[0m\u001b[37m\u001b[0m \u001b[1m0s\u001b[0m 7ms/step - loss: 8.1343 - mae: 2.0112 - mse: 8.1343 - val_loss: 6.8229 - val_mae: 2.3191 - val_mse: 6.8229\n",
      "Epoch 192/1000\n",
      "\u001b[1m 2/12\u001b[0m \u001b[32m━━━\u001b[0m\u001b[37m━━━━━━━━━━━━━━━━━\u001b[0m \u001b[1m0s\u001b[0m 3ms/step - loss: 4.2333 - mae: 1.8472 - mse: 7.2872 "
     ]
    },
    {
     "name": "stderr",
     "output_type": "stream",
     "text": [
      "2025-02-09 13:30:54,266 [13068] INFO     ml_monitor.logging: Starting metrics logging thread...\n",
      "2025-02-09 13:30:54,311 [13068] INFO     root: Epoch 192: Loss=8.0809, Val_Loss=6.7692, MAE=1.9986\n"
     ]
    },
    {
     "name": "stdout",
     "output_type": "stream",
     "text": [
      "\u001b[1m12/12\u001b[0m \u001b[32m━━━━━━━━━━━━━━━━━━━━\u001b[0m\u001b[37m\u001b[0m \u001b[1m0s\u001b[0m 9ms/step - loss: 7.6591 - mae: 1.9099 - mse: 7.6591 - val_loss: 6.7692 - val_mae: 2.3106 - val_mse: 6.7692\n",
      "Epoch 193/1000\n",
      "\u001b[1m 6/12\u001b[0m \u001b[32m━━━━━━━━━━\u001b[0m\u001b[37m━━━━━━━━━━\u001b[0m \u001b[1m0s\u001b[0m 1ms/step - loss: 5.4602 - mae: 1.8189 - mse: 5.958635"
     ]
    },
    {
     "name": "stderr",
     "output_type": "stream",
     "text": [
      "2025-02-09 13:30:54,649 [13068] INFO     root: Epoch 193: Loss=8.0743, Val_Loss=6.8939, MAE=1.9939\n"
     ]
    },
    {
     "name": "stdout",
     "output_type": "stream",
     "text": [
      "\u001b[1m12/12\u001b[0m \u001b[32m━━━━━━━━━━━━━━━━━━━━\u001b[0m\u001b[37m\u001b[0m \u001b[1m0s\u001b[0m 6ms/step - loss: 6.5541 - mae: 1.8719 - mse: 6.5541 - val_loss: 6.8939 - val_mae: 2.3390 - val_mse: 6.8939\n",
      "Epoch 194/1000\n",
      "\u001b[1m 6/12\u001b[0m \u001b[32m━━━━━━━━━━\u001b[0m\u001b[37m━━━━━━━━━━\u001b[0m \u001b[1m0s\u001b[0m 3ms/step - loss: 6.5742 - mae: 1.7823 - mse: 6.574293"
     ]
    },
    {
     "name": "stderr",
     "output_type": "stream",
     "text": [
      "2025-02-09 13:30:54,858 [13068] INFO     root: Epoch 194: Loss=8.0563, Val_Loss=6.6292, MAE=1.9906\n"
     ]
    },
    {
     "name": "stdout",
     "output_type": "stream",
     "text": [
      "\u001b[1m12/12\u001b[0m \u001b[32m━━━━━━━━━━━━━━━━━━━━\u001b[0m\u001b[37m\u001b[0m \u001b[1m0s\u001b[0m 9ms/step - loss: 7.7136 - mae: 1.9235 - mse: 7.7136 - val_loss: 6.6292 - val_mae: 2.2827 - val_mse: 6.6292\n",
      "Epoch 195/1000\n",
      "\u001b[1m 4/12\u001b[0m \u001b[32m━━━━━━\u001b[0m\u001b[37m━━━━━━━━━━━━━━\u001b[0m \u001b[1m0s\u001b[0m 2ms/step - loss: 7.4781 - mae: 1.9681 - mse: 7.3302 "
     ]
    },
    {
     "name": "stderr",
     "output_type": "stream",
     "text": [
      "2025-02-09 13:30:55,022 [13068] INFO     root: Epoch 195: Loss=8.0144, Val_Loss=6.5571, MAE=1.9920\n"
     ]
    },
    {
     "name": "stdout",
     "output_type": "stream",
     "text": [
      "\u001b[1m12/12\u001b[0m \u001b[32m━━━━━━━━━━━━━━━━━━━━\u001b[0m\u001b[37m\u001b[0m \u001b[1m0s\u001b[0m 8ms/step - loss: 7.4830 - mae: 1.9819 - mse: 7.4830 - val_loss: 6.5571 - val_mae: 2.2720 - val_mse: 6.5571\n",
      "Epoch 196/1000\n",
      "\u001b[1m 5/12\u001b[0m \u001b[32m━━━━━━━━\u001b[0m\u001b[37m━━━━━━━━━━━━\u001b[0m \u001b[1m0s\u001b[0m 2ms/step - loss: 9.8109 - mae: 2.2261 - mse: 9.8799 "
     ]
    },
    {
     "name": "stderr",
     "output_type": "stream",
     "text": [
      "2025-02-09 13:30:55,162 [13068] INFO     root: Epoch 196: Loss=8.0237, Val_Loss=6.5280, MAE=1.9953\n"
     ]
    },
    {
     "name": "stdout",
     "output_type": "stream",
     "text": [
      "\u001b[1m12/12\u001b[0m \u001b[32m━━━━━━━━━━━━━━━━━━━━\u001b[0m\u001b[37m\u001b[0m \u001b[1m0s\u001b[0m 8ms/step - loss: 9.1747 - mae: 2.1370 - mse: 9.1747 - val_loss: 6.5280 - val_mae: 2.2581 - val_mse: 6.5280\n",
      "Epoch 197/1000\n",
      "\u001b[1m 3/12\u001b[0m \u001b[32m━━━━━\u001b[0m\u001b[37m━━━━━━━━━━━━━━━\u001b[0m \u001b[1m0s\u001b[0m 2ms/step - loss: 8.6449 - mae: 1.8735 - mse: 8.9377  "
     ]
    },
    {
     "name": "stderr",
     "output_type": "stream",
     "text": [
      "2025-02-09 13:30:55,321 [13068] INFO     root: Epoch 197: Loss=8.0230, Val_Loss=6.6406, MAE=1.9934\n"
     ]
    },
    {
     "name": "stdout",
     "output_type": "stream",
     "text": [
      "\u001b[1m12/12\u001b[0m \u001b[32m━━━━━━━━━━━━━━━━━━━━\u001b[0m\u001b[37m\u001b[0m \u001b[1m0s\u001b[0m 9ms/step - loss: 8.5558 - mae: 1.9948 - mse: 8.5558 - val_loss: 6.6406 - val_mae: 2.2854 - val_mse: 6.6406\n",
      "Epoch 198/1000\n",
      "\u001b[1m 4/12\u001b[0m \u001b[32m━━━━━━\u001b[0m\u001b[37m━━━━━━━━━━━━━━\u001b[0m \u001b[1m0s\u001b[0m 2ms/step - loss: 5.6473 - mae: 1.6987 - mse: 6.3886 "
     ]
    },
    {
     "name": "stderr",
     "output_type": "stream",
     "text": [
      "2025-02-09 13:30:55,497 [13068] INFO     root: Epoch 198: Loss=7.9882, Val_Loss=6.8439, MAE=1.9921\n"
     ]
    },
    {
     "name": "stdout",
     "output_type": "stream",
     "text": [
      "\u001b[1m12/12\u001b[0m \u001b[32m━━━━━━━━━━━━━━━━━━━━\u001b[0m\u001b[37m\u001b[0m \u001b[1m0s\u001b[0m 8ms/step - loss: 7.2250 - mae: 1.8512 - mse: 7.2250 - val_loss: 6.8439 - val_mae: 2.3395 - val_mse: 6.8439\n",
      "Epoch 199/1000\n",
      "\u001b[1m 7/12\u001b[0m \u001b[32m━━━━━━━━━━━\u001b[0m\u001b[37m━━━━━━━━━\u001b[0m \u001b[1m0s\u001b[0m 3ms/step - loss: 6.2270 - mae: 1.7787 - mse: 6.9471 "
     ]
    },
    {
     "name": "stderr",
     "output_type": "stream",
     "text": [
      "2025-02-09 13:30:55,648 [13068] INFO     root: Epoch 199: Loss=7.9824, Val_Loss=6.4934, MAE=1.9880\n"
     ]
    },
    {
     "name": "stdout",
     "output_type": "stream",
     "text": [
      "\u001b[1m12/12\u001b[0m \u001b[32m━━━━━━━━━━━━━━━━━━━━\u001b[0m\u001b[37m\u001b[0m \u001b[1m0s\u001b[0m 8ms/step - loss: 7.0210 - mae: 1.8391 - mse: 7.0210 - val_loss: 6.4934 - val_mae: 2.2589 - val_mse: 6.4934\n",
      "Epoch 200/1000\n",
      "\u001b[1m 7/12\u001b[0m \u001b[32m━━━━━━━━━━━\u001b[0m\u001b[37m━━━━━━━━━\u001b[0m \u001b[1m0s\u001b[0m 2ms/step - loss: 8.2084 - mae: 2.1061 - mse: 8.3203  "
     ]
    },
    {
     "name": "stderr",
     "output_type": "stream",
     "text": [
      "2025-02-09 13:30:55,814 [13068] INFO     root: Epoch 200: Loss=7.9507, Val_Loss=6.6583, MAE=1.9888\n"
     ]
    },
    {
     "name": "stdout",
     "output_type": "stream",
     "text": [
      "\u001b[1m12/12\u001b[0m \u001b[32m━━━━━━━━━━━━━━━━━━━━\u001b[0m\u001b[37m\u001b[0m \u001b[1m0s\u001b[0m 9ms/step - loss: 8.2434 - mae: 2.0710 - mse: 8.2434 - val_loss: 6.6583 - val_mae: 2.2955 - val_mse: 6.6583\n",
      "Epoch 201/1000\n",
      "\u001b[1m 7/12\u001b[0m \u001b[32m━━━━━━━━━━━\u001b[0m\u001b[37m━━━━━━━━━\u001b[0m \u001b[1m0s\u001b[0m 3ms/step - loss: 6.1871 - mae: 1.8702 - mse: 6.95125"
     ]
    },
    {
     "name": "stderr",
     "output_type": "stream",
     "text": [
      "2025-02-09 13:30:56,016 [13068] INFO     root: Epoch 201: Loss=7.9181, Val_Loss=6.6568, MAE=1.9784\n"
     ]
    },
    {
     "name": "stdout",
     "output_type": "stream",
     "text": [
      "\u001b[1m12/12\u001b[0m \u001b[32m━━━━━━━━━━━━━━━━━━━━\u001b[0m\u001b[37m\u001b[0m \u001b[1m0s\u001b[0m 11ms/step - loss: 7.1038 - mae: 1.8961 - mse: 7.1038 - val_loss: 6.6568 - val_mae: 2.2923 - val_mse: 6.6568\n",
      "Epoch 202/1000\n",
      "\u001b[1m 5/12\u001b[0m \u001b[32m━━━━━━━━\u001b[0m\u001b[37m━━━━━━━━━━━━\u001b[0m \u001b[1m0s\u001b[0m 3ms/step - loss: 7.8372 - mae: 1.9815 - mse: 8.1976 "
     ]
    },
    {
     "name": "stderr",
     "output_type": "stream",
     "text": [
      "2025-02-09 13:30:56,226 [13068] INFO     root: Epoch 202: Loss=7.9030, Val_Loss=6.6089, MAE=1.9770\n"
     ]
    },
    {
     "name": "stdout",
     "output_type": "stream",
     "text": [
      "\u001b[1m12/12\u001b[0m \u001b[32m━━━━━━━━━━━━━━━━━━━━\u001b[0m\u001b[37m\u001b[0m \u001b[1m0s\u001b[0m 12ms/step - loss: 8.1408 - mae: 1.9923 - mse: 8.1408 - val_loss: 6.6089 - val_mae: 2.2840 - val_mse: 6.6089\n",
      "Epoch 203/1000\n",
      "\u001b[1m 4/12\u001b[0m \u001b[32m━━━━━━\u001b[0m\u001b[37m━━━━━━━━━━━━━━\u001b[0m \u001b[1m0s\u001b[0m 4ms/step - loss: 6.3345 - mae: 1.8993 - mse: 6.6701  "
     ]
    },
    {
     "name": "stderr",
     "output_type": "stream",
     "text": [
      "2025-02-09 13:30:56,548 [13068] INFO     root: Epoch 203: Loss=7.9074, Val_Loss=6.5015, MAE=1.9752\n"
     ]
    },
    {
     "name": "stdout",
     "output_type": "stream",
     "text": [
      "\u001b[1m12/12\u001b[0m \u001b[32m━━━━━━━━━━━━━━━━━━━━\u001b[0m\u001b[37m\u001b[0m \u001b[1m0s\u001b[0m 10ms/step - loss: 7.1001 - mae: 1.9221 - mse: 7.1001 - val_loss: 6.5015 - val_mae: 2.2635 - val_mse: 6.5015\n",
      "Epoch 204/1000\n",
      "\u001b[1m 7/12\u001b[0m \u001b[32m━━━━━━━━━━━\u001b[0m\u001b[37m━━━━━━━━━\u001b[0m \u001b[1m0s\u001b[0m 2ms/step - loss: 7.3205 - mae: 1.9996 - mse: 7.7274 "
     ]
    },
    {
     "name": "stderr",
     "output_type": "stream",
     "text": [
      "2025-02-09 13:30:56,715 [13068] INFO     root: Epoch 204: Loss=7.9156, Val_Loss=6.4940, MAE=1.9874\n"
     ]
    },
    {
     "name": "stdout",
     "output_type": "stream",
     "text": [
      "\u001b[1m12/12\u001b[0m \u001b[32m━━━━━━━━━━━━━━━━━━━━\u001b[0m\u001b[37m\u001b[0m \u001b[1m0s\u001b[0m 9ms/step - loss: 7.7564 - mae: 1.9984 - mse: 7.7564 - val_loss: 6.4940 - val_mae: 2.2669 - val_mse: 6.4940\n",
      "Epoch 205/1000\n",
      "\u001b[1m 5/12\u001b[0m \u001b[32m━━━━━━━━\u001b[0m\u001b[37m━━━━━━━━━━━━\u001b[0m \u001b[1m0s\u001b[0m 3ms/step - loss: 6.5800 - mae: 1.8811 - mse: 6.9784 "
     ]
    },
    {
     "name": "stderr",
     "output_type": "stream",
     "text": [
      "2025-02-09 13:30:56,906 [13068] INFO     root: Epoch 205: Loss=7.8703, Val_Loss=6.6890, MAE=1.9721\n"
     ]
    },
    {
     "name": "stdout",
     "output_type": "stream",
     "text": [
      "\u001b[1m12/12\u001b[0m \u001b[32m━━━━━━━━━━━━━━━━━━━━\u001b[0m\u001b[37m\u001b[0m \u001b[1m0s\u001b[0m 11ms/step - loss: 7.0723 - mae: 1.9229 - mse: 7.0723 - val_loss: 6.6890 - val_mae: 2.3043 - val_mse: 6.6890\n",
      "Epoch 206/1000\n",
      "\u001b[1m 8/12\u001b[0m \u001b[32m━━━━━━━━━━━━━\u001b[0m\u001b[37m━━━━━━━\u001b[0m \u001b[1m0s\u001b[0m 3ms/step - loss: 7.6758 - mae: 1.9493 - mse: 7.69568"
     ]
    },
    {
     "name": "stderr",
     "output_type": "stream",
     "text": [
      "2025-02-09 13:30:57,086 [13068] INFO     root: Epoch 206: Loss=7.8589, Val_Loss=6.4365, MAE=1.9743\n"
     ]
    },
    {
     "name": "stdout",
     "output_type": "stream",
     "text": [
      "\u001b[1m12/12\u001b[0m \u001b[32m━━━━━━━━━━━━━━━━━━━━\u001b[0m\u001b[37m\u001b[0m \u001b[1m0s\u001b[0m 10ms/step - loss: 7.7228 - mae: 1.9546 - mse: 7.7228 - val_loss: 6.4365 - val_mae: 2.2463 - val_mse: 6.4365\n",
      "Epoch 207/1000\n",
      "\u001b[1m 5/12\u001b[0m \u001b[32m━━━━━━━━\u001b[0m\u001b[37m━━━━━━━━━━━━\u001b[0m \u001b[1m0s\u001b[0m 4ms/step - loss: 8.6716 - mae: 2.0053 - mse: 8.819970"
     ]
    },
    {
     "name": "stderr",
     "output_type": "stream",
     "text": [
      "2025-02-09 13:30:57,429 [13068] INFO     root: Epoch 207: Loss=7.8537, Val_Loss=6.5814, MAE=1.9764\n"
     ]
    },
    {
     "name": "stdout",
     "output_type": "stream",
     "text": [
      "\u001b[1m12/12\u001b[0m \u001b[32m━━━━━━━━━━━━━━━━━━━━\u001b[0m\u001b[37m\u001b[0m \u001b[1m0s\u001b[0m 11ms/step - loss: 8.5262 - mae: 2.0059 - mse: 8.5262 - val_loss: 6.5814 - val_mae: 2.2719 - val_mse: 6.5814\n",
      "Epoch 208/1000\n",
      "\u001b[1m 4/12\u001b[0m \u001b[32m━━━━━━\u001b[0m\u001b[37m━━━━━━━━━━━━━━\u001b[0m \u001b[1m0s\u001b[0m 2ms/step - loss: 12.1871 - mae: 2.1458 - mse: 9.6015 7"
     ]
    },
    {
     "name": "stderr",
     "output_type": "stream",
     "text": [
      "2025-02-09 13:30:57,609 [13068] INFO     root: Epoch 208: Loss=7.8408, Val_Loss=6.6007, MAE=1.9740\n"
     ]
    },
    {
     "name": "stdout",
     "output_type": "stream",
     "text": [
      "\u001b[1m12/12\u001b[0m \u001b[32m━━━━━━━━━━━━━━━━━━━━\u001b[0m\u001b[37m\u001b[0m \u001b[1m0s\u001b[0m 9ms/step - loss: 9.2908 - mae: 2.0787 - mse: 9.2908 - val_loss: 6.6007 - val_mae: 2.2839 - val_mse: 6.6007\n",
      "Epoch 209/1000\n",
      "\u001b[1m 4/12\u001b[0m \u001b[32m━━━━━━\u001b[0m\u001b[37m━━━━━━━━━━━━━━\u001b[0m \u001b[1m0s\u001b[0m 3ms/step - loss: 7.1235 - mae: 2.0568 - mse: 7.50284"
     ]
    },
    {
     "name": "stderr",
     "output_type": "stream",
     "text": [
      "2025-02-09 13:30:57,779 [13068] INFO     root: Epoch 209: Loss=7.8115, Val_Loss=6.4329, MAE=1.9664\n"
     ]
    },
    {
     "name": "stdout",
     "output_type": "stream",
     "text": [
      "\u001b[1m12/12\u001b[0m \u001b[32m━━━━━━━━━━━━━━━━━━━━\u001b[0m\u001b[37m\u001b[0m \u001b[1m0s\u001b[0m 9ms/step - loss: 7.7072 - mae: 2.0279 - mse: 7.7072 - val_loss: 6.4329 - val_mae: 2.2546 - val_mse: 6.4329\n",
      "Epoch 210/1000\n",
      "\u001b[1m 4/12\u001b[0m \u001b[32m━━━━━━\u001b[0m\u001b[37m━━━━━━━━━━━━━━\u001b[0m \u001b[1m0s\u001b[0m 2ms/step - loss: 6.8475 - mae: 1.8839 - mse: 6.8475 "
     ]
    },
    {
     "name": "stderr",
     "output_type": "stream",
     "text": [
      "2025-02-09 13:30:57,961 [13068] INFO     root: Epoch 210: Loss=7.8362, Val_Loss=6.5521, MAE=1.9624\n"
     ]
    },
    {
     "name": "stdout",
     "output_type": "stream",
     "text": [
      "\u001b[1m12/12\u001b[0m \u001b[32m━━━━━━━━━━━━━━━━━━━━\u001b[0m\u001b[37m\u001b[0m \u001b[1m0s\u001b[0m 9ms/step - loss: 6.9666 - mae: 1.8826 - mse: 6.9666 - val_loss: 6.5521 - val_mae: 2.2838 - val_mse: 6.5521\n",
      "Epoch 211/1000\n",
      "\u001b[1m 2/12\u001b[0m \u001b[32m━━━\u001b[0m\u001b[37m━━━━━━━━━━━━━━━━━\u001b[0m \u001b[1m0s\u001b[0m 2ms/step - loss: 4.4755 - mae: 1.6432 - mse: 6.0655  "
     ]
    },
    {
     "name": "stderr",
     "output_type": "stream",
     "text": [
      "2025-02-09 13:30:58,260 [13068] INFO     root: Epoch 211: Loss=7.8220, Val_Loss=6.2597, MAE=1.9714\n"
     ]
    },
    {
     "name": "stdout",
     "output_type": "stream",
     "text": [
      "\u001b[1m12/12\u001b[0m \u001b[32m━━━━━━━━━━━━━━━━━━━━\u001b[0m\u001b[37m\u001b[0m \u001b[1m0s\u001b[0m 7ms/step - loss: 7.0417 - mae: 1.8269 - mse: 7.0417 - val_loss: 6.2597 - val_mae: 2.2144 - val_mse: 6.2597\n",
      "Epoch 212/1000\n",
      "\u001b[1m 3/12\u001b[0m \u001b[32m━━━━━\u001b[0m\u001b[37m━━━━━━━━━━━━━━━\u001b[0m \u001b[1m0s\u001b[0m 2ms/step - loss: 6.4428 - mae: 2.0170 - mse: 7.0448 8"
     ]
    },
    {
     "name": "stderr",
     "output_type": "stream",
     "text": [
      "2025-02-09 13:30:58,393 [13068] INFO     root: Epoch 212: Loss=7.7870, Val_Loss=6.3853, MAE=1.9698\n"
     ]
    },
    {
     "name": "stdout",
     "output_type": "stream",
     "text": [
      "\u001b[1m12/12\u001b[0m \u001b[32m━━━━━━━━━━━━━━━━━━━━\u001b[0m\u001b[37m\u001b[0m \u001b[1m0s\u001b[0m 7ms/step - loss: 7.1821 - mae: 1.9845 - mse: 7.1821 - val_loss: 6.3853 - val_mae: 2.2412 - val_mse: 6.3853\n",
      "Epoch 213/1000\n",
      "\u001b[1m 4/12\u001b[0m \u001b[32m━━━━━━\u001b[0m\u001b[37m━━━━━━━━━━━━━━\u001b[0m \u001b[1m0s\u001b[0m 2ms/step - loss: 10.3875 - mae: 2.2338 - mse: 9.4549    "
     ]
    },
    {
     "name": "stderr",
     "output_type": "stream",
     "text": [
      "2025-02-09 13:30:58,538 [13068] INFO     root: Epoch 213: Loss=7.7695, Val_Loss=6.5237, MAE=1.9681\n"
     ]
    },
    {
     "name": "stdout",
     "output_type": "stream",
     "text": [
      "\u001b[1m12/12\u001b[0m \u001b[32m━━━━━━━━━━━━━━━━━━━━\u001b[0m\u001b[37m\u001b[0m \u001b[1m0s\u001b[0m 7ms/step - loss: 8.9456 - mae: 2.1116 - mse: 8.9456 - val_loss: 6.5237 - val_mae: 2.2597 - val_mse: 6.5237\n",
      "Epoch 214/1000\n",
      "\u001b[1m 8/12\u001b[0m \u001b[32m━━━━━━━━━━━━━\u001b[0m\u001b[37m━━━━━━━\u001b[0m \u001b[1m0s\u001b[0m 2ms/step - loss: 7.3546 - mae: 1.8024 - mse: 7.40647"
     ]
    },
    {
     "name": "stderr",
     "output_type": "stream",
     "text": [
      "2025-02-09 13:30:58,678 [13068] INFO     root: Epoch 214: Loss=7.7317, Val_Loss=6.5624, MAE=1.9639\n"
     ]
    },
    {
     "name": "stdout",
     "output_type": "stream",
     "text": [
      "\u001b[1m12/12\u001b[0m \u001b[32m━━━━━━━━━━━━━━━━━━━━\u001b[0m\u001b[37m\u001b[0m \u001b[1m0s\u001b[0m 8ms/step - loss: 7.5615 - mae: 1.8733 - mse: 7.5615 - val_loss: 6.5624 - val_mae: 2.2717 - val_mse: 6.5624\n",
      "Epoch 215/1000\n",
      "\u001b[1m 4/12\u001b[0m \u001b[32m━━━━━━\u001b[0m\u001b[37m━━━━━━━━━━━━━━\u001b[0m \u001b[1m0s\u001b[0m 3ms/step - loss: 8.7952 - mae: 2.0151 - mse: 9.1248   "
     ]
    },
    {
     "name": "stderr",
     "output_type": "stream",
     "text": [
      "2025-02-09 13:30:58,827 [13068] INFO     root: Epoch 215: Loss=7.7147, Val_Loss=6.5764, MAE=1.9552\n"
     ]
    },
    {
     "name": "stdout",
     "output_type": "stream",
     "text": [
      "\u001b[1m12/12\u001b[0m \u001b[32m━━━━━━━━━━━━━━━━━━━━\u001b[0m\u001b[37m\u001b[0m \u001b[1m0s\u001b[0m 9ms/step - loss: 8.5812 - mae: 1.9895 - mse: 8.5812 - val_loss: 6.5764 - val_mae: 2.2807 - val_mse: 6.5764\n",
      "Epoch 216/1000\n",
      "\u001b[1m 7/12\u001b[0m \u001b[32m━━━━━━━━━━━\u001b[0m\u001b[37m━━━━━━━━━\u001b[0m \u001b[1m0s\u001b[0m 3ms/step - loss: 11.0062 - mae: 2.1490 - mse: 10.7060 "
     ]
    },
    {
     "name": "stderr",
     "output_type": "stream",
     "text": [
      "2025-02-09 13:30:58,989 [13068] INFO     root: Epoch 216: Loss=7.7645, Val_Loss=6.4895, MAE=1.9689\n"
     ]
    },
    {
     "name": "stdout",
     "output_type": "stream",
     "text": [
      "\u001b[1m12/12\u001b[0m \u001b[32m━━━━━━━━━━━━━━━━━━━━\u001b[0m\u001b[37m\u001b[0m \u001b[1m0s\u001b[0m 9ms/step - loss: 9.6480 - mae: 2.0852 - mse: 9.6480 - val_loss: 6.4895 - val_mae: 2.2547 - val_mse: 6.4895\n",
      "Epoch 217/1000\n",
      "\u001b[1m 5/12\u001b[0m \u001b[32m━━━━━━━━\u001b[0m\u001b[37m━━━━━━━━━━━━\u001b[0m \u001b[1m0s\u001b[0m 2ms/step - loss: 9.6381 - mae: 2.1501 - mse: 9.3123 1"
     ]
    },
    {
     "name": "stderr",
     "output_type": "stream",
     "text": [
      "2025-02-09 13:30:59,129 [13068] INFO     root: Epoch 217: Loss=7.7077, Val_Loss=6.3898, MAE=1.9640\n"
     ]
    },
    {
     "name": "stdout",
     "output_type": "stream",
     "text": [
      "\u001b[1m12/12\u001b[0m \u001b[32m━━━━━━━━━━━━━━━━━━━━\u001b[0m\u001b[37m\u001b[0m \u001b[1m0s\u001b[0m 8ms/step - loss: 8.6721 - mae: 2.0754 - mse: 8.6721 - val_loss: 6.3898 - val_mae: 2.2373 - val_mse: 6.3898\n",
      "Epoch 218/1000\n",
      "\u001b[1m 6/12\u001b[0m \u001b[32m━━━━━━━━━━\u001b[0m\u001b[37m━━━━━━━━━━\u001b[0m \u001b[1m0s\u001b[0m 3ms/step - loss: 6.2009 - mae: 1.9092 - mse: 7.22818"
     ]
    },
    {
     "name": "stderr",
     "output_type": "stream",
     "text": [
      "2025-02-09 13:30:59,292 [13068] INFO     root: Epoch 218: Loss=7.6782, Val_Loss=6.5596, MAE=1.9556\n",
      "2025-02-09 13:30:59,294 [13068] INFO     ml_monitor.logging: Starting metrics logging thread...\n"
     ]
    },
    {
     "name": "stdout",
     "output_type": "stream",
     "text": [
      "\u001b[1m12/12\u001b[0m \u001b[32m━━━━━━━━━━━━━━━━━━━━\u001b[0m\u001b[37m\u001b[0m \u001b[1m0s\u001b[0m 8ms/step - loss: 7.2811 - mae: 1.9251 - mse: 7.2811 - val_loss: 6.5596 - val_mae: 2.2790 - val_mse: 6.5596\n",
      "Epoch 219/1000\n",
      "\u001b[1m 3/12\u001b[0m \u001b[32m━━━━━\u001b[0m\u001b[37m━━━━━━━━━━━━━━━\u001b[0m \u001b[1m0s\u001b[0m 5ms/step - loss: 7.7896 - mae: 2.0933 - mse: 8.45119"
     ]
    },
    {
     "name": "stderr",
     "output_type": "stream",
     "text": [
      "2025-02-09 13:30:59,480 [13068] INFO     root: Epoch 219: Loss=7.6736, Val_Loss=6.5541, MAE=1.9478\n"
     ]
    },
    {
     "name": "stdout",
     "output_type": "stream",
     "text": [
      "\u001b[1m12/12\u001b[0m \u001b[32m━━━━━━━━━━━━━━━━━━━━\u001b[0m\u001b[37m\u001b[0m \u001b[1m0s\u001b[0m 8ms/step - loss: 8.2178 - mae: 2.0449 - mse: 8.2178 - val_loss: 6.5541 - val_mae: 2.2792 - val_mse: 6.5541\n",
      "Epoch 220/1000\n",
      "\u001b[1m 7/12\u001b[0m \u001b[32m━━━━━━━━━━━\u001b[0m\u001b[37m━━━━━━━━━\u001b[0m \u001b[1m0s\u001b[0m 3ms/step - loss: 5.3836 - mae: 1.8569 - mse: 6.34163"
     ]
    },
    {
     "name": "stderr",
     "output_type": "stream",
     "text": [
      "2025-02-09 13:30:59,649 [13068] INFO     root: Epoch 220: Loss=7.6390, Val_Loss=6.2495, MAE=1.9504\n"
     ]
    },
    {
     "name": "stdout",
     "output_type": "stream",
     "text": [
      "\u001b[1m12/12\u001b[0m \u001b[32m━━━━━━━━━━━━━━━━━━━━\u001b[0m\u001b[37m\u001b[0m \u001b[1m0s\u001b[0m 8ms/step - loss: 6.4281 - mae: 1.8632 - mse: 6.4281 - val_loss: 6.2495 - val_mae: 2.2205 - val_mse: 6.2495\n",
      "Epoch 221/1000\n",
      "\u001b[1m 4/12\u001b[0m \u001b[32m━━━━━━\u001b[0m\u001b[37m━━━━━━━━━━━━━━\u001b[0m \u001b[1m0s\u001b[0m 2ms/step - loss: 11.4254 - mae: 1.9159 - mse: 9.56364  "
     ]
    },
    {
     "name": "stderr",
     "output_type": "stream",
     "text": [
      "2025-02-09 13:30:59,776 [13068] INFO     root: Epoch 221: Loss=7.6220, Val_Loss=6.3752, MAE=1.9511\n"
     ]
    },
    {
     "name": "stdout",
     "output_type": "stream",
     "text": [
      "\u001b[1m12/12\u001b[0m \u001b[32m━━━━━━━━━━━━━━━━━━━━\u001b[0m\u001b[37m\u001b[0m \u001b[1m0s\u001b[0m 7ms/step - loss: 8.7823 - mae: 1.9188 - mse: 8.7823 - val_loss: 6.3752 - val_mae: 2.2491 - val_mse: 6.3752\n",
      "Epoch 222/1000\n",
      "\u001b[1m 5/12\u001b[0m \u001b[32m━━━━━━━━\u001b[0m\u001b[37m━━━━━━━━━━━━\u001b[0m \u001b[1m0s\u001b[0m 3ms/step - loss: 6.2253 - mae: 1.8804 - mse: 7.1891 "
     ]
    },
    {
     "name": "stderr",
     "output_type": "stream",
     "text": [
      "2025-02-09 13:30:59,982 [13068] INFO     root: Epoch 222: Loss=7.6249, Val_Loss=6.5150, MAE=1.9477\n"
     ]
    },
    {
     "name": "stdout",
     "output_type": "stream",
     "text": [
      "\u001b[1m12/12\u001b[0m \u001b[32m━━━━━━━━━━━━━━━━━━━━\u001b[0m\u001b[37m\u001b[0m \u001b[1m0s\u001b[0m 9ms/step - loss: 7.2562 - mae: 1.9220 - mse: 7.2562 - val_loss: 6.5150 - val_mae: 2.2707 - val_mse: 6.5150\n",
      "Epoch 223/1000\n",
      "\u001b[1m 2/12\u001b[0m \u001b[32m━━━\u001b[0m\u001b[37m━━━━━━━━━━━━━━━━━\u001b[0m \u001b[1m0s\u001b[0m 5ms/step - loss: 5.9670 - mae: 1.8727 - mse: 5.9858 "
     ]
    },
    {
     "name": "stderr",
     "output_type": "stream",
     "text": [
      "2025-02-09 13:31:00,163 [13068] INFO     root: Epoch 223: Loss=7.6101, Val_Loss=6.3987, MAE=1.9386\n"
     ]
    },
    {
     "name": "stdout",
     "output_type": "stream",
     "text": [
      "\u001b[1m12/12\u001b[0m \u001b[32m━━━━━━━━━━━━━━━━━━━━\u001b[0m\u001b[37m\u001b[0m \u001b[1m0s\u001b[0m 9ms/step - loss: 6.4573 - mae: 1.8581 - mse: 6.4573 - val_loss: 6.3987 - val_mae: 2.2509 - val_mse: 6.3987\n",
      "Epoch 224/1000\n",
      "\u001b[1m 3/12\u001b[0m \u001b[32m━━━━━\u001b[0m\u001b[37m━━━━━━━━━━━━━━━\u001b[0m \u001b[1m0s\u001b[0m 2ms/step - loss: 5.2277 - mae: 1.7906 - mse: 6.3055 "
     ]
    },
    {
     "name": "stderr",
     "output_type": "stream",
     "text": [
      "2025-02-09 13:31:00,341 [13068] INFO     root: Epoch 224: Loss=7.5849, Val_Loss=6.2042, MAE=1.9393\n"
     ]
    },
    {
     "name": "stdout",
     "output_type": "stream",
     "text": [
      "\u001b[1m12/12\u001b[0m \u001b[32m━━━━━━━━━━━━━━━━━━━━\u001b[0m\u001b[37m\u001b[0m \u001b[1m0s\u001b[0m 9ms/step - loss: 6.7197 - mae: 1.8664 - mse: 6.7197 - val_loss: 6.2042 - val_mae: 2.2056 - val_mse: 6.2042\n",
      "Epoch 225/1000\n",
      "\u001b[1m 2/12\u001b[0m \u001b[32m━━━\u001b[0m\u001b[37m━━━━━━━━━━━━━━━━━\u001b[0m \u001b[1m0s\u001b[0m 4ms/step - loss: 9.1809 - mae: 1.9752 - mse: 7.5690   "
     ]
    },
    {
     "name": "stderr",
     "output_type": "stream",
     "text": [
      "2025-02-09 13:31:00,503 [13068] INFO     root: Epoch 225: Loss=7.5963, Val_Loss=6.1889, MAE=1.9436\n"
     ]
    },
    {
     "name": "stdout",
     "output_type": "stream",
     "text": [
      "\u001b[1m12/12\u001b[0m \u001b[32m━━━━━━━━━━━━━━━━━━━━\u001b[0m\u001b[37m\u001b[0m \u001b[1m0s\u001b[0m 8ms/step - loss: 7.2462 - mae: 1.9320 - mse: 7.2462 - val_loss: 6.1889 - val_mae: 2.2033 - val_mse: 6.1889\n",
      "Epoch 226/1000\n",
      "\u001b[1m 4/12\u001b[0m \u001b[32m━━━━━━\u001b[0m\u001b[37m━━━━━━━━━━━━━━\u001b[0m \u001b[1m0s\u001b[0m 2ms/step - loss: 7.9781 - mae: 2.0615 - mse: 7.7998  "
     ]
    },
    {
     "name": "stderr",
     "output_type": "stream",
     "text": [
      "2025-02-09 13:31:00,682 [13068] INFO     root: Epoch 226: Loss=7.5449, Val_Loss=6.3598, MAE=1.9378\n"
     ]
    },
    {
     "name": "stdout",
     "output_type": "stream",
     "text": [
      "\u001b[1m12/12\u001b[0m \u001b[32m━━━━━━━━━━━━━━━━━━━━\u001b[0m\u001b[37m\u001b[0m \u001b[1m0s\u001b[0m 8ms/step - loss: 7.7789 - mae: 1.9758 - mse: 7.7789 - val_loss: 6.3598 - val_mae: 2.2348 - val_mse: 6.3598\n",
      "Epoch 227/1000\n",
      "\u001b[1m 6/12\u001b[0m \u001b[32m━━━━━━━━━━\u001b[0m\u001b[37m━━━━━━━━━━\u001b[0m \u001b[1m0s\u001b[0m 2ms/step - loss: 5.9597 - mae: 1.8060 - mse: 6.5176 "
     ]
    },
    {
     "name": "stderr",
     "output_type": "stream",
     "text": [
      "2025-02-09 13:31:00,845 [13068] INFO     root: Epoch 227: Loss=7.5616, Val_Loss=6.4603, MAE=1.9391\n"
     ]
    },
    {
     "name": "stdout",
     "output_type": "stream",
     "text": [
      "\u001b[1m12/12\u001b[0m \u001b[32m━━━━━━━━━━━━━━━━━━━━\u001b[0m\u001b[37m\u001b[0m \u001b[1m0s\u001b[0m 7ms/step - loss: 6.9534 - mae: 1.9028 - mse: 6.9534 - val_loss: 6.4603 - val_mae: 2.2560 - val_mse: 6.4603\n",
      "Epoch 228/1000\n",
      "\u001b[1m 6/12\u001b[0m \u001b[32m━━━━━━━━━━\u001b[0m\u001b[37m━━━━━━━━━━\u001b[0m \u001b[1m0s\u001b[0m 2ms/step - loss: 5.2031 - mae: 1.7565 - mse: 5.57934"
     ]
    },
    {
     "name": "stderr",
     "output_type": "stream",
     "text": [
      "2025-02-09 13:31:00,981 [13068] INFO     root: Epoch 228: Loss=7.5246, Val_Loss=6.2141, MAE=1.9304\n"
     ]
    },
    {
     "name": "stdout",
     "output_type": "stream",
     "text": [
      "\u001b[1m12/12\u001b[0m \u001b[32m━━━━━━━━━━━━━━━━━━━━\u001b[0m\u001b[37m\u001b[0m \u001b[1m0s\u001b[0m 7ms/step - loss: 6.4296 - mae: 1.8376 - mse: 6.4296 - val_loss: 6.2141 - val_mae: 2.2077 - val_mse: 6.2141\n",
      "Epoch 229/1000\n",
      "\u001b[1m 8/12\u001b[0m \u001b[32m━━━━━━━━━━━━━\u001b[0m\u001b[37m━━━━━━━\u001b[0m \u001b[1m0s\u001b[0m 2ms/step - loss: 6.6300 - mae: 1.9420 - mse: 6.6628 "
     ]
    },
    {
     "name": "stderr",
     "output_type": "stream",
     "text": [
      "2025-02-09 13:31:01,126 [13068] INFO     root: Epoch 229: Loss=7.5094, Val_Loss=6.2096, MAE=1.9331\n"
     ]
    },
    {
     "name": "stdout",
     "output_type": "stream",
     "text": [
      "\u001b[1m12/12\u001b[0m \u001b[32m━━━━━━━━━━━━━━━━━━━━\u001b[0m\u001b[37m\u001b[0m \u001b[1m0s\u001b[0m 8ms/step - loss: 6.9421 - mae: 1.9350 - mse: 6.9421 - val_loss: 6.2096 - val_mae: 2.2087 - val_mse: 6.2096\n",
      "Epoch 230/1000\n",
      "\u001b[1m 2/12\u001b[0m \u001b[32m━━━\u001b[0m\u001b[37m━━━━━━━━━━━━━━━━━\u001b[0m \u001b[1m0s\u001b[0m 2ms/step - loss: 13.4597 - mae: 2.0146 - mse: 13.4597 "
     ]
    },
    {
     "name": "stderr",
     "output_type": "stream",
     "text": [
      "2025-02-09 13:31:01,284 [13068] INFO     root: Epoch 230: Loss=7.5041, Val_Loss=6.3470, MAE=1.9326\n"
     ]
    },
    {
     "name": "stdout",
     "output_type": "stream",
     "text": [
      "\u001b[1m12/12\u001b[0m \u001b[32m━━━━━━━━━━━━━━━━━━━━\u001b[0m\u001b[37m\u001b[0m \u001b[1m0s\u001b[0m 7ms/step - loss: 9.0293 - mae: 2.0014 - mse: 9.0293 - val_loss: 6.3470 - val_mae: 2.2362 - val_mse: 6.3470\n",
      "Epoch 231/1000\n",
      "\u001b[1m 5/12\u001b[0m \u001b[32m━━━━━━━━\u001b[0m\u001b[37m━━━━━━━━━━━━\u001b[0m \u001b[1m0s\u001b[0m 3ms/step - loss: 6.1954 - mae: 1.8848 - mse: 6.64307"
     ]
    },
    {
     "name": "stderr",
     "output_type": "stream",
     "text": [
      "2025-02-09 13:31:01,423 [13068] INFO     root: Epoch 231: Loss=7.4791, Val_Loss=6.4289, MAE=1.9232\n"
     ]
    },
    {
     "name": "stdout",
     "output_type": "stream",
     "text": [
      "\u001b[1m12/12\u001b[0m \u001b[32m━━━━━━━━━━━━━━━━━━━━\u001b[0m\u001b[37m\u001b[0m \u001b[1m0s\u001b[0m 7ms/step - loss: 6.9370 - mae: 1.8979 - mse: 6.9370 - val_loss: 6.4289 - val_mae: 2.2622 - val_mse: 6.4289\n",
      "Epoch 232/1000\n",
      "\u001b[1m 4/12\u001b[0m \u001b[32m━━━━━━\u001b[0m\u001b[37m━━━━━━━━━━━━━━\u001b[0m \u001b[1m0s\u001b[0m 3ms/step - loss: 6.1233 - mae: 1.7942 - mse: 7.18001"
     ]
    },
    {
     "name": "stderr",
     "output_type": "stream",
     "text": [
      "2025-02-09 13:31:01,546 [13068] INFO     root: Epoch 232: Loss=7.4791, Val_Loss=6.2470, MAE=1.9157\n"
     ]
    },
    {
     "name": "stdout",
     "output_type": "stream",
     "text": [
      "\u001b[1m12/12\u001b[0m \u001b[32m━━━━━━━━━━━━━━━━━━━━\u001b[0m\u001b[37m\u001b[0m \u001b[1m0s\u001b[0m 7ms/step - loss: 7.2327 - mae: 1.8757 - mse: 7.2327 - val_loss: 6.2470 - val_mae: 2.2281 - val_mse: 6.2470\n",
      "Epoch 233/1000\n",
      "\u001b[1m 7/12\u001b[0m \u001b[32m━━━━━━━━━━━\u001b[0m\u001b[37m━━━━━━━━━\u001b[0m \u001b[1m0s\u001b[0m 2ms/step - loss: 5.8525 - mae: 1.7810 - mse: 6.920845"
     ]
    },
    {
     "name": "stderr",
     "output_type": "stream",
     "text": [
      "2025-02-09 13:31:01,676 [13068] INFO     root: Epoch 233: Loss=7.4606, Val_Loss=5.9970, MAE=1.9212\n"
     ]
    },
    {
     "name": "stdout",
     "output_type": "stream",
     "text": [
      "\u001b[1m12/12\u001b[0m \u001b[32m━━━━━━━━━━━━━━━━━━━━\u001b[0m\u001b[37m\u001b[0m \u001b[1m0s\u001b[0m 6ms/step - loss: 7.0161 - mae: 1.8864 - mse: 7.0161 - val_loss: 5.9970 - val_mae: 2.1764 - val_mse: 5.9970\n",
      "Epoch 234/1000\n",
      "\u001b[1m 8/12\u001b[0m \u001b[32m━━━━━━━━━━━━━\u001b[0m\u001b[37m━━━━━━━\u001b[0m \u001b[1m0s\u001b[0m 2ms/step - loss: 6.2113 - mae: 1.7459 - mse: 6.3845  "
     ]
    },
    {
     "name": "stderr",
     "output_type": "stream",
     "text": [
      "2025-02-09 13:31:01,858 [13068] INFO     root: Epoch 234: Loss=7.4475, Val_Loss=6.1243, MAE=1.9228\n"
     ]
    },
    {
     "name": "stdout",
     "output_type": "stream",
     "text": [
      "\u001b[1m12/12\u001b[0m \u001b[32m━━━━━━━━━━━━━━━━━━━━\u001b[0m\u001b[37m\u001b[0m \u001b[1m0s\u001b[0m 7ms/step - loss: 6.5480 - mae: 1.8156 - mse: 6.5480 - val_loss: 6.1243 - val_mae: 2.2027 - val_mse: 6.1243\n",
      "Epoch 235/1000\n",
      "\u001b[1m 5/12\u001b[0m \u001b[32m━━━━━━━━\u001b[0m\u001b[37m━━━━━━━━━━━━\u001b[0m \u001b[1m0s\u001b[0m 2ms/step - loss: 8.4525 - mae: 2.0449 - mse: 7.61403"
     ]
    },
    {
     "name": "stderr",
     "output_type": "stream",
     "text": [
      "2025-02-09 13:31:01,981 [13068] INFO     root: Epoch 235: Loss=7.4164, Val_Loss=6.0082, MAE=1.9258\n"
     ]
    },
    {
     "name": "stdout",
     "output_type": "stream",
     "text": [
      "\u001b[1m12/12\u001b[0m \u001b[32m━━━━━━━━━━━━━━━━━━━━\u001b[0m\u001b[37m\u001b[0m \u001b[1m0s\u001b[0m 7ms/step - loss: 7.5828 - mae: 2.0112 - mse: 7.5828 - val_loss: 6.0082 - val_mae: 2.1727 - val_mse: 6.0082\n",
      "Epoch 236/1000\n",
      "\u001b[1m 4/12\u001b[0m \u001b[32m━━━━━━\u001b[0m\u001b[37m━━━━━━━━━━━━━━\u001b[0m \u001b[1m0s\u001b[0m 3ms/step - loss: 9.8147 - mae: 1.8315 - mse: 8.7412   "
     ]
    },
    {
     "name": "stderr",
     "output_type": "stream",
     "text": [
      "2025-02-09 13:31:02,103 [13068] INFO     root: Epoch 236: Loss=7.4185, Val_Loss=6.1803, MAE=1.9217\n"
     ]
    },
    {
     "name": "stdout",
     "output_type": "stream",
     "text": [
      "\u001b[1m12/12\u001b[0m \u001b[32m━━━━━━━━━━━━━━━━━━━━\u001b[0m\u001b[37m\u001b[0m \u001b[1m0s\u001b[0m 6ms/step - loss: 7.8811 - mae: 1.8491 - mse: 7.8811 - val_loss: 6.1803 - val_mae: 2.2130 - val_mse: 6.1803\n",
      "Epoch 237/1000\n",
      "\u001b[1m 4/12\u001b[0m \u001b[32m━━━━━━\u001b[0m\u001b[37m━━━━━━━━━━━━━━\u001b[0m \u001b[1m0s\u001b[0m 2ms/step - loss: 7.7076 - mae: 1.9877 - mse: 8.08041"
     ]
    },
    {
     "name": "stderr",
     "output_type": "stream",
     "text": [
      "2025-02-09 13:31:02,232 [13068] INFO     root: Epoch 237: Loss=7.3890, Val_Loss=6.3553, MAE=1.9093\n"
     ]
    },
    {
     "name": "stdout",
     "output_type": "stream",
     "text": [
      "\u001b[1m12/12\u001b[0m \u001b[32m━━━━━━━━━━━━━━━━━━━━\u001b[0m\u001b[37m\u001b[0m \u001b[1m0s\u001b[0m 7ms/step - loss: 7.9182 - mae: 1.9710 - mse: 7.9182 - val_loss: 6.3553 - val_mae: 2.2489 - val_mse: 6.3553\n",
      "Epoch 238/1000\n",
      "\u001b[1m 3/12\u001b[0m \u001b[32m━━━━━\u001b[0m\u001b[37m━━━━━━━━━━━━━━━\u001b[0m \u001b[1m0s\u001b[0m 2ms/step - loss: 4.9043 - mae: 1.8048 - mse: 7.1701  "
     ]
    },
    {
     "name": "stderr",
     "output_type": "stream",
     "text": [
      "2025-02-09 13:31:02,361 [13068] INFO     root: Epoch 238: Loss=7.3832, Val_Loss=6.2245, MAE=1.9072\n"
     ]
    },
    {
     "name": "stdout",
     "output_type": "stream",
     "text": [
      "\u001b[1m12/12\u001b[0m \u001b[32m━━━━━━━━━━━━━━━━━━━━\u001b[0m\u001b[37m\u001b[0m \u001b[1m0s\u001b[0m 8ms/step - loss: 7.2216 - mae: 1.8473 - mse: 7.2216 - val_loss: 6.2245 - val_mae: 2.2262 - val_mse: 6.2245\n",
      "Epoch 239/1000\n",
      "\u001b[1m 2/12\u001b[0m \u001b[32m━━━\u001b[0m\u001b[37m━━━━━━━━━━━━━━━━━\u001b[0m \u001b[1m0s\u001b[0m 3ms/step - loss: 5.7815 - mae: 1.9466 - mse: 5.7815 "
     ]
    },
    {
     "name": "stderr",
     "output_type": "stream",
     "text": [
      "2025-02-09 13:31:02,478 [13068] INFO     root: Epoch 239: Loss=7.3746, Val_Loss=6.1973, MAE=1.9117\n"
     ]
    },
    {
     "name": "stdout",
     "output_type": "stream",
     "text": [
      "\u001b[1m12/12\u001b[0m \u001b[32m━━━━━━━━━━━━━━━━━━━━\u001b[0m\u001b[37m\u001b[0m \u001b[1m0s\u001b[0m 6ms/step - loss: 7.2073 - mae: 1.8898 - mse: 7.2073 - val_loss: 6.1973 - val_mae: 2.2174 - val_mse: 6.1973\n",
      "Epoch 240/1000\n",
      "\u001b[1m 8/12\u001b[0m \u001b[32m━━━━━━━━━━━━━\u001b[0m\u001b[37m━━━━━━━\u001b[0m \u001b[1m0s\u001b[0m 3ms/step - loss: 7.0324 - mae: 1.8567 - mse: 7.127225"
     ]
    },
    {
     "name": "stderr",
     "output_type": "stream",
     "text": [
      "2025-02-09 13:31:02,675 [13068] INFO     root: Epoch 240: Loss=7.3309, Val_Loss=6.0885, MAE=1.9035\n"
     ]
    },
    {
     "name": "stdout",
     "output_type": "stream",
     "text": [
      "\u001b[1m12/12\u001b[0m \u001b[32m━━━━━━━━━━━━━━━━━━━━\u001b[0m\u001b[37m\u001b[0m \u001b[1m0s\u001b[0m 8ms/step - loss: 7.1974 - mae: 1.8691 - mse: 7.1974 - val_loss: 6.0885 - val_mae: 2.1960 - val_mse: 6.0885\n",
      "Epoch 241/1000\n",
      "\u001b[1m 5/12\u001b[0m \u001b[32m━━━━━━━━\u001b[0m\u001b[37m━━━━━━━━━━━━\u001b[0m \u001b[1m0s\u001b[0m 2ms/step - loss: 6.0490 - mae: 1.8243 - mse: 6.0654 "
     ]
    },
    {
     "name": "stderr",
     "output_type": "stream",
     "text": [
      "2025-02-09 13:31:02,792 [13068] INFO     root: Epoch 241: Loss=7.3617, Val_Loss=6.1706, MAE=1.9024\n"
     ]
    },
    {
     "name": "stdout",
     "output_type": "stream",
     "text": [
      "\u001b[1m12/12\u001b[0m \u001b[32m━━━━━━━━━━━━━━━━━━━━\u001b[0m\u001b[37m\u001b[0m \u001b[1m0s\u001b[0m 7ms/step - loss: 6.3457 - mae: 1.8376 - mse: 6.3457 - val_loss: 6.1706 - val_mae: 2.2140 - val_mse: 6.1706\n",
      "Epoch 242/1000\n",
      "\u001b[1m 4/12\u001b[0m \u001b[32m━━━━━━\u001b[0m\u001b[37m━━━━━━━━━━━━━━\u001b[0m \u001b[1m0s\u001b[0m 3ms/step - loss: 6.7216 - mae: 1.9180 - mse: 6.84747"
     ]
    },
    {
     "name": "stderr",
     "output_type": "stream",
     "text": [
      "2025-02-09 13:31:02,955 [13068] INFO     root: Epoch 242: Loss=7.3168, Val_Loss=5.9967, MAE=1.9039\n"
     ]
    },
    {
     "name": "stdout",
     "output_type": "stream",
     "text": [
      "\u001b[1m12/12\u001b[0m \u001b[32m━━━━━━━━━━━━━━━━━━━━\u001b[0m\u001b[37m\u001b[0m \u001b[1m0s\u001b[0m 7ms/step - loss: 6.9054 - mae: 1.9066 - mse: 6.9054 - val_loss: 5.9967 - val_mae: 2.1757 - val_mse: 5.9967\n",
      "Epoch 243/1000\n",
      "\u001b[1m 8/12\u001b[0m \u001b[32m━━━━━━━━━━━━━\u001b[0m\u001b[37m━━━━━━━\u001b[0m \u001b[1m0s\u001b[0m 2ms/step - loss: 6.8329 - mae: 1.7975 - mse: 6.83292"
     ]
    },
    {
     "name": "stderr",
     "output_type": "stream",
     "text": [
      "2025-02-09 13:31:03,081 [13068] INFO     root: Epoch 243: Loss=7.3456, Val_Loss=5.9309, MAE=1.9099\n"
     ]
    },
    {
     "name": "stdout",
     "output_type": "stream",
     "text": [
      "\u001b[1m12/12\u001b[0m \u001b[32m━━━━━━━━━━━━━━━━━━━━\u001b[0m\u001b[37m\u001b[0m \u001b[1m0s\u001b[0m 7ms/step - loss: 6.9923 - mae: 1.8331 - mse: 6.9923 - val_loss: 5.9309 - val_mae: 2.1587 - val_mse: 5.9309\n",
      "Epoch 244/1000\n",
      "\u001b[1m 4/12\u001b[0m \u001b[32m━━━━━━\u001b[0m\u001b[37m━━━━━━━━━━━━━━\u001b[0m \u001b[1m0s\u001b[0m 1ms/step - loss: 7.6367 - mae: 2.0658 - mse: 7.4001 "
     ]
    },
    {
     "name": "stderr",
     "output_type": "stream",
     "text": [
      "2025-02-09 13:31:03,211 [13068] INFO     root: Epoch 244: Loss=7.3381, Val_Loss=6.2295, MAE=1.9014\n"
     ]
    },
    {
     "name": "stdout",
     "output_type": "stream",
     "text": [
      "\u001b[1m12/12\u001b[0m \u001b[32m━━━━━━━━━━━━━━━━━━━━\u001b[0m\u001b[37m\u001b[0m \u001b[1m0s\u001b[0m 7ms/step - loss: 7.1829 - mae: 1.9785 - mse: 7.1829 - val_loss: 6.2295 - val_mae: 2.2215 - val_mse: 6.2295\n",
      "Epoch 245/1000\n",
      "\u001b[1m 6/12\u001b[0m \u001b[32m━━━━━━━━━━\u001b[0m\u001b[37m━━━━━━━━━━\u001b[0m \u001b[1m0s\u001b[0m 3ms/step - loss: 6.4291 - mae: 1.9447 - mse: 6.85997"
     ]
    },
    {
     "name": "stderr",
     "output_type": "stream",
     "text": [
      "2025-02-09 13:31:03,336 [13068] INFO     root: Epoch 245: Loss=7.2897, Val_Loss=6.1001, MAE=1.8921\n"
     ]
    },
    {
     "name": "stdout",
     "output_type": "stream",
     "text": [
      "\u001b[1m12/12\u001b[0m \u001b[32m━━━━━━━━━━━━━━━━━━━━\u001b[0m\u001b[37m\u001b[0m \u001b[1m0s\u001b[0m 7ms/step - loss: 6.9729 - mae: 1.9252 - mse: 6.9729 - val_loss: 6.1001 - val_mae: 2.1910 - val_mse: 6.1001\n",
      "Epoch 246/1000\n",
      "\u001b[1m 2/12\u001b[0m \u001b[32m━━━\u001b[0m\u001b[37m━━━━━━━━━━━━━━━━━\u001b[0m \u001b[1m0s\u001b[0m 3ms/step - loss: 6.9487 - mae: 1.8289 - mse: 7.7182 "
     ]
    },
    {
     "name": "stderr",
     "output_type": "stream",
     "text": [
      "2025-02-09 13:31:03,449 [13068] INFO     root: Epoch 246: Loss=7.2593, Val_Loss=6.0410, MAE=1.8944\n"
     ]
    },
    {
     "name": "stdout",
     "output_type": "stream",
     "text": [
      "\u001b[1m12/12\u001b[0m \u001b[32m━━━━━━━━━━━━━━━━━━━━\u001b[0m\u001b[37m\u001b[0m \u001b[1m0s\u001b[0m 6ms/step - loss: 7.4519 - mae: 1.8730 - mse: 7.4519 - val_loss: 6.0410 - val_mae: 2.1846 - val_mse: 6.0410\n",
      "Epoch 247/1000\n",
      "\u001b[1m 5/12\u001b[0m \u001b[32m━━━━━━━━\u001b[0m\u001b[37m━━━━━━━━━━━━\u001b[0m \u001b[1m0s\u001b[0m 2ms/step - loss: 5.8771 - mae: 1.7903 - mse: 5.9412   "
     ]
    },
    {
     "name": "stderr",
     "output_type": "stream",
     "text": [
      "2025-02-09 13:31:03,628 [13068] INFO     root: Epoch 247: Loss=7.2748, Val_Loss=6.2052, MAE=1.8940\n"
     ]
    },
    {
     "name": "stdout",
     "output_type": "stream",
     "text": [
      "\u001b[1m12/12\u001b[0m \u001b[32m━━━━━━━━━━━━━━━━━━━━\u001b[0m\u001b[37m\u001b[0m \u001b[1m0s\u001b[0m 7ms/step - loss: 6.3173 - mae: 1.8256 - mse: 6.3173 - val_loss: 6.2052 - val_mae: 2.2158 - val_mse: 6.2052\n",
      "Epoch 248/1000\n",
      "\u001b[1m 7/12\u001b[0m \u001b[32m━━━━━━━━━━━\u001b[0m\u001b[37m━━━━━━━━━\u001b[0m \u001b[1m0s\u001b[0m 2ms/step - loss: 5.9728 - mae: 1.8399 - mse: 6.2533 "
     ]
    },
    {
     "name": "stderr",
     "output_type": "stream",
     "text": [
      "2025-02-09 13:31:03,759 [13068] INFO     root: Epoch 248: Loss=7.2443, Val_Loss=5.9339, MAE=1.8873\n"
     ]
    },
    {
     "name": "stdout",
     "output_type": "stream",
     "text": [
      "\u001b[1m12/12\u001b[0m \u001b[32m━━━━━━━━━━━━━━━━━━━━\u001b[0m\u001b[37m\u001b[0m \u001b[1m0s\u001b[0m 8ms/step - loss: 6.4058 - mae: 1.8472 - mse: 6.4058 - val_loss: 5.9339 - val_mae: 2.1645 - val_mse: 5.9339\n",
      "Epoch 249/1000\n",
      "\u001b[1m 6/12\u001b[0m \u001b[32m━━━━━━━━━━\u001b[0m\u001b[37m━━━━━━━━━━\u001b[0m \u001b[1m0s\u001b[0m 2ms/step - loss: 5.9383 - mae: 1.7898 - mse: 6.00591"
     ]
    },
    {
     "name": "stderr",
     "output_type": "stream",
     "text": [
      "2025-02-09 13:31:03,887 [13068] INFO     root: Epoch 249: Loss=7.2335, Val_Loss=5.9209, MAE=1.8941\n"
     ]
    },
    {
     "name": "stdout",
     "output_type": "stream",
     "text": [
      "\u001b[1m12/12\u001b[0m \u001b[32m━━━━━━━━━━━━━━━━━━━━\u001b[0m\u001b[37m\u001b[0m \u001b[1m0s\u001b[0m 7ms/step - loss: 6.3557 - mae: 1.8405 - mse: 6.3557 - val_loss: 5.9209 - val_mae: 2.1587 - val_mse: 5.9209\n",
      "Epoch 250/1000\n",
      "\u001b[1m 6/12\u001b[0m \u001b[32m━━━━━━━━━━\u001b[0m\u001b[37m━━━━━━━━━━\u001b[0m \u001b[1m0s\u001b[0m 3ms/step - loss: 5.3496 - mae: 1.7708 - mse: 5.90914"
     ]
    },
    {
     "name": "stderr",
     "output_type": "stream",
     "text": [
      "2025-02-09 13:31:04,071 [13068] INFO     root: Epoch 250: Loss=7.2083, Val_Loss=5.9843, MAE=1.8907\n"
     ]
    },
    {
     "name": "stdout",
     "output_type": "stream",
     "text": [
      "\u001b[1m12/12\u001b[0m \u001b[32m━━━━━━━━━━━━━━━━━━━━\u001b[0m\u001b[37m\u001b[0m \u001b[1m0s\u001b[0m 7ms/step - loss: 6.0609 - mae: 1.8028 - mse: 6.0609 - val_loss: 5.9843 - val_mae: 2.1710 - val_mse: 5.9843\n",
      "Epoch 251/1000\n",
      "\u001b[1m 5/12\u001b[0m \u001b[32m━━━━━━━━\u001b[0m\u001b[37m━━━━━━━━━━━━\u001b[0m \u001b[1m0s\u001b[0m 3ms/step - loss: 6.7001 - mae: 1.9044 - mse: 6.5522 "
     ]
    },
    {
     "name": "stderr",
     "output_type": "stream",
     "text": [
      "2025-02-09 13:31:04,201 [13068] INFO     root: Epoch 251: Loss=7.2200, Val_Loss=6.0852, MAE=1.8872\n"
     ]
    },
    {
     "name": "stdout",
     "output_type": "stream",
     "text": [
      "\u001b[1m12/12\u001b[0m \u001b[32m━━━━━━━━━━━━━━━━━━━━\u001b[0m\u001b[37m\u001b[0m \u001b[1m0s\u001b[0m 7ms/step - loss: 6.8143 - mae: 1.8889 - mse: 6.8143 - val_loss: 6.0852 - val_mae: 2.1887 - val_mse: 6.0852\n",
      "Epoch 252/1000\n",
      "\u001b[1m 6/12\u001b[0m \u001b[32m━━━━━━━━━━\u001b[0m\u001b[37m━━━━━━━━━━\u001b[0m \u001b[1m0s\u001b[0m 1ms/step - loss: 10.7806 - mae: 2.0627 - mse: 9.5589  "
     ]
    },
    {
     "name": "stderr",
     "output_type": "stream",
     "text": [
      "2025-02-09 13:31:04,332 [13068] INFO     root: Epoch 252: Loss=7.1645, Val_Loss=6.1746, MAE=1.8815\n"
     ]
    },
    {
     "name": "stdout",
     "output_type": "stream",
     "text": [
      "\u001b[1m12/12\u001b[0m \u001b[32m━━━━━━━━━━━━━━━━━━━━\u001b[0m\u001b[37m\u001b[0m \u001b[1m0s\u001b[0m 7ms/step - loss: 8.3195 - mae: 1.9329 - mse: 8.3195 - val_loss: 6.1746 - val_mae: 2.2063 - val_mse: 6.1746\n",
      "Epoch 253/1000\n"
     ]
    },
    {
     "name": "stderr",
     "output_type": "stream",
     "text": [
      "2025-02-09 13:31:04,374 [13068] INFO     ml_monitor.logging: Starting metrics logging thread...\n"
     ]
    },
    {
     "name": "stdout",
     "output_type": "stream",
     "text": [
      "\u001b[1m 6/12\u001b[0m \u001b[32m━━━━━━━━━━\u001b[0m\u001b[37m━━━━━━━━━━\u001b[0m \u001b[1m0s\u001b[0m 2ms/step - loss: 5.8924 - mae: 1.8498 - mse: 6.75527"
     ]
    },
    {
     "name": "stderr",
     "output_type": "stream",
     "text": [
      "2025-02-09 13:31:04,464 [13068] INFO     root: Epoch 253: Loss=7.1556, Val_Loss=5.9254, MAE=1.8821\n"
     ]
    },
    {
     "name": "stdout",
     "output_type": "stream",
     "text": [
      "\u001b[1m12/12\u001b[0m \u001b[32m━━━━━━━━━━━━━━━━━━━━\u001b[0m\u001b[37m\u001b[0m \u001b[1m0s\u001b[0m 6ms/step - loss: 6.8023 - mae: 1.8565 - mse: 6.8023 - val_loss: 5.9254 - val_mae: 2.1539 - val_mse: 5.9254\n",
      "Epoch 254/1000\n",
      "\u001b[1m 2/12\u001b[0m \u001b[32m━━━\u001b[0m\u001b[37m━━━━━━━━━━━━━━━━━\u001b[0m \u001b[1m0s\u001b[0m 4ms/step - loss: 7.6064 - mae: 1.8276 - mse: 6.5029 "
     ]
    },
    {
     "name": "stderr",
     "output_type": "stream",
     "text": [
      "2025-02-09 13:31:04,624 [13068] INFO     root: Epoch 254: Loss=7.1585, Val_Loss=5.9924, MAE=1.8835\n"
     ]
    },
    {
     "name": "stdout",
     "output_type": "stream",
     "text": [
      "\u001b[1m12/12\u001b[0m \u001b[32m━━━━━━━━━━━━━━━━━━━━\u001b[0m\u001b[37m\u001b[0m \u001b[1m0s\u001b[0m 9ms/step - loss: 6.6721 - mae: 1.8427 - mse: 6.6721 - val_loss: 5.9924 - val_mae: 2.1676 - val_mse: 5.9924\n",
      "Epoch 255/1000\n",
      "\u001b[1m 3/12\u001b[0m \u001b[32m━━━━━\u001b[0m\u001b[37m━━━━━━━━━━━━━━━\u001b[0m \u001b[1m0s\u001b[0m 4ms/step - loss: 6.3525 - mae: 1.8182 - mse: 6.25601"
     ]
    },
    {
     "name": "stderr",
     "output_type": "stream",
     "text": [
      "2025-02-09 13:31:04,789 [13068] INFO     root: Epoch 255: Loss=7.1666, Val_Loss=6.1584, MAE=1.8806\n"
     ]
    },
    {
     "name": "stdout",
     "output_type": "stream",
     "text": [
      "\u001b[1m12/12\u001b[0m \u001b[32m━━━━━━━━━━━━━━━━━━━━\u001b[0m\u001b[37m\u001b[0m \u001b[1m0s\u001b[0m 8ms/step - loss: 6.4087 - mae: 1.8369 - mse: 6.4087 - val_loss: 6.1584 - val_mae: 2.2039 - val_mse: 6.1584\n",
      "Epoch 256/1000\n",
      "\u001b[1m 2/12\u001b[0m \u001b[32m━━━\u001b[0m\u001b[37m━━━━━━━━━━━━━━━━━\u001b[0m \u001b[1m0s\u001b[0m 6ms/step - loss: 4.5238 - mae: 1.6347 - mse: 4.6312 "
     ]
    },
    {
     "name": "stderr",
     "output_type": "stream",
     "text": [
      "2025-02-09 13:31:04,922 [13068] INFO     root: Epoch 256: Loss=7.1232, Val_Loss=5.9158, MAE=1.8674\n"
     ]
    },
    {
     "name": "stdout",
     "output_type": "stream",
     "text": [
      "\u001b[1m12/12\u001b[0m \u001b[32m━━━━━━━━━━━━━━━━━━━━\u001b[0m\u001b[37m\u001b[0m \u001b[1m0s\u001b[0m 7ms/step - loss: 5.5399 - mae: 1.7313 - mse: 5.5399 - val_loss: 5.9158 - val_mae: 2.1565 - val_mse: 5.9158\n",
      "Epoch 257/1000\n",
      "\u001b[1m 3/12\u001b[0m \u001b[32m━━━━━\u001b[0m\u001b[37m━━━━━━━━━━━━━━━\u001b[0m \u001b[1m0s\u001b[0m 2ms/step - loss: 11.2587 - mae: 1.9319 - mse: 8.9171  "
     ]
    },
    {
     "name": "stderr",
     "output_type": "stream",
     "text": [
      "2025-02-09 13:31:05,046 [13068] INFO     root: Epoch 257: Loss=7.0982, Val_Loss=6.0163, MAE=1.8653\n"
     ]
    },
    {
     "name": "stdout",
     "output_type": "stream",
     "text": [
      "\u001b[1m12/12\u001b[0m \u001b[32m━━━━━━━━━━━━━━━━━━━━\u001b[0m\u001b[37m\u001b[0m \u001b[1m0s\u001b[0m 7ms/step - loss: 8.4383 - mae: 1.9064 - mse: 8.4383 - val_loss: 6.0163 - val_mae: 2.1772 - val_mse: 6.0163\n",
      "Epoch 258/1000\n",
      "\u001b[1m 7/12\u001b[0m \u001b[32m━━━━━━━━━━━\u001b[0m\u001b[37m━━━━━━━━━\u001b[0m \u001b[1m0s\u001b[0m 3ms/step - loss: 7.0347 - mae: 1.8570 - mse: 7.07310"
     ]
    },
    {
     "name": "stderr",
     "output_type": "stream",
     "text": [
      "2025-02-09 13:31:05,185 [13068] INFO     root: Epoch 258: Loss=7.1041, Val_Loss=6.1313, MAE=1.8606\n"
     ]
    },
    {
     "name": "stdout",
     "output_type": "stream",
     "text": [
      "\u001b[1m12/12\u001b[0m \u001b[32m━━━━━━━━━━━━━━━━━━━━\u001b[0m\u001b[37m\u001b[0m \u001b[1m0s\u001b[0m 8ms/step - loss: 7.0752 - mae: 1.8560 - mse: 7.0752 - val_loss: 6.1313 - val_mae: 2.1998 - val_mse: 6.1313\n",
      "Epoch 259/1000\n",
      "\u001b[1m 6/12\u001b[0m \u001b[32m━━━━━━━━━━\u001b[0m\u001b[37m━━━━━━━━━━\u001b[0m \u001b[1m0s\u001b[0m 2ms/step - loss: 6.6757 - mae: 1.8139 - mse: 6.7647 "
     ]
    },
    {
     "name": "stderr",
     "output_type": "stream",
     "text": [
      "2025-02-09 13:31:05,339 [13068] INFO     root: Epoch 259: Loss=7.0508, Val_Loss=5.8747, MAE=1.8601\n"
     ]
    },
    {
     "name": "stdout",
     "output_type": "stream",
     "text": [
      "\u001b[1m12/12\u001b[0m \u001b[32m━━━━━━━━━━━━━━━━━━━━\u001b[0m\u001b[37m\u001b[0m \u001b[1m0s\u001b[0m 9ms/step - loss: 6.9517 - mae: 1.8364 - mse: 6.9517 - val_loss: 5.8747 - val_mae: 2.1493 - val_mse: 5.8747\n",
      "Epoch 260/1000\n",
      "\u001b[1m 7/12\u001b[0m \u001b[32m━━━━━━━━━━━\u001b[0m\u001b[37m━━━━━━━━━\u001b[0m \u001b[1m0s\u001b[0m 3ms/step - loss: 8.9082 - mae: 1.9811 - mse: 8.41127"
     ]
    },
    {
     "name": "stderr",
     "output_type": "stream",
     "text": [
      "2025-02-09 13:31:05,478 [13068] INFO     root: Epoch 260: Loss=7.1139, Val_Loss=5.8610, MAE=1.8742\n"
     ]
    },
    {
     "name": "stdout",
     "output_type": "stream",
     "text": [
      "\u001b[1m12/12\u001b[0m \u001b[32m━━━━━━━━━━━━━━━━━━━━\u001b[0m\u001b[37m\u001b[0m \u001b[1m0s\u001b[0m 8ms/step - loss: 8.1087 - mae: 1.9369 - mse: 8.1087 - val_loss: 5.8610 - val_mae: 2.1434 - val_mse: 5.8610\n",
      "Epoch 261/1000\n",
      "\u001b[1m 5/12\u001b[0m \u001b[32m━━━━━━━━\u001b[0m\u001b[37m━━━━━━━━━━━━\u001b[0m \u001b[1m0s\u001b[0m 2ms/step - loss: 9.8223 - mae: 1.9597 - mse: 8.8676   "
     ]
    },
    {
     "name": "stderr",
     "output_type": "stream",
     "text": [
      "2025-02-09 13:31:05,647 [13068] INFO     root: Epoch 261: Loss=7.1215, Val_Loss=6.3748, MAE=1.8709\n"
     ]
    },
    {
     "name": "stdout",
     "output_type": "stream",
     "text": [
      "\u001b[1m12/12\u001b[0m \u001b[32m━━━━━━━━━━━━━━━━━━━━\u001b[0m\u001b[37m\u001b[0m \u001b[1m0s\u001b[0m 8ms/step - loss: 8.0295 - mae: 1.9043 - mse: 8.0295 - val_loss: 6.3748 - val_mae: 2.2361 - val_mse: 6.3748\n",
      "Epoch 262/1000\n",
      "\u001b[1m 5/12\u001b[0m \u001b[32m━━━━━━━━\u001b[0m\u001b[37m━━━━━━━━━━━━\u001b[0m \u001b[1m0s\u001b[0m 2ms/step - loss: 6.5397 - mae: 1.8632 - mse: 6.348167"
     ]
    },
    {
     "name": "stderr",
     "output_type": "stream",
     "text": [
      "2025-02-09 13:31:05,789 [13068] INFO     root: Epoch 262: Loss=7.0379, Val_Loss=5.7683, MAE=1.8539\n"
     ]
    },
    {
     "name": "stdout",
     "output_type": "stream",
     "text": [
      "\u001b[1m12/12\u001b[0m \u001b[32m━━━━━━━━━━━━━━━━━━━━\u001b[0m\u001b[37m\u001b[0m \u001b[1m0s\u001b[0m 7ms/step - loss: 6.6773 - mae: 1.8388 - mse: 6.6773 - val_loss: 5.7683 - val_mae: 2.1146 - val_mse: 5.7683\n",
      "Epoch 263/1000\n",
      "\u001b[1m 8/12\u001b[0m \u001b[32m━━━━━━━━━━━━━\u001b[0m\u001b[37m━━━━━━━\u001b[0m \u001b[1m0s\u001b[0m 3ms/step - loss: 6.5985 - mae: 1.8155 - mse: 6.57934"
     ]
    },
    {
     "name": "stderr",
     "output_type": "stream",
     "text": [
      "2025-02-09 13:31:05,983 [13068] INFO     root: Epoch 263: Loss=7.0673, Val_Loss=5.9204, MAE=1.8731\n"
     ]
    },
    {
     "name": "stdout",
     "output_type": "stream",
     "text": [
      "\u001b[1m12/12\u001b[0m \u001b[32m━━━━━━━━━━━━━━━━━━━━\u001b[0m\u001b[37m\u001b[0m \u001b[1m0s\u001b[0m 10ms/step - loss: 6.7334 - mae: 1.8325 - mse: 6.7334 - val_loss: 5.9204 - val_mae: 2.1479 - val_mse: 5.9204\n",
      "Epoch 264/1000\n",
      "\u001b[1m 6/12\u001b[0m \u001b[32m━━━━━━━━━━\u001b[0m\u001b[37m━━━━━━━━━━\u001b[0m \u001b[1m0s\u001b[0m 4ms/step - loss: 9.1537 - mae: 2.0520 - mse: 8.537532"
     ]
    },
    {
     "name": "stderr",
     "output_type": "stream",
     "text": [
      "2025-02-09 13:31:06,129 [13068] INFO     root: Epoch 264: Loss=7.0137, Val_Loss=6.2455, MAE=1.8526\n"
     ]
    },
    {
     "name": "stdout",
     "output_type": "stream",
     "text": [
      "\u001b[1m12/12\u001b[0m \u001b[32m━━━━━━━━━━━━━━━━━━━━\u001b[0m\u001b[37m\u001b[0m \u001b[1m0s\u001b[0m 8ms/step - loss: 8.4528 - mae: 2.0137 - mse: 8.4528 - val_loss: 6.2455 - val_mae: 2.2110 - val_mse: 6.2455\n",
      "Epoch 265/1000\n",
      "\u001b[1m 7/12\u001b[0m \u001b[32m━━━━━━━━━━━\u001b[0m\u001b[37m━━━━━━━━━\u001b[0m \u001b[1m0s\u001b[0m 2ms/step - loss: 11.0768 - mae: 2.0616 - mse: 10.67219"
     ]
    },
    {
     "name": "stderr",
     "output_type": "stream",
     "text": [
      "2025-02-09 13:31:06,311 [13068] INFO     root: Epoch 265: Loss=6.9884, Val_Loss=6.0145, MAE=1.8476\n"
     ]
    },
    {
     "name": "stdout",
     "output_type": "stream",
     "text": [
      "\u001b[1m12/12\u001b[0m \u001b[32m━━━━━━━━━━━━━━━━━━━━\u001b[0m\u001b[37m\u001b[0m \u001b[1m0s\u001b[0m 8ms/step - loss: 9.0061 - mae: 1.9514 - mse: 9.0061 - val_loss: 6.0145 - val_mae: 2.1702 - val_mse: 6.0145\n",
      "Epoch 266/1000\n",
      "\u001b[1m 7/12\u001b[0m \u001b[32m━━━━━━━━━━━\u001b[0m\u001b[37m━━━━━━━━━\u001b[0m \u001b[1m0s\u001b[0m 2ms/step - loss: 4.7089 - mae: 1.6640 - mse: 5.1022 "
     ]
    },
    {
     "name": "stderr",
     "output_type": "stream",
     "text": [
      "2025-02-09 13:31:06,468 [13068] INFO     root: Epoch 266: Loss=6.9985, Val_Loss=6.0677, MAE=1.8557\n"
     ]
    },
    {
     "name": "stdout",
     "output_type": "stream",
     "text": [
      "\u001b[1m12/12\u001b[0m \u001b[32m━━━━━━━━━━━━━━━━━━━━\u001b[0m\u001b[37m\u001b[0m \u001b[1m0s\u001b[0m 8ms/step - loss: 5.5361 - mae: 1.7084 - mse: 5.5361 - val_loss: 6.0677 - val_mae: 2.1784 - val_mse: 6.0677\n",
      "Epoch 267/1000\n",
      "\u001b[1m 7/12\u001b[0m \u001b[32m━━━━━━━━━━━\u001b[0m\u001b[37m━━━━━━━━━\u001b[0m \u001b[1m0s\u001b[0m 3ms/step - loss: 5.9577 - mae: 1.7616 - mse: 6.3172313"
     ]
    },
    {
     "name": "stderr",
     "output_type": "stream",
     "text": [
      "2025-02-09 13:31:06,616 [13068] INFO     root: Epoch 267: Loss=6.9570, Val_Loss=5.9644, MAE=1.8471\n"
     ]
    },
    {
     "name": "stdout",
     "output_type": "stream",
     "text": [
      "\u001b[1m12/12\u001b[0m \u001b[32m━━━━━━━━━━━━━━━━━━━━\u001b[0m\u001b[37m\u001b[0m \u001b[1m0s\u001b[0m 8ms/step - loss: 6.4122 - mae: 1.7914 - mse: 6.4122 - val_loss: 5.9644 - val_mae: 2.1583 - val_mse: 5.9644\n",
      "Epoch 268/1000\n",
      "\u001b[1m 3/12\u001b[0m \u001b[32m━━━━━\u001b[0m\u001b[37m━━━━━━━━━━━━━━━\u001b[0m \u001b[1m0s\u001b[0m 2ms/step - loss: 12.1436 - mae: 1.9908 - mse: 9.5238  "
     ]
    },
    {
     "name": "stderr",
     "output_type": "stream",
     "text": [
      "2025-02-09 13:31:06,761 [13068] INFO     root: Epoch 268: Loss=6.9674, Val_Loss=6.0423, MAE=1.8470\n"
     ]
    },
    {
     "name": "stdout",
     "output_type": "stream",
     "text": [
      "\u001b[1m12/12\u001b[0m \u001b[32m━━━━━━━━━━━━━━━━━━━━\u001b[0m\u001b[37m\u001b[0m \u001b[1m0s\u001b[0m 8ms/step - loss: 8.0876 - mae: 1.8939 - mse: 8.0876 - val_loss: 6.0423 - val_mae: 2.1691 - val_mse: 6.0423\n",
      "Epoch 269/1000\n",
      "\u001b[1m 4/12\u001b[0m \u001b[32m━━━━━━\u001b[0m\u001b[37m━━━━━━━━━━━━━━\u001b[0m \u001b[1m0s\u001b[0m 2ms/step - loss: 7.4598 - mae: 2.0017 - mse: 6.8392 "
     ]
    },
    {
     "name": "stderr",
     "output_type": "stream",
     "text": [
      "2025-02-09 13:31:06,906 [13068] INFO     root: Epoch 269: Loss=6.9363, Val_Loss=5.8596, MAE=1.8485\n"
     ]
    },
    {
     "name": "stdout",
     "output_type": "stream",
     "text": [
      "\u001b[1m12/12\u001b[0m \u001b[32m━━━━━━━━━━━━━━━━━━━━\u001b[0m\u001b[37m\u001b[0m \u001b[1m0s\u001b[0m 7ms/step - loss: 6.9715 - mae: 1.8978 - mse: 6.9715 - val_loss: 5.8596 - val_mae: 2.1361 - val_mse: 5.8596\n",
      "Epoch 270/1000\n",
      "\u001b[1m 4/12\u001b[0m \u001b[32m━━━━━━\u001b[0m\u001b[37m━━━━━━━━━━━━━━\u001b[0m \u001b[1m0s\u001b[0m 3ms/step - loss: 5.0252 - mae: 1.6876 - mse: 5.3818 "
     ]
    },
    {
     "name": "stderr",
     "output_type": "stream",
     "text": [
      "2025-02-09 13:31:07,084 [13068] INFO     root: Epoch 270: Loss=6.9362, Val_Loss=5.8002, MAE=1.8539\n"
     ]
    },
    {
     "name": "stdout",
     "output_type": "stream",
     "text": [
      "\u001b[1m12/12\u001b[0m \u001b[32m━━━━━━━━━━━━━━━━━━━━\u001b[0m\u001b[37m\u001b[0m \u001b[1m0s\u001b[0m 8ms/step - loss: 5.9276 - mae: 1.7725 - mse: 5.9276 - val_loss: 5.8002 - val_mae: 2.1258 - val_mse: 5.8002\n",
      "Epoch 271/1000\n",
      "\u001b[1m 3/12\u001b[0m \u001b[32m━━━━━\u001b[0m\u001b[37m━━━━━━━━━━━━━━━\u001b[0m \u001b[1m0s\u001b[0m 2ms/step - loss: 6.7088 - mae: 1.8596 - mse: 6.4508 "
     ]
    },
    {
     "name": "stderr",
     "output_type": "stream",
     "text": [
      "2025-02-09 13:31:07,290 [13068] INFO     root: Epoch 271: Loss=6.9133, Val_Loss=5.9847, MAE=1.8399\n"
     ]
    },
    {
     "name": "stdout",
     "output_type": "stream",
     "text": [
      "\u001b[1m12/12\u001b[0m \u001b[32m━━━━━━━━━━━━━━━━━━━━\u001b[0m\u001b[37m\u001b[0m \u001b[1m0s\u001b[0m 11ms/step - loss: 6.5967 - mae: 1.8478 - mse: 6.5967 - val_loss: 5.9847 - val_mae: 2.1642 - val_mse: 5.9847\n",
      "Epoch 272/1000\n",
      "\u001b[1m 4/12\u001b[0m \u001b[32m━━━━━━\u001b[0m\u001b[37m━━━━━━━━━━━━━━\u001b[0m \u001b[1m0s\u001b[0m 2ms/step - loss: 7.0206 - mae: 1.9431 - mse: 7.562069"
     ]
    },
    {
     "name": "stderr",
     "output_type": "stream",
     "text": [
      "2025-02-09 13:31:07,593 [13068] INFO     root: Epoch 272: Loss=6.8975, Val_Loss=5.9210, MAE=1.8378\n"
     ]
    },
    {
     "name": "stdout",
     "output_type": "stream",
     "text": [
      "\u001b[1m12/12\u001b[0m \u001b[32m━━━━━━━━━━━━━━━━━━━━\u001b[0m\u001b[37m\u001b[0m \u001b[1m0s\u001b[0m 8ms/step - loss: 7.3796 - mae: 1.8935 - mse: 7.3796 - val_loss: 5.9210 - val_mae: 2.1487 - val_mse: 5.9210\n",
      "Epoch 273/1000\n",
      "\u001b[1m 7/12\u001b[0m \u001b[32m━━━━━━━━━━━\u001b[0m\u001b[37m━━━━━━━━━\u001b[0m \u001b[1m0s\u001b[0m 2ms/step - loss: 5.9588 - mae: 1.8560 - mse: 6.39684"
     ]
    },
    {
     "name": "stderr",
     "output_type": "stream",
     "text": [
      "2025-02-09 13:31:07,733 [13068] INFO     root: Epoch 273: Loss=6.9419, Val_Loss=5.8635, MAE=1.8386\n"
     ]
    },
    {
     "name": "stdout",
     "output_type": "stream",
     "text": [
      "\u001b[1m12/12\u001b[0m \u001b[32m━━━━━━━━━━━━━━━━━━━━\u001b[0m\u001b[37m\u001b[0m \u001b[1m0s\u001b[0m 8ms/step - loss: 6.5943 - mae: 1.8564 - mse: 6.5943 - val_loss: 5.8635 - val_mae: 2.1372 - val_mse: 5.8635\n",
      "Epoch 274/1000\n",
      "\u001b[1m 2/12\u001b[0m \u001b[32m━━━\u001b[0m\u001b[37m━━━━━━━━━━━━━━━━━\u001b[0m \u001b[1m0s\u001b[0m 3ms/step - loss: 4.9397 - mae: 1.7427 - mse: 5.0053 "
     ]
    },
    {
     "name": "stderr",
     "output_type": "stream",
     "text": [
      "2025-02-09 13:31:07,878 [13068] INFO     root: Epoch 274: Loss=6.8642, Val_Loss=5.9307, MAE=1.8336\n"
     ]
    },
    {
     "name": "stdout",
     "output_type": "stream",
     "text": [
      "\u001b[1m12/12\u001b[0m \u001b[32m━━━━━━━━━━━━━━━━━━━━\u001b[0m\u001b[37m\u001b[0m \u001b[1m0s\u001b[0m 7ms/step - loss: 5.8920 - mae: 1.7887 - mse: 5.8920 - val_loss: 5.9307 - val_mae: 2.1495 - val_mse: 5.9307\n",
      "Epoch 275/1000\n",
      "\u001b[1m 4/12\u001b[0m \u001b[32m━━━━━━\u001b[0m\u001b[37m━━━━━━━━━━━━━━\u001b[0m \u001b[1m0s\u001b[0m 3ms/step - loss: 6.2653 - mae: 1.9377 - mse: 6.26533"
     ]
    },
    {
     "name": "stderr",
     "output_type": "stream",
     "text": [
      "2025-02-09 13:31:08,024 [13068] INFO     root: Epoch 275: Loss=6.8617, Val_Loss=5.9882, MAE=1.8343\n"
     ]
    },
    {
     "name": "stdout",
     "output_type": "stream",
     "text": [
      "\u001b[1m12/12\u001b[0m \u001b[32m━━━━━━━━━━━━━━━━━━━━\u001b[0m\u001b[37m\u001b[0m \u001b[1m0s\u001b[0m 9ms/step - loss: 6.8926 - mae: 1.8915 - mse: 6.8926 - val_loss: 5.9882 - val_mae: 2.1569 - val_mse: 5.9882\n",
      "Epoch 276/1000\n",
      "\u001b[1m 5/12\u001b[0m \u001b[32m━━━━━━━━\u001b[0m\u001b[37m━━━━━━━━━━━━\u001b[0m \u001b[1m0s\u001b[0m 3ms/step - loss: 6.2631 - mae: 1.7880 - mse: 6.3367 "
     ]
    },
    {
     "name": "stderr",
     "output_type": "stream",
     "text": [
      "2025-02-09 13:31:08,181 [13068] INFO     root: Epoch 276: Loss=6.8500, Val_Loss=5.8097, MAE=1.8296\n"
     ]
    },
    {
     "name": "stdout",
     "output_type": "stream",
     "text": [
      "\u001b[1m12/12\u001b[0m \u001b[32m━━━━━━━━━━━━━━━━━━━━\u001b[0m\u001b[37m\u001b[0m \u001b[1m0s\u001b[0m 8ms/step - loss: 6.5341 - mae: 1.7979 - mse: 6.5341 - val_loss: 5.8097 - val_mae: 2.1255 - val_mse: 5.8097\n",
      "Epoch 277/1000\n",
      "\u001b[1m 4/12\u001b[0m \u001b[32m━━━━━━\u001b[0m\u001b[37m━━━━━━━━━━━━━━\u001b[0m \u001b[1m0s\u001b[0m 2ms/step - loss: 6.7669 - mae: 1.8284 - mse: 6.90173"
     ]
    },
    {
     "name": "stderr",
     "output_type": "stream",
     "text": [
      "2025-02-09 13:31:08,333 [13068] INFO     root: Epoch 277: Loss=6.8238, Val_Loss=5.7099, MAE=1.8296\n"
     ]
    },
    {
     "name": "stdout",
     "output_type": "stream",
     "text": [
      "\u001b[1m12/12\u001b[0m \u001b[32m━━━━━━━━━━━━━━━━━━━━\u001b[0m\u001b[37m\u001b[0m \u001b[1m0s\u001b[0m 9ms/step - loss: 6.8307 - mae: 1.8102 - mse: 6.8307 - val_loss: 5.7099 - val_mae: 2.1080 - val_mse: 5.7099\n",
      "Epoch 278/1000\n",
      "\u001b[1m 3/12\u001b[0m \u001b[32m━━━━━\u001b[0m\u001b[37m━━━━━━━━━━━━━━━\u001b[0m \u001b[1m0s\u001b[0m 8ms/step - loss: 4.4241 - mae: 1.5691 - mse: 4.77338"
     ]
    },
    {
     "name": "stderr",
     "output_type": "stream",
     "text": [
      "2025-02-09 13:31:08,552 [13068] INFO     root: Epoch 278: Loss=6.8086, Val_Loss=5.8335, MAE=1.8256\n"
     ]
    },
    {
     "name": "stdout",
     "output_type": "stream",
     "text": [
      "\u001b[1m12/12\u001b[0m \u001b[32m━━━━━━━━━━━━━━━━━━━━\u001b[0m\u001b[37m\u001b[0m \u001b[1m0s\u001b[0m 14ms/step - loss: 5.4839 - mae: 1.6993 - mse: 5.4839 - val_loss: 5.8335 - val_mae: 2.1274 - val_mse: 5.8335\n",
      "Epoch 279/1000\n",
      "\u001b[1m 8/12\u001b[0m \u001b[32m━━━━━━━━━━━━━\u001b[0m\u001b[37m━━━━━━━\u001b[0m \u001b[1m0s\u001b[0m 3ms/step - loss: 6.2943 - mae: 1.8357 - mse: 6.48706"
     ]
    },
    {
     "name": "stderr",
     "output_type": "stream",
     "text": [
      "2025-02-09 13:31:08,723 [13068] INFO     root: Epoch 279: Loss=6.7848, Val_Loss=5.7616, MAE=1.8237\n"
     ]
    },
    {
     "name": "stdout",
     "output_type": "stream",
     "text": [
      "\u001b[1m12/12\u001b[0m \u001b[32m━━━━━━━━━━━━━━━━━━━━\u001b[0m\u001b[37m\u001b[0m \u001b[1m0s\u001b[0m 9ms/step - loss: 6.5012 - mae: 1.8293 - mse: 6.5012 - val_loss: 5.7616 - val_mae: 2.1133 - val_mse: 5.7616\n",
      "Epoch 280/1000\n",
      "\u001b[1m 2/12\u001b[0m \u001b[32m━━━\u001b[0m\u001b[37m━━━━━━━━━━━━━━━━━\u001b[0m \u001b[1m0s\u001b[0m 4ms/step - loss: 5.0710 - mae: 1.5837 - mse: 4.9469 "
     ]
    },
    {
     "name": "stderr",
     "output_type": "stream",
     "text": [
      "2025-02-09 13:31:08,900 [13068] INFO     root: Epoch 280: Loss=6.8009, Val_Loss=6.0056, MAE=1.8266\n"
     ]
    },
    {
     "name": "stdout",
     "output_type": "stream",
     "text": [
      "\u001b[1m12/12\u001b[0m \u001b[32m━━━━━━━━━━━━━━━━━━━━\u001b[0m\u001b[37m\u001b[0m \u001b[1m0s\u001b[0m 9ms/step - loss: 6.2476 - mae: 1.7492 - mse: 6.2476 - val_loss: 6.0056 - val_mae: 2.1616 - val_mse: 6.0056\n",
      "Epoch 281/1000\n",
      "\u001b[1m 7/12\u001b[0m \u001b[32m━━━━━━━━━━━\u001b[0m\u001b[37m━━━━━━━━━\u001b[0m \u001b[1m0s\u001b[0m 3ms/step - loss: 7.9766 - mae: 1.8393 - mse: 7.7912 "
     ]
    },
    {
     "name": "stderr",
     "output_type": "stream",
     "text": [
      "2025-02-09 13:31:09,081 [13068] INFO     root: Epoch 281: Loss=6.8134, Val_Loss=5.7937, MAE=1.8229\n"
     ]
    },
    {
     "name": "stdout",
     "output_type": "stream",
     "text": [
      "\u001b[1m12/12\u001b[0m \u001b[32m━━━━━━━━━━━━━━━━━━━━\u001b[0m\u001b[37m\u001b[0m \u001b[1m0s\u001b[0m 10ms/step - loss: 7.5984 - mae: 1.8323 - mse: 7.5984 - val_loss: 5.7937 - val_mae: 2.1203 - val_mse: 5.7937\n",
      "Epoch 282/1000\n",
      "\u001b[1m 2/12\u001b[0m \u001b[32m━━━\u001b[0m\u001b[37m━━━━━━━━━━━━━━━━━\u001b[0m \u001b[1m0s\u001b[0m 6ms/step - loss: 5.6701 - mae: 1.7906 - mse: 6.4139 "
     ]
    },
    {
     "name": "stderr",
     "output_type": "stream",
     "text": [
      "2025-02-09 13:31:09,235 [13068] INFO     root: Epoch 282: Loss=6.7558, Val_Loss=5.9838, MAE=1.8138\n"
     ]
    },
    {
     "name": "stdout",
     "output_type": "stream",
     "text": [
      "\u001b[1m12/12\u001b[0m \u001b[32m━━━━━━━━━━━━━━━━━━━━\u001b[0m\u001b[37m\u001b[0m \u001b[1m0s\u001b[0m 8ms/step - loss: 6.4834 - mae: 1.8103 - mse: 6.4834 - val_loss: 5.9838 - val_mae: 2.1511 - val_mse: 5.9838\n",
      "Epoch 283/1000\n",
      "\u001b[1m 8/12\u001b[0m \u001b[32m━━━━━━━━━━━━━\u001b[0m\u001b[37m━━━━━━━\u001b[0m \u001b[1m0s\u001b[0m 5ms/step - loss: 8.0496 - mae: 1.9715 - mse: 8.04965"
     ]
    },
    {
     "name": "stderr",
     "output_type": "stream",
     "text": [
      "2025-02-09 13:31:09,398 [13068] INFO     ml_monitor.logging: Starting metrics logging thread...\n",
      "2025-02-09 13:31:09,445 [13068] INFO     root: Epoch 283: Loss=6.7811, Val_Loss=5.9250, MAE=1.8183\n"
     ]
    },
    {
     "name": "stdout",
     "output_type": "stream",
     "text": [
      "\u001b[1m12/12\u001b[0m \u001b[32m━━━━━━━━━━━━━━━━━━━━\u001b[0m\u001b[37m\u001b[0m \u001b[1m0s\u001b[0m 14ms/step - loss: 7.7067 - mae: 1.9275 - mse: 7.7067 - val_loss: 5.9250 - val_mae: 2.1380 - val_mse: 5.9250\n",
      "Epoch 284/1000\n",
      "\u001b[1m 7/12\u001b[0m \u001b[32m━━━━━━━━━━━\u001b[0m\u001b[37m━━━━━━━━━\u001b[0m \u001b[1m0s\u001b[0m 2ms/step - loss: 5.2303 - mae: 1.7664 - mse: 6.1309 "
     ]
    },
    {
     "name": "stderr",
     "output_type": "stream",
     "text": [
      "2025-02-09 13:31:09,626 [13068] INFO     root: Epoch 284: Loss=6.7262, Val_Loss=5.5701, MAE=1.8191\n"
     ]
    },
    {
     "name": "stdout",
     "output_type": "stream",
     "text": [
      "\u001b[1m12/12\u001b[0m \u001b[32m━━━━━━━━━━━━━━━━━━━━\u001b[0m\u001b[37m\u001b[0m \u001b[1m0s\u001b[0m 10ms/step - loss: 6.1623 - mae: 1.7746 - mse: 6.1623 - val_loss: 5.5701 - val_mae: 2.0677 - val_mse: 5.5701\n",
      "Epoch 285/1000\n",
      "\u001b[1m 7/12\u001b[0m \u001b[32m━━━━━━━━━━━\u001b[0m\u001b[37m━━━━━━━━━\u001b[0m \u001b[1m0s\u001b[0m 4ms/step - loss: 6.7783 - mae: 1.7906 - mse: 6.7609  "
     ]
    },
    {
     "name": "stderr",
     "output_type": "stream",
     "text": [
      "2025-02-09 13:31:09,979 [13068] INFO     root: Epoch 285: Loss=6.7368, Val_Loss=5.7090, MAE=1.8203\n"
     ]
    },
    {
     "name": "stdout",
     "output_type": "stream",
     "text": [
      "\u001b[1m12/12\u001b[0m \u001b[32m━━━━━━━━━━━━━━━━━━━━\u001b[0m\u001b[37m\u001b[0m \u001b[1m0s\u001b[0m 11ms/step - loss: 6.7464 - mae: 1.8035 - mse: 6.7464 - val_loss: 5.7090 - val_mae: 2.0947 - val_mse: 5.7090\n",
      "Epoch 286/1000\n",
      "\u001b[1m 5/12\u001b[0m \u001b[32m━━━━━━━━\u001b[0m\u001b[37m━━━━━━━━━━━━\u001b[0m \u001b[1m0s\u001b[0m 4ms/step - loss: 5.7093 - mae: 1.7520 - mse: 6.2511 "
     ]
    },
    {
     "name": "stderr",
     "output_type": "stream",
     "text": [
      "2025-02-09 13:31:10,151 [13068] INFO     root: Epoch 286: Loss=6.7521, Val_Loss=6.0840, MAE=1.8161\n"
     ]
    },
    {
     "name": "stdout",
     "output_type": "stream",
     "text": [
      "\u001b[1m12/12\u001b[0m \u001b[32m━━━━━━━━━━━━━━━━━━━━\u001b[0m\u001b[37m\u001b[0m \u001b[1m0s\u001b[0m 10ms/step - loss: 6.3566 - mae: 1.7796 - mse: 6.3566 - val_loss: 6.0840 - val_mae: 2.1676 - val_mse: 6.0840\n",
      "Epoch 287/1000\n",
      "\u001b[1m 4/12\u001b[0m \u001b[32m━━━━━━\u001b[0m\u001b[37m━━━━━━━━━━━━━━\u001b[0m \u001b[1m0s\u001b[0m 2ms/step - loss: 11.3369 - mae: 1.9279 - mse: 9.5018  "
     ]
    },
    {
     "name": "stderr",
     "output_type": "stream",
     "text": [
      "2025-02-09 13:31:10,295 [13068] INFO     root: Epoch 287: Loss=6.7288, Val_Loss=5.7334, MAE=1.8093\n"
     ]
    },
    {
     "name": "stdout",
     "output_type": "stream",
     "text": [
      "\u001b[1m12/12\u001b[0m \u001b[32m━━━━━━━━━━━━━━━━━━━━\u001b[0m\u001b[37m\u001b[0m \u001b[1m0s\u001b[0m 7ms/step - loss: 8.3995 - mae: 1.8712 - mse: 8.3995 - val_loss: 5.7334 - val_mae: 2.0974 - val_mse: 5.7334\n",
      "Epoch 288/1000\n",
      "\u001b[1m 5/12\u001b[0m \u001b[32m━━━━━━━━\u001b[0m\u001b[37m━━━━━━━━━━━━\u001b[0m \u001b[1m0s\u001b[0m 4ms/step - loss: 5.5658 - mae: 1.7239 - mse: 5.97507"
     ]
    },
    {
     "name": "stderr",
     "output_type": "stream",
     "text": [
      "2025-02-09 13:31:10,476 [13068] INFO     root: Epoch 288: Loss=6.6726, Val_Loss=5.7716, MAE=1.8050\n"
     ]
    },
    {
     "name": "stdout",
     "output_type": "stream",
     "text": [
      "\u001b[1m12/12\u001b[0m \u001b[32m━━━━━━━━━━━━━━━━━━━━\u001b[0m\u001b[37m\u001b[0m \u001b[1m0s\u001b[0m 9ms/step - loss: 6.0286 - mae: 1.7461 - mse: 6.0286 - val_loss: 5.7716 - val_mae: 2.1005 - val_mse: 5.7716\n",
      "Epoch 289/1000\n",
      "\u001b[1m 3/12\u001b[0m \u001b[32m━━━━━\u001b[0m\u001b[37m━━━━━━━━━━━━━━━\u001b[0m \u001b[1m0s\u001b[0m 3ms/step - loss: 6.7698 - mae: 1.7554 - mse: 6.5025 "
     ]
    },
    {
     "name": "stderr",
     "output_type": "stream",
     "text": [
      "2025-02-09 13:31:10,663 [13068] INFO     root: Epoch 289: Loss=6.6755, Val_Loss=5.8277, MAE=1.8072\n"
     ]
    },
    {
     "name": "stdout",
     "output_type": "stream",
     "text": [
      "\u001b[1m12/12\u001b[0m \u001b[32m━━━━━━━━━━━━━━━━━━━━\u001b[0m\u001b[37m\u001b[0m \u001b[1m0s\u001b[0m 9ms/step - loss: 6.8917 - mae: 1.8096 - mse: 6.8917 - val_loss: 5.8277 - val_mae: 2.1151 - val_mse: 5.8277\n",
      "Epoch 290/1000\n",
      "\u001b[1m 8/12\u001b[0m \u001b[32m━━━━━━━━━━━━━\u001b[0m\u001b[37m━━━━━━━\u001b[0m \u001b[1m0s\u001b[0m 2ms/step - loss: 7.6375 - mae: 1.8748 - mse: 7.56349"
     ]
    },
    {
     "name": "stderr",
     "output_type": "stream",
     "text": [
      "2025-02-09 13:31:10,810 [13068] INFO     root: Epoch 290: Loss=6.6443, Val_Loss=5.8079, MAE=1.7998\n"
     ]
    },
    {
     "name": "stdout",
     "output_type": "stream",
     "text": [
      "\u001b[1m12/12\u001b[0m \u001b[32m━━━━━━━━━━━━━━━━━━━━\u001b[0m\u001b[37m\u001b[0m \u001b[1m0s\u001b[0m 9ms/step - loss: 7.3466 - mae: 1.8572 - mse: 7.3466 - val_loss: 5.8079 - val_mae: 2.1108 - val_mse: 5.8079\n",
      "Epoch 291/1000\n",
      "\u001b[1m 7/12\u001b[0m \u001b[32m━━━━━━━━━━━\u001b[0m\u001b[37m━━━━━━━━━\u001b[0m \u001b[1m0s\u001b[0m 3ms/step - loss: 7.7019 - mae: 1.8927 - mse: 7.64643"
     ]
    },
    {
     "name": "stderr",
     "output_type": "stream",
     "text": [
      "2025-02-09 13:31:10,960 [13068] INFO     root: Epoch 291: Loss=6.6407, Val_Loss=5.7824, MAE=1.8007\n"
     ]
    },
    {
     "name": "stdout",
     "output_type": "stream",
     "text": [
      "\u001b[1m12/12\u001b[0m \u001b[32m━━━━━━━━━━━━━━━━━━━━\u001b[0m\u001b[37m\u001b[0m \u001b[1m0s\u001b[0m 8ms/step - loss: 7.3410 - mae: 1.8684 - mse: 7.3410 - val_loss: 5.7824 - val_mae: 2.1069 - val_mse: 5.7824\n",
      "Epoch 292/1000\n",
      "\u001b[1m 3/12\u001b[0m \u001b[32m━━━━━\u001b[0m\u001b[37m━━━━━━━━━━━━━━━\u001b[0m \u001b[1m0s\u001b[0m 2ms/step - loss: 9.4700 - mae: 1.9432 - mse: 8.09340"
     ]
    },
    {
     "name": "stderr",
     "output_type": "stream",
     "text": [
      "2025-02-09 13:31:11,143 [13068] INFO     root: Epoch 292: Loss=6.6619, Val_Loss=5.7068, MAE=1.8040\n"
     ]
    },
    {
     "name": "stdout",
     "output_type": "stream",
     "text": [
      "\u001b[1m12/12\u001b[0m \u001b[32m━━━━━━━━━━━━━━━━━━━━\u001b[0m\u001b[37m\u001b[0m \u001b[1m0s\u001b[0m 8ms/step - loss: 7.9144 - mae: 1.8967 - mse: 7.9144 - val_loss: 5.7068 - val_mae: 2.0922 - val_mse: 5.7068\n",
      "Epoch 293/1000\n",
      "\u001b[1m 6/12\u001b[0m \u001b[32m━━━━━━━━━━\u001b[0m\u001b[37m━━━━━━━━━━\u001b[0m \u001b[1m0s\u001b[0m 2ms/step - loss: 7.3655 - mae: 1.9560 - mse: 7.0198 "
     ]
    },
    {
     "name": "stderr",
     "output_type": "stream",
     "text": [
      "2025-02-09 13:31:11,303 [13068] INFO     root: Epoch 293: Loss=6.6086, Val_Loss=5.9256, MAE=1.7955\n"
     ]
    },
    {
     "name": "stdout",
     "output_type": "stream",
     "text": [
      "\u001b[1m12/12\u001b[0m \u001b[32m━━━━━━━━━━━━━━━━━━━━\u001b[0m\u001b[37m\u001b[0m \u001b[1m0s\u001b[0m 7ms/step - loss: 6.6283 - mae: 1.8559 - mse: 6.6283 - val_loss: 5.9256 - val_mae: 2.1254 - val_mse: 5.9256\n",
      "Epoch 294/1000\n",
      "\u001b[1m 8/12\u001b[0m \u001b[32m━━━━━━━━━━━━━\u001b[0m\u001b[37m━━━━━━━\u001b[0m \u001b[1m0s\u001b[0m 3ms/step - loss: 6.2841 - mae: 1.8433 - mse: 6.5230 "
     ]
    },
    {
     "name": "stderr",
     "output_type": "stream",
     "text": [
      "2025-02-09 13:31:11,471 [13068] INFO     root: Epoch 294: Loss=6.6147, Val_Loss=5.6996, MAE=1.7916\n"
     ]
    },
    {
     "name": "stdout",
     "output_type": "stream",
     "text": [
      "\u001b[1m12/12\u001b[0m \u001b[32m━━━━━━━━━━━━━━━━━━━━\u001b[0m\u001b[37m\u001b[0m \u001b[1m0s\u001b[0m 10ms/step - loss: 6.5292 - mae: 1.8398 - mse: 6.5292 - val_loss: 5.6996 - val_mae: 2.0809 - val_mse: 5.6996\n",
      "Epoch 295/1000\n",
      "\u001b[1m 8/12\u001b[0m \u001b[32m━━━━━━━━━━━━━\u001b[0m\u001b[37m━━━━━━━\u001b[0m \u001b[1m0s\u001b[0m 3ms/step - loss: 6.0968 - mae: 1.7769 - mse: 6.0968 "
     ]
    },
    {
     "name": "stderr",
     "output_type": "stream",
     "text": [
      "2025-02-09 13:31:11,639 [13068] INFO     root: Epoch 295: Loss=6.6015, Val_Loss=5.7293, MAE=1.7938\n"
     ]
    },
    {
     "name": "stdout",
     "output_type": "stream",
     "text": [
      "\u001b[1m12/12\u001b[0m \u001b[32m━━━━━━━━━━━━━━━━━━━━\u001b[0m\u001b[37m\u001b[0m \u001b[1m0s\u001b[0m 9ms/step - loss: 6.2335 - mae: 1.7803 - mse: 6.2335 - val_loss: 5.7293 - val_mae: 2.0918 - val_mse: 5.7293\n",
      "Epoch 296/1000\n",
      "\u001b[1m 5/12\u001b[0m \u001b[32m━━━━━━━━\u001b[0m\u001b[37m━━━━━━━━━━━━\u001b[0m \u001b[1m0s\u001b[0m 2ms/step - loss: 10.0632 - mae: 1.8911 - mse: 8.8217  "
     ]
    },
    {
     "name": "stderr",
     "output_type": "stream",
     "text": [
      "2025-02-09 13:31:11,772 [13068] INFO     root: Epoch 296: Loss=6.6013, Val_Loss=5.6533, MAE=1.7950\n"
     ]
    },
    {
     "name": "stdout",
     "output_type": "stream",
     "text": [
      "\u001b[1m12/12\u001b[0m \u001b[32m━━━━━━━━━━━━━━━━━━━━\u001b[0m\u001b[37m\u001b[0m \u001b[1m0s\u001b[0m 7ms/step - loss: 8.1716 - mae: 1.8634 - mse: 8.1716 - val_loss: 5.6533 - val_mae: 2.0727 - val_mse: 5.6533\n",
      "Epoch 297/1000\n",
      "\u001b[1m 8/12\u001b[0m \u001b[32m━━━━━━━━━━━━━\u001b[0m\u001b[37m━━━━━━━\u001b[0m \u001b[1m0s\u001b[0m 2ms/step - loss: 5.7437 - mae: 1.7377 - mse: 5.75001"
     ]
    },
    {
     "name": "stderr",
     "output_type": "stream",
     "text": [
      "2025-02-09 13:31:11,909 [13068] INFO     root: Epoch 297: Loss=6.5895, Val_Loss=5.8166, MAE=1.7851\n"
     ]
    },
    {
     "name": "stdout",
     "output_type": "stream",
     "text": [
      "\u001b[1m12/12\u001b[0m \u001b[32m━━━━━━━━━━━━━━━━━━━━\u001b[0m\u001b[37m\u001b[0m \u001b[1m0s\u001b[0m 8ms/step - loss: 6.0516 - mae: 1.7550 - mse: 6.0516 - val_loss: 5.8166 - val_mae: 2.1052 - val_mse: 5.8166\n",
      "Epoch 298/1000\n",
      "\u001b[1m 8/12\u001b[0m \u001b[32m━━━━━━━━━━━━━\u001b[0m\u001b[37m━━━━━━━\u001b[0m \u001b[1m0s\u001b[0m 2ms/step - loss: 4.9693 - mae: 1.6201 - mse: 5.5242 "
     ]
    },
    {
     "name": "stderr",
     "output_type": "stream",
     "text": [
      "2025-02-09 13:31:12,089 [13068] INFO     root: Epoch 298: Loss=6.5565, Val_Loss=5.4517, MAE=1.7942\n"
     ]
    },
    {
     "name": "stdout",
     "output_type": "stream",
     "text": [
      "\u001b[1m12/12\u001b[0m \u001b[32m━━━━━━━━━━━━━━━━━━━━\u001b[0m\u001b[37m\u001b[0m \u001b[1m0s\u001b[0m 8ms/step - loss: 5.6036 - mae: 1.6738 - mse: 5.6036 - val_loss: 5.4517 - val_mae: 2.0327 - val_mse: 5.4517\n",
      "Epoch 299/1000\n",
      "\u001b[1m 6/12\u001b[0m \u001b[32m━━━━━━━━━━\u001b[0m\u001b[37m━━━━━━━━━━\u001b[0m \u001b[1m0s\u001b[0m 2ms/step - loss: 5.1397 - mae: 1.7251 - mse: 5.52605"
     ]
    },
    {
     "name": "stderr",
     "output_type": "stream",
     "text": [
      "2025-02-09 13:31:12,230 [13068] INFO     root: Epoch 299: Loss=6.5537, Val_Loss=5.7567, MAE=1.7909\n"
     ]
    },
    {
     "name": "stdout",
     "output_type": "stream",
     "text": [
      "\u001b[1m12/12\u001b[0m \u001b[32m━━━━━━━━━━━━━━━━━━━━\u001b[0m\u001b[37m\u001b[0m \u001b[1m0s\u001b[0m 7ms/step - loss: 5.7427 - mae: 1.7540 - mse: 5.7427 - val_loss: 5.7567 - val_mae: 2.0947 - val_mse: 5.7567\n",
      "Epoch 300/1000\n",
      "\u001b[1m 8/12\u001b[0m \u001b[32m━━━━━━━━━━━━━\u001b[0m\u001b[37m━━━━━━━\u001b[0m \u001b[1m0s\u001b[0m 2ms/step - loss: 5.6127 - mae: 1.7373 - mse: 5.79837"
     ]
    },
    {
     "name": "stderr",
     "output_type": "stream",
     "text": [
      "2025-02-09 13:31:12,382 [13068] INFO     root: Epoch 300: Loss=6.5499, Val_Loss=5.8608, MAE=1.7797\n"
     ]
    },
    {
     "name": "stdout",
     "output_type": "stream",
     "text": [
      "\u001b[1m12/12\u001b[0m \u001b[32m━━━━━━━━━━━━━━━━━━━━\u001b[0m\u001b[37m\u001b[0m \u001b[1m0s\u001b[0m 9ms/step - loss: 5.9727 - mae: 1.7543 - mse: 5.9727 - val_loss: 5.8608 - val_mae: 2.1086 - val_mse: 5.8608\n",
      "Epoch 301/1000\n",
      "\u001b[1m 8/12\u001b[0m \u001b[32m━━━━━━━━━━━━━\u001b[0m\u001b[37m━━━━━━━\u001b[0m \u001b[1m0s\u001b[0m 2ms/step - loss: 10.0398 - mae: 2.0541 - mse: 9.0768  "
     ]
    },
    {
     "name": "stderr",
     "output_type": "stream",
     "text": [
      "2025-02-09 13:31:12,541 [13068] INFO     root: Epoch 301: Loss=6.5189, Val_Loss=5.8016, MAE=1.7745\n"
     ]
    },
    {
     "name": "stdout",
     "output_type": "stream",
     "text": [
      "\u001b[1m12/12\u001b[0m \u001b[32m━━━━━━━━━━━━━━━━━━━━\u001b[0m\u001b[37m\u001b[0m \u001b[1m0s\u001b[0m 8ms/step - loss: 8.9062 - mae: 1.9634 - mse: 8.9062 - val_loss: 5.8016 - val_mae: 2.1005 - val_mse: 5.8016\n",
      "Epoch 302/1000\n",
      "\u001b[1m 8/12\u001b[0m \u001b[32m━━━━━━━━━━━━━\u001b[0m\u001b[37m━━━━━━━\u001b[0m \u001b[1m0s\u001b[0m 3ms/step - loss: 4.2653 - mae: 1.5307 - mse: 4.5337 "
     ]
    },
    {
     "name": "stderr",
     "output_type": "stream",
     "text": [
      "2025-02-09 13:31:12,720 [13068] INFO     root: Epoch 302: Loss=6.5282, Val_Loss=5.8094, MAE=1.7801\n"
     ]
    },
    {
     "name": "stdout",
     "output_type": "stream",
     "text": [
      "\u001b[1m12/12\u001b[0m \u001b[32m━━━━━━━━━━━━━━━━━━━━\u001b[0m\u001b[37m\u001b[0m \u001b[1m0s\u001b[0m 8ms/step - loss: 5.0058 - mae: 1.6181 - mse: 5.0058 - val_loss: 5.8094 - val_mae: 2.0932 - val_mse: 5.8094\n",
      "Epoch 303/1000\n",
      "\u001b[1m 8/12\u001b[0m \u001b[32m━━━━━━━━━━━━━\u001b[0m\u001b[37m━━━━━━━\u001b[0m \u001b[1m0s\u001b[0m 2ms/step - loss: 6.4091 - mae: 1.8445 - mse: 6.40915"
     ]
    },
    {
     "name": "stderr",
     "output_type": "stream",
     "text": [
      "2025-02-09 13:31:12,862 [13068] INFO     root: Epoch 303: Loss=6.4909, Val_Loss=5.4626, MAE=1.7874\n"
     ]
    },
    {
     "name": "stdout",
     "output_type": "stream",
     "text": [
      "\u001b[1m12/12\u001b[0m \u001b[32m━━━━━━━━━━━━━━━━━━━━\u001b[0m\u001b[37m\u001b[0m \u001b[1m0s\u001b[0m 7ms/step - loss: 6.4820 - mae: 1.8243 - mse: 6.4820 - val_loss: 5.4626 - val_mae: 2.0269 - val_mse: 5.4626\n",
      "Epoch 304/1000\n",
      "\u001b[1m 8/12\u001b[0m \u001b[32m━━━━━━━━━━━━━\u001b[0m\u001b[37m━━━━━━━\u001b[0m \u001b[1m0s\u001b[0m 2ms/step - loss: 6.2556 - mae: 1.8208 - mse: 6.20955"
     ]
    },
    {
     "name": "stderr",
     "output_type": "stream",
     "text": [
      "2025-02-09 13:31:13,015 [13068] INFO     root: Epoch 304: Loss=6.5149, Val_Loss=5.5472, MAE=1.7842\n"
     ]
    },
    {
     "name": "stdout",
     "output_type": "stream",
     "text": [
      "\u001b[1m12/12\u001b[0m \u001b[32m━━━━━━━━━━━━━━━━━━━━\u001b[0m\u001b[37m\u001b[0m \u001b[1m0s\u001b[0m 9ms/step - loss: 6.2591 - mae: 1.8009 - mse: 6.2591 - val_loss: 5.5472 - val_mae: 2.0410 - val_mse: 5.5472\n",
      "Epoch 305/1000\n",
      "\u001b[1m 6/12\u001b[0m \u001b[32m━━━━━━━━━━\u001b[0m\u001b[37m━━━━━━━━━━\u001b[0m \u001b[1m0s\u001b[0m 2ms/step - loss: 5.6230 - mae: 1.6495 - mse: 5.9750 "
     ]
    },
    {
     "name": "stderr",
     "output_type": "stream",
     "text": [
      "2025-02-09 13:31:13,183 [13068] INFO     root: Epoch 305: Loss=6.4539, Val_Loss=5.7404, MAE=1.7706\n"
     ]
    },
    {
     "name": "stdout",
     "output_type": "stream",
     "text": [
      "\u001b[1m12/12\u001b[0m \u001b[32m━━━━━━━━━━━━━━━━━━━━\u001b[0m\u001b[37m\u001b[0m \u001b[1m0s\u001b[0m 8ms/step - loss: 6.1191 - mae: 1.7084 - mse: 6.1191 - val_loss: 5.7404 - val_mae: 2.0794 - val_mse: 5.7404\n",
      "Epoch 306/1000\n",
      "\u001b[1m 4/12\u001b[0m \u001b[32m━━━━━━\u001b[0m\u001b[37m━━━━━━━━━━━━━━\u001b[0m \u001b[1m0s\u001b[0m 1ms/step - loss: 7.2625 - mae: 1.7972 - mse: 7.2486 "
     ]
    },
    {
     "name": "stderr",
     "output_type": "stream",
     "text": [
      "2025-02-09 13:31:13,310 [13068] INFO     root: Epoch 306: Loss=6.5255, Val_Loss=5.5899, MAE=1.7839\n"
     ]
    },
    {
     "name": "stdout",
     "output_type": "stream",
     "text": [
      "\u001b[1m12/12\u001b[0m \u001b[32m━━━━━━━━━━━━━━━━━━━━\u001b[0m\u001b[37m\u001b[0m \u001b[1m0s\u001b[0m 6ms/step - loss: 7.0051 - mae: 1.7967 - mse: 7.0051 - val_loss: 5.5899 - val_mae: 2.0520 - val_mse: 5.5899\n",
      "Epoch 307/1000\n",
      "\u001b[1m 5/12\u001b[0m \u001b[32m━━━━━━━━\u001b[0m\u001b[37m━━━━━━━━━━━━\u001b[0m \u001b[1m0s\u001b[0m 2ms/step - loss: 6.3798 - mae: 1.7681 - mse: 6.53128"
     ]
    },
    {
     "name": "stderr",
     "output_type": "stream",
     "text": [
      "2025-02-09 13:31:13,436 [13068] INFO     root: Epoch 307: Loss=6.4490, Val_Loss=5.7330, MAE=1.7711\n"
     ]
    },
    {
     "name": "stdout",
     "output_type": "stream",
     "text": [
      "\u001b[1m12/12\u001b[0m \u001b[32m━━━━━━━━━━━━━━━━━━━━\u001b[0m\u001b[37m\u001b[0m \u001b[1m0s\u001b[0m 7ms/step - loss: 6.5559 - mae: 1.7772 - mse: 6.5559 - val_loss: 5.7330 - val_mae: 2.0744 - val_mse: 5.7330\n",
      "Epoch 308/1000\n",
      "\u001b[1m 5/12\u001b[0m \u001b[32m━━━━━━━━\u001b[0m\u001b[37m━━━━━━━━━━━━\u001b[0m \u001b[1m0s\u001b[0m 2ms/step - loss: 4.8594 - mae: 1.6767 - mse: 4.9003 "
     ]
    },
    {
     "name": "stderr",
     "output_type": "stream",
     "text": [
      "2025-02-09 13:31:13,563 [13068] INFO     root: Epoch 308: Loss=6.4126, Val_Loss=5.6123, MAE=1.7648\n"
     ]
    },
    {
     "name": "stdout",
     "output_type": "stream",
     "text": [
      "\u001b[1m12/12\u001b[0m \u001b[32m━━━━━━━━━━━━━━━━━━━━\u001b[0m\u001b[37m\u001b[0m \u001b[1m0s\u001b[0m 7ms/step - loss: 5.4054 - mae: 1.7147 - mse: 5.4054 - val_loss: 5.6123 - val_mae: 2.0491 - val_mse: 5.6123\n",
      "Epoch 309/1000\n",
      "\u001b[1m 3/12\u001b[0m \u001b[32m━━━━━\u001b[0m\u001b[37m━━━━━━━━━━━━━━━\u001b[0m \u001b[1m0s\u001b[0m 3ms/step - loss: 6.2292 - mae: 1.7816 - mse: 6.1045 "
     ]
    },
    {
     "name": "stderr",
     "output_type": "stream",
     "text": [
      "2025-02-09 13:31:13,729 [13068] INFO     root: Epoch 309: Loss=6.4140, Val_Loss=5.5336, MAE=1.7671\n"
     ]
    },
    {
     "name": "stdout",
     "output_type": "stream",
     "text": [
      "\u001b[1m12/12\u001b[0m \u001b[32m━━━━━━━━━━━━━━━━━━━━\u001b[0m\u001b[37m\u001b[0m \u001b[1m0s\u001b[0m 6ms/step - loss: 6.0657 - mae: 1.7751 - mse: 6.0657 - val_loss: 5.5336 - val_mae: 2.0317 - val_mse: 5.5336\n",
      "Epoch 310/1000\n",
      "\u001b[1m 4/12\u001b[0m \u001b[32m━━━━━━\u001b[0m\u001b[37m━━━━━━━━━━━━━━\u001b[0m \u001b[1m0s\u001b[0m 3ms/step - loss: 4.4410 - mae: 1.6437 - mse: 5.36549"
     ]
    },
    {
     "name": "stderr",
     "output_type": "stream",
     "text": [
      "2025-02-09 13:31:13,850 [13068] INFO     root: Epoch 310: Loss=6.4334, Val_Loss=5.5787, MAE=1.7761\n"
     ]
    },
    {
     "name": "stdout",
     "output_type": "stream",
     "text": [
      "\u001b[1m12/12\u001b[0m \u001b[32m━━━━━━━━━━━━━━━━━━━━\u001b[0m\u001b[37m\u001b[0m \u001b[1m0s\u001b[0m 7ms/step - loss: 5.6981 - mae: 1.6921 - mse: 5.6981 - val_loss: 5.5787 - val_mae: 2.0415 - val_mse: 5.5787\n",
      "Epoch 311/1000\n",
      "\u001b[1m 8/12\u001b[0m \u001b[32m━━━━━━━━━━━━━\u001b[0m\u001b[37m━━━━━━━\u001b[0m \u001b[1m0s\u001b[0m 2ms/step - loss: 7.4836 - mae: 1.7476 - mse: 7.1394 "
     ]
    },
    {
     "name": "stderr",
     "output_type": "stream",
     "text": [
      "2025-02-09 13:31:14,031 [13068] INFO     root: Epoch 311: Loss=6.3907, Val_Loss=5.8678, MAE=1.7736\n"
     ]
    },
    {
     "name": "stdout",
     "output_type": "stream",
     "text": [
      "\u001b[1m12/12\u001b[0m \u001b[32m━━━━━━━━━━━━━━━━━━━━\u001b[0m\u001b[37m\u001b[0m \u001b[1m0s\u001b[0m 7ms/step - loss: 7.0513 - mae: 1.7527 - mse: 7.0513 - val_loss: 5.8678 - val_mae: 2.0964 - val_mse: 5.8678\n",
      "Epoch 312/1000\n",
      "\u001b[1m 6/12\u001b[0m \u001b[32m━━━━━━━━━━\u001b[0m\u001b[37m━━━━━━━━━━\u001b[0m \u001b[1m0s\u001b[0m 2ms/step - loss: 4.2260 - mae: 1.6079 - mse: 4.5765 "
     ]
    },
    {
     "name": "stderr",
     "output_type": "stream",
     "text": [
      "2025-02-09 13:31:14,162 [13068] INFO     root: Epoch 312: Loss=6.3645, Val_Loss=5.6761, MAE=1.7640\n"
     ]
    },
    {
     "name": "stdout",
     "output_type": "stream",
     "text": [
      "\u001b[1m12/12\u001b[0m \u001b[32m━━━━━━━━━━━━━━━━━━━━\u001b[0m\u001b[37m\u001b[0m \u001b[1m0s\u001b[0m 7ms/step - loss: 5.1004 - mae: 1.6498 - mse: 5.1004 - val_loss: 5.6761 - val_mae: 2.0561 - val_mse: 5.6761\n",
      "Epoch 313/1000\n",
      "\u001b[1m 7/12\u001b[0m \u001b[32m━━━━━━━━━━━\u001b[0m\u001b[37m━━━━━━━━━\u001b[0m \u001b[1m0s\u001b[0m 2ms/step - loss: 5.3337 - mae: 1.7002 - mse: 5.3731 "
     ]
    },
    {
     "name": "stderr",
     "output_type": "stream",
     "text": [
      "2025-02-09 13:31:14,295 [13068] INFO     root: Epoch 313: Loss=6.3563, Val_Loss=5.6957, MAE=1.7579\n"
     ]
    },
    {
     "name": "stdout",
     "output_type": "stream",
     "text": [
      "\u001b[1m12/12\u001b[0m \u001b[32m━━━━━━━━━━━━━━━━━━━━\u001b[0m\u001b[37m\u001b[0m \u001b[1m0s\u001b[0m 8ms/step - loss: 5.6500 - mae: 1.7159 - mse: 5.6500 - val_loss: 5.6957 - val_mae: 2.0545 - val_mse: 5.6957\n",
      "Epoch 314/1000\n",
      "\u001b[1m 6/12\u001b[0m \u001b[32m━━━━━━━━━━\u001b[0m\u001b[37m━━━━━━━━━━\u001b[0m \u001b[1m0s\u001b[0m 2ms/step - loss: 4.0203 - mae: 1.4693 - mse: 4.74742"
     ]
    },
    {
     "name": "stderr",
     "output_type": "stream",
     "text": [
      "2025-02-09 13:31:14,415 [13068] INFO     root: Epoch 314: Loss=6.3904, Val_Loss=5.7946, MAE=1.7626\n"
     ]
    },
    {
     "name": "stdout",
     "output_type": "stream",
     "text": [
      "\u001b[1m12/12\u001b[0m \u001b[32m━━━━━━━━━━━━━━━━━━━━\u001b[0m\u001b[37m\u001b[0m \u001b[1m0s\u001b[0m 6ms/step - loss: 5.0484 - mae: 1.6230 - mse: 5.0484 - val_loss: 5.7946 - val_mae: 2.0725 - val_mse: 5.7946\n",
      "Epoch 315/1000\n"
     ]
    },
    {
     "name": "stderr",
     "output_type": "stream",
     "text": [
      "2025-02-09 13:31:14,455 [13068] INFO     ml_monitor.logging: Starting metrics logging thread...\n"
     ]
    },
    {
     "name": "stdout",
     "output_type": "stream",
     "text": [
      "\u001b[1m 5/12\u001b[0m \u001b[32m━━━━━━━━\u001b[0m\u001b[37m━━━━━━━━━━━━\u001b[0m \u001b[1m0s\u001b[0m 2ms/step - loss: 5.1115 - mae: 1.6765 - mse: 5.9772 "
     ]
    },
    {
     "name": "stderr",
     "output_type": "stream",
     "text": [
      "2025-02-09 13:31:14,549 [13068] INFO     root: Epoch 315: Loss=6.3847, Val_Loss=5.6008, MAE=1.7634\n"
     ]
    },
    {
     "name": "stdout",
     "output_type": "stream",
     "text": [
      "\u001b[1m12/12\u001b[0m \u001b[32m━━━━━━━━━━━━━━━━━━━━\u001b[0m\u001b[37m\u001b[0m \u001b[1m0s\u001b[0m 7ms/step - loss: 6.0750 - mae: 1.7044 - mse: 6.0750 - val_loss: 5.6008 - val_mae: 2.0417 - val_mse: 5.6008\n",
      "Epoch 316/1000\n",
      "\u001b[1m 5/12\u001b[0m \u001b[32m━━━━━━━━\u001b[0m\u001b[37m━━━━━━━━━━━━\u001b[0m \u001b[1m0s\u001b[0m 2ms/step - loss: 6.8755 - mae: 1.7926 - mse: 6.09324"
     ]
    },
    {
     "name": "stderr",
     "output_type": "stream",
     "text": [
      "2025-02-09 13:31:14,674 [13068] INFO     root: Epoch 316: Loss=6.4233, Val_Loss=5.8743, MAE=1.7773\n"
     ]
    },
    {
     "name": "stdout",
     "output_type": "stream",
     "text": [
      "\u001b[1m12/12\u001b[0m \u001b[32m━━━━━━━━━━━━━━━━━━━━\u001b[0m\u001b[37m\u001b[0m \u001b[1m0s\u001b[0m 7ms/step - loss: 6.0890 - mae: 1.7751 - mse: 6.0890 - val_loss: 5.8743 - val_mae: 2.0888 - val_mse: 5.8743\n",
      "Epoch 317/1000\n",
      "\u001b[1m 6/12\u001b[0m \u001b[32m━━━━━━━━━━\u001b[0m\u001b[37m━━━━━━━━━━\u001b[0m \u001b[1m0s\u001b[0m 2ms/step - loss: 8.2268 - mae: 1.8390 - mse: 7.85386"
     ]
    },
    {
     "name": "stderr",
     "output_type": "stream",
     "text": [
      "2025-02-09 13:31:14,792 [13068] INFO     root: Epoch 317: Loss=6.3440, Val_Loss=5.6334, MAE=1.7528\n"
     ]
    },
    {
     "name": "stdout",
     "output_type": "stream",
     "text": [
      "\u001b[1m12/12\u001b[0m \u001b[32m━━━━━━━━━━━━━━━━━━━━\u001b[0m\u001b[37m\u001b[0m \u001b[1m0s\u001b[0m 6ms/step - loss: 7.4569 - mae: 1.8151 - mse: 7.4569 - val_loss: 5.6334 - val_mae: 2.0436 - val_mse: 5.6334\n",
      "Epoch 318/1000\n",
      "\u001b[1m 3/12\u001b[0m \u001b[32m━━━━━\u001b[0m\u001b[37m━━━━━━━━━━━━━━━\u001b[0m \u001b[1m0s\u001b[0m 3ms/step - loss: 6.3007 - mae: 1.7679 - mse: 6.4419 "
     ]
    },
    {
     "name": "stderr",
     "output_type": "stream",
     "text": [
      "2025-02-09 13:31:14,974 [13068] INFO     root: Epoch 318: Loss=6.3282, Val_Loss=5.8665, MAE=1.7514\n"
     ]
    },
    {
     "name": "stdout",
     "output_type": "stream",
     "text": [
      "\u001b[1m12/12\u001b[0m \u001b[32m━━━━━━━━━━━━━━━━━━━━\u001b[0m\u001b[37m\u001b[0m \u001b[1m0s\u001b[0m 7ms/step - loss: 6.2500 - mae: 1.7614 - mse: 6.2500 - val_loss: 5.8665 - val_mae: 2.0857 - val_mse: 5.8665\n",
      "Epoch 319/1000\n",
      "\u001b[1m 6/12\u001b[0m \u001b[32m━━━━━━━━━━\u001b[0m\u001b[37m━━━━━━━━━━\u001b[0m \u001b[1m0s\u001b[0m 2ms/step - loss: 5.1079 - mae: 1.5919 - mse: 5.64983"
     ]
    },
    {
     "name": "stderr",
     "output_type": "stream",
     "text": [
      "2025-02-09 13:31:15,182 [13068] INFO     root: Epoch 319: Loss=6.2828, Val_Loss=5.7080, MAE=1.7431\n"
     ]
    },
    {
     "name": "stdout",
     "output_type": "stream",
     "text": [
      "\u001b[1m12/12\u001b[0m \u001b[32m━━━━━━━━━━━━━━━━━━━━\u001b[0m\u001b[37m\u001b[0m \u001b[1m0s\u001b[0m 10ms/step - loss: 5.7342 - mae: 1.6500 - mse: 5.7342 - val_loss: 5.7080 - val_mae: 2.0446 - val_mse: 5.7080\n",
      "Epoch 320/1000\n",
      "\u001b[1m 2/12\u001b[0m \u001b[32m━━━\u001b[0m\u001b[37m━━━━━━━━━━━━━━━━━\u001b[0m \u001b[1m0s\u001b[0m 3ms/step - loss: 3.0265 - mae: 1.4701 - mse: 4.0480 "
     ]
    },
    {
     "name": "stderr",
     "output_type": "stream",
     "text": [
      "2025-02-09 13:31:15,361 [13068] INFO     root: Epoch 320: Loss=6.2913, Val_Loss=5.4724, MAE=1.7590\n"
     ]
    },
    {
     "name": "stdout",
     "output_type": "stream",
     "text": [
      "\u001b[1m12/12\u001b[0m \u001b[32m━━━━━━━━━━━━━━━━━━━━\u001b[0m\u001b[37m\u001b[0m \u001b[1m0s\u001b[0m 9ms/step - loss: 5.4310 - mae: 1.6664 - mse: 5.4310 - val_loss: 5.4724 - val_mae: 2.0005 - val_mse: 5.4724\n",
      "Epoch 321/1000\n",
      "\u001b[1m 5/12\u001b[0m \u001b[32m━━━━━━━━\u001b[0m\u001b[37m━━━━━━━━━━━━\u001b[0m \u001b[1m0s\u001b[0m 2ms/step - loss: 6.5099 - mae: 1.7806 - mse: 6.4822 "
     ]
    },
    {
     "name": "stderr",
     "output_type": "stream",
     "text": [
      "2025-02-09 13:31:15,513 [13068] INFO     root: Epoch 321: Loss=6.2642, Val_Loss=5.6306, MAE=1.7509\n"
     ]
    },
    {
     "name": "stdout",
     "output_type": "stream",
     "text": [
      "\u001b[1m12/12\u001b[0m \u001b[32m━━━━━━━━━━━━━━━━━━━━\u001b[0m\u001b[37m\u001b[0m \u001b[1m0s\u001b[0m 8ms/step - loss: 6.3960 - mae: 1.7646 - mse: 6.3960 - val_loss: 5.6306 - val_mae: 2.0306 - val_mse: 5.6306\n",
      "Epoch 322/1000\n",
      "\u001b[1m 5/12\u001b[0m \u001b[32m━━━━━━━━\u001b[0m\u001b[37m━━━━━━━━━━━━\u001b[0m \u001b[1m0s\u001b[0m 3ms/step - loss: 8.2106 - mae: 1.8051 - mse: 7.6657 "
     ]
    },
    {
     "name": "stderr",
     "output_type": "stream",
     "text": [
      "2025-02-09 13:31:15,654 [13068] INFO     root: Epoch 322: Loss=6.2755, Val_Loss=5.7560, MAE=1.7468\n"
     ]
    },
    {
     "name": "stdout",
     "output_type": "stream",
     "text": [
      "\u001b[1m12/12\u001b[0m \u001b[32m━━━━━━━━━━━━━━━━━━━━\u001b[0m\u001b[37m\u001b[0m \u001b[1m0s\u001b[0m 8ms/step - loss: 7.3948 - mae: 1.7912 - mse: 7.3948 - val_loss: 5.7560 - val_mae: 2.0510 - val_mse: 5.7560\n",
      "Epoch 323/1000\n",
      "\u001b[1m 5/12\u001b[0m \u001b[32m━━━━━━━━\u001b[0m\u001b[37m━━━━━━━━━━━━\u001b[0m \u001b[1m0s\u001b[0m 2ms/step - loss: 7.1213 - mae: 1.8162 - mse: 6.7233 "
     ]
    },
    {
     "name": "stderr",
     "output_type": "stream",
     "text": [
      "2025-02-09 13:31:15,798 [13068] INFO     root: Epoch 323: Loss=6.2750, Val_Loss=5.4680, MAE=1.7438\n"
     ]
    },
    {
     "name": "stdout",
     "output_type": "stream",
     "text": [
      "\u001b[1m12/12\u001b[0m \u001b[32m━━━━━━━━━━━━━━━━━━━━\u001b[0m\u001b[37m\u001b[0m \u001b[1m0s\u001b[0m 8ms/step - loss: 6.5678 - mae: 1.7661 - mse: 6.5678 - val_loss: 5.4680 - val_mae: 2.0025 - val_mse: 5.4680\n",
      "Epoch 324/1000\n",
      "\u001b[1m 3/12\u001b[0m \u001b[32m━━━━━\u001b[0m\u001b[37m━━━━━━━━━━━━━━━\u001b[0m \u001b[1m0s\u001b[0m 4ms/step - loss: 5.7359 - mae: 1.8153 - mse: 5.73597"
     ]
    },
    {
     "name": "stderr",
     "output_type": "stream",
     "text": [
      "2025-02-09 13:31:15,938 [13068] INFO     root: Epoch 324: Loss=6.2791, Val_Loss=5.5140, MAE=1.7577\n"
     ]
    },
    {
     "name": "stdout",
     "output_type": "stream",
     "text": [
      "\u001b[1m12/12\u001b[0m \u001b[32m━━━━━━━━━━━━━━━━━━━━\u001b[0m\u001b[37m\u001b[0m \u001b[1m0s\u001b[0m 7ms/step - loss: 6.9536 - mae: 1.8497 - mse: 6.9536 - val_loss: 5.5140 - val_mae: 2.0132 - val_mse: 5.5140\n",
      "Epoch 325/1000\n",
      "\u001b[1m 7/12\u001b[0m \u001b[32m━━━━━━━━━━━\u001b[0m\u001b[37m━━━━━━━━━\u001b[0m \u001b[1m0s\u001b[0m 2ms/step - loss: 7.8661 - mae: 1.8142 - mse: 7.32510"
     ]
    },
    {
     "name": "stderr",
     "output_type": "stream",
     "text": [
      "2025-02-09 13:31:16,082 [13068] INFO     root: Epoch 325: Loss=6.2343, Val_Loss=5.6297, MAE=1.7445\n"
     ]
    },
    {
     "name": "stdout",
     "output_type": "stream",
     "text": [
      "\u001b[1m12/12\u001b[0m \u001b[32m━━━━━━━━━━━━━━━━━━━━\u001b[0m\u001b[37m\u001b[0m \u001b[1m0s\u001b[0m 8ms/step - loss: 7.0870 - mae: 1.7991 - mse: 7.0870 - val_loss: 5.6297 - val_mae: 2.0296 - val_mse: 5.6297\n",
      "Epoch 326/1000\n",
      "\u001b[1m 4/12\u001b[0m \u001b[32m━━━━━━\u001b[0m\u001b[37m━━━━━━━━━━━━━━\u001b[0m \u001b[1m0s\u001b[0m 1ms/step - loss: 4.7177 - mae: 1.5129 - mse: 5.5891  "
     ]
    },
    {
     "name": "stderr",
     "output_type": "stream",
     "text": [
      "2025-02-09 13:31:16,252 [13068] INFO     root: Epoch 326: Loss=6.2323, Val_Loss=5.6010, MAE=1.7373\n"
     ]
    },
    {
     "name": "stdout",
     "output_type": "stream",
     "text": [
      "\u001b[1m12/12\u001b[0m \u001b[32m━━━━━━━━━━━━━━━━━━━━\u001b[0m\u001b[37m\u001b[0m \u001b[1m0s\u001b[0m 7ms/step - loss: 5.9304 - mae: 1.6757 - mse: 5.9304 - val_loss: 5.6010 - val_mae: 2.0219 - val_mse: 5.6010\n",
      "Epoch 327/1000\n",
      "\u001b[1m 7/12\u001b[0m \u001b[32m━━━━━━━━━━━\u001b[0m\u001b[37m━━━━━━━━━\u001b[0m \u001b[1m0s\u001b[0m 3ms/step - loss: 4.1401 - mae: 1.4814 - mse: 4.2421 9"
     ]
    },
    {
     "name": "stderr",
     "output_type": "stream",
     "text": [
      "2025-02-09 13:31:16,432 [13068] INFO     root: Epoch 327: Loss=6.2184, Val_Loss=5.6298, MAE=1.7282\n"
     ]
    },
    {
     "name": "stdout",
     "output_type": "stream",
     "text": [
      "\u001b[1m12/12\u001b[0m \u001b[32m━━━━━━━━━━━━━━━━━━━━\u001b[0m\u001b[37m\u001b[0m \u001b[1m0s\u001b[0m 8ms/step - loss: 4.7633 - mae: 1.5521 - mse: 4.7633 - val_loss: 5.6298 - val_mae: 2.0193 - val_mse: 5.6298\n",
      "Epoch 328/1000\n",
      "\u001b[1m 3/12\u001b[0m \u001b[32m━━━━━\u001b[0m\u001b[37m━━━━━━━━━━━━━━━\u001b[0m \u001b[1m0s\u001b[0m 3ms/step - loss: 3.9447 - mae: 1.4665 - mse: 4.1323 "
     ]
    },
    {
     "name": "stderr",
     "output_type": "stream",
     "text": [
      "2025-02-09 13:31:16,596 [13068] INFO     root: Epoch 328: Loss=6.2639, Val_Loss=5.3078, MAE=1.7503\n"
     ]
    },
    {
     "name": "stdout",
     "output_type": "stream",
     "text": [
      "\u001b[1m12/12\u001b[0m \u001b[32m━━━━━━━━━━━━━━━━━━━━\u001b[0m\u001b[37m\u001b[0m \u001b[1m0s\u001b[0m 7ms/step - loss: 5.6625 - mae: 1.6611 - mse: 5.6625 - val_loss: 5.3078 - val_mae: 1.9628 - val_mse: 5.3078\n",
      "Epoch 329/1000\n",
      "\u001b[1m 3/12\u001b[0m \u001b[32m━━━━━\u001b[0m\u001b[37m━━━━━━━━━━━━━━━\u001b[0m \u001b[1m0s\u001b[0m 4ms/step - loss: 4.8883 - mae: 1.6097 - mse: 5.7350 "
     ]
    },
    {
     "name": "stderr",
     "output_type": "stream",
     "text": [
      "2025-02-09 13:31:16,752 [13068] INFO     root: Epoch 329: Loss=6.1812, Val_Loss=5.7886, MAE=1.7337\n"
     ]
    },
    {
     "name": "stdout",
     "output_type": "stream",
     "text": [
      "\u001b[1m12/12\u001b[0m \u001b[32m━━━━━━━━━━━━━━━━━━━━\u001b[0m\u001b[37m\u001b[0m \u001b[1m0s\u001b[0m 9ms/step - loss: 5.9993 - mae: 1.6664 - mse: 5.9993 - val_loss: 5.7886 - val_mae: 2.0453 - val_mse: 5.7886\n",
      "Epoch 330/1000\n",
      "\u001b[1m 4/12\u001b[0m \u001b[32m━━━━━━\u001b[0m\u001b[37m━━━━━━━━━━━━━━\u001b[0m \u001b[1m0s\u001b[0m 4ms/step - loss: 8.1799 - mae: 1.9303 - mse: 7.62933"
     ]
    },
    {
     "name": "stderr",
     "output_type": "stream",
     "text": [
      "2025-02-09 13:31:16,912 [13068] INFO     root: Epoch 330: Loss=6.1786, Val_Loss=5.5606, MAE=1.7289\n"
     ]
    },
    {
     "name": "stdout",
     "output_type": "stream",
     "text": [
      "\u001b[1m12/12\u001b[0m \u001b[32m━━━━━━━━━━━━━━━━━━━━\u001b[0m\u001b[37m\u001b[0m \u001b[1m0s\u001b[0m 8ms/step - loss: 7.2156 - mae: 1.8468 - mse: 7.2156 - val_loss: 5.5606 - val_mae: 2.0134 - val_mse: 5.5606\n",
      "Epoch 331/1000\n",
      "\u001b[1m 4/12\u001b[0m \u001b[32m━━━━━━\u001b[0m\u001b[37m━━━━━━━━━━━━━━\u001b[0m \u001b[1m0s\u001b[0m 2ms/step - loss: 3.8146 - mae: 1.4835 - mse: 4.2299  "
     ]
    },
    {
     "name": "stderr",
     "output_type": "stream",
     "text": [
      "2025-02-09 13:31:17,055 [13068] INFO     root: Epoch 331: Loss=6.1780, Val_Loss=5.4206, MAE=1.7321\n"
     ]
    },
    {
     "name": "stdout",
     "output_type": "stream",
     "text": [
      "\u001b[1m12/12\u001b[0m \u001b[32m━━━━━━━━━━━━━━━━━━━━\u001b[0m\u001b[37m\u001b[0m \u001b[1m0s\u001b[0m 7ms/step - loss: 5.6614 - mae: 1.6747 - mse: 5.6614 - val_loss: 5.4206 - val_mae: 1.9941 - val_mse: 5.4206\n",
      "Epoch 332/1000\n",
      "\u001b[1m 5/12\u001b[0m \u001b[32m━━━━━━━━\u001b[0m\u001b[37m━━━━━━━━━━━━\u001b[0m \u001b[1m0s\u001b[0m 3ms/step - loss: 5.8225 - mae: 1.6895 - mse: 5.87372"
     ]
    },
    {
     "name": "stderr",
     "output_type": "stream",
     "text": [
      "2025-02-09 13:31:17,231 [13068] INFO     root: Epoch 332: Loss=6.1581, Val_Loss=5.6176, MAE=1.7344\n"
     ]
    },
    {
     "name": "stdout",
     "output_type": "stream",
     "text": [
      "\u001b[1m12/12\u001b[0m \u001b[32m━━━━━━━━━━━━━━━━━━━━\u001b[0m\u001b[37m\u001b[0m \u001b[1m0s\u001b[0m 8ms/step - loss: 5.8940 - mae: 1.7035 - mse: 5.8940 - val_loss: 5.6176 - val_mae: 2.0182 - val_mse: 5.6176\n",
      "Epoch 333/1000\n",
      "\u001b[1m 2/12\u001b[0m \u001b[32m━━━\u001b[0m\u001b[37m━━━━━━━━━━━━━━━━━\u001b[0m \u001b[1m0s\u001b[0m 3ms/step - loss: 5.3132 - mae: 1.7967 - mse: 4.99692"
     ]
    },
    {
     "name": "stderr",
     "output_type": "stream",
     "text": [
      "2025-02-09 13:31:17,388 [13068] INFO     root: Epoch 333: Loss=6.1465, Val_Loss=5.3873, MAE=1.7266\n"
     ]
    },
    {
     "name": "stdout",
     "output_type": "stream",
     "text": [
      "\u001b[1m12/12\u001b[0m \u001b[32m━━━━━━━━━━━━━━━━━━━━\u001b[0m\u001b[37m\u001b[0m \u001b[1m0s\u001b[0m 8ms/step - loss: 5.4352 - mae: 1.7097 - mse: 5.4352 - val_loss: 5.3873 - val_mae: 1.9858 - val_mse: 5.3873\n",
      "Epoch 334/1000\n",
      "\u001b[1m 6/12\u001b[0m \u001b[32m━━━━━━━━━━\u001b[0m\u001b[37m━━━━━━━━━━\u001b[0m \u001b[1m0s\u001b[0m 2ms/step - loss: 5.5209 - mae: 1.6965 - mse: 5.7585 "
     ]
    },
    {
     "name": "stderr",
     "output_type": "stream",
     "text": [
      "2025-02-09 13:31:17,548 [13068] INFO     root: Epoch 334: Loss=6.1076, Val_Loss=5.4404, MAE=1.7171\n"
     ]
    },
    {
     "name": "stdout",
     "output_type": "stream",
     "text": [
      "\u001b[1m12/12\u001b[0m \u001b[32m━━━━━━━━━━━━━━━━━━━━\u001b[0m\u001b[37m\u001b[0m \u001b[1m0s\u001b[0m 8ms/step - loss: 5.8191 - mae: 1.6999 - mse: 5.8191 - val_loss: 5.4404 - val_mae: 1.9865 - val_mse: 5.4404\n",
      "Epoch 335/1000\n",
      "\u001b[1m 5/12\u001b[0m \u001b[32m━━━━━━━━\u001b[0m\u001b[37m━━━━━━━━━━━━\u001b[0m \u001b[1m0s\u001b[0m 2ms/step - loss: 8.2802 - mae: 1.7618 - mse: 8.0499  "
     ]
    },
    {
     "name": "stderr",
     "output_type": "stream",
     "text": [
      "2025-02-09 13:31:17,676 [13068] INFO     root: Epoch 335: Loss=6.1218, Val_Loss=5.4738, MAE=1.7256\n"
     ]
    },
    {
     "name": "stdout",
     "output_type": "stream",
     "text": [
      "\u001b[1m12/12\u001b[0m \u001b[32m━━━━━━━━━━━━━━━━━━━━\u001b[0m\u001b[37m\u001b[0m \u001b[1m0s\u001b[0m 7ms/step - loss: 7.2654 - mae: 1.7528 - mse: 7.2654 - val_loss: 5.4738 - val_mae: 1.9927 - val_mse: 5.4738\n",
      "Epoch 336/1000\n",
      "\u001b[1m 3/12\u001b[0m \u001b[32m━━━━━\u001b[0m\u001b[37m━━━━━━━━━━━━━━━\u001b[0m \u001b[1m0s\u001b[0m 2ms/step - loss: 4.5527 - mae: 1.6154 - mse: 4.4003 "
     ]
    },
    {
     "name": "stderr",
     "output_type": "stream",
     "text": [
      "2025-02-09 13:31:17,802 [13068] INFO     root: Epoch 336: Loss=6.1379, Val_Loss=5.6386, MAE=1.7200\n"
     ]
    },
    {
     "name": "stdout",
     "output_type": "stream",
     "text": [
      "\u001b[1m12/12\u001b[0m \u001b[32m━━━━━━━━━━━━━━━━━━━━\u001b[0m\u001b[37m\u001b[0m \u001b[1m0s\u001b[0m 7ms/step - loss: 4.9700 - mae: 1.6508 - mse: 4.9700 - val_loss: 5.6386 - val_mae: 2.0187 - val_mse: 5.6386\n",
      "Epoch 337/1000\n",
      "\u001b[1m 4/12\u001b[0m \u001b[32m━━━━━━\u001b[0m\u001b[37m━━━━━━━━━━━━━━\u001b[0m \u001b[1m0s\u001b[0m 2ms/step - loss: 7.0535 - mae: 1.6257 - mse: 6.88818"
     ]
    },
    {
     "name": "stderr",
     "output_type": "stream",
     "text": [
      "2025-02-09 13:31:17,921 [13068] INFO     root: Epoch 337: Loss=6.1611, Val_Loss=5.3987, MAE=1.7273\n"
     ]
    },
    {
     "name": "stdout",
     "output_type": "stream",
     "text": [
      "\u001b[1m12/12\u001b[0m \u001b[32m━━━━━━━━━━━━━━━━━━━━\u001b[0m\u001b[37m\u001b[0m \u001b[1m0s\u001b[0m 6ms/step - loss: 6.4684 - mae: 1.6779 - mse: 6.4684 - val_loss: 5.3987 - val_mae: 1.9746 - val_mse: 5.3987\n",
      "Epoch 338/1000\n",
      "\u001b[1m 8/12\u001b[0m \u001b[32m━━━━━━━━━━━━━\u001b[0m\u001b[37m━━━━━━━\u001b[0m \u001b[1m0s\u001b[0m 2ms/step - loss: 5.2858 - mae: 1.6581 - mse: 5.2820 "
     ]
    },
    {
     "name": "stderr",
     "output_type": "stream",
     "text": [
      "2025-02-09 13:31:18,044 [13068] INFO     root: Epoch 338: Loss=6.0587, Val_Loss=5.5173, MAE=1.7115\n"
     ]
    },
    {
     "name": "stdout",
     "output_type": "stream",
     "text": [
      "\u001b[1m12/12\u001b[0m \u001b[32m━━━━━━━━━━━━━━━━━━━━\u001b[0m\u001b[37m\u001b[0m \u001b[1m0s\u001b[0m 6ms/step - loss: 5.4490 - mae: 1.6710 - mse: 5.4490 - val_loss: 5.5173 - val_mae: 1.9962 - val_mse: 5.5173\n",
      "Epoch 339/1000\n",
      "\u001b[1m 3/12\u001b[0m \u001b[32m━━━━━\u001b[0m\u001b[37m━━━━━━━━━━━━━━━\u001b[0m \u001b[1m0s\u001b[0m 2ms/step - loss: 5.4108 - mae: 1.6510 - mse: 5.3793 "
     ]
    },
    {
     "name": "stderr",
     "output_type": "stream",
     "text": [
      "2025-02-09 13:31:18,214 [13068] INFO     root: Epoch 339: Loss=6.0864, Val_Loss=5.4088, MAE=1.7128\n"
     ]
    },
    {
     "name": "stdout",
     "output_type": "stream",
     "text": [
      "\u001b[1m12/12\u001b[0m \u001b[32m━━━━━━━━━━━━━━━━━━━━\u001b[0m\u001b[37m\u001b[0m \u001b[1m0s\u001b[0m 6ms/step - loss: 5.7526 - mae: 1.6601 - mse: 5.7526 - val_loss: 5.4088 - val_mae: 1.9803 - val_mse: 5.4088\n",
      "Epoch 340/1000\n",
      "\u001b[1m 4/12\u001b[0m \u001b[32m━━━━━━\u001b[0m\u001b[37m━━━━━━━━━━━━━━\u001b[0m \u001b[1m0s\u001b[0m 2ms/step - loss: 4.3787 - mae: 1.5698 - mse: 4.9093 "
     ]
    },
    {
     "name": "stderr",
     "output_type": "stream",
     "text": [
      "2025-02-09 13:31:18,346 [13068] INFO     root: Epoch 340: Loss=6.0851, Val_Loss=5.7237, MAE=1.7139\n"
     ]
    },
    {
     "name": "stdout",
     "output_type": "stream",
     "text": [
      "\u001b[1m12/12\u001b[0m \u001b[32m━━━━━━━━━━━━━━━━━━━━\u001b[0m\u001b[37m\u001b[0m \u001b[1m0s\u001b[0m 7ms/step - loss: 5.4511 - mae: 1.6255 - mse: 5.4511 - val_loss: 5.7237 - val_mae: 2.0325 - val_mse: 5.7237\n",
      "Epoch 341/1000\n",
      "\u001b[1m 2/12\u001b[0m \u001b[32m━━━\u001b[0m\u001b[37m━━━━━━━━━━━━━━━━━\u001b[0m \u001b[1m0s\u001b[0m 3ms/step - loss: 5.4048 - mae: 1.6695 - mse: 6.5590 "
     ]
    },
    {
     "name": "stderr",
     "output_type": "stream",
     "text": [
      "2025-02-09 13:31:18,466 [13068] INFO     root: Epoch 341: Loss=6.0941, Val_Loss=5.4075, MAE=1.7110\n"
     ]
    },
    {
     "name": "stdout",
     "output_type": "stream",
     "text": [
      "\u001b[1m12/12\u001b[0m \u001b[32m━━━━━━━━━━━━━━━━━━━━\u001b[0m\u001b[37m\u001b[0m \u001b[1m0s\u001b[0m 6ms/step - loss: 6.5669 - mae: 1.7337 - mse: 6.5669 - val_loss: 5.4075 - val_mae: 1.9807 - val_mse: 5.4075\n",
      "Epoch 342/1000\n",
      "\u001b[1m 8/12\u001b[0m \u001b[32m━━━━━━━━━━━━━\u001b[0m\u001b[37m━━━━━━━\u001b[0m \u001b[1m0s\u001b[0m 2ms/step - loss: 6.5290 - mae: 1.7810 - mse: 6.3788 "
     ]
    },
    {
     "name": "stderr",
     "output_type": "stream",
     "text": [
      "2025-02-09 13:31:18,598 [13068] INFO     root: Epoch 342: Loss=6.0497, Val_Loss=5.6441, MAE=1.7041\n"
     ]
    },
    {
     "name": "stdout",
     "output_type": "stream",
     "text": [
      "\u001b[1m12/12\u001b[0m \u001b[32m━━━━━━━━━━━━━━━━━━━━\u001b[0m\u001b[37m\u001b[0m \u001b[1m0s\u001b[0m 7ms/step - loss: 6.3582 - mae: 1.7499 - mse: 6.3582 - val_loss: 5.6441 - val_mae: 2.0218 - val_mse: 5.6441\n",
      "Epoch 343/1000\n",
      "\u001b[1m 8/12\u001b[0m \u001b[32m━━━━━━━━━━━━━\u001b[0m\u001b[37m━━━━━━━\u001b[0m \u001b[1m0s\u001b[0m 2ms/step - loss: 7.5051 - mae: 1.8216 - mse: 7.16667"
     ]
    },
    {
     "name": "stderr",
     "output_type": "stream",
     "text": [
      "2025-02-09 13:31:18,724 [13068] INFO     root: Epoch 343: Loss=6.0297, Val_Loss=5.3526, MAE=1.6996\n"
     ]
    },
    {
     "name": "stdout",
     "output_type": "stream",
     "text": [
      "\u001b[1m12/12\u001b[0m \u001b[32m━━━━━━━━━━━━━━━━━━━━\u001b[0m\u001b[37m\u001b[0m \u001b[1m0s\u001b[0m 7ms/step - loss: 6.9496 - mae: 1.7946 - mse: 6.9496 - val_loss: 5.3526 - val_mae: 1.9677 - val_mse: 5.3526\n",
      "Epoch 344/1000\n",
      "\u001b[1m 6/12\u001b[0m \u001b[32m━━━━━━━━━━\u001b[0m\u001b[37m━━━━━━━━━━\u001b[0m \u001b[1m0s\u001b[0m 2ms/step - loss: 4.7698 - mae: 1.5940 - mse: 5.1152 "
     ]
    },
    {
     "name": "stderr",
     "output_type": "stream",
     "text": [
      "2025-02-09 13:31:18,852 [13068] INFO     root: Epoch 344: Loss=6.0344, Val_Loss=5.4879, MAE=1.7070\n"
     ]
    },
    {
     "name": "stdout",
     "output_type": "stream",
     "text": [
      "\u001b[1m12/12\u001b[0m \u001b[32m━━━━━━━━━━━━━━━━━━━━\u001b[0m\u001b[37m\u001b[0m \u001b[1m0s\u001b[0m 7ms/step - loss: 5.5119 - mae: 1.6424 - mse: 5.5119 - val_loss: 5.4879 - val_mae: 1.9879 - val_mse: 5.4879\n",
      "Epoch 345/1000\n",
      "\u001b[1m 5/12\u001b[0m \u001b[32m━━━━━━━━\u001b[0m\u001b[37m━━━━━━━━━━━━\u001b[0m \u001b[1m0s\u001b[0m 1ms/step - loss: 5.0169 - mae: 1.6192 - mse: 5.09460"
     ]
    },
    {
     "name": "stderr",
     "output_type": "stream",
     "text": [
      "2025-02-09 13:31:18,974 [13068] INFO     root: Epoch 345: Loss=6.0486, Val_Loss=5.6366, MAE=1.6949\n"
     ]
    },
    {
     "name": "stdout",
     "output_type": "stream",
     "text": [
      "\u001b[1m12/12\u001b[0m \u001b[32m━━━━━━━━━━━━━━━━━━━━\u001b[0m\u001b[37m\u001b[0m \u001b[1m0s\u001b[0m 6ms/step - loss: 5.2461 - mae: 1.6324 - mse: 5.2461 - val_loss: 5.6366 - val_mae: 2.0202 - val_mse: 5.6366\n",
      "Epoch 346/1000\n",
      "\u001b[1m 5/12\u001b[0m \u001b[32m━━━━━━━━\u001b[0m\u001b[37m━━━━━━━━━━━━\u001b[0m \u001b[1m0s\u001b[0m 2ms/step - loss: 5.5338 - mae: 1.6536 - mse: 5.650850"
     ]
    },
    {
     "name": "stderr",
     "output_type": "stream",
     "text": [
      "2025-02-09 13:31:19,092 [13068] INFO     root: Epoch 346: Loss=5.9789, Val_Loss=5.4614, MAE=1.6936\n"
     ]
    },
    {
     "name": "stdout",
     "output_type": "stream",
     "text": [
      "\u001b[1m12/12\u001b[0m \u001b[32m━━━━━━━━━━━━━━━━━━━━\u001b[0m\u001b[37m\u001b[0m \u001b[1m0s\u001b[0m 6ms/step - loss: 5.7235 - mae: 1.6636 - mse: 5.7235 - val_loss: 5.4614 - val_mae: 1.9795 - val_mse: 5.4614\n",
      "Epoch 347/1000\n",
      "\u001b[1m 5/12\u001b[0m \u001b[32m━━━━━━━━\u001b[0m\u001b[37m━━━━━━━━━━━━\u001b[0m \u001b[1m0s\u001b[0m 2ms/step - loss: 6.3526 - mae: 1.8501 - mse: 6.59122"
     ]
    },
    {
     "name": "stderr",
     "output_type": "stream",
     "text": [
      "2025-02-09 13:31:19,212 [13068] INFO     root: Epoch 347: Loss=5.9657, Val_Loss=5.4284, MAE=1.7010\n"
     ]
    },
    {
     "name": "stdout",
     "output_type": "stream",
     "text": [
      "\u001b[1m12/12\u001b[0m \u001b[32m━━━━━━━━━━━━━━━━━━━━\u001b[0m\u001b[37m\u001b[0m \u001b[1m0s\u001b[0m 6ms/step - loss: 6.5217 - mae: 1.8059 - mse: 6.5217 - val_loss: 5.4284 - val_mae: 1.9692 - val_mse: 5.4284\n",
      "Epoch 348/1000\n",
      "\u001b[1m 6/12\u001b[0m \u001b[32m━━━━━━━━━━\u001b[0m\u001b[37m━━━━━━━━━━\u001b[0m \u001b[1m0s\u001b[0m 3ms/step - loss: 3.9152 - mae: 1.5131 - mse: 3.9334 "
     ]
    },
    {
     "name": "stderr",
     "output_type": "stream",
     "text": [
      "2025-02-09 13:31:19,347 [13068] INFO     root: Epoch 348: Loss=5.9669, Val_Loss=5.5496, MAE=1.6993\n"
     ]
    },
    {
     "name": "stdout",
     "output_type": "stream",
     "text": [
      "\u001b[1m12/12\u001b[0m \u001b[32m━━━━━━━━━━━━━━━━━━━━\u001b[0m\u001b[37m\u001b[0m \u001b[1m0s\u001b[0m 8ms/step - loss: 4.7804 - mae: 1.5873 - mse: 4.7804 - val_loss: 5.5496 - val_mae: 1.9886 - val_mse: 5.5496\n",
      "Epoch 349/1000\n",
      "\u001b[1m 8/12\u001b[0m \u001b[32m━━━━━━━━━━━━━\u001b[0m\u001b[37m━━━━━━━\u001b[0m \u001b[1m0s\u001b[0m 2ms/step - loss: 6.3079 - mae: 1.7257 - mse: 6.30790"
     ]
    },
    {
     "name": "stderr",
     "output_type": "stream",
     "text": [
      "2025-02-09 13:31:19,480 [13068] INFO     ml_monitor.logging: Starting metrics logging thread...\n",
      "2025-02-09 13:31:19,527 [13068] INFO     root: Epoch 349: Loss=5.9584, Val_Loss=5.3045, MAE=1.6960\n"
     ]
    },
    {
     "name": "stdout",
     "output_type": "stream",
     "text": [
      "\u001b[1m12/12\u001b[0m \u001b[32m━━━━━━━━━━━━━━━━━━━━\u001b[0m\u001b[37m\u001b[0m \u001b[1m0s\u001b[0m 8ms/step - loss: 6.2481 - mae: 1.7247 - mse: 6.2481 - val_loss: 5.3045 - val_mae: 1.9486 - val_mse: 5.3045\n",
      "Epoch 350/1000\n",
      "\u001b[1m 6/12\u001b[0m \u001b[32m━━━━━━━━━━\u001b[0m\u001b[37m━━━━━━━━━━\u001b[0m \u001b[1m0s\u001b[0m 2ms/step - loss: 7.4568 - mae: 1.7864 - mse: 7.09003"
     ]
    },
    {
     "name": "stderr",
     "output_type": "stream",
     "text": [
      "2025-02-09 13:31:19,652 [13068] INFO     root: Epoch 350: Loss=5.9827, Val_Loss=5.6911, MAE=1.6945\n"
     ]
    },
    {
     "name": "stdout",
     "output_type": "stream",
     "text": [
      "\u001b[1m12/12\u001b[0m \u001b[32m━━━━━━━━━━━━━━━━━━━━\u001b[0m\u001b[37m\u001b[0m \u001b[1m0s\u001b[0m 7ms/step - loss: 6.5922 - mae: 1.7325 - mse: 6.5922 - val_loss: 5.6911 - val_mae: 2.0057 - val_mse: 5.6911\n",
      "Epoch 351/1000\n",
      "\u001b[1m 3/12\u001b[0m \u001b[32m━━━━━\u001b[0m\u001b[37m━━━━━━━━━━━━━━━\u001b[0m \u001b[1m0s\u001b[0m 3ms/step - loss: 5.2337 - mae: 1.6506 - mse: 5.2724 "
     ]
    },
    {
     "name": "stderr",
     "output_type": "stream",
     "text": [
      "2025-02-09 13:31:19,770 [13068] INFO     root: Epoch 351: Loss=5.9252, Val_Loss=5.5041, MAE=1.6797\n"
     ]
    },
    {
     "name": "stdout",
     "output_type": "stream",
     "text": [
      "\u001b[1m12/12\u001b[0m \u001b[32m━━━━━━━━━━━━━━━━━━━━\u001b[0m\u001b[37m\u001b[0m \u001b[1m0s\u001b[0m 6ms/step - loss: 5.3590 - mae: 1.6351 - mse: 5.3590 - val_loss: 5.5041 - val_mae: 1.9900 - val_mse: 5.5041\n",
      "Epoch 352/1000\n",
      "\u001b[1m 7/12\u001b[0m \u001b[32m━━━━━━━━━━━\u001b[0m\u001b[37m━━━━━━━━━\u001b[0m \u001b[1m0s\u001b[0m 2ms/step - loss: 4.8625 - mae: 1.5829 - mse: 5.0431 "
     ]
    },
    {
     "name": "stderr",
     "output_type": "stream",
     "text": [
      "2025-02-09 13:31:19,897 [13068] INFO     root: Epoch 352: Loss=5.9086, Val_Loss=5.3064, MAE=1.6894\n"
     ]
    },
    {
     "name": "stdout",
     "output_type": "stream",
     "text": [
      "\u001b[1m12/12\u001b[0m \u001b[32m━━━━━━━━━━━━━━━━━━━━\u001b[0m\u001b[37m\u001b[0m \u001b[1m0s\u001b[0m 7ms/step - loss: 5.1513 - mae: 1.6143 - mse: 5.1513 - val_loss: 5.3064 - val_mae: 1.9465 - val_mse: 5.3064\n",
      "Epoch 353/1000\n",
      "\u001b[1m 8/12\u001b[0m \u001b[32m━━━━━━━━━━━━━\u001b[0m\u001b[37m━━━━━━━\u001b[0m \u001b[1m0s\u001b[0m 2ms/step - loss: 4.7000 - mae: 1.6120 - mse: 5.2023 "
     ]
    },
    {
     "name": "stderr",
     "output_type": "stream",
     "text": [
      "2025-02-09 13:31:20,025 [13068] INFO     root: Epoch 353: Loss=5.9202, Val_Loss=5.4289, MAE=1.6900\n"
     ]
    },
    {
     "name": "stdout",
     "output_type": "stream",
     "text": [
      "\u001b[1m12/12\u001b[0m \u001b[32m━━━━━━━━━━━━━━━━━━━━\u001b[0m\u001b[37m\u001b[0m \u001b[1m0s\u001b[0m 7ms/step - loss: 5.3290 - mae: 1.6283 - mse: 5.3290 - val_loss: 5.4289 - val_mae: 1.9528 - val_mse: 5.4289\n",
      "Epoch 354/1000\n",
      "\u001b[1m 2/12\u001b[0m \u001b[32m━━━\u001b[0m\u001b[37m━━━━━━━━━━━━━━━━━\u001b[0m \u001b[1m0s\u001b[0m 4ms/step - loss: 3.6147 - mae: 1.4895 - mse: 4.5483 "
     ]
    },
    {
     "name": "stderr",
     "output_type": "stream",
     "text": [
      "2025-02-09 13:31:20,165 [13068] INFO     root: Epoch 354: Loss=5.9097, Val_Loss=5.2133, MAE=1.6922\n"
     ]
    },
    {
     "name": "stdout",
     "output_type": "stream",
     "text": [
      "\u001b[1m12/12\u001b[0m \u001b[32m━━━━━━━━━━━━━━━━━━━━\u001b[0m\u001b[37m\u001b[0m \u001b[1m0s\u001b[0m 8ms/step - loss: 5.0875 - mae: 1.5849 - mse: 5.0875 - val_loss: 5.2133 - val_mae: 1.9332 - val_mse: 5.2133\n",
      "Epoch 355/1000\n",
      "\u001b[1m 4/12\u001b[0m \u001b[32m━━━━━━\u001b[0m\u001b[37m━━━━━━━━━━━━━━\u001b[0m \u001b[1m0s\u001b[0m 2ms/step - loss: 5.0170 - mae: 1.6029 - mse: 5.16004"
     ]
    },
    {
     "name": "stderr",
     "output_type": "stream",
     "text": [
      "2025-02-09 13:31:20,309 [13068] INFO     root: Epoch 355: Loss=5.9013, Val_Loss=5.4843, MAE=1.6858\n"
     ]
    },
    {
     "name": "stdout",
     "output_type": "stream",
     "text": [
      "\u001b[1m12/12\u001b[0m \u001b[32m━━━━━━━━━━━━━━━━━━━━\u001b[0m\u001b[37m\u001b[0m \u001b[1m0s\u001b[0m 8ms/step - loss: 5.6174 - mae: 1.6708 - mse: 5.6174 - val_loss: 5.4843 - val_mae: 1.9809 - val_mse: 5.4843\n",
      "Epoch 356/1000\n",
      "\u001b[1m 7/12\u001b[0m \u001b[32m━━━━━━━━━━━\u001b[0m\u001b[37m━━━━━━━━━\u001b[0m \u001b[1m0s\u001b[0m 2ms/step - loss: 9.2233 - mae: 1.8714 - mse: 7.97619   "
     ]
    },
    {
     "name": "stderr",
     "output_type": "stream",
     "text": [
      "2025-02-09 13:31:20,451 [13068] INFO     root: Epoch 356: Loss=5.8946, Val_Loss=5.5215, MAE=1.6891\n"
     ]
    },
    {
     "name": "stdout",
     "output_type": "stream",
     "text": [
      "\u001b[1m12/12\u001b[0m \u001b[32m━━━━━━━━━━━━━━━━━━━━\u001b[0m\u001b[37m\u001b[0m \u001b[1m0s\u001b[0m 8ms/step - loss: 7.8537 - mae: 1.8328 - mse: 7.8537 - val_loss: 5.5215 - val_mae: 1.9922 - val_mse: 5.5215\n",
      "Epoch 357/1000\n",
      "\u001b[1m 5/12\u001b[0m \u001b[32m━━━━━━━━\u001b[0m\u001b[37m━━━━━━━━━━━━\u001b[0m \u001b[1m0s\u001b[0m 2ms/step - loss: 5.2709 - mae: 1.6786 - mse: 5.5881 "
     ]
    },
    {
     "name": "stderr",
     "output_type": "stream",
     "text": [
      "2025-02-09 13:31:20,580 [13068] INFO     root: Epoch 357: Loss=5.8704, Val_Loss=5.6316, MAE=1.6731\n"
     ]
    },
    {
     "name": "stdout",
     "output_type": "stream",
     "text": [
      "\u001b[1m12/12\u001b[0m \u001b[32m━━━━━━━━━━━━━━━━━━━━\u001b[0m\u001b[37m\u001b[0m \u001b[1m0s\u001b[0m 7ms/step - loss: 5.6604 - mae: 1.6879 - mse: 5.6604 - val_loss: 5.6316 - val_mae: 2.0161 - val_mse: 5.6316\n",
      "Epoch 358/1000\n",
      "\u001b[1m 8/12\u001b[0m \u001b[32m━━━━━━━━━━━━━\u001b[0m\u001b[37m━━━━━━━\u001b[0m \u001b[1m0s\u001b[0m 2ms/step - loss: 5.8618 - mae: 1.7099 - mse: 6.01319"
     ]
    },
    {
     "name": "stderr",
     "output_type": "stream",
     "text": [
      "2025-02-09 13:31:20,704 [13068] INFO     root: Epoch 358: Loss=5.8929, Val_Loss=5.5153, MAE=1.6779\n"
     ]
    },
    {
     "name": "stdout",
     "output_type": "stream",
     "text": [
      "\u001b[1m12/12\u001b[0m \u001b[32m━━━━━━━━━━━━━━━━━━━━\u001b[0m\u001b[37m\u001b[0m \u001b[1m0s\u001b[0m 7ms/step - loss: 5.9990 - mae: 1.7049 - mse: 5.9990 - val_loss: 5.5153 - val_mae: 1.9899 - val_mse: 5.5153\n",
      "Epoch 359/1000\n",
      "\u001b[1m 5/12\u001b[0m \u001b[32m━━━━━━━━\u001b[0m\u001b[37m━━━━━━━━━━━━\u001b[0m \u001b[1m0s\u001b[0m 1ms/step - loss: 7.5365 - mae: 1.6148 - mse: 6.3627   "
     ]
    },
    {
     "name": "stderr",
     "output_type": "stream",
     "text": [
      "2025-02-09 13:31:20,829 [13068] INFO     root: Epoch 359: Loss=5.9035, Val_Loss=5.6669, MAE=1.6827\n"
     ]
    },
    {
     "name": "stdout",
     "output_type": "stream",
     "text": [
      "\u001b[1m12/12\u001b[0m \u001b[32m━━━━━━━━━━━━━━━━━━━━\u001b[0m\u001b[37m\u001b[0m \u001b[1m0s\u001b[0m 7ms/step - loss: 6.2216 - mae: 1.6381 - mse: 6.2216 - val_loss: 5.6669 - val_mae: 2.0115 - val_mse: 5.6669\n",
      "Epoch 360/1000\n",
      "\u001b[1m 6/12\u001b[0m \u001b[32m━━━━━━━━━━\u001b[0m\u001b[37m━━━━━━━━━━\u001b[0m \u001b[1m0s\u001b[0m 2ms/step - loss: 4.1651 - mae: 1.5327 - mse: 5.1561 "
     ]
    },
    {
     "name": "stderr",
     "output_type": "stream",
     "text": [
      "2025-02-09 13:31:20,964 [13068] INFO     root: Epoch 360: Loss=5.8209, Val_Loss=5.3013, MAE=1.6732\n"
     ]
    },
    {
     "name": "stdout",
     "output_type": "stream",
     "text": [
      "\u001b[1m12/12\u001b[0m \u001b[32m━━━━━━━━━━━━━━━━━━━━\u001b[0m\u001b[37m\u001b[0m \u001b[1m0s\u001b[0m 7ms/step - loss: 5.2343 - mae: 1.5656 - mse: 5.2343 - val_loss: 5.3013 - val_mae: 1.9262 - val_mse: 5.3013\n",
      "Epoch 361/1000\n",
      "\u001b[1m 8/12\u001b[0m \u001b[32m━━━━━━━━━━━━━\u001b[0m\u001b[37m━━━━━━━\u001b[0m \u001b[1m0s\u001b[0m 2ms/step - loss: 5.3535 - mae: 1.7067 - mse: 5.5516 "
     ]
    },
    {
     "name": "stderr",
     "output_type": "stream",
     "text": [
      "2025-02-09 13:31:21,095 [13068] INFO     root: Epoch 361: Loss=5.8357, Val_Loss=5.5092, MAE=1.6822\n"
     ]
    },
    {
     "name": "stdout",
     "output_type": "stream",
     "text": [
      "\u001b[1m12/12\u001b[0m \u001b[32m━━━━━━━━━━━━━━━━━━━━\u001b[0m\u001b[37m\u001b[0m \u001b[1m0s\u001b[0m 7ms/step - loss: 5.5735 - mae: 1.7030 - mse: 5.5735 - val_loss: 5.5092 - val_mae: 1.9838 - val_mse: 5.5092\n",
      "Epoch 362/1000\n",
      "\u001b[1m 6/12\u001b[0m \u001b[32m━━━━━━━━━━\u001b[0m\u001b[37m━━━━━━━━━━\u001b[0m \u001b[1m0s\u001b[0m 2ms/step - loss: 7.7388 - mae: 1.8534 - mse: 6.9831 "
     ]
    },
    {
     "name": "stderr",
     "output_type": "stream",
     "text": [
      "2025-02-09 13:31:21,220 [13068] INFO     root: Epoch 362: Loss=5.8376, Val_Loss=5.7116, MAE=1.6718\n"
     ]
    },
    {
     "name": "stdout",
     "output_type": "stream",
     "text": [
      "\u001b[1m12/12\u001b[0m \u001b[32m━━━━━━━━━━━━━━━━━━━━\u001b[0m\u001b[37m\u001b[0m \u001b[1m0s\u001b[0m 6ms/step - loss: 6.8304 - mae: 1.7687 - mse: 6.8304 - val_loss: 5.7116 - val_mae: 2.0170 - val_mse: 5.7116\n",
      "Epoch 363/1000\n",
      "\u001b[1m 5/12\u001b[0m \u001b[32m━━━━━━━━\u001b[0m\u001b[37m━━━━━━━━━━━━\u001b[0m \u001b[1m0s\u001b[0m 2ms/step - loss: 4.6719 - mae: 1.6450 - mse: 5.29358"
     ]
    },
    {
     "name": "stderr",
     "output_type": "stream",
     "text": [
      "2025-02-09 13:31:21,336 [13068] INFO     root: Epoch 363: Loss=5.8376, Val_Loss=5.4001, MAE=1.6685\n"
     ]
    },
    {
     "name": "stdout",
     "output_type": "stream",
     "text": [
      "\u001b[1m12/12\u001b[0m \u001b[32m━━━━━━━━━━━━━━━━━━━━\u001b[0m\u001b[37m\u001b[0m \u001b[1m0s\u001b[0m 6ms/step - loss: 5.4628 - mae: 1.6575 - mse: 5.4628 - val_loss: 5.4001 - val_mae: 1.9609 - val_mse: 5.4001\n",
      "Epoch 364/1000\n",
      "\u001b[1m 6/12\u001b[0m \u001b[32m━━━━━━━━━━\u001b[0m\u001b[37m━━━━━━━━━━\u001b[0m \u001b[1m0s\u001b[0m 1ms/step - loss: 5.8716 - mae: 1.6143 - mse: 5.8991 "
     ]
    },
    {
     "name": "stderr",
     "output_type": "stream",
     "text": [
      "2025-02-09 13:31:21,509 [13068] INFO     root: Epoch 364: Loss=5.8138, Val_Loss=5.3177, MAE=1.6666\n"
     ]
    },
    {
     "name": "stdout",
     "output_type": "stream",
     "text": [
      "\u001b[1m12/12\u001b[0m \u001b[32m━━━━━━━━━━━━━━━━━━━━\u001b[0m\u001b[37m\u001b[0m \u001b[1m0s\u001b[0m 7ms/step - loss: 5.8934 - mae: 1.6288 - mse: 5.8934 - val_loss: 5.3177 - val_mae: 1.9383 - val_mse: 5.3177\n",
      "Epoch 365/1000\n",
      "\u001b[1m 5/12\u001b[0m \u001b[32m━━━━━━━━\u001b[0m\u001b[37m━━━━━━━━━━━━\u001b[0m \u001b[1m0s\u001b[0m 2ms/step - loss: 5.5981 - mae: 1.6649 - mse: 5.52373"
     ]
    },
    {
     "name": "stderr",
     "output_type": "stream",
     "text": [
      "2025-02-09 13:31:21,677 [13068] INFO     root: Epoch 365: Loss=5.8709, Val_Loss=5.8280, MAE=1.6779\n"
     ]
    },
    {
     "name": "stdout",
     "output_type": "stream",
     "text": [
      "\u001b[1m12/12\u001b[0m \u001b[32m━━━━━━━━━━━━━━━━━━━━\u001b[0m\u001b[37m\u001b[0m \u001b[1m0s\u001b[0m 6ms/step - loss: 5.5485 - mae: 1.6682 - mse: 5.5485 - val_loss: 5.8280 - val_mae: 2.0098 - val_mse: 5.8280\n",
      "Epoch 366/1000\n",
      "\u001b[1m 6/12\u001b[0m \u001b[32m━━━━━━━━━━\u001b[0m\u001b[37m━━━━━━━━━━\u001b[0m \u001b[1m0s\u001b[0m 2ms/step - loss: 6.9568 - mae: 1.8531 - mse: 6.8833 "
     ]
    },
    {
     "name": "stderr",
     "output_type": "stream",
     "text": [
      "2025-02-09 13:31:21,795 [13068] INFO     root: Epoch 366: Loss=5.8032, Val_Loss=5.3096, MAE=1.6638\n"
     ]
    },
    {
     "name": "stdout",
     "output_type": "stream",
     "text": [
      "\u001b[1m12/12\u001b[0m \u001b[32m━━━━━━━━━━━━━━━━━━━━\u001b[0m\u001b[37m\u001b[0m \u001b[1m0s\u001b[0m 7ms/step - loss: 6.5596 - mae: 1.7920 - mse: 6.5596 - val_loss: 5.3096 - val_mae: 1.9426 - val_mse: 5.3096\n",
      "Epoch 367/1000\n",
      "\u001b[1m 4/12\u001b[0m \u001b[32m━━━━━━\u001b[0m\u001b[37m━━━━━━━━━━━━━━\u001b[0m \u001b[1m0s\u001b[0m 2ms/step - loss: 5.9250 - mae: 1.7042 - mse: 6.2812 "
     ]
    },
    {
     "name": "stderr",
     "output_type": "stream",
     "text": [
      "2025-02-09 13:31:21,954 [13068] INFO     root: Epoch 367: Loss=5.7744, Val_Loss=5.4557, MAE=1.6620\n"
     ]
    },
    {
     "name": "stdout",
     "output_type": "stream",
     "text": [
      "\u001b[1m12/12\u001b[0m \u001b[32m━━━━━━━━━━━━━━━━━━━━\u001b[0m\u001b[37m\u001b[0m \u001b[1m0s\u001b[0m 6ms/step - loss: 6.1128 - mae: 1.6921 - mse: 6.1128 - val_loss: 5.4557 - val_mae: 1.9557 - val_mse: 5.4557\n",
      "Epoch 368/1000\n",
      "\u001b[1m 7/12\u001b[0m \u001b[32m━━━━━━━━━━━\u001b[0m\u001b[37m━━━━━━━━━\u001b[0m \u001b[1m0s\u001b[0m 2ms/step - loss: 4.4149 - mae: 1.5470 - mse: 4.8750 "
     ]
    },
    {
     "name": "stderr",
     "output_type": "stream",
     "text": [
      "2025-02-09 13:31:22,077 [13068] INFO     root: Epoch 368: Loss=5.7614, Val_Loss=5.4210, MAE=1.6582\n"
     ]
    },
    {
     "name": "stdout",
     "output_type": "stream",
     "text": [
      "\u001b[1m12/12\u001b[0m \u001b[32m━━━━━━━━━━━━━━━━━━━━\u001b[0m\u001b[37m\u001b[0m \u001b[1m0s\u001b[0m 7ms/step - loss: 4.9271 - mae: 1.5735 - mse: 4.9271 - val_loss: 5.4210 - val_mae: 1.9485 - val_mse: 5.4210\n",
      "Epoch 369/1000\n",
      "\u001b[1m 7/12\u001b[0m \u001b[32m━━━━━━━━━━━\u001b[0m\u001b[37m━━━━━━━━━\u001b[0m \u001b[1m0s\u001b[0m 2ms/step - loss: 4.3684 - mae: 1.6054 - mse: 4.6069 "
     ]
    },
    {
     "name": "stderr",
     "output_type": "stream",
     "text": [
      "2025-02-09 13:31:22,205 [13068] INFO     root: Epoch 369: Loss=5.8136, Val_Loss=5.2983, MAE=1.6704\n"
     ]
    },
    {
     "name": "stdout",
     "output_type": "stream",
     "text": [
      "\u001b[1m12/12\u001b[0m \u001b[32m━━━━━━━━━━━━━━━━━━━━\u001b[0m\u001b[37m\u001b[0m \u001b[1m0s\u001b[0m 7ms/step - loss: 4.9146 - mae: 1.6204 - mse: 4.9146 - val_loss: 5.2983 - val_mae: 1.9348 - val_mse: 5.2983\n",
      "Epoch 370/1000\n",
      "\u001b[1m 6/12\u001b[0m \u001b[32m━━━━━━━━━━\u001b[0m\u001b[37m━━━━━━━━━━\u001b[0m \u001b[1m0s\u001b[0m 3ms/step - loss: 6.6654 - mae: 1.7395 - mse: 6.4178 "
     ]
    },
    {
     "name": "stderr",
     "output_type": "stream",
     "text": [
      "2025-02-09 13:31:22,348 [13068] INFO     root: Epoch 370: Loss=5.7434, Val_Loss=5.5621, MAE=1.6602\n"
     ]
    },
    {
     "name": "stdout",
     "output_type": "stream",
     "text": [
      "\u001b[1m12/12\u001b[0m \u001b[32m━━━━━━━━━━━━━━━━━━━━\u001b[0m\u001b[37m\u001b[0m \u001b[1m0s\u001b[0m 8ms/step - loss: 6.2461 - mae: 1.7058 - mse: 6.2461 - val_loss: 5.5621 - val_mae: 1.9572 - val_mse: 5.5621\n",
      "Epoch 371/1000\n",
      "\u001b[1m 8/12\u001b[0m \u001b[32m━━━━━━━━━━━━━\u001b[0m\u001b[37m━━━━━━━\u001b[0m \u001b[1m0s\u001b[0m 2ms/step - loss: 5.6906 - mae: 1.6698 - mse: 5.7200 "
     ]
    },
    {
     "name": "stderr",
     "output_type": "stream",
     "text": [
      "2025-02-09 13:31:22,482 [13068] INFO     root: Epoch 371: Loss=5.8090, Val_Loss=5.1727, MAE=1.6740\n"
     ]
    },
    {
     "name": "stdout",
     "output_type": "stream",
     "text": [
      "\u001b[1m12/12\u001b[0m \u001b[32m━━━━━━━━━━━━━━━━━━━━\u001b[0m\u001b[37m\u001b[0m \u001b[1m0s\u001b[0m 7ms/step - loss: 5.7378 - mae: 1.6695 - mse: 5.7378 - val_loss: 5.1727 - val_mae: 1.9086 - val_mse: 5.1727\n",
      "Epoch 372/1000\n",
      "\u001b[1m 6/12\u001b[0m \u001b[32m━━━━━━━━━━\u001b[0m\u001b[37m━━━━━━━━━━\u001b[0m \u001b[1m0s\u001b[0m 2ms/step - loss: 4.3026 - mae: 1.5660 - mse: 4.76934"
     ]
    },
    {
     "name": "stderr",
     "output_type": "stream",
     "text": [
      "2025-02-09 13:31:22,603 [13068] INFO     root: Epoch 372: Loss=5.8234, Val_Loss=5.7431, MAE=1.6735\n"
     ]
    },
    {
     "name": "stdout",
     "output_type": "stream",
     "text": [
      "\u001b[1m12/12\u001b[0m \u001b[32m━━━━━━━━━━━━━━━━━━━━\u001b[0m\u001b[37m\u001b[0m \u001b[1m0s\u001b[0m 7ms/step - loss: 4.9894 - mae: 1.6082 - mse: 4.9894 - val_loss: 5.7431 - val_mae: 1.9961 - val_mse: 5.7431\n",
      "Epoch 373/1000\n",
      "\u001b[1m 6/12\u001b[0m \u001b[32m━━━━━━━━━━\u001b[0m\u001b[37m━━━━━━━━━━\u001b[0m \u001b[1m0s\u001b[0m 2ms/step - loss: 5.2462 - mae: 1.6342 - mse: 5.6076   "
     ]
    },
    {
     "name": "stderr",
     "output_type": "stream",
     "text": [
      "2025-02-09 13:31:22,723 [13068] INFO     root: Epoch 373: Loss=5.7249, Val_Loss=5.2695, MAE=1.6471\n"
     ]
    },
    {
     "name": "stdout",
     "output_type": "stream",
     "text": [
      "\u001b[1m12/12\u001b[0m \u001b[32m━━━━━━━━━━━━━━━━━━━━\u001b[0m\u001b[37m\u001b[0m \u001b[1m0s\u001b[0m 6ms/step - loss: 5.6214 - mae: 1.6418 - mse: 5.6214 - val_loss: 5.2695 - val_mae: 1.9199 - val_mse: 5.2695\n",
      "Epoch 374/1000\n",
      "\u001b[1m 6/12\u001b[0m \u001b[32m━━━━━━━━━━\u001b[0m\u001b[37m━━━━━━━━━━\u001b[0m \u001b[1m0s\u001b[0m 1ms/step - loss: 5.6579 - mae: 1.6681 - mse: 5.76211"
     ]
    },
    {
     "name": "stderr",
     "output_type": "stream",
     "text": [
      "2025-02-09 13:31:22,844 [13068] INFO     root: Epoch 374: Loss=5.7319, Val_Loss=5.3377, MAE=1.6637\n"
     ]
    },
    {
     "name": "stdout",
     "output_type": "stream",
     "text": [
      "\u001b[1m12/12\u001b[0m \u001b[32m━━━━━━━━━━━━━━━━━━━━\u001b[0m\u001b[37m\u001b[0m \u001b[1m0s\u001b[0m 7ms/step - loss: 5.7601 - mae: 1.6711 - mse: 5.7601 - val_loss: 5.3377 - val_mae: 1.9359 - val_mse: 5.3377\n",
      "Epoch 375/1000\n",
      "\u001b[1m 3/12\u001b[0m \u001b[32m━━━━━\u001b[0m\u001b[37m━━━━━━━━━━━━━━━\u001b[0m \u001b[1m0s\u001b[0m 2ms/step - loss: 5.2731 - mae: 1.6891 - mse: 5.3941 "
     ]
    },
    {
     "name": "stderr",
     "output_type": "stream",
     "text": [
      "2025-02-09 13:31:22,961 [13068] INFO     root: Epoch 375: Loss=5.7315, Val_Loss=5.3975, MAE=1.6639\n"
     ]
    },
    {
     "name": "stdout",
     "output_type": "stream",
     "text": [
      "\u001b[1m12/12\u001b[0m \u001b[32m━━━━━━━━━━━━━━━━━━━━\u001b[0m\u001b[37m\u001b[0m \u001b[1m0s\u001b[0m 6ms/step - loss: 5.7383 - mae: 1.7079 - mse: 5.7383 - val_loss: 5.3975 - val_mae: 1.9436 - val_mse: 5.3975\n",
      "Epoch 376/1000\n",
      "\u001b[1m 8/12\u001b[0m \u001b[32m━━━━━━━━━━━━━\u001b[0m\u001b[37m━━━━━━━\u001b[0m \u001b[1m0s\u001b[0m 3ms/step - loss: 5.8722 - mae: 1.7343 - mse: 5.74864"
     ]
    },
    {
     "name": "stderr",
     "output_type": "stream",
     "text": [
      "2025-02-09 13:31:23,102 [13068] INFO     root: Epoch 376: Loss=5.6743, Val_Loss=5.0911, MAE=1.6486\n"
     ]
    },
    {
     "name": "stdout",
     "output_type": "stream",
     "text": [
      "\u001b[1m12/12\u001b[0m \u001b[32m━━━━━━━━━━━━━━━━━━━━\u001b[0m\u001b[37m\u001b[0m \u001b[1m0s\u001b[0m 8ms/step - loss: 5.7372 - mae: 1.7211 - mse: 5.7372 - val_loss: 5.0911 - val_mae: 1.8829 - val_mse: 5.0911\n",
      "Epoch 377/1000\n",
      "\u001b[1m 8/12\u001b[0m \u001b[32m━━━━━━━━━━━━━\u001b[0m\u001b[37m━━━━━━━\u001b[0m \u001b[1m0s\u001b[0m 2ms/step - loss: 7.1956 - mae: 1.7165 - mse: 7.0221 "
     ]
    },
    {
     "name": "stderr",
     "output_type": "stream",
     "text": [
      "2025-02-09 13:31:23,230 [13068] INFO     root: Epoch 377: Loss=5.6987, Val_Loss=5.3131, MAE=1.6528\n"
     ]
    },
    {
     "name": "stdout",
     "output_type": "stream",
     "text": [
      "\u001b[1m12/12\u001b[0m \u001b[32m━━━━━━━━━━━━━━━━━━━━\u001b[0m\u001b[37m\u001b[0m \u001b[1m0s\u001b[0m 7ms/step - loss: 6.7810 - mae: 1.7049 - mse: 6.7810 - val_loss: 5.3131 - val_mae: 1.9235 - val_mse: 5.3131\n",
      "Epoch 378/1000\n",
      "\u001b[1m 3/12\u001b[0m \u001b[32m━━━━━\u001b[0m\u001b[37m━━━━━━━━━━━━━━━\u001b[0m \u001b[1m0s\u001b[0m 3ms/step - loss: 3.6543 - mae: 1.4496 - mse: 3.94876"
     ]
    },
    {
     "name": "stderr",
     "output_type": "stream",
     "text": [
      "2025-02-09 13:31:23,347 [13068] INFO     root: Epoch 378: Loss=5.6743, Val_Loss=5.4983, MAE=1.6450\n"
     ]
    },
    {
     "name": "stdout",
     "output_type": "stream",
     "text": [
      "\u001b[1m12/12\u001b[0m \u001b[32m━━━━━━━━━━━━━━━━━━━━\u001b[0m\u001b[37m\u001b[0m \u001b[1m0s\u001b[0m 6ms/step - loss: 5.0558 - mae: 1.5617 - mse: 5.0558 - val_loss: 5.4983 - val_mae: 1.9509 - val_mse: 5.4983\n",
      "Epoch 379/1000\n",
      "\u001b[1m 6/12\u001b[0m \u001b[32m━━━━━━━━━━\u001b[0m\u001b[37m━━━━━━━━━━\u001b[0m \u001b[1m0s\u001b[0m 2ms/step - loss: 4.4621 - mae: 1.5952 - mse: 5.3795 "
     ]
    },
    {
     "name": "stderr",
     "output_type": "stream",
     "text": [
      "2025-02-09 13:31:23,472 [13068] INFO     root: Epoch 379: Loss=5.7384, Val_Loss=5.3715, MAE=1.6592\n"
     ]
    },
    {
     "name": "stdout",
     "output_type": "stream",
     "text": [
      "\u001b[1m12/12\u001b[0m \u001b[32m━━━━━━━━━━━━━━━━━━━━\u001b[0m\u001b[37m\u001b[0m \u001b[1m0s\u001b[0m 7ms/step - loss: 5.4334 - mae: 1.6235 - mse: 5.4334 - val_loss: 5.3715 - val_mae: 1.9345 - val_mse: 5.3715\n",
      "Epoch 380/1000\n",
      "\u001b[1m 3/12\u001b[0m \u001b[32m━━━━━\u001b[0m\u001b[37m━━━━━━━━━━━━━━━\u001b[0m \u001b[1m0s\u001b[0m 3ms/step - loss: 3.0794 - mae: 1.3690 - mse: 4.9227 "
     ]
    },
    {
     "name": "stderr",
     "output_type": "stream",
     "text": [
      "2025-02-09 13:31:23,579 [13068] INFO     root: Epoch 380: Loss=5.6731, Val_Loss=5.4451, MAE=1.6528\n"
     ]
    },
    {
     "name": "stdout",
     "output_type": "stream",
     "text": [
      "\u001b[1m12/12\u001b[0m \u001b[32m━━━━━━━━━━━━━━━━━━━━\u001b[0m\u001b[37m\u001b[0m \u001b[1m0s\u001b[0m 5ms/step - loss: 5.3996 - mae: 1.5971 - mse: 5.3996 - val_loss: 5.4451 - val_mae: 1.9306 - val_mse: 5.4451\n",
      "Epoch 381/1000\n",
      "\u001b[1m 5/12\u001b[0m \u001b[32m━━━━━━━━\u001b[0m\u001b[37m━━━━━━━━━━━━\u001b[0m \u001b[1m0s\u001b[0m 2ms/step - loss: 4.8805 - mae: 1.5472 - mse: 4.9468 "
     ]
    },
    {
     "name": "stderr",
     "output_type": "stream",
     "text": [
      "2025-02-09 13:31:23,719 [13068] INFO     root: Epoch 381: Loss=5.6547, Val_Loss=5.2198, MAE=1.6475\n"
     ]
    },
    {
     "name": "stdout",
     "output_type": "stream",
     "text": [
      "\u001b[1m12/12\u001b[0m \u001b[32m━━━━━━━━━━━━━━━━━━━━\u001b[0m\u001b[37m\u001b[0m \u001b[1m0s\u001b[0m 8ms/step - loss: 5.1275 - mae: 1.5819 - mse: 5.1275 - val_loss: 5.2198 - val_mae: 1.9118 - val_mse: 5.2198\n",
      "Epoch 382/1000\n",
      "\u001b[1m 8/12\u001b[0m \u001b[32m━━━━━━━━━━━━━\u001b[0m\u001b[37m━━━━━━━\u001b[0m \u001b[1m0s\u001b[0m 2ms/step - loss: 5.3696 - mae: 1.6143 - mse: 5.5381 "
     ]
    },
    {
     "name": "stderr",
     "output_type": "stream",
     "text": [
      "2025-02-09 13:31:23,844 [13068] INFO     root: Epoch 382: Loss=5.6392, Val_Loss=5.4739, MAE=1.6349\n"
     ]
    },
    {
     "name": "stdout",
     "output_type": "stream",
     "text": [
      "\u001b[1m12/12\u001b[0m \u001b[32m━━━━━━━━━━━━━━━━━━━━\u001b[0m\u001b[37m\u001b[0m \u001b[1m0s\u001b[0m 7ms/step - loss: 5.5449 - mae: 1.6262 - mse: 5.5449 - val_loss: 5.4739 - val_mae: 1.9481 - val_mse: 5.4739\n",
      "Epoch 383/1000\n",
      "\u001b[1m 6/12\u001b[0m \u001b[32m━━━━━━━━━━\u001b[0m\u001b[37m━━━━━━━━━━\u001b[0m \u001b[1m0s\u001b[0m 2ms/step - loss: 6.0094 - mae: 1.6923 - mse: 5.79516"
     ]
    },
    {
     "name": "stderr",
     "output_type": "stream",
     "text": [
      "2025-02-09 13:31:23,967 [13068] INFO     root: Epoch 383: Loss=5.6380, Val_Loss=5.2873, MAE=1.6346\n"
     ]
    },
    {
     "name": "stdout",
     "output_type": "stream",
     "text": [
      "\u001b[1m12/12\u001b[0m \u001b[32m━━━━━━━━━━━━━━━━━━━━\u001b[0m\u001b[37m\u001b[0m \u001b[1m0s\u001b[0m 7ms/step - loss: 5.7458 - mae: 1.6675 - mse: 5.7458 - val_loss: 5.2873 - val_mae: 1.9138 - val_mse: 5.2873\n",
      "Epoch 384/1000\n",
      "\u001b[1m 8/12\u001b[0m \u001b[32m━━━━━━━━━━━━━\u001b[0m\u001b[37m━━━━━━━\u001b[0m \u001b[1m0s\u001b[0m 2ms/step - loss: 5.5295 - mae: 1.7210 - mse: 5.6286 "
     ]
    },
    {
     "name": "stderr",
     "output_type": "stream",
     "text": [
      "2025-02-09 13:31:24,086 [13068] INFO     root: Epoch 384: Loss=5.6502, Val_Loss=5.3880, MAE=1.6559\n"
     ]
    },
    {
     "name": "stdout",
     "output_type": "stream",
     "text": [
      "\u001b[1m12/12\u001b[0m \u001b[32m━━━━━━━━━━━━━━━━━━━━\u001b[0m\u001b[37m\u001b[0m \u001b[1m0s\u001b[0m 7ms/step - loss: 5.6312 - mae: 1.7066 - mse: 5.6312 - val_loss: 5.3880 - val_mae: 1.9259 - val_mse: 5.3880\n",
      "Epoch 385/1000\n",
      "\u001b[1m 5/12\u001b[0m \u001b[32m━━━━━━━━\u001b[0m\u001b[37m━━━━━━━━━━━━\u001b[0m \u001b[1m0s\u001b[0m 2ms/step - loss: 4.7603 - mae: 1.6267 - mse: 5.47316"
     ]
    },
    {
     "name": "stderr",
     "output_type": "stream",
     "text": [
      "2025-02-09 13:31:24,200 [13068] INFO     root: Epoch 385: Loss=5.7652, Val_Loss=5.3721, MAE=1.6561\n"
     ]
    },
    {
     "name": "stdout",
     "output_type": "stream",
     "text": [
      "\u001b[1m12/12\u001b[0m \u001b[32m━━━━━━━━━━━━━━━━━━━━\u001b[0m\u001b[37m\u001b[0m \u001b[1m0s\u001b[0m 6ms/step - loss: 5.5921 - mae: 1.6434 - mse: 5.5921 - val_loss: 5.3721 - val_mae: 1.9389 - val_mse: 5.3721\n",
      "Epoch 386/1000\n",
      "\u001b[1m 6/12\u001b[0m \u001b[32m━━━━━━━━━━\u001b[0m\u001b[37m━━━━━━━━━━\u001b[0m \u001b[1m0s\u001b[0m 2ms/step - loss: 3.5017 - mae: 1.5405 - mse: 4.8002 "
     ]
    },
    {
     "name": "stderr",
     "output_type": "stream",
     "text": [
      "2025-02-09 13:31:24,327 [13068] INFO     root: Epoch 386: Loss=5.6250, Val_Loss=5.4254, MAE=1.6353\n"
     ]
    },
    {
     "name": "stdout",
     "output_type": "stream",
     "text": [
      "\u001b[1m12/12\u001b[0m \u001b[32m━━━━━━━━━━━━━━━━━━━━\u001b[0m\u001b[37m\u001b[0m \u001b[1m0s\u001b[0m 7ms/step - loss: 4.8592 - mae: 1.5553 - mse: 4.8592 - val_loss: 5.4254 - val_mae: 1.9249 - val_mse: 5.4254\n",
      "Epoch 387/1000\n",
      "\u001b[1m 7/12\u001b[0m \u001b[32m━━━━━━━━━━━\u001b[0m\u001b[37m━━━━━━━━━\u001b[0m \u001b[1m0s\u001b[0m 2ms/step - loss: 5.2096 - mae: 1.6565 - mse: 5.37902"
     ]
    },
    {
     "name": "stderr",
     "output_type": "stream",
     "text": [
      "2025-02-09 13:31:24,461 [13068] INFO     root: Epoch 387: Loss=5.6168, Val_Loss=5.4277, MAE=1.6456\n"
     ]
    },
    {
     "name": "stdout",
     "output_type": "stream",
     "text": [
      "\u001b[1m12/12\u001b[0m \u001b[32m━━━━━━━━━━━━━━━━━━━━\u001b[0m\u001b[37m\u001b[0m \u001b[1m0s\u001b[0m 7ms/step - loss: 5.4443 - mae: 1.6624 - mse: 5.4443 - val_loss: 5.4277 - val_mae: 1.9344 - val_mse: 5.4277\n",
      "Epoch 388/1000\n"
     ]
    },
    {
     "name": "stderr",
     "output_type": "stream",
     "text": [
      "2025-02-09 13:31:24,512 [13068] INFO     ml_monitor.logging: Starting metrics logging thread...\n"
     ]
    },
    {
     "name": "stdout",
     "output_type": "stream",
     "text": [
      "\u001b[1m 8/12\u001b[0m \u001b[32m━━━━━━━━━━━━━\u001b[0m\u001b[37m━━━━━━━\u001b[0m \u001b[1m0s\u001b[0m 2ms/step - loss: 3.9353 - mae: 1.4409 - mse: 4.47992"
     ]
    },
    {
     "name": "stderr",
     "output_type": "stream",
     "text": [
      "2025-02-09 13:31:24,620 [13068] INFO     root: Epoch 388: Loss=5.6426, Val_Loss=5.3359, MAE=1.6417\n"
     ]
    },
    {
     "name": "stdout",
     "output_type": "stream",
     "text": [
      "\u001b[1m12/12\u001b[0m \u001b[32m━━━━━━━━━━━━━━━━━━━━\u001b[0m\u001b[37m\u001b[0m \u001b[1m0s\u001b[0m 7ms/step - loss: 4.5380 - mae: 1.5184 - mse: 4.5380 - val_loss: 5.3359 - val_mae: 1.9298 - val_mse: 5.3359\n",
      "Epoch 389/1000\n",
      "\u001b[1m 8/12\u001b[0m \u001b[32m━━━━━━━━━━━━━\u001b[0m\u001b[37m━━━━━━━\u001b[0m \u001b[1m0s\u001b[0m 2ms/step - loss: 6.9057 - mae: 1.7697 - mse: 6.2685  "
     ]
    },
    {
     "name": "stderr",
     "output_type": "stream",
     "text": [
      "2025-02-09 13:31:24,745 [13068] INFO     root: Epoch 389: Loss=5.6125, Val_Loss=5.5651, MAE=1.6325\n"
     ]
    },
    {
     "name": "stdout",
     "output_type": "stream",
     "text": [
      "\u001b[1m12/12\u001b[0m \u001b[32m━━━━━━━━━━━━━━━━━━━━\u001b[0m\u001b[37m\u001b[0m \u001b[1m0s\u001b[0m 7ms/step - loss: 6.2320 - mae: 1.6961 - mse: 6.2320 - val_loss: 5.5651 - val_mae: 1.9458 - val_mse: 5.5651\n",
      "Epoch 390/1000\n",
      "\u001b[1m 7/12\u001b[0m \u001b[32m━━━━━━━━━━━\u001b[0m\u001b[37m━━━━━━━━━\u001b[0m \u001b[1m0s\u001b[0m 2ms/step - loss: 5.2119 - mae: 1.6117 - mse: 5.06464"
     ]
    },
    {
     "name": "stderr",
     "output_type": "stream",
     "text": [
      "2025-02-09 13:31:24,877 [13068] INFO     root: Epoch 390: Loss=5.5728, Val_Loss=5.1474, MAE=1.6316\n"
     ]
    },
    {
     "name": "stdout",
     "output_type": "stream",
     "text": [
      "\u001b[1m12/12\u001b[0m \u001b[32m━━━━━━━━━━━━━━━━━━━━\u001b[0m\u001b[37m\u001b[0m \u001b[1m0s\u001b[0m 7ms/step - loss: 5.0929 - mae: 1.6177 - mse: 5.0929 - val_loss: 5.1474 - val_mae: 1.8819 - val_mse: 5.1474\n",
      "Epoch 391/1000\n",
      "\u001b[1m 6/12\u001b[0m \u001b[32m━━━━━━━━━━\u001b[0m\u001b[37m━━━━━━━━━━\u001b[0m \u001b[1m0s\u001b[0m 2ms/step - loss: 5.6203 - mae: 1.6323 - mse: 5.6281 "
     ]
    },
    {
     "name": "stderr",
     "output_type": "stream",
     "text": [
      "2025-02-09 13:31:25,020 [13068] INFO     root: Epoch 391: Loss=5.5867, Val_Loss=5.3950, MAE=1.6280\n"
     ]
    },
    {
     "name": "stdout",
     "output_type": "stream",
     "text": [
      "\u001b[1m12/12\u001b[0m \u001b[32m━━━━━━━━━━━━━━━━━━━━\u001b[0m\u001b[37m\u001b[0m \u001b[1m0s\u001b[0m 8ms/step - loss: 5.6254 - mae: 1.6321 - mse: 5.6254 - val_loss: 5.3950 - val_mae: 1.9380 - val_mse: 5.3950\n",
      "Epoch 392/1000\n",
      "\u001b[1m 8/12\u001b[0m \u001b[32m━━━━━━━━━━━━━\u001b[0m\u001b[37m━━━━━━━\u001b[0m \u001b[1m0s\u001b[0m 2ms/step - loss: 5.0020 - mae: 1.6243 - mse: 5.2262 "
     ]
    },
    {
     "name": "stderr",
     "output_type": "stream",
     "text": [
      "2025-02-09 13:31:25,160 [13068] INFO     root: Epoch 392: Loss=5.5437, Val_Loss=5.3030, MAE=1.6283\n"
     ]
    },
    {
     "name": "stdout",
     "output_type": "stream",
     "text": [
      "\u001b[1m12/12\u001b[0m \u001b[32m━━━━━━━━━━━━━━━━━━━━\u001b[0m\u001b[37m\u001b[0m \u001b[1m0s\u001b[0m 8ms/step - loss: 5.3088 - mae: 1.6267 - mse: 5.3088 - val_loss: 5.3030 - val_mae: 1.9091 - val_mse: 5.3030\n",
      "Epoch 393/1000\n",
      "\u001b[1m 8/12\u001b[0m \u001b[32m━━━━━━━━━━━━━\u001b[0m\u001b[37m━━━━━━━\u001b[0m \u001b[1m0s\u001b[0m 2ms/step - loss: 5.0948 - mae: 1.6489 - mse: 5.30937"
     ]
    },
    {
     "name": "stderr",
     "output_type": "stream",
     "text": [
      "2025-02-09 13:31:25,289 [13068] INFO     root: Epoch 393: Loss=5.5411, Val_Loss=5.5146, MAE=1.6282\n"
     ]
    },
    {
     "name": "stdout",
     "output_type": "stream",
     "text": [
      "\u001b[1m12/12\u001b[0m \u001b[32m━━━━━━━━━━━━━━━━━━━━\u001b[0m\u001b[37m\u001b[0m \u001b[1m0s\u001b[0m 7ms/step - loss: 5.3259 - mae: 1.6433 - mse: 5.3259 - val_loss: 5.5146 - val_mae: 1.9521 - val_mse: 5.5146\n",
      "Epoch 394/1000\n",
      "\u001b[1m 5/12\u001b[0m \u001b[32m━━━━━━━━\u001b[0m\u001b[37m━━━━━━━━━━━━\u001b[0m \u001b[1m0s\u001b[0m 2ms/step - loss: 5.0048 - mae: 1.5515 - mse: 5.3166929"
     ]
    },
    {
     "name": "stderr",
     "output_type": "stream",
     "text": [
      "2025-02-09 13:31:25,460 [13068] INFO     root: Epoch 394: Loss=5.5378, Val_Loss=5.5172, MAE=1.6207\n"
     ]
    },
    {
     "name": "stdout",
     "output_type": "stream",
     "text": [
      "\u001b[1m12/12\u001b[0m \u001b[32m━━━━━━━━━━━━━━━━━━━━\u001b[0m\u001b[37m\u001b[0m \u001b[1m0s\u001b[0m 6ms/step - loss: 5.3377 - mae: 1.5847 - mse: 5.3377 - val_loss: 5.5172 - val_mae: 1.9500 - val_mse: 5.5172\n",
      "Epoch 395/1000\n",
      "\u001b[1m 4/12\u001b[0m \u001b[32m━━━━━━\u001b[0m\u001b[37m━━━━━━━━━━━━━━\u001b[0m \u001b[1m0s\u001b[0m 2ms/step - loss: 4.1599 - mae: 1.5367 - mse: 4.4508 "
     ]
    },
    {
     "name": "stderr",
     "output_type": "stream",
     "text": [
      "2025-02-09 13:31:25,598 [13068] INFO     root: Epoch 395: Loss=5.5275, Val_Loss=5.5227, MAE=1.6256\n"
     ]
    },
    {
     "name": "stdout",
     "output_type": "stream",
     "text": [
      "\u001b[1m12/12\u001b[0m \u001b[32m━━━━━━━━━━━━━━━━━━━━\u001b[0m\u001b[37m\u001b[0m \u001b[1m0s\u001b[0m 7ms/step - loss: 4.9004 - mae: 1.5720 - mse: 4.9004 - val_loss: 5.5227 - val_mae: 1.9438 - val_mse: 5.5227\n",
      "Epoch 396/1000\n",
      "\u001b[1m 4/12\u001b[0m \u001b[32m━━━━━━\u001b[0m\u001b[37m━━━━━━━━━━━━━━\u001b[0m \u001b[1m0s\u001b[0m 3ms/step - loss: 7.9907 - mae: 1.7619 - mse: 7.0579   "
     ]
    },
    {
     "name": "stderr",
     "output_type": "stream",
     "text": [
      "2025-02-09 13:31:25,729 [13068] INFO     root: Epoch 396: Loss=5.6252, Val_Loss=5.3934, MAE=1.6482\n"
     ]
    },
    {
     "name": "stdout",
     "output_type": "stream",
     "text": [
      "\u001b[1m12/12\u001b[0m \u001b[32m━━━━━━━━━━━━━━━━━━━━\u001b[0m\u001b[37m\u001b[0m \u001b[1m0s\u001b[0m 7ms/step - loss: 6.8124 - mae: 1.7005 - mse: 6.8124 - val_loss: 5.3934 - val_mae: 1.9233 - val_mse: 5.3934\n",
      "Epoch 397/1000\n",
      "\u001b[1m 8/12\u001b[0m \u001b[32m━━━━━━━━━━━━━\u001b[0m\u001b[37m━━━━━━━\u001b[0m \u001b[1m0s\u001b[0m 2ms/step - loss: 3.9542 - mae: 1.4722 - mse: 4.245142"
     ]
    },
    {
     "name": "stderr",
     "output_type": "stream",
     "text": [
      "2025-02-09 13:31:25,916 [13068] INFO     root: Epoch 397: Loss=5.5907, Val_Loss=5.4134, MAE=1.6324\n"
     ]
    },
    {
     "name": "stdout",
     "output_type": "stream",
     "text": [
      "\u001b[1m12/12\u001b[0m \u001b[32m━━━━━━━━━━━━━━━━━━━━\u001b[0m\u001b[37m\u001b[0m \u001b[1m0s\u001b[0m 8ms/step - loss: 4.6631 - mae: 1.5389 - mse: 4.6631 - val_loss: 5.4134 - val_mae: 1.9515 - val_mse: 5.4134\n",
      "Epoch 398/1000\n",
      "\u001b[1m 6/12\u001b[0m \u001b[32m━━━━━━━━━━\u001b[0m\u001b[37m━━━━━━━━━━\u001b[0m \u001b[1m0s\u001b[0m 2ms/step - loss: 3.7002 - mae: 1.4459 - mse: 4.0108 "
     ]
    },
    {
     "name": "stderr",
     "output_type": "stream",
     "text": [
      "2025-02-09 13:31:26,085 [13068] INFO     root: Epoch 398: Loss=5.5968, Val_Loss=5.8249, MAE=1.6346\n"
     ]
    },
    {
     "name": "stdout",
     "output_type": "stream",
     "text": [
      "\u001b[1m12/12\u001b[0m \u001b[32m━━━━━━━━━━━━━━━━━━━━\u001b[0m\u001b[37m\u001b[0m \u001b[1m0s\u001b[0m 8ms/step - loss: 4.6942 - mae: 1.5221 - mse: 4.6942 - val_loss: 5.8249 - val_mae: 1.9873 - val_mse: 5.8249\n",
      "Epoch 399/1000\n",
      "\u001b[1m 4/12\u001b[0m \u001b[32m━━━━━━\u001b[0m\u001b[37m━━━━━━━━━━━━━━\u001b[0m \u001b[1m0s\u001b[0m 3ms/step - loss: 6.1905 - mae: 1.7445 - mse: 5.7388 "
     ]
    },
    {
     "name": "stderr",
     "output_type": "stream",
     "text": [
      "2025-02-09 13:31:26,206 [13068] INFO     root: Epoch 399: Loss=5.5697, Val_Loss=5.5184, MAE=1.6514\n"
     ]
    },
    {
     "name": "stdout",
     "output_type": "stream",
     "text": [
      "\u001b[1m12/12\u001b[0m \u001b[32m━━━━━━━━━━━━━━━━━━━━\u001b[0m\u001b[37m\u001b[0m \u001b[1m0s\u001b[0m 6ms/step - loss: 5.6357 - mae: 1.6840 - mse: 5.6357 - val_loss: 5.5184 - val_mae: 1.9574 - val_mse: 5.5184\n",
      "Epoch 400/1000\n",
      "\u001b[1m 7/12\u001b[0m \u001b[32m━━━━━━━━━━━\u001b[0m\u001b[37m━━━━━━━━━\u001b[0m \u001b[1m0s\u001b[0m 2ms/step - loss: 6.2069 - mae: 1.7415 - mse: 6.2143 "
     ]
    },
    {
     "name": "stderr",
     "output_type": "stream",
     "text": [
      "2025-02-09 13:31:26,338 [13068] INFO     root: Epoch 400: Loss=5.4900, Val_Loss=5.4074, MAE=1.6178\n"
     ]
    },
    {
     "name": "stdout",
     "output_type": "stream",
     "text": [
      "\u001b[1m12/12\u001b[0m \u001b[32m━━━━━━━━━━━━━━━━━━━━\u001b[0m\u001b[37m\u001b[0m \u001b[1m0s\u001b[0m 7ms/step - loss: 6.0213 - mae: 1.7049 - mse: 6.0213 - val_loss: 5.4074 - val_mae: 1.9349 - val_mse: 5.4074\n",
      "Epoch 401/1000\n",
      "\u001b[1m 3/12\u001b[0m \u001b[32m━━━━━\u001b[0m\u001b[37m━━━━━━━━━━━━━━━\u001b[0m \u001b[1m0s\u001b[0m 1ms/step - loss: 9.2541 - mae: 1.8106 - mse: 7.253146"
     ]
    },
    {
     "name": "stderr",
     "output_type": "stream",
     "text": [
      "2025-02-09 13:31:26,465 [13068] INFO     root: Epoch 401: Loss=5.5121, Val_Loss=5.5085, MAE=1.6157\n"
     ]
    },
    {
     "name": "stdout",
     "output_type": "stream",
     "text": [
      "\u001b[1m12/12\u001b[0m \u001b[32m━━━━━━━━━━━━━━━━━━━━\u001b[0m\u001b[37m\u001b[0m \u001b[1m0s\u001b[0m 7ms/step - loss: 6.5699 - mae: 1.6833 - mse: 6.5699 - val_loss: 5.5085 - val_mae: 1.9432 - val_mse: 5.5085\n",
      "Epoch 402/1000\n",
      "\u001b[1m 3/12\u001b[0m \u001b[32m━━━━━\u001b[0m\u001b[37m━━━━━━━━━━━━━━━\u001b[0m \u001b[1m0s\u001b[0m 3ms/step - loss: 3.9689 - mae: 1.5253 - mse: 3.9689 "
     ]
    },
    {
     "name": "stderr",
     "output_type": "stream",
     "text": [
      "2025-02-09 13:31:26,643 [13068] INFO     root: Epoch 402: Loss=5.5006, Val_Loss=5.4140, MAE=1.6221\n"
     ]
    },
    {
     "name": "stdout",
     "output_type": "stream",
     "text": [
      "\u001b[1m12/12\u001b[0m \u001b[32m━━━━━━━━━━━━━━━━━━━━\u001b[0m\u001b[37m\u001b[0m \u001b[1m0s\u001b[0m 7ms/step - loss: 4.7901 - mae: 1.5498 - mse: 4.7901 - val_loss: 5.4140 - val_mae: 1.9186 - val_mse: 5.4140\n",
      "Epoch 403/1000\n",
      "\u001b[1m 3/12\u001b[0m \u001b[32m━━━━━\u001b[0m\u001b[37m━━━━━━━━━━━━━━━\u001b[0m \u001b[1m0s\u001b[0m 2ms/step - loss: 8.5909 - mae: 1.6430 - mse: 6.5099 "
     ]
    },
    {
     "name": "stderr",
     "output_type": "stream",
     "text": [
      "2025-02-09 13:31:26,815 [13068] INFO     root: Epoch 403: Loss=5.5220, Val_Loss=5.1540, MAE=1.6334\n"
     ]
    },
    {
     "name": "stdout",
     "output_type": "stream",
     "text": [
      "\u001b[1m12/12\u001b[0m \u001b[32m━━━━━━━━━━━━━━━━━━━━\u001b[0m\u001b[37m\u001b[0m \u001b[1m0s\u001b[0m 8ms/step - loss: 6.3307 - mae: 1.6401 - mse: 6.3307 - val_loss: 5.1540 - val_mae: 1.8897 - val_mse: 5.1540\n",
      "Epoch 404/1000\n",
      "\u001b[1m 3/12\u001b[0m \u001b[32m━━━━━\u001b[0m\u001b[37m━━━━━━━━━━━━━━━\u001b[0m \u001b[1m0s\u001b[0m 4ms/step - loss: 3.3614 - mae: 1.3022 - mse: 4.38545"
     ]
    },
    {
     "name": "stderr",
     "output_type": "stream",
     "text": [
      "2025-02-09 13:31:26,950 [13068] INFO     root: Epoch 404: Loss=5.4546, Val_Loss=5.7368, MAE=1.6159\n"
     ]
    },
    {
     "name": "stdout",
     "output_type": "stream",
     "text": [
      "\u001b[1m12/12\u001b[0m \u001b[32m━━━━━━━━━━━━━━━━━━━━\u001b[0m\u001b[37m\u001b[0m \u001b[1m0s\u001b[0m 7ms/step - loss: 5.3101 - mae: 1.5405 - mse: 5.3101 - val_loss: 5.7368 - val_mae: 1.9815 - val_mse: 5.7368\n",
      "Epoch 405/1000\n",
      "\u001b[1m 4/12\u001b[0m \u001b[32m━━━━━━\u001b[0m\u001b[37m━━━━━━━━━━━━━━\u001b[0m \u001b[1m0s\u001b[0m 2ms/step - loss: 8.3975 - mae: 1.7422 - mse: 7.2559  "
     ]
    },
    {
     "name": "stderr",
     "output_type": "stream",
     "text": [
      "2025-02-09 13:31:27,072 [13068] INFO     root: Epoch 405: Loss=5.4916, Val_Loss=5.6336, MAE=1.6148\n"
     ]
    },
    {
     "name": "stdout",
     "output_type": "stream",
     "text": [
      "\u001b[1m12/12\u001b[0m \u001b[32m━━━━━━━━━━━━━━━━━━━━\u001b[0m\u001b[37m\u001b[0m \u001b[1m0s\u001b[0m 6ms/step - loss: 6.3966 - mae: 1.6410 - mse: 6.3966 - val_loss: 5.6336 - val_mae: 1.9623 - val_mse: 5.6336\n",
      "Epoch 406/1000\n",
      "\u001b[1m 8/12\u001b[0m \u001b[32m━━━━━━━━━━━━━\u001b[0m\u001b[37m━━━━━━━\u001b[0m \u001b[1m0s\u001b[0m 2ms/step - loss: 6.2768 - mae: 1.5541 - mse: 6.276826"
     ]
    },
    {
     "name": "stderr",
     "output_type": "stream",
     "text": [
      "2025-02-09 13:31:27,295 [13068] INFO     root: Epoch 406: Loss=5.4984, Val_Loss=5.3100, MAE=1.6102\n"
     ]
    },
    {
     "name": "stdout",
     "output_type": "stream",
     "text": [
      "\u001b[1m12/12\u001b[0m \u001b[32m━━━━━━━━━━━━━━━━━━━━\u001b[0m\u001b[37m\u001b[0m \u001b[1m0s\u001b[0m 12ms/step - loss: 5.9550 - mae: 1.5717 - mse: 5.9550 - val_loss: 5.3100 - val_mae: 1.9209 - val_mse: 5.3100\n",
      "Epoch 407/1000\n",
      "\u001b[1m 5/12\u001b[0m \u001b[32m━━━━━━━━\u001b[0m\u001b[37m━━━━━━━━━━━━\u001b[0m \u001b[1m0s\u001b[0m 2ms/step - loss: 5.8996 - mae: 1.5725 - mse: 5.76744"
     ]
    },
    {
     "name": "stderr",
     "output_type": "stream",
     "text": [
      "2025-02-09 13:31:27,496 [13068] INFO     root: Epoch 407: Loss=5.4508, Val_Loss=5.5698, MAE=1.6110\n"
     ]
    },
    {
     "name": "stdout",
     "output_type": "stream",
     "text": [
      "\u001b[1m12/12\u001b[0m \u001b[32m━━━━━━━━━━━━━━━━━━━━\u001b[0m\u001b[37m\u001b[0m \u001b[1m0s\u001b[0m 11ms/step - loss: 5.7187 - mae: 1.5784 - mse: 5.7187 - val_loss: 5.5698 - val_mae: 1.9397 - val_mse: 5.5698\n",
      "Epoch 408/1000\n",
      "\u001b[1m 2/12\u001b[0m \u001b[32m━━━\u001b[0m\u001b[37m━━━━━━━━━━━━━━━━━\u001b[0m \u001b[1m0s\u001b[0m 2ms/step - loss: 4.8214 - mae: 1.5186 - mse: 5.1470 "
     ]
    },
    {
     "name": "stderr",
     "output_type": "stream",
     "text": [
      "2025-02-09 13:31:27,650 [13068] INFO     root: Epoch 408: Loss=5.4823, Val_Loss=5.2897, MAE=1.6236\n"
     ]
    },
    {
     "name": "stdout",
     "output_type": "stream",
     "text": [
      "\u001b[1m12/12\u001b[0m \u001b[32m━━━━━━━━━━━━━━━━━━━━\u001b[0m\u001b[37m\u001b[0m \u001b[1m0s\u001b[0m 7ms/step - loss: 5.2598 - mae: 1.6059 - mse: 5.2598 - val_loss: 5.2897 - val_mae: 1.9050 - val_mse: 5.2897\n",
      "Epoch 409/1000\n",
      "\u001b[1m 3/12\u001b[0m \u001b[32m━━━━━\u001b[0m\u001b[37m━━━━━━━━━━━━━━━\u001b[0m \u001b[1m0s\u001b[0m 3ms/step - loss: 4.9761 - mae: 1.5600 - mse: 4.9093 "
     ]
    },
    {
     "name": "stderr",
     "output_type": "stream",
     "text": [
      "2025-02-09 13:31:27,832 [13068] INFO     root: Epoch 409: Loss=5.4255, Val_Loss=5.7662, MAE=1.6054\n"
     ]
    },
    {
     "name": "stdout",
     "output_type": "stream",
     "text": [
      "\u001b[1m12/12\u001b[0m \u001b[32m━━━━━━━━━━━━━━━━━━━━\u001b[0m\u001b[37m\u001b[0m \u001b[1m0s\u001b[0m 8ms/step - loss: 5.0160 - mae: 1.5641 - mse: 5.0160 - val_loss: 5.7662 - val_mae: 1.9824 - val_mse: 5.7662\n",
      "Epoch 410/1000\n",
      "\u001b[1m 6/12\u001b[0m \u001b[32m━━━━━━━━━━\u001b[0m\u001b[37m━━━━━━━━━━\u001b[0m \u001b[1m0s\u001b[0m 3ms/step - loss: 4.9025 - mae: 1.6667 - mse: 5.40847"
     ]
    },
    {
     "name": "stderr",
     "output_type": "stream",
     "text": [
      "2025-02-09 13:31:27,967 [13068] INFO     root: Epoch 410: Loss=5.4404, Val_Loss=5.2823, MAE=1.6010\n"
     ]
    },
    {
     "name": "stdout",
     "output_type": "stream",
     "text": [
      "\u001b[1m12/12\u001b[0m \u001b[32m━━━━━━━━━━━━━━━━━━━━\u001b[0m\u001b[37m\u001b[0m \u001b[1m0s\u001b[0m 8ms/step - loss: 5.4109 - mae: 1.6500 - mse: 5.4109 - val_loss: 5.2823 - val_mae: 1.9042 - val_mse: 5.2823\n",
      "Epoch 411/1000\n",
      "\u001b[1m 1/12\u001b[0m \u001b[32m━\u001b[0m\u001b[37m━━━━━━━━━━━━━━━━━━━\u001b[0m \u001b[1m0s\u001b[0m 51ms/step - loss: 2.7319 - mae: 1.3576 - mse: 3.6282"
     ]
    },
    {
     "name": "stderr",
     "output_type": "stream",
     "text": [
      "2025-02-09 13:31:28,111 [13068] INFO     root: Epoch 411: Loss=5.4231, Val_Loss=5.4258, MAE=1.6082\n"
     ]
    },
    {
     "name": "stdout",
     "output_type": "stream",
     "text": [
      "\u001b[1m12/12\u001b[0m \u001b[32m━━━━━━━━━━━━━━━━━━━━\u001b[0m\u001b[37m\u001b[0m \u001b[1m0s\u001b[0m 8ms/step - loss: 4.3915 - mae: 1.4878 - mse: 4.3915 - val_loss: 5.4258 - val_mae: 1.9235 - val_mse: 5.4258\n",
      "Epoch 412/1000\n",
      "\u001b[1m 7/12\u001b[0m \u001b[32m━━━━━━━━━━━\u001b[0m\u001b[37m━━━━━━━━━\u001b[0m \u001b[1m0s\u001b[0m 2ms/step - loss: 4.5780 - mae: 1.5295 - mse: 4.5938 "
     ]
    },
    {
     "name": "stderr",
     "output_type": "stream",
     "text": [
      "2025-02-09 13:31:28,243 [13068] INFO     root: Epoch 412: Loss=5.4721, Val_Loss=5.6998, MAE=1.6085\n"
     ]
    },
    {
     "name": "stdout",
     "output_type": "stream",
     "text": [
      "\u001b[1m12/12\u001b[0m \u001b[32m━━━━━━━━━━━━━━━━━━━━\u001b[0m\u001b[37m\u001b[0m \u001b[1m0s\u001b[0m 7ms/step - loss: 4.8422 - mae: 1.5547 - mse: 4.8422 - val_loss: 5.6998 - val_mae: 1.9686 - val_mse: 5.6998\n",
      "Epoch 413/1000\n",
      "\u001b[1m 8/12\u001b[0m \u001b[32m━━━━━━━━━━━━━\u001b[0m\u001b[37m━━━━━━━\u001b[0m \u001b[1m0s\u001b[0m 3ms/step - loss: 4.7247 - mae: 1.4711 - mse: 4.8095 "
     ]
    },
    {
     "name": "stderr",
     "output_type": "stream",
     "text": [
      "2025-02-09 13:31:28,364 [13068] INFO     root: Epoch 413: Loss=5.4043, Val_Loss=5.2829, MAE=1.5967\n"
     ]
    },
    {
     "name": "stdout",
     "output_type": "stream",
     "text": [
      "\u001b[1m12/12\u001b[0m \u001b[32m━━━━━━━━━━━━━━━━━━━━\u001b[0m\u001b[37m\u001b[0m \u001b[1m0s\u001b[0m 7ms/step - loss: 5.0670 - mae: 1.5307 - mse: 5.0670 - val_loss: 5.2829 - val_mae: 1.9065 - val_mse: 5.2829\n",
      "Epoch 414/1000\n",
      "\u001b[1m 5/12\u001b[0m \u001b[32m━━━━━━━━\u001b[0m\u001b[37m━━━━━━━━━━━━\u001b[0m \u001b[1m0s\u001b[0m 2ms/step - loss: 4.6806 - mae: 1.6228 - mse: 5.3392 "
     ]
    },
    {
     "name": "stderr",
     "output_type": "stream",
     "text": [
      "2025-02-09 13:31:28,492 [13068] INFO     root: Epoch 414: Loss=5.4410, Val_Loss=5.4653, MAE=1.5961\n"
     ]
    },
    {
     "name": "stdout",
     "output_type": "stream",
     "text": [
      "\u001b[1m12/12\u001b[0m \u001b[32m━━━━━━━━━━━━━━━━━━━━\u001b[0m\u001b[37m\u001b[0m \u001b[1m0s\u001b[0m 7ms/step - loss: 5.3602 - mae: 1.6178 - mse: 5.3602 - val_loss: 5.4653 - val_mae: 1.9370 - val_mse: 5.4653\n",
      "Epoch 415/1000\n",
      "\u001b[1m 6/12\u001b[0m \u001b[32m━━━━━━━━━━\u001b[0m\u001b[37m━━━━━━━━━━\u001b[0m \u001b[1m0s\u001b[0m 2ms/step - loss: 4.4157 - mae: 1.4978 - mse: 4.77353"
     ]
    },
    {
     "name": "stderr",
     "output_type": "stream",
     "text": [
      "2025-02-09 13:31:28,629 [13068] INFO     root: Epoch 415: Loss=5.4076, Val_Loss=5.4173, MAE=1.6032\n"
     ]
    },
    {
     "name": "stdout",
     "output_type": "stream",
     "text": [
      "\u001b[1m12/12\u001b[0m \u001b[32m━━━━━━━━━━━━━━━━━━━━\u001b[0m\u001b[37m\u001b[0m \u001b[1m0s\u001b[0m 8ms/step - loss: 4.9089 - mae: 1.5693 - mse: 4.9089 - val_loss: 5.4173 - val_mae: 1.9121 - val_mse: 5.4173\n",
      "Epoch 416/1000\n",
      "\u001b[1m 6/12\u001b[0m \u001b[32m━━━━━━━━━━\u001b[0m\u001b[37m━━━━━━━━━━\u001b[0m \u001b[1m0s\u001b[0m 3ms/step - loss: 4.1406 - mae: 1.5351 - mse: 4.36321"
     ]
    },
    {
     "name": "stderr",
     "output_type": "stream",
     "text": [
      "2025-02-09 13:31:28,822 [13068] INFO     root: Epoch 416: Loss=5.3799, Val_Loss=5.3705, MAE=1.6037\n"
     ]
    },
    {
     "name": "stdout",
     "output_type": "stream",
     "text": [
      "\u001b[1m12/12\u001b[0m \u001b[32m━━━━━━━━━━━━━━━━━━━━\u001b[0m\u001b[37m\u001b[0m \u001b[1m0s\u001b[0m 10ms/step - loss: 4.8252 - mae: 1.5799 - mse: 4.8252 - val_loss: 5.3705 - val_mae: 1.9166 - val_mse: 5.3705\n",
      "Epoch 417/1000\n",
      "\u001b[1m 3/12\u001b[0m \u001b[32m━━━━━\u001b[0m\u001b[37m━━━━━━━━━━━━━━━\u001b[0m \u001b[1m0s\u001b[0m 2ms/step - loss: 2.8829 - mae: 1.3286 - mse: 4.3925  "
     ]
    },
    {
     "name": "stderr",
     "output_type": "stream",
     "text": [
      "2025-02-09 13:31:29,130 [13068] INFO     root: Epoch 417: Loss=5.3994, Val_Loss=5.2871, MAE=1.5997\n"
     ]
    },
    {
     "name": "stdout",
     "output_type": "stream",
     "text": [
      "\u001b[1m12/12\u001b[0m \u001b[32m━━━━━━━━━━━━━━━━━━━━\u001b[0m\u001b[37m\u001b[0m \u001b[1m0s\u001b[0m 7ms/step - loss: 4.7801 - mae: 1.5000 - mse: 4.7801 - val_loss: 5.2871 - val_mae: 1.9014 - val_mse: 5.2871\n",
      "Epoch 418/1000\n",
      "\u001b[1m 8/12\u001b[0m \u001b[32m━━━━━━━━━━━━━\u001b[0m\u001b[37m━━━━━━━\u001b[0m \u001b[1m0s\u001b[0m 2ms/step - loss: 4.5238 - mae: 1.4832 - mse: 4.6766 "
     ]
    },
    {
     "name": "stderr",
     "output_type": "stream",
     "text": [
      "2025-02-09 13:31:29,266 [13068] INFO     root: Epoch 418: Loss=5.3844, Val_Loss=5.4641, MAE=1.5954\n"
     ]
    },
    {
     "name": "stdout",
     "output_type": "stream",
     "text": [
      "\u001b[1m12/12\u001b[0m \u001b[32m━━━━━━━━━━━━━━━━━━━━\u001b[0m\u001b[37m\u001b[0m \u001b[1m0s\u001b[0m 8ms/step - loss: 4.8534 - mae: 1.5174 - mse: 4.8534 - val_loss: 5.4641 - val_mae: 1.9294 - val_mse: 5.4641\n",
      "Epoch 419/1000\n",
      "\u001b[1m 6/12\u001b[0m \u001b[32m━━━━━━━━━━\u001b[0m\u001b[37m━━━━━━━━━━\u001b[0m \u001b[1m0s\u001b[0m 2ms/step - loss: 4.7364 - mae: 1.4902 - mse: 5.00997"
     ]
    },
    {
     "name": "stderr",
     "output_type": "stream",
     "text": [
      "2025-02-09 13:31:29,392 [13068] INFO     root: Epoch 419: Loss=5.3861, Val_Loss=5.3050, MAE=1.6047\n"
     ]
    },
    {
     "name": "stdout",
     "output_type": "stream",
     "text": [
      "\u001b[1m12/12\u001b[0m \u001b[32m━━━━━━━━━━━━━━━━━━━━\u001b[0m\u001b[37m\u001b[0m \u001b[1m0s\u001b[0m 7ms/step - loss: 5.1449 - mae: 1.5267 - mse: 5.1449 - val_loss: 5.3050 - val_mae: 1.8825 - val_mse: 5.3050\n",
      "Epoch 420/1000\n",
      "\u001b[1m 7/12\u001b[0m \u001b[32m━━━━━━━━━━━\u001b[0m\u001b[37m━━━━━━━━━\u001b[0m \u001b[1m0s\u001b[0m 2ms/step - loss: 5.1817 - mae: 1.6171 - mse: 5.3042 "
     ]
    },
    {
     "name": "stderr",
     "output_type": "stream",
     "text": [
      "2025-02-09 13:31:29,535 [13068] INFO     ml_monitor.logging: Starting metrics logging thread...\n",
      "2025-02-09 13:31:29,548 [13068] INFO     root: Epoch 420: Loss=5.3662, Val_Loss=5.5727, MAE=1.5941\n"
     ]
    },
    {
     "name": "stdout",
     "output_type": "stream",
     "text": [
      "\u001b[1m12/12\u001b[0m \u001b[32m━━━━━━━━━━━━━━━━━━━━\u001b[0m\u001b[37m\u001b[0m \u001b[1m0s\u001b[0m 9ms/step - loss: 5.3124 - mae: 1.6038 - mse: 5.3124 - val_loss: 5.5727 - val_mae: 1.9470 - val_mse: 5.5727\n",
      "Epoch 421/1000\n",
      "\u001b[1m 5/12\u001b[0m \u001b[32m━━━━━━━━\u001b[0m\u001b[37m━━━━━━━━━━━━\u001b[0m \u001b[1m0s\u001b[0m 2ms/step - loss: 3.3983 - mae: 1.4130 - mse: 4.1599 "
     ]
    },
    {
     "name": "stderr",
     "output_type": "stream",
     "text": [
      "2025-02-09 13:31:29,673 [13068] INFO     root: Epoch 421: Loss=5.3490, Val_Loss=5.2304, MAE=1.5964\n"
     ]
    },
    {
     "name": "stdout",
     "output_type": "stream",
     "text": [
      "\u001b[1m12/12\u001b[0m \u001b[32m━━━━━━━━━━━━━━━━━━━━\u001b[0m\u001b[37m\u001b[0m \u001b[1m0s\u001b[0m 7ms/step - loss: 4.6047 - mae: 1.4983 - mse: 4.6047 - val_loss: 5.2304 - val_mae: 1.8795 - val_mse: 5.2304\n",
      "Epoch 422/1000\n",
      "\u001b[1m 5/12\u001b[0m \u001b[32m━━━━━━━━\u001b[0m\u001b[37m━━━━━━━━━━━━\u001b[0m \u001b[1m0s\u001b[0m 2ms/step - loss: 4.5591 - mae: 1.5294 - mse: 4.48805"
     ]
    },
    {
     "name": "stderr",
     "output_type": "stream",
     "text": [
      "2025-02-09 13:31:29,791 [13068] INFO     root: Epoch 422: Loss=5.3837, Val_Loss=5.5516, MAE=1.6009\n"
     ]
    },
    {
     "name": "stdout",
     "output_type": "stream",
     "text": [
      "\u001b[1m12/12\u001b[0m \u001b[32m━━━━━━━━━━━━━━━━━━━━\u001b[0m\u001b[37m\u001b[0m \u001b[1m0s\u001b[0m 7ms/step - loss: 4.6658 - mae: 1.5463 - mse: 4.6658 - val_loss: 5.5516 - val_mae: 1.9375 - val_mse: 5.5516\n",
      "Epoch 423/1000\n",
      "\u001b[1m 3/12\u001b[0m \u001b[32m━━━━━\u001b[0m\u001b[37m━━━━━━━━━━━━━━━\u001b[0m \u001b[1m0s\u001b[0m 2ms/step - loss: 5.9809 - mae: 1.7316 - mse: 5.2277 "
     ]
    },
    {
     "name": "stderr",
     "output_type": "stream",
     "text": [
      "2025-02-09 13:31:29,916 [13068] INFO     root: Epoch 423: Loss=5.2986, Val_Loss=5.1229, MAE=1.5883\n"
     ]
    },
    {
     "name": "stdout",
     "output_type": "stream",
     "text": [
      "\u001b[1m12/12\u001b[0m \u001b[32m━━━━━━━━━━━━━━━━━━━━\u001b[0m\u001b[37m\u001b[0m \u001b[1m0s\u001b[0m 6ms/step - loss: 5.2242 - mae: 1.6146 - mse: 5.2242 - val_loss: 5.1229 - val_mae: 1.8727 - val_mse: 5.1229\n",
      "Epoch 424/1000\n",
      "\u001b[1m 5/12\u001b[0m \u001b[32m━━━━━━━━\u001b[0m\u001b[37m━━━━━━━━━━━━\u001b[0m \u001b[1m0s\u001b[0m 2ms/step - loss: 7.2769 - mae: 1.6807 - mse: 6.6246 "
     ]
    },
    {
     "name": "stderr",
     "output_type": "stream",
     "text": [
      "2025-02-09 13:31:30,037 [13068] INFO     root: Epoch 424: Loss=5.4835, Val_Loss=5.3937, MAE=1.6329\n"
     ]
    },
    {
     "name": "stdout",
     "output_type": "stream",
     "text": [
      "\u001b[1m12/12\u001b[0m \u001b[32m━━━━━━━━━━━━━━━━━━━━\u001b[0m\u001b[37m\u001b[0m \u001b[1m0s\u001b[0m 7ms/step - loss: 6.2117 - mae: 1.6619 - mse: 6.2117 - val_loss: 5.3937 - val_mae: 1.8916 - val_mse: 5.3937\n",
      "Epoch 425/1000\n",
      "\u001b[1m 4/12\u001b[0m \u001b[32m━━━━━━\u001b[0m\u001b[37m━━━━━━━━━━━━━━\u001b[0m \u001b[1m0s\u001b[0m 2ms/step - loss: 6.1865 - mae: 1.6049 - mse: 5.12478"
     ]
    },
    {
     "name": "stderr",
     "output_type": "stream",
     "text": [
      "2025-02-09 13:31:30,181 [13068] INFO     root: Epoch 425: Loss=5.4005, Val_Loss=5.7511, MAE=1.5956\n"
     ]
    },
    {
     "name": "stdout",
     "output_type": "stream",
     "text": [
      "\u001b[1m12/12\u001b[0m \u001b[32m━━━━━━━━━━━━━━━━━━━━\u001b[0m\u001b[37m\u001b[0m \u001b[1m0s\u001b[0m 7ms/step - loss: 5.1721 - mae: 1.5857 - mse: 5.1721 - val_loss: 5.7511 - val_mae: 1.9874 - val_mse: 5.7511\n",
      "Epoch 426/1000\n",
      "\u001b[1m 6/12\u001b[0m \u001b[32m━━━━━━━━━━\u001b[0m\u001b[37m━━━━━━━━━━\u001b[0m \u001b[1m0s\u001b[0m 2ms/step - loss: 7.0749 - mae: 1.5679 - mse: 6.5414  "
     ]
    },
    {
     "name": "stderr",
     "output_type": "stream",
     "text": [
      "2025-02-09 13:31:30,349 [13068] INFO     root: Epoch 426: Loss=5.3702, Val_Loss=5.3238, MAE=1.5991\n"
     ]
    },
    {
     "name": "stdout",
     "output_type": "stream",
     "text": [
      "\u001b[1m12/12\u001b[0m \u001b[32m━━━━━━━━━━━━━━━━━━━━\u001b[0m\u001b[37m\u001b[0m \u001b[1m0s\u001b[0m 7ms/step - loss: 6.1966 - mae: 1.5777 - mse: 6.1966 - val_loss: 5.3238 - val_mae: 1.8807 - val_mse: 5.3238\n"
     ]
    },
    {
     "name": "stderr",
     "output_type": "stream",
     "text": [
      "2025-02-09 13:31:30,364 [13068] INFO     root: Final RMSE on validation set: 2.3073\n"
     ]
    },
    {
     "name": "stdout",
     "output_type": "stream",
     "text": [
      "\u001b[1m4/4\u001b[0m \u001b[32m━━━━━━━━━━━━━━━━━━━━\u001b[0m\u001b[37m\u001b[0m \u001b[1m0s\u001b[0m 17ms/step - loss: 12.3144 - mae: 2.4493 - mse: 12.3144\n"
     ]
    },
    {
     "name": "stderr",
     "output_type": "stream",
     "text": [
      "2025-02-09 13:31:30,530 [13068] INFO     root: Test Evaluation -> RMSE: 3.9631, MAE: 2.6597\n",
      "2025-02-09 13:31:30,659 [13068] INFO     root: Iteration 0: RMSE=2.1281, MAE=2.1281\n",
      "2025-02-09 13:31:30,780 [13068] INFO     root: Iteration 1: RMSE=3.1092, MAE=3.1092\n",
      "2025-02-09 13:31:30,887 [13068] INFO     root: Iteration 2: RMSE=1.3937, MAE=1.3937\n",
      "2025-02-09 13:31:30,988 [13068] INFO     root: Iteration 3: RMSE=6.5607, MAE=6.5607\n",
      "2025-02-09 13:31:31,081 [13068] INFO     root: Iteration 4: RMSE=5.3491, MAE=5.3491\n",
      "2025-02-09 13:31:31,207 [13068] INFO     root: Iteration 5: RMSE=3.0812, MAE=3.0812\n",
      "2025-02-09 13:31:31,314 [13068] INFO     root: Iteration 6: RMSE=0.9176, MAE=0.9176\n",
      "2025-02-09 13:31:31,424 [13068] INFO     root: Iteration 7: RMSE=3.9035, MAE=3.9035\n",
      "2025-02-09 13:31:31,535 [13068] INFO     root: Iteration 8: RMSE=1.9374, MAE=1.9374\n",
      "2025-02-09 13:31:31,656 [13068] INFO     root: Iteration 9: RMSE=1.2345, MAE=1.2345\n",
      "2025-02-09 13:31:31,762 [13068] INFO     root: Iteration 10: RMSE=3.0641, MAE=3.0641\n",
      "2025-02-09 13:31:31,887 [13068] INFO     root: Iteration 11: RMSE=0.4811, MAE=0.4811\n",
      "2025-02-09 13:31:32,019 [13068] INFO     root: Iteration 12: RMSE=1.0837, MAE=1.0837\n",
      "2025-02-09 13:31:32,132 [13068] INFO     root: Iteration 13: RMSE=2.1281, MAE=2.1281\n",
      "2025-02-09 13:31:32,247 [13068] INFO     root: Iteration 14: RMSE=2.1957, MAE=2.1957\n",
      "2025-02-09 13:31:32,354 [13068] INFO     root: Iteration 15: RMSE=1.2841, MAE=1.2841\n",
      "2025-02-09 13:31:32,704 [13068] INFO     root: Iteration 16: RMSE=1.7964, MAE=1.7964\n",
      "2025-02-09 13:31:32,811 [13068] INFO     root: Iteration 17: RMSE=1.0525, MAE=1.0525\n",
      "2025-02-09 13:31:32,929 [13068] INFO     root: Iteration 18: RMSE=1.6861, MAE=1.6861\n",
      "2025-02-09 13:31:33,064 [13068] INFO     root: Iteration 19: RMSE=0.8502, MAE=0.8502\n",
      "2025-02-09 13:31:33,178 [13068] INFO     root: Iteration 20: RMSE=3.9035, MAE=3.9035\n",
      "2025-02-09 13:31:33,297 [13068] INFO     root: Iteration 21: RMSE=1.5289, MAE=1.5289\n",
      "2025-02-09 13:31:33,403 [13068] INFO     root: Iteration 22: RMSE=3.0048, MAE=3.0048\n",
      "2025-02-09 13:31:33,512 [13068] INFO     root: Iteration 23: RMSE=3.6498, MAE=3.6498\n",
      "2025-02-09 13:31:33,619 [13068] INFO     root: Iteration 24: RMSE=2.7746, MAE=2.7746\n",
      "2025-02-09 13:31:33,725 [13068] INFO     root: Iteration 25: RMSE=2.4681, MAE=2.4681\n",
      "2025-02-09 13:31:33,820 [13068] INFO     root: Iteration 26: RMSE=0.8360, MAE=0.8360\n",
      "2025-02-09 13:31:33,926 [13068] INFO     root: Iteration 27: RMSE=7.1880, MAE=7.1880\n",
      "2025-02-09 13:31:34,024 [13068] INFO     root: Iteration 28: RMSE=1.9891, MAE=1.9891\n",
      "2025-02-09 13:31:34,136 [13068] INFO     root: Iteration 29: RMSE=0.8502, MAE=0.8502\n",
      "2025-02-09 13:31:34,231 [13068] INFO     root: Iteration 30: RMSE=0.0329, MAE=0.0329\n",
      "2025-02-09 13:31:34,327 [13068] INFO     root: Iteration 31: RMSE=2.8002, MAE=2.8002\n",
      "2025-02-09 13:31:34,441 [13068] INFO     root: Iteration 32: RMSE=4.2530, MAE=4.2530\n",
      "2025-02-09 13:31:34,539 [13068] INFO     root: Iteration 33: RMSE=0.1636, MAE=0.1636\n",
      "2025-02-09 13:31:34,558 [13068] INFO     ml_monitor.logging: Starting metrics logging thread...\n",
      "2025-02-09 13:31:34,659 [13068] INFO     root: Iteration 34: RMSE=2.4407, MAE=2.4407\n",
      "2025-02-09 13:31:34,748 [13068] INFO     root: Iteration 35: RMSE=5.1399, MAE=5.1399\n",
      "2025-02-09 13:31:34,836 [13068] INFO     root: Iteration 36: RMSE=0.1550, MAE=0.1550\n",
      "2025-02-09 13:31:34,913 [13068] INFO     root: Iteration 37: RMSE=0.2922, MAE=0.2922\n",
      "2025-02-09 13:31:34,990 [13068] INFO     root: Iteration 38: RMSE=0.8502, MAE=0.8502\n",
      "2025-02-09 13:31:35,067 [13068] INFO     root: Iteration 39: RMSE=2.0594, MAE=2.0594\n",
      "2025-02-09 13:31:35,143 [13068] INFO     root: Iteration 40: RMSE=0.8502, MAE=0.8502\n",
      "2025-02-09 13:31:35,219 [13068] INFO     root: Iteration 41: RMSE=3.0641, MAE=3.0641\n",
      "2025-02-09 13:31:35,300 [13068] INFO     root: Iteration 42: RMSE=1.2345, MAE=1.2345\n",
      "2025-02-09 13:31:35,375 [13068] INFO     root: Iteration 43: RMSE=0.1550, MAE=0.1550\n",
      "2025-02-09 13:31:35,508 [13068] INFO     root: Iteration 44: RMSE=0.5329, MAE=0.5329\n",
      "2025-02-09 13:31:35,588 [13068] INFO     root: Iteration 45: RMSE=2.2319, MAE=2.2319\n",
      "2025-02-09 13:31:35,673 [13068] INFO     root: Iteration 46: RMSE=0.4278, MAE=0.4278\n",
      "2025-02-09 13:31:35,749 [13068] INFO     root: Iteration 47: RMSE=1.9891, MAE=1.9891\n",
      "2025-02-09 13:31:35,822 [13068] INFO     root: Iteration 48: RMSE=2.4091, MAE=2.4091\n",
      "2025-02-09 13:31:35,901 [13068] INFO     root: Iteration 49: RMSE=1.2010, MAE=1.2010\n",
      "2025-02-09 13:31:35,973 [13068] INFO     root: Iteration 50: RMSE=2.1957, MAE=2.1957\n",
      "2025-02-09 13:31:36,052 [13068] INFO     root: Iteration 51: RMSE=4.3271, MAE=4.3271\n",
      "2025-02-09 13:31:36,128 [13068] INFO     root: Iteration 52: RMSE=1.9834, MAE=1.9834\n",
      "2025-02-09 13:31:36,201 [13068] INFO     root: Iteration 53: RMSE=0.6820, MAE=0.6820\n",
      "2025-02-09 13:31:36,275 [13068] INFO     root: Iteration 54: RMSE=0.0329, MAE=0.0329\n",
      "2025-02-09 13:31:36,348 [13068] INFO     root: Iteration 55: RMSE=1.6668, MAE=1.6668\n",
      "2025-02-09 13:31:36,419 [13068] INFO     root: Iteration 56: RMSE=0.2356, MAE=0.2356\n",
      "2025-02-09 13:31:36,494 [13068] INFO     root: Iteration 57: RMSE=0.9510, MAE=0.9510\n",
      "2025-02-09 13:31:36,569 [13068] INFO     root: Iteration 58: RMSE=2.4407, MAE=2.4407\n",
      "2025-02-09 13:31:36,645 [13068] INFO     root: Iteration 59: RMSE=2.8002, MAE=2.8002\n",
      "2025-02-09 13:31:36,719 [13068] INFO     root: Iteration 60: RMSE=1.6668, MAE=1.6668\n",
      "2025-02-09 13:31:36,790 [13068] INFO     root: Iteration 61: RMSE=1.2841, MAE=1.2841\n",
      "2025-02-09 13:31:36,872 [13068] INFO     root: Iteration 62: RMSE=1.9891, MAE=1.9891\n",
      "2025-02-09 13:31:36,943 [13068] INFO     root: Iteration 63: RMSE=7.1962, MAE=7.1962\n",
      "2025-02-09 13:31:37,021 [13068] INFO     root: Iteration 64: RMSE=5.8175, MAE=5.8175\n",
      "2025-02-09 13:31:37,096 [13068] INFO     root: Iteration 65: RMSE=0.1636, MAE=0.1636\n",
      "2025-02-09 13:31:37,185 [13068] INFO     root: Iteration 66: RMSE=3.9228, MAE=3.9228\n",
      "2025-02-09 13:31:37,290 [13068] INFO     root: Iteration 67: RMSE=0.4278, MAE=0.4278\n",
      "2025-02-09 13:31:37,381 [13068] INFO     root: Iteration 68: RMSE=0.6277, MAE=0.6277\n",
      "2025-02-09 13:31:37,459 [13068] INFO     root: Iteration 69: RMSE=1.7964, MAE=1.7964\n",
      "2025-02-09 13:31:37,539 [13068] INFO     root: Iteration 70: RMSE=0.0329, MAE=0.0329\n",
      "2025-02-09 13:31:37,618 [13068] INFO     root: Iteration 71: RMSE=2.1957, MAE=2.1957\n",
      "2025-02-09 13:31:37,696 [13068] INFO     root: Iteration 72: RMSE=7.1880, MAE=7.1880\n",
      "2025-02-09 13:31:37,773 [13068] INFO     root: Iteration 73: RMSE=6.5607, MAE=6.5607\n",
      "2025-02-09 13:31:37,857 [13068] INFO     root: Iteration 74: RMSE=0.5423, MAE=0.5423\n",
      "2025-02-09 13:31:37,935 [13068] INFO     root: Iteration 75: RMSE=5.1385, MAE=5.1385\n",
      "2025-02-09 13:31:38,013 [13068] INFO     root: Iteration 76: RMSE=1.6668, MAE=1.6668\n",
      "2025-02-09 13:31:38,089 [13068] INFO     root: Iteration 77: RMSE=1.0341, MAE=1.0341\n",
      "2025-02-09 13:31:38,170 [13068] INFO     root: Iteration 78: RMSE=6.4895, MAE=6.4895\n",
      "2025-02-09 13:31:38,252 [13068] INFO     root: Iteration 79: RMSE=1.5147, MAE=1.5147\n",
      "2025-02-09 13:31:38,339 [13068] INFO     root: Iteration 80: RMSE=5.3491, MAE=5.3491\n",
      "2025-02-09 13:31:38,423 [13068] INFO     root: Iteration 81: RMSE=2.1020, MAE=2.1020\n",
      "2025-02-09 13:31:38,509 [13068] INFO     root: Iteration 82: RMSE=0.0329, MAE=0.0329\n",
      "2025-02-09 13:31:38,592 [13068] INFO     root: Iteration 83: RMSE=2.7728, MAE=2.7728\n",
      "2025-02-09 13:31:38,671 [13068] INFO     root: Iteration 84: RMSE=3.9035, MAE=3.9035\n",
      "2025-02-09 13:31:38,753 [13068] INFO     root: Iteration 85: RMSE=1.9470, MAE=1.9470\n",
      "2025-02-09 13:31:38,832 [13068] INFO     root: Iteration 86: RMSE=0.9201, MAE=0.9201\n",
      "2025-02-09 13:31:38,913 [13068] INFO     root: Iteration 87: RMSE=0.8360, MAE=0.8360\n",
      "2025-02-09 13:31:39,001 [13068] INFO     root: Iteration 88: RMSE=0.9510, MAE=0.9510\n",
      "2025-02-09 13:31:39,078 [13068] INFO     root: Iteration 89: RMSE=0.1636, MAE=0.1636\n",
      "2025-02-09 13:31:39,154 [13068] INFO     root: Iteration 90: RMSE=4.8742, MAE=4.8742\n",
      "2025-02-09 13:31:39,235 [13068] INFO     root: Iteration 91: RMSE=4.2272, MAE=4.2272\n",
      "2025-02-09 13:31:39,319 [13068] INFO     root: Iteration 92: RMSE=1.7797, MAE=1.7797\n",
      "2025-02-09 13:31:39,399 [13068] INFO     root: Iteration 93: RMSE=3.0641, MAE=3.0641\n",
      "2025-02-09 13:31:39,473 [13068] INFO     root: Iteration 94: RMSE=1.0525, MAE=1.0525\n",
      "2025-02-09 13:31:39,551 [13068] INFO     root: Iteration 95: RMSE=0.4278, MAE=0.4278\n",
      "2025-02-09 13:31:39,572 [13068] INFO     ml_monitor.logging: Starting metrics logging thread...\n",
      "2025-02-09 13:31:39,650 [13068] INFO     root: Iteration 96: RMSE=3.2372, MAE=3.2372\n",
      "2025-02-09 13:31:39,726 [13068] INFO     root: Iteration 97: RMSE=3.9228, MAE=3.9228\n",
      "2025-02-09 13:31:39,814 [13068] INFO     root: Iteration 98: RMSE=0.8280, MAE=0.8280\n",
      "2025-02-09 13:31:39,902 [13068] INFO     root: Iteration 99: RMSE=2.1020, MAE=2.1020\n",
      "2025-02-09 13:31:39,980 [13068] INFO     root: Iteration 100: RMSE=0.8280, MAE=0.8280\n",
      "2025-02-09 13:31:40,062 [13068] INFO     root: Iteration 101: RMSE=0.5028, MAE=0.5028\n",
      "2025-02-09 13:31:40,161 [13068] INFO     root: Iteration 102: RMSE=2.6178, MAE=2.6178\n",
      "2025-02-09 13:31:40,242 [13068] INFO     root: Iteration 103: RMSE=4.3271, MAE=4.3271\n",
      "2025-02-09 13:31:40,352 [13068] INFO     root: Iteration 104: RMSE=7.1962, MAE=7.1962\n",
      "2025-02-09 13:31:40,445 [13068] INFO     root: Iteration 105: RMSE=5.8811, MAE=5.8811\n",
      "2025-02-09 13:31:40,544 [13068] INFO     root: Iteration 106: RMSE=3.0641, MAE=3.0641\n",
      "2025-02-09 13:31:40,961 [13068] INFO     root: Metrics pushed at iteration 106. RMSE=3.0641, MAE=3.0641\n",
      "2025-02-09 13:31:41,047 [13068] INFO     root: Iteration 107: RMSE=0.0894, MAE=0.0894\n",
      "2025-02-09 13:31:41,136 [13068] INFO     root: Iteration 108: RMSE=1.2345, MAE=1.2345\n",
      "2025-02-09 13:31:41,223 [13068] INFO     root: Iteration 109: RMSE=2.7728, MAE=2.7728\n",
      "2025-02-09 13:31:41,326 [13068] INFO     root: Iteration 110: RMSE=2.2823, MAE=2.2823\n",
      "2025-02-09 13:31:41,411 [13068] INFO     root: Iteration 111: RMSE=0.9201, MAE=0.9201\n",
      "2025-02-09 13:31:41,519 [13068] INFO     root: Iteration 112: RMSE=3.1701, MAE=3.1701\n",
      "2025-02-09 13:31:41,622 [13068] INFO     root: Iteration 113: RMSE=1.7797, MAE=1.7797\n",
      "2025-02-09 13:31:41,723 [13068] INFO     root: Iteration 114: RMSE=3.1701, MAE=3.1701\n",
      "2025-02-09 13:31:41,829 [13068] INFO     root: Iteration 115: RMSE=4.8742, MAE=4.8742\n",
      "2025-02-09 13:31:41,928 [13068] INFO     root: Iteration 116: RMSE=1.9834, MAE=1.9834\n",
      "2025-02-09 13:31:42,026 [13068] INFO     root: Iteration 117: RMSE=0.5028, MAE=0.5028\n",
      "2025-02-09 13:31:42,140 [13068] INFO     root: Iteration 118: RMSE=5.2814, MAE=5.2814\n",
      "2025-02-09 13:31:42,243 [13068] INFO     root: Iteration 119: RMSE=0.6367, MAE=0.6367\n",
      "2025-02-09 13:31:42,357 [13068] INFO     root: Iteration 120: RMSE=0.0190, MAE=0.0190\n",
      "2025-02-09 13:31:42,468 [13068] INFO     root: Iteration 121: RMSE=0.8295, MAE=0.8295\n",
      "2025-02-09 13:31:42,579 [13068] INFO     root: Iteration 122: RMSE=1.6668, MAE=1.6668\n",
      "2025-02-09 13:31:42,679 [13068] INFO     root: Iteration 123: RMSE=1.2010, MAE=1.2010\n",
      "2025-02-09 13:31:42,790 [13068] INFO     root: Iteration 124: RMSE=3.0641, MAE=3.0641\n",
      "2025-02-09 13:31:42,910 [13068] INFO     root: Iteration 125: RMSE=7.1962, MAE=7.1962\n",
      "2025-02-09 13:31:43,025 [13068] INFO     root: Iteration 126: RMSE=3.2950, MAE=3.2950\n",
      "2025-02-09 13:31:43,134 [13068] INFO     root: Iteration 127: RMSE=0.6367, MAE=0.6367\n",
      "2025-02-09 13:31:43,242 [13068] INFO     root: Iteration 128: RMSE=2.4681, MAE=2.4681\n",
      "2025-02-09 13:31:43,336 [13068] INFO     root: Iteration 129: RMSE=1.0525, MAE=1.0525\n",
      "2025-02-09 13:31:43,422 [13068] INFO     root: Iteration 130: RMSE=4.8742, MAE=4.8742\n",
      "2025-02-09 13:31:43,521 [13068] INFO     root: Iteration 131: RMSE=1.7964, MAE=1.7964\n",
      "2025-02-09 13:31:43,609 [13068] INFO     root: Iteration 132: RMSE=5.3491, MAE=5.3491\n",
      "2025-02-09 13:31:43,703 [13068] INFO     root: Iteration 133: RMSE=3.1701, MAE=3.1701\n",
      "2025-02-09 13:31:43,786 [13068] INFO     root: Iteration 134: RMSE=1.0837, MAE=1.0837\n",
      "2025-02-09 13:31:43,866 [13068] INFO     root: Iteration 135: RMSE=5.8175, MAE=5.8175\n",
      "2025-02-09 13:31:43,953 [13068] INFO     root: Iteration 136: RMSE=5.8811, MAE=5.8811\n",
      "2025-02-09 13:31:44,047 [13068] INFO     root: Iteration 137: RMSE=0.4278, MAE=0.4278\n",
      "2025-02-09 13:31:44,191 [13068] INFO     root: Iteration 138: RMSE=0.9690, MAE=0.9690\n",
      "2025-02-09 13:31:44,300 [13068] INFO     root: Iteration 139: RMSE=6.3484, MAE=6.3484\n",
      "2025-02-09 13:31:44,393 [13068] INFO     root: Iteration 140: RMSE=0.5423, MAE=0.5423\n",
      "2025-02-09 13:31:44,491 [13068] INFO     root: Iteration 141: RMSE=2.5983, MAE=2.5983\n",
      "2025-02-09 13:31:44,581 [13068] INFO     root: Iteration 142: RMSE=3.1092, MAE=3.1092\n",
      "2025-02-09 13:31:44,601 [13068] INFO     ml_monitor.logging: Starting metrics logging thread...\n",
      "2025-02-09 13:31:44,712 [13068] INFO     root: Iteration 143: RMSE=1.9024, MAE=1.9024\n",
      "2025-02-09 13:31:44,801 [13068] INFO     root: Iteration 144: RMSE=2.1281, MAE=2.1281\n",
      "2025-02-09 13:31:44,885 [13068] INFO     root: Iteration 145: RMSE=1.2345, MAE=1.2345\n",
      "2025-02-09 13:31:44,977 [13068] INFO     root: Iteration 146: RMSE=0.4811, MAE=0.4811\n",
      "2025-02-09 13:31:45,090 [13068] INFO     root: Iteration 147: RMSE=3.9035, MAE=3.9035\n",
      "2025-02-09 13:31:45,232 [13068] INFO     root: Iteration 148: RMSE=0.0190, MAE=0.0190\n",
      "2025-02-09 13:31:45,374 [13068] INFO     root: Iteration 149: RMSE=2.4681, MAE=2.4681\n",
      "2025-02-09 13:31:45,512 [13068] INFO     root: Iteration 150: RMSE=1.0525, MAE=1.0525\n",
      "2025-02-09 13:31:45,648 [13068] INFO     root: Iteration 151: RMSE=1.2345, MAE=1.2345\n",
      "2025-02-09 13:31:45,769 [13068] INFO     root: Iteration 152: RMSE=3.9035, MAE=3.9035\n",
      "2025-02-09 13:31:45,900 [13068] INFO     root: Iteration 153: RMSE=1.9470, MAE=1.9470\n",
      "2025-02-09 13:31:46,030 [13068] INFO     root: Iteration 154: RMSE=4.2619, MAE=4.2619\n",
      "2025-02-09 13:31:46,159 [13068] INFO     root: Iteration 155: RMSE=4.3271, MAE=4.3271\n",
      "2025-02-09 13:31:46,292 [13068] INFO     root: Iteration 156: RMSE=1.9954, MAE=1.9954\n",
      "2025-02-09 13:31:46,416 [13068] INFO     root: Iteration 157: RMSE=6.3484, MAE=6.3484\n",
      "2025-02-09 13:31:46,556 [13068] INFO     root: Iteration 158: RMSE=4.2733, MAE=4.2733\n",
      "2025-02-09 13:31:46,679 [13068] INFO     root: Iteration 159: RMSE=0.1636, MAE=0.1636\n",
      "2025-02-09 13:31:46,824 [13068] INFO     root: Iteration 160: RMSE=0.1636, MAE=0.1636\n",
      "2025-02-09 13:31:46,947 [13068] INFO     root: Iteration 161: RMSE=1.3937, MAE=1.3937\n",
      "2025-02-09 13:31:47,065 [13068] INFO     root: Iteration 162: RMSE=0.0190, MAE=0.0190\n",
      "2025-02-09 13:31:47,206 [13068] INFO     root: Iteration 163: RMSE=1.0525, MAE=1.0525\n",
      "2025-02-09 13:31:47,371 [13068] INFO     root: Iteration 164: RMSE=5.2814, MAE=5.2814\n",
      "2025-02-09 13:31:47,535 [13068] INFO     root: Iteration 165: RMSE=2.8002, MAE=2.8002\n",
      "2025-02-09 13:31:47,652 [13068] INFO     root: Iteration 166: RMSE=5.8811, MAE=5.8811\n",
      "2025-02-09 13:31:47,760 [13068] INFO     root: Iteration 167: RMSE=0.5329, MAE=0.5329\n",
      "2025-02-09 13:31:47,876 [13068] INFO     root: Iteration 168: RMSE=2.1020, MAE=2.1020\n",
      "2025-02-09 13:31:47,985 [13068] INFO     root: Iteration 169: RMSE=6.5607, MAE=6.5607\n",
      "2025-02-09 13:31:48,094 [13068] INFO     root: Iteration 170: RMSE=0.9690, MAE=0.9690\n",
      "2025-02-09 13:31:48,223 [13068] INFO     root: Iteration 171: RMSE=0.5329, MAE=0.5329\n",
      "2025-02-09 13:31:48,350 [13068] INFO     root: Iteration 172: RMSE=0.9176, MAE=0.9176\n",
      "2025-02-09 13:31:48,463 [13068] INFO     root: Iteration 173: RMSE=3.0641, MAE=3.0641\n",
      "2025-02-09 13:31:48,588 [13068] INFO     root: Iteration 174: RMSE=6.3484, MAE=6.3484\n",
      "2025-02-09 13:31:48,692 [13068] INFO     root: Iteration 175: RMSE=0.1636, MAE=0.1636\n",
      "2025-02-09 13:31:48,802 [13068] INFO     root: Iteration 176: RMSE=2.8002, MAE=2.8002\n",
      "2025-02-09 13:31:48,913 [13068] INFO     root: Iteration 177: RMSE=0.5028, MAE=0.5028\n",
      "2025-02-09 13:31:49,017 [13068] INFO     root: Iteration 178: RMSE=1.0341, MAE=1.0341\n",
      "2025-02-09 13:31:49,107 [13068] INFO     root: Iteration 179: RMSE=2.5983, MAE=2.5983\n",
      "2025-02-09 13:31:49,196 [13068] INFO     root: Iteration 180: RMSE=4.2272, MAE=4.2272\n",
      "2025-02-09 13:31:49,284 [13068] INFO     root: Iteration 181: RMSE=7.1962, MAE=7.1962\n",
      "2025-02-09 13:31:49,387 [13068] INFO     root: Iteration 182: RMSE=3.1092, MAE=3.1092\n",
      "2025-02-09 13:31:49,476 [13068] INFO     root: Iteration 183: RMSE=5.1399, MAE=5.1399\n",
      "2025-02-09 13:31:49,577 [13068] INFO     root: Iteration 184: RMSE=0.5329, MAE=0.5329\n",
      "2025-02-09 13:31:49,628 [13068] INFO     ml_monitor.logging: Starting metrics logging thread...\n",
      "2025-02-09 13:31:49,691 [13068] INFO     root: Iteration 185: RMSE=3.1701, MAE=3.1701\n",
      "2025-02-09 13:31:49,815 [13068] INFO     root: Iteration 186: RMSE=7.4122, MAE=7.4122\n",
      "2025-02-09 13:31:49,935 [13068] INFO     root: Iteration 187: RMSE=7.1962, MAE=7.1962\n",
      "2025-02-09 13:31:50,049 [13068] INFO     root: Iteration 188: RMSE=2.5983, MAE=2.5983\n",
      "2025-02-09 13:31:50,163 [13068] INFO     root: Iteration 189: RMSE=0.4811, MAE=0.4811\n",
      "2025-02-09 13:31:50,284 [13068] INFO     root: Iteration 190: RMSE=0.6277, MAE=0.6277\n",
      "2025-02-09 13:31:50,416 [13068] INFO     root: Iteration 191: RMSE=1.3227, MAE=1.3227\n",
      "2025-02-09 13:31:50,541 [13068] INFO     root: Iteration 192: RMSE=4.2530, MAE=4.2530\n",
      "2025-02-09 13:31:50,662 [13068] INFO     root: Iteration 193: RMSE=0.1550, MAE=0.1550\n",
      "2025-02-09 13:31:51,162 [13068] INFO     root: Metrics pushed at iteration 193. RMSE=0.1550, MAE=0.1550\n",
      "2025-02-09 13:31:51,275 [13068] INFO     root: Iteration 194: RMSE=1.2010, MAE=1.2010\n",
      "2025-02-09 13:31:51,398 [13068] INFO     root: Iteration 195: RMSE=2.4681, MAE=2.4681\n",
      "2025-02-09 13:31:51,535 [13068] INFO     root: Iteration 196: RMSE=2.5855, MAE=2.5855\n",
      "2025-02-09 13:31:51,659 [13068] INFO     root: Iteration 197: RMSE=4.2530, MAE=4.2530\n",
      "2025-02-09 13:31:51,790 [13068] INFO     root: Iteration 198: RMSE=5.8175, MAE=5.8175\n",
      "2025-02-09 13:31:51,925 [13068] INFO     root: Iteration 199: RMSE=6.3484, MAE=6.3484\n",
      "2025-02-09 13:31:52,045 [13068] INFO     root: Iteration 200: RMSE=0.4278, MAE=0.4278\n",
      "2025-02-09 13:31:52,161 [13068] INFO     root: Iteration 201: RMSE=7.1880, MAE=7.1880\n",
      "2025-02-09 13:31:52,287 [13068] INFO     root: Iteration 202: RMSE=0.4811, MAE=0.4811\n",
      "2025-02-09 13:31:52,411 [13068] INFO     root: Iteration 203: RMSE=5.2814, MAE=5.2814\n",
      "2025-02-09 13:31:52,548 [13068] INFO     root: Iteration 204: RMSE=0.4811, MAE=0.4811\n",
      "2025-02-09 13:31:52,664 [13068] INFO     root: Iteration 205: RMSE=7.1962, MAE=7.1962\n",
      "2025-02-09 13:31:52,771 [13068] INFO     root: Iteration 206: RMSE=3.6498, MAE=3.6498\n",
      "2025-02-09 13:31:52,881 [13068] INFO     root: Iteration 207: RMSE=3.9228, MAE=3.9228\n",
      "2025-02-09 13:31:52,971 [13068] INFO     root: Iteration 208: RMSE=1.5147, MAE=1.5147\n",
      "2025-02-09 13:31:53,057 [13068] INFO     root: Iteration 209: RMSE=2.2823, MAE=2.2823\n",
      "2025-02-09 13:31:53,146 [13068] INFO     root: Iteration 210: RMSE=4.2733, MAE=4.2733\n",
      "2025-02-09 13:31:53,225 [13068] INFO     root: Iteration 211: RMSE=2.7728, MAE=2.7728\n",
      "2025-02-09 13:31:53,303 [13068] INFO     root: Iteration 212: RMSE=1.2010, MAE=1.2010\n",
      "2025-02-09 13:31:53,387 [13068] INFO     root: Iteration 213: RMSE=1.9954, MAE=1.9954\n",
      "2025-02-09 13:31:53,471 [13068] INFO     root: Iteration 214: RMSE=0.8295, MAE=0.8295\n",
      "2025-02-09 13:31:53,550 [13068] INFO     root: Iteration 215: RMSE=0.8360, MAE=0.8360\n",
      "2025-02-09 13:31:53,633 [13068] INFO     root: Iteration 216: RMSE=2.7728, MAE=2.7728\n",
      "2025-02-09 13:31:53,714 [13068] INFO     root: Iteration 217: RMSE=0.1136, MAE=0.1136\n",
      "2025-02-09 13:31:53,794 [13068] INFO     root: Iteration 218: RMSE=1.6861, MAE=1.6861\n",
      "2025-02-09 13:31:53,876 [13068] INFO     root: Iteration 219: RMSE=3.2950, MAE=3.2950\n",
      "2025-02-09 13:31:53,958 [13068] INFO     root: Iteration 220: RMSE=5.3491, MAE=5.3491\n",
      "2025-02-09 13:31:54,037 [13068] INFO     root: Iteration 221: RMSE=0.8502, MAE=0.8502\n",
      "2025-02-09 13:31:54,118 [13068] INFO     root: Iteration 222: RMSE=2.8002, MAE=2.8002\n",
      "2025-02-09 13:31:54,210 [13068] INFO     root: Iteration 223: RMSE=0.8360, MAE=0.8360\n",
      "2025-02-09 13:31:54,359 [13068] INFO     root: Iteration 224: RMSE=4.3271, MAE=4.3271\n",
      "2025-02-09 13:31:54,577 [13068] INFO     root: Iteration 225: RMSE=6.4895, MAE=6.4895\n",
      "2025-02-09 13:31:54,655 [13068] INFO     ml_monitor.logging: Starting metrics logging thread...\n",
      "2025-02-09 13:31:54,671 [13068] INFO     root: Iteration 226: RMSE=3.0812, MAE=3.0812\n",
      "2025-02-09 13:31:54,757 [13068] INFO     root: Iteration 227: RMSE=7.1962, MAE=7.1962\n",
      "2025-02-09 13:31:54,843 [13068] INFO     root: Iteration 228: RMSE=4.3271, MAE=4.3271\n",
      "2025-02-09 13:31:54,929 [13068] INFO     root: Iteration 229: RMSE=2.8002, MAE=2.8002\n",
      "2025-02-09 13:31:55,026 [13068] INFO     root: Iteration 230: RMSE=0.1550, MAE=0.1550\n",
      "2025-02-09 13:31:55,137 [13068] INFO     root: Iteration 231: RMSE=0.1636, MAE=0.1636\n",
      "2025-02-09 13:31:55,252 [13068] INFO     root: Iteration 232: RMSE=2.5983, MAE=2.5983\n",
      "2025-02-09 13:31:55,354 [13068] INFO     root: Iteration 233: RMSE=3.6498, MAE=3.6498\n",
      "2025-02-09 13:31:55,463 [13068] INFO     root: Iteration 234: RMSE=1.9024, MAE=1.9024\n",
      "2025-02-09 13:31:55,663 [13068] INFO     root: Iteration 235: RMSE=0.0894, MAE=0.0894\n",
      "2025-02-09 13:31:55,783 [13068] INFO     root: Iteration 236: RMSE=2.5855, MAE=2.5855\n",
      "2025-02-09 13:31:55,894 [13068] INFO     root: Iteration 237: RMSE=0.2445, MAE=0.2445\n",
      "2025-02-09 13:31:56,004 [13068] INFO     root: Iteration 238: RMSE=0.4278, MAE=0.4278\n",
      "2025-02-09 13:31:56,116 [13068] INFO     root: Iteration 239: RMSE=2.5855, MAE=2.5855\n",
      "2025-02-09 13:31:56,227 [13068] INFO     root: Iteration 240: RMSE=1.3937, MAE=1.3937\n",
      "2025-02-09 13:31:56,330 [13068] INFO     root: Iteration 241: RMSE=2.1020, MAE=2.1020\n",
      "2025-02-09 13:31:56,430 [13068] INFO     root: Iteration 242: RMSE=15.7679, MAE=15.7679\n",
      "2025-02-09 13:31:56,551 [13068] INFO     root: Iteration 243: RMSE=1.2345, MAE=1.2345\n",
      "2025-02-09 13:31:56,679 [13068] INFO     root: Iteration 244: RMSE=1.6861, MAE=1.6861\n",
      "2025-02-09 13:31:56,797 [13068] INFO     root: Iteration 245: RMSE=0.1640, MAE=0.1640\n",
      "2025-02-09 13:31:56,911 [13068] INFO     root: Iteration 246: RMSE=2.0594, MAE=2.0594\n",
      "2025-02-09 13:31:57,027 [13068] INFO     root: Iteration 247: RMSE=2.2319, MAE=2.2319\n",
      "2025-02-09 13:31:57,190 [13068] INFO     root: Iteration 248: RMSE=3.0048, MAE=3.0048\n",
      "2025-02-09 13:31:57,368 [13068] INFO     root: Iteration 249: RMSE=5.1385, MAE=5.1385\n",
      "2025-02-09 13:31:57,551 [13068] INFO     root: Iteration 250: RMSE=2.7746, MAE=2.7746\n",
      "2025-02-09 13:31:57,686 [13068] INFO     root: Iteration 251: RMSE=2.5983, MAE=2.5983\n",
      "2025-02-09 13:31:57,818 [13068] INFO     root: Iteration 252: RMSE=0.8360, MAE=0.8360\n",
      "2025-02-09 13:31:57,937 [13068] INFO     root: Iteration 253: RMSE=2.2823, MAE=2.2823\n",
      "2025-02-09 13:31:58,037 [13068] INFO     root: Iteration 254: RMSE=6.3484, MAE=6.3484\n",
      "2025-02-09 13:31:58,158 [13068] INFO     root: Iteration 255: RMSE=0.9176, MAE=0.9176\n",
      "2025-02-09 13:31:58,278 [13068] INFO     root: Iteration 256: RMSE=2.2823, MAE=2.2823\n",
      "2025-02-09 13:31:58,410 [13068] INFO     root: Iteration 257: RMSE=1.9470, MAE=1.9470\n",
      "2025-02-09 13:31:58,536 [13068] INFO     root: Iteration 258: RMSE=2.7746, MAE=2.7746\n",
      "2025-02-09 13:31:58,676 [13068] INFO     root: Iteration 259: RMSE=0.9510, MAE=0.9510\n",
      "2025-02-09 13:31:58,811 [13068] INFO     root: Iteration 260: RMSE=2.5983, MAE=2.5983\n",
      "2025-02-09 13:31:58,933 [13068] INFO     root: Iteration 261: RMSE=2.8002, MAE=2.8002\n",
      "2025-02-09 13:31:59,060 [13068] INFO     root: Iteration 262: RMSE=1.7797, MAE=1.7797\n",
      "2025-02-09 13:31:59,194 [13068] INFO     root: Iteration 263: RMSE=0.8295, MAE=0.8295\n",
      "2025-02-09 13:31:59,321 [13068] INFO     root: Iteration 264: RMSE=1.7797, MAE=1.7797\n",
      "2025-02-09 13:31:59,443 [13068] INFO     root: Iteration 265: RMSE=0.9176, MAE=0.9176\n",
      "2025-02-09 13:31:59,591 [13068] INFO     root: Iteration 266: RMSE=5.2814, MAE=5.2814\n",
      "2025-02-09 13:31:59,675 [13068] INFO     ml_monitor.logging: Starting metrics logging thread...\n",
      "2025-02-09 13:31:59,716 [13068] INFO     root: Iteration 267: RMSE=1.5289, MAE=1.5289\n",
      "2025-02-09 13:31:59,844 [13068] INFO     root: Iteration 268: RMSE=0.4053, MAE=0.4053\n",
      "2025-02-09 13:31:59,950 [13068] INFO     root: Iteration 269: RMSE=0.1550, MAE=0.1550\n",
      "2025-02-09 13:32:00,085 [13068] INFO     root: Iteration 270: RMSE=1.3937, MAE=1.3937\n",
      "2025-02-09 13:32:00,196 [13068] INFO     root: Iteration 271: RMSE=1.5147, MAE=1.5147\n",
      "2025-02-09 13:32:00,305 [13068] INFO     root: Iteration 272: RMSE=2.4681, MAE=2.4681\n",
      "2025-02-09 13:32:00,417 [13068] INFO     root: Iteration 273: RMSE=0.4554, MAE=0.4554\n",
      "2025-02-09 13:32:00,540 [13068] INFO     root: Iteration 274: RMSE=2.2319, MAE=2.2319\n",
      "2025-02-09 13:32:00,660 [13068] INFO     root: Iteration 275: RMSE=2.8002, MAE=2.8002\n",
      "2025-02-09 13:32:00,776 [13068] INFO     root: Iteration 276: RMSE=1.0341, MAE=1.0341\n",
      "2025-02-09 13:32:01,203 [13068] INFO     root: Metrics pushed at iteration 276. RMSE=1.0341, MAE=1.0341\n",
      "2025-02-09 13:32:01,286 [13068] INFO     root: Iteration 277: RMSE=2.5855, MAE=2.5855\n",
      "2025-02-09 13:32:01,363 [13068] INFO     root: Iteration 278: RMSE=1.2010, MAE=1.2010\n",
      "2025-02-09 13:32:01,447 [13068] INFO     root: Iteration 279: RMSE=5.8811, MAE=5.8811\n",
      "2025-02-09 13:32:01,532 [13068] INFO     root: Iteration 280: RMSE=5.3491, MAE=5.3491\n",
      "2025-02-09 13:32:01,611 [13068] INFO     root: Iteration 281: RMSE=1.0525, MAE=1.0525\n",
      "2025-02-09 13:32:01,697 [13068] INFO     root: Iteration 282: RMSE=0.1640, MAE=0.1640\n",
      "2025-02-09 13:32:01,792 [13068] INFO     root: Iteration 283: RMSE=2.0594, MAE=2.0594\n",
      "2025-02-09 13:32:01,901 [13068] INFO     root: Iteration 284: RMSE=3.6498, MAE=3.6498\n",
      "2025-02-09 13:32:02,020 [13068] INFO     root: Iteration 285: RMSE=0.4811, MAE=0.4811\n",
      "2025-02-09 13:32:02,143 [13068] INFO     root: Iteration 286: RMSE=2.1281, MAE=2.1281\n",
      "2025-02-09 13:32:02,264 [13068] INFO     root: Iteration 287: RMSE=4.3700, MAE=4.3700\n",
      "2025-02-09 13:32:02,380 [13068] INFO     root: Iteration 288: RMSE=4.2619, MAE=4.2619\n",
      "2025-02-09 13:32:02,505 [13068] INFO     root: Iteration 289: RMSE=3.2372, MAE=3.2372\n",
      "2025-02-09 13:32:02,622 [13068] INFO     root: Iteration 290: RMSE=5.8811, MAE=5.8811\n",
      "2025-02-09 13:32:02,724 [13068] INFO     root: Iteration 291: RMSE=1.0525, MAE=1.0525\n",
      "2025-02-09 13:32:02,832 [13068] INFO     root: Iteration 292: RMSE=5.8175, MAE=5.8175\n",
      "2025-02-09 13:32:02,932 [13068] INFO     root: Iteration 293: RMSE=2.7746, MAE=2.7746\n",
      "2025-02-09 13:32:03,045 [13068] INFO     root: Iteration 294: RMSE=0.5028, MAE=0.5028\n",
      "2025-02-09 13:32:03,152 [13068] INFO     root: Iteration 295: RMSE=0.0329, MAE=0.0329\n",
      "2025-02-09 13:32:03,251 [13068] INFO     root: Iteration 296: RMSE=3.2950, MAE=3.2950\n",
      "2025-02-09 13:32:03,344 [13068] INFO     root: Iteration 297: RMSE=2.1957, MAE=2.1957\n",
      "2025-02-09 13:32:03,443 [13068] INFO     root: Iteration 298: RMSE=0.8360, MAE=0.8360\n",
      "2025-02-09 13:32:03,545 [13068] INFO     root: Iteration 299: RMSE=7.1880, MAE=7.1880\n",
      "2025-02-09 13:32:03,641 [13068] INFO     root: Iteration 300: RMSE=0.9201, MAE=0.9201\n",
      "2025-02-09 13:32:03,747 [13068] INFO     root: Iteration 301: RMSE=3.9228, MAE=3.9228\n",
      "2025-02-09 13:32:03,851 [13068] INFO     root: Iteration 302: RMSE=6.4895, MAE=6.4895\n",
      "2025-02-09 13:32:03,949 [13068] INFO     root: Iteration 303: RMSE=1.0341, MAE=1.0341\n",
      "2025-02-09 13:32:04,055 [13068] INFO     root: Iteration 304: RMSE=1.2345, MAE=1.2345\n",
      "2025-02-09 13:32:04,173 [13068] INFO     root: Iteration 305: RMSE=5.2814, MAE=5.2814\n",
      "2025-02-09 13:32:04,286 [13068] INFO     root: Iteration 306: RMSE=1.9891, MAE=1.9891\n",
      "2025-02-09 13:32:04,393 [13068] INFO     root: Iteration 307: RMSE=21.1875, MAE=21.1875\n",
      "2025-02-09 13:32:04,493 [13068] INFO     root: Iteration 308: RMSE=0.9510, MAE=0.9510\n",
      "2025-02-09 13:32:04,600 [13068] INFO     root: Iteration 309: RMSE=15.7679, MAE=15.7679\n",
      "2025-02-09 13:32:04,693 [13068] INFO     ml_monitor.logging: Starting metrics logging thread...\n",
      "2025-02-09 13:32:04,766 [13068] INFO     root: Iteration 310: RMSE=3.2372, MAE=3.2372\n",
      "2025-02-09 13:32:04,947 [13068] INFO     root: Iteration 311: RMSE=3.2372, MAE=3.2372\n",
      "2025-02-09 13:32:05,064 [13068] INFO     root: Iteration 312: RMSE=0.4278, MAE=0.4278\n",
      "2025-02-09 13:32:05,189 [13068] INFO     root: Iteration 313: RMSE=2.1281, MAE=2.1281\n",
      "2025-02-09 13:32:05,296 [13068] INFO     root: Iteration 314: RMSE=2.1020, MAE=2.1020\n",
      "2025-02-09 13:32:05,396 [13068] INFO     root: Iteration 315: RMSE=3.0641, MAE=3.0641\n",
      "2025-02-09 13:32:05,528 [13068] INFO     root: Iteration 316: RMSE=6.3484, MAE=6.3484\n",
      "2025-02-09 13:32:05,680 [13068] INFO     root: Iteration 317: RMSE=2.5983, MAE=2.5983\n",
      "2025-02-09 13:32:05,824 [13068] INFO     root: Iteration 318: RMSE=3.1092, MAE=3.1092\n",
      "2025-02-09 13:32:05,928 [13068] INFO     root: Iteration 319: RMSE=0.5028, MAE=0.5028\n",
      "2025-02-09 13:32:06,028 [13068] INFO     root: Iteration 320: RMSE=0.1136, MAE=0.1136\n",
      "2025-02-09 13:32:06,124 [13068] INFO     root: Iteration 321: RMSE=0.1640, MAE=0.1640\n",
      "2025-02-09 13:32:06,225 [13068] INFO     root: Iteration 322: RMSE=4.8742, MAE=4.8742\n",
      "2025-02-09 13:32:06,325 [13068] INFO     root: Iteration 323: RMSE=1.9954, MAE=1.9954\n",
      "2025-02-09 13:32:06,435 [13068] INFO     root: Iteration 324: RMSE=1.2345, MAE=1.2345\n",
      "2025-02-09 13:32:06,558 [13068] INFO     root: Iteration 325: RMSE=2.1957, MAE=2.1957\n",
      "2025-02-09 13:32:06,663 [13068] INFO     root: Iteration 326: RMSE=0.6004, MAE=0.6004\n",
      "2025-02-09 13:32:06,775 [13068] INFO     root: Iteration 327: RMSE=0.4278, MAE=0.4278\n",
      "2025-02-09 13:32:06,885 [13068] INFO     root: Iteration 328: RMSE=5.1385, MAE=5.1385\n",
      "2025-02-09 13:32:06,995 [13068] INFO     root: Iteration 329: RMSE=3.2372, MAE=3.2372\n",
      "2025-02-09 13:32:07,099 [13068] INFO     root: Iteration 330: RMSE=1.9834, MAE=1.9834\n",
      "2025-02-09 13:32:07,204 [13068] INFO     root: Iteration 331: RMSE=2.4681, MAE=2.4681\n",
      "2025-02-09 13:32:07,326 [13068] INFO     root: Iteration 332: RMSE=4.8742, MAE=4.8742\n",
      "2025-02-09 13:32:07,447 [13068] INFO     root: Iteration 333: RMSE=4.2619, MAE=4.2619\n",
      "2025-02-09 13:32:07,604 [13068] INFO     root: Iteration 334: RMSE=6.5607, MAE=6.5607\n",
      "2025-02-09 13:32:07,737 [13068] INFO     root: Iteration 335: RMSE=2.1281, MAE=2.1281\n",
      "2025-02-09 13:32:07,868 [13068] INFO     root: Iteration 336: RMSE=0.9176, MAE=0.9176\n",
      "2025-02-09 13:32:08,027 [13068] INFO     root: Iteration 337: RMSE=0.1550, MAE=0.1550\n",
      "2025-02-09 13:32:08,213 [13068] INFO     root: Iteration 338: RMSE=2.1957, MAE=2.1957\n",
      "2025-02-09 13:32:08,342 [13068] INFO     root: Iteration 339: RMSE=2.1957, MAE=2.1957\n",
      "2025-02-09 13:32:08,452 [13068] INFO     root: Iteration 340: RMSE=0.6367, MAE=0.6367\n",
      "2025-02-09 13:32:08,573 [13068] INFO     root: Iteration 341: RMSE=0.0190, MAE=0.0190\n",
      "2025-02-09 13:32:08,684 [13068] INFO     root: Iteration 342: RMSE=2.9898, MAE=2.9898\n",
      "2025-02-09 13:32:08,794 [13068] INFO     root: Iteration 343: RMSE=1.9834, MAE=1.9834\n",
      "2025-02-09 13:32:08,955 [13068] INFO     root: Iteration 344: RMSE=0.4554, MAE=0.4554\n",
      "2025-02-09 13:32:09,066 [13068] INFO     root: Iteration 345: RMSE=0.8295, MAE=0.8295\n",
      "2025-02-09 13:32:09,177 [13068] INFO     root: Iteration 346: RMSE=0.6367, MAE=0.6367\n",
      "2025-02-09 13:32:09,333 [13068] INFO     root: Iteration 347: RMSE=3.0641, MAE=3.0641\n",
      "2025-02-09 13:32:09,472 [13068] INFO     root: Iteration 348: RMSE=5.8811, MAE=5.8811\n",
      "2025-02-09 13:32:09,594 [13068] INFO     root: Iteration 349: RMSE=6.3484, MAE=6.3484\n",
      "2025-02-09 13:32:09,695 [13068] INFO     root: Iteration 350: RMSE=7.1962, MAE=7.1962\n",
      "2025-02-09 13:32:09,721 [13068] INFO     ml_monitor.logging: Starting metrics logging thread...\n",
      "2025-02-09 13:32:09,810 [13068] INFO     root: Iteration 351: RMSE=0.4554, MAE=0.4554\n",
      "2025-02-09 13:32:09,921 [13068] INFO     root: Iteration 352: RMSE=2.4407, MAE=2.4407\n",
      "2025-02-09 13:32:10,078 [13068] INFO     root: Iteration 353: RMSE=0.1636, MAE=0.1636\n",
      "2025-02-09 13:32:10,220 [13068] INFO     root: Iteration 354: RMSE=1.5289, MAE=1.5289\n",
      "2025-02-09 13:32:10,343 [13068] INFO     root: Iteration 355: RMSE=0.8280, MAE=0.8280\n",
      "2025-02-09 13:32:10,469 [13068] INFO     root: Iteration 356: RMSE=2.5855, MAE=2.5855\n",
      "2025-02-09 13:32:10,600 [13068] INFO     root: Iteration 357: RMSE=0.2922, MAE=0.2922\n",
      "2025-02-09 13:32:10,724 [13068] INFO     root: Iteration 358: RMSE=0.5028, MAE=0.5028\n",
      "2025-02-09 13:32:10,913 [13068] INFO     root: Iteration 359: RMSE=2.0594, MAE=2.0594\n",
      "2025-02-09 13:32:11,396 [13068] INFO     root: Metrics pushed at iteration 359. RMSE=2.0594, MAE=2.0594\n",
      "2025-02-09 13:32:11,521 [13068] INFO     root: Iteration 360: RMSE=2.2823, MAE=2.2823\n",
      "2025-02-09 13:32:11,638 [13068] INFO     root: Iteration 361: RMSE=1.9954, MAE=1.9954\n",
      "2025-02-09 13:32:11,758 [13068] INFO     root: Iteration 362: RMSE=0.6863, MAE=0.6863\n",
      "2025-02-09 13:32:11,859 [13068] INFO     root: Iteration 363: RMSE=1.2345, MAE=1.2345\n",
      "2025-02-09 13:32:11,959 [13068] INFO     root: Iteration 364: RMSE=0.1640, MAE=0.1640\n",
      "2025-02-09 13:32:12,062 [13068] INFO     root: Iteration 365: RMSE=0.1550, MAE=0.1550\n",
      "2025-02-09 13:32:12,154 [13068] INFO     root: Iteration 366: RMSE=1.6861, MAE=1.6861\n",
      "2025-02-09 13:32:12,239 [13068] INFO     root: Iteration 367: RMSE=1.7964, MAE=1.7964\n",
      "2025-02-09 13:32:12,346 [13068] INFO     root: Iteration 368: RMSE=2.2823, MAE=2.2823\n",
      "2025-02-09 13:32:12,457 [13068] INFO     root: Iteration 369: RMSE=2.2319, MAE=2.2319\n",
      "2025-02-09 13:32:12,579 [13068] INFO     root: Iteration 370: RMSE=5.8175, MAE=5.8175\n",
      "2025-02-09 13:32:12,679 [13068] INFO     root: Iteration 371: RMSE=2.2823, MAE=2.2823\n",
      "2025-02-09 13:32:12,785 [13068] INFO     root: Iteration 372: RMSE=7.1880, MAE=7.1880\n",
      "2025-02-09 13:32:12,890 [13068] INFO     root: Iteration 373: RMSE=0.0894, MAE=0.0894\n",
      "2025-02-09 13:32:13,030 [13068] INFO     root: Iteration 374: RMSE=4.2272, MAE=4.2272\n",
      "2025-02-09 13:32:13,334 [13068] INFO     root: Iteration 375: RMSE=1.0525, MAE=1.0525\n",
      "2025-02-09 13:32:13,577 [13068] INFO     root: Iteration 376: RMSE=0.1636, MAE=0.1636\n",
      "2025-02-09 13:32:13,712 [13068] INFO     root: Iteration 377: RMSE=2.9898, MAE=2.9898\n",
      "2025-02-09 13:32:13,856 [13068] INFO     root: Iteration 378: RMSE=2.1281, MAE=2.1281\n",
      "2025-02-09 13:32:14,002 [13068] INFO     root: Iteration 379: RMSE=2.4681, MAE=2.4681\n",
      "2025-02-09 13:32:14,259 [13068] INFO     root: Iteration 380: RMSE=5.8175, MAE=5.8175\n",
      "2025-02-09 13:32:14,414 [13068] INFO     root: Iteration 381: RMSE=0.8360, MAE=0.8360\n",
      "2025-02-09 13:32:14,645 [13068] INFO     root: Iteration 382: RMSE=2.9898, MAE=2.9898\n",
      "2025-02-09 13:32:14,745 [13068] INFO     ml_monitor.logging: Starting metrics logging thread...\n",
      "2025-02-09 13:32:14,836 [13068] INFO     root: Iteration 383: RMSE=0.8502, MAE=0.8502\n",
      "2025-02-09 13:32:15,021 [13068] INFO     root: Iteration 384: RMSE=1.2345, MAE=1.2345\n",
      "2025-02-09 13:32:15,202 [13068] INFO     root: Iteration 385: RMSE=1.3227, MAE=1.3227\n",
      "2025-02-09 13:32:15,379 [13068] INFO     root: Iteration 386: RMSE=1.9880, MAE=1.9880\n",
      "2025-02-09 13:32:15,557 [13068] INFO     root: Iteration 387: RMSE=3.0641, MAE=3.0641\n",
      "2025-02-09 13:32:15,733 [13068] INFO     root: Iteration 388: RMSE=1.9024, MAE=1.9024\n",
      "2025-02-09 13:32:15,870 [13068] INFO     root: Iteration 389: RMSE=3.0641, MAE=3.0641\n",
      "2025-02-09 13:32:16,026 [13068] INFO     root: Iteration 390: RMSE=1.7797, MAE=1.7797\n",
      "2025-02-09 13:32:16,219 [13068] INFO     root: Iteration 391: RMSE=5.1385, MAE=5.1385\n",
      "2025-02-09 13:32:16,567 [13068] INFO     root: Iteration 392: RMSE=3.0812, MAE=3.0812\n",
      "2025-02-09 13:32:16,691 [13068] INFO     root: Iteration 393: RMSE=0.1640, MAE=0.1640\n",
      "2025-02-09 13:32:16,811 [13068] INFO     root: Iteration 394: RMSE=0.9690, MAE=0.9690\n",
      "2025-02-09 13:32:16,919 [13068] INFO     root: Iteration 395: RMSE=5.8811, MAE=5.8811\n",
      "2025-02-09 13:32:17,018 [13068] INFO     root: Iteration 396: RMSE=1.9374, MAE=1.9374\n",
      "2025-02-09 13:32:17,132 [13068] INFO     root: Iteration 397: RMSE=3.1701, MAE=3.1701\n",
      "2025-02-09 13:32:17,244 [13068] INFO     root: Iteration 398: RMSE=1.5289, MAE=1.5289\n",
      "2025-02-09 13:32:17,379 [13068] INFO     root: Iteration 399: RMSE=4.2619, MAE=4.2619\n",
      "2025-02-09 13:32:17,556 [13068] INFO     root: Iteration 400: RMSE=0.8360, MAE=0.8360\n",
      "2025-02-09 13:32:17,690 [13068] INFO     root: Iteration 401: RMSE=6.5607, MAE=6.5607\n",
      "2025-02-09 13:32:17,829 [13068] INFO     root: Iteration 402: RMSE=0.5028, MAE=0.5028\n",
      "2025-02-09 13:32:17,965 [13068] INFO     root: Iteration 403: RMSE=0.8295, MAE=0.8295\n",
      "2025-02-09 13:32:18,110 [13068] INFO     root: Iteration 404: RMSE=5.1385, MAE=5.1385\n",
      "2025-02-09 13:32:18,228 [13068] INFO     root: Iteration 405: RMSE=1.2010, MAE=1.2010\n",
      "2025-02-09 13:32:18,354 [13068] INFO     root: Iteration 406: RMSE=2.6178, MAE=2.6178\n",
      "2025-02-09 13:32:18,455 [13068] INFO     root: Iteration 407: RMSE=3.6498, MAE=3.6498\n",
      "2025-02-09 13:32:18,584 [13068] INFO     root: Iteration 408: RMSE=4.2733, MAE=4.2733\n",
      "2025-02-09 13:32:18,693 [13068] INFO     root: Iteration 409: RMSE=4.8742, MAE=4.8742\n",
      "2025-02-09 13:32:18,805 [13068] INFO     root: Iteration 410: RMSE=0.2922, MAE=0.2922\n",
      "2025-02-09 13:32:18,900 [13068] INFO     root: Iteration 411: RMSE=0.9510, MAE=0.9510\n",
      "2025-02-09 13:32:19,009 [13068] INFO     root: Iteration 412: RMSE=2.5983, MAE=2.5983\n",
      "2025-02-09 13:32:19,122 [13068] INFO     root: Iteration 413: RMSE=2.2324, MAE=2.2324\n",
      "2025-02-09 13:32:19,216 [13068] INFO     root: Iteration 414: RMSE=0.6367, MAE=0.6367\n",
      "2025-02-09 13:32:19,320 [13068] INFO     root: Iteration 415: RMSE=1.3937, MAE=1.3937\n",
      "2025-02-09 13:32:19,415 [13068] INFO     root: Iteration 416: RMSE=1.0837, MAE=1.0837\n",
      "2025-02-09 13:32:19,543 [13068] INFO     root: Iteration 417: RMSE=2.7746, MAE=2.7746\n",
      "2025-02-09 13:32:19,644 [13068] INFO     root: Iteration 418: RMSE=2.1020, MAE=2.1020\n",
      "2025-02-09 13:32:19,738 [13068] INFO     root: Iteration 419: RMSE=0.1550, MAE=0.1550\n",
      "2025-02-09 13:32:19,779 [13068] INFO     ml_monitor.logging: Starting metrics logging thread...\n",
      "2025-02-09 13:32:19,847 [13068] INFO     root: Iteration 420: RMSE=5.8811, MAE=5.8811\n",
      "2025-02-09 13:32:19,951 [13068] INFO     root: Iteration 421: RMSE=3.0048, MAE=3.0048\n",
      "2025-02-09 13:32:20,045 [13068] INFO     root: Iteration 422: RMSE=5.3491, MAE=5.3491\n",
      "2025-02-09 13:32:20,216 [13068] INFO     root: Iteration 423: RMSE=0.8280, MAE=0.8280\n",
      "2025-02-09 13:32:20,531 [13068] INFO     root: Iteration 424: RMSE=4.2272, MAE=4.2272\n",
      "2025-02-09 13:32:20,698 [13068] INFO     root: Iteration 425: RMSE=1.2010, MAE=1.2010\n",
      "2025-02-09 13:32:20,851 [13068] INFO     root: Iteration 426: RMSE=3.1092, MAE=3.1092\n",
      "2025-02-09 13:32:21,009 [13068] INFO     root: Iteration 427: RMSE=0.8502, MAE=0.8502\n",
      "2025-02-09 13:32:21,677 [13068] INFO     root: Metrics pushed at iteration 427. RMSE=0.8502, MAE=0.8502\n",
      "2025-02-09 13:32:21,793 [13068] INFO     root: Iteration 428: RMSE=2.0594, MAE=2.0594\n",
      "2025-02-09 13:32:21,906 [13068] INFO     root: Iteration 429: RMSE=2.0594, MAE=2.0594\n",
      "2025-02-09 13:32:22,001 [13068] INFO     root: Iteration 430: RMSE=1.6668, MAE=1.6668\n",
      "2025-02-09 13:32:22,128 [13068] INFO     root: Iteration 431: RMSE=3.6498, MAE=3.6498\n",
      "2025-02-09 13:32:22,246 [13068] INFO     root: Iteration 432: RMSE=1.2345, MAE=1.2345\n",
      "2025-02-09 13:32:22,362 [13068] INFO     root: Iteration 433: RMSE=0.8502, MAE=0.8502\n",
      "2025-02-09 13:32:22,465 [13068] INFO     root: Iteration 434: RMSE=3.2950, MAE=3.2950\n",
      "2025-02-09 13:32:22,604 [13068] INFO     root: Iteration 435: RMSE=3.1092, MAE=3.1092\n",
      "2025-02-09 13:32:22,729 [13068] INFO     root: Iteration 436: RMSE=2.5855, MAE=2.5855\n",
      "2025-02-09 13:32:22,852 [13068] INFO     root: Iteration 437: RMSE=2.8002, MAE=2.8002\n",
      "2025-02-09 13:32:22,966 [13068] INFO     root: Iteration 438: RMSE=0.4278, MAE=0.4278\n",
      "2025-02-09 13:32:23,061 [13068] INFO     root: Iteration 439: RMSE=1.7964, MAE=1.7964\n",
      "2025-02-09 13:32:23,158 [13068] INFO     root: Iteration 440: RMSE=1.2841, MAE=1.2841\n",
      "2025-02-09 13:32:23,259 [13068] INFO     root: Iteration 441: RMSE=4.3700, MAE=4.3700\n",
      "2025-02-09 13:32:23,409 [13068] INFO     root: Iteration 442: RMSE=1.3227, MAE=1.3227\n",
      "2025-02-09 13:32:23,500 [13068] INFO     root: Iteration 443: RMSE=1.5289, MAE=1.5289\n",
      "2025-02-09 13:32:23,606 [13068] INFO     root: Iteration 444: RMSE=0.8360, MAE=0.8360\n",
      "2025-02-09 13:32:23,715 [13068] INFO     root: Iteration 445: RMSE=6.5607, MAE=6.5607\n",
      "2025-02-09 13:32:23,805 [13068] INFO     root: Iteration 446: RMSE=3.1092, MAE=3.1092\n",
      "2025-02-09 13:32:23,910 [13068] INFO     root: Iteration 447: RMSE=2.9898, MAE=2.9898\n",
      "2025-02-09 13:32:24,014 [13068] INFO     root: Iteration 448: RMSE=5.1399, MAE=5.1399\n",
      "2025-02-09 13:32:24,120 [13068] INFO     root: Iteration 449: RMSE=2.4681, MAE=2.4681\n",
      "2025-02-09 13:32:24,253 [13068] INFO     root: Iteration 450: RMSE=0.5028, MAE=0.5028\n",
      "2025-02-09 13:32:24,392 [13068] INFO     root: Iteration 451: RMSE=5.8175, MAE=5.8175\n",
      "2025-02-09 13:32:24,495 [13068] INFO     root: Iteration 452: RMSE=0.1636, MAE=0.1636\n",
      "2025-02-09 13:32:24,586 [13068] INFO     root: Iteration 453: RMSE=2.7728, MAE=2.7728\n",
      "2025-02-09 13:32:24,676 [13068] INFO     root: Iteration 454: RMSE=5.0666, MAE=5.0666\n",
      "2025-02-09 13:32:24,777 [13068] INFO     root: Iteration 455: RMSE=1.2841, MAE=1.2841\n",
      "2025-02-09 13:32:24,804 [13068] INFO     ml_monitor.logging: Starting metrics logging thread...\n",
      "2025-02-09 13:32:24,887 [13068] INFO     root: Iteration 456: RMSE=2.6178, MAE=2.6178\n",
      "2025-02-09 13:32:24,990 [13068] INFO     root: Iteration 457: RMSE=2.4407, MAE=2.4407\n",
      "2025-02-09 13:32:25,081 [13068] INFO     root: Iteration 458: RMSE=0.8280, MAE=0.8280\n",
      "2025-02-09 13:32:25,177 [13068] INFO     root: Iteration 459: RMSE=3.9228, MAE=3.9228\n",
      "2025-02-09 13:32:25,266 [13068] INFO     root: Iteration 460: RMSE=0.4811, MAE=0.4811\n",
      "2025-02-09 13:32:25,364 [13068] INFO     root: Iteration 461: RMSE=15.7679, MAE=15.7679\n",
      "2025-02-09 13:32:25,478 [13068] INFO     root: Iteration 462: RMSE=0.5423, MAE=0.5423\n",
      "2025-02-09 13:32:25,575 [13068] INFO     root: Iteration 463: RMSE=4.3271, MAE=4.3271\n",
      "2025-02-09 13:32:25,672 [13068] INFO     root: Iteration 464: RMSE=3.0641, MAE=3.0641\n",
      "2025-02-09 13:32:25,760 [13068] INFO     root: Iteration 465: RMSE=1.0783, MAE=1.0783\n",
      "2025-02-09 13:32:25,972 [13068] INFO     root: Iteration 466: RMSE=2.2324, MAE=2.2324\n",
      "2025-02-09 13:32:26,059 [13068] INFO     root: Iteration 467: RMSE=7.1962, MAE=7.1962\n",
      "2025-02-09 13:32:26,173 [13068] INFO     root: Iteration 468: RMSE=7.1880, MAE=7.1880\n",
      "2025-02-09 13:32:26,305 [13068] INFO     root: Iteration 469: RMSE=2.1957, MAE=2.1957\n",
      "2025-02-09 13:32:26,415 [13068] INFO     root: Iteration 470: RMSE=5.1399, MAE=5.1399\n",
      "2025-02-09 13:32:26,533 [13068] INFO     root: Iteration 471: RMSE=3.2950, MAE=3.2950\n",
      "2025-02-09 13:32:26,642 [13068] INFO     root: Iteration 472: RMSE=2.6178, MAE=2.6178\n",
      "2025-02-09 13:32:26,742 [13068] INFO     root: Iteration 473: RMSE=5.3491, MAE=5.3491\n",
      "2025-02-09 13:32:26,863 [13068] INFO     root: Iteration 474: RMSE=2.2823, MAE=2.2823\n",
      "2025-02-09 13:32:26,955 [13068] INFO     root: Iteration 475: RMSE=0.0894, MAE=0.0894\n",
      "2025-02-09 13:32:27,072 [13068] INFO     root: Iteration 476: RMSE=0.6367, MAE=0.6367\n",
      "2025-02-09 13:32:27,170 [13068] INFO     root: Iteration 477: RMSE=3.1701, MAE=3.1701\n",
      "2025-02-09 13:32:27,279 [13068] INFO     root: Iteration 478: RMSE=6.4895, MAE=6.4895\n",
      "2025-02-09 13:32:27,599 [13068] INFO     root: Iteration 479: RMSE=0.2445, MAE=0.2445\n",
      "2025-02-09 13:32:27,726 [13068] INFO     root: Iteration 480: RMSE=0.8502, MAE=0.8502\n",
      "2025-02-09 13:32:27,840 [13068] INFO     root: Iteration 481: RMSE=0.5028, MAE=0.5028\n",
      "2025-02-09 13:32:27,948 [13068] INFO     root: Iteration 482: RMSE=2.7728, MAE=2.7728\n",
      "2025-02-09 13:32:28,056 [13068] INFO     root: Iteration 483: RMSE=0.2445, MAE=0.2445\n",
      "2025-02-09 13:32:28,167 [13068] INFO     root: Iteration 484: RMSE=0.2445, MAE=0.2445\n",
      "2025-02-09 13:32:28,287 [13068] INFO     root: Iteration 485: RMSE=0.8280, MAE=0.8280\n",
      "2025-02-09 13:32:28,402 [13068] INFO     root: Iteration 486: RMSE=0.1636, MAE=0.1636\n",
      "2025-02-09 13:32:28,549 [13068] INFO     root: Iteration 487: RMSE=1.0837, MAE=1.0837\n",
      "2025-02-09 13:32:28,677 [13068] INFO     root: Iteration 488: RMSE=4.3271, MAE=4.3271\n",
      "2025-02-09 13:32:28,834 [13068] INFO     root: Iteration 489: RMSE=2.5983, MAE=2.5983\n",
      "2025-02-09 13:32:28,962 [13068] INFO     root: Iteration 490: RMSE=1.2841, MAE=1.2841\n",
      "2025-02-09 13:32:29,077 [13068] INFO     root: Iteration 491: RMSE=0.5423, MAE=0.5423\n",
      "2025-02-09 13:32:29,195 [13068] INFO     root: Iteration 492: RMSE=0.4278, MAE=0.4278\n",
      "2025-02-09 13:32:29,396 [13068] INFO     root: Iteration 493: RMSE=3.9228, MAE=3.9228\n",
      "2025-02-09 13:32:29,611 [13068] INFO     root: Iteration 494: RMSE=5.1399, MAE=5.1399\n",
      "2025-02-09 13:32:29,751 [13068] INFO     root: Iteration 495: RMSE=2.1281, MAE=2.1281\n",
      "2025-02-09 13:32:29,846 [13068] INFO     ml_monitor.logging: Starting metrics logging thread...\n",
      "2025-02-09 13:32:29,982 [13068] INFO     root: Iteration 496: RMSE=1.0783, MAE=1.0783\n",
      "2025-02-09 13:32:30,270 [13068] INFO     root: Iteration 497: RMSE=0.2445, MAE=0.2445\n",
      "2025-02-09 13:32:30,460 [13068] INFO     root: Iteration 498: RMSE=6.5607, MAE=6.5607\n",
      "2025-02-09 13:32:30,663 [13068] INFO     root: Iteration 499: RMSE=1.3937, MAE=1.3937\n",
      "2025-02-09 13:32:30,814 [13068] INFO     root: Iteration 500: RMSE=0.9176, MAE=0.9176\n",
      "2025-02-09 13:32:30,973 [13068] INFO     root: Iteration 501: RMSE=2.7746, MAE=2.7746\n",
      "2025-02-09 13:32:31,092 [13068] INFO     root: Iteration 502: RMSE=1.7964, MAE=1.7964\n",
      "2025-02-09 13:32:31,650 [13068] INFO     root: Metrics pushed at iteration 502. RMSE=1.7964, MAE=1.7964\n",
      "2025-02-09 13:32:31,771 [13068] INFO     root: Iteration 503: RMSE=15.7679, MAE=15.7679\n",
      "2025-02-09 13:32:31,878 [13068] INFO     root: Iteration 504: RMSE=5.2814, MAE=5.2814\n",
      "2025-02-09 13:32:32,022 [13068] INFO     root: Iteration 505: RMSE=0.1550, MAE=0.1550\n",
      "2025-02-09 13:32:32,141 [13068] INFO     root: Iteration 506: RMSE=3.1701, MAE=3.1701\n",
      "2025-02-09 13:32:32,263 [13068] INFO     root: Iteration 507: RMSE=0.6277, MAE=0.6277\n",
      "2025-02-09 13:32:32,378 [13068] INFO     root: Iteration 508: RMSE=1.0837, MAE=1.0837\n",
      "2025-02-09 13:32:32,477 [13068] INFO     root: Iteration 509: RMSE=1.0341, MAE=1.0341\n",
      "2025-02-09 13:32:32,610 [13068] INFO     root: Iteration 510: RMSE=0.8360, MAE=0.8360\n",
      "2025-02-09 13:32:32,720 [13068] INFO     root: Iteration 511: RMSE=2.7728, MAE=2.7728\n",
      "2025-02-09 13:32:32,829 [13068] INFO     root: Iteration 512: RMSE=7.4122, MAE=7.4122\n",
      "2025-02-09 13:32:32,928 [13068] INFO     root: Iteration 513: RMSE=0.5329, MAE=0.5329\n",
      "2025-02-09 13:32:33,032 [13068] INFO     root: Iteration 514: RMSE=2.2319, MAE=2.2319\n",
      "2025-02-09 13:32:33,122 [13068] INFO     root: Iteration 515: RMSE=1.9374, MAE=1.9374\n",
      "2025-02-09 13:32:33,204 [13068] INFO     root: Iteration 516: RMSE=5.0666, MAE=5.0666\n",
      "2025-02-09 13:32:33,292 [13068] INFO     root: Iteration 517: RMSE=0.9176, MAE=0.9176\n",
      "2025-02-09 13:32:33,374 [13068] INFO     root: Iteration 518: RMSE=0.0329, MAE=0.0329\n",
      "2025-02-09 13:32:33,472 [13068] INFO     root: Iteration 519: RMSE=5.8811, MAE=5.8811\n",
      "2025-02-09 13:32:33,580 [13068] INFO     root: Iteration 520: RMSE=5.1399, MAE=5.1399\n",
      "2025-02-09 13:32:33,665 [13068] INFO     root: Iteration 521: RMSE=4.2733, MAE=4.2733\n",
      "2025-02-09 13:32:33,758 [13068] INFO     root: Iteration 522: RMSE=1.2345, MAE=1.2345\n",
      "2025-02-09 13:32:33,843 [13068] INFO     root: Iteration 523: RMSE=1.5147, MAE=1.5147\n",
      "2025-02-09 13:32:33,925 [13068] INFO     root: Iteration 524: RMSE=1.9374, MAE=1.9374\n",
      "2025-02-09 13:32:34,034 [13068] INFO     root: Iteration 525: RMSE=0.8502, MAE=0.8502\n",
      "2025-02-09 13:32:34,148 [13068] INFO     root: Iteration 526: RMSE=1.9880, MAE=1.9880\n",
      "2025-02-09 13:32:34,249 [13068] INFO     root: Iteration 527: RMSE=4.2530, MAE=4.2530\n",
      "2025-02-09 13:32:34,343 [13068] INFO     root: Iteration 528: RMSE=3.1092, MAE=3.1092\n",
      "2025-02-09 13:32:34,437 [13068] INFO     root: Iteration 529: RMSE=1.0783, MAE=1.0783\n",
      "2025-02-09 13:32:34,539 [13068] INFO     root: Iteration 530: RMSE=2.0594, MAE=2.0594\n",
      "2025-02-09 13:32:34,629 [13068] INFO     root: Iteration 531: RMSE=2.1957, MAE=2.1957\n",
      "2025-02-09 13:32:34,722 [13068] INFO     root: Iteration 532: RMSE=0.4278, MAE=0.4278\n",
      "2025-02-09 13:32:34,807 [13068] INFO     root: Iteration 533: RMSE=1.9024, MAE=1.9024\n",
      "2025-02-09 13:32:34,874 [13068] INFO     ml_monitor.logging: Starting metrics logging thread...\n",
      "2025-02-09 13:32:34,917 [13068] INFO     root: Iteration 534: RMSE=2.1957, MAE=2.1957\n",
      "2025-02-09 13:32:35,023 [13068] INFO     root: Iteration 535: RMSE=1.2010, MAE=1.2010\n",
      "2025-02-09 13:32:35,127 [13068] INFO     root: Iteration 536: RMSE=0.1636, MAE=0.1636\n",
      "2025-02-09 13:32:35,233 [13068] INFO     root: Iteration 537: RMSE=2.7728, MAE=2.7728\n",
      "2025-02-09 13:32:35,346 [13068] INFO     root: Iteration 538: RMSE=1.9374, MAE=1.9374\n",
      "2025-02-09 13:32:35,454 [13068] INFO     root: Iteration 539: RMSE=4.2272, MAE=4.2272\n",
      "2025-02-09 13:32:35,570 [13068] INFO     root: Iteration 540: RMSE=3.6498, MAE=3.6498\n",
      "2025-02-09 13:32:35,699 [13068] INFO     root: Iteration 541: RMSE=0.0894, MAE=0.0894\n",
      "2025-02-09 13:32:35,804 [13068] INFO     root: Iteration 542: RMSE=0.1636, MAE=0.1636\n",
      "2025-02-09 13:32:35,902 [13068] INFO     root: Iteration 543: RMSE=5.1399, MAE=5.1399\n",
      "2025-02-09 13:32:35,996 [13068] INFO     root: Iteration 544: RMSE=6.4895, MAE=6.4895\n",
      "2025-02-09 13:32:36,167 [13068] INFO     root: Iteration 545: RMSE=1.0837, MAE=1.0837\n",
      "2025-02-09 13:32:36,275 [13068] INFO     root: Iteration 546: RMSE=4.3271, MAE=4.3271\n",
      "2025-02-09 13:32:36,436 [13068] INFO     root: Iteration 547: RMSE=7.1880, MAE=7.1880\n",
      "2025-02-09 13:32:36,565 [13068] INFO     root: Iteration 548: RMSE=5.1399, MAE=5.1399\n",
      "2025-02-09 13:32:36,677 [13068] INFO     root: Iteration 549: RMSE=2.4091, MAE=2.4091\n",
      "2025-02-09 13:32:36,800 [13068] INFO     root: Iteration 550: RMSE=0.0329, MAE=0.0329\n",
      "2025-02-09 13:32:36,920 [13068] INFO     root: Iteration 551: RMSE=5.8175, MAE=5.8175\n",
      "2025-02-09 13:32:37,036 [13068] INFO     root: Iteration 552: RMSE=2.7746, MAE=2.7746\n",
      "2025-02-09 13:32:37,171 [13068] INFO     root: Iteration 553: RMSE=21.1875, MAE=21.1875\n",
      "2025-02-09 13:32:37,299 [13068] INFO     root: Iteration 554: RMSE=1.7797, MAE=1.7797\n",
      "2025-02-09 13:32:37,423 [13068] INFO     root: Iteration 555: RMSE=3.0048, MAE=3.0048\n",
      "2025-02-09 13:32:37,541 [13068] INFO     root: Iteration 556: RMSE=1.9954, MAE=1.9954\n",
      "2025-02-09 13:32:37,651 [13068] INFO     root: Iteration 557: RMSE=0.9176, MAE=0.9176\n",
      "2025-02-09 13:32:37,762 [13068] INFO     root: Iteration 558: RMSE=2.1957, MAE=2.1957\n",
      "2025-02-09 13:32:37,876 [13068] INFO     root: Iteration 559: RMSE=4.8742, MAE=4.8742\n",
      "2025-02-09 13:32:37,971 [13068] INFO     root: Iteration 560: RMSE=3.2950, MAE=3.2950\n",
      "2025-02-09 13:32:38,106 [13068] INFO     root: Iteration 561: RMSE=7.1880, MAE=7.1880\n",
      "2025-02-09 13:32:38,293 [13068] INFO     root: Iteration 562: RMSE=0.4554, MAE=0.4554\n",
      "2025-02-09 13:32:38,392 [13068] INFO     root: Iteration 563: RMSE=0.2922, MAE=0.2922\n",
      "2025-02-09 13:32:38,525 [13068] INFO     root: Iteration 564: RMSE=1.5147, MAE=1.5147\n",
      "2025-02-09 13:32:38,639 [13068] INFO     root: Iteration 565: RMSE=0.5028, MAE=0.5028\n",
      "2025-02-09 13:32:38,776 [13068] INFO     root: Iteration 566: RMSE=0.6004, MAE=0.6004\n",
      "2025-02-09 13:32:38,892 [13068] INFO     root: Iteration 567: RMSE=2.4681, MAE=2.4681\n",
      "2025-02-09 13:32:39,003 [13068] INFO     root: Iteration 568: RMSE=1.0837, MAE=1.0837\n",
      "2025-02-09 13:32:39,116 [13068] INFO     root: Iteration 569: RMSE=1.5289, MAE=1.5289\n",
      "2025-02-09 13:32:39,277 [13068] INFO     root: Iteration 570: RMSE=1.9834, MAE=1.9834\n",
      "2025-02-09 13:32:39,411 [13068] INFO     root: Iteration 571: RMSE=0.5329, MAE=0.5329\n",
      "2025-02-09 13:32:39,531 [13068] INFO     root: Iteration 572: RMSE=0.4554, MAE=0.4554\n",
      "2025-02-09 13:32:39,670 [13068] INFO     root: Iteration 573: RMSE=2.0594, MAE=2.0594\n",
      "2025-02-09 13:32:39,897 [13068] INFO     ml_monitor.logging: Starting metrics logging thread...\n",
      "2025-02-09 13:32:39,982 [13068] INFO     root: Iteration 574: RMSE=1.9954, MAE=1.9954\n",
      "2025-02-09 13:32:40,164 [13068] INFO     root: Iteration 575: RMSE=3.9035, MAE=3.9035\n",
      "2025-02-09 13:32:40,355 [13068] INFO     root: Iteration 576: RMSE=1.2345, MAE=1.2345\n",
      "2025-02-09 13:32:40,512 [13068] INFO     root: Iteration 577: RMSE=4.8742, MAE=4.8742\n",
      "2025-02-09 13:32:40,664 [13068] INFO     root: Iteration 578: RMSE=0.5423, MAE=0.5423\n",
      "2025-02-09 13:32:40,825 [13068] INFO     root: Iteration 579: RMSE=4.2619, MAE=4.2619\n",
      "2025-02-09 13:32:40,979 [13068] INFO     root: Iteration 580: RMSE=2.0594, MAE=2.0594\n",
      "2025-02-09 13:32:41,118 [13068] INFO     root: Iteration 581: RMSE=0.4278, MAE=0.4278\n",
      "2025-02-09 13:32:41,851 [13068] INFO     root: Metrics pushed at iteration 581. RMSE=0.4278, MAE=0.4278\n",
      "2025-02-09 13:32:41,991 [13068] INFO     root: Iteration 582: RMSE=2.9898, MAE=2.9898\n",
      "2025-02-09 13:32:42,113 [13068] INFO     root: Iteration 583: RMSE=0.5329, MAE=0.5329\n",
      "2025-02-09 13:32:42,241 [13068] INFO     root: Iteration 584: RMSE=2.6178, MAE=2.6178\n",
      "2025-02-09 13:32:42,360 [13068] INFO     root: Iteration 585: RMSE=3.1701, MAE=3.1701\n",
      "2025-02-09 13:32:42,485 [13068] INFO     root: Iteration 586: RMSE=1.5289, MAE=1.5289\n",
      "2025-02-09 13:32:42,606 [13068] INFO     root: Iteration 587: RMSE=0.8280, MAE=0.8280\n",
      "2025-02-09 13:32:42,724 [13068] INFO     root: Iteration 588: RMSE=3.1092, MAE=3.1092\n",
      "2025-02-09 13:32:42,840 [13068] INFO     root: Iteration 589: RMSE=1.0525, MAE=1.0525\n",
      "2025-02-09 13:32:42,929 [13068] INFO     root: Iteration 590: RMSE=5.2814, MAE=5.2814\n",
      "2025-02-09 13:32:43,024 [13068] INFO     root: Iteration 591: RMSE=1.9834, MAE=1.9834\n",
      "2025-02-09 13:32:43,129 [13068] INFO     root: Iteration 592: RMSE=0.1640, MAE=0.1640\n",
      "2025-02-09 13:32:43,237 [13068] INFO     root: Iteration 593: RMSE=2.5855, MAE=2.5855\n",
      "2025-02-09 13:32:43,330 [13068] INFO     root: Iteration 594: RMSE=3.6498, MAE=3.6498\n",
      "2025-02-09 13:32:43,434 [13068] INFO     root: Iteration 595: RMSE=5.1385, MAE=5.1385\n",
      "2025-02-09 13:32:43,525 [13068] INFO     root: Iteration 596: RMSE=4.3271, MAE=4.3271\n",
      "2025-02-09 13:32:43,624 [13068] INFO     root: Iteration 597: RMSE=0.6863, MAE=0.6863\n",
      "2025-02-09 13:32:43,732 [13068] INFO     root: Iteration 598: RMSE=1.5147, MAE=1.5147\n",
      "2025-02-09 13:32:43,827 [13068] INFO     root: Iteration 599: RMSE=1.0525, MAE=1.0525\n",
      "2025-02-09 13:32:43,924 [13068] INFO     root: Iteration 600: RMSE=5.8175, MAE=5.8175\n",
      "2025-02-09 13:32:44,011 [13068] INFO     root: Iteration 601: RMSE=4.2733, MAE=4.2733\n",
      "2025-02-09 13:32:44,105 [13068] INFO     root: Iteration 602: RMSE=3.9228, MAE=3.9228\n",
      "2025-02-09 13:32:44,208 [13068] INFO     root: Iteration 603: RMSE=1.6861, MAE=1.6861\n",
      "2025-02-09 13:32:44,304 [13068] INFO     root: Iteration 604: RMSE=0.1636, MAE=0.1636\n",
      "2025-02-09 13:32:44,395 [13068] INFO     root: Iteration 605: RMSE=1.2010, MAE=1.2010\n",
      "2025-02-09 13:32:44,545 [13068] INFO     root: Iteration 606: RMSE=4.3271, MAE=4.3271\n",
      "2025-02-09 13:32:44,651 [13068] INFO     root: Iteration 607: RMSE=1.2010, MAE=1.2010\n",
      "2025-02-09 13:32:44,764 [13068] INFO     root: Iteration 608: RMSE=0.9690, MAE=0.9690\n",
      "2025-02-09 13:32:44,918 [13068] INFO     root: Iteration 609: RMSE=4.3271, MAE=4.3271\n",
      "2025-02-09 13:32:44,952 [13068] INFO     ml_monitor.logging: Starting metrics logging thread...\n",
      "2025-02-09 13:32:45,061 [13068] INFO     root: Iteration 610: RMSE=1.0525, MAE=1.0525\n",
      "2025-02-09 13:32:45,271 [13068] INFO     root: Iteration 611: RMSE=0.1550, MAE=0.1550\n",
      "2025-02-09 13:32:45,389 [13068] INFO     root: Iteration 612: RMSE=1.2010, MAE=1.2010\n",
      "2025-02-09 13:32:45,569 [13068] INFO     root: Iteration 613: RMSE=4.3271, MAE=4.3271\n",
      "2025-02-09 13:32:45,691 [13068] INFO     root: Iteration 614: RMSE=1.9891, MAE=1.9891\n",
      "2025-02-09 13:32:45,788 [13068] INFO     root: Iteration 615: RMSE=4.8742, MAE=4.8742\n",
      "2025-02-09 13:32:45,902 [13068] INFO     root: Iteration 616: RMSE=2.1020, MAE=2.1020\n",
      "2025-02-09 13:32:46,023 [13068] INFO     root: Iteration 617: RMSE=0.6367, MAE=0.6367\n",
      "2025-02-09 13:32:46,175 [13068] INFO     root: Iteration 618: RMSE=0.1640, MAE=0.1640\n",
      "2025-02-09 13:32:46,304 [13068] INFO     root: Iteration 619: RMSE=0.2356, MAE=0.2356\n",
      "2025-02-09 13:32:46,465 [13068] INFO     root: Iteration 620: RMSE=7.1880, MAE=7.1880\n",
      "2025-02-09 13:32:46,630 [13068] INFO     root: Iteration 621: RMSE=5.8175, MAE=5.8175\n",
      "2025-02-09 13:32:46,759 [13068] INFO     root: Iteration 622: RMSE=15.7679, MAE=15.7679\n",
      "2025-02-09 13:32:46,889 [13068] INFO     root: Iteration 623: RMSE=15.7679, MAE=15.7679\n",
      "2025-02-09 13:32:47,041 [13068] INFO     root: Iteration 624: RMSE=2.0594, MAE=2.0594\n",
      "2025-02-09 13:32:47,150 [13068] INFO     root: Iteration 625: RMSE=3.2950, MAE=3.2950\n",
      "2025-02-09 13:32:47,451 [13068] INFO     root: Iteration 626: RMSE=2.5983, MAE=2.5983\n",
      "2025-02-09 13:32:47,678 [13068] INFO     root: Iteration 627: RMSE=0.5329, MAE=0.5329\n",
      "2025-02-09 13:32:47,902 [13068] INFO     root: Iteration 628: RMSE=5.3491, MAE=5.3491\n",
      "2025-02-09 13:32:48,076 [13068] INFO     root: Iteration 629: RMSE=2.4681, MAE=2.4681\n",
      "2025-02-09 13:32:48,216 [13068] INFO     root: Iteration 630: RMSE=0.6863, MAE=0.6863\n",
      "2025-02-09 13:32:48,376 [13068] INFO     root: Iteration 631: RMSE=2.9898, MAE=2.9898\n",
      "2025-02-09 13:32:48,541 [13068] INFO     root: Iteration 632: RMSE=0.8502, MAE=0.8502\n",
      "2025-02-09 13:32:48,655 [13068] INFO     root: Iteration 633: RMSE=0.9690, MAE=0.9690\n",
      "2025-02-09 13:32:48,766 [13068] INFO     root: Iteration 634: RMSE=1.6668, MAE=1.6668\n",
      "2025-02-09 13:32:48,877 [13068] INFO     root: Iteration 635: RMSE=6.3484, MAE=6.3484\n",
      "2025-02-09 13:32:48,983 [13068] INFO     root: Iteration 636: RMSE=1.7797, MAE=1.7797\n",
      "2025-02-09 13:32:49,089 [13068] INFO     root: Iteration 637: RMSE=0.6863, MAE=0.6863\n",
      "2025-02-09 13:32:49,191 [13068] INFO     root: Iteration 638: RMSE=1.9891, MAE=1.9891\n",
      "2025-02-09 13:32:49,299 [13068] INFO     root: Iteration 639: RMSE=1.5289, MAE=1.5289\n",
      "2025-02-09 13:32:49,437 [13068] INFO     root: Iteration 640: RMSE=1.0525, MAE=1.0525\n",
      "2025-02-09 13:32:49,614 [13068] INFO     root: Iteration 641: RMSE=0.1136, MAE=0.1136\n",
      "2025-02-09 13:32:49,729 [13068] INFO     root: Iteration 642: RMSE=0.9690, MAE=0.9690\n",
      "2025-02-09 13:32:49,843 [13068] INFO     root: Iteration 643: RMSE=3.0641, MAE=3.0641\n",
      "2025-02-09 13:32:49,950 [13068] INFO     root: Iteration 644: RMSE=0.2922, MAE=0.2922\n",
      "2025-02-09 13:32:49,986 [13068] INFO     ml_monitor.logging: Starting metrics logging thread...\n",
      "2025-02-09 13:32:50,073 [13068] INFO     root: Iteration 645: RMSE=4.3271, MAE=4.3271\n",
      "2025-02-09 13:32:50,211 [13068] INFO     root: Iteration 646: RMSE=2.5983, MAE=2.5983\n",
      "2025-02-09 13:32:50,320 [13068] INFO     root: Iteration 647: RMSE=0.8360, MAE=0.8360\n",
      "2025-02-09 13:32:50,447 [13068] INFO     root: Iteration 648: RMSE=1.5147, MAE=1.5147\n",
      "2025-02-09 13:32:50,599 [13068] INFO     root: Iteration 649: RMSE=2.2319, MAE=2.2319\n",
      "2025-02-09 13:32:50,728 [13068] INFO     root: Iteration 650: RMSE=0.6004, MAE=0.6004\n",
      "2025-02-09 13:32:50,897 [13068] INFO     root: Iteration 651: RMSE=6.4895, MAE=6.4895\n",
      "2025-02-09 13:32:51,038 [13068] INFO     root: Iteration 652: RMSE=0.1636, MAE=0.1636\n",
      "2025-02-09 13:32:51,160 [13068] INFO     root: Iteration 653: RMSE=6.4895, MAE=6.4895\n",
      "2025-02-09 13:32:51,860 [13068] INFO     root: Metrics pushed at iteration 653. RMSE=6.4895, MAE=6.4895\n",
      "2025-02-09 13:32:51,986 [13068] INFO     root: Iteration 654: RMSE=1.6668, MAE=1.6668\n",
      "2025-02-09 13:32:52,168 [13068] INFO     root: Iteration 655: RMSE=0.5423, MAE=0.5423\n",
      "2025-02-09 13:32:52,468 [13068] INFO     root: Iteration 656: RMSE=3.1701, MAE=3.1701\n",
      "2025-02-09 13:32:54,065 [13068] INFO     root: Iteration 657: RMSE=21.1875, MAE=21.1875\n",
      "2025-02-09 13:32:55,046 [13068] INFO     ml_monitor.logging: Starting metrics logging thread...\n",
      "2025-02-09 13:32:56,092 [13068] INFO     root: Iteration 658: RMSE=0.2356, MAE=0.2356\n",
      "2025-02-09 13:32:56,627 [13068] INFO     root: Iteration 659: RMSE=3.2372, MAE=3.2372\n",
      "2025-02-09 13:33:00,355 [13068] INFO     root: Iteration 660: RMSE=0.1636, MAE=0.1636\n",
      "2025-02-09 13:33:00,640 [13068] INFO     ml_monitor.logging: Starting metrics logging thread...\n",
      "2025-02-09 13:33:06,118 [13068] INFO     ml_monitor.logging: Starting metrics logging thread...\n",
      "2025-02-09 13:33:06,748 [13068] INFO     root: Iteration 661: RMSE=3.0048, MAE=3.0048\n",
      "2025-02-09 13:33:10,761 [13068] INFO     root: Metrics pushed at iteration 661. RMSE=3.0048, MAE=3.0048\n",
      "2025-02-09 13:33:10,970 [13068] INFO     root: Iteration 662: RMSE=2.4681, MAE=2.4681\n",
      "2025-02-09 13:33:11,211 [13068] INFO     root: Iteration 663: RMSE=6.3484, MAE=6.3484\n",
      "2025-02-09 13:33:11,405 [13068] INFO     root: Iteration 664: RMSE=0.8502, MAE=0.8502\n",
      "2025-02-09 13:33:11,753 [13068] INFO     root: Iteration 665: RMSE=0.6004, MAE=0.6004\n",
      "2025-02-09 13:33:11,843 [13068] INFO     ml_monitor.logging: Starting metrics logging thread...\n",
      "2025-02-09 13:33:11,963 [13068] INFO     root: Iteration 666: RMSE=5.8811, MAE=5.8811\n",
      "2025-02-09 13:33:12,135 [13068] INFO     root: Iteration 667: RMSE=7.4122, MAE=7.4122\n",
      "2025-02-09 13:33:12,517 [13068] INFO     root: Iteration 668: RMSE=5.8811, MAE=5.8811\n",
      "2025-02-09 13:33:13,820 [13068] INFO     root: Iteration 669: RMSE=1.9954, MAE=1.9954\n",
      "2025-02-09 13:33:14,029 [13068] INFO     root: Iteration 670: RMSE=0.4053, MAE=0.4053\n",
      "2025-02-09 13:33:14,233 [13068] INFO     root: Iteration 671: RMSE=4.8742, MAE=4.8742\n",
      "2025-02-09 13:33:14,484 [13068] INFO     root: Iteration 672: RMSE=0.0190, MAE=0.0190\n",
      "2025-02-09 13:33:15,558 [13068] INFO     root: Iteration 673: RMSE=3.2372, MAE=3.2372\n",
      "2025-02-09 13:33:15,788 [13068] INFO     root: Iteration 674: RMSE=4.2733, MAE=4.2733\n",
      "2025-02-09 13:33:16,122 [13068] INFO     root: Iteration 675: RMSE=2.1957, MAE=2.1957\n",
      "2025-02-09 13:33:16,348 [13068] INFO     root: Iteration 676: RMSE=4.3700, MAE=4.3700\n",
      "2025-02-09 13:33:16,678 [13068] INFO     root: Iteration 677: RMSE=0.1136, MAE=0.1136\n",
      "2025-02-09 13:33:16,905 [13068] INFO     root: Iteration 678: RMSE=0.0329, MAE=0.0329\n",
      "2025-02-09 13:33:17,019 [13068] INFO     ml_monitor.logging: Starting metrics logging thread...\n",
      "2025-02-09 13:33:17,330 [13068] INFO     root: Iteration 679: RMSE=3.1092, MAE=3.1092\n",
      "2025-02-09 13:33:19,256 [13068] INFO     root: Metrics pushed at iteration 679. RMSE=3.1092, MAE=3.1092\n",
      "2025-02-09 13:33:19,660 [13068] INFO     root: Iteration 680: RMSE=1.9470, MAE=1.9470\n",
      "2025-02-09 13:33:20,397 [13068] INFO     root: Iteration 681: RMSE=2.9898, MAE=2.9898\n",
      "2025-02-09 13:33:20,711 [13068] INFO     root: Iteration 682: RMSE=0.4811, MAE=0.4811\n",
      "2025-02-09 13:33:20,965 [13068] INFO     root: Iteration 683: RMSE=1.9024, MAE=1.9024\n",
      "2025-02-09 13:33:21,249 [13068] INFO     root: Iteration 684: RMSE=0.6367, MAE=0.6367\n",
      "2025-02-09 13:33:21,456 [13068] INFO     root: Iteration 685: RMSE=1.9834, MAE=1.9834\n",
      "2025-02-09 13:33:21,701 [13068] INFO     root: Iteration 686: RMSE=0.9201, MAE=0.9201\n",
      "2025-02-09 13:33:21,918 [13068] INFO     root: Iteration 687: RMSE=0.4053, MAE=0.4053\n",
      "2025-02-09 13:33:22,076 [13068] INFO     root: Iteration 688: RMSE=4.2530, MAE=4.2530\n",
      "2025-02-09 13:33:22,198 [13068] INFO     ml_monitor.logging: Starting metrics logging thread...\n",
      "2025-02-09 13:33:22,358 [13068] INFO     root: Iteration 689: RMSE=6.5607, MAE=6.5607\n",
      "2025-02-09 13:33:22,699 [13068] INFO     root: Iteration 690: RMSE=3.0812, MAE=3.0812\n",
      "2025-02-09 13:33:22,988 [13068] INFO     root: Iteration 691: RMSE=2.0594, MAE=2.0594\n",
      "2025-02-09 13:33:23,272 [13068] INFO     root: Iteration 692: RMSE=2.0594, MAE=2.0594\n",
      "2025-02-09 13:33:23,579 [13068] INFO     root: Iteration 693: RMSE=5.8811, MAE=5.8811\n",
      "2025-02-09 13:33:23,916 [13068] INFO     root: Iteration 694: RMSE=1.2010, MAE=1.2010\n",
      "2025-02-09 13:33:24,203 [13068] INFO     root: Iteration 695: RMSE=7.1880, MAE=7.1880\n",
      "2025-02-09 13:33:24,406 [13068] INFO     root: Iteration 696: RMSE=1.5147, MAE=1.5147\n",
      "2025-02-09 13:33:24,714 [13068] INFO     root: Iteration 697: RMSE=2.4091, MAE=2.4091\n",
      "2025-02-09 13:33:24,959 [13068] INFO     root: Iteration 698: RMSE=1.0341, MAE=1.0341\n",
      "2025-02-09 13:33:25,181 [13068] INFO     root: Iteration 699: RMSE=6.3484, MAE=6.3484\n",
      "2025-02-09 13:33:25,413 [13068] INFO     root: Iteration 700: RMSE=1.9834, MAE=1.9834\n",
      "2025-02-09 13:33:25,657 [13068] INFO     root: Iteration 701: RMSE=2.8002, MAE=2.8002\n",
      "2025-02-09 13:33:25,911 [13068] INFO     root: Iteration 702: RMSE=4.2530, MAE=4.2530\n",
      "2025-02-09 13:33:26,142 [13068] INFO     root: Iteration 703: RMSE=3.1092, MAE=3.1092\n",
      "2025-02-09 13:33:26,374 [13068] INFO     root: Iteration 704: RMSE=7.4122, MAE=7.4122\n",
      "2025-02-09 13:33:26,670 [13068] INFO     root: Iteration 705: RMSE=5.2814, MAE=5.2814\n",
      "2025-02-09 13:33:26,800 [13068] INFO     root: Iteration 706: RMSE=0.4554, MAE=0.4554\n",
      "2025-02-09 13:33:26,920 [13068] INFO     root: Iteration 707: RMSE=5.8175, MAE=5.8175\n",
      "2025-02-09 13:33:27,046 [13068] INFO     root: Iteration 708: RMSE=2.1957, MAE=2.1957\n",
      "2025-02-09 13:33:27,170 [13068] INFO     root: Iteration 709: RMSE=3.1701, MAE=3.1701\n",
      "2025-02-09 13:33:27,310 [13068] INFO     root: Iteration 710: RMSE=3.0048, MAE=3.0048\n",
      "2025-02-09 13:33:27,310 [13068] INFO     ml_monitor.logging: Starting metrics logging thread...\n",
      "2025-02-09 13:33:27,477 [13068] INFO     root: Iteration 711: RMSE=2.1020, MAE=2.1020\n",
      "2025-02-09 13:33:28,273 [13068] INFO     root: Metrics pushed at iteration 711. RMSE=2.1020, MAE=2.1020\n",
      "2025-02-09 13:33:28,414 [13068] INFO     root: Iteration 712: RMSE=0.6004, MAE=0.6004\n",
      "2025-02-09 13:33:28,580 [13068] INFO     root: Iteration 713: RMSE=3.2372, MAE=3.2372\n",
      "2025-02-09 13:33:28,716 [13068] INFO     root: Iteration 714: RMSE=0.4554, MAE=0.4554\n",
      "2025-02-09 13:33:28,856 [13068] INFO     root: Iteration 715: RMSE=0.9176, MAE=0.9176\n",
      "2025-02-09 13:33:29,011 [13068] INFO     root: Iteration 716: RMSE=2.1020, MAE=2.1020\n",
      "2025-02-09 13:33:29,151 [13068] INFO     root: Iteration 717: RMSE=1.9891, MAE=1.9891\n",
      "2025-02-09 13:33:29,303 [13068] INFO     root: Iteration 718: RMSE=1.0341, MAE=1.0341\n",
      "2025-02-09 13:33:29,462 [13068] INFO     root: Iteration 719: RMSE=1.5147, MAE=1.5147\n",
      "2025-02-09 13:33:29,664 [13068] INFO     root: Iteration 720: RMSE=2.1281, MAE=2.1281\n",
      "2025-02-09 13:33:29,823 [13068] INFO     root: Iteration 721: RMSE=2.2823, MAE=2.2823\n",
      "2025-02-09 13:33:29,935 [13068] INFO     root: Iteration 722: RMSE=1.9024, MAE=1.9024\n",
      "2025-02-09 13:33:30,067 [13068] INFO     root: Iteration 723: RMSE=1.9470, MAE=1.9470\n",
      "2025-02-09 13:33:30,199 [13068] INFO     root: Iteration 724: RMSE=3.0812, MAE=3.0812\n",
      "2025-02-09 13:33:30,366 [13068] INFO     root: Iteration 725: RMSE=1.2841, MAE=1.2841\n",
      "2025-02-09 13:33:30,603 [13068] INFO     root: Iteration 726: RMSE=2.4681, MAE=2.4681\n",
      "2025-02-09 13:33:30,746 [13068] INFO     root: Iteration 727: RMSE=4.8742, MAE=4.8742\n",
      "2025-02-09 13:33:30,904 [13068] INFO     root: Iteration 728: RMSE=5.8175, MAE=5.8175\n",
      "2025-02-09 13:33:31,039 [13068] INFO     root: Iteration 729: RMSE=0.9510, MAE=0.9510\n",
      "2025-02-09 13:33:31,191 [13068] INFO     root: Iteration 730: RMSE=6.3484, MAE=6.3484\n",
      "2025-02-09 13:33:31,321 [13068] INFO     root: Iteration 731: RMSE=2.4407, MAE=2.4407\n",
      "2025-02-09 13:33:31,480 [13068] INFO     root: Iteration 732: RMSE=2.8002, MAE=2.8002\n",
      "2025-02-09 13:33:31,764 [13068] INFO     root: Iteration 733: RMSE=1.9374, MAE=1.9374\n",
      "2025-02-09 13:33:31,935 [13068] INFO     root: Iteration 734: RMSE=6.3484, MAE=6.3484\n",
      "2025-02-09 13:33:32,105 [13068] INFO     root: Iteration 735: RMSE=1.2841, MAE=1.2841\n",
      "2025-02-09 13:33:32,266 [13068] INFO     root: Iteration 736: RMSE=0.9201, MAE=0.9201\n",
      "2025-02-09 13:33:32,398 [13068] INFO     ml_monitor.logging: Starting metrics logging thread...\n",
      "2025-02-09 13:33:32,464 [13068] INFO     root: Iteration 737: RMSE=1.9834, MAE=1.9834\n",
      "2025-02-09 13:33:32,618 [13068] INFO     root: Iteration 738: RMSE=1.7797, MAE=1.7797\n",
      "2025-02-09 13:33:32,834 [13068] INFO     root: Iteration 739: RMSE=1.0837, MAE=1.0837\n",
      "2025-02-09 13:33:33,126 [13068] INFO     root: Iteration 740: RMSE=3.2372, MAE=3.2372\n",
      "2025-02-09 13:33:33,358 [13068] INFO     root: Iteration 741: RMSE=0.5423, MAE=0.5423\n",
      "2025-02-09 13:33:33,593 [13068] INFO     root: Iteration 742: RMSE=1.5147, MAE=1.5147\n",
      "2025-02-09 13:33:33,752 [13068] INFO     root: Iteration 743: RMSE=2.0594, MAE=2.0594\n",
      "2025-02-09 13:33:33,968 [13068] INFO     root: Iteration 744: RMSE=3.1092, MAE=3.1092\n",
      "2025-02-09 13:33:34,147 [13068] INFO     root: Iteration 745: RMSE=1.6668, MAE=1.6668\n",
      "2025-02-09 13:33:34,370 [13068] INFO     root: Iteration 746: RMSE=0.0190, MAE=0.0190\n",
      "2025-02-09 13:33:34,635 [13068] INFO     root: Iteration 747: RMSE=1.6668, MAE=1.6668\n",
      "2025-02-09 13:33:34,898 [13068] INFO     root: Iteration 748: RMSE=0.9176, MAE=0.9176\n",
      "2025-02-09 13:33:35,036 [13068] INFO     root: Iteration 749: RMSE=6.3484, MAE=6.3484\n",
      "2025-02-09 13:33:35,169 [13068] INFO     root: Iteration 750: RMSE=1.9470, MAE=1.9470\n",
      "2025-02-09 13:33:35,375 [13068] INFO     root: Iteration 751: RMSE=6.4895, MAE=6.4895\n",
      "2025-02-09 13:33:35,655 [13068] INFO     root: Iteration 752: RMSE=0.5423, MAE=0.5423\n",
      "2025-02-09 13:33:35,853 [13068] INFO     root: Iteration 753: RMSE=2.2823, MAE=2.2823\n",
      "2025-02-09 13:33:36,044 [13068] INFO     root: Iteration 754: RMSE=0.1550, MAE=0.1550\n",
      "2025-02-09 13:33:36,187 [13068] INFO     root: Iteration 755: RMSE=2.2319, MAE=2.2319\n",
      "2025-02-09 13:33:36,369 [13068] INFO     root: Iteration 756: RMSE=4.3271, MAE=4.3271\n",
      "2025-02-09 13:33:36,688 [13068] INFO     root: Iteration 757: RMSE=0.4811, MAE=0.4811\n",
      "2025-02-09 13:33:37,041 [13068] INFO     root: Iteration 758: RMSE=0.8295, MAE=0.8295\n",
      "2025-02-09 13:33:37,339 [13068] INFO     root: Iteration 759: RMSE=0.1136, MAE=0.1136\n",
      "2025-02-09 13:33:37,484 [13068] INFO     ml_monitor.logging: Starting metrics logging thread...\n",
      "2025-02-09 13:33:37,587 [13068] INFO     root: Iteration 760: RMSE=0.1636, MAE=0.1636\n",
      "2025-02-09 13:33:38,337 [13068] INFO     root: Metrics pushed at iteration 760. RMSE=0.1636, MAE=0.1636\n",
      "2025-02-09 13:33:38,460 [13068] INFO     root: Iteration 761: RMSE=0.6863, MAE=0.6863\n",
      "2025-02-09 13:33:38,652 [13068] INFO     root: Iteration 762: RMSE=1.9834, MAE=1.9834\n",
      "2025-02-09 13:33:38,810 [13068] INFO     root: Iteration 763: RMSE=3.1701, MAE=3.1701\n",
      "2025-02-09 13:33:38,943 [13068] INFO     root: Iteration 764: RMSE=1.6861, MAE=1.6861\n",
      "2025-02-09 13:33:39,088 [13068] INFO     root: Iteration 765: RMSE=3.9035, MAE=3.9035\n",
      "2025-02-09 13:33:39,227 [13068] INFO     root: Iteration 766: RMSE=3.2950, MAE=3.2950\n",
      "2025-02-09 13:33:39,374 [13068] INFO     root: Iteration 767: RMSE=1.9954, MAE=1.9954\n",
      "2025-02-09 13:33:39,620 [13068] INFO     root: Iteration 768: RMSE=3.0048, MAE=3.0048\n",
      "2025-02-09 13:33:39,783 [13068] INFO     root: Iteration 769: RMSE=4.3700, MAE=4.3700\n",
      "2025-02-09 13:33:39,922 [13068] INFO     root: Iteration 770: RMSE=6.3484, MAE=6.3484\n",
      "2025-02-09 13:33:40,058 [13068] INFO     root: Iteration 771: RMSE=0.9201, MAE=0.9201\n",
      "2025-02-09 13:33:40,191 [13068] INFO     root: Iteration 772: RMSE=0.9690, MAE=0.9690\n",
      "2025-02-09 13:33:40,558 [13068] INFO     root: Iteration 773: RMSE=1.7797, MAE=1.7797\n",
      "2025-02-09 13:33:40,763 [13068] INFO     root: Iteration 774: RMSE=2.6178, MAE=2.6178\n",
      "2025-02-09 13:33:40,911 [13068] INFO     root: Iteration 775: RMSE=1.0525, MAE=1.0525\n",
      "2025-02-09 13:33:41,084 [13068] INFO     root: Iteration 776: RMSE=1.6861, MAE=1.6861\n",
      "2025-02-09 13:33:41,300 [13068] INFO     root: Iteration 777: RMSE=1.9891, MAE=1.9891\n",
      "2025-02-09 13:33:41,419 [13068] INFO     root: Iteration 778: RMSE=4.3271, MAE=4.3271\n",
      "2025-02-09 13:33:41,591 [13068] INFO     root: Iteration 779: RMSE=5.1399, MAE=5.1399\n",
      "2025-02-09 13:33:41,806 [13068] INFO     root: Iteration 780: RMSE=4.2619, MAE=4.2619\n",
      "2025-02-09 13:33:41,946 [13068] INFO     root: Iteration 781: RMSE=1.0783, MAE=1.0783\n",
      "2025-02-09 13:33:42,107 [13068] INFO     root: Iteration 782: RMSE=2.4681, MAE=2.4681\n",
      "2025-02-09 13:33:42,224 [13068] INFO     root: Iteration 783: RMSE=1.0341, MAE=1.0341\n",
      "2025-02-09 13:33:42,387 [13068] INFO     root: Iteration 784: RMSE=2.1020, MAE=2.1020\n",
      "2025-02-09 13:33:42,655 [13068] INFO     root: Iteration 785: RMSE=2.5855, MAE=2.5855\n",
      "2025-02-09 13:33:42,696 [13068] INFO     ml_monitor.logging: Starting metrics logging thread...\n",
      "2025-02-09 13:33:42,822 [13068] INFO     root: Iteration 786: RMSE=0.6277, MAE=0.6277\n",
      "2025-02-09 13:33:43,004 [13068] INFO     root: Iteration 787: RMSE=0.4554, MAE=0.4554\n",
      "2025-02-09 13:33:43,149 [13068] INFO     root: Iteration 788: RMSE=2.6178, MAE=2.6178\n",
      "2025-02-09 13:33:43,328 [13068] INFO     root: Iteration 789: RMSE=0.9690, MAE=0.9690\n",
      "2025-02-09 13:33:43,458 [13068] INFO     root: Iteration 790: RMSE=1.9834, MAE=1.9834\n",
      "2025-02-09 13:33:43,693 [13068] INFO     root: Iteration 791: RMSE=7.1880, MAE=7.1880\n",
      "2025-02-09 13:33:43,854 [13068] INFO     root: Iteration 792: RMSE=2.5855, MAE=2.5855\n",
      "2025-02-09 13:33:43,983 [13068] INFO     root: Iteration 793: RMSE=0.1640, MAE=0.1640\n",
      "2025-02-09 13:33:44,110 [13068] INFO     root: Iteration 794: RMSE=4.3700, MAE=4.3700\n",
      "2025-02-09 13:33:44,261 [13068] INFO     root: Iteration 795: RMSE=1.9880, MAE=1.9880\n",
      "2025-02-09 13:33:44,454 [13068] INFO     root: Iteration 796: RMSE=2.5855, MAE=2.5855\n",
      "2025-02-09 13:33:44,621 [13068] INFO     root: Iteration 797: RMSE=1.6668, MAE=1.6668\n",
      "2025-02-09 13:33:44,827 [13068] INFO     root: Iteration 798: RMSE=1.7964, MAE=1.7964\n",
      "2025-02-09 13:33:44,970 [13068] INFO     root: Iteration 799: RMSE=7.1880, MAE=7.1880\n",
      "2025-02-09 13:33:45,120 [13068] INFO     root: Iteration 800: RMSE=2.1020, MAE=2.1020\n",
      "2025-02-09 13:33:45,265 [13068] INFO     root: Iteration 801: RMSE=1.3937, MAE=1.3937\n",
      "2025-02-09 13:33:45,409 [13068] INFO     root: Iteration 802: RMSE=3.1701, MAE=3.1701\n",
      "2025-02-09 13:33:45,630 [13068] INFO     root: Iteration 803: RMSE=0.6863, MAE=0.6863\n",
      "2025-02-09 13:33:45,850 [13068] INFO     root: Iteration 804: RMSE=2.0594, MAE=2.0594\n",
      "2025-02-09 13:33:46,047 [13068] INFO     root: Iteration 805: RMSE=1.3937, MAE=1.3937\n",
      "2025-02-09 13:33:46,408 [13068] INFO     root: Iteration 806: RMSE=1.9954, MAE=1.9954\n",
      "2025-02-09 13:33:46,544 [13068] INFO     root: Iteration 807: RMSE=2.2319, MAE=2.2319\n",
      "2025-02-09 13:33:46,663 [13068] INFO     root: Iteration 808: RMSE=0.9201, MAE=0.9201\n",
      "2025-02-09 13:33:46,809 [13068] INFO     root: Iteration 809: RMSE=0.0190, MAE=0.0190\n",
      "2025-02-09 13:33:46,932 [13068] INFO     root: Iteration 810: RMSE=1.2010, MAE=1.2010\n",
      "2025-02-09 13:33:47,089 [13068] INFO     root: Iteration 811: RMSE=2.1020, MAE=2.1020\n",
      "2025-02-09 13:33:47,205 [13068] INFO     root: Iteration 812: RMSE=0.0329, MAE=0.0329\n",
      "2025-02-09 13:33:47,359 [13068] INFO     root: Iteration 813: RMSE=2.1281, MAE=2.1281\n",
      "2025-02-09 13:33:47,496 [13068] INFO     root: Iteration 814: RMSE=4.2530, MAE=4.2530\n",
      "2025-02-09 13:33:47,693 [13068] INFO     root: Iteration 815: RMSE=1.3937, MAE=1.3937\n",
      "2025-02-09 13:33:47,815 [13068] INFO     ml_monitor.logging: Starting metrics logging thread...\n",
      "2025-02-09 13:33:48,438 [13068] INFO     root: Metrics pushed at iteration 815. RMSE=1.3937, MAE=1.3937\n",
      "2025-02-09 13:33:48,860 [13068] INFO     root: Iteration 816: RMSE=3.1701, MAE=3.1701\n",
      "2025-02-09 13:33:49,028 [13068] INFO     root: Iteration 817: RMSE=2.2324, MAE=2.2324\n",
      "2025-02-09 13:33:49,275 [13068] INFO     root: Iteration 818: RMSE=0.4811, MAE=0.4811\n",
      "2025-02-09 13:33:49,468 [13068] INFO     root: Iteration 819: RMSE=1.6668, MAE=1.6668\n",
      "2025-02-09 13:33:49,704 [13068] INFO     root: Iteration 820: RMSE=21.1875, MAE=21.1875\n",
      "2025-02-09 13:33:49,969 [13068] INFO     root: Iteration 821: RMSE=1.3937, MAE=1.3937\n",
      "2025-02-09 13:33:50,157 [13068] INFO     root: Iteration 822: RMSE=3.0048, MAE=3.0048\n",
      "2025-02-09 13:33:50,365 [13068] INFO     root: Iteration 823: RMSE=0.1550, MAE=0.1550\n",
      "2025-02-09 13:33:50,664 [13068] INFO     root: Iteration 824: RMSE=1.2841, MAE=1.2841\n",
      "2025-02-09 13:33:50,942 [13068] INFO     root: Iteration 825: RMSE=3.0812, MAE=3.0812\n",
      "2025-02-09 13:33:51,098 [13068] INFO     root: Iteration 826: RMSE=6.5607, MAE=6.5607\n",
      "2025-02-09 13:33:51,256 [13068] INFO     root: Iteration 827: RMSE=1.9954, MAE=1.9954\n",
      "2025-02-09 13:33:51,449 [13068] INFO     root: Iteration 828: RMSE=2.4091, MAE=2.4091\n",
      "2025-02-09 13:33:51,723 [13068] INFO     root: Iteration 829: RMSE=4.2530, MAE=4.2530\n",
      "2025-02-09 13:33:51,945 [13068] INFO     root: Iteration 830: RMSE=0.4811, MAE=0.4811\n",
      "2025-02-09 13:33:52,198 [13068] INFO     root: Iteration 831: RMSE=1.7797, MAE=1.7797\n",
      "2025-02-09 13:33:52,417 [13068] INFO     root: Iteration 832: RMSE=21.1875, MAE=21.1875\n",
      "2025-02-09 13:33:52,662 [13068] INFO     root: Iteration 833: RMSE=6.4895, MAE=6.4895\n",
      "2025-02-09 13:33:52,871 [13068] INFO     ml_monitor.logging: Starting metrics logging thread...\n",
      "2025-02-09 13:33:53,016 [13068] INFO     root: Iteration 834: RMSE=1.9374, MAE=1.9374\n",
      "2025-02-09 13:33:53,223 [13068] INFO     root: Iteration 835: RMSE=5.0666, MAE=5.0666\n",
      "2025-02-09 13:33:53,374 [13068] INFO     root: Iteration 836: RMSE=5.3491, MAE=5.3491\n",
      "2025-02-09 13:33:53,708 [13068] INFO     root: Iteration 837: RMSE=1.6668, MAE=1.6668\n",
      "2025-02-09 13:33:54,069 [13068] INFO     root: Iteration 838: RMSE=1.6861, MAE=1.6861\n",
      "2025-02-09 13:33:54,240 [13068] INFO     root: Iteration 839: RMSE=21.1875, MAE=21.1875\n",
      "2025-02-09 13:33:54,437 [13068] INFO     root: Iteration 840: RMSE=0.4053, MAE=0.4053\n",
      "2025-02-09 13:33:54,696 [13068] INFO     root: Iteration 841: RMSE=0.1136, MAE=0.1136\n",
      "2025-02-09 13:33:54,805 [13068] INFO     root: Iteration 842: RMSE=0.5329, MAE=0.5329\n",
      "2025-02-09 13:33:54,961 [13068] INFO     root: Iteration 843: RMSE=0.9690, MAE=0.9690\n",
      "2025-02-09 13:33:55,078 [13068] INFO     root: Iteration 844: RMSE=0.5028, MAE=0.5028\n",
      "2025-02-09 13:33:55,219 [13068] INFO     root: Iteration 845: RMSE=1.3937, MAE=1.3937\n",
      "2025-02-09 13:33:55,382 [13068] INFO     root: Iteration 846: RMSE=0.5329, MAE=0.5329\n",
      "2025-02-09 13:33:55,525 [13068] INFO     root: Iteration 847: RMSE=1.0783, MAE=1.0783\n",
      "2025-02-09 13:33:55,648 [13068] INFO     root: Iteration 848: RMSE=3.1092, MAE=3.1092\n",
      "2025-02-09 13:33:55,783 [13068] INFO     root: Iteration 849: RMSE=5.8811, MAE=5.8811\n",
      "2025-02-09 13:33:55,906 [13068] INFO     root: Iteration 850: RMSE=0.2922, MAE=0.2922\n",
      "2025-02-09 13:33:56,027 [13068] INFO     root: Iteration 851: RMSE=3.9228, MAE=3.9228\n",
      "2025-02-09 13:33:56,148 [13068] INFO     root: Iteration 852: RMSE=1.6861, MAE=1.6861\n",
      "2025-02-09 13:33:56,257 [13068] INFO     root: Iteration 853: RMSE=0.2445, MAE=0.2445\n",
      "2025-02-09 13:33:56,375 [13068] INFO     root: Iteration 854: RMSE=5.3491, MAE=5.3491\n",
      "2025-02-09 13:33:56,546 [13068] INFO     root: Iteration 855: RMSE=0.0190, MAE=0.0190\n",
      "2025-02-09 13:33:56,664 [13068] INFO     root: Iteration 856: RMSE=1.5147, MAE=1.5147\n",
      "2025-02-09 13:33:56,792 [13068] INFO     root: Iteration 857: RMSE=7.1962, MAE=7.1962\n",
      "2025-02-09 13:33:56,947 [13068] INFO     root: Iteration 858: RMSE=2.2324, MAE=2.2324\n",
      "2025-02-09 13:33:57,057 [13068] INFO     root: Iteration 859: RMSE=1.3227, MAE=1.3227\n",
      "2025-02-09 13:33:57,189 [13068] INFO     root: Iteration 860: RMSE=1.0525, MAE=1.0525\n",
      "2025-02-09 13:33:57,332 [13068] INFO     root: Iteration 861: RMSE=4.2733, MAE=4.2733\n",
      "2025-02-09 13:33:57,459 [13068] INFO     root: Iteration 862: RMSE=0.4811, MAE=0.4811\n",
      "2025-02-09 13:33:57,818 [13068] INFO     root: Iteration 863: RMSE=1.0525, MAE=1.0525\n",
      "2025-02-09 13:33:57,974 [13068] INFO     ml_monitor.logging: Starting metrics logging thread...\n",
      "2025-02-09 13:33:58,629 [13068] INFO     root: Metrics pushed at iteration 863. RMSE=1.0525, MAE=1.0525\n",
      "2025-02-09 13:33:58,761 [13068] INFO     root: Iteration 864: RMSE=1.0783, MAE=1.0783\n",
      "2025-02-09 13:33:58,924 [13068] INFO     root: Iteration 865: RMSE=4.2272, MAE=4.2272\n",
      "2025-02-09 13:33:59,062 [13068] INFO     root: Iteration 866: RMSE=0.1550, MAE=0.1550\n",
      "2025-02-09 13:33:59,205 [13068] INFO     root: Iteration 867: RMSE=1.9891, MAE=1.9891\n",
      "2025-02-09 13:33:59,337 [13068] INFO     root: Iteration 868: RMSE=0.6367, MAE=0.6367\n",
      "2025-02-09 13:33:59,477 [13068] INFO     root: Iteration 869: RMSE=2.7746, MAE=2.7746\n",
      "2025-02-09 13:33:59,617 [13068] INFO     root: Iteration 870: RMSE=3.0641, MAE=3.0641\n",
      "2025-02-09 13:33:59,753 [13068] INFO     root: Iteration 871: RMSE=15.7679, MAE=15.7679\n",
      "2025-02-09 13:33:59,949 [13068] INFO     root: Iteration 872: RMSE=3.9228, MAE=3.9228\n",
      "2025-02-09 13:34:00,073 [13068] INFO     root: Iteration 873: RMSE=1.7964, MAE=1.7964\n",
      "2025-02-09 13:34:00,296 [13068] INFO     root: Iteration 874: RMSE=1.2010, MAE=1.2010\n",
      "2025-02-09 13:34:00,556 [13068] INFO     root: Iteration 875: RMSE=5.1399, MAE=5.1399\n",
      "2025-02-09 13:34:00,769 [13068] INFO     root: Iteration 876: RMSE=5.8811, MAE=5.8811\n",
      "2025-02-09 13:34:00,952 [13068] INFO     root: Iteration 877: RMSE=3.2950, MAE=3.2950\n",
      "2025-02-09 13:34:01,069 [13068] INFO     root: Iteration 878: RMSE=0.9690, MAE=0.9690\n",
      "2025-02-09 13:34:01,230 [13068] INFO     root: Iteration 879: RMSE=7.1962, MAE=7.1962\n",
      "2025-02-09 13:34:01,426 [13068] INFO     root: Iteration 880: RMSE=2.2319, MAE=2.2319\n",
      "2025-02-09 13:34:01,645 [13068] INFO     root: Iteration 881: RMSE=6.3484, MAE=6.3484\n",
      "2025-02-09 13:34:01,894 [13068] INFO     root: Iteration 882: RMSE=2.2324, MAE=2.2324\n",
      "2025-02-09 13:34:02,132 [13068] INFO     root: Iteration 883: RMSE=5.2814, MAE=5.2814\n",
      "2025-02-09 13:34:02,417 [13068] INFO     root: Iteration 884: RMSE=0.4554, MAE=0.4554\n",
      "2025-02-09 13:34:02,662 [13068] INFO     root: Iteration 885: RMSE=4.3700, MAE=4.3700\n",
      "2025-02-09 13:34:02,794 [13068] INFO     root: Iteration 886: RMSE=2.5855, MAE=2.5855\n",
      "2025-02-09 13:34:02,913 [13068] INFO     root: Iteration 887: RMSE=1.7797, MAE=1.7797\n",
      "2025-02-09 13:34:03,032 [13068] INFO     ml_monitor.logging: Starting metrics logging thread...\n",
      "2025-02-09 13:34:03,050 [13068] INFO     root: Iteration 888: RMSE=0.0329, MAE=0.0329\n",
      "2025-02-09 13:34:03,187 [13068] INFO     root: Iteration 889: RMSE=5.8175, MAE=5.8175\n",
      "2025-02-09 13:34:03,315 [13068] INFO     root: Iteration 890: RMSE=0.6367, MAE=0.6367\n",
      "2025-02-09 13:34:03,456 [13068] INFO     root: Iteration 891: RMSE=1.0783, MAE=1.0783\n",
      "2025-02-09 13:34:03,607 [13068] INFO     root: Iteration 892: RMSE=5.2814, MAE=5.2814\n",
      "2025-02-09 13:34:03,757 [13068] INFO     root: Iteration 893: RMSE=5.8175, MAE=5.8175\n",
      "2025-02-09 13:34:03,889 [13068] INFO     root: Iteration 894: RMSE=2.1020, MAE=2.1020\n",
      "2025-02-09 13:34:04,019 [13068] INFO     root: Iteration 895: RMSE=2.1281, MAE=2.1281\n",
      "2025-02-09 13:34:04,142 [13068] INFO     root: Iteration 896: RMSE=15.7679, MAE=15.7679\n",
      "2025-02-09 13:34:04,323 [13068] INFO     root: Iteration 897: RMSE=0.6820, MAE=0.6820\n",
      "2025-02-09 13:34:04,507 [13068] INFO     root: Iteration 898: RMSE=0.8295, MAE=0.8295\n",
      "2025-02-09 13:34:04,718 [13068] INFO     root: Iteration 899: RMSE=1.9834, MAE=1.9834\n",
      "2025-02-09 13:34:04,927 [13068] INFO     root: Iteration 900: RMSE=4.2530, MAE=4.2530\n",
      "2025-02-09 13:34:05,134 [13068] INFO     root: Iteration 901: RMSE=2.7746, MAE=2.7746\n",
      "2025-02-09 13:34:05,295 [13068] INFO     root: Iteration 902: RMSE=2.4681, MAE=2.4681\n",
      "2025-02-09 13:34:05,545 [13068] INFO     root: Iteration 903: RMSE=0.9176, MAE=0.9176\n",
      "2025-02-09 13:34:05,746 [13068] INFO     root: Iteration 904: RMSE=0.8295, MAE=0.8295\n",
      "2025-02-09 13:34:05,933 [13068] INFO     root: Iteration 905: RMSE=1.7797, MAE=1.7797\n",
      "2025-02-09 13:34:06,110 [13068] INFO     root: Iteration 906: RMSE=2.5983, MAE=2.5983\n",
      "2025-02-09 13:34:06,252 [13068] INFO     root: Iteration 907: RMSE=3.0048, MAE=3.0048\n",
      "2025-02-09 13:34:06,400 [13068] INFO     root: Iteration 908: RMSE=2.5983, MAE=2.5983\n",
      "2025-02-09 13:34:06,650 [13068] INFO     root: Iteration 909: RMSE=5.2814, MAE=5.2814\n",
      "2025-02-09 13:34:06,800 [13068] INFO     root: Iteration 910: RMSE=1.0341, MAE=1.0341\n",
      "2025-02-09 13:34:06,944 [13068] INFO     root: Iteration 911: RMSE=4.3700, MAE=4.3700\n",
      "2025-02-09 13:34:07,160 [13068] INFO     root: Iteration 912: RMSE=3.2372, MAE=3.2372\n",
      "2025-02-09 13:34:07,412 [13068] INFO     root: Iteration 913: RMSE=0.0329, MAE=0.0329\n",
      "2025-02-09 13:34:07,608 [13068] INFO     root: Iteration 914: RMSE=6.3484, MAE=6.3484\n",
      "2025-02-09 13:34:07,797 [13068] INFO     root: Iteration 915: RMSE=0.0190, MAE=0.0190\n",
      "2025-02-09 13:34:07,987 [13068] INFO     root: Iteration 916: RMSE=0.1636, MAE=0.1636\n",
      "2025-02-09 13:34:08,069 [13068] INFO     ml_monitor.logging: Starting metrics logging thread...\n",
      "2025-02-09 13:34:08,895 [13068] INFO     root: Metrics pushed at iteration 916. RMSE=0.1636, MAE=0.1636\n",
      "2025-02-09 13:34:09,083 [13068] INFO     root: Iteration 917: RMSE=2.7728, MAE=2.7728\n",
      "2025-02-09 13:34:09,263 [13068] INFO     root: Iteration 918: RMSE=1.5289, MAE=1.5289\n",
      "2025-02-09 13:34:09,461 [13068] INFO     root: Iteration 919: RMSE=4.2733, MAE=4.2733\n",
      "2025-02-09 13:34:09,637 [13068] INFO     root: Iteration 920: RMSE=4.2619, MAE=4.2619\n",
      "2025-02-09 13:34:09,781 [13068] INFO     root: Iteration 921: RMSE=1.9834, MAE=1.9834\n",
      "2025-02-09 13:34:09,915 [13068] INFO     root: Iteration 922: RMSE=2.4407, MAE=2.4407\n",
      "2025-02-09 13:34:10,038 [13068] INFO     root: Iteration 923: RMSE=4.3271, MAE=4.3271\n",
      "2025-02-09 13:34:10,371 [13068] INFO     root: Iteration 924: RMSE=1.7964, MAE=1.7964\n",
      "2025-02-09 13:34:10,604 [13068] INFO     root: Iteration 925: RMSE=0.5423, MAE=0.5423\n",
      "2025-02-09 13:34:10,771 [13068] INFO     root: Iteration 926: RMSE=5.8175, MAE=5.8175\n",
      "2025-02-09 13:34:10,923 [13068] INFO     root: Iteration 927: RMSE=1.9024, MAE=1.9024\n",
      "2025-02-09 13:34:11,118 [13068] INFO     root: Iteration 928: RMSE=1.2345, MAE=1.2345\n",
      "2025-02-09 13:34:11,250 [13068] INFO     root: Iteration 929: RMSE=2.6178, MAE=2.6178\n",
      "2025-02-09 13:34:11,381 [13068] INFO     root: Iteration 930: RMSE=0.6820, MAE=0.6820\n",
      "2025-02-09 13:34:11,542 [13068] INFO     root: Iteration 931: RMSE=2.2319, MAE=2.2319\n",
      "2025-02-09 13:34:11,669 [13068] INFO     root: Iteration 932: RMSE=3.2372, MAE=3.2372\n",
      "2025-02-09 13:34:11,804 [13068] INFO     root: Iteration 933: RMSE=0.6367, MAE=0.6367\n",
      "2025-02-09 13:34:11,931 [13068] INFO     root: Iteration 934: RMSE=0.4053, MAE=0.4053\n",
      "2025-02-09 13:34:12,090 [13068] INFO     root: Iteration 935: RMSE=0.1640, MAE=0.1640\n",
      "2025-02-09 13:34:12,207 [13068] INFO     root: Iteration 936: RMSE=2.1020, MAE=2.1020\n",
      "2025-02-09 13:34:12,350 [13068] INFO     root: Iteration 937: RMSE=3.1092, MAE=3.1092\n",
      "2025-02-09 13:34:12,479 [13068] INFO     root: Iteration 938: RMSE=0.4278, MAE=0.4278\n",
      "2025-02-09 13:34:12,679 [13068] INFO     root: Iteration 939: RMSE=0.1640, MAE=0.1640\n",
      "2025-02-09 13:34:12,816 [13068] INFO     root: Iteration 940: RMSE=2.1957, MAE=2.1957\n",
      "2025-02-09 13:34:12,981 [13068] INFO     root: Iteration 941: RMSE=2.4407, MAE=2.4407\n",
      "2025-02-09 13:34:13,120 [13068] INFO     root: Iteration 942: RMSE=3.1701, MAE=3.1701\n",
      "2025-02-09 13:34:13,249 [13068] INFO     root: Iteration 943: RMSE=2.2324, MAE=2.2324\n",
      "2025-02-09 13:34:13,355 [13068] INFO     ml_monitor.logging: Starting metrics logging thread...\n",
      "2025-02-09 13:34:13,393 [13068] INFO     root: Iteration 944: RMSE=15.7679, MAE=15.7679\n",
      "2025-02-09 13:34:13,548 [13068] INFO     root: Iteration 945: RMSE=2.8002, MAE=2.8002\n",
      "2025-02-09 13:34:13,690 [13068] INFO     root: Iteration 946: RMSE=1.6668, MAE=1.6668\n",
      "2025-02-09 13:34:13,821 [13068] INFO     root: Iteration 947: RMSE=0.8280, MAE=0.8280\n",
      "2025-02-09 13:34:13,943 [13068] INFO     root: Iteration 948: RMSE=1.0837, MAE=1.0837\n",
      "2025-02-09 13:34:14,079 [13068] INFO     root: Iteration 949: RMSE=0.8295, MAE=0.8295\n",
      "2025-02-09 13:34:14,255 [13068] INFO     root: Iteration 950: RMSE=3.0812, MAE=3.0812\n",
      "2025-02-09 13:34:14,390 [13068] INFO     root: Iteration 951: RMSE=2.1957, MAE=2.1957\n",
      "2025-02-09 13:34:14,576 [13068] INFO     root: Iteration 952: RMSE=0.4278, MAE=0.4278\n",
      "2025-02-09 13:34:14,692 [13068] INFO     root: Iteration 953: RMSE=1.0783, MAE=1.0783\n",
      "2025-02-09 13:34:14,820 [13068] INFO     root: Iteration 954: RMSE=0.0190, MAE=0.0190\n",
      "2025-02-09 13:34:14,938 [13068] INFO     root: Iteration 955: RMSE=6.3484, MAE=6.3484\n",
      "2025-02-09 13:34:15,085 [13068] INFO     root: Iteration 956: RMSE=4.8742, MAE=4.8742\n",
      "2025-02-09 13:34:15,226 [13068] INFO     root: Iteration 957: RMSE=2.6178, MAE=2.6178\n",
      "2025-02-09 13:34:15,358 [13068] INFO     root: Iteration 958: RMSE=0.2922, MAE=0.2922\n",
      "2025-02-09 13:34:15,472 [13068] INFO     root: Iteration 959: RMSE=2.1957, MAE=2.1957\n",
      "2025-02-09 13:34:15,633 [13068] INFO     root: Iteration 960: RMSE=1.9834, MAE=1.9834\n",
      "2025-02-09 13:34:15,741 [13068] INFO     root: Iteration 961: RMSE=21.1875, MAE=21.1875\n",
      "2025-02-09 13:34:15,874 [13068] INFO     root: Iteration 962: RMSE=2.2823, MAE=2.2823\n",
      "2025-02-09 13:34:16,006 [13068] INFO     root: Iteration 963: RMSE=1.7797, MAE=1.7797\n",
      "2025-02-09 13:34:16,130 [13068] INFO     root: Iteration 964: RMSE=0.9510, MAE=0.9510\n",
      "2025-02-09 13:34:16,259 [13068] INFO     root: Iteration 965: RMSE=5.8811, MAE=5.8811\n",
      "2025-02-09 13:34:16,399 [13068] INFO     root: Iteration 966: RMSE=6.4895, MAE=6.4895\n",
      "2025-02-09 13:34:16,554 [13068] INFO     root: Iteration 967: RMSE=2.2324, MAE=2.2324\n",
      "2025-02-09 13:34:16,717 [13068] INFO     root: Iteration 968: RMSE=3.6498, MAE=3.6498\n",
      "2025-02-09 13:34:16,897 [13068] INFO     root: Iteration 969: RMSE=0.5028, MAE=0.5028\n",
      "2025-02-09 13:34:17,024 [13068] INFO     root: Iteration 970: RMSE=0.8360, MAE=0.8360\n",
      "2025-02-09 13:34:17,170 [13068] INFO     root: Iteration 971: RMSE=5.8811, MAE=5.8811\n",
      "2025-02-09 13:34:17,559 [13068] INFO     root: Iteration 972: RMSE=1.9880, MAE=1.9880\n",
      "2025-02-09 13:34:17,807 [13068] INFO     root: Iteration 973: RMSE=0.2356, MAE=0.2356\n",
      "2025-02-09 13:34:18,202 [13068] INFO     root: Iteration 974: RMSE=1.9880, MAE=1.9880\n",
      "2025-02-09 13:34:18,394 [13068] INFO     ml_monitor.logging: Starting metrics logging thread...\n",
      "2025-02-09 13:34:19,199 [13068] INFO     root: Metrics pushed at iteration 974. RMSE=1.9880, MAE=1.9880\n",
      "2025-02-09 13:34:19,325 [13068] INFO     root: Iteration 975: RMSE=3.0641, MAE=3.0641\n",
      "2025-02-09 13:34:19,433 [13068] INFO     root: Iteration 976: RMSE=0.9690, MAE=0.9690\n",
      "2025-02-09 13:34:19,635 [13068] INFO     root: Iteration 977: RMSE=1.9891, MAE=1.9891\n",
      "2025-02-09 13:34:19,831 [13068] INFO     root: Iteration 978: RMSE=2.4681, MAE=2.4681\n",
      "2025-02-09 13:34:19,964 [13068] INFO     root: Iteration 979: RMSE=3.0812, MAE=3.0812\n",
      "2025-02-09 13:34:20,125 [13068] INFO     root: Iteration 980: RMSE=0.2445, MAE=0.2445\n",
      "2025-02-09 13:34:20,253 [13068] INFO     root: Iteration 981: RMSE=0.8360, MAE=0.8360\n",
      "2025-02-09 13:34:20,393 [13068] INFO     root: Iteration 982: RMSE=2.4681, MAE=2.4681\n",
      "2025-02-09 13:34:20,645 [13068] INFO     root: Iteration 983: RMSE=4.2733, MAE=4.2733\n",
      "2025-02-09 13:34:20,888 [13068] INFO     root: Iteration 984: RMSE=1.6861, MAE=1.6861\n",
      "2025-02-09 13:34:21,069 [13068] INFO     root: Iteration 985: RMSE=1.3937, MAE=1.3937\n",
      "2025-02-09 13:34:21,315 [13068] INFO     root: Iteration 986: RMSE=1.9834, MAE=1.9834\n",
      "2025-02-09 13:34:21,838 [13068] INFO     root: Iteration 987: RMSE=3.6498, MAE=3.6498\n",
      "2025-02-09 13:34:22,040 [13068] INFO     root: Iteration 988: RMSE=2.4091, MAE=2.4091\n",
      "2025-02-09 13:34:22,255 [13068] INFO     root: Iteration 989: RMSE=3.2950, MAE=3.2950\n",
      "2025-02-09 13:34:22,449 [13068] INFO     root: Iteration 990: RMSE=2.2823, MAE=2.2823\n",
      "2025-02-09 13:34:22,932 [13068] INFO     root: Iteration 991: RMSE=4.8742, MAE=4.8742\n",
      "2025-02-09 13:34:23,092 [13068] INFO     root: Iteration 992: RMSE=1.0341, MAE=1.0341\n",
      "2025-02-09 13:34:23,273 [13068] INFO     root: Iteration 993: RMSE=3.1701, MAE=3.1701\n",
      "2025-02-09 13:34:23,418 [13068] INFO     root: Iteration 994: RMSE=0.2356, MAE=0.2356\n",
      "2025-02-09 13:34:23,440 [13068] INFO     ml_monitor.logging: Starting metrics logging thread...\n",
      "2025-02-09 13:34:23,797 [13068] INFO     root: Iteration 995: RMSE=0.8360, MAE=0.8360\n",
      "2025-02-09 13:34:23,934 [13068] INFO     root: Iteration 996: RMSE=0.1636, MAE=0.1636\n",
      "2025-02-09 13:34:24,334 [13068] INFO     root: Iteration 997: RMSE=5.0666, MAE=5.0666\n",
      "2025-02-09 13:34:24,751 [13068] INFO     root: Iteration 998: RMSE=0.9690, MAE=0.9690\n",
      "2025-02-09 13:34:25,074 [13068] INFO     root: Iteration 999: RMSE=5.2814, MAE=5.2814\n",
      "2025-02-09 13:34:25,377 [13068] INFO     root: Iteration 1000: RMSE=0.4554, MAE=0.4554\n",
      "2025-02-09 13:34:25,731 [13068] INFO     root: Iteration 1001: RMSE=1.0783, MAE=1.0783\n",
      "2025-02-09 13:34:26,160 [13068] INFO     root: Iteration 1002: RMSE=0.1640, MAE=0.1640\n",
      "2025-02-09 13:34:26,381 [13068] INFO     root: Iteration 1003: RMSE=3.1701, MAE=3.1701\n",
      "2025-02-09 13:34:26,946 [13068] INFO     root: Iteration 1004: RMSE=0.6863, MAE=0.6863\n",
      "2025-02-09 13:34:27,216 [13068] INFO     root: Iteration 1005: RMSE=0.9510, MAE=0.9510\n",
      "2025-02-09 13:34:27,851 [13068] INFO     root: Iteration 1006: RMSE=3.9035, MAE=3.9035\n",
      "2025-02-09 13:34:28,299 [13068] INFO     root: Iteration 1007: RMSE=0.6004, MAE=0.6004\n",
      "2025-02-09 13:34:28,715 [13068] INFO     ml_monitor.logging: Starting metrics logging thread...\n",
      "2025-02-09 13:34:29,778 [13068] INFO     root: Metrics pushed at iteration 1007. RMSE=0.6004, MAE=0.6004\n",
      "2025-02-09 13:34:30,084 [13068] INFO     root: Iteration 1008: RMSE=0.1636, MAE=0.1636\n",
      "2025-02-09 13:34:30,223 [13068] INFO     root: Iteration 1009: RMSE=3.0812, MAE=3.0812\n",
      "2025-02-09 13:34:30,369 [13068] INFO     root: Iteration 1010: RMSE=0.2445, MAE=0.2445\n",
      "2025-02-09 13:34:30,526 [13068] INFO     root: Iteration 1011: RMSE=0.8280, MAE=0.8280\n",
      "2025-02-09 13:34:30,696 [13068] INFO     root: Iteration 1012: RMSE=1.9880, MAE=1.9880\n",
      "2025-02-09 13:34:30,855 [13068] INFO     root: Iteration 1013: RMSE=4.2619, MAE=4.2619\n",
      "2025-02-09 13:34:31,001 [13068] INFO     root: Iteration 1014: RMSE=0.4811, MAE=0.4811\n",
      "2025-02-09 13:34:31,152 [13068] INFO     root: Iteration 1015: RMSE=0.8295, MAE=0.8295\n",
      "2025-02-09 13:34:31,340 [13068] INFO     root: Iteration 1016: RMSE=3.0641, MAE=3.0641\n",
      "2025-02-09 13:34:31,497 [13068] INFO     root: Iteration 1017: RMSE=5.8811, MAE=5.8811\n",
      "2025-02-09 13:34:31,682 [13068] INFO     root: Iteration 1018: RMSE=0.8295, MAE=0.8295\n",
      "2025-02-09 13:34:31,809 [13068] INFO     root: Iteration 1019: RMSE=1.5289, MAE=1.5289\n",
      "2025-02-09 13:34:31,967 [13068] INFO     root: Iteration 1020: RMSE=4.2272, MAE=4.2272\n",
      "2025-02-09 13:34:32,115 [13068] INFO     root: Iteration 1021: RMSE=2.1957, MAE=2.1957\n",
      "2025-02-09 13:34:32,256 [13068] INFO     root: Iteration 1022: RMSE=0.8360, MAE=0.8360\n",
      "2025-02-09 13:34:32,405 [13068] INFO     root: Iteration 1023: RMSE=2.5855, MAE=2.5855\n",
      "2025-02-09 13:34:32,610 [13068] INFO     root: Iteration 1024: RMSE=1.9470, MAE=1.9470\n",
      "2025-02-09 13:34:32,744 [13068] INFO     root: Iteration 1025: RMSE=0.1640, MAE=0.1640\n",
      "2025-02-09 13:34:32,884 [13068] INFO     root: Iteration 1026: RMSE=2.1957, MAE=2.1957\n",
      "2025-02-09 13:34:33,046 [13068] INFO     root: Iteration 1027: RMSE=0.1636, MAE=0.1636\n",
      "2025-02-09 13:34:33,179 [13068] INFO     root: Iteration 1028: RMSE=2.5855, MAE=2.5855\n",
      "2025-02-09 13:34:33,335 [13068] INFO     root: Iteration 1029: RMSE=0.6820, MAE=0.6820\n",
      "2025-02-09 13:34:33,495 [13068] INFO     root: Iteration 1030: RMSE=1.9880, MAE=1.9880\n",
      "2025-02-09 13:34:33,649 [13068] INFO     root: Iteration 1031: RMSE=0.0190, MAE=0.0190\n",
      "2025-02-09 13:34:33,904 [13068] INFO     root: Iteration 1032: RMSE=5.3491, MAE=5.3491\n",
      "2025-02-09 13:34:34,055 [13068] INFO     ml_monitor.logging: Starting metrics logging thread...\n",
      "2025-02-09 13:34:34,089 [13068] INFO     root: Iteration 1033: RMSE=1.0525, MAE=1.0525\n",
      "2025-02-09 13:34:34,236 [13068] INFO     root: Iteration 1034: RMSE=1.2010, MAE=1.2010\n",
      "2025-02-09 13:34:34,382 [13068] INFO     root: Iteration 1035: RMSE=7.1880, MAE=7.1880\n",
      "2025-02-09 13:34:34,567 [13068] INFO     root: Iteration 1036: RMSE=0.9510, MAE=0.9510\n",
      "2025-02-09 13:34:34,706 [13068] INFO     root: Iteration 1037: RMSE=3.0641, MAE=3.0641\n",
      "2025-02-09 13:34:34,890 [13068] INFO     root: Iteration 1038: RMSE=0.1550, MAE=0.1550\n",
      "2025-02-09 13:34:35,012 [13068] INFO     root: Iteration 1039: RMSE=1.2345, MAE=1.2345\n",
      "2025-02-09 13:34:35,157 [13068] INFO     root: Iteration 1040: RMSE=0.9201, MAE=0.9201\n",
      "2025-02-09 13:34:35,311 [13068] INFO     root: Iteration 1041: RMSE=1.0837, MAE=1.0837\n",
      "2025-02-09 13:34:35,465 [13068] INFO     root: Iteration 1042: RMSE=5.1385, MAE=5.1385\n",
      "2025-02-09 13:34:35,663 [13068] INFO     root: Iteration 1043: RMSE=1.9954, MAE=1.9954\n",
      "2025-02-09 13:34:35,805 [13068] INFO     root: Iteration 1044: RMSE=3.9035, MAE=3.9035\n",
      "2025-02-09 13:34:36,004 [13068] INFO     root: Iteration 1045: RMSE=0.4278, MAE=0.4278\n",
      "2025-02-09 13:34:36,182 [13068] INFO     root: Iteration 1046: RMSE=0.2922, MAE=0.2922\n",
      "2025-02-09 13:34:36,336 [13068] INFO     root: Iteration 1047: RMSE=6.3484, MAE=6.3484\n",
      "2025-02-09 13:34:36,770 [13068] INFO     root: Iteration 1048: RMSE=15.7679, MAE=15.7679\n",
      "2025-02-09 13:34:37,079 [13068] INFO     root: Iteration 1049: RMSE=1.0341, MAE=1.0341\n",
      "2025-02-09 13:34:37,267 [13068] INFO     root: Iteration 1050: RMSE=0.4053, MAE=0.4053\n",
      "2025-02-09 13:34:37,476 [13068] INFO     root: Iteration 1051: RMSE=0.0329, MAE=0.0329\n",
      "2025-02-09 13:34:38,577 [13068] INFO     root: Iteration 1052: RMSE=7.1880, MAE=7.1880\n",
      "2025-02-09 13:34:39,131 [13068] INFO     ml_monitor.logging: Starting metrics logging thread...\n",
      "2025-02-09 13:34:39,482 [13068] INFO     root: Metrics pushed at iteration 1052. RMSE=7.1880, MAE=7.1880\n",
      "2025-02-09 13:34:39,830 [13068] INFO     root: Iteration 1053: RMSE=3.6498, MAE=3.6498\n",
      "2025-02-09 13:34:40,023 [13068] INFO     root: Iteration 1054: RMSE=1.3937, MAE=1.3937\n",
      "2025-02-09 13:34:40,222 [13068] INFO     root: Iteration 1055: RMSE=3.2950, MAE=3.2950\n",
      "2025-02-09 13:34:40,418 [13068] INFO     root: Iteration 1056: RMSE=0.4053, MAE=0.4053\n",
      "2025-02-09 13:34:40,729 [13068] INFO     root: Iteration 1057: RMSE=5.8175, MAE=5.8175\n",
      "2025-02-09 13:34:40,915 [13068] INFO     root: Iteration 1058: RMSE=0.2445, MAE=0.2445\n",
      "2025-02-09 13:34:41,079 [13068] INFO     root: Iteration 1059: RMSE=0.1636, MAE=0.1636\n",
      "2025-02-09 13:34:41,261 [13068] INFO     root: Iteration 1060: RMSE=6.3484, MAE=6.3484\n",
      "2025-02-09 13:34:41,453 [13068] INFO     root: Iteration 1061: RMSE=1.0783, MAE=1.0783\n",
      "2025-02-09 13:34:42,189 [13068] INFO     root: Iteration 1062: RMSE=0.2356, MAE=0.2356\n",
      "2025-02-09 13:34:42,736 [13068] INFO     root: Iteration 1063: RMSE=4.3271, MAE=4.3271\n",
      "2025-02-09 13:34:42,952 [13068] INFO     root: Iteration 1064: RMSE=1.2010, MAE=1.2010\n",
      "2025-02-09 13:34:43,119 [13068] INFO     root: Iteration 1065: RMSE=3.0812, MAE=3.0812\n",
      "2025-02-09 13:34:43,286 [13068] INFO     root: Iteration 1066: RMSE=3.0048, MAE=3.0048\n",
      "2025-02-09 13:34:43,471 [13068] INFO     root: Iteration 1067: RMSE=2.7728, MAE=2.7728\n",
      "2025-02-09 13:34:43,728 [13068] INFO     root: Iteration 1068: RMSE=2.1957, MAE=2.1957\n",
      "2025-02-09 13:34:43,947 [13068] INFO     root: Iteration 1069: RMSE=0.5423, MAE=0.5423\n",
      "2025-02-09 13:34:44,139 [13068] INFO     root: Iteration 1070: RMSE=0.1550, MAE=0.1550\n",
      "2025-02-09 13:34:44,244 [13068] INFO     ml_monitor.logging: Starting metrics logging thread...\n",
      "2025-02-09 13:34:44,455 [13068] INFO     root: Iteration 1071: RMSE=0.5028, MAE=0.5028\n",
      "2025-02-09 13:34:44,670 [13068] INFO     root: Iteration 1072: RMSE=1.3937, MAE=1.3937\n",
      "2025-02-09 13:34:44,803 [13068] INFO     root: Iteration 1073: RMSE=6.3484, MAE=6.3484\n",
      "2025-02-09 13:34:44,947 [13068] INFO     root: Iteration 1074: RMSE=3.2372, MAE=3.2372\n",
      "2025-02-09 13:34:45,102 [13068] INFO     root: Iteration 1075: RMSE=3.1092, MAE=3.1092\n",
      "2025-02-09 13:34:45,239 [13068] INFO     root: Iteration 1076: RMSE=0.1636, MAE=0.1636\n",
      "2025-02-09 13:34:45,410 [13068] INFO     root: Iteration 1077: RMSE=5.1399, MAE=5.1399\n",
      "2025-02-09 13:34:45,586 [13068] INFO     root: Iteration 1078: RMSE=1.2010, MAE=1.2010\n",
      "2025-02-09 13:34:45,726 [13068] INFO     root: Iteration 1079: RMSE=2.1957, MAE=2.1957\n",
      "2025-02-09 13:34:45,907 [13068] INFO     root: Iteration 1080: RMSE=2.5983, MAE=2.5983\n",
      "2025-02-09 13:34:46,073 [13068] INFO     root: Iteration 1081: RMSE=0.6367, MAE=0.6367\n",
      "2025-02-09 13:34:46,254 [13068] INFO     root: Iteration 1082: RMSE=2.5983, MAE=2.5983\n",
      "2025-02-09 13:34:46,394 [13068] INFO     root: Iteration 1083: RMSE=1.0341, MAE=1.0341\n",
      "2025-02-09 13:34:46,578 [13068] INFO     root: Iteration 1084: RMSE=0.6004, MAE=0.6004\n",
      "2025-02-09 13:34:46,720 [13068] INFO     root: Iteration 1085: RMSE=1.0837, MAE=1.0837\n",
      "2025-02-09 13:34:46,871 [13068] INFO     root: Iteration 1086: RMSE=0.8502, MAE=0.8502\n",
      "2025-02-09 13:34:47,140 [13068] INFO     root: Iteration 1087: RMSE=4.3700, MAE=4.3700\n",
      "2025-02-09 13:34:47,301 [13068] INFO     root: Iteration 1088: RMSE=0.9690, MAE=0.9690\n",
      "2025-02-09 13:34:47,447 [13068] INFO     root: Iteration 1089: RMSE=2.7728, MAE=2.7728\n",
      "2025-02-09 13:34:47,635 [13068] INFO     root: Iteration 1090: RMSE=15.7679, MAE=15.7679\n",
      "2025-02-09 13:34:47,787 [13068] INFO     root: Iteration 1091: RMSE=1.2010, MAE=1.2010\n",
      "2025-02-09 13:34:47,944 [13068] INFO     root: Iteration 1092: RMSE=1.6668, MAE=1.6668\n",
      "2025-02-09 13:34:48,084 [13068] INFO     root: Iteration 1093: RMSE=3.0812, MAE=3.0812\n",
      "2025-02-09 13:34:48,331 [13068] INFO     root: Iteration 1094: RMSE=0.9690, MAE=0.9690\n",
      "2025-02-09 13:34:48,475 [13068] INFO     root: Iteration 1095: RMSE=7.1962, MAE=7.1962\n",
      "2025-02-09 13:34:48,769 [13068] INFO     root: Iteration 1096: RMSE=7.4122, MAE=7.4122\n",
      "2025-02-09 13:34:49,354 [13068] INFO     ml_monitor.logging: Starting metrics logging thread...\n",
      "2025-02-09 13:34:49,445 [13068] INFO     root: Metrics pushed at iteration 1096. RMSE=7.4122, MAE=7.4122\n",
      "2025-02-09 13:34:49,648 [13068] INFO     root: Iteration 1097: RMSE=0.5028, MAE=0.5028\n",
      "2025-02-09 13:34:49,851 [13068] INFO     root: Iteration 1098: RMSE=0.2445, MAE=0.2445\n",
      "2025-02-09 13:34:50,003 [13068] INFO     root: Iteration 1099: RMSE=0.4053, MAE=0.4053\n",
      "2025-02-09 13:34:50,154 [13068] INFO     root: Iteration 1100: RMSE=0.4811, MAE=0.4811\n",
      "2025-02-09 13:34:50,326 [13068] INFO     root: Iteration 1101: RMSE=4.8742, MAE=4.8742\n",
      "2025-02-09 13:34:50,465 [13068] INFO     root: Iteration 1102: RMSE=1.3227, MAE=1.3227\n",
      "2025-02-09 13:34:50,730 [13068] INFO     root: Iteration 1103: RMSE=1.9374, MAE=1.9374\n",
      "2025-02-09 13:34:51,034 [13068] INFO     root: Iteration 1104: RMSE=1.9891, MAE=1.9891\n",
      "2025-02-09 13:34:51,239 [13068] INFO     root: Iteration 1105: RMSE=1.9954, MAE=1.9954\n",
      "2025-02-09 13:34:51,410 [13068] INFO     root: Iteration 1106: RMSE=0.5329, MAE=0.5329\n",
      "2025-02-09 13:34:51,627 [13068] INFO     root: Iteration 1107: RMSE=0.4554, MAE=0.4554\n",
      "2025-02-09 13:34:51,820 [13068] INFO     root: Iteration 1108: RMSE=1.0783, MAE=1.0783\n",
      "2025-02-09 13:34:52,003 [13068] INFO     root: Iteration 1109: RMSE=6.5607, MAE=6.5607\n",
      "2025-02-09 13:34:52,208 [13068] INFO     root: Iteration 1110: RMSE=2.5983, MAE=2.5983\n",
      "2025-02-09 13:34:52,847 [13068] INFO     root: Iteration 1111: RMSE=1.2010, MAE=1.2010\n",
      "2025-02-09 13:34:53,580 [13068] INFO     root: Iteration 1112: RMSE=6.3484, MAE=6.3484\n",
      "2025-02-09 13:34:54,123 [13068] INFO     root: Iteration 1113: RMSE=1.6668, MAE=1.6668\n",
      "2025-02-09 13:34:54,366 [13068] INFO     root: Iteration 1114: RMSE=2.5855, MAE=2.5855\n",
      "2025-02-09 13:34:54,396 [13068] INFO     ml_monitor.logging: Starting metrics logging thread...\n",
      "2025-02-09 13:34:55,014 [13068] INFO     root: Iteration 1115: RMSE=1.5147, MAE=1.5147\n",
      "2025-02-09 13:34:55,436 [13068] INFO     root: Iteration 1116: RMSE=6.5607, MAE=6.5607\n",
      "2025-02-09 13:34:56,125 [13068] INFO     root: Iteration 1117: RMSE=2.0594, MAE=2.0594\n",
      "2025-02-09 13:34:56,373 [13068] INFO     root: Iteration 1118: RMSE=4.2530, MAE=4.2530\n",
      "2025-02-09 13:34:56,864 [13068] INFO     root: Iteration 1119: RMSE=0.1636, MAE=0.1636\n",
      "2025-02-09 13:34:57,147 [13068] INFO     root: Iteration 1120: RMSE=3.0048, MAE=3.0048\n",
      "2025-02-09 13:34:57,388 [13068] INFO     root: Iteration 1121: RMSE=0.0329, MAE=0.0329\n",
      "2025-02-09 13:34:57,608 [13068] INFO     root: Iteration 1122: RMSE=0.4053, MAE=0.4053\n",
      "2025-02-09 13:34:57,827 [13068] INFO     root: Iteration 1123: RMSE=1.9880, MAE=1.9880\n",
      "2025-02-09 13:34:58,097 [13068] INFO     root: Iteration 1124: RMSE=4.2272, MAE=4.2272\n",
      "2025-02-09 13:34:58,309 [13068] INFO     root: Iteration 1125: RMSE=1.7964, MAE=1.7964\n",
      "2025-02-09 13:34:58,586 [13068] INFO     root: Iteration 1126: RMSE=3.0812, MAE=3.0812\n",
      "2025-02-09 13:34:58,811 [13068] INFO     root: Iteration 1127: RMSE=5.8175, MAE=5.8175\n",
      "2025-02-09 13:34:59,540 [13068] INFO     ml_monitor.logging: Starting metrics logging thread...\n",
      "2025-02-09 13:34:59,775 [13068] INFO     root: Metrics pushed at iteration 1127. RMSE=5.8175, MAE=5.8175\n",
      "2025-02-09 13:34:59,999 [13068] INFO     root: Iteration 1128: RMSE=0.0329, MAE=0.0329\n",
      "2025-02-09 13:35:00,182 [13068] INFO     root: Iteration 1129: RMSE=3.6498, MAE=3.6498\n",
      "2025-02-09 13:35:00,389 [13068] INFO     root: Iteration 1130: RMSE=2.4407, MAE=2.4407\n",
      "2025-02-09 13:35:00,574 [13068] INFO     root: Iteration 1131: RMSE=2.1957, MAE=2.1957\n",
      "2025-02-09 13:35:00,755 [13068] INFO     root: Iteration 1132: RMSE=0.0329, MAE=0.0329\n",
      "2025-02-09 13:35:00,960 [13068] INFO     root: Iteration 1133: RMSE=1.7964, MAE=1.7964\n",
      "2025-02-09 13:35:01,334 [13068] INFO     root: Iteration 1134: RMSE=0.2356, MAE=0.2356\n",
      "2025-02-09 13:35:01,528 [13068] INFO     root: Iteration 1135: RMSE=1.2345, MAE=1.2345\n",
      "2025-02-09 13:35:01,685 [13068] INFO     root: Iteration 1136: RMSE=0.1640, MAE=0.1640\n",
      "2025-02-09 13:35:01,831 [13068] INFO     root: Iteration 1137: RMSE=0.8502, MAE=0.8502\n",
      "2025-02-09 13:35:01,965 [13068] INFO     root: Iteration 1138: RMSE=2.4681, MAE=2.4681\n",
      "2025-02-09 13:35:02,108 [13068] INFO     root: Iteration 1139: RMSE=0.8502, MAE=0.8502\n",
      "2025-02-09 13:35:02,269 [13068] INFO     root: Iteration 1140: RMSE=3.1701, MAE=3.1701\n",
      "2025-02-09 13:35:02,418 [13068] INFO     root: Iteration 1141: RMSE=2.5855, MAE=2.5855\n",
      "2025-02-09 13:35:02,568 [13068] INFO     root: Iteration 1142: RMSE=1.0525, MAE=1.0525\n",
      "2025-02-09 13:35:02,727 [13068] INFO     root: Iteration 1143: RMSE=4.3271, MAE=4.3271\n",
      "2025-02-09 13:35:02,856 [13068] INFO     root: Iteration 1144: RMSE=2.7746, MAE=2.7746\n",
      "2025-02-09 13:35:03,012 [13068] INFO     root: Iteration 1145: RMSE=4.2272, MAE=4.2272\n",
      "2025-02-09 13:35:03,135 [13068] INFO     root: Iteration 1146: RMSE=0.1640, MAE=0.1640\n",
      "2025-02-09 13:35:03,283 [13068] INFO     root: Iteration 1147: RMSE=0.5329, MAE=0.5329\n",
      "2025-02-09 13:35:03,469 [13068] INFO     root: Iteration 1148: RMSE=1.7964, MAE=1.7964\n",
      "2025-02-09 13:35:03,628 [13068] INFO     root: Iteration 1149: RMSE=0.9690, MAE=0.9690\n",
      "2025-02-09 13:35:03,754 [13068] INFO     root: Iteration 1150: RMSE=2.4681, MAE=2.4681\n",
      "2025-02-09 13:35:03,891 [13068] INFO     root: Iteration 1151: RMSE=0.5028, MAE=0.5028\n",
      "2025-02-09 13:35:04,024 [13068] INFO     root: Iteration 1152: RMSE=1.0783, MAE=1.0783\n",
      "2025-02-09 13:35:04,170 [13068] INFO     root: Iteration 1153: RMSE=0.9690, MAE=0.9690\n",
      "2025-02-09 13:35:04,355 [13068] INFO     root: Iteration 1154: RMSE=1.6861, MAE=1.6861\n",
      "2025-02-09 13:35:04,507 [13068] INFO     root: Iteration 1155: RMSE=0.5423, MAE=0.5423\n",
      "2025-02-09 13:35:04,660 [13068] INFO     root: Iteration 1156: RMSE=0.9510, MAE=0.9510\n",
      "2025-02-09 13:35:04,707 [13068] INFO     ml_monitor.logging: Starting metrics logging thread...\n",
      "2025-02-09 13:35:04,843 [13068] INFO     root: Iteration 1157: RMSE=0.0190, MAE=0.0190\n",
      "2025-02-09 13:35:04,990 [13068] INFO     root: Iteration 1158: RMSE=6.5607, MAE=6.5607\n",
      "2025-02-09 13:35:05,128 [13068] INFO     root: Iteration 1159: RMSE=21.1875, MAE=21.1875\n",
      "2025-02-09 13:35:05,253 [13068] INFO     root: Iteration 1160: RMSE=0.6004, MAE=0.6004\n",
      "2025-02-09 13:35:05,395 [13068] INFO     root: Iteration 1161: RMSE=4.2619, MAE=4.2619\n",
      "2025-02-09 13:35:05,537 [13068] INFO     root: Iteration 1162: RMSE=1.0837, MAE=1.0837\n",
      "2025-02-09 13:35:05,693 [13068] INFO     root: Iteration 1163: RMSE=0.6277, MAE=0.6277\n",
      "2025-02-09 13:35:05,843 [13068] INFO     root: Iteration 1164: RMSE=2.5983, MAE=2.5983\n",
      "2025-02-09 13:35:06,006 [13068] INFO     root: Iteration 1165: RMSE=2.7746, MAE=2.7746\n",
      "2025-02-09 13:35:06,142 [13068] INFO     root: Iteration 1166: RMSE=0.4554, MAE=0.4554\n",
      "2025-02-09 13:35:06,287 [13068] INFO     root: Iteration 1167: RMSE=5.1385, MAE=5.1385\n",
      "2025-02-09 13:35:06,430 [13068] INFO     root: Iteration 1168: RMSE=0.8502, MAE=0.8502\n",
      "2025-02-09 13:35:06,587 [13068] INFO     root: Iteration 1169: RMSE=3.9228, MAE=3.9228\n",
      "2025-02-09 13:35:06,746 [13068] INFO     root: Iteration 1170: RMSE=7.4122, MAE=7.4122\n",
      "2025-02-09 13:35:06,882 [13068] INFO     root: Iteration 1171: RMSE=2.8002, MAE=2.8002\n",
      "2025-02-09 13:35:07,035 [13068] INFO     root: Iteration 1172: RMSE=1.5289, MAE=1.5289\n",
      "2025-02-09 13:35:07,162 [13068] INFO     root: Iteration 1173: RMSE=2.6178, MAE=2.6178\n",
      "2025-02-09 13:35:07,301 [13068] INFO     root: Iteration 1174: RMSE=5.8811, MAE=5.8811\n",
      "2025-02-09 13:35:07,458 [13068] INFO     root: Iteration 1175: RMSE=1.7797, MAE=1.7797\n",
      "2025-02-09 13:35:07,598 [13068] INFO     root: Iteration 1176: RMSE=2.9898, MAE=2.9898\n",
      "2025-02-09 13:35:07,761 [13068] INFO     root: Iteration 1177: RMSE=0.6863, MAE=0.6863\n",
      "2025-02-09 13:35:07,902 [13068] INFO     root: Iteration 1178: RMSE=5.2814, MAE=5.2814\n",
      "2025-02-09 13:35:08,049 [13068] INFO     root: Iteration 1179: RMSE=1.6668, MAE=1.6668\n",
      "2025-02-09 13:35:08,176 [13068] INFO     root: Iteration 1180: RMSE=1.2841, MAE=1.2841\n",
      "2025-02-09 13:35:08,450 [13068] INFO     root: Iteration 1181: RMSE=6.4895, MAE=6.4895\n",
      "2025-02-09 13:35:08,660 [13068] INFO     root: Iteration 1182: RMSE=1.9891, MAE=1.9891\n",
      "2025-02-09 13:35:08,842 [13068] INFO     root: Iteration 1183: RMSE=0.5028, MAE=0.5028\n",
      "2025-02-09 13:35:09,915 [13068] INFO     ml_monitor.logging: Starting metrics logging thread...\n",
      "2025-02-09 13:35:10,353 [13068] INFO     root: Metrics pushed at iteration 1183. RMSE=0.5028, MAE=0.5028\n",
      "2025-02-09 13:35:10,594 [13068] INFO     root: Iteration 1184: RMSE=0.6863, MAE=0.6863\n",
      "2025-02-09 13:35:10,886 [13068] INFO     root: Iteration 1185: RMSE=2.4091, MAE=2.4091\n",
      "2025-02-09 13:35:11,147 [13068] INFO     root: Iteration 1186: RMSE=2.9898, MAE=2.9898\n",
      "2025-02-09 13:35:11,318 [13068] INFO     root: Iteration 1187: RMSE=1.9954, MAE=1.9954\n",
      "2025-02-09 13:35:11,583 [13068] INFO     root: Iteration 1188: RMSE=6.4895, MAE=6.4895\n",
      "2025-02-09 13:35:11,802 [13068] INFO     root: Iteration 1189: RMSE=5.8175, MAE=5.8175\n",
      "2025-02-09 13:35:12,061 [13068] INFO     root: Iteration 1190: RMSE=3.0812, MAE=3.0812\n",
      "2025-02-09 13:35:12,294 [13068] INFO     root: Iteration 1191: RMSE=0.9176, MAE=0.9176\n",
      "2025-02-09 13:35:12,553 [13068] INFO     root: Iteration 1192: RMSE=3.9035, MAE=3.9035\n",
      "2025-02-09 13:35:12,727 [13068] INFO     root: Iteration 1193: RMSE=1.0341, MAE=1.0341\n",
      "2025-02-09 13:35:12,910 [13068] INFO     root: Iteration 1194: RMSE=1.5289, MAE=1.5289\n",
      "2025-02-09 13:35:13,135 [13068] INFO     root: Iteration 1195: RMSE=1.2010, MAE=1.2010\n",
      "2025-02-09 13:35:13,445 [13068] INFO     root: Iteration 1196: RMSE=1.3227, MAE=1.3227\n",
      "2025-02-09 13:35:14,144 [13068] INFO     root: Iteration 1197: RMSE=0.4554, MAE=0.4554\n",
      "2025-02-09 13:35:14,631 [13068] INFO     root: Iteration 1198: RMSE=0.6863, MAE=0.6863\n",
      "2025-02-09 13:35:14,870 [13068] INFO     root: Iteration 1199: RMSE=0.6820, MAE=0.6820\n",
      "2025-02-09 13:35:15,071 [13068] INFO     root: Iteration 1200: RMSE=0.5423, MAE=0.5423\n",
      "2025-02-09 13:35:15,213 [13068] INFO     root: Iteration 1201: RMSE=2.7746, MAE=2.7746\n",
      "2025-02-09 13:35:15,310 [13068] INFO     ml_monitor.logging: Starting metrics logging thread...\n",
      "2025-02-09 13:35:15,519 [13068] INFO     root: Iteration 1202: RMSE=0.5028, MAE=0.5028\n",
      "2025-02-09 13:35:15,731 [13068] INFO     root: Iteration 1203: RMSE=0.9690, MAE=0.9690\n",
      "2025-02-09 13:35:15,954 [13068] INFO     root: Iteration 1204: RMSE=2.4091, MAE=2.4091\n",
      "2025-02-09 13:35:16,081 [13068] INFO     root: Iteration 1205: RMSE=21.1875, MAE=21.1875\n",
      "2025-02-09 13:35:16,224 [13068] INFO     root: Iteration 1206: RMSE=1.7797, MAE=1.7797\n",
      "2025-02-09 13:35:16,352 [13068] INFO     root: Iteration 1207: RMSE=1.2010, MAE=1.2010\n",
      "2025-02-09 13:35:16,500 [13068] INFO     root: Iteration 1208: RMSE=2.6178, MAE=2.6178\n",
      "2025-02-09 13:35:16,646 [13068] INFO     root: Iteration 1209: RMSE=4.2733, MAE=4.2733\n",
      "2025-02-09 13:35:16,778 [13068] INFO     root: Iteration 1210: RMSE=1.3937, MAE=1.3937\n",
      "2025-02-09 13:35:16,918 [13068] INFO     root: Iteration 1211: RMSE=0.0329, MAE=0.0329\n",
      "2025-02-09 13:35:17,068 [13068] INFO     root: Iteration 1212: RMSE=2.0594, MAE=2.0594\n",
      "2025-02-09 13:35:17,210 [13068] INFO     root: Iteration 1213: RMSE=0.0190, MAE=0.0190\n",
      "2025-02-09 13:35:17,341 [13068] INFO     root: Iteration 1214: RMSE=2.1020, MAE=2.1020\n",
      "2025-02-09 13:35:17,488 [13068] INFO     root: Iteration 1215: RMSE=1.2010, MAE=1.2010\n",
      "2025-02-09 13:35:17,658 [13068] INFO     root: Iteration 1216: RMSE=2.8002, MAE=2.8002\n",
      "2025-02-09 13:35:17,798 [13068] INFO     root: Iteration 1217: RMSE=0.0329, MAE=0.0329\n",
      "2025-02-09 13:35:17,928 [13068] INFO     root: Iteration 1218: RMSE=3.2372, MAE=3.2372\n",
      "2025-02-09 13:35:18,094 [13068] INFO     root: Iteration 1219: RMSE=1.9880, MAE=1.9880\n",
      "2025-02-09 13:35:18,250 [13068] INFO     root: Iteration 1220: RMSE=0.0894, MAE=0.0894\n",
      "2025-02-09 13:35:18,379 [13068] INFO     root: Iteration 1221: RMSE=1.6861, MAE=1.6861\n",
      "2025-02-09 13:35:18,565 [13068] INFO     root: Iteration 1222: RMSE=1.5289, MAE=1.5289\n",
      "2025-02-09 13:35:18,745 [13068] INFO     root: Iteration 1223: RMSE=1.9954, MAE=1.9954\n",
      "2025-02-09 13:35:18,867 [13068] INFO     root: Iteration 1224: RMSE=0.6367, MAE=0.6367\n",
      "2025-02-09 13:35:19,673 [13068] INFO     root: Metrics pushed at iteration 1224. RMSE=0.6367, MAE=0.6367\n",
      "2025-02-09 13:35:19,804 [13068] INFO     root: Iteration 1225: RMSE=6.3484, MAE=6.3484\n",
      "2025-02-09 13:35:19,944 [13068] INFO     root: Iteration 1226: RMSE=1.2345, MAE=1.2345\n",
      "2025-02-09 13:35:20,085 [13068] INFO     root: Iteration 1227: RMSE=0.5329, MAE=0.5329\n",
      "2025-02-09 13:35:20,216 [13068] INFO     root: Iteration 1228: RMSE=2.5983, MAE=2.5983\n",
      "2025-02-09 13:35:20,345 [13068] INFO     root: Iteration 1229: RMSE=4.8742, MAE=4.8742\n",
      "2025-02-09 13:35:20,381 [13068] INFO     ml_monitor.logging: Starting metrics logging thread...\n",
      "2025-02-09 13:35:20,516 [13068] INFO     root: Iteration 1230: RMSE=0.6863, MAE=0.6863\n",
      "2025-02-09 13:35:20,689 [13068] INFO     root: Iteration 1231: RMSE=1.0837, MAE=1.0837\n",
      "2025-02-09 13:35:20,856 [13068] INFO     root: Iteration 1232: RMSE=3.1092, MAE=3.1092\n",
      "2025-02-09 13:35:21,185 [13068] INFO     root: Iteration 1233: RMSE=21.1875, MAE=21.1875\n",
      "2025-02-09 13:35:21,372 [13068] INFO     root: Iteration 1234: RMSE=1.3227, MAE=1.3227\n",
      "2025-02-09 13:35:21,566 [13068] INFO     root: Iteration 1235: RMSE=3.1092, MAE=3.1092\n",
      "2025-02-09 13:35:21,739 [13068] INFO     root: Iteration 1236: RMSE=2.5855, MAE=2.5855\n",
      "2025-02-09 13:35:21,910 [13068] INFO     root: Iteration 1237: RMSE=1.9024, MAE=1.9024\n",
      "2025-02-09 13:35:22,068 [13068] INFO     root: Iteration 1238: RMSE=4.2619, MAE=4.2619\n",
      "2025-02-09 13:35:22,196 [13068] INFO     root: Iteration 1239: RMSE=4.2272, MAE=4.2272\n",
      "2025-02-09 13:35:22,398 [13068] INFO     root: Iteration 1240: RMSE=4.2619, MAE=4.2619\n",
      "2025-02-09 13:35:22,566 [13068] INFO     root: Iteration 1241: RMSE=4.3700, MAE=4.3700\n",
      "2025-02-09 13:35:22,726 [13068] INFO     root: Iteration 1242: RMSE=2.1957, MAE=2.1957\n",
      "2025-02-09 13:35:22,876 [13068] INFO     root: Iteration 1243: RMSE=3.2950, MAE=3.2950\n",
      "2025-02-09 13:35:23,023 [13068] INFO     root: Iteration 1244: RMSE=7.1962, MAE=7.1962\n",
      "2025-02-09 13:35:23,156 [13068] INFO     root: Iteration 1245: RMSE=2.8002, MAE=2.8002\n",
      "2025-02-09 13:35:23,312 [13068] INFO     root: Iteration 1246: RMSE=1.5147, MAE=1.5147\n",
      "2025-02-09 13:35:23,451 [13068] INFO     root: Iteration 1247: RMSE=0.0329, MAE=0.0329\n",
      "2025-02-09 13:35:23,729 [13068] INFO     root: Iteration 1248: RMSE=2.1957, MAE=2.1957\n",
      "2025-02-09 13:35:23,925 [13068] INFO     root: Iteration 1249: RMSE=2.4407, MAE=2.4407\n",
      "2025-02-09 13:35:24,081 [13068] INFO     root: Iteration 1250: RMSE=1.2345, MAE=1.2345\n",
      "2025-02-09 13:35:24,248 [13068] INFO     root: Iteration 1251: RMSE=4.3700, MAE=4.3700\n",
      "2025-02-09 13:35:24,481 [13068] INFO     root: Iteration 1252: RMSE=1.3227, MAE=1.3227\n",
      "2025-02-09 13:35:24,808 [13068] INFO     root: Iteration 1253: RMSE=0.5028, MAE=0.5028\n",
      "2025-02-09 13:35:25,061 [13068] INFO     root: Iteration 1254: RMSE=5.1385, MAE=5.1385\n",
      "2025-02-09 13:35:25,314 [13068] INFO     root: Iteration 1255: RMSE=2.0594, MAE=2.0594\n",
      "2025-02-09 13:35:25,462 [13068] INFO     ml_monitor.logging: Starting metrics logging thread...\n",
      "2025-02-09 13:35:25,876 [13068] INFO     root: Iteration 1256: RMSE=1.9954, MAE=1.9954\n",
      "2025-02-09 13:35:26,089 [13068] INFO     root: Iteration 1257: RMSE=2.4091, MAE=2.4091\n",
      "2025-02-09 13:35:26,336 [13068] INFO     root: Iteration 1258: RMSE=0.4554, MAE=0.4554\n",
      "2025-02-09 13:35:26,793 [13068] INFO     root: Iteration 1259: RMSE=0.5329, MAE=0.5329\n",
      "2025-02-09 13:35:26,980 [13068] INFO     root: Iteration 1260: RMSE=3.6498, MAE=3.6498\n",
      "2025-02-09 13:35:27,190 [13068] INFO     root: Iteration 1261: RMSE=0.6004, MAE=0.6004\n",
      "2025-02-09 13:35:27,404 [13068] INFO     root: Iteration 1262: RMSE=0.2922, MAE=0.2922\n",
      "2025-02-09 13:35:27,857 [13068] INFO     root: Iteration 1263: RMSE=4.8742, MAE=4.8742\n",
      "2025-02-09 13:35:28,176 [13068] INFO     root: Iteration 1264: RMSE=3.0048, MAE=3.0048\n",
      "2025-02-09 13:35:28,377 [13068] INFO     root: Iteration 1265: RMSE=5.3491, MAE=5.3491\n",
      "2025-02-09 13:35:28,841 [13068] INFO     root: Iteration 1266: RMSE=3.0812, MAE=3.0812\n",
      "2025-02-09 13:35:29,780 [13068] INFO     root: Metrics pushed at iteration 1266. RMSE=3.0812, MAE=3.0812\n",
      "2025-02-09 13:35:30,028 [13068] INFO     root: Iteration 1267: RMSE=7.1880, MAE=7.1880\n",
      "2025-02-09 13:35:30,235 [13068] INFO     root: Iteration 1268: RMSE=1.0525, MAE=1.0525\n",
      "2025-02-09 13:35:30,401 [13068] INFO     root: Iteration 1269: RMSE=0.4811, MAE=0.4811\n",
      "2025-02-09 13:35:30,672 [13068] INFO     root: Iteration 1270: RMSE=5.1385, MAE=5.1385\n",
      "2025-02-09 13:35:30,834 [13068] INFO     ml_monitor.logging: Starting metrics logging thread...\n",
      "2025-02-09 13:35:31,025 [13068] INFO     root: Iteration 1271: RMSE=4.2272, MAE=4.2272\n",
      "2025-02-09 13:35:31,241 [13068] INFO     root: Iteration 1272: RMSE=0.2356, MAE=0.2356\n",
      "2025-02-09 13:35:31,378 [13068] INFO     root: Iteration 1273: RMSE=1.6861, MAE=1.6861\n",
      "2025-02-09 13:35:31,547 [13068] INFO     root: Iteration 1274: RMSE=1.0783, MAE=1.0783\n",
      "2025-02-09 13:35:31,717 [13068] INFO     root: Iteration 1275: RMSE=0.6863, MAE=0.6863\n",
      "2025-02-09 13:35:31,888 [13068] INFO     root: Iteration 1276: RMSE=0.8502, MAE=0.8502\n",
      "2025-02-09 13:35:32,048 [13068] INFO     root: Iteration 1277: RMSE=0.2922, MAE=0.2922\n",
      "2025-02-09 13:35:32,203 [13068] INFO     root: Iteration 1278: RMSE=2.1281, MAE=2.1281\n",
      "2025-02-09 13:35:32,332 [13068] INFO     root: Iteration 1279: RMSE=0.0894, MAE=0.0894\n",
      "2025-02-09 13:35:32,517 [13068] INFO     root: Iteration 1280: RMSE=3.2950, MAE=3.2950\n",
      "2025-02-09 13:35:32,647 [13068] INFO     root: Iteration 1281: RMSE=0.5329, MAE=0.5329\n",
      "2025-02-09 13:35:32,864 [13068] INFO     root: Iteration 1282: RMSE=0.0190, MAE=0.0190\n",
      "2025-02-09 13:35:33,041 [13068] INFO     root: Iteration 1283: RMSE=4.2272, MAE=4.2272\n",
      "2025-02-09 13:35:33,180 [13068] INFO     root: Iteration 1284: RMSE=3.2372, MAE=3.2372\n",
      "2025-02-09 13:35:33,314 [13068] INFO     root: Iteration 1285: RMSE=0.2922, MAE=0.2922\n",
      "2025-02-09 13:35:33,458 [13068] INFO     root: Iteration 1286: RMSE=0.6863, MAE=0.6863\n",
      "2025-02-09 13:35:33,635 [13068] INFO     root: Iteration 1287: RMSE=1.9374, MAE=1.9374\n",
      "2025-02-09 13:35:33,820 [13068] INFO     root: Iteration 1288: RMSE=4.3271, MAE=4.3271\n",
      "2025-02-09 13:35:33,954 [13068] INFO     root: Iteration 1289: RMSE=0.6367, MAE=0.6367\n",
      "2025-02-09 13:35:34,117 [13068] INFO     root: Iteration 1290: RMSE=3.0641, MAE=3.0641\n",
      "2025-02-09 13:35:34,285 [13068] INFO     root: Iteration 1291: RMSE=0.4278, MAE=0.4278\n",
      "2025-02-09 13:35:34,433 [13068] INFO     root: Iteration 1292: RMSE=1.3937, MAE=1.3937\n",
      "2025-02-09 13:35:34,601 [13068] INFO     root: Iteration 1293: RMSE=2.0594, MAE=2.0594\n",
      "2025-02-09 13:35:34,752 [13068] INFO     root: Iteration 1294: RMSE=0.0894, MAE=0.0894\n",
      "2025-02-09 13:35:34,906 [13068] INFO     root: Iteration 1295: RMSE=0.8280, MAE=0.8280\n",
      "2025-02-09 13:35:35,030 [13068] INFO     root: Iteration 1296: RMSE=3.1092, MAE=3.1092\n",
      "2025-02-09 13:35:35,165 [13068] INFO     root: Iteration 1297: RMSE=4.3271, MAE=4.3271\n",
      "2025-02-09 13:35:35,347 [13068] INFO     root: Iteration 1298: RMSE=1.0837, MAE=1.0837\n",
      "2025-02-09 13:35:35,516 [13068] INFO     root: Iteration 1299: RMSE=2.8002, MAE=2.8002\n",
      "2025-02-09 13:35:35,661 [13068] INFO     root: Iteration 1300: RMSE=0.8502, MAE=0.8502\n",
      "2025-02-09 13:35:35,786 [13068] INFO     root: Iteration 1301: RMSE=3.2950, MAE=3.2950\n",
      "2025-02-09 13:35:35,926 [13068] INFO     root: Iteration 1302: RMSE=1.7797, MAE=1.7797\n",
      "2025-02-09 13:35:35,928 [13068] INFO     ml_monitor.logging: Starting metrics logging thread...\n",
      "2025-02-09 13:35:36,082 [13068] INFO     root: Iteration 1303: RMSE=5.8175, MAE=5.8175\n",
      "2025-02-09 13:35:36,225 [13068] INFO     root: Iteration 1304: RMSE=0.6277, MAE=0.6277\n",
      "2025-02-09 13:35:36,351 [13068] INFO     root: Iteration 1305: RMSE=3.2950, MAE=3.2950\n",
      "2025-02-09 13:35:36,529 [13068] INFO     root: Iteration 1306: RMSE=2.4407, MAE=2.4407\n",
      "2025-02-09 13:35:36,674 [13068] INFO     root: Iteration 1307: RMSE=2.7746, MAE=2.7746\n",
      "2025-02-09 13:35:36,813 [13068] INFO     root: Iteration 1308: RMSE=2.5855, MAE=2.5855\n",
      "2025-02-09 13:35:36,967 [13068] INFO     root: Iteration 1309: RMSE=3.6498, MAE=3.6498\n",
      "2025-02-09 13:35:37,134 [13068] INFO     root: Iteration 1310: RMSE=0.9690, MAE=0.9690\n",
      "2025-02-09 13:35:37,267 [13068] INFO     root: Iteration 1311: RMSE=3.2950, MAE=3.2950\n",
      "2025-02-09 13:35:37,578 [13068] INFO     root: Iteration 1312: RMSE=0.2356, MAE=0.2356\n",
      "2025-02-09 13:35:37,714 [13068] INFO     root: Iteration 1313: RMSE=2.2823, MAE=2.2823\n",
      "2025-02-09 13:35:37,896 [13068] INFO     root: Iteration 1314: RMSE=2.2823, MAE=2.2823\n",
      "2025-02-09 13:35:38,029 [13068] INFO     root: Iteration 1315: RMSE=3.9035, MAE=3.9035\n",
      "2025-02-09 13:35:38,191 [13068] INFO     root: Iteration 1316: RMSE=4.3700, MAE=4.3700\n",
      "2025-02-09 13:35:38,315 [13068] INFO     root: Iteration 1317: RMSE=3.9035, MAE=3.9035\n",
      "2025-02-09 13:35:38,482 [13068] INFO     root: Iteration 1318: RMSE=2.7728, MAE=2.7728\n",
      "2025-02-09 13:35:38,651 [13068] INFO     root: Iteration 1319: RMSE=4.2619, MAE=4.2619\n",
      "2025-02-09 13:35:38,797 [13068] INFO     root: Iteration 1320: RMSE=2.2319, MAE=2.2319\n",
      "2025-02-09 13:35:38,945 [13068] INFO     root: Iteration 1321: RMSE=2.4681, MAE=2.4681\n",
      "2025-02-09 13:35:39,649 [13068] INFO     root: Metrics pushed at iteration 1321. RMSE=2.4681, MAE=2.4681\n",
      "2025-02-09 13:35:39,826 [13068] INFO     root: Iteration 1322: RMSE=5.0666, MAE=5.0666\n",
      "2025-02-09 13:35:40,019 [13068] INFO     root: Iteration 1323: RMSE=2.2324, MAE=2.2324\n",
      "2025-02-09 13:35:40,226 [13068] INFO     root: Iteration 1324: RMSE=0.5423, MAE=0.5423\n",
      "2025-02-09 13:35:40,388 [13068] INFO     root: Iteration 1325: RMSE=6.5607, MAE=6.5607\n",
      "2025-02-09 13:35:40,674 [13068] INFO     root: Iteration 1326: RMSE=3.1701, MAE=3.1701\n",
      "2025-02-09 13:35:40,939 [13068] INFO     root: Iteration 1327: RMSE=0.1636, MAE=0.1636\n",
      "2025-02-09 13:35:41,019 [13068] INFO     ml_monitor.logging: Starting metrics logging thread...\n",
      "2025-02-09 13:35:41,327 [13068] INFO     root: Iteration 1328: RMSE=0.0190, MAE=0.0190\n",
      "2025-02-09 13:35:41,909 [13068] INFO     root: Iteration 1329: RMSE=0.4811, MAE=0.4811\n",
      "2025-02-09 13:35:42,193 [13068] INFO     root: Iteration 1330: RMSE=1.9470, MAE=1.9470\n",
      "2025-02-09 13:35:42,464 [13068] INFO     root: Iteration 1331: RMSE=6.5607, MAE=6.5607\n",
      "2025-02-09 13:35:42,865 [13068] INFO     root: Iteration 1332: RMSE=3.1092, MAE=3.1092\n",
      "2025-02-09 13:35:43,046 [13068] INFO     root: Iteration 1333: RMSE=0.6820, MAE=0.6820\n",
      "2025-02-09 13:35:43,215 [13068] INFO     root: Iteration 1334: RMSE=1.0783, MAE=1.0783\n",
      "2025-02-09 13:35:43,350 [13068] INFO     root: Iteration 1335: RMSE=1.9891, MAE=1.9891\n",
      "2025-02-09 13:35:43,794 [13068] INFO     root: Iteration 1336: RMSE=0.1636, MAE=0.1636\n",
      "2025-02-09 13:35:44,046 [13068] INFO     root: Iteration 1337: RMSE=0.1550, MAE=0.1550\n",
      "2025-02-09 13:35:44,251 [13068] INFO     root: Iteration 1338: RMSE=2.5983, MAE=2.5983\n",
      "2025-02-09 13:35:44,423 [13068] INFO     root: Iteration 1339: RMSE=0.0329, MAE=0.0329\n",
      "2025-02-09 13:35:44,922 [13068] INFO     root: Iteration 1340: RMSE=5.0666, MAE=5.0666\n",
      "2025-02-09 13:35:45,129 [13068] INFO     root: Iteration 1341: RMSE=0.0329, MAE=0.0329\n",
      "2025-02-09 13:35:45,349 [13068] INFO     root: Iteration 1342: RMSE=3.2372, MAE=3.2372\n",
      "2025-02-09 13:35:45,769 [13068] INFO     root: Iteration 1343: RMSE=1.9470, MAE=1.9470\n",
      "2025-02-09 13:35:45,965 [13068] INFO     root: Iteration 1344: RMSE=0.8280, MAE=0.8280\n",
      "2025-02-09 13:35:46,117 [13068] INFO     root: Iteration 1345: RMSE=2.2823, MAE=2.2823\n",
      "2025-02-09 13:35:46,209 [13068] INFO     ml_monitor.logging: Starting metrics logging thread...\n",
      "2025-02-09 13:35:46,324 [13068] INFO     root: Iteration 1346: RMSE=3.2372, MAE=3.2372\n",
      "2025-02-09 13:35:46,543 [13068] INFO     root: Iteration 1347: RMSE=0.5423, MAE=0.5423\n",
      "2025-02-09 13:35:46,763 [13068] INFO     root: Iteration 1348: RMSE=0.4053, MAE=0.4053\n",
      "2025-02-09 13:35:46,977 [13068] INFO     root: Iteration 1349: RMSE=0.6820, MAE=0.6820\n",
      "2025-02-09 13:35:47,142 [13068] INFO     root: Iteration 1350: RMSE=4.3271, MAE=4.3271\n",
      "2025-02-09 13:35:47,468 [13068] INFO     root: Iteration 1351: RMSE=1.9374, MAE=1.9374\n",
      "2025-02-09 13:35:47,624 [13068] INFO     root: Iteration 1352: RMSE=1.9891, MAE=1.9891\n",
      "2025-02-09 13:35:47,746 [13068] INFO     root: Iteration 1353: RMSE=0.1136, MAE=0.1136\n",
      "2025-02-09 13:35:47,896 [13068] INFO     root: Iteration 1354: RMSE=3.2372, MAE=3.2372\n",
      "2025-02-09 13:35:48,056 [13068] INFO     root: Iteration 1355: RMSE=0.6277, MAE=0.6277\n",
      "2025-02-09 13:35:48,199 [13068] INFO     root: Iteration 1356: RMSE=0.8295, MAE=0.8295\n",
      "2025-02-09 13:35:48,342 [13068] INFO     root: Iteration 1357: RMSE=1.2010, MAE=1.2010\n",
      "2025-02-09 13:35:48,488 [13068] INFO     root: Iteration 1358: RMSE=4.3700, MAE=4.3700\n",
      "2025-02-09 13:35:48,675 [13068] INFO     root: Iteration 1359: RMSE=2.2324, MAE=2.2324\n",
      "2025-02-09 13:35:48,813 [13068] INFO     root: Iteration 1360: RMSE=7.1880, MAE=7.1880\n",
      "2025-02-09 13:35:48,993 [13068] INFO     root: Iteration 1361: RMSE=1.9024, MAE=1.9024\n",
      "2025-02-09 13:35:49,696 [13068] INFO     root: Metrics pushed at iteration 1361. RMSE=1.9024, MAE=1.9024\n",
      "2025-02-09 13:35:49,856 [13068] INFO     root: Iteration 1362: RMSE=1.9470, MAE=1.9470\n",
      "2025-02-09 13:35:49,992 [13068] INFO     root: Iteration 1363: RMSE=4.3700, MAE=4.3700\n",
      "2025-02-09 13:35:50,168 [13068] INFO     root: Iteration 1364: RMSE=1.7964, MAE=1.7964\n",
      "2025-02-09 13:35:50,328 [13068] INFO     root: Iteration 1365: RMSE=4.2619, MAE=4.2619\n",
      "2025-02-09 13:35:50,457 [13068] INFO     root: Iteration 1366: RMSE=0.1640, MAE=0.1640\n",
      "2025-02-09 13:35:50,653 [13068] INFO     root: Iteration 1367: RMSE=3.1701, MAE=3.1701\n",
      "2025-02-09 13:35:50,779 [13068] INFO     root: Iteration 1368: RMSE=1.9024, MAE=1.9024\n",
      "2025-02-09 13:35:50,962 [13068] INFO     root: Iteration 1369: RMSE=0.0190, MAE=0.0190\n",
      "2025-02-09 13:35:51,156 [13068] INFO     root: Iteration 1370: RMSE=2.1020, MAE=2.1020\n",
      "2025-02-09 13:35:51,298 [13068] INFO     ml_monitor.logging: Starting metrics logging thread...\n",
      "2025-02-09 13:35:51,385 [13068] INFO     root: Iteration 1371: RMSE=1.2345, MAE=1.2345\n",
      "2025-02-09 13:35:51,599 [13068] INFO     root: Iteration 1372: RMSE=5.8175, MAE=5.8175\n",
      "2025-02-09 13:35:51,775 [13068] INFO     root: Iteration 1373: RMSE=3.1092, MAE=3.1092\n",
      "2025-02-09 13:35:51,909 [13068] INFO     root: Iteration 1374: RMSE=0.4811, MAE=0.4811\n",
      "2025-02-09 13:35:52,199 [13068] INFO     root: Iteration 1375: RMSE=0.6004, MAE=0.6004\n",
      "2025-02-09 13:35:52,329 [13068] INFO     root: Iteration 1376: RMSE=3.0812, MAE=3.0812\n",
      "2025-02-09 13:35:52,463 [13068] INFO     root: Iteration 1377: RMSE=3.1701, MAE=3.1701\n",
      "2025-02-09 13:35:52,713 [13068] INFO     root: Iteration 1378: RMSE=1.2010, MAE=1.2010\n",
      "2025-02-09 13:35:52,900 [13068] INFO     root: Iteration 1379: RMSE=2.7746, MAE=2.7746\n",
      "2025-02-09 13:35:53,043 [13068] INFO     root: Iteration 1380: RMSE=3.9228, MAE=3.9228\n",
      "2025-02-09 13:35:53,210 [13068] INFO     root: Iteration 1381: RMSE=4.3271, MAE=4.3271\n",
      "2025-02-09 13:35:53,343 [13068] INFO     root: Iteration 1382: RMSE=0.1136, MAE=0.1136\n",
      "2025-02-09 13:35:53,546 [13068] INFO     root: Iteration 1383: RMSE=2.4681, MAE=2.4681\n",
      "2025-02-09 13:35:53,742 [13068] INFO     root: Iteration 1384: RMSE=0.6820, MAE=0.6820\n",
      "2025-02-09 13:35:53,868 [13068] INFO     root: Iteration 1385: RMSE=2.5855, MAE=2.5855\n",
      "2025-02-09 13:35:54,018 [13068] INFO     root: Iteration 1386: RMSE=0.6820, MAE=0.6820\n",
      "2025-02-09 13:35:54,147 [13068] INFO     root: Iteration 1387: RMSE=3.0641, MAE=3.0641\n",
      "2025-02-09 13:35:54,305 [13068] INFO     root: Iteration 1388: RMSE=0.8280, MAE=0.8280\n",
      "2025-02-09 13:35:54,456 [13068] INFO     root: Iteration 1389: RMSE=2.1281, MAE=2.1281\n",
      "2025-02-09 13:35:54,663 [13068] INFO     root: Iteration 1390: RMSE=1.3227, MAE=1.3227\n",
      "2025-02-09 13:35:54,786 [13068] INFO     root: Iteration 1391: RMSE=0.9176, MAE=0.9176\n",
      "2025-02-09 13:35:54,947 [13068] INFO     root: Iteration 1392: RMSE=0.1550, MAE=0.1550\n",
      "2025-02-09 13:35:55,085 [13068] INFO     root: Iteration 1393: RMSE=2.4681, MAE=2.4681\n",
      "2025-02-09 13:35:55,243 [13068] INFO     root: Iteration 1394: RMSE=1.0837, MAE=1.0837\n",
      "2025-02-09 13:35:55,374 [13068] INFO     root: Iteration 1395: RMSE=1.6668, MAE=1.6668\n",
      "2025-02-09 13:35:55,551 [13068] INFO     root: Iteration 1396: RMSE=5.3491, MAE=5.3491\n",
      "2025-02-09 13:35:55,675 [13068] INFO     root: Iteration 1397: RMSE=5.0666, MAE=5.0666\n",
      "2025-02-09 13:35:55,813 [13068] INFO     root: Iteration 1398: RMSE=3.2950, MAE=3.2950\n",
      "2025-02-09 13:35:55,937 [13068] INFO     root: Iteration 1399: RMSE=21.1875, MAE=21.1875\n",
      "2025-02-09 13:35:56,093 [13068] INFO     root: Iteration 1400: RMSE=2.6178, MAE=2.6178\n",
      "2025-02-09 13:35:56,229 [13068] INFO     root: Iteration 1401: RMSE=4.2619, MAE=4.2619\n",
      "2025-02-09 13:35:56,346 [13068] INFO     ml_monitor.logging: Starting metrics logging thread...\n",
      "2025-02-09 13:35:56,400 [13068] INFO     root: Iteration 1402: RMSE=0.4053, MAE=0.4053\n",
      "2025-02-09 13:35:56,673 [13068] INFO     root: Iteration 1403: RMSE=7.4122, MAE=7.4122\n",
      "2025-02-09 13:35:56,912 [13068] INFO     root: Iteration 1404: RMSE=4.8742, MAE=4.8742\n",
      "2025-02-09 13:35:57,130 [13068] INFO     root: Iteration 1405: RMSE=1.7797, MAE=1.7797\n",
      "2025-02-09 13:35:57,341 [13068] INFO     root: Iteration 1406: RMSE=2.1020, MAE=2.1020\n",
      "2025-02-09 13:35:57,746 [13068] INFO     root: Iteration 1407: RMSE=3.9228, MAE=3.9228\n",
      "2025-02-09 13:35:57,955 [13068] INFO     root: Iteration 1408: RMSE=2.1020, MAE=2.1020\n",
      "2025-02-09 13:35:58,207 [13068] INFO     root: Iteration 1409: RMSE=0.9510, MAE=0.9510\n",
      "2025-02-09 13:35:58,720 [13068] INFO     root: Iteration 1410: RMSE=0.2356, MAE=0.2356\n",
      "2025-02-09 13:35:58,891 [13068] INFO     root: Iteration 1411: RMSE=1.0341, MAE=1.0341\n",
      "2025-02-09 13:35:59,033 [13068] INFO     root: Iteration 1412: RMSE=3.6498, MAE=3.6498\n",
      "2025-02-09 13:35:59,964 [13068] INFO     root: Metrics pushed at iteration 1412. RMSE=3.6498, MAE=3.6498\n",
      "2025-02-09 13:36:00,194 [13068] INFO     root: Iteration 1413: RMSE=2.2319, MAE=2.2319\n",
      "2025-02-09 13:36:00,373 [13068] INFO     root: Iteration 1414: RMSE=5.2814, MAE=5.2814\n",
      "2025-02-09 13:36:01,127 [13068] INFO     root: Iteration 1415: RMSE=0.4278, MAE=0.4278\n",
      "2025-02-09 13:36:01,402 [13068] INFO     root: Iteration 1416: RMSE=2.4681, MAE=2.4681\n",
      "2025-02-09 13:36:01,512 [13068] INFO     ml_monitor.logging: Starting metrics logging thread...\n",
      "2025-02-09 13:36:02,173 [13068] INFO     root: Iteration 1417: RMSE=1.9024, MAE=1.9024\n",
      "2025-02-09 13:36:02,405 [13068] INFO     root: Iteration 1418: RMSE=0.5028, MAE=0.5028\n",
      "2025-02-09 13:36:02,691 [13068] INFO     root: Iteration 1419: RMSE=0.6004, MAE=0.6004\n",
      "2025-02-09 13:36:03,077 [13068] INFO     root: Iteration 1420: RMSE=5.3491, MAE=5.3491\n",
      "2025-02-09 13:36:03,943 [13068] INFO     root: Iteration 1421: RMSE=1.9834, MAE=1.9834\n",
      "2025-02-09 13:36:04,125 [13068] INFO     root: Iteration 1422: RMSE=3.2372, MAE=3.2372\n",
      "2025-02-09 13:36:04,325 [13068] INFO     root: Iteration 1423: RMSE=0.4554, MAE=0.4554\n",
      "2025-02-09 13:36:04,540 [13068] INFO     root: Iteration 1424: RMSE=1.9024, MAE=1.9024\n",
      "2025-02-09 13:36:04,758 [13068] INFO     root: Iteration 1425: RMSE=0.8280, MAE=0.8280\n",
      "2025-02-09 13:36:04,891 [13068] INFO     root: Iteration 1426: RMSE=3.9035, MAE=3.9035\n",
      "2025-02-09 13:36:05,049 [13068] INFO     root: Iteration 1427: RMSE=21.1875, MAE=21.1875\n",
      "2025-02-09 13:36:05,242 [13068] INFO     root: Iteration 1428: RMSE=1.0525, MAE=1.0525\n",
      "2025-02-09 13:36:05,407 [13068] INFO     root: Iteration 1429: RMSE=1.0525, MAE=1.0525\n",
      "2025-02-09 13:36:05,592 [13068] INFO     root: Iteration 1430: RMSE=6.4895, MAE=6.4895\n",
      "2025-02-09 13:36:05,720 [13068] INFO     root: Iteration 1431: RMSE=0.8295, MAE=0.8295\n",
      "2025-02-09 13:36:05,885 [13068] INFO     root: Iteration 1432: RMSE=1.7797, MAE=1.7797\n",
      "2025-02-09 13:36:06,015 [13068] INFO     root: Iteration 1433: RMSE=2.5855, MAE=2.5855\n",
      "2025-02-09 13:36:06,172 [13068] INFO     root: Iteration 1434: RMSE=15.7679, MAE=15.7679\n",
      "2025-02-09 13:36:06,329 [13068] INFO     root: Iteration 1435: RMSE=1.7964, MAE=1.7964\n",
      "2025-02-09 13:36:06,492 [13068] INFO     root: Iteration 1436: RMSE=4.8742, MAE=4.8742\n",
      "2025-02-09 13:36:06,640 [13068] INFO     root: Iteration 1437: RMSE=2.4407, MAE=2.4407\n",
      "2025-02-09 13:36:06,772 [13068] INFO     root: Iteration 1438: RMSE=0.9201, MAE=0.9201\n",
      "2025-02-09 13:36:06,842 [13068] INFO     ml_monitor.logging: Starting metrics logging thread...\n",
      "2025-02-09 13:36:06,958 [13068] INFO     root: Iteration 1439: RMSE=1.0783, MAE=1.0783\n",
      "2025-02-09 13:36:07,113 [13068] INFO     root: Iteration 1440: RMSE=21.1875, MAE=21.1875\n",
      "2025-02-09 13:36:07,243 [13068] INFO     root: Iteration 1441: RMSE=5.2814, MAE=5.2814\n",
      "2025-02-09 13:36:07,386 [13068] INFO     root: Iteration 1442: RMSE=0.1636, MAE=0.1636\n",
      "2025-02-09 13:36:07,543 [13068] INFO     root: Iteration 1443: RMSE=0.5028, MAE=0.5028\n",
      "2025-02-09 13:36:07,682 [13068] INFO     root: Iteration 1444: RMSE=0.8280, MAE=0.8280\n",
      "2025-02-09 13:36:07,821 [13068] INFO     root: Iteration 1445: RMSE=0.6863, MAE=0.6863\n",
      "2025-02-09 13:36:07,965 [13068] INFO     root: Iteration 1446: RMSE=2.1020, MAE=2.1020\n",
      "2025-02-09 13:36:08,108 [13068] INFO     root: Iteration 1447: RMSE=0.4053, MAE=0.4053\n",
      "2025-02-09 13:36:08,250 [13068] INFO     root: Iteration 1448: RMSE=2.1957, MAE=2.1957\n",
      "2025-02-09 13:36:08,411 [13068] INFO     root: Iteration 1449: RMSE=15.7679, MAE=15.7679\n",
      "2025-02-09 13:36:08,749 [13068] INFO     root: Iteration 1450: RMSE=0.1550, MAE=0.1550\n",
      "2025-02-09 13:36:08,885 [13068] INFO     root: Iteration 1451: RMSE=5.1399, MAE=5.1399\n",
      "2025-02-09 13:36:09,016 [13068] INFO     root: Iteration 1452: RMSE=4.2619, MAE=4.2619\n",
      "2025-02-09 13:36:09,196 [13068] INFO     root: Iteration 1453: RMSE=1.5147, MAE=1.5147\n",
      "2025-02-09 13:36:09,900 [13068] INFO     root: Metrics pushed at iteration 1453. RMSE=1.5147, MAE=1.5147\n",
      "2025-02-09 13:36:10,034 [13068] INFO     root: Iteration 1454: RMSE=3.2372, MAE=3.2372\n",
      "2025-02-09 13:36:10,208 [13068] INFO     root: Iteration 1455: RMSE=15.7679, MAE=15.7679\n",
      "2025-02-09 13:36:10,439 [13068] INFO     root: Iteration 1456: RMSE=2.6178, MAE=2.6178\n",
      "2025-02-09 13:36:10,722 [13068] INFO     root: Iteration 1457: RMSE=4.8742, MAE=4.8742\n",
      "2025-02-09 13:36:11,005 [13068] INFO     root: Iteration 1458: RMSE=7.1962, MAE=7.1962\n",
      "2025-02-09 13:36:12,054 [13068] INFO     ml_monitor.logging: Starting metrics logging thread...\n",
      "2025-02-09 13:36:12,147 [13068] INFO     root: Iteration 1459: RMSE=3.1701, MAE=3.1701\n",
      "2025-02-09 13:36:12,296 [13068] INFO     root: Iteration 1460: RMSE=2.6178, MAE=2.6178\n",
      "2025-02-09 13:36:12,452 [13068] INFO     root: Iteration 1461: RMSE=1.2345, MAE=1.2345\n",
      "2025-02-09 13:36:12,777 [13068] INFO     root: Iteration 1462: RMSE=2.1020, MAE=2.1020\n",
      "2025-02-09 13:36:12,979 [13068] INFO     root: Iteration 1463: RMSE=0.1136, MAE=0.1136\n",
      "2025-02-09 13:36:13,141 [13068] INFO     root: Iteration 1464: RMSE=4.2619, MAE=4.2619\n",
      "2025-02-09 13:36:13,332 [13068] INFO     root: Iteration 1465: RMSE=0.2922, MAE=0.2922\n",
      "2025-02-09 13:36:13,836 [13068] INFO     root: Iteration 1466: RMSE=1.7797, MAE=1.7797\n",
      "2025-02-09 13:36:14,020 [13068] INFO     root: Iteration 1467: RMSE=21.1875, MAE=21.1875\n",
      "2025-02-09 13:36:14,240 [13068] INFO     root: Iteration 1468: RMSE=7.4122, MAE=7.4122\n",
      "2025-02-09 13:36:14,424 [13068] INFO     root: Iteration 1469: RMSE=2.4091, MAE=2.4091\n",
      "2025-02-09 13:36:15,016 [13068] INFO     root: Iteration 1470: RMSE=4.2530, MAE=4.2530\n",
      "2025-02-09 13:36:15,262 [13068] INFO     root: Iteration 1471: RMSE=2.7728, MAE=2.7728\n",
      "2025-02-09 13:36:15,408 [13068] INFO     root: Iteration 1472: RMSE=0.9690, MAE=0.9690\n",
      "2025-02-09 13:36:15,730 [13068] INFO     root: Iteration 1473: RMSE=21.1875, MAE=21.1875\n",
      "2025-02-09 13:36:16,148 [13068] INFO     root: Iteration 1474: RMSE=4.2272, MAE=4.2272\n",
      "2025-02-09 13:36:16,409 [13068] INFO     root: Iteration 1475: RMSE=1.9891, MAE=1.9891\n",
      "2025-02-09 13:36:17,066 [13068] INFO     root: Iteration 1476: RMSE=0.9510, MAE=0.9510\n",
      "2025-02-09 13:36:18,058 [13068] INFO     ml_monitor.logging: Starting metrics logging thread...\n",
      "2025-02-09 13:36:18,273 [13068] INFO     root: Iteration 1477: RMSE=2.4091, MAE=2.4091\n",
      "2025-02-09 13:36:18,545 [13068] INFO     root: Iteration 1478: RMSE=3.6498, MAE=3.6498\n",
      "2025-02-09 13:36:18,864 [13068] INFO     root: Iteration 1479: RMSE=1.7797, MAE=1.7797\n",
      "2025-02-09 13:36:19,079 [13068] INFO     root: Iteration 1480: RMSE=0.6863, MAE=0.6863\n",
      "2025-02-09 13:36:19,330 [13068] INFO     root: Iteration 1481: RMSE=5.1385, MAE=5.1385\n",
      "2025-02-09 13:36:20,140 [13068] INFO     root: Metrics pushed at iteration 1481. RMSE=5.1385, MAE=5.1385\n",
      "2025-02-09 13:36:20,338 [13068] INFO     root: Iteration 1482: RMSE=0.6277, MAE=0.6277\n",
      "2025-02-09 13:36:20,561 [13068] INFO     root: Iteration 1483: RMSE=7.1962, MAE=7.1962\n",
      "2025-02-09 13:36:20,761 [13068] INFO     root: Iteration 1484: RMSE=0.1640, MAE=0.1640\n",
      "2025-02-09 13:36:20,910 [13068] INFO     root: Iteration 1485: RMSE=1.6861, MAE=1.6861\n",
      "2025-02-09 13:36:21,115 [13068] INFO     root: Iteration 1486: RMSE=0.6277, MAE=0.6277\n",
      "2025-02-09 13:36:21,239 [13068] INFO     root: Iteration 1487: RMSE=4.3700, MAE=4.3700\n",
      "2025-02-09 13:36:21,389 [13068] INFO     root: Iteration 1488: RMSE=0.2356, MAE=0.2356\n",
      "2025-02-09 13:36:21,554 [13068] INFO     root: Iteration 1489: RMSE=3.6498, MAE=3.6498\n",
      "2025-02-09 13:36:21,685 [13068] INFO     root: Iteration 1490: RMSE=4.2530, MAE=4.2530\n",
      "2025-02-09 13:36:21,837 [13068] INFO     root: Iteration 1491: RMSE=2.1957, MAE=2.1957\n",
      "2025-02-09 13:36:22,125 [13068] INFO     root: Iteration 1492: RMSE=2.7746, MAE=2.7746\n",
      "2025-02-09 13:36:22,363 [13068] INFO     root: Iteration 1493: RMSE=4.2272, MAE=4.2272\n",
      "2025-02-09 13:36:22,520 [13068] INFO     root: Iteration 1494: RMSE=3.2372, MAE=3.2372\n",
      "2025-02-09 13:36:22,671 [13068] INFO     root: Iteration 1495: RMSE=4.3700, MAE=4.3700\n",
      "2025-02-09 13:36:22,798 [13068] INFO     root: Iteration 1496: RMSE=0.4053, MAE=0.4053\n",
      "2025-02-09 13:36:22,970 [13068] INFO     root: Iteration 1497: RMSE=1.5289, MAE=1.5289\n",
      "2025-02-09 13:36:23,120 [13068] INFO     root: Iteration 1498: RMSE=4.2272, MAE=4.2272\n",
      "2025-02-09 13:36:23,241 [13068] INFO     ml_monitor.logging: Starting metrics logging thread...\n",
      "2025-02-09 13:36:23,289 [13068] INFO     root: Iteration 1499: RMSE=1.9024, MAE=1.9024\n",
      "2025-02-09 13:36:23,524 [13068] INFO     root: Iteration 1500: RMSE=1.0783, MAE=1.0783\n",
      "2025-02-09 13:36:23,677 [13068] INFO     root: Iteration 1501: RMSE=1.0837, MAE=1.0837\n",
      "2025-02-09 13:36:23,804 [13068] INFO     root: Iteration 1502: RMSE=1.9954, MAE=1.9954\n",
      "2025-02-09 13:36:23,961 [13068] INFO     root: Iteration 1503: RMSE=1.3227, MAE=1.3227\n",
      "2025-02-09 13:36:24,115 [13068] INFO     root: Iteration 1504: RMSE=0.4811, MAE=0.4811\n",
      "2025-02-09 13:36:24,269 [13068] INFO     root: Iteration 1505: RMSE=1.0341, MAE=1.0341\n",
      "2025-02-09 13:36:24,400 [13068] INFO     root: Iteration 1506: RMSE=0.6277, MAE=0.6277\n",
      "2025-02-09 13:36:24,579 [13068] INFO     root: Iteration 1507: RMSE=0.4053, MAE=0.4053\n",
      "2025-02-09 13:36:24,708 [13068] INFO     root: Iteration 1508: RMSE=2.4091, MAE=2.4091\n",
      "2025-02-09 13:36:24,838 [13068] INFO     root: Iteration 1509: RMSE=0.1636, MAE=0.1636\n",
      "2025-02-09 13:36:24,967 [13068] INFO     root: Iteration 1510: RMSE=21.1875, MAE=21.1875\n",
      "2025-02-09 13:36:25,099 [13068] INFO     root: Iteration 1511: RMSE=5.0666, MAE=5.0666\n",
      "2025-02-09 13:36:25,242 [13068] INFO     root: Iteration 1512: RMSE=0.2356, MAE=0.2356\n",
      "2025-02-09 13:36:25,387 [13068] INFO     root: Iteration 1513: RMSE=2.1020, MAE=2.1020\n",
      "2025-02-09 13:36:25,548 [13068] INFO     root: Iteration 1514: RMSE=1.2345, MAE=1.2345\n",
      "2025-02-09 13:36:25,677 [13068] INFO     root: Iteration 1515: RMSE=0.4811, MAE=0.4811\n",
      "2025-02-09 13:36:25,812 [13068] INFO     root: Iteration 1516: RMSE=7.4122, MAE=7.4122\n",
      "2025-02-09 13:36:25,947 [13068] INFO     root: Iteration 1517: RMSE=2.9898, MAE=2.9898\n",
      "2025-02-09 13:36:26,075 [13068] INFO     root: Iteration 1518: RMSE=4.2530, MAE=4.2530\n",
      "2025-02-09 13:36:26,226 [13068] INFO     root: Iteration 1519: RMSE=1.9834, MAE=1.9834\n",
      "2025-02-09 13:36:26,362 [13068] INFO     root: Iteration 1520: RMSE=2.8002, MAE=2.8002\n",
      "2025-02-09 13:36:26,518 [13068] INFO     root: Iteration 1521: RMSE=0.9176, MAE=0.9176\n",
      "2025-02-09 13:36:26,688 [13068] INFO     root: Iteration 1522: RMSE=5.2814, MAE=5.2814\n",
      "2025-02-09 13:36:26,924 [13068] INFO     root: Iteration 1523: RMSE=4.2733, MAE=4.2733\n",
      "2025-02-09 13:36:27,063 [13068] INFO     root: Iteration 1524: RMSE=0.1636, MAE=0.1636\n",
      "2025-02-09 13:36:27,190 [13068] INFO     root: Iteration 1525: RMSE=2.7746, MAE=2.7746\n",
      "2025-02-09 13:36:27,334 [13068] INFO     root: Iteration 1526: RMSE=3.6498, MAE=3.6498\n",
      "2025-02-09 13:36:27,484 [13068] INFO     root: Iteration 1527: RMSE=5.8811, MAE=5.8811\n",
      "2025-02-09 13:36:27,625 [13068] INFO     root: Iteration 1528: RMSE=1.6668, MAE=1.6668\n",
      "2025-02-09 13:36:27,765 [13068] INFO     root: Iteration 1529: RMSE=0.6367, MAE=0.6367\n",
      "2025-02-09 13:36:27,915 [13068] INFO     root: Iteration 1530: RMSE=2.1957, MAE=2.1957\n",
      "2025-02-09 13:36:28,065 [13068] INFO     root: Iteration 1531: RMSE=3.9228, MAE=3.9228\n",
      "2025-02-09 13:36:28,180 [13068] INFO     root: Iteration 1532: RMSE=1.0525, MAE=1.0525\n",
      "2025-02-09 13:36:28,282 [13068] INFO     ml_monitor.logging: Starting metrics logging thread...\n",
      "2025-02-09 13:36:28,298 [13068] INFO     root: Iteration 1533: RMSE=0.6277, MAE=0.6277\n",
      "2025-02-09 13:36:28,408 [13068] INFO     root: Iteration 1534: RMSE=1.9470, MAE=1.9470\n",
      "2025-02-09 13:36:28,528 [13068] INFO     root: Iteration 1535: RMSE=3.0641, MAE=3.0641\n",
      "2025-02-09 13:36:28,637 [13068] INFO     root: Iteration 1536: RMSE=0.2922, MAE=0.2922\n",
      "2025-02-09 13:36:28,768 [13068] INFO     root: Iteration 1537: RMSE=1.7964, MAE=1.7964\n",
      "2025-02-09 13:36:28,897 [13068] INFO     root: Iteration 1538: RMSE=1.0783, MAE=1.0783\n",
      "2025-02-09 13:36:29,048 [13068] INFO     root: Iteration 1539: RMSE=2.7746, MAE=2.7746\n",
      "2025-02-09 13:36:29,168 [13068] INFO     root: Iteration 1540: RMSE=0.6820, MAE=0.6820\n",
      "2025-02-09 13:36:29,325 [13068] INFO     root: Iteration 1541: RMSE=21.1875, MAE=21.1875\n",
      "2025-02-09 13:36:29,493 [13068] INFO     root: Iteration 1542: RMSE=1.3227, MAE=1.3227\n",
      "2025-02-09 13:36:30,251 [13068] INFO     root: Metrics pushed at iteration 1542. RMSE=1.3227, MAE=1.3227\n",
      "2025-02-09 13:36:30,482 [13068] INFO     root: Iteration 1543: RMSE=7.1880, MAE=7.1880\n",
      "2025-02-09 13:36:30,694 [13068] INFO     root: Iteration 1544: RMSE=4.2733, MAE=4.2733\n",
      "2025-02-09 13:36:30,929 [13068] INFO     root: Iteration 1545: RMSE=1.0525, MAE=1.0525\n",
      "2025-02-09 13:36:31,123 [13068] INFO     root: Iteration 1546: RMSE=1.0341, MAE=1.0341\n",
      "2025-02-09 13:36:31,290 [13068] INFO     root: Iteration 1547: RMSE=0.9690, MAE=0.9690\n",
      "2025-02-09 13:36:31,458 [13068] INFO     root: Iteration 1548: RMSE=0.4278, MAE=0.4278\n",
      "2025-02-09 13:36:31,600 [13068] INFO     root: Iteration 1549: RMSE=15.7679, MAE=15.7679\n",
      "2025-02-09 13:36:31,868 [13068] INFO     root: Iteration 1550: RMSE=1.0525, MAE=1.0525\n",
      "2025-02-09 13:36:31,994 [13068] INFO     root: Iteration 1551: RMSE=2.5983, MAE=2.5983\n",
      "2025-02-09 13:36:32,136 [13068] INFO     root: Iteration 1552: RMSE=0.8295, MAE=0.8295\n",
      "2025-02-09 13:36:32,293 [13068] INFO     root: Iteration 1553: RMSE=2.7728, MAE=2.7728\n",
      "2025-02-09 13:36:32,459 [13068] INFO     root: Iteration 1554: RMSE=1.5147, MAE=1.5147\n",
      "2025-02-09 13:36:32,624 [13068] INFO     root: Iteration 1555: RMSE=1.0341, MAE=1.0341\n",
      "2025-02-09 13:36:32,773 [13068] INFO     root: Iteration 1556: RMSE=2.8002, MAE=2.8002\n",
      "2025-02-09 13:36:32,944 [13068] INFO     root: Iteration 1557: RMSE=4.8742, MAE=4.8742\n",
      "2025-02-09 13:36:33,085 [13068] INFO     root: Iteration 1558: RMSE=3.0048, MAE=3.0048\n",
      "2025-02-09 13:36:33,218 [13068] INFO     root: Iteration 1559: RMSE=1.7797, MAE=1.7797\n",
      "2025-02-09 13:36:33,300 [13068] INFO     ml_monitor.logging: Starting metrics logging thread...\n",
      "2025-02-09 13:36:33,394 [13068] INFO     root: Iteration 1560: RMSE=3.1092, MAE=3.1092\n",
      "2025-02-09 13:36:33,519 [13068] INFO     root: Iteration 1561: RMSE=5.3491, MAE=5.3491\n",
      "2025-02-09 13:36:33,618 [13068] INFO     root: Iteration 1562: RMSE=2.7728, MAE=2.7728\n",
      "2025-02-09 13:36:33,729 [13068] INFO     root: Iteration 1563: RMSE=0.1636, MAE=0.1636\n",
      "2025-02-09 13:36:33,837 [13068] INFO     root: Iteration 1564: RMSE=2.0594, MAE=2.0594\n",
      "2025-02-09 13:36:33,946 [13068] INFO     root: Iteration 1565: RMSE=2.4407, MAE=2.4407\n",
      "2025-02-09 13:36:34,097 [13068] INFO     root: Iteration 1566: RMSE=2.4407, MAE=2.4407\n",
      "2025-02-09 13:36:34,221 [13068] INFO     root: Iteration 1567: RMSE=3.1092, MAE=3.1092\n",
      "2025-02-09 13:36:34,348 [13068] INFO     root: Iteration 1568: RMSE=1.9834, MAE=1.9834\n",
      "2025-02-09 13:36:34,458 [13068] INFO     root: Iteration 1569: RMSE=1.9954, MAE=1.9954\n",
      "2025-02-09 13:36:34,576 [13068] INFO     root: Iteration 1570: RMSE=0.8295, MAE=0.8295\n",
      "2025-02-09 13:36:34,709 [13068] INFO     root: Iteration 1571: RMSE=4.2530, MAE=4.2530\n",
      "2025-02-09 13:36:34,822 [13068] INFO     root: Iteration 1572: RMSE=1.0783, MAE=1.0783\n",
      "2025-02-09 13:36:34,944 [13068] INFO     root: Iteration 1573: RMSE=4.3700, MAE=4.3700\n",
      "2025-02-09 13:36:35,142 [13068] INFO     root: Iteration 1574: RMSE=0.5329, MAE=0.5329\n",
      "2025-02-09 13:36:35,275 [13068] INFO     root: Iteration 1575: RMSE=3.0641, MAE=3.0641\n",
      "2025-02-09 13:36:35,388 [13068] INFO     root: Iteration 1576: RMSE=2.6178, MAE=2.6178\n",
      "2025-02-09 13:36:35,495 [13068] INFO     root: Iteration 1577: RMSE=4.3271, MAE=4.3271\n",
      "2025-02-09 13:36:35,599 [13068] INFO     root: Iteration 1578: RMSE=0.9510, MAE=0.9510\n",
      "2025-02-09 13:36:35,702 [13068] INFO     root: Iteration 1579: RMSE=0.1636, MAE=0.1636\n",
      "2025-02-09 13:36:35,852 [13068] INFO     root: Iteration 1580: RMSE=1.7797, MAE=1.7797\n",
      "2025-02-09 13:36:35,953 [13068] INFO     root: Iteration 1581: RMSE=1.3227, MAE=1.3227\n",
      "2025-02-09 13:36:36,078 [13068] INFO     root: Iteration 1582: RMSE=6.5607, MAE=6.5607\n",
      "2025-02-09 13:36:36,251 [13068] INFO     root: Iteration 1583: RMSE=5.1399, MAE=5.1399\n",
      "2025-02-09 13:36:36,424 [13068] INFO     root: Iteration 1584: RMSE=2.4407, MAE=2.4407\n",
      "2025-02-09 13:36:36,549 [13068] INFO     root: Iteration 1585: RMSE=3.0812, MAE=3.0812\n",
      "2025-02-09 13:36:36,670 [13068] INFO     root: Iteration 1586: RMSE=2.8002, MAE=2.8002\n",
      "2025-02-09 13:36:36,775 [13068] INFO     root: Iteration 1587: RMSE=0.6277, MAE=0.6277\n",
      "2025-02-09 13:36:36,886 [13068] INFO     root: Iteration 1588: RMSE=1.5147, MAE=1.5147\n",
      "2025-02-09 13:36:36,998 [13068] INFO     root: Iteration 1589: RMSE=0.0894, MAE=0.0894\n",
      "2025-02-09 13:36:37,113 [13068] INFO     root: Iteration 1590: RMSE=0.2922, MAE=0.2922\n",
      "2025-02-09 13:36:37,220 [13068] INFO     root: Iteration 1591: RMSE=1.5289, MAE=1.5289\n",
      "2025-02-09 13:36:37,324 [13068] INFO     root: Iteration 1592: RMSE=6.4895, MAE=6.4895\n",
      "2025-02-09 13:36:37,434 [13068] INFO     root: Iteration 1593: RMSE=0.4278, MAE=0.4278\n",
      "2025-02-09 13:36:37,614 [13068] INFO     root: Iteration 1594: RMSE=7.4122, MAE=7.4122\n",
      "2025-02-09 13:36:37,727 [13068] INFO     root: Iteration 1595: RMSE=2.6178, MAE=2.6178\n",
      "2025-02-09 13:36:37,844 [13068] INFO     root: Iteration 1596: RMSE=0.2356, MAE=0.2356\n",
      "2025-02-09 13:36:37,971 [13068] INFO     root: Iteration 1597: RMSE=2.4681, MAE=2.4681\n",
      "2025-02-09 13:36:38,088 [13068] INFO     root: Iteration 1598: RMSE=6.3484, MAE=6.3484\n",
      "2025-02-09 13:36:38,211 [13068] INFO     root: Iteration 1599: RMSE=0.5028, MAE=0.5028\n",
      "2025-02-09 13:36:38,325 [13068] INFO     ml_monitor.logging: Starting metrics logging thread...\n",
      "2025-02-09 13:36:38,346 [13068] INFO     root: Iteration 1600: RMSE=2.8002, MAE=2.8002\n",
      "2025-02-09 13:36:38,440 [13068] INFO     root: Iteration 1601: RMSE=1.7797, MAE=1.7797\n",
      "2025-02-09 13:36:38,540 [13068] INFO     root: Iteration 1602: RMSE=21.1875, MAE=21.1875\n",
      "2025-02-09 13:36:38,646 [13068] INFO     root: Iteration 1603: RMSE=4.2619, MAE=4.2619\n",
      "2025-02-09 13:36:38,752 [13068] INFO     root: Iteration 1604: RMSE=5.1399, MAE=5.1399\n",
      "2025-02-09 13:36:38,859 [13068] INFO     root: Iteration 1605: RMSE=1.5147, MAE=1.5147\n",
      "2025-02-09 13:36:38,964 [13068] INFO     root: Iteration 1606: RMSE=0.2922, MAE=0.2922\n",
      "2025-02-09 13:36:39,056 [13068] INFO     root: Iteration 1607: RMSE=0.8360, MAE=0.8360\n",
      "2025-02-09 13:36:39,220 [13068] INFO     root: Iteration 1608: RMSE=7.1880, MAE=7.1880\n",
      "2025-02-09 13:36:39,331 [13068] INFO     root: Iteration 1609: RMSE=0.8502, MAE=0.8502\n",
      "2025-02-09 13:36:39,441 [13068] INFO     root: Iteration 1610: RMSE=2.4091, MAE=2.4091\n",
      "2025-02-09 13:36:39,532 [13068] INFO     root: Iteration 1611: RMSE=0.9176, MAE=0.9176\n",
      "2025-02-09 13:36:39,927 [13068] INFO     root: Metrics pushed at iteration 1611. RMSE=0.9176, MAE=0.9176\n",
      "2025-02-09 13:36:40,022 [13068] INFO     root: Iteration 1612: RMSE=3.2372, MAE=3.2372\n",
      "2025-02-09 13:36:40,129 [13068] INFO     root: Iteration 1613: RMSE=15.7679, MAE=15.7679\n",
      "2025-02-09 13:36:40,242 [13068] INFO     root: Iteration 1614: RMSE=0.9201, MAE=0.9201\n",
      "2025-02-09 13:36:40,337 [13068] INFO     root: Iteration 1615: RMSE=0.0329, MAE=0.0329\n",
      "2025-02-09 13:36:40,422 [13068] INFO     root: Iteration 1616: RMSE=2.5855, MAE=2.5855\n",
      "2025-02-09 13:36:40,503 [13068] INFO     root: Iteration 1617: RMSE=3.0812, MAE=3.0812\n",
      "2025-02-09 13:36:40,590 [13068] INFO     root: Iteration 1618: RMSE=5.2814, MAE=5.2814\n",
      "2025-02-09 13:36:40,680 [13068] INFO     root: Iteration 1619: RMSE=2.4681, MAE=2.4681\n",
      "2025-02-09 13:36:40,766 [13068] INFO     root: Iteration 1620: RMSE=0.6820, MAE=0.6820\n",
      "2025-02-09 13:36:40,857 [13068] INFO     root: Iteration 1621: RMSE=3.0048, MAE=3.0048\n",
      "2025-02-09 13:36:40,936 [13068] INFO     root: Iteration 1622: RMSE=0.4811, MAE=0.4811\n",
      "2025-02-09 13:36:41,016 [13068] INFO     root: Iteration 1623: RMSE=0.9176, MAE=0.9176\n",
      "2025-02-09 13:36:41,109 [13068] INFO     root: Iteration 1624: RMSE=1.0525, MAE=1.0525\n",
      "2025-02-09 13:36:41,208 [13068] INFO     root: Iteration 1625: RMSE=5.3491, MAE=5.3491\n",
      "2025-02-09 13:36:41,298 [13068] INFO     root: Iteration 1626: RMSE=7.4122, MAE=7.4122\n",
      "2025-02-09 13:36:41,390 [13068] INFO     root: Iteration 1627: RMSE=0.2922, MAE=0.2922\n",
      "2025-02-09 13:36:41,478 [13068] INFO     root: Iteration 1628: RMSE=1.9834, MAE=1.9834\n",
      "2025-02-09 13:36:41,570 [13068] INFO     root: Iteration 1629: RMSE=1.5289, MAE=1.5289\n",
      "2025-02-09 13:36:41,656 [13068] INFO     root: Iteration 1630: RMSE=7.1880, MAE=7.1880\n",
      "2025-02-09 13:36:41,744 [13068] INFO     root: Iteration 1631: RMSE=2.4681, MAE=2.4681\n",
      "2025-02-09 13:36:41,835 [13068] INFO     root: Iteration 1632: RMSE=1.9470, MAE=1.9470\n",
      "2025-02-09 13:36:41,922 [13068] INFO     root: Iteration 1633: RMSE=1.9891, MAE=1.9891\n",
      "2025-02-09 13:36:42,005 [13068] INFO     root: Iteration 1634: RMSE=1.0525, MAE=1.0525\n",
      "2025-02-09 13:36:42,088 [13068] INFO     root: Iteration 1635: RMSE=0.0894, MAE=0.0894\n",
      "2025-02-09 13:36:42,164 [13068] INFO     root: Iteration 1636: RMSE=0.0329, MAE=0.0329\n",
      "2025-02-09 13:36:42,253 [13068] INFO     root: Iteration 1637: RMSE=6.4895, MAE=6.4895\n",
      "2025-02-09 13:36:42,334 [13068] INFO     root: Iteration 1638: RMSE=1.0783, MAE=1.0783\n",
      "2025-02-09 13:36:42,480 [13068] INFO     root: Iteration 1639: RMSE=3.0812, MAE=3.0812\n",
      "2025-02-09 13:36:42,578 [13068] INFO     root: Iteration 1640: RMSE=1.9834, MAE=1.9834\n",
      "2025-02-09 13:36:42,682 [13068] INFO     root: Iteration 1641: RMSE=2.0594, MAE=2.0594\n",
      "2025-02-09 13:36:42,773 [13068] INFO     root: Iteration 1642: RMSE=2.1020, MAE=2.1020\n",
      "2025-02-09 13:36:42,878 [13068] INFO     root: Iteration 1643: RMSE=1.5147, MAE=1.5147\n",
      "2025-02-09 13:36:42,966 [13068] INFO     root: Iteration 1644: RMSE=4.8742, MAE=4.8742\n",
      "2025-02-09 13:36:43,053 [13068] INFO     root: Iteration 1645: RMSE=0.4278, MAE=0.4278\n",
      "2025-02-09 13:36:43,130 [13068] INFO     root: Iteration 1646: RMSE=0.1636, MAE=0.1636\n",
      "2025-02-09 13:36:43,217 [13068] INFO     root: Iteration 1647: RMSE=0.9510, MAE=0.9510\n",
      "2025-02-09 13:36:43,328 [13068] INFO     root: Iteration 1648: RMSE=3.2372, MAE=3.2372\n",
      "2025-02-09 13:36:43,344 [13068] INFO     ml_monitor.logging: Starting metrics logging thread...\n",
      "2025-02-09 13:36:43,426 [13068] INFO     root: Iteration 1649: RMSE=15.7679, MAE=15.7679\n",
      "2025-02-09 13:36:43,517 [13068] INFO     root: Iteration 1650: RMSE=0.8280, MAE=0.8280\n",
      "2025-02-09 13:36:43,597 [13068] INFO     root: Iteration 1651: RMSE=2.2823, MAE=2.2823\n",
      "2025-02-09 13:36:43,681 [13068] INFO     root: Iteration 1652: RMSE=7.1880, MAE=7.1880\n",
      "2025-02-09 13:36:43,763 [13068] INFO     root: Iteration 1653: RMSE=2.5983, MAE=2.5983\n",
      "2025-02-09 13:36:43,858 [13068] INFO     root: Iteration 1654: RMSE=5.8811, MAE=5.8811\n",
      "2025-02-09 13:36:43,946 [13068] INFO     root: Iteration 1655: RMSE=4.2530, MAE=4.2530\n",
      "2025-02-09 13:36:44,049 [13068] INFO     root: Iteration 1656: RMSE=4.8742, MAE=4.8742\n",
      "2025-02-09 13:36:44,142 [13068] INFO     root: Iteration 1657: RMSE=0.6863, MAE=0.6863\n",
      "2025-02-09 13:36:44,227 [13068] INFO     root: Iteration 1658: RMSE=7.1880, MAE=7.1880\n",
      "2025-02-09 13:36:44,319 [13068] INFO     root: Iteration 1659: RMSE=0.2445, MAE=0.2445\n",
      "2025-02-09 13:36:44,398 [13068] INFO     root: Iteration 1660: RMSE=1.0525, MAE=1.0525\n",
      "2025-02-09 13:36:44,564 [13068] INFO     root: Iteration 1661: RMSE=1.0341, MAE=1.0341\n",
      "2025-02-09 13:36:44,652 [13068] INFO     root: Iteration 1662: RMSE=7.1962, MAE=7.1962\n",
      "2025-02-09 13:36:44,742 [13068] INFO     root: Iteration 1663: RMSE=4.3700, MAE=4.3700\n",
      "2025-02-09 13:36:44,835 [13068] INFO     root: Iteration 1664: RMSE=21.1875, MAE=21.1875\n",
      "2025-02-09 13:36:44,930 [13068] INFO     root: Iteration 1665: RMSE=21.1875, MAE=21.1875\n",
      "2025-02-09 13:36:45,033 [13068] INFO     root: Iteration 1666: RMSE=0.6004, MAE=0.6004\n",
      "2025-02-09 13:36:45,131 [13068] INFO     root: Iteration 1667: RMSE=5.8175, MAE=5.8175\n",
      "2025-02-09 13:36:45,254 [13068] INFO     root: Iteration 1668: RMSE=3.1701, MAE=3.1701\n",
      "2025-02-09 13:36:45,349 [13068] INFO     root: Iteration 1669: RMSE=15.7679, MAE=15.7679\n",
      "2025-02-09 13:36:45,445 [13068] INFO     root: Iteration 1670: RMSE=0.2445, MAE=0.2445\n",
      "2025-02-09 13:36:45,552 [13068] INFO     root: Iteration 1671: RMSE=0.4554, MAE=0.4554\n",
      "2025-02-09 13:36:45,658 [13068] INFO     root: Iteration 1672: RMSE=2.2324, MAE=2.2324\n",
      "2025-02-09 13:36:45,758 [13068] INFO     root: Iteration 1673: RMSE=15.7679, MAE=15.7679\n",
      "2025-02-09 13:36:45,868 [13068] INFO     root: Iteration 1674: RMSE=4.8742, MAE=4.8742\n",
      "2025-02-09 13:36:45,976 [13068] INFO     root: Iteration 1675: RMSE=1.0837, MAE=1.0837\n",
      "2025-02-09 13:36:46,084 [13068] INFO     root: Iteration 1676: RMSE=0.5423, MAE=0.5423\n",
      "2025-02-09 13:36:46,185 [13068] INFO     root: Iteration 1677: RMSE=5.8811, MAE=5.8811\n",
      "2025-02-09 13:36:46,297 [13068] INFO     root: Iteration 1678: RMSE=0.0329, MAE=0.0329\n",
      "2025-02-09 13:36:46,454 [13068] INFO     root: Iteration 1679: RMSE=2.1020, MAE=2.1020\n",
      "2025-02-09 13:36:46,577 [13068] INFO     root: Iteration 1680: RMSE=2.1957, MAE=2.1957\n",
      "2025-02-09 13:36:46,687 [13068] INFO     root: Iteration 1681: RMSE=1.9024, MAE=1.9024\n",
      "2025-02-09 13:36:46,790 [13068] INFO     root: Iteration 1682: RMSE=2.4091, MAE=2.4091\n",
      "2025-02-09 13:36:46,926 [13068] INFO     root: Iteration 1683: RMSE=1.9954, MAE=1.9954\n",
      "2025-02-09 13:36:47,056 [13068] INFO     root: Iteration 1684: RMSE=0.8295, MAE=0.8295\n",
      "2025-02-09 13:36:47,177 [13068] INFO     root: Iteration 1685: RMSE=0.1136, MAE=0.1136\n",
      "2025-02-09 13:36:47,294 [13068] INFO     root: Iteration 1686: RMSE=0.2445, MAE=0.2445\n",
      "2025-02-09 13:36:47,422 [13068] INFO     root: Iteration 1687: RMSE=3.0812, MAE=3.0812\n",
      "2025-02-09 13:36:47,576 [13068] INFO     root: Iteration 1688: RMSE=0.2922, MAE=0.2922\n",
      "2025-02-09 13:36:47,711 [13068] INFO     root: Iteration 1689: RMSE=4.3700, MAE=4.3700\n",
      "2025-02-09 13:36:47,829 [13068] INFO     root: Iteration 1690: RMSE=0.2445, MAE=0.2445\n",
      "2025-02-09 13:36:47,930 [13068] INFO     root: Iteration 1691: RMSE=3.1701, MAE=3.1701\n",
      "2025-02-09 13:36:48,021 [13068] INFO     root: Iteration 1692: RMSE=1.2841, MAE=1.2841\n",
      "2025-02-09 13:36:48,180 [13068] INFO     root: Iteration 1693: RMSE=6.3484, MAE=6.3484\n",
      "2025-02-09 13:36:48,279 [13068] INFO     root: Iteration 1694: RMSE=1.3937, MAE=1.3937\n",
      "2025-02-09 13:36:48,374 [13068] INFO     ml_monitor.logging: Starting metrics logging thread...\n",
      "2025-02-09 13:36:48,391 [13068] INFO     root: Iteration 1695: RMSE=2.4681, MAE=2.4681\n",
      "2025-02-09 13:36:48,498 [13068] INFO     root: Iteration 1696: RMSE=0.6277, MAE=0.6277\n",
      "2025-02-09 13:36:48,589 [13068] INFO     root: Iteration 1697: RMSE=4.3700, MAE=4.3700\n",
      "2025-02-09 13:36:48,675 [13068] INFO     root: Iteration 1698: RMSE=2.9898, MAE=2.9898\n",
      "2025-02-09 13:36:48,767 [13068] INFO     root: Iteration 1699: RMSE=5.1385, MAE=5.1385\n",
      "2025-02-09 13:36:48,867 [13068] INFO     root: Iteration 1700: RMSE=5.3491, MAE=5.3491\n",
      "2025-02-09 13:36:48,956 [13068] INFO     root: Iteration 1701: RMSE=2.4091, MAE=2.4091\n",
      "2025-02-09 13:36:49,050 [13068] INFO     root: Iteration 1702: RMSE=1.9880, MAE=1.9880\n",
      "2025-02-09 13:36:49,143 [13068] INFO     root: Iteration 1703: RMSE=5.1399, MAE=5.1399\n",
      "2025-02-09 13:36:49,224 [13068] INFO     root: Iteration 1704: RMSE=5.3491, MAE=5.3491\n",
      "2025-02-09 13:36:49,315 [13068] INFO     root: Iteration 1705: RMSE=1.9954, MAE=1.9954\n",
      "2025-02-09 13:36:49,400 [13068] INFO     root: Iteration 1706: RMSE=5.0666, MAE=5.0666\n",
      "2025-02-09 13:36:49,480 [13068] INFO     root: Iteration 1707: RMSE=5.0666, MAE=5.0666\n",
      "2025-02-09 13:36:49,567 [13068] INFO     root: Iteration 1708: RMSE=5.3491, MAE=5.3491\n",
      "2025-02-09 13:36:49,928 [13068] INFO     root: Metrics pushed at iteration 1708. RMSE=5.3491, MAE=5.3491\n",
      "2025-02-09 13:36:50,063 [13068] INFO     root: Iteration 1709: RMSE=4.3271, MAE=4.3271\n",
      "2025-02-09 13:36:50,229 [13068] INFO     root: Iteration 1710: RMSE=0.1550, MAE=0.1550\n",
      "2025-02-09 13:36:50,337 [13068] INFO     root: Iteration 1711: RMSE=5.8811, MAE=5.8811\n",
      "2025-02-09 13:36:50,420 [13068] INFO     root: Iteration 1712: RMSE=0.9176, MAE=0.9176\n",
      "2025-02-09 13:36:50,518 [13068] INFO     root: Iteration 1713: RMSE=2.7728, MAE=2.7728\n",
      "2025-02-09 13:36:50,614 [13068] INFO     root: Iteration 1714: RMSE=2.9898, MAE=2.9898\n",
      "2025-02-09 13:36:50,707 [13068] INFO     root: Iteration 1715: RMSE=5.1385, MAE=5.1385\n",
      "2025-02-09 13:36:50,789 [13068] INFO     root: Iteration 1716: RMSE=0.5329, MAE=0.5329\n",
      "2025-02-09 13:36:50,874 [13068] INFO     root: Iteration 1717: RMSE=1.3937, MAE=1.3937\n",
      "2025-02-09 13:36:50,964 [13068] INFO     root: Iteration 1718: RMSE=4.2619, MAE=4.2619\n",
      "2025-02-09 13:36:51,055 [13068] INFO     root: Iteration 1719: RMSE=4.2619, MAE=4.2619\n",
      "2025-02-09 13:36:51,180 [13068] INFO     root: Iteration 1720: RMSE=1.9954, MAE=1.9954\n",
      "2025-02-09 13:36:51,295 [13068] INFO     root: Iteration 1721: RMSE=0.1636, MAE=0.1636\n",
      "2025-02-09 13:36:51,398 [13068] INFO     root: Iteration 1722: RMSE=4.8742, MAE=4.8742\n",
      "2025-02-09 13:36:51,501 [13068] INFO     root: Iteration 1723: RMSE=1.9880, MAE=1.9880\n",
      "2025-02-09 13:36:51,597 [13068] INFO     root: Iteration 1724: RMSE=0.6277, MAE=0.6277\n",
      "2025-02-09 13:36:51,692 [13068] INFO     root: Iteration 1725: RMSE=6.3484, MAE=6.3484\n",
      "2025-02-09 13:36:51,785 [13068] INFO     root: Iteration 1726: RMSE=2.2823, MAE=2.2823\n",
      "2025-02-09 13:36:51,926 [13068] INFO     root: Iteration 1727: RMSE=0.6004, MAE=0.6004\n",
      "2025-02-09 13:36:52,014 [13068] INFO     root: Iteration 1728: RMSE=0.4053, MAE=0.4053\n",
      "2025-02-09 13:36:52,102 [13068] INFO     root: Iteration 1729: RMSE=6.5607, MAE=6.5607\n",
      "2025-02-09 13:36:52,191 [13068] INFO     root: Iteration 1730: RMSE=1.3937, MAE=1.3937\n",
      "2025-02-09 13:36:52,298 [13068] INFO     root: Iteration 1731: RMSE=2.5983, MAE=2.5983\n",
      "2025-02-09 13:36:52,411 [13068] INFO     root: Iteration 1732: RMSE=0.9510, MAE=0.9510\n",
      "2025-02-09 13:36:52,508 [13068] INFO     root: Iteration 1733: RMSE=1.9954, MAE=1.9954\n",
      "2025-02-09 13:36:52,600 [13068] INFO     root: Iteration 1734: RMSE=5.8175, MAE=5.8175\n",
      "2025-02-09 13:36:52,706 [13068] INFO     root: Iteration 1735: RMSE=1.2345, MAE=1.2345\n",
      "2025-02-09 13:36:52,792 [13068] INFO     root: Iteration 1736: RMSE=4.2733, MAE=4.2733\n",
      "2025-02-09 13:36:52,893 [13068] INFO     root: Iteration 1737: RMSE=7.1962, MAE=7.1962\n",
      "2025-02-09 13:36:52,990 [13068] INFO     root: Iteration 1738: RMSE=7.1880, MAE=7.1880\n",
      "2025-02-09 13:36:53,097 [13068] INFO     root: Iteration 1739: RMSE=0.4554, MAE=0.4554\n",
      "2025-02-09 13:36:53,205 [13068] INFO     root: Iteration 1740: RMSE=0.6820, MAE=0.6820\n",
      "2025-02-09 13:36:53,324 [13068] INFO     root: Iteration 1741: RMSE=1.0837, MAE=1.0837\n",
      "2025-02-09 13:36:53,400 [13068] INFO     ml_monitor.logging: Starting metrics logging thread...\n",
      "2025-02-09 13:36:53,462 [13068] INFO     root: Iteration 1742: RMSE=0.4554, MAE=0.4554\n",
      "2025-02-09 13:36:53,586 [13068] INFO     root: Iteration 1743: RMSE=0.8295, MAE=0.8295\n",
      "2025-02-09 13:36:53,710 [13068] INFO     root: Iteration 1744: RMSE=5.8175, MAE=5.8175\n",
      "2025-02-09 13:36:53,808 [13068] INFO     root: Iteration 1745: RMSE=3.1701, MAE=3.1701\n",
      "2025-02-09 13:36:53,914 [13068] INFO     root: Iteration 1746: RMSE=0.9690, MAE=0.9690\n",
      "2025-02-09 13:36:54,101 [13068] INFO     root: Iteration 1747: RMSE=0.1136, MAE=0.1136\n",
      "2025-02-09 13:36:54,204 [13068] INFO     root: Iteration 1748: RMSE=0.9510, MAE=0.9510\n",
      "2025-02-09 13:36:54,316 [13068] INFO     root: Iteration 1749: RMSE=0.9510, MAE=0.9510\n",
      "2025-02-09 13:36:54,426 [13068] INFO     root: Iteration 1750: RMSE=3.2950, MAE=3.2950\n",
      "2025-02-09 13:36:54,528 [13068] INFO     root: Iteration 1751: RMSE=1.9891, MAE=1.9891\n",
      "2025-02-09 13:36:54,642 [13068] INFO     root: Iteration 1752: RMSE=2.1281, MAE=2.1281\n",
      "2025-02-09 13:36:54,741 [13068] INFO     root: Iteration 1753: RMSE=0.0329, MAE=0.0329\n",
      "2025-02-09 13:36:54,848 [13068] INFO     root: Iteration 1754: RMSE=4.2619, MAE=4.2619\n",
      "2025-02-09 13:36:54,949 [13068] INFO     root: Iteration 1755: RMSE=2.7746, MAE=2.7746\n",
      "2025-02-09 13:36:55,045 [13068] INFO     root: Iteration 1756: RMSE=1.9891, MAE=1.9891\n",
      "2025-02-09 13:36:55,133 [13068] INFO     root: Iteration 1757: RMSE=0.9176, MAE=0.9176\n",
      "2025-02-09 13:36:55,231 [13068] INFO     root: Iteration 1758: RMSE=2.6178, MAE=2.6178\n",
      "2025-02-09 13:36:55,322 [13068] INFO     root: Iteration 1759: RMSE=0.9510, MAE=0.9510\n",
      "2025-02-09 13:36:55,425 [13068] INFO     root: Iteration 1760: RMSE=4.2619, MAE=4.2619\n",
      "2025-02-09 13:36:55,531 [13068] INFO     root: Iteration 1761: RMSE=5.1399, MAE=5.1399\n",
      "2025-02-09 13:36:55,627 [13068] INFO     root: Iteration 1762: RMSE=4.2733, MAE=4.2733\n",
      "2025-02-09 13:36:55,719 [13068] INFO     root: Iteration 1763: RMSE=3.2950, MAE=3.2950\n",
      "2025-02-09 13:36:55,854 [13068] INFO     root: Iteration 1764: RMSE=1.9024, MAE=1.9024\n",
      "2025-02-09 13:36:55,948 [13068] INFO     root: Iteration 1765: RMSE=4.3271, MAE=4.3271\n",
      "2025-02-09 13:36:56,038 [13068] INFO     root: Iteration 1766: RMSE=4.2619, MAE=4.2619\n",
      "2025-02-09 13:36:56,130 [13068] INFO     root: Iteration 1767: RMSE=0.6277, MAE=0.6277\n",
      "2025-02-09 13:36:56,222 [13068] INFO     root: Iteration 1768: RMSE=2.2324, MAE=2.2324\n",
      "2025-02-09 13:36:56,309 [13068] INFO     root: Iteration 1769: RMSE=0.5423, MAE=0.5423\n",
      "2025-02-09 13:36:56,396 [13068] INFO     root: Iteration 1770: RMSE=2.2319, MAE=2.2319\n",
      "2025-02-09 13:36:56,491 [13068] INFO     root: Iteration 1771: RMSE=1.0837, MAE=1.0837\n",
      "2025-02-09 13:36:56,586 [13068] INFO     root: Iteration 1772: RMSE=0.0190, MAE=0.0190\n",
      "2025-02-09 13:36:56,709 [13068] INFO     root: Iteration 1773: RMSE=1.0341, MAE=1.0341\n",
      "2025-02-09 13:36:56,854 [13068] INFO     root: Iteration 1774: RMSE=0.5423, MAE=0.5423\n",
      "2025-02-09 13:36:56,955 [13068] INFO     root: Iteration 1775: RMSE=0.4554, MAE=0.4554\n",
      "2025-02-09 13:36:57,149 [13068] INFO     root: Iteration 1776: RMSE=4.2272, MAE=4.2272\n",
      "2025-02-09 13:36:57,251 [13068] INFO     root: Iteration 1777: RMSE=3.6498, MAE=3.6498\n",
      "2025-02-09 13:36:57,355 [13068] INFO     root: Iteration 1778: RMSE=2.7746, MAE=2.7746\n",
      "2025-02-09 13:36:57,451 [13068] INFO     root: Iteration 1779: RMSE=0.9176, MAE=0.9176\n",
      "2025-02-09 13:36:57,551 [13068] INFO     root: Iteration 1780: RMSE=1.9891, MAE=1.9891\n",
      "2025-02-09 13:36:57,650 [13068] INFO     root: Iteration 1781: RMSE=0.8502, MAE=0.8502\n",
      "2025-02-09 13:36:57,747 [13068] INFO     root: Iteration 1782: RMSE=2.5855, MAE=2.5855\n",
      "2025-02-09 13:36:57,849 [13068] INFO     root: Iteration 1783: RMSE=0.6004, MAE=0.6004\n",
      "2025-02-09 13:36:57,945 [13068] INFO     root: Iteration 1784: RMSE=1.9374, MAE=1.9374\n",
      "2025-02-09 13:36:58,061 [13068] INFO     root: Iteration 1785: RMSE=2.6178, MAE=2.6178\n",
      "2025-02-09 13:36:58,161 [13068] INFO     root: Iteration 1786: RMSE=5.1399, MAE=5.1399\n",
      "2025-02-09 13:36:58,260 [13068] INFO     root: Iteration 1787: RMSE=0.1136, MAE=0.1136\n",
      "2025-02-09 13:36:58,372 [13068] INFO     root: Iteration 1788: RMSE=0.1136, MAE=0.1136\n",
      "2025-02-09 13:36:58,420 [13068] INFO     ml_monitor.logging: Starting metrics logging thread...\n",
      "2025-02-09 13:36:58,496 [13068] INFO     root: Iteration 1789: RMSE=0.0190, MAE=0.0190\n",
      "2025-02-09 13:36:58,658 [13068] INFO     root: Iteration 1790: RMSE=2.7746, MAE=2.7746\n",
      "2025-02-09 13:36:58,750 [13068] INFO     root: Iteration 1791: RMSE=3.6498, MAE=3.6498\n",
      "2025-02-09 13:36:58,839 [13068] INFO     root: Iteration 1792: RMSE=2.2823, MAE=2.2823\n",
      "2025-02-09 13:36:58,928 [13068] INFO     root: Iteration 1793: RMSE=0.2356, MAE=0.2356\n",
      "2025-02-09 13:36:59,025 [13068] INFO     root: Iteration 1794: RMSE=1.9374, MAE=1.9374\n",
      "2025-02-09 13:36:59,114 [13068] INFO     root: Iteration 1795: RMSE=5.8175, MAE=5.8175\n",
      "2025-02-09 13:36:59,252 [13068] INFO     root: Iteration 1796: RMSE=0.1136, MAE=0.1136\n",
      "2025-02-09 13:36:59,368 [13068] INFO     root: Iteration 1797: RMSE=2.6178, MAE=2.6178\n",
      "2025-02-09 13:36:59,486 [13068] INFO     root: Iteration 1798: RMSE=0.5329, MAE=0.5329\n",
      "2025-02-09 13:36:59,585 [13068] INFO     root: Iteration 1799: RMSE=3.2950, MAE=3.2950\n",
      "2025-02-09 13:37:00,000 [13068] INFO     root: Metrics pushed at iteration 1799. RMSE=3.2950, MAE=3.2950\n",
      "2025-02-09 13:37:00,109 [13068] INFO     root: Iteration 1800: RMSE=5.1385, MAE=5.1385\n",
      "2025-02-09 13:37:00,231 [13068] INFO     root: Iteration 1801: RMSE=4.8742, MAE=4.8742\n",
      "2025-02-09 13:37:00,338 [13068] INFO     root: Iteration 1802: RMSE=0.1636, MAE=0.1636\n",
      "2025-02-09 13:37:00,426 [13068] INFO     root: Iteration 1803: RMSE=5.2814, MAE=5.2814\n",
      "2025-02-09 13:37:00,604 [13068] INFO     root: Iteration 1804: RMSE=6.5607, MAE=6.5607\n",
      "2025-02-09 13:37:00,701 [13068] INFO     root: Iteration 1805: RMSE=7.4122, MAE=7.4122\n",
      "2025-02-09 13:37:00,803 [13068] INFO     root: Iteration 1806: RMSE=0.2922, MAE=0.2922\n",
      "2025-02-09 13:37:00,891 [13068] INFO     root: Iteration 1807: RMSE=1.2010, MAE=1.2010\n",
      "2025-02-09 13:37:00,989 [13068] INFO     root: Iteration 1808: RMSE=0.9176, MAE=0.9176\n",
      "2025-02-09 13:37:01,089 [13068] INFO     root: Iteration 1809: RMSE=7.4122, MAE=7.4122\n",
      "2025-02-09 13:37:01,208 [13068] INFO     root: Iteration 1810: RMSE=1.7964, MAE=1.7964\n",
      "2025-02-09 13:37:01,316 [13068] INFO     root: Iteration 1811: RMSE=5.8811, MAE=5.8811\n",
      "2025-02-09 13:37:01,418 [13068] INFO     root: Iteration 1812: RMSE=3.1092, MAE=3.1092\n",
      "2025-02-09 13:37:01,543 [13068] INFO     root: Iteration 1813: RMSE=3.0812, MAE=3.0812\n",
      "2025-02-09 13:37:01,643 [13068] INFO     root: Iteration 1814: RMSE=0.6863, MAE=0.6863\n",
      "2025-02-09 13:37:01,741 [13068] INFO     root: Iteration 1815: RMSE=1.0837, MAE=1.0837\n",
      "2025-02-09 13:37:01,845 [13068] INFO     root: Iteration 1816: RMSE=1.9880, MAE=1.9880\n",
      "2025-02-09 13:37:01,948 [13068] INFO     root: Iteration 1817: RMSE=1.7964, MAE=1.7964\n",
      "2025-02-09 13:37:02,133 [13068] INFO     root: Iteration 1818: RMSE=1.6668, MAE=1.6668\n",
      "2025-02-09 13:37:02,325 [13068] INFO     root: Iteration 1819: RMSE=2.4681, MAE=2.4681\n",
      "2025-02-09 13:37:02,435 [13068] INFO     root: Iteration 1820: RMSE=2.0594, MAE=2.0594\n",
      "2025-02-09 13:37:02,548 [13068] INFO     root: Iteration 1821: RMSE=1.0341, MAE=1.0341\n",
      "2025-02-09 13:37:02,660 [13068] INFO     root: Iteration 1822: RMSE=3.9035, MAE=3.9035\n",
      "2025-02-09 13:37:02,782 [13068] INFO     root: Iteration 1823: RMSE=2.4091, MAE=2.4091\n",
      "2025-02-09 13:37:02,890 [13068] INFO     root: Iteration 1824: RMSE=1.7964, MAE=1.7964\n",
      "2025-02-09 13:37:02,995 [13068] INFO     root: Iteration 1825: RMSE=0.5028, MAE=0.5028\n",
      "2025-02-09 13:37:03,175 [13068] INFO     root: Iteration 1826: RMSE=0.9201, MAE=0.9201\n",
      "2025-02-09 13:37:03,323 [13068] INFO     root: Iteration 1827: RMSE=5.1399, MAE=5.1399\n",
      "2025-02-09 13:37:03,449 [13068] INFO     ml_monitor.logging: Starting metrics logging thread...\n",
      "2025-02-09 13:37:03,467 [13068] INFO     root: Iteration 1828: RMSE=1.9374, MAE=1.9374\n",
      "2025-02-09 13:37:03,605 [13068] INFO     root: Iteration 1829: RMSE=5.8811, MAE=5.8811\n",
      "2025-02-09 13:37:03,864 [13068] INFO     root: Iteration 1830: RMSE=1.9024, MAE=1.9024\n",
      "2025-02-09 13:37:04,012 [13068] INFO     root: Iteration 1831: RMSE=15.7679, MAE=15.7679\n",
      "2025-02-09 13:37:04,113 [13068] INFO     root: Iteration 1832: RMSE=0.6367, MAE=0.6367\n",
      "2025-02-09 13:37:04,238 [13068] INFO     root: Iteration 1833: RMSE=1.9834, MAE=1.9834\n",
      "2025-02-09 13:37:04,407 [13068] INFO     root: Iteration 1834: RMSE=1.2841, MAE=1.2841\n",
      "2025-02-09 13:37:04,505 [13068] INFO     root: Iteration 1835: RMSE=2.2823, MAE=2.2823\n",
      "2025-02-09 13:37:04,603 [13068] INFO     root: Iteration 1836: RMSE=2.2823, MAE=2.2823\n",
      "2025-02-09 13:37:04,714 [13068] INFO     root: Iteration 1837: RMSE=4.2733, MAE=4.2733\n",
      "2025-02-09 13:37:04,819 [13068] INFO     root: Iteration 1838: RMSE=1.7797, MAE=1.7797\n",
      "2025-02-09 13:37:04,928 [13068] INFO     root: Iteration 1839: RMSE=0.6820, MAE=0.6820\n",
      "2025-02-09 13:37:05,041 [13068] INFO     root: Iteration 1840: RMSE=1.7797, MAE=1.7797\n",
      "2025-02-09 13:37:05,151 [13068] INFO     root: Iteration 1841: RMSE=0.9510, MAE=0.9510\n",
      "2025-02-09 13:37:05,261 [13068] INFO     root: Iteration 1842: RMSE=0.6277, MAE=0.6277\n",
      "2025-02-09 13:37:05,369 [13068] INFO     root: Iteration 1843: RMSE=1.2345, MAE=1.2345\n",
      "2025-02-09 13:37:05,491 [13068] INFO     root: Iteration 1844: RMSE=2.4681, MAE=2.4681\n",
      "2025-02-09 13:37:05,582 [13068] INFO     root: Iteration 1845: RMSE=3.1092, MAE=3.1092\n",
      "2025-02-09 13:37:05,681 [13068] INFO     root: Iteration 1846: RMSE=0.0894, MAE=0.0894\n",
      "2025-02-09 13:37:05,775 [13068] INFO     root: Iteration 1847: RMSE=4.2619, MAE=4.2619\n",
      "2025-02-09 13:37:05,871 [13068] INFO     root: Iteration 1848: RMSE=5.1385, MAE=5.1385\n",
      "2025-02-09 13:37:05,969 [13068] INFO     root: Iteration 1849: RMSE=0.4278, MAE=0.4278\n",
      "2025-02-09 13:37:06,058 [13068] INFO     root: Iteration 1850: RMSE=6.4895, MAE=6.4895\n",
      "2025-02-09 13:37:06,152 [13068] INFO     root: Iteration 1851: RMSE=1.2841, MAE=1.2841\n",
      "2025-02-09 13:37:06,240 [13068] INFO     root: Iteration 1852: RMSE=0.1636, MAE=0.1636\n",
      "2025-02-09 13:37:06,333 [13068] INFO     root: Iteration 1853: RMSE=5.2814, MAE=5.2814\n",
      "2025-02-09 13:37:06,418 [13068] INFO     root: Iteration 1854: RMSE=2.1020, MAE=2.1020\n",
      "2025-02-09 13:37:06,569 [13068] INFO     root: Iteration 1855: RMSE=5.8811, MAE=5.8811\n",
      "2025-02-09 13:37:06,663 [13068] INFO     root: Iteration 1856: RMSE=5.1399, MAE=5.1399\n",
      "2025-02-09 13:37:06,747 [13068] INFO     root: Iteration 1857: RMSE=1.5289, MAE=1.5289\n",
      "2025-02-09 13:37:06,837 [13068] INFO     root: Iteration 1858: RMSE=1.5289, MAE=1.5289\n",
      "2025-02-09 13:37:06,931 [13068] INFO     root: Iteration 1859: RMSE=5.1399, MAE=5.1399\n",
      "2025-02-09 13:37:07,018 [13068] INFO     root: Iteration 1860: RMSE=0.8502, MAE=0.8502\n",
      "2025-02-09 13:37:07,125 [13068] INFO     root: Iteration 1861: RMSE=0.8295, MAE=0.8295\n",
      "2025-02-09 13:37:07,233 [13068] INFO     root: Iteration 1862: RMSE=1.6861, MAE=1.6861\n",
      "2025-02-09 13:37:07,343 [13068] INFO     root: Iteration 1863: RMSE=0.1640, MAE=0.1640\n",
      "2025-02-09 13:37:07,456 [13068] INFO     root: Iteration 1864: RMSE=7.1962, MAE=7.1962\n",
      "2025-02-09 13:37:07,567 [13068] INFO     root: Iteration 1865: RMSE=0.4554, MAE=0.4554\n",
      "2025-02-09 13:37:07,669 [13068] INFO     root: Iteration 1866: RMSE=6.3484, MAE=6.3484\n",
      "2025-02-09 13:37:07,828 [13068] INFO     root: Iteration 1867: RMSE=1.3937, MAE=1.3937\n",
      "2025-02-09 13:37:07,954 [13068] INFO     root: Iteration 1868: RMSE=0.0894, MAE=0.0894\n",
      "2025-02-09 13:37:08,065 [13068] INFO     root: Iteration 1869: RMSE=0.1550, MAE=0.1550\n",
      "2025-02-09 13:37:08,167 [13068] INFO     root: Iteration 1870: RMSE=2.6178, MAE=2.6178\n",
      "2025-02-09 13:37:08,269 [13068] INFO     root: Iteration 1871: RMSE=1.3937, MAE=1.3937\n",
      "2025-02-09 13:37:08,362 [13068] INFO     root: Iteration 1872: RMSE=1.7964, MAE=1.7964\n",
      "2025-02-09 13:37:08,470 [13068] INFO     ml_monitor.logging: Starting metrics logging thread...\n",
      "2025-02-09 13:37:08,478 [13068] INFO     root: Iteration 1873: RMSE=1.5147, MAE=1.5147\n",
      "2025-02-09 13:37:08,577 [13068] INFO     root: Iteration 1874: RMSE=21.1875, MAE=21.1875\n",
      "2025-02-09 13:37:08,683 [13068] INFO     root: Iteration 1875: RMSE=3.1701, MAE=3.1701\n",
      "2025-02-09 13:37:08,787 [13068] INFO     root: Iteration 1876: RMSE=2.5983, MAE=2.5983\n",
      "2025-02-09 13:37:08,892 [13068] INFO     root: Iteration 1877: RMSE=5.8811, MAE=5.8811\n",
      "2025-02-09 13:37:09,098 [13068] INFO     root: Iteration 1878: RMSE=3.9228, MAE=3.9228\n",
      "2025-02-09 13:37:09,209 [13068] INFO     root: Iteration 1879: RMSE=1.2345, MAE=1.2345\n",
      "2025-02-09 13:37:09,318 [13068] INFO     root: Iteration 1880: RMSE=0.4053, MAE=0.4053\n",
      "2025-02-09 13:37:09,420 [13068] INFO     root: Iteration 1881: RMSE=0.6820, MAE=0.6820\n",
      "2025-02-09 13:37:09,521 [13068] INFO     root: Iteration 1882: RMSE=4.2619, MAE=4.2619\n",
      "2025-02-09 13:37:09,661 [13068] INFO     root: Iteration 1883: RMSE=0.1640, MAE=0.1640\n",
      "2025-02-09 13:37:10,112 [13068] INFO     root: Metrics pushed at iteration 1883. RMSE=0.1640, MAE=0.1640\n",
      "2025-02-09 13:37:10,216 [13068] INFO     root: Iteration 1884: RMSE=3.9035, MAE=3.9035\n",
      "2025-02-09 13:37:10,359 [13068] INFO     root: Iteration 1885: RMSE=3.2372, MAE=3.2372\n",
      "2025-02-09 13:37:10,459 [13068] INFO     root: Iteration 1886: RMSE=2.9898, MAE=2.9898\n",
      "2025-02-09 13:37:10,552 [13068] INFO     root: Iteration 1887: RMSE=2.7728, MAE=2.7728\n",
      "2025-02-09 13:37:10,639 [13068] INFO     root: Iteration 1888: RMSE=0.1136, MAE=0.1136\n",
      "2025-02-09 13:37:10,729 [13068] INFO     root: Iteration 1889: RMSE=3.2372, MAE=3.2372\n",
      "2025-02-09 13:37:10,813 [13068] INFO     root: Iteration 1890: RMSE=1.6668, MAE=1.6668\n",
      "2025-02-09 13:37:10,893 [13068] INFO     root: Iteration 1891: RMSE=6.3484, MAE=6.3484\n",
      "2025-02-09 13:37:10,971 [13068] INFO     root: Iteration 1892: RMSE=5.8811, MAE=5.8811\n",
      "2025-02-09 13:37:11,049 [13068] INFO     root: Iteration 1893: RMSE=0.1636, MAE=0.1636\n",
      "2025-02-09 13:37:11,169 [13068] INFO     root: Iteration 1894: RMSE=0.4554, MAE=0.4554\n",
      "2025-02-09 13:37:11,348 [13068] INFO     root: Iteration 1895: RMSE=0.8360, MAE=0.8360\n",
      "2025-02-09 13:37:11,448 [13068] INFO     root: Iteration 1896: RMSE=5.0666, MAE=5.0666\n",
      "2025-02-09 13:37:11,550 [13068] INFO     root: Iteration 1897: RMSE=4.8742, MAE=4.8742\n",
      "2025-02-09 13:37:11,693 [13068] INFO     root: Iteration 1898: RMSE=0.4053, MAE=0.4053\n",
      "2025-02-09 13:37:11,807 [13068] INFO     root: Iteration 1899: RMSE=0.8295, MAE=0.8295\n",
      "2025-02-09 13:37:11,906 [13068] INFO     root: Iteration 1900: RMSE=6.4895, MAE=6.4895\n",
      "2025-02-09 13:37:11,999 [13068] INFO     root: Iteration 1901: RMSE=3.1092, MAE=3.1092\n",
      "2025-02-09 13:37:12,087 [13068] INFO     root: Iteration 1902: RMSE=0.2445, MAE=0.2445\n",
      "2025-02-09 13:37:12,177 [13068] INFO     root: Iteration 1903: RMSE=0.0190, MAE=0.0190\n",
      "2025-02-09 13:37:12,272 [13068] INFO     root: Iteration 1904: RMSE=5.1399, MAE=5.1399\n",
      "2025-02-09 13:37:12,370 [13068] INFO     root: Iteration 1905: RMSE=0.2445, MAE=0.2445\n",
      "2025-02-09 13:37:12,458 [13068] INFO     root: Iteration 1906: RMSE=4.3271, MAE=4.3271\n",
      "2025-02-09 13:37:12,602 [13068] INFO     root: Iteration 1907: RMSE=0.1636, MAE=0.1636\n",
      "2025-02-09 13:37:12,699 [13068] INFO     root: Iteration 1908: RMSE=4.2272, MAE=4.2272\n",
      "2025-02-09 13:37:12,805 [13068] INFO     root: Iteration 1909: RMSE=0.4053, MAE=0.4053\n",
      "2025-02-09 13:37:12,934 [13068] INFO     root: Iteration 1910: RMSE=3.6498, MAE=3.6498\n",
      "2025-02-09 13:37:13,036 [13068] INFO     root: Iteration 1911: RMSE=2.5855, MAE=2.5855\n",
      "2025-02-09 13:37:13,142 [13068] INFO     root: Iteration 1912: RMSE=0.9510, MAE=0.9510\n",
      "2025-02-09 13:37:13,246 [13068] INFO     root: Iteration 1913: RMSE=3.2950, MAE=3.2950\n",
      "2025-02-09 13:37:13,353 [13068] INFO     root: Iteration 1914: RMSE=0.8295, MAE=0.8295\n",
      "2025-02-09 13:37:13,462 [13068] INFO     root: Iteration 1915: RMSE=4.8742, MAE=4.8742\n",
      "2025-02-09 13:37:13,496 [13068] INFO     ml_monitor.logging: Starting metrics logging thread...\n",
      "2025-02-09 13:37:13,569 [13068] INFO     root: Iteration 1916: RMSE=1.0837, MAE=1.0837\n",
      "2025-02-09 13:37:13,668 [13068] INFO     root: Iteration 1917: RMSE=1.2345, MAE=1.2345\n",
      "2025-02-09 13:37:13,824 [13068] INFO     root: Iteration 1918: RMSE=6.5607, MAE=6.5607\n",
      "2025-02-09 13:37:13,934 [13068] INFO     root: Iteration 1919: RMSE=0.9176, MAE=0.9176\n",
      "2025-02-09 13:37:14,037 [13068] INFO     root: Iteration 1920: RMSE=3.1701, MAE=3.1701\n",
      "2025-02-09 13:37:14,145 [13068] INFO     root: Iteration 1921: RMSE=5.2814, MAE=5.2814\n",
      "2025-02-09 13:37:14,247 [13068] INFO     root: Iteration 1922: RMSE=1.6861, MAE=1.6861\n",
      "2025-02-09 13:37:14,353 [13068] INFO     root: Iteration 1923: RMSE=2.2823, MAE=2.2823\n",
      "2025-02-09 13:37:14,451 [13068] INFO     root: Iteration 1924: RMSE=0.1136, MAE=0.1136\n",
      "2025-02-09 13:37:14,549 [13068] INFO     root: Iteration 1925: RMSE=0.4554, MAE=0.4554\n",
      "2025-02-09 13:37:14,643 [13068] INFO     root: Iteration 1926: RMSE=1.0783, MAE=1.0783\n",
      "2025-02-09 13:37:14,732 [13068] INFO     root: Iteration 1927: RMSE=0.5423, MAE=0.5423\n",
      "2025-02-09 13:37:14,821 [13068] INFO     root: Iteration 1928: RMSE=2.1957, MAE=2.1957\n",
      "2025-02-09 13:37:14,907 [13068] INFO     root: Iteration 1929: RMSE=0.2356, MAE=0.2356\n",
      "2025-02-09 13:37:14,987 [13068] INFO     root: Iteration 1930: RMSE=1.0341, MAE=1.0341\n",
      "2025-02-09 13:37:15,071 [13068] INFO     root: Iteration 1931: RMSE=3.9228, MAE=3.9228\n",
      "2025-02-09 13:37:15,157 [13068] INFO     root: Iteration 1932: RMSE=1.9891, MAE=1.9891\n",
      "2025-02-09 13:37:15,240 [13068] INFO     root: Iteration 1933: RMSE=4.8742, MAE=4.8742\n",
      "2025-02-09 13:37:15,325 [13068] INFO     root: Iteration 1934: RMSE=5.8175, MAE=5.8175\n",
      "2025-02-09 13:37:15,412 [13068] INFO     root: Iteration 1935: RMSE=2.4407, MAE=2.4407\n",
      "2025-02-09 13:37:15,583 [13068] INFO     root: Iteration 1936: RMSE=21.1875, MAE=21.1875\n",
      "2025-02-09 13:37:15,680 [13068] INFO     root: Iteration 1937: RMSE=0.6277, MAE=0.6277\n",
      "2025-02-09 13:37:15,778 [13068] INFO     root: Iteration 1938: RMSE=0.8360, MAE=0.8360\n",
      "2025-02-09 13:37:15,870 [13068] INFO     root: Iteration 1939: RMSE=0.1636, MAE=0.1636\n",
      "2025-02-09 13:37:15,949 [13068] INFO     root: Iteration 1940: RMSE=6.4895, MAE=6.4895\n",
      "2025-02-09 13:37:16,045 [13068] INFO     root: Iteration 1941: RMSE=1.9374, MAE=1.9374\n",
      "2025-02-09 13:37:16,164 [13068] INFO     root: Iteration 1942: RMSE=0.1640, MAE=0.1640\n",
      "2025-02-09 13:37:16,269 [13068] INFO     root: Iteration 1943: RMSE=3.0812, MAE=3.0812\n",
      "2025-02-09 13:37:16,372 [13068] INFO     root: Iteration 1944: RMSE=5.2814, MAE=5.2814\n",
      "2025-02-09 13:37:16,514 [13068] INFO     root: Iteration 1945: RMSE=0.0894, MAE=0.0894\n",
      "2025-02-09 13:37:16,642 [13068] INFO     root: Iteration 1946: RMSE=0.1550, MAE=0.1550\n",
      "2025-02-09 13:37:16,760 [13068] INFO     root: Iteration 1947: RMSE=1.5147, MAE=1.5147\n",
      "2025-02-09 13:37:16,880 [13068] INFO     root: Iteration 1948: RMSE=0.1136, MAE=0.1136\n",
      "2025-02-09 13:37:17,002 [13068] INFO     root: Iteration 1949: RMSE=0.9510, MAE=0.9510\n",
      "2025-02-09 13:37:17,115 [13068] INFO     root: Iteration 1950: RMSE=5.2814, MAE=5.2814\n",
      "2025-02-09 13:37:17,235 [13068] INFO     root: Iteration 1951: RMSE=2.4407, MAE=2.4407\n",
      "2025-02-09 13:37:17,470 [13068] INFO     root: Iteration 1952: RMSE=0.4811, MAE=0.4811\n",
      "2025-02-09 13:37:17,596 [13068] INFO     root: Iteration 1953: RMSE=1.2345, MAE=1.2345\n",
      "2025-02-09 13:37:17,716 [13068] INFO     root: Iteration 1954: RMSE=1.5289, MAE=1.5289\n",
      "2025-02-09 13:37:17,828 [13068] INFO     root: Iteration 1955: RMSE=5.3491, MAE=5.3491\n",
      "2025-02-09 13:37:17,938 [13068] INFO     root: Iteration 1956: RMSE=0.4278, MAE=0.4278\n",
      "2025-02-09 13:37:18,084 [13068] INFO     root: Iteration 1957: RMSE=4.2272, MAE=4.2272\n",
      "2025-02-09 13:37:18,202 [13068] INFO     root: Iteration 1958: RMSE=5.8811, MAE=5.8811\n",
      "2025-02-09 13:37:18,329 [13068] INFO     root: Iteration 1959: RMSE=0.1636, MAE=0.1636\n",
      "2025-02-09 13:37:18,474 [13068] INFO     root: Iteration 1960: RMSE=4.2733, MAE=4.2733\n",
      "2025-02-09 13:37:18,533 [13068] INFO     ml_monitor.logging: Starting metrics logging thread...\n",
      "2025-02-09 13:37:18,651 [13068] INFO     root: Iteration 1961: RMSE=7.1962, MAE=7.1962\n",
      "2025-02-09 13:37:18,787 [13068] INFO     root: Iteration 1962: RMSE=1.2010, MAE=1.2010\n",
      "2025-02-09 13:37:18,906 [13068] INFO     root: Iteration 1963: RMSE=0.5329, MAE=0.5329\n",
      "2025-02-09 13:37:19,030 [13068] INFO     root: Iteration 1964: RMSE=0.1636, MAE=0.1636\n",
      "2025-02-09 13:37:19,157 [13068] INFO     root: Iteration 1965: RMSE=0.8360, MAE=0.8360\n",
      "2025-02-09 13:37:19,272 [13068] INFO     root: Iteration 1966: RMSE=6.5607, MAE=6.5607\n",
      "2025-02-09 13:37:19,389 [13068] INFO     root: Iteration 1967: RMSE=1.2841, MAE=1.2841\n",
      "2025-02-09 13:37:19,552 [13068] INFO     root: Iteration 1968: RMSE=5.2814, MAE=5.2814\n",
      "2025-02-09 13:37:19,678 [13068] INFO     root: Iteration 1969: RMSE=1.6861, MAE=1.6861\n",
      "2025-02-09 13:37:20,179 [13068] INFO     root: Metrics pushed at iteration 1969. RMSE=1.6861, MAE=1.6861\n",
      "2025-02-09 13:37:20,280 [13068] INFO     root: Iteration 1970: RMSE=21.1875, MAE=21.1875\n",
      "2025-02-09 13:37:20,377 [13068] INFO     root: Iteration 1971: RMSE=5.8811, MAE=5.8811\n",
      "2025-02-09 13:37:20,477 [13068] INFO     root: Iteration 1972: RMSE=1.6668, MAE=1.6668\n",
      "2025-02-09 13:37:20,581 [13068] INFO     root: Iteration 1973: RMSE=4.3271, MAE=4.3271\n",
      "2025-02-09 13:37:20,673 [13068] INFO     root: Iteration 1974: RMSE=5.1399, MAE=5.1399\n",
      "2025-02-09 13:37:20,770 [13068] INFO     root: Iteration 1975: RMSE=1.0341, MAE=1.0341\n",
      "2025-02-09 13:37:20,858 [13068] INFO     root: Iteration 1976: RMSE=1.5147, MAE=1.5147\n",
      "2025-02-09 13:37:20,943 [13068] INFO     root: Iteration 1977: RMSE=4.2530, MAE=4.2530\n",
      "2025-02-09 13:37:21,030 [13068] INFO     root: Iteration 1978: RMSE=1.0837, MAE=1.0837\n",
      "2025-02-09 13:37:21,130 [13068] INFO     root: Iteration 1979: RMSE=5.1385, MAE=5.1385\n",
      "2025-02-09 13:37:21,234 [13068] INFO     root: Iteration 1980: RMSE=1.3937, MAE=1.3937\n",
      "2025-02-09 13:37:21,324 [13068] INFO     root: Iteration 1981: RMSE=5.8811, MAE=5.8811\n",
      "2025-02-09 13:37:21,412 [13068] INFO     root: Iteration 1982: RMSE=2.4407, MAE=2.4407\n",
      "2025-02-09 13:37:21,501 [13068] INFO     root: Iteration 1983: RMSE=4.2272, MAE=4.2272\n",
      "2025-02-09 13:37:21,594 [13068] INFO     root: Iteration 1984: RMSE=4.2733, MAE=4.2733\n",
      "2025-02-09 13:37:21,680 [13068] INFO     root: Iteration 1985: RMSE=2.8002, MAE=2.8002\n",
      "2025-02-09 13:37:21,759 [13068] INFO     root: Iteration 1986: RMSE=4.2530, MAE=4.2530\n",
      "2025-02-09 13:37:21,845 [13068] INFO     root: Iteration 1987: RMSE=5.1385, MAE=5.1385\n",
      "2025-02-09 13:37:21,934 [13068] INFO     root: Iteration 1988: RMSE=0.1636, MAE=0.1636\n",
      "2025-02-09 13:37:22,012 [13068] INFO     root: Iteration 1989: RMSE=1.5289, MAE=1.5289\n",
      "2025-02-09 13:37:22,090 [13068] INFO     root: Iteration 1990: RMSE=0.0190, MAE=0.0190\n",
      "2025-02-09 13:37:22,238 [13068] INFO     root: Iteration 1991: RMSE=4.2272, MAE=4.2272\n",
      "2025-02-09 13:37:22,327 [13068] INFO     root: Iteration 1992: RMSE=2.4681, MAE=2.4681\n",
      "2025-02-09 13:37:22,413 [13068] INFO     root: Iteration 1993: RMSE=2.2823, MAE=2.2823\n",
      "2025-02-09 13:37:22,497 [13068] INFO     root: Iteration 1994: RMSE=0.6863, MAE=0.6863\n",
      "2025-02-09 13:37:22,576 [13068] INFO     root: Iteration 1995: RMSE=2.5983, MAE=2.5983\n",
      "2025-02-09 13:37:22,660 [13068] INFO     root: Iteration 1996: RMSE=1.9954, MAE=1.9954\n",
      "2025-02-09 13:37:22,741 [13068] INFO     root: Iteration 1997: RMSE=1.5147, MAE=1.5147\n",
      "2025-02-09 13:37:22,827 [13068] INFO     root: Iteration 1998: RMSE=1.9891, MAE=1.9891\n",
      "2025-02-09 13:37:22,907 [13068] INFO     root: Iteration 1999: RMSE=1.2345, MAE=1.2345\n",
      "2025-02-09 13:37:22,994 [13068] INFO     root: Iteration 2000: RMSE=4.2733, MAE=4.2733\n",
      "2025-02-09 13:37:23,077 [13068] INFO     root: Iteration 2001: RMSE=4.2272, MAE=4.2272\n",
      "2025-02-09 13:37:23,160 [13068] INFO     root: Iteration 2002: RMSE=0.1640, MAE=0.1640\n",
      "2025-02-09 13:37:23,321 [13068] INFO     root: Iteration 2003: RMSE=0.8295, MAE=0.8295\n",
      "2025-02-09 13:37:23,424 [13068] INFO     root: Iteration 2004: RMSE=2.7746, MAE=2.7746\n",
      "2025-02-09 13:37:23,578 [13068] INFO     root: Iteration 2005: RMSE=21.1875, MAE=21.1875\n",
      "2025-02-09 13:37:23,596 [13068] INFO     ml_monitor.logging: Starting metrics logging thread...\n",
      "2025-02-09 13:37:23,689 [13068] INFO     root: Iteration 2006: RMSE=2.2324, MAE=2.2324\n",
      "2025-02-09 13:37:23,782 [13068] INFO     root: Iteration 2007: RMSE=3.9228, MAE=3.9228\n",
      "2025-02-09 13:37:23,886 [13068] INFO     root: Iteration 2008: RMSE=2.1020, MAE=2.1020\n",
      "2025-02-09 13:37:23,986 [13068] INFO     root: Iteration 2009: RMSE=5.1385, MAE=5.1385\n",
      "2025-02-09 13:37:24,089 [13068] INFO     root: Iteration 2010: RMSE=0.9176, MAE=0.9176\n",
      "2025-02-09 13:37:24,214 [13068] INFO     root: Iteration 2011: RMSE=1.9374, MAE=1.9374\n",
      "2025-02-09 13:37:24,332 [13068] INFO     root: Iteration 2012: RMSE=2.9898, MAE=2.9898\n",
      "2025-02-09 13:37:24,419 [13068] INFO     root: Iteration 2013: RMSE=2.2324, MAE=2.2324\n",
      "2025-02-09 13:37:24,513 [13068] INFO     root: Iteration 2014: RMSE=5.1385, MAE=5.1385\n",
      "2025-02-09 13:37:24,622 [13068] INFO     root: Iteration 2015: RMSE=0.9201, MAE=0.9201\n",
      "2025-02-09 13:37:24,735 [13068] INFO     root: Iteration 2016: RMSE=0.1136, MAE=0.1136\n",
      "2025-02-09 13:37:24,860 [13068] INFO     root: Iteration 2017: RMSE=1.9470, MAE=1.9470\n",
      "2025-02-09 13:37:24,969 [13068] INFO     root: Iteration 2018: RMSE=0.0894, MAE=0.0894\n",
      "2025-02-09 13:37:25,061 [13068] INFO     root: Iteration 2019: RMSE=0.8360, MAE=0.8360\n",
      "2025-02-09 13:37:25,238 [13068] INFO     root: Iteration 2020: RMSE=0.5423, MAE=0.5423\n",
      "2025-02-09 13:37:25,332 [13068] INFO     root: Iteration 2021: RMSE=0.1636, MAE=0.1636\n",
      "2025-02-09 13:37:25,409 [13068] INFO     root: Iteration 2022: RMSE=1.9880, MAE=1.9880\n",
      "2025-02-09 13:37:25,515 [13068] INFO     root: Iteration 2023: RMSE=7.1962, MAE=7.1962\n",
      "2025-02-09 13:37:25,604 [13068] INFO     root: Iteration 2024: RMSE=2.4681, MAE=2.4681\n",
      "2025-02-09 13:37:25,699 [13068] INFO     root: Iteration 2025: RMSE=1.9880, MAE=1.9880\n",
      "2025-02-09 13:37:25,783 [13068] INFO     root: Iteration 2026: RMSE=1.9834, MAE=1.9834\n",
      "2025-02-09 13:37:25,876 [13068] INFO     root: Iteration 2027: RMSE=1.9024, MAE=1.9024\n",
      "2025-02-09 13:37:25,968 [13068] INFO     root: Iteration 2028: RMSE=4.3700, MAE=4.3700\n",
      "2025-02-09 13:37:26,057 [13068] INFO     root: Iteration 2029: RMSE=1.9880, MAE=1.9880\n",
      "2025-02-09 13:37:26,143 [13068] INFO     root: Iteration 2030: RMSE=0.9201, MAE=0.9201\n",
      "2025-02-09 13:37:26,229 [13068] INFO     root: Iteration 2031: RMSE=5.2814, MAE=5.2814\n",
      "2025-02-09 13:37:26,318 [13068] INFO     root: Iteration 2032: RMSE=1.9954, MAE=1.9954\n",
      "2025-02-09 13:37:26,405 [13068] INFO     root: Iteration 2033: RMSE=0.4278, MAE=0.4278\n",
      "2025-02-09 13:37:26,487 [13068] INFO     root: Iteration 2034: RMSE=1.9891, MAE=1.9891\n",
      "2025-02-09 13:37:26,571 [13068] INFO     root: Iteration 2035: RMSE=1.2345, MAE=1.2345\n",
      "2025-02-09 13:37:26,664 [13068] INFO     root: Iteration 2036: RMSE=2.1020, MAE=2.1020\n",
      "2025-02-09 13:37:26,758 [13068] INFO     root: Iteration 2037: RMSE=0.5423, MAE=0.5423\n",
      "2025-02-09 13:37:26,851 [13068] INFO     root: Iteration 2038: RMSE=0.4278, MAE=0.4278\n",
      "2025-02-09 13:37:26,934 [13068] INFO     root: Iteration 2039: RMSE=0.4278, MAE=0.4278\n",
      "2025-02-09 13:37:27,017 [13068] INFO     root: Iteration 2040: RMSE=0.9510, MAE=0.9510\n",
      "2025-02-09 13:37:27,121 [13068] INFO     root: Iteration 2041: RMSE=3.6498, MAE=3.6498\n",
      "2025-02-09 13:37:27,230 [13068] INFO     root: Iteration 2042: RMSE=1.0837, MAE=1.0837\n",
      "2025-02-09 13:37:27,321 [13068] INFO     root: Iteration 2043: RMSE=1.0525, MAE=1.0525\n",
      "2025-02-09 13:37:27,408 [13068] INFO     root: Iteration 2044: RMSE=15.7679, MAE=15.7679\n",
      "2025-02-09 13:37:27,501 [13068] INFO     root: Iteration 2045: RMSE=2.0594, MAE=2.0594\n",
      "2025-02-09 13:37:27,585 [13068] INFO     root: Iteration 2046: RMSE=0.4811, MAE=0.4811\n",
      "2025-02-09 13:37:27,731 [13068] INFO     root: Iteration 2047: RMSE=4.2619, MAE=4.2619\n",
      "2025-02-09 13:37:27,837 [13068] INFO     root: Iteration 2048: RMSE=2.5983, MAE=2.5983\n",
      "2025-02-09 13:37:27,936 [13068] INFO     root: Iteration 2049: RMSE=0.1640, MAE=0.1640\n",
      "2025-02-09 13:37:28,053 [13068] INFO     root: Iteration 2050: RMSE=1.7797, MAE=1.7797\n",
      "2025-02-09 13:37:28,173 [13068] INFO     root: Iteration 2051: RMSE=0.0190, MAE=0.0190\n",
      "2025-02-09 13:37:28,294 [13068] INFO     root: Iteration 2052: RMSE=0.5329, MAE=0.5329\n",
      "2025-02-09 13:37:28,403 [13068] INFO     root: Iteration 2053: RMSE=1.9374, MAE=1.9374\n",
      "2025-02-09 13:37:28,512 [13068] INFO     root: Iteration 2054: RMSE=5.1399, MAE=5.1399\n",
      "2025-02-09 13:37:28,623 [13068] INFO     ml_monitor.logging: Starting metrics logging thread...\n",
      "2025-02-09 13:37:28,642 [13068] INFO     root: Iteration 2055: RMSE=3.6498, MAE=3.6498\n",
      "2025-02-09 13:37:28,749 [13068] INFO     root: Iteration 2056: RMSE=4.2272, MAE=4.2272\n",
      "2025-02-09 13:37:28,859 [13068] INFO     root: Iteration 2057: RMSE=1.3937, MAE=1.3937\n",
      "2025-02-09 13:37:28,972 [13068] INFO     root: Iteration 2058: RMSE=0.5423, MAE=0.5423\n",
      "2025-02-09 13:37:29,070 [13068] INFO     root: Iteration 2059: RMSE=0.2445, MAE=0.2445\n",
      "2025-02-09 13:37:29,174 [13068] INFO     root: Iteration 2060: RMSE=2.6178, MAE=2.6178\n",
      "2025-02-09 13:37:29,287 [13068] INFO     root: Iteration 2061: RMSE=0.2356, MAE=0.2356\n",
      "2025-02-09 13:37:29,391 [13068] INFO     root: Iteration 2062: RMSE=4.3271, MAE=4.3271\n",
      "2025-02-09 13:37:29,490 [13068] INFO     root: Iteration 2063: RMSE=0.5028, MAE=0.5028\n",
      "2025-02-09 13:37:29,600 [13068] INFO     root: Iteration 2064: RMSE=2.1020, MAE=2.1020\n",
      "2025-02-09 13:37:29,697 [13068] INFO     root: Iteration 2065: RMSE=0.6004, MAE=0.6004\n",
      "2025-02-09 13:37:30,286 [13068] INFO     root: Metrics pushed at iteration 2065. RMSE=0.6004, MAE=0.6004\n",
      "2025-02-09 13:37:30,392 [13068] INFO     root: Iteration 2066: RMSE=1.0341, MAE=1.0341\n",
      "2025-02-09 13:37:30,506 [13068] INFO     root: Iteration 2067: RMSE=2.4681, MAE=2.4681\n",
      "2025-02-09 13:37:30,630 [13068] INFO     root: Iteration 2068: RMSE=0.5423, MAE=0.5423\n",
      "2025-02-09 13:37:30,737 [13068] INFO     root: Iteration 2069: RMSE=15.7679, MAE=15.7679\n",
      "2025-02-09 13:37:30,866 [13068] INFO     root: Iteration 2070: RMSE=1.3937, MAE=1.3937\n",
      "2025-02-09 13:37:30,992 [13068] INFO     root: Iteration 2071: RMSE=0.9510, MAE=0.9510\n",
      "2025-02-09 13:37:31,133 [13068] INFO     root: Iteration 2072: RMSE=1.5289, MAE=1.5289\n",
      "2025-02-09 13:37:31,279 [13068] INFO     root: Iteration 2073: RMSE=2.1281, MAE=2.1281\n",
      "2025-02-09 13:37:31,404 [13068] INFO     root: Iteration 2074: RMSE=0.1550, MAE=0.1550\n",
      "2025-02-09 13:37:31,507 [13068] INFO     root: Iteration 2075: RMSE=0.9176, MAE=0.9176\n",
      "2025-02-09 13:37:31,690 [13068] INFO     root: Iteration 2076: RMSE=0.4053, MAE=0.4053\n",
      "2025-02-09 13:37:31,798 [13068] INFO     root: Iteration 2077: RMSE=2.9898, MAE=2.9898\n",
      "2025-02-09 13:37:31,904 [13068] INFO     root: Iteration 2078: RMSE=2.1281, MAE=2.1281\n",
      "2025-02-09 13:37:32,010 [13068] INFO     root: Iteration 2079: RMSE=1.9374, MAE=1.9374\n",
      "2025-02-09 13:37:32,130 [13068] INFO     root: Iteration 2080: RMSE=0.1550, MAE=0.1550\n",
      "2025-02-09 13:37:32,245 [13068] INFO     root: Iteration 2081: RMSE=1.2345, MAE=1.2345\n",
      "2025-02-09 13:37:32,358 [13068] INFO     root: Iteration 2082: RMSE=2.9898, MAE=2.9898\n",
      "2025-02-09 13:37:32,558 [13068] INFO     root: Iteration 2083: RMSE=0.5329, MAE=0.5329\n",
      "2025-02-09 13:37:32,701 [13068] INFO     root: Iteration 2084: RMSE=2.4407, MAE=2.4407\n",
      "2025-02-09 13:37:32,819 [13068] INFO     root: Iteration 2085: RMSE=1.5147, MAE=1.5147\n",
      "2025-02-09 13:37:32,943 [13068] INFO     root: Iteration 2086: RMSE=0.2445, MAE=0.2445\n",
      "2025-02-09 13:37:33,086 [13068] INFO     root: Iteration 2087: RMSE=2.0594, MAE=2.0594\n",
      "2025-02-09 13:37:33,261 [13068] INFO     root: Iteration 2088: RMSE=0.9690, MAE=0.9690\n",
      "2025-02-09 13:37:33,392 [13068] INFO     root: Iteration 2089: RMSE=1.3937, MAE=1.3937\n",
      "2025-02-09 13:37:33,525 [13068] INFO     root: Iteration 2090: RMSE=0.1636, MAE=0.1636\n",
      "2025-02-09 13:37:33,637 [13068] INFO     ml_monitor.logging: Starting metrics logging thread...\n",
      "2025-02-09 13:37:33,656 [13068] INFO     root: Iteration 2091: RMSE=2.0594, MAE=2.0594\n",
      "2025-02-09 13:37:33,765 [13068] INFO     root: Iteration 2092: RMSE=0.6367, MAE=0.6367\n",
      "2025-02-09 13:37:33,889 [13068] INFO     root: Iteration 2093: RMSE=1.5147, MAE=1.5147\n",
      "2025-02-09 13:37:34,084 [13068] INFO     root: Iteration 2094: RMSE=0.2356, MAE=0.2356\n",
      "2025-02-09 13:37:34,208 [13068] INFO     root: Iteration 2095: RMSE=0.8280, MAE=0.8280\n",
      "2025-02-09 13:37:34,358 [13068] INFO     root: Iteration 2096: RMSE=4.2530, MAE=4.2530\n",
      "2025-02-09 13:37:34,493 [13068] INFO     root: Iteration 2097: RMSE=1.2010, MAE=1.2010\n",
      "2025-02-09 13:37:34,612 [13068] INFO     root: Iteration 2098: RMSE=0.2356, MAE=0.2356\n",
      "2025-02-09 13:37:34,730 [13068] INFO     root: Iteration 2099: RMSE=3.0048, MAE=3.0048\n",
      "2025-02-09 13:37:34,852 [13068] INFO     root: Iteration 2100: RMSE=7.1880, MAE=7.1880\n",
      "2025-02-09 13:37:34,968 [13068] INFO     root: Iteration 2101: RMSE=5.0666, MAE=5.0666\n",
      "2025-02-09 13:37:35,077 [13068] INFO     root: Iteration 2102: RMSE=2.2319, MAE=2.2319\n",
      "2025-02-09 13:37:35,187 [13068] INFO     root: Iteration 2103: RMSE=5.1399, MAE=5.1399\n",
      "2025-02-09 13:37:35,317 [13068] INFO     root: Iteration 2104: RMSE=1.0525, MAE=1.0525\n",
      "2025-02-09 13:37:35,417 [13068] INFO     root: Iteration 2105: RMSE=1.2010, MAE=1.2010\n",
      "2025-02-09 13:37:35,521 [13068] INFO     root: Iteration 2106: RMSE=1.3227, MAE=1.3227\n",
      "2025-02-09 13:37:35,625 [13068] INFO     root: Iteration 2107: RMSE=2.5855, MAE=2.5855\n",
      "2025-02-09 13:37:35,729 [13068] INFO     root: Iteration 2108: RMSE=2.2319, MAE=2.2319\n",
      "2025-02-09 13:37:35,875 [13068] INFO     root: Iteration 2109: RMSE=5.8175, MAE=5.8175\n",
      "2025-02-09 13:37:35,981 [13068] INFO     root: Iteration 2110: RMSE=1.9954, MAE=1.9954\n",
      "2025-02-09 13:37:36,106 [13068] INFO     root: Iteration 2111: RMSE=4.2619, MAE=4.2619\n",
      "2025-02-09 13:37:36,217 [13068] INFO     root: Iteration 2112: RMSE=7.1880, MAE=7.1880\n",
      "2025-02-09 13:37:36,324 [13068] INFO     root: Iteration 2113: RMSE=0.5329, MAE=0.5329\n",
      "2025-02-09 13:37:36,419 [13068] INFO     root: Iteration 2114: RMSE=0.5028, MAE=0.5028\n",
      "2025-02-09 13:37:36,579 [13068] INFO     root: Iteration 2115: RMSE=4.2733, MAE=4.2733\n",
      "2025-02-09 13:37:36,673 [13068] INFO     root: Iteration 2116: RMSE=0.9510, MAE=0.9510\n",
      "2025-02-09 13:37:36,764 [13068] INFO     root: Iteration 2117: RMSE=1.9374, MAE=1.9374\n",
      "2025-02-09 13:37:36,890 [13068] INFO     root: Iteration 2118: RMSE=1.7797, MAE=1.7797\n",
      "2025-02-09 13:37:36,993 [13068] INFO     root: Iteration 2119: RMSE=7.4122, MAE=7.4122\n",
      "2025-02-09 13:37:37,084 [13068] INFO     root: Iteration 2120: RMSE=5.3491, MAE=5.3491\n",
      "2025-02-09 13:37:37,218 [13068] INFO     root: Iteration 2121: RMSE=3.0048, MAE=3.0048\n",
      "2025-02-09 13:37:37,316 [13068] INFO     root: Iteration 2122: RMSE=3.0048, MAE=3.0048\n",
      "2025-02-09 13:37:37,410 [13068] INFO     root: Iteration 2123: RMSE=1.9834, MAE=1.9834\n",
      "2025-02-09 13:37:37,509 [13068] INFO     root: Iteration 2124: RMSE=3.6498, MAE=3.6498\n",
      "2025-02-09 13:37:37,607 [13068] INFO     root: Iteration 2125: RMSE=1.3937, MAE=1.3937\n",
      "2025-02-09 13:37:37,718 [13068] INFO     root: Iteration 2126: RMSE=7.4122, MAE=7.4122\n",
      "2025-02-09 13:37:37,809 [13068] INFO     root: Iteration 2127: RMSE=0.9176, MAE=0.9176\n",
      "2025-02-09 13:37:37,937 [13068] INFO     root: Iteration 2128: RMSE=1.3937, MAE=1.3937\n",
      "2025-02-09 13:37:38,037 [13068] INFO     root: Iteration 2129: RMSE=0.8280, MAE=0.8280\n",
      "2025-02-09 13:37:38,127 [13068] INFO     root: Iteration 2130: RMSE=4.2272, MAE=4.2272\n",
      "2025-02-09 13:37:38,221 [13068] INFO     root: Iteration 2131: RMSE=3.1092, MAE=3.1092\n",
      "2025-02-09 13:37:38,315 [13068] INFO     root: Iteration 2132: RMSE=3.0048, MAE=3.0048\n",
      "2025-02-09 13:37:38,400 [13068] INFO     root: Iteration 2133: RMSE=1.6668, MAE=1.6668\n",
      "2025-02-09 13:37:38,490 [13068] INFO     root: Iteration 2134: RMSE=1.2841, MAE=1.2841\n",
      "2025-02-09 13:37:38,626 [13068] INFO     root: Iteration 2135: RMSE=3.2372, MAE=3.2372\n",
      "2025-02-09 13:37:38,657 [13068] INFO     ml_monitor.logging: Starting metrics logging thread...\n",
      "2025-02-09 13:37:38,727 [13068] INFO     root: Iteration 2136: RMSE=0.4053, MAE=0.4053\n",
      "2025-02-09 13:37:38,813 [13068] INFO     root: Iteration 2137: RMSE=1.5147, MAE=1.5147\n",
      "2025-02-09 13:37:38,908 [13068] INFO     root: Iteration 2138: RMSE=0.5329, MAE=0.5329\n",
      "2025-02-09 13:37:39,005 [13068] INFO     root: Iteration 2139: RMSE=1.9374, MAE=1.9374\n",
      "2025-02-09 13:37:39,102 [13068] INFO     root: Iteration 2140: RMSE=2.8002, MAE=2.8002\n",
      "2025-02-09 13:37:39,193 [13068] INFO     root: Iteration 2141: RMSE=4.2272, MAE=4.2272\n",
      "2025-02-09 13:37:39,289 [13068] INFO     root: Iteration 2142: RMSE=2.1957, MAE=2.1957\n",
      "2025-02-09 13:37:39,382 [13068] INFO     root: Iteration 2143: RMSE=0.2445, MAE=0.2445\n",
      "2025-02-09 13:37:39,498 [13068] INFO     root: Iteration 2144: RMSE=7.1880, MAE=7.1880\n",
      "2025-02-09 13:37:39,663 [13068] INFO     root: Iteration 2145: RMSE=3.1701, MAE=3.1701\n",
      "2025-02-09 13:37:39,771 [13068] INFO     root: Iteration 2146: RMSE=3.0812, MAE=3.0812\n",
      "2025-02-09 13:37:40,202 [13068] INFO     root: Metrics pushed at iteration 2146. RMSE=3.0812, MAE=3.0812\n",
      "2025-02-09 13:37:40,302 [13068] INFO     root: Iteration 2147: RMSE=2.7728, MAE=2.7728\n",
      "2025-02-09 13:37:40,381 [13068] INFO     root: Iteration 2148: RMSE=1.9024, MAE=1.9024\n",
      "2025-02-09 13:37:40,465 [13068] INFO     root: Iteration 2149: RMSE=0.6820, MAE=0.6820\n",
      "2025-02-09 13:37:40,547 [13068] INFO     root: Iteration 2150: RMSE=0.6004, MAE=0.6004\n",
      "2025-02-09 13:37:40,628 [13068] INFO     root: Iteration 2151: RMSE=3.9228, MAE=3.9228\n",
      "2025-02-09 13:37:40,710 [13068] INFO     root: Iteration 2152: RMSE=7.1880, MAE=7.1880\n",
      "2025-02-09 13:37:40,786 [13068] INFO     root: Iteration 2153: RMSE=1.2010, MAE=1.2010\n",
      "2025-02-09 13:37:40,865 [13068] INFO     root: Iteration 2154: RMSE=2.4091, MAE=2.4091\n",
      "2025-02-09 13:37:40,945 [13068] INFO     root: Iteration 2155: RMSE=2.2324, MAE=2.2324\n",
      "2025-02-09 13:37:41,029 [13068] INFO     root: Iteration 2156: RMSE=3.0641, MAE=3.0641\n",
      "2025-02-09 13:37:41,116 [13068] INFO     root: Iteration 2157: RMSE=2.1957, MAE=2.1957\n",
      "2025-02-09 13:37:41,210 [13068] INFO     root: Iteration 2158: RMSE=3.1701, MAE=3.1701\n",
      "2025-02-09 13:37:41,316 [13068] INFO     root: Iteration 2159: RMSE=1.9891, MAE=1.9891\n",
      "2025-02-09 13:37:41,401 [13068] INFO     root: Iteration 2160: RMSE=1.2010, MAE=1.2010\n",
      "2025-02-09 13:37:41,488 [13068] INFO     root: Iteration 2161: RMSE=0.0329, MAE=0.0329\n",
      "2025-02-09 13:37:41,578 [13068] INFO     root: Iteration 2162: RMSE=0.9176, MAE=0.9176\n",
      "2025-02-09 13:37:41,701 [13068] INFO     root: Iteration 2163: RMSE=4.2619, MAE=4.2619\n",
      "2025-02-09 13:37:41,795 [13068] INFO     root: Iteration 2164: RMSE=0.2922, MAE=0.2922\n",
      "2025-02-09 13:37:41,890 [13068] INFO     root: Iteration 2165: RMSE=0.4811, MAE=0.4811\n",
      "2025-02-09 13:37:41,979 [13068] INFO     root: Iteration 2166: RMSE=5.1385, MAE=5.1385\n",
      "2025-02-09 13:37:42,073 [13068] INFO     root: Iteration 2167: RMSE=5.1385, MAE=5.1385\n",
      "2025-02-09 13:37:42,165 [13068] INFO     root: Iteration 2168: RMSE=3.0641, MAE=3.0641\n",
      "2025-02-09 13:37:42,255 [13068] INFO     root: Iteration 2169: RMSE=0.0894, MAE=0.0894\n",
      "2025-02-09 13:37:42,399 [13068] INFO     root: Iteration 2170: RMSE=2.7746, MAE=2.7746\n",
      "2025-02-09 13:37:42,487 [13068] INFO     root: Iteration 2171: RMSE=5.2814, MAE=5.2814\n",
      "2025-02-09 13:37:42,596 [13068] INFO     root: Iteration 2172: RMSE=2.0594, MAE=2.0594\n",
      "2025-02-09 13:37:42,686 [13068] INFO     root: Iteration 2173: RMSE=2.6178, MAE=2.6178\n",
      "2025-02-09 13:37:42,789 [13068] INFO     root: Iteration 2174: RMSE=2.4091, MAE=2.4091\n",
      "2025-02-09 13:37:42,890 [13068] INFO     root: Iteration 2175: RMSE=2.1020, MAE=2.1020\n",
      "2025-02-09 13:37:42,976 [13068] INFO     root: Iteration 2176: RMSE=1.9880, MAE=1.9880\n",
      "2025-02-09 13:37:45,521 [13068] INFO     ml_monitor.logging: Starting metrics logging thread...\n",
      "2025-02-09 13:37:45,601 [13068] INFO     root: Iteration 2177: RMSE=0.4811, MAE=0.4811\n",
      "2025-02-09 13:37:45,704 [13068] INFO     root: Iteration 2178: RMSE=4.3700, MAE=4.3700\n",
      "2025-02-09 13:37:45,810 [13068] INFO     root: Iteration 2179: RMSE=0.6863, MAE=0.6863\n",
      "2025-02-09 13:37:45,896 [13068] INFO     root: Iteration 2180: RMSE=1.9891, MAE=1.9891\n",
      "2025-02-09 13:37:45,983 [13068] INFO     root: Iteration 2181: RMSE=3.9035, MAE=3.9035\n",
      "2025-02-09 13:37:46,192 [13068] INFO     root: Iteration 2182: RMSE=3.6498, MAE=3.6498\n",
      "2025-02-09 13:37:46,310 [13068] INFO     root: Iteration 2183: RMSE=0.8360, MAE=0.8360\n",
      "2025-02-09 13:37:46,423 [13068] INFO     root: Iteration 2184: RMSE=0.5423, MAE=0.5423\n",
      "2025-02-09 13:37:46,539 [13068] INFO     root: Iteration 2185: RMSE=2.7746, MAE=2.7746\n",
      "2025-02-09 13:37:46,645 [13068] INFO     root: Iteration 2186: RMSE=0.6004, MAE=0.6004\n",
      "2025-02-09 13:37:46,758 [13068] INFO     root: Iteration 2187: RMSE=4.2272, MAE=4.2272\n",
      "2025-02-09 13:37:46,865 [13068] INFO     root: Iteration 2188: RMSE=3.2950, MAE=3.2950\n",
      "2025-02-09 13:37:46,973 [13068] INFO     root: Iteration 2189: RMSE=0.0329, MAE=0.0329\n",
      "2025-02-09 13:37:47,091 [13068] INFO     root: Iteration 2190: RMSE=21.1875, MAE=21.1875\n",
      "2025-02-09 13:37:47,190 [13068] INFO     root: Iteration 2191: RMSE=4.3271, MAE=4.3271\n",
      "2025-02-09 13:37:47,300 [13068] INFO     root: Iteration 2192: RMSE=3.9035, MAE=3.9035\n",
      "2025-02-09 13:37:47,417 [13068] INFO     root: Iteration 2193: RMSE=1.9024, MAE=1.9024\n",
      "2025-02-09 13:37:47,683 [13068] INFO     root: Iteration 2194: RMSE=7.1962, MAE=7.1962\n",
      "2025-02-09 13:37:47,809 [13068] INFO     root: Iteration 2195: RMSE=1.9954, MAE=1.9954\n",
      "2025-02-09 13:37:47,927 [13068] INFO     root: Iteration 2196: RMSE=0.6277, MAE=0.6277\n",
      "2025-02-09 13:37:48,029 [13068] INFO     root: Iteration 2197: RMSE=2.5855, MAE=2.5855\n",
      "2025-02-09 13:37:48,146 [13068] INFO     root: Iteration 2198: RMSE=0.9510, MAE=0.9510\n",
      "2025-02-09 13:37:48,259 [13068] INFO     root: Iteration 2199: RMSE=6.4895, MAE=6.4895\n",
      "2025-02-09 13:37:48,350 [13068] INFO     root: Iteration 2200: RMSE=5.2814, MAE=5.2814\n",
      "2025-02-09 13:37:48,460 [13068] INFO     root: Iteration 2201: RMSE=0.6820, MAE=0.6820\n",
      "2025-02-09 13:37:48,594 [13068] INFO     root: Iteration 2202: RMSE=0.4811, MAE=0.4811\n",
      "2025-02-09 13:37:48,694 [13068] INFO     root: Iteration 2203: RMSE=3.2950, MAE=3.2950\n",
      "2025-02-09 13:37:48,872 [13068] INFO     root: Iteration 2204: RMSE=1.9880, MAE=1.9880\n",
      "2025-02-09 13:37:48,977 [13068] INFO     root: Iteration 2205: RMSE=0.6820, MAE=0.6820\n",
      "2025-02-09 13:37:49,116 [13068] INFO     root: Iteration 2206: RMSE=3.0048, MAE=3.0048\n",
      "2025-02-09 13:37:49,225 [13068] INFO     root: Iteration 2207: RMSE=2.5983, MAE=2.5983\n",
      "2025-02-09 13:37:49,359 [13068] INFO     root: Iteration 2208: RMSE=4.3271, MAE=4.3271\n",
      "2025-02-09 13:37:49,471 [13068] INFO     root: Iteration 2209: RMSE=0.0894, MAE=0.0894\n",
      "2025-02-09 13:37:49,586 [13068] INFO     root: Iteration 2210: RMSE=21.1875, MAE=21.1875\n",
      "2025-02-09 13:37:49,687 [13068] INFO     root: Iteration 2211: RMSE=0.9201, MAE=0.9201\n",
      "2025-02-09 13:37:49,805 [13068] INFO     root: Iteration 2212: RMSE=1.0525, MAE=1.0525\n",
      "2025-02-09 13:37:50,450 [13068] INFO     root: Metrics pushed at iteration 2212. RMSE=1.0525, MAE=1.0525\n",
      "2025-02-09 13:37:50,544 [13068] INFO     ml_monitor.logging: Starting metrics logging thread...\n",
      "2025-02-09 13:37:50,631 [13068] INFO     root: Iteration 2213: RMSE=0.1550, MAE=0.1550\n",
      "2025-02-09 13:37:50,736 [13068] INFO     root: Iteration 2214: RMSE=1.0525, MAE=1.0525\n",
      "2025-02-09 13:37:50,864 [13068] INFO     root: Iteration 2215: RMSE=1.9880, MAE=1.9880\n",
      "2025-02-09 13:37:51,012 [13068] INFO     root: Iteration 2216: RMSE=2.2319, MAE=2.2319\n",
      "2025-02-09 13:37:51,169 [13068] INFO     root: Iteration 2217: RMSE=1.9954, MAE=1.9954\n",
      "2025-02-09 13:37:51,484 [13068] INFO     root: Iteration 2218: RMSE=1.5289, MAE=1.5289\n",
      "2025-02-09 13:37:51,642 [13068] INFO     root: Iteration 2219: RMSE=0.4811, MAE=0.4811\n",
      "2025-02-09 13:37:51,827 [13068] INFO     root: Iteration 2220: RMSE=1.9834, MAE=1.9834\n",
      "2025-02-09 13:37:51,933 [13068] INFO     root: Iteration 2221: RMSE=0.1550, MAE=0.1550\n",
      "2025-02-09 13:37:52,060 [13068] INFO     root: Iteration 2222: RMSE=0.0894, MAE=0.0894\n",
      "2025-02-09 13:37:52,172 [13068] INFO     root: Iteration 2223: RMSE=4.2272, MAE=4.2272\n",
      "2025-02-09 13:37:52,340 [13068] INFO     root: Iteration 2224: RMSE=1.0341, MAE=1.0341\n",
      "2025-02-09 13:37:52,493 [13068] INFO     root: Iteration 2225: RMSE=1.0341, MAE=1.0341\n",
      "2025-02-09 13:37:52,651 [13068] INFO     root: Iteration 2226: RMSE=0.6863, MAE=0.6863\n",
      "2025-02-09 13:37:52,783 [13068] INFO     root: Iteration 2227: RMSE=0.8295, MAE=0.8295\n",
      "2025-02-09 13:37:52,979 [13068] INFO     root: Iteration 2228: RMSE=1.6861, MAE=1.6861\n",
      "2025-02-09 13:37:53,116 [13068] INFO     root: Iteration 2229: RMSE=3.0641, MAE=3.0641\n",
      "2025-02-09 13:37:53,241 [13068] INFO     root: Iteration 2230: RMSE=6.3484, MAE=6.3484\n",
      "2025-02-09 13:37:53,347 [13068] INFO     root: Iteration 2231: RMSE=1.0341, MAE=1.0341\n",
      "2025-02-09 13:37:53,458 [13068] INFO     root: Iteration 2232: RMSE=0.8295, MAE=0.8295\n",
      "2025-02-09 13:37:53,567 [13068] INFO     root: Iteration 2233: RMSE=0.1550, MAE=0.1550\n",
      "2025-02-09 13:37:53,667 [13068] INFO     root: Iteration 2234: RMSE=5.1399, MAE=5.1399\n",
      "2025-02-09 13:37:53,772 [13068] INFO     root: Iteration 2235: RMSE=3.2950, MAE=3.2950\n",
      "2025-02-09 13:37:53,876 [13068] INFO     root: Iteration 2236: RMSE=1.0783, MAE=1.0783\n",
      "2025-02-09 13:37:53,987 [13068] INFO     root: Iteration 2237: RMSE=0.6004, MAE=0.6004\n",
      "2025-02-09 13:37:54,080 [13068] INFO     root: Iteration 2238: RMSE=3.6498, MAE=3.6498\n",
      "2025-02-09 13:37:54,180 [13068] INFO     root: Iteration 2239: RMSE=1.5289, MAE=1.5289\n",
      "2025-02-09 13:37:54,290 [13068] INFO     root: Iteration 2240: RMSE=7.1962, MAE=7.1962\n",
      "2025-02-09 13:37:54,442 [13068] INFO     root: Iteration 2241: RMSE=2.4407, MAE=2.4407\n",
      "2025-02-09 13:37:54,554 [13068] INFO     root: Iteration 2242: RMSE=4.2733, MAE=4.2733\n",
      "2025-02-09 13:37:54,705 [13068] INFO     root: Iteration 2243: RMSE=2.4091, MAE=2.4091\n",
      "2025-02-09 13:37:54,803 [13068] INFO     root: Iteration 2244: RMSE=0.6277, MAE=0.6277\n",
      "2025-02-09 13:37:54,901 [13068] INFO     root: Iteration 2245: RMSE=0.4811, MAE=0.4811\n",
      "2025-02-09 13:37:55,008 [13068] INFO     root: Iteration 2246: RMSE=0.8280, MAE=0.8280\n",
      "2025-02-09 13:37:55,101 [13068] INFO     root: Iteration 2247: RMSE=0.1636, MAE=0.1636\n",
      "2025-02-09 13:37:55,187 [13068] INFO     root: Iteration 2248: RMSE=0.8280, MAE=0.8280\n",
      "2025-02-09 13:37:55,293 [13068] INFO     root: Iteration 2249: RMSE=0.1550, MAE=0.1550\n",
      "2025-02-09 13:37:55,381 [13068] INFO     root: Iteration 2250: RMSE=2.1281, MAE=2.1281\n",
      "2025-02-09 13:37:55,493 [13068] INFO     root: Iteration 2251: RMSE=0.9176, MAE=0.9176\n",
      "2025-02-09 13:37:55,578 [13068] INFO     ml_monitor.logging: Starting metrics logging thread...\n",
      "2025-02-09 13:37:55,595 [13068] INFO     root: Iteration 2252: RMSE=3.0812, MAE=3.0812\n",
      "2025-02-09 13:37:55,676 [13068] INFO     root: Iteration 2253: RMSE=2.0594, MAE=2.0594\n",
      "2025-02-09 13:37:55,761 [13068] INFO     root: Iteration 2254: RMSE=1.3937, MAE=1.3937\n",
      "2025-02-09 13:37:55,853 [13068] INFO     root: Iteration 2255: RMSE=1.5147, MAE=1.5147\n",
      "2025-02-09 13:37:55,937 [13068] INFO     root: Iteration 2256: RMSE=1.5289, MAE=1.5289\n",
      "2025-02-09 13:37:56,023 [13068] INFO     root: Iteration 2257: RMSE=1.6861, MAE=1.6861\n",
      "2025-02-09 13:37:56,109 [13068] INFO     root: Iteration 2258: RMSE=1.9954, MAE=1.9954\n",
      "2025-02-09 13:37:56,200 [13068] INFO     root: Iteration 2259: RMSE=2.1020, MAE=2.1020\n",
      "2025-02-09 13:37:56,283 [13068] INFO     root: Iteration 2260: RMSE=1.9374, MAE=1.9374\n",
      "2025-02-09 13:37:56,368 [13068] INFO     root: Iteration 2261: RMSE=5.8811, MAE=5.8811\n",
      "2025-02-09 13:37:56,452 [13068] INFO     root: Iteration 2262: RMSE=1.0837, MAE=1.0837\n",
      "2025-02-09 13:37:56,540 [13068] INFO     root: Iteration 2263: RMSE=0.4811, MAE=0.4811\n",
      "2025-02-09 13:37:56,628 [13068] INFO     root: Iteration 2264: RMSE=0.2922, MAE=0.2922\n",
      "2025-02-09 13:37:56,794 [13068] INFO     root: Iteration 2265: RMSE=4.2733, MAE=4.2733\n",
      "2025-02-09 13:37:56,902 [13068] INFO     root: Iteration 2266: RMSE=0.2445, MAE=0.2445\n",
      "2025-02-09 13:37:57,023 [13068] INFO     root: Iteration 2267: RMSE=5.0666, MAE=5.0666\n",
      "2025-02-09 13:37:57,135 [13068] INFO     root: Iteration 2268: RMSE=5.1399, MAE=5.1399\n",
      "2025-02-09 13:37:57,255 [13068] INFO     root: Iteration 2269: RMSE=0.5028, MAE=0.5028\n",
      "2025-02-09 13:37:57,365 [13068] INFO     root: Iteration 2270: RMSE=0.0894, MAE=0.0894\n",
      "2025-02-09 13:37:57,483 [13068] INFO     root: Iteration 2271: RMSE=0.9510, MAE=0.9510\n",
      "2025-02-09 13:37:57,618 [13068] INFO     root: Iteration 2272: RMSE=4.2530, MAE=4.2530\n",
      "2025-02-09 13:37:57,816 [13068] INFO     root: Iteration 2273: RMSE=4.3700, MAE=4.3700\n",
      "2025-02-09 13:37:57,944 [13068] INFO     root: Iteration 2274: RMSE=2.7728, MAE=2.7728\n",
      "2025-02-09 13:37:58,060 [13068] INFO     root: Iteration 2275: RMSE=0.9201, MAE=0.9201\n",
      "2025-02-09 13:37:58,169 [13068] INFO     root: Iteration 2276: RMSE=3.9035, MAE=3.9035\n",
      "2025-02-09 13:37:58,296 [13068] INFO     root: Iteration 2277: RMSE=0.9176, MAE=0.9176\n",
      "2025-02-09 13:37:58,415 [13068] INFO     root: Iteration 2278: RMSE=3.2372, MAE=3.2372\n",
      "2025-02-09 13:37:58,524 [13068] INFO     root: Iteration 2279: RMSE=2.4091, MAE=2.4091\n",
      "2025-02-09 13:37:58,635 [13068] INFO     root: Iteration 2280: RMSE=1.2010, MAE=1.2010\n",
      "2025-02-09 13:37:58,782 [13068] INFO     root: Iteration 2281: RMSE=1.2345, MAE=1.2345\n",
      "2025-02-09 13:37:58,938 [13068] INFO     root: Iteration 2282: RMSE=4.3271, MAE=4.3271\n",
      "2025-02-09 13:37:59,059 [13068] INFO     root: Iteration 2283: RMSE=2.1957, MAE=2.1957\n",
      "2025-02-09 13:37:59,162 [13068] INFO     root: Iteration 2284: RMSE=3.6498, MAE=3.6498\n",
      "2025-02-09 13:37:59,259 [13068] INFO     root: Iteration 2285: RMSE=0.5329, MAE=0.5329\n",
      "2025-02-09 13:37:59,355 [13068] INFO     root: Iteration 2286: RMSE=0.6820, MAE=0.6820\n",
      "2025-02-09 13:37:59,455 [13068] INFO     root: Iteration 2287: RMSE=0.5329, MAE=0.5329\n",
      "2025-02-09 13:37:59,557 [13068] INFO     root: Iteration 2288: RMSE=1.2345, MAE=1.2345\n",
      "2025-02-09 13:37:59,655 [13068] INFO     root: Iteration 2289: RMSE=1.3937, MAE=1.3937\n",
      "2025-02-09 13:37:59,743 [13068] INFO     root: Iteration 2290: RMSE=1.9834, MAE=1.9834\n",
      "2025-02-09 13:37:59,842 [13068] INFO     root: Iteration 2291: RMSE=1.9834, MAE=1.9834\n",
      "2025-02-09 13:38:00,356 [13068] INFO     root: Metrics pushed at iteration 2291. RMSE=1.9834, MAE=1.9834\n",
      "2025-02-09 13:38:00,447 [13068] INFO     root: Iteration 2292: RMSE=0.8280, MAE=0.8280\n",
      "2025-02-09 13:38:00,545 [13068] INFO     root: Iteration 2293: RMSE=5.1399, MAE=5.1399\n",
      "2025-02-09 13:38:00,599 [13068] INFO     ml_monitor.logging: Starting metrics logging thread...\n",
      "2025-02-09 13:38:00,649 [13068] INFO     root: Iteration 2294: RMSE=0.8502, MAE=0.8502\n",
      "2025-02-09 13:38:00,743 [13068] INFO     root: Iteration 2295: RMSE=2.5983, MAE=2.5983\n",
      "2025-02-09 13:38:00,838 [13068] INFO     root: Iteration 2296: RMSE=3.6498, MAE=3.6498\n",
      "2025-02-09 13:38:00,952 [13068] INFO     root: Iteration 2297: RMSE=2.8002, MAE=2.8002\n",
      "2025-02-09 13:38:01,052 [13068] INFO     root: Iteration 2298: RMSE=1.7797, MAE=1.7797\n",
      "2025-02-09 13:38:01,143 [13068] INFO     root: Iteration 2299: RMSE=1.9891, MAE=1.9891\n",
      "2025-02-09 13:38:01,258 [13068] INFO     root: Iteration 2300: RMSE=1.6668, MAE=1.6668\n",
      "2025-02-09 13:38:01,348 [13068] INFO     root: Iteration 2301: RMSE=2.2324, MAE=2.2324\n",
      "2025-02-09 13:38:01,439 [13068] INFO     root: Iteration 2302: RMSE=6.3484, MAE=6.3484\n",
      "2025-02-09 13:38:01,527 [13068] INFO     root: Iteration 2303: RMSE=1.6668, MAE=1.6668\n",
      "2025-02-09 13:38:01,674 [13068] INFO     root: Iteration 2304: RMSE=1.9880, MAE=1.9880\n",
      "2025-02-09 13:38:01,774 [13068] INFO     root: Iteration 2305: RMSE=1.2345, MAE=1.2345\n",
      "2025-02-09 13:38:01,873 [13068] INFO     root: Iteration 2306: RMSE=5.8175, MAE=5.8175\n",
      "2025-02-09 13:38:01,968 [13068] INFO     root: Iteration 2307: RMSE=0.5423, MAE=0.5423\n",
      "2025-02-09 13:38:02,072 [13068] INFO     root: Iteration 2308: RMSE=3.0641, MAE=3.0641\n",
      "2025-02-09 13:38:02,176 [13068] INFO     root: Iteration 2309: RMSE=5.1385, MAE=5.1385\n",
      "2025-02-09 13:38:02,287 [13068] INFO     root: Iteration 2310: RMSE=6.5607, MAE=6.5607\n",
      "2025-02-09 13:38:02,393 [13068] INFO     root: Iteration 2311: RMSE=3.1701, MAE=3.1701\n",
      "2025-02-09 13:38:02,486 [13068] INFO     root: Iteration 2312: RMSE=4.3271, MAE=4.3271\n",
      "2025-02-09 13:38:02,580 [13068] INFO     root: Iteration 2313: RMSE=2.1020, MAE=2.1020\n",
      "2025-02-09 13:38:02,670 [13068] INFO     root: Iteration 2314: RMSE=0.8502, MAE=0.8502\n",
      "2025-02-09 13:38:02,769 [13068] INFO     root: Iteration 2315: RMSE=1.0837, MAE=1.0837\n",
      "2025-02-09 13:38:02,876 [13068] INFO     root: Iteration 2316: RMSE=0.1640, MAE=0.1640\n",
      "2025-02-09 13:38:03,031 [13068] INFO     root: Iteration 2317: RMSE=2.6178, MAE=2.6178\n",
      "2025-02-09 13:38:03,153 [13068] INFO     root: Iteration 2318: RMSE=0.9510, MAE=0.9510\n",
      "2025-02-09 13:38:03,266 [13068] INFO     root: Iteration 2319: RMSE=0.6863, MAE=0.6863\n",
      "2025-02-09 13:38:03,368 [13068] INFO     root: Iteration 2320: RMSE=1.0341, MAE=1.0341\n",
      "2025-02-09 13:38:03,479 [13068] INFO     root: Iteration 2321: RMSE=0.9201, MAE=0.9201\n",
      "2025-02-09 13:38:03,565 [13068] INFO     root: Iteration 2322: RMSE=5.1385, MAE=5.1385\n",
      "2025-02-09 13:38:03,658 [13068] INFO     root: Iteration 2323: RMSE=2.9898, MAE=2.9898\n",
      "2025-02-09 13:38:03,748 [13068] INFO     root: Iteration 2324: RMSE=3.9228, MAE=3.9228\n",
      "2025-02-09 13:38:03,848 [13068] INFO     root: Iteration 2325: RMSE=1.6668, MAE=1.6668\n",
      "2025-02-09 13:38:03,956 [13068] INFO     root: Iteration 2326: RMSE=0.9510, MAE=0.9510\n",
      "2025-02-09 13:38:04,051 [13068] INFO     root: Iteration 2327: RMSE=0.1550, MAE=0.1550\n",
      "2025-02-09 13:38:04,168 [13068] INFO     root: Iteration 2328: RMSE=7.1962, MAE=7.1962\n",
      "2025-02-09 13:38:04,270 [13068] INFO     root: Iteration 2329: RMSE=2.4407, MAE=2.4407\n",
      "2025-02-09 13:38:04,488 [13068] INFO     root: Iteration 2330: RMSE=0.4811, MAE=0.4811\n",
      "2025-02-09 13:38:04,622 [13068] INFO     root: Iteration 2331: RMSE=7.1880, MAE=7.1880\n",
      "2025-02-09 13:38:04,784 [13068] INFO     root: Iteration 2332: RMSE=2.5855, MAE=2.5855\n",
      "2025-02-09 13:38:04,913 [13068] INFO     root: Iteration 2333: RMSE=0.2356, MAE=0.2356\n",
      "2025-02-09 13:38:05,047 [13068] INFO     root: Iteration 2334: RMSE=1.6668, MAE=1.6668\n",
      "2025-02-09 13:38:05,185 [13068] INFO     root: Iteration 2335: RMSE=1.0837, MAE=1.0837\n",
      "2025-02-09 13:38:05,308 [13068] INFO     root: Iteration 2336: RMSE=1.0783, MAE=1.0783\n",
      "2025-02-09 13:38:05,421 [13068] INFO     root: Iteration 2337: RMSE=1.9470, MAE=1.9470\n",
      "2025-02-09 13:38:05,528 [13068] INFO     root: Iteration 2338: RMSE=0.6367, MAE=0.6367\n",
      "2025-02-09 13:38:05,625 [13068] INFO     ml_monitor.logging: Starting metrics logging thread...\n",
      "2025-02-09 13:38:05,654 [13068] INFO     root: Iteration 2339: RMSE=3.2950, MAE=3.2950\n",
      "2025-02-09 13:38:05,848 [13068] INFO     root: Iteration 2340: RMSE=4.2530, MAE=4.2530\n",
      "2025-02-09 13:38:05,954 [13068] INFO     root: Iteration 2341: RMSE=0.6863, MAE=0.6863\n",
      "2025-02-09 13:38:06,069 [13068] INFO     root: Iteration 2342: RMSE=4.2272, MAE=4.2272\n",
      "2025-02-09 13:38:06,190 [13068] INFO     root: Iteration 2343: RMSE=0.4278, MAE=0.4278\n",
      "2025-02-09 13:38:06,306 [13068] INFO     root: Iteration 2344: RMSE=4.8742, MAE=4.8742\n",
      "2025-02-09 13:38:06,432 [13068] INFO     root: Iteration 2345: RMSE=1.5147, MAE=1.5147\n",
      "2025-02-09 13:38:06,546 [13068] INFO     root: Iteration 2346: RMSE=5.1385, MAE=5.1385\n",
      "2025-02-09 13:38:06,661 [13068] INFO     root: Iteration 2347: RMSE=0.6004, MAE=0.6004\n",
      "2025-02-09 13:38:06,897 [13068] INFO     root: Iteration 2348: RMSE=0.8280, MAE=0.8280\n",
      "2025-02-09 13:38:06,995 [13068] INFO     root: Iteration 2349: RMSE=0.6004, MAE=0.6004\n",
      "2025-02-09 13:38:07,097 [13068] INFO     root: Iteration 2350: RMSE=2.2319, MAE=2.2319\n",
      "2025-02-09 13:38:07,205 [13068] INFO     root: Iteration 2351: RMSE=0.1136, MAE=0.1136\n",
      "2025-02-09 13:38:07,322 [13068] INFO     root: Iteration 2352: RMSE=3.9035, MAE=3.9035\n",
      "2025-02-09 13:38:07,428 [13068] INFO     root: Iteration 2353: RMSE=0.9176, MAE=0.9176\n",
      "2025-02-09 13:38:07,527 [13068] INFO     root: Iteration 2354: RMSE=1.7964, MAE=1.7964\n",
      "2025-02-09 13:38:07,672 [13068] INFO     root: Iteration 2355: RMSE=0.2922, MAE=0.2922\n",
      "2025-02-09 13:38:07,786 [13068] INFO     root: Iteration 2356: RMSE=0.6367, MAE=0.6367\n",
      "2025-02-09 13:38:07,902 [13068] INFO     root: Iteration 2357: RMSE=3.0048, MAE=3.0048\n",
      "2025-02-09 13:38:08,009 [13068] INFO     root: Iteration 2358: RMSE=4.2733, MAE=4.2733\n",
      "2025-02-09 13:38:08,111 [13068] INFO     root: Iteration 2359: RMSE=0.1636, MAE=0.1636\n",
      "2025-02-09 13:38:08,215 [13068] INFO     root: Iteration 2360: RMSE=3.0641, MAE=3.0641\n",
      "2025-02-09 13:38:08,313 [13068] INFO     root: Iteration 2361: RMSE=0.1636, MAE=0.1636\n",
      "2025-02-09 13:38:08,401 [13068] INFO     root: Iteration 2362: RMSE=1.9880, MAE=1.9880\n",
      "2025-02-09 13:38:08,497 [13068] INFO     root: Iteration 2363: RMSE=0.4278, MAE=0.4278\n",
      "2025-02-09 13:38:08,644 [13068] INFO     root: Iteration 2364: RMSE=5.8811, MAE=5.8811\n",
      "2025-02-09 13:38:08,739 [13068] INFO     root: Iteration 2365: RMSE=2.1020, MAE=2.1020\n",
      "2025-02-09 13:38:08,842 [13068] INFO     root: Iteration 2366: RMSE=3.9228, MAE=3.9228\n",
      "2025-02-09 13:38:08,943 [13068] INFO     root: Iteration 2367: RMSE=3.9035, MAE=3.9035\n",
      "2025-02-09 13:38:09,054 [13068] INFO     root: Iteration 2368: RMSE=0.9510, MAE=0.9510\n",
      "2025-02-09 13:38:09,171 [13068] INFO     root: Iteration 2369: RMSE=1.3937, MAE=1.3937\n",
      "2025-02-09 13:38:09,269 [13068] INFO     root: Iteration 2370: RMSE=15.7679, MAE=15.7679\n",
      "2025-02-09 13:38:09,364 [13068] INFO     root: Iteration 2371: RMSE=6.5607, MAE=6.5607\n",
      "2025-02-09 13:38:09,465 [13068] INFO     root: Iteration 2372: RMSE=0.9201, MAE=0.9201\n",
      "2025-02-09 13:38:09,620 [13068] INFO     root: Iteration 2373: RMSE=4.2619, MAE=4.2619\n",
      "2025-02-09 13:38:09,712 [13068] INFO     root: Iteration 2374: RMSE=0.9510, MAE=0.9510\n",
      "2025-02-09 13:38:09,803 [13068] INFO     root: Iteration 2375: RMSE=0.0329, MAE=0.0329\n",
      "2025-02-09 13:38:09,901 [13068] INFO     root: Iteration 2376: RMSE=2.2319, MAE=2.2319\n",
      "2025-02-09 13:38:10,394 [13068] INFO     root: Metrics pushed at iteration 2376. RMSE=2.2319, MAE=2.2319\n",
      "2025-02-09 13:38:10,489 [13068] INFO     root: Iteration 2377: RMSE=0.1636, MAE=0.1636\n",
      "2025-02-09 13:38:10,587 [13068] INFO     root: Iteration 2378: RMSE=2.7746, MAE=2.7746\n",
      "2025-02-09 13:38:10,655 [13068] INFO     ml_monitor.logging: Starting metrics logging thread...\n",
      "2025-02-09 13:38:10,693 [13068] INFO     root: Iteration 2379: RMSE=7.4122, MAE=7.4122\n",
      "2025-02-09 13:38:10,790 [13068] INFO     root: Iteration 2380: RMSE=5.8811, MAE=5.8811\n",
      "2025-02-09 13:38:10,899 [13068] INFO     root: Iteration 2381: RMSE=0.4811, MAE=0.4811\n",
      "2025-02-09 13:38:11,076 [13068] INFO     root: Iteration 2382: RMSE=1.0525, MAE=1.0525\n",
      "2025-02-09 13:38:11,189 [13068] INFO     root: Iteration 2383: RMSE=0.2445, MAE=0.2445\n",
      "2025-02-09 13:38:11,326 [13068] INFO     root: Iteration 2384: RMSE=3.0048, MAE=3.0048\n",
      "2025-02-09 13:38:11,418 [13068] INFO     root: Iteration 2385: RMSE=2.2823, MAE=2.2823\n",
      "2025-02-09 13:38:11,516 [13068] INFO     root: Iteration 2386: RMSE=5.8175, MAE=5.8175\n",
      "2025-02-09 13:38:11,612 [13068] INFO     root: Iteration 2387: RMSE=4.2619, MAE=4.2619\n",
      "2025-02-09 13:38:11,710 [13068] INFO     root: Iteration 2388: RMSE=1.9891, MAE=1.9891\n",
      "2025-02-09 13:38:11,817 [13068] INFO     root: Iteration 2389: RMSE=1.6668, MAE=1.6668\n",
      "2025-02-09 13:38:11,926 [13068] INFO     root: Iteration 2390: RMSE=3.9035, MAE=3.9035\n",
      "2025-02-09 13:38:12,018 [13068] INFO     root: Iteration 2391: RMSE=15.7679, MAE=15.7679\n",
      "2025-02-09 13:38:12,182 [13068] INFO     root: Iteration 2392: RMSE=0.2922, MAE=0.2922\n",
      "2025-02-09 13:38:12,296 [13068] INFO     root: Iteration 2393: RMSE=2.4407, MAE=2.4407\n",
      "2025-02-09 13:38:12,390 [13068] INFO     root: Iteration 2394: RMSE=5.0666, MAE=5.0666\n",
      "2025-02-09 13:38:12,506 [13068] INFO     root: Iteration 2395: RMSE=0.8280, MAE=0.8280\n",
      "2025-02-09 13:38:12,596 [13068] INFO     root: Iteration 2396: RMSE=1.9954, MAE=1.9954\n",
      "2025-02-09 13:38:12,686 [13068] INFO     root: Iteration 2397: RMSE=7.1880, MAE=7.1880\n",
      "2025-02-09 13:38:12,778 [13068] INFO     root: Iteration 2398: RMSE=0.1636, MAE=0.1636\n",
      "2025-02-09 13:38:12,884 [13068] INFO     root: Iteration 2399: RMSE=0.9510, MAE=0.9510\n",
      "2025-02-09 13:38:12,980 [13068] INFO     root: Iteration 2400: RMSE=1.5289, MAE=1.5289\n",
      "2025-02-09 13:38:13,082 [13068] INFO     root: Iteration 2401: RMSE=1.9470, MAE=1.9470\n",
      "2025-02-09 13:38:13,168 [13068] INFO     root: Iteration 2402: RMSE=0.1636, MAE=0.1636\n",
      "2025-02-09 13:38:13,263 [13068] INFO     root: Iteration 2403: RMSE=1.2345, MAE=1.2345\n",
      "2025-02-09 13:38:13,357 [13068] INFO     root: Iteration 2404: RMSE=0.8502, MAE=0.8502\n",
      "2025-02-09 13:38:13,455 [13068] INFO     root: Iteration 2405: RMSE=2.5855, MAE=2.5855\n",
      "2025-02-09 13:38:13,597 [13068] INFO     root: Iteration 2406: RMSE=1.7797, MAE=1.7797\n",
      "2025-02-09 13:38:13,688 [13068] INFO     root: Iteration 2407: RMSE=3.0048, MAE=3.0048\n",
      "2025-02-09 13:38:13,781 [13068] INFO     root: Iteration 2408: RMSE=3.9035, MAE=3.9035\n",
      "2025-02-09 13:38:13,883 [13068] INFO     root: Iteration 2409: RMSE=5.8811, MAE=5.8811\n",
      "2025-02-09 13:38:13,987 [13068] INFO     root: Iteration 2410: RMSE=3.0048, MAE=3.0048\n",
      "2025-02-09 13:38:14,086 [13068] INFO     root: Iteration 2411: RMSE=3.0048, MAE=3.0048\n",
      "2025-02-09 13:38:14,207 [13068] INFO     root: Iteration 2412: RMSE=3.1701, MAE=3.1701\n",
      "2025-02-09 13:38:14,298 [13068] INFO     root: Iteration 2413: RMSE=2.4091, MAE=2.4091\n",
      "2025-02-09 13:38:14,387 [13068] INFO     root: Iteration 2414: RMSE=2.1957, MAE=2.1957\n",
      "2025-02-09 13:38:14,495 [13068] INFO     root: Iteration 2415: RMSE=0.6863, MAE=0.6863\n",
      "2025-02-09 13:38:14,595 [13068] INFO     root: Iteration 2416: RMSE=2.2823, MAE=2.2823\n",
      "2025-02-09 13:38:14,701 [13068] INFO     root: Iteration 2417: RMSE=0.1136, MAE=0.1136\n",
      "2025-02-09 13:38:14,789 [13068] INFO     root: Iteration 2418: RMSE=0.1136, MAE=0.1136\n",
      "2025-02-09 13:38:14,873 [13068] INFO     root: Iteration 2419: RMSE=3.2372, MAE=3.2372\n",
      "2025-02-09 13:38:14,972 [13068] INFO     root: Iteration 2420: RMSE=5.8811, MAE=5.8811\n",
      "2025-02-09 13:38:15,055 [13068] INFO     root: Iteration 2421: RMSE=3.6498, MAE=3.6498\n",
      "2025-02-09 13:38:15,143 [13068] INFO     root: Iteration 2422: RMSE=0.1636, MAE=0.1636\n",
      "2025-02-09 13:38:15,282 [13068] INFO     root: Iteration 2423: RMSE=5.1399, MAE=5.1399\n",
      "2025-02-09 13:38:15,398 [13068] INFO     root: Iteration 2424: RMSE=2.1957, MAE=2.1957\n",
      "2025-02-09 13:38:15,506 [13068] INFO     root: Iteration 2425: RMSE=1.0525, MAE=1.0525\n",
      "2025-02-09 13:38:15,604 [13068] INFO     root: Iteration 2426: RMSE=2.2823, MAE=2.2823\n",
      "2025-02-09 13:38:15,677 [13068] INFO     ml_monitor.logging: Starting metrics logging thread...\n",
      "2025-02-09 13:38:15,694 [13068] INFO     root: Iteration 2427: RMSE=3.1092, MAE=3.1092\n",
      "2025-02-09 13:38:15,800 [13068] INFO     root: Iteration 2428: RMSE=4.2530, MAE=4.2530\n",
      "2025-02-09 13:38:15,907 [13068] INFO     root: Iteration 2429: RMSE=2.6178, MAE=2.6178\n",
      "2025-02-09 13:38:15,984 [13068] INFO     root: Iteration 2430: RMSE=1.3227, MAE=1.3227\n",
      "2025-02-09 13:38:16,071 [13068] INFO     root: Iteration 2431: RMSE=2.6178, MAE=2.6178\n",
      "2025-02-09 13:38:16,148 [13068] INFO     root: Iteration 2432: RMSE=0.0894, MAE=0.0894\n",
      "2025-02-09 13:38:16,241 [13068] INFO     root: Iteration 2433: RMSE=0.4053, MAE=0.4053\n",
      "2025-02-09 13:38:16,332 [13068] INFO     root: Iteration 2434: RMSE=1.2841, MAE=1.2841\n",
      "2025-02-09 13:38:16,430 [13068] INFO     root: Iteration 2435: RMSE=0.0329, MAE=0.0329\n",
      "2025-02-09 13:38:16,519 [13068] INFO     root: Iteration 2436: RMSE=5.1399, MAE=5.1399\n",
      "2025-02-09 13:38:16,658 [13068] INFO     root: Iteration 2437: RMSE=1.0837, MAE=1.0837\n",
      "2025-02-09 13:38:16,777 [13068] INFO     root: Iteration 2438: RMSE=1.5289, MAE=1.5289\n",
      "2025-02-09 13:38:16,872 [13068] INFO     root: Iteration 2439: RMSE=2.4407, MAE=2.4407\n",
      "2025-02-09 13:38:16,987 [13068] INFO     root: Iteration 2440: RMSE=0.4554, MAE=0.4554\n",
      "2025-02-09 13:38:17,081 [13068] INFO     root: Iteration 2441: RMSE=7.4122, MAE=7.4122\n",
      "2025-02-09 13:38:17,189 [13068] INFO     root: Iteration 2442: RMSE=1.3227, MAE=1.3227\n",
      "2025-02-09 13:38:17,294 [13068] INFO     root: Iteration 2443: RMSE=0.2356, MAE=0.2356\n",
      "2025-02-09 13:38:17,392 [13068] INFO     root: Iteration 2444: RMSE=4.3700, MAE=4.3700\n",
      "2025-02-09 13:38:17,493 [13068] INFO     root: Iteration 2445: RMSE=0.6820, MAE=0.6820\n",
      "2025-02-09 13:38:17,590 [13068] INFO     root: Iteration 2446: RMSE=0.6863, MAE=0.6863\n",
      "2025-02-09 13:38:17,740 [13068] INFO     root: Iteration 2447: RMSE=1.0783, MAE=1.0783\n",
      "2025-02-09 13:38:17,834 [13068] INFO     root: Iteration 2448: RMSE=1.7964, MAE=1.7964\n",
      "2025-02-09 13:38:17,954 [13068] INFO     root: Iteration 2449: RMSE=0.4278, MAE=0.4278\n",
      "2025-02-09 13:38:18,073 [13068] INFO     root: Iteration 2450: RMSE=3.1092, MAE=3.1092\n",
      "2025-02-09 13:38:18,183 [13068] INFO     root: Iteration 2451: RMSE=0.6004, MAE=0.6004\n",
      "2025-02-09 13:38:18,273 [13068] INFO     root: Iteration 2452: RMSE=7.1962, MAE=7.1962\n",
      "2025-02-09 13:38:18,371 [13068] INFO     root: Iteration 2453: RMSE=0.8295, MAE=0.8295\n",
      "2025-02-09 13:38:18,466 [13068] INFO     root: Iteration 2454: RMSE=1.5147, MAE=1.5147\n",
      "2025-02-09 13:38:18,619 [13068] INFO     root: Iteration 2455: RMSE=1.3227, MAE=1.3227\n",
      "2025-02-09 13:38:18,708 [13068] INFO     root: Iteration 2456: RMSE=0.4278, MAE=0.4278\n",
      "2025-02-09 13:38:18,806 [13068] INFO     root: Iteration 2457: RMSE=0.8360, MAE=0.8360\n",
      "2025-02-09 13:38:18,900 [13068] INFO     root: Iteration 2458: RMSE=5.1399, MAE=5.1399\n",
      "2025-02-09 13:38:18,990 [13068] INFO     root: Iteration 2459: RMSE=3.0812, MAE=3.0812\n",
      "2025-02-09 13:38:19,076 [13068] INFO     root: Iteration 2460: RMSE=0.4811, MAE=0.4811\n",
      "2025-02-09 13:38:19,179 [13068] INFO     root: Iteration 2461: RMSE=4.8742, MAE=4.8742\n",
      "2025-02-09 13:38:19,267 [13068] INFO     root: Iteration 2462: RMSE=2.2823, MAE=2.2823\n",
      "2025-02-09 13:38:19,348 [13068] INFO     root: Iteration 2463: RMSE=1.3937, MAE=1.3937\n",
      "2025-02-09 13:38:19,438 [13068] INFO     root: Iteration 2464: RMSE=6.4895, MAE=6.4895\n",
      "2025-02-09 13:38:19,552 [13068] INFO     root: Iteration 2465: RMSE=3.6498, MAE=3.6498\n",
      "2025-02-09 13:38:19,636 [13068] INFO     root: Iteration 2466: RMSE=0.6004, MAE=0.6004\n",
      "2025-02-09 13:38:19,716 [13068] INFO     root: Iteration 2467: RMSE=1.2345, MAE=1.2345\n",
      "2025-02-09 13:38:19,830 [13068] INFO     root: Iteration 2468: RMSE=1.5147, MAE=1.5147\n",
      "2025-02-09 13:38:19,922 [13068] INFO     root: Iteration 2469: RMSE=3.0641, MAE=3.0641\n",
      "2025-02-09 13:38:20,330 [13068] INFO     root: Metrics pushed at iteration 2469. RMSE=3.0641, MAE=3.0641\n",
      "2025-02-09 13:38:20,418 [13068] INFO     root: Iteration 2470: RMSE=0.2922, MAE=0.2922\n",
      "2025-02-09 13:38:20,524 [13068] INFO     root: Iteration 2471: RMSE=0.6367, MAE=0.6367\n",
      "2025-02-09 13:38:20,623 [13068] INFO     root: Iteration 2472: RMSE=1.9470, MAE=1.9470\n",
      "2025-02-09 13:38:20,695 [13068] INFO     ml_monitor.logging: Starting metrics logging thread...\n",
      "2025-02-09 13:38:20,738 [13068] INFO     root: Iteration 2473: RMSE=3.2372, MAE=3.2372\n",
      "2025-02-09 13:38:20,931 [13068] INFO     root: Iteration 2474: RMSE=0.4811, MAE=0.4811\n",
      "2025-02-09 13:38:21,028 [13068] INFO     root: Iteration 2475: RMSE=0.1636, MAE=0.1636\n",
      "2025-02-09 13:38:21,156 [13068] INFO     root: Iteration 2476: RMSE=15.7679, MAE=15.7679\n",
      "2025-02-09 13:38:21,308 [13068] INFO     root: Iteration 2477: RMSE=0.1636, MAE=0.1636\n",
      "2025-02-09 13:38:21,420 [13068] INFO     root: Iteration 2478: RMSE=7.1880, MAE=7.1880\n",
      "2025-02-09 13:38:21,520 [13068] INFO     root: Iteration 2479: RMSE=5.1385, MAE=5.1385\n",
      "2025-02-09 13:38:21,621 [13068] INFO     root: Iteration 2480: RMSE=3.2950, MAE=3.2950\n",
      "2025-02-09 13:38:21,805 [13068] INFO     root: Iteration 2481: RMSE=2.6178, MAE=2.6178\n",
      "2025-02-09 13:38:21,930 [13068] INFO     root: Iteration 2482: RMSE=5.8811, MAE=5.8811\n",
      "2025-02-09 13:38:22,056 [13068] INFO     root: Iteration 2483: RMSE=3.2372, MAE=3.2372\n",
      "2025-02-09 13:38:22,185 [13068] INFO     root: Iteration 2484: RMSE=3.9035, MAE=3.9035\n",
      "2025-02-09 13:38:22,308 [13068] INFO     root: Iteration 2485: RMSE=0.6004, MAE=0.6004\n",
      "2025-02-09 13:38:22,415 [13068] INFO     root: Iteration 2486: RMSE=0.4053, MAE=0.4053\n",
      "2025-02-09 13:38:22,522 [13068] INFO     root: Iteration 2487: RMSE=0.5423, MAE=0.5423\n",
      "2025-02-09 13:38:22,636 [13068] INFO     root: Iteration 2488: RMSE=0.9510, MAE=0.9510\n",
      "2025-02-09 13:38:22,869 [13068] INFO     root: Iteration 2489: RMSE=2.5855, MAE=2.5855\n",
      "2025-02-09 13:38:22,975 [13068] INFO     root: Iteration 2490: RMSE=2.4091, MAE=2.4091\n",
      "2025-02-09 13:38:23,077 [13068] INFO     root: Iteration 2491: RMSE=2.5855, MAE=2.5855\n",
      "2025-02-09 13:38:23,191 [13068] INFO     root: Iteration 2492: RMSE=5.1399, MAE=5.1399\n",
      "2025-02-09 13:38:23,323 [13068] INFO     root: Iteration 2493: RMSE=2.4681, MAE=2.4681\n",
      "2025-02-09 13:38:23,433 [13068] INFO     root: Iteration 2494: RMSE=2.1957, MAE=2.1957\n",
      "2025-02-09 13:38:23,560 [13068] INFO     root: Iteration 2495: RMSE=1.0525, MAE=1.0525\n",
      "2025-02-09 13:38:23,683 [13068] INFO     root: Iteration 2496: RMSE=0.1636, MAE=0.1636\n",
      "2025-02-09 13:38:23,797 [13068] INFO     root: Iteration 2497: RMSE=1.9954, MAE=1.9954\n",
      "2025-02-09 13:38:23,993 [13068] INFO     root: Iteration 2498: RMSE=0.8280, MAE=0.8280\n",
      "2025-02-09 13:38:24,127 [13068] INFO     root: Iteration 2499: RMSE=4.3700, MAE=4.3700\n",
      "2025-02-09 13:38:24,267 [13068] INFO     root: Iteration 2500: RMSE=3.9035, MAE=3.9035\n",
      "2025-02-09 13:38:24,391 [13068] INFO     root: Iteration 2501: RMSE=1.9954, MAE=1.9954\n",
      "2025-02-09 13:38:24,552 [13068] INFO     root: Iteration 2502: RMSE=0.9690, MAE=0.9690\n",
      "2025-02-09 13:38:24,665 [13068] INFO     root: Iteration 2503: RMSE=2.7746, MAE=2.7746\n",
      "2025-02-09 13:38:24,760 [13068] INFO     root: Iteration 2504: RMSE=1.0783, MAE=1.0783\n",
      "2025-02-09 13:38:24,864 [13068] INFO     root: Iteration 2505: RMSE=0.9176, MAE=0.9176\n",
      "2025-02-09 13:38:24,958 [13068] INFO     root: Iteration 2506: RMSE=0.5329, MAE=0.5329\n",
      "2025-02-09 13:38:25,046 [13068] INFO     root: Iteration 2507: RMSE=0.1636, MAE=0.1636\n",
      "2025-02-09 13:38:25,264 [13068] INFO     root: Iteration 2508: RMSE=2.2823, MAE=2.2823\n",
      "2025-02-09 13:38:25,375 [13068] INFO     root: Iteration 2509: RMSE=0.1640, MAE=0.1640\n",
      "2025-02-09 13:38:25,498 [13068] INFO     root: Iteration 2510: RMSE=1.9374, MAE=1.9374\n",
      "2025-02-09 13:38:25,612 [13068] INFO     root: Iteration 2511: RMSE=1.5147, MAE=1.5147\n",
      "2025-02-09 13:38:25,725 [13068] INFO     root: Iteration 2512: RMSE=4.3271, MAE=4.3271\n",
      "2025-02-09 13:38:25,736 [13068] INFO     ml_monitor.logging: Starting metrics logging thread...\n",
      "2025-02-09 13:38:25,841 [13068] INFO     root: Iteration 2513: RMSE=1.5147, MAE=1.5147\n",
      "2025-02-09 13:38:25,939 [13068] INFO     root: Iteration 2514: RMSE=0.9176, MAE=0.9176\n",
      "2025-02-09 13:38:26,024 [13068] INFO     root: Iteration 2515: RMSE=0.9176, MAE=0.9176\n",
      "2025-02-09 13:38:26,125 [13068] INFO     root: Iteration 2516: RMSE=0.4053, MAE=0.4053\n",
      "2025-02-09 13:38:26,221 [13068] INFO     root: Iteration 2517: RMSE=4.2619, MAE=4.2619\n",
      "2025-02-09 13:38:26,373 [13068] INFO     root: Iteration 2518: RMSE=0.9510, MAE=0.9510\n",
      "2025-02-09 13:38:26,477 [13068] INFO     root: Iteration 2519: RMSE=0.4554, MAE=0.4554\n",
      "2025-02-09 13:38:26,584 [13068] INFO     root: Iteration 2520: RMSE=0.4811, MAE=0.4811\n",
      "2025-02-09 13:38:26,678 [13068] INFO     root: Iteration 2521: RMSE=1.0525, MAE=1.0525\n",
      "2025-02-09 13:38:26,776 [13068] INFO     root: Iteration 2522: RMSE=0.9201, MAE=0.9201\n",
      "2025-02-09 13:38:26,869 [13068] INFO     root: Iteration 2523: RMSE=0.6863, MAE=0.6863\n",
      "2025-02-09 13:38:26,969 [13068] INFO     root: Iteration 2524: RMSE=6.3484, MAE=6.3484\n",
      "2025-02-09 13:38:27,073 [13068] INFO     root: Iteration 2525: RMSE=6.4895, MAE=6.4895\n",
      "2025-02-09 13:38:27,163 [13068] INFO     root: Iteration 2526: RMSE=4.2272, MAE=4.2272\n",
      "2025-02-09 13:38:27,270 [13068] INFO     root: Iteration 2527: RMSE=0.8502, MAE=0.8502\n",
      "2025-02-09 13:38:27,418 [13068] INFO     root: Iteration 2528: RMSE=4.3700, MAE=4.3700\n",
      "2025-02-09 13:38:27,514 [13068] INFO     root: Iteration 2529: RMSE=2.7728, MAE=2.7728\n",
      "2025-02-09 13:38:27,606 [13068] INFO     root: Iteration 2530: RMSE=5.3491, MAE=5.3491\n",
      "2025-02-09 13:38:27,701 [13068] INFO     root: Iteration 2531: RMSE=5.3491, MAE=5.3491\n",
      "2025-02-09 13:38:27,780 [13068] INFO     root: Iteration 2532: RMSE=1.3227, MAE=1.3227\n",
      "2025-02-09 13:38:27,869 [13068] INFO     root: Iteration 2533: RMSE=1.9374, MAE=1.9374\n",
      "2025-02-09 13:38:27,964 [13068] INFO     root: Iteration 2534: RMSE=2.2324, MAE=2.2324\n",
      "2025-02-09 13:38:28,056 [13068] INFO     root: Iteration 2535: RMSE=0.8502, MAE=0.8502\n",
      "2025-02-09 13:38:28,145 [13068] INFO     root: Iteration 2536: RMSE=0.8360, MAE=0.8360\n",
      "2025-02-09 13:38:28,236 [13068] INFO     root: Iteration 2537: RMSE=1.7964, MAE=1.7964\n",
      "2025-02-09 13:38:28,339 [13068] INFO     root: Iteration 2538: RMSE=7.4122, MAE=7.4122\n",
      "2025-02-09 13:38:28,521 [13068] INFO     root: Iteration 2539: RMSE=1.9954, MAE=1.9954\n",
      "2025-02-09 13:38:28,658 [13068] INFO     root: Iteration 2540: RMSE=4.3271, MAE=4.3271\n",
      "2025-02-09 13:38:28,809 [13068] INFO     root: Iteration 2541: RMSE=21.1875, MAE=21.1875\n",
      "2025-02-09 13:38:28,929 [13068] INFO     root: Iteration 2542: RMSE=2.5855, MAE=2.5855\n",
      "2025-02-09 13:38:29,038 [13068] INFO     root: Iteration 2543: RMSE=7.4122, MAE=7.4122\n",
      "2025-02-09 13:38:29,138 [13068] INFO     root: Iteration 2544: RMSE=3.0048, MAE=3.0048\n",
      "2025-02-09 13:38:29,244 [13068] INFO     root: Iteration 2545: RMSE=1.6668, MAE=1.6668\n",
      "2025-02-09 13:38:29,343 [13068] INFO     root: Iteration 2546: RMSE=3.9035, MAE=3.9035\n",
      "2025-02-09 13:38:29,440 [13068] INFO     root: Iteration 2547: RMSE=1.3937, MAE=1.3937\n",
      "2025-02-09 13:38:29,534 [13068] INFO     root: Iteration 2548: RMSE=0.4053, MAE=0.4053\n",
      "2025-02-09 13:38:29,641 [13068] INFO     root: Iteration 2549: RMSE=1.9880, MAE=1.9880\n",
      "2025-02-09 13:38:29,840 [13068] INFO     root: Iteration 2550: RMSE=0.4811, MAE=0.4811\n",
      "2025-02-09 13:38:29,937 [13068] INFO     root: Iteration 2551: RMSE=2.7728, MAE=2.7728\n",
      "2025-02-09 13:38:30,367 [13068] INFO     root: Metrics pushed at iteration 2551. RMSE=2.7728, MAE=2.7728\n",
      "2025-02-09 13:38:30,461 [13068] INFO     root: Iteration 2552: RMSE=3.6498, MAE=3.6498\n",
      "2025-02-09 13:38:30,559 [13068] INFO     root: Iteration 2553: RMSE=0.1550, MAE=0.1550\n",
      "2025-02-09 13:38:30,650 [13068] INFO     root: Iteration 2554: RMSE=0.6863, MAE=0.6863\n",
      "2025-02-09 13:38:30,750 [13068] INFO     root: Iteration 2555: RMSE=0.2922, MAE=0.2922\n",
      "2025-02-09 13:38:30,761 [13068] INFO     ml_monitor.logging: Starting metrics logging thread...\n",
      "2025-02-09 13:38:30,860 [13068] INFO     root: Iteration 2556: RMSE=1.9024, MAE=1.9024\n",
      "2025-02-09 13:38:30,955 [13068] INFO     root: Iteration 2557: RMSE=2.4091, MAE=2.4091\n",
      "2025-02-09 13:38:31,114 [13068] INFO     root: Iteration 2558: RMSE=5.2814, MAE=5.2814\n",
      "2025-02-09 13:38:31,231 [13068] INFO     root: Iteration 2559: RMSE=1.3937, MAE=1.3937\n",
      "2025-02-09 13:38:31,355 [13068] INFO     root: Iteration 2560: RMSE=0.6863, MAE=0.6863\n",
      "2025-02-09 13:38:31,458 [13068] INFO     root: Iteration 2561: RMSE=1.5147, MAE=1.5147\n",
      "2025-02-09 13:38:31,547 [13068] INFO     root: Iteration 2562: RMSE=3.0812, MAE=3.0812\n",
      "2025-02-09 13:38:31,652 [13068] INFO     root: Iteration 2563: RMSE=4.2272, MAE=4.2272\n",
      "2025-02-09 13:38:31,761 [13068] INFO     root: Iteration 2564: RMSE=5.1385, MAE=5.1385\n",
      "2025-02-09 13:38:31,853 [13068] INFO     root: Iteration 2565: RMSE=3.0812, MAE=3.0812\n",
      "2025-02-09 13:38:31,967 [13068] INFO     root: Iteration 2566: RMSE=2.2319, MAE=2.2319\n",
      "2025-02-09 13:38:32,179 [13068] INFO     root: Iteration 2567: RMSE=2.4091, MAE=2.4091\n",
      "2025-02-09 13:38:32,323 [13068] INFO     root: Iteration 2568: RMSE=1.6861, MAE=1.6861\n",
      "2025-02-09 13:38:32,439 [13068] INFO     root: Iteration 2569: RMSE=2.8002, MAE=2.8002\n",
      "2025-02-09 13:38:32,566 [13068] INFO     root: Iteration 2570: RMSE=0.0190, MAE=0.0190\n",
      "2025-02-09 13:38:32,681 [13068] INFO     root: Iteration 2571: RMSE=0.8502, MAE=0.8502\n",
      "2025-02-09 13:38:32,788 [13068] INFO     root: Iteration 2572: RMSE=1.9024, MAE=1.9024\n",
      "2025-02-09 13:38:32,914 [13068] INFO     root: Iteration 2573: RMSE=2.6178, MAE=2.6178\n",
      "2025-02-09 13:38:33,006 [13068] INFO     root: Iteration 2574: RMSE=2.4091, MAE=2.4091\n",
      "2025-02-09 13:38:33,114 [13068] INFO     root: Iteration 2575: RMSE=1.6668, MAE=1.6668\n",
      "2025-02-09 13:38:33,257 [13068] INFO     root: Iteration 2576: RMSE=0.1550, MAE=0.1550\n",
      "2025-02-09 13:38:33,345 [13068] INFO     root: Iteration 2577: RMSE=0.0190, MAE=0.0190\n",
      "2025-02-09 13:38:33,442 [13068] INFO     root: Iteration 2578: RMSE=3.2950, MAE=3.2950\n",
      "2025-02-09 13:38:33,530 [13068] INFO     root: Iteration 2579: RMSE=15.7679, MAE=15.7679\n",
      "2025-02-09 13:38:33,631 [13068] INFO     root: Iteration 2580: RMSE=6.3484, MAE=6.3484\n",
      "2025-02-09 13:38:33,734 [13068] INFO     root: Iteration 2581: RMSE=0.6367, MAE=0.6367\n",
      "2025-02-09 13:38:33,824 [13068] INFO     root: Iteration 2582: RMSE=0.1636, MAE=0.1636\n",
      "2025-02-09 13:38:33,990 [13068] INFO     root: Iteration 2583: RMSE=0.0190, MAE=0.0190\n",
      "2025-02-09 13:38:34,084 [13068] INFO     root: Iteration 2584: RMSE=0.4811, MAE=0.4811\n",
      "2025-02-09 13:38:34,214 [13068] INFO     root: Iteration 2585: RMSE=1.2345, MAE=1.2345\n",
      "2025-02-09 13:38:34,329 [13068] INFO     root: Iteration 2586: RMSE=0.4811, MAE=0.4811\n",
      "2025-02-09 13:38:34,415 [13068] INFO     root: Iteration 2587: RMSE=5.3491, MAE=5.3491\n",
      "2025-02-09 13:38:34,521 [13068] INFO     root: Iteration 2588: RMSE=6.5607, MAE=6.5607\n",
      "2025-02-09 13:38:34,624 [13068] INFO     root: Iteration 2589: RMSE=1.9834, MAE=1.9834\n",
      "2025-02-09 13:38:34,710 [13068] INFO     root: Iteration 2590: RMSE=1.3937, MAE=1.3937\n",
      "2025-02-09 13:38:34,798 [13068] INFO     root: Iteration 2591: RMSE=2.7728, MAE=2.7728\n",
      "2025-02-09 13:38:34,893 [13068] INFO     root: Iteration 2592: RMSE=21.1875, MAE=21.1875\n",
      "2025-02-09 13:38:34,978 [13068] INFO     root: Iteration 2593: RMSE=0.8280, MAE=0.8280\n",
      "2025-02-09 13:38:35,076 [13068] INFO     root: Iteration 2594: RMSE=7.4122, MAE=7.4122\n",
      "2025-02-09 13:38:35,158 [13068] INFO     root: Iteration 2595: RMSE=0.1636, MAE=0.1636\n",
      "2025-02-09 13:38:35,250 [13068] INFO     root: Iteration 2596: RMSE=2.7728, MAE=2.7728\n",
      "2025-02-09 13:38:35,339 [13068] INFO     root: Iteration 2597: RMSE=0.6820, MAE=0.6820\n",
      "2025-02-09 13:38:35,425 [13068] INFO     root: Iteration 2598: RMSE=0.6820, MAE=0.6820\n",
      "2025-02-09 13:38:35,511 [13068] INFO     root: Iteration 2599: RMSE=1.0341, MAE=1.0341\n",
      "2025-02-09 13:38:35,595 [13068] INFO     root: Iteration 2600: RMSE=5.0666, MAE=5.0666\n",
      "2025-02-09 13:38:35,732 [13068] INFO     root: Iteration 2601: RMSE=1.2841, MAE=1.2841\n",
      "2025-02-09 13:38:35,777 [13068] INFO     ml_monitor.logging: Starting metrics logging thread...\n",
      "2025-02-09 13:38:35,828 [13068] INFO     root: Iteration 2602: RMSE=0.1550, MAE=0.1550\n",
      "2025-02-09 13:38:35,920 [13068] INFO     root: Iteration 2603: RMSE=2.2324, MAE=2.2324\n",
      "2025-02-09 13:38:36,012 [13068] INFO     root: Iteration 2604: RMSE=1.9880, MAE=1.9880\n",
      "2025-02-09 13:38:36,120 [13068] INFO     root: Iteration 2605: RMSE=1.7797, MAE=1.7797\n",
      "2025-02-09 13:38:36,216 [13068] INFO     root: Iteration 2606: RMSE=1.7964, MAE=1.7964\n",
      "2025-02-09 13:38:36,311 [13068] INFO     root: Iteration 2607: RMSE=4.2619, MAE=4.2619\n",
      "2025-02-09 13:38:36,417 [13068] INFO     root: Iteration 2608: RMSE=1.2010, MAE=1.2010\n",
      "2025-02-09 13:38:36,519 [13068] INFO     root: Iteration 2609: RMSE=0.5329, MAE=0.5329\n",
      "2025-02-09 13:38:36,676 [13068] INFO     root: Iteration 2610: RMSE=4.3700, MAE=4.3700\n",
      "2025-02-09 13:38:36,783 [13068] INFO     root: Iteration 2611: RMSE=2.4091, MAE=2.4091\n",
      "2025-02-09 13:38:36,884 [13068] INFO     root: Iteration 2612: RMSE=6.4895, MAE=6.4895\n",
      "2025-02-09 13:38:36,986 [13068] INFO     root: Iteration 2613: RMSE=2.1957, MAE=2.1957\n",
      "2025-02-09 13:38:37,096 [13068] INFO     root: Iteration 2614: RMSE=2.2319, MAE=2.2319\n",
      "2025-02-09 13:38:37,207 [13068] INFO     root: Iteration 2615: RMSE=1.7797, MAE=1.7797\n",
      "2025-02-09 13:38:37,319 [13068] INFO     root: Iteration 2616: RMSE=3.1092, MAE=3.1092\n",
      "2025-02-09 13:38:37,413 [13068] INFO     root: Iteration 2617: RMSE=0.5329, MAE=0.5329\n",
      "2025-02-09 13:38:37,543 [13068] INFO     root: Iteration 2618: RMSE=0.8295, MAE=0.8295\n",
      "2025-02-09 13:38:37,661 [13068] INFO     root: Iteration 2619: RMSE=1.3227, MAE=1.3227\n",
      "2025-02-09 13:38:37,772 [13068] INFO     root: Iteration 2620: RMSE=2.4681, MAE=2.4681\n",
      "2025-02-09 13:38:37,914 [13068] INFO     root: Iteration 2621: RMSE=1.9374, MAE=1.9374\n",
      "2025-02-09 13:38:38,061 [13068] INFO     root: Iteration 2622: RMSE=3.0812, MAE=3.0812\n",
      "2025-02-09 13:38:38,175 [13068] INFO     root: Iteration 2623: RMSE=0.6277, MAE=0.6277\n",
      "2025-02-09 13:38:38,281 [13068] INFO     root: Iteration 2624: RMSE=1.6668, MAE=1.6668\n",
      "2025-02-09 13:38:38,389 [13068] INFO     root: Iteration 2625: RMSE=0.4053, MAE=0.4053\n",
      "2025-02-09 13:38:38,496 [13068] INFO     root: Iteration 2626: RMSE=4.2530, MAE=4.2530\n",
      "2025-02-09 13:38:38,599 [13068] INFO     root: Iteration 2627: RMSE=5.0666, MAE=5.0666\n",
      "2025-02-09 13:38:38,707 [13068] INFO     root: Iteration 2628: RMSE=0.9510, MAE=0.9510\n",
      "2025-02-09 13:38:38,886 [13068] INFO     root: Iteration 2629: RMSE=2.1957, MAE=2.1957\n",
      "2025-02-09 13:38:38,985 [13068] INFO     root: Iteration 2630: RMSE=1.2345, MAE=1.2345\n",
      "2025-02-09 13:38:39,087 [13068] INFO     root: Iteration 2631: RMSE=5.3491, MAE=5.3491\n",
      "2025-02-09 13:38:39,208 [13068] INFO     root: Iteration 2632: RMSE=1.3937, MAE=1.3937\n",
      "2025-02-09 13:38:39,325 [13068] INFO     root: Iteration 2633: RMSE=5.1399, MAE=5.1399\n",
      "2025-02-09 13:38:39,441 [13068] INFO     root: Iteration 2634: RMSE=1.9470, MAE=1.9470\n",
      "2025-02-09 13:38:39,546 [13068] INFO     root: Iteration 2635: RMSE=2.5855, MAE=2.5855\n",
      "2025-02-09 13:38:39,645 [13068] INFO     root: Iteration 2636: RMSE=3.1701, MAE=3.1701\n",
      "2025-02-09 13:38:39,731 [13068] INFO     root: Iteration 2637: RMSE=5.0666, MAE=5.0666\n",
      "2025-02-09 13:38:39,831 [13068] INFO     root: Iteration 2638: RMSE=2.4407, MAE=2.4407\n",
      "2025-02-09 13:38:39,913 [13068] INFO     root: Iteration 2639: RMSE=1.0341, MAE=1.0341\n",
      "2025-02-09 13:38:40,011 [13068] INFO     root: Iteration 2640: RMSE=1.9374, MAE=1.9374\n",
      "2025-02-09 13:38:40,448 [13068] INFO     root: Metrics pushed at iteration 2640. RMSE=1.9374, MAE=1.9374\n",
      "2025-02-09 13:38:40,533 [13068] INFO     root: Iteration 2641: RMSE=0.5329, MAE=0.5329\n",
      "2025-02-09 13:38:40,621 [13068] INFO     root: Iteration 2642: RMSE=1.0783, MAE=1.0783\n",
      "2025-02-09 13:38:40,715 [13068] INFO     root: Iteration 2643: RMSE=2.1020, MAE=2.1020\n",
      "2025-02-09 13:38:40,792 [13068] INFO     ml_monitor.logging: Starting metrics logging thread...\n",
      "2025-02-09 13:38:40,820 [13068] INFO     root: Iteration 2644: RMSE=2.4407, MAE=2.4407\n",
      "2025-02-09 13:38:40,919 [13068] INFO     root: Iteration 2645: RMSE=1.6668, MAE=1.6668\n",
      "2025-02-09 13:38:41,020 [13068] INFO     root: Iteration 2646: RMSE=0.6004, MAE=0.6004\n",
      "2025-02-09 13:38:41,170 [13068] INFO     root: Iteration 2647: RMSE=0.8280, MAE=0.8280\n",
      "2025-02-09 13:38:41,286 [13068] INFO     root: Iteration 2648: RMSE=2.6178, MAE=2.6178\n",
      "2025-02-09 13:38:41,388 [13068] INFO     root: Iteration 2649: RMSE=1.9374, MAE=1.9374\n",
      "2025-02-09 13:38:41,482 [13068] INFO     root: Iteration 2650: RMSE=0.5028, MAE=0.5028\n",
      "2025-02-09 13:38:41,585 [13068] INFO     root: Iteration 2651: RMSE=6.5607, MAE=6.5607\n",
      "2025-02-09 13:38:41,680 [13068] INFO     root: Iteration 2652: RMSE=5.8175, MAE=5.8175\n",
      "2025-02-09 13:38:41,789 [13068] INFO     root: Iteration 2653: RMSE=7.1880, MAE=7.1880\n",
      "2025-02-09 13:38:41,878 [13068] INFO     root: Iteration 2654: RMSE=0.9510, MAE=0.9510\n",
      "2025-02-09 13:38:41,968 [13068] INFO     root: Iteration 2655: RMSE=3.2372, MAE=3.2372\n",
      "2025-02-09 13:38:42,105 [13068] INFO     root: Iteration 2656: RMSE=4.2530, MAE=4.2530\n",
      "2025-02-09 13:38:42,205 [13068] INFO     root: Iteration 2657: RMSE=1.6861, MAE=1.6861\n",
      "2025-02-09 13:38:42,309 [13068] INFO     root: Iteration 2658: RMSE=2.5855, MAE=2.5855\n",
      "2025-02-09 13:38:42,409 [13068] INFO     root: Iteration 2659: RMSE=0.5423, MAE=0.5423\n",
      "2025-02-09 13:38:42,505 [13068] INFO     root: Iteration 2660: RMSE=1.9374, MAE=1.9374\n",
      "2025-02-09 13:38:42,606 [13068] INFO     root: Iteration 2661: RMSE=5.2814, MAE=5.2814\n",
      "2025-02-09 13:38:42,706 [13068] INFO     root: Iteration 2662: RMSE=2.1957, MAE=2.1957\n",
      "2025-02-09 13:38:42,798 [13068] INFO     root: Iteration 2663: RMSE=5.8175, MAE=5.8175\n",
      "2025-02-09 13:38:42,887 [13068] INFO     root: Iteration 2664: RMSE=0.1636, MAE=0.1636\n",
      "2025-02-09 13:38:42,988 [13068] INFO     root: Iteration 2665: RMSE=2.2823, MAE=2.2823\n",
      "2025-02-09 13:38:43,210 [13068] INFO     root: Iteration 2666: RMSE=0.1136, MAE=0.1136\n",
      "2025-02-09 13:38:43,330 [13068] INFO     root: Iteration 2667: RMSE=0.9510, MAE=0.9510\n",
      "2025-02-09 13:38:43,450 [13068] INFO     root: Iteration 2668: RMSE=0.4811, MAE=0.4811\n",
      "2025-02-09 13:38:43,563 [13068] INFO     root: Iteration 2669: RMSE=0.6367, MAE=0.6367\n",
      "2025-02-09 13:38:43,656 [13068] INFO     root: Iteration 2670: RMSE=15.7679, MAE=15.7679\n",
      "2025-02-09 13:38:43,758 [13068] INFO     root: Iteration 2671: RMSE=1.7797, MAE=1.7797\n",
      "2025-02-09 13:38:43,854 [13068] INFO     root: Iteration 2672: RMSE=2.4681, MAE=2.4681\n",
      "2025-02-09 13:38:43,957 [13068] INFO     root: Iteration 2673: RMSE=1.9374, MAE=1.9374\n",
      "2025-02-09 13:38:44,148 [13068] INFO     root: Iteration 2674: RMSE=1.0525, MAE=1.0525\n",
      "2025-02-09 13:38:44,265 [13068] INFO     root: Iteration 2675: RMSE=2.5855, MAE=2.5855\n",
      "2025-02-09 13:38:44,387 [13068] INFO     root: Iteration 2676: RMSE=3.0641, MAE=3.0641\n",
      "2025-02-09 13:38:44,478 [13068] INFO     root: Iteration 2677: RMSE=2.4681, MAE=2.4681\n",
      "2025-02-09 13:38:44,562 [13068] INFO     root: Iteration 2678: RMSE=0.1636, MAE=0.1636\n",
      "2025-02-09 13:38:44,662 [13068] INFO     root: Iteration 2679: RMSE=5.3491, MAE=5.3491\n",
      "2025-02-09 13:38:44,753 [13068] INFO     root: Iteration 2680: RMSE=0.8295, MAE=0.8295\n",
      "2025-02-09 13:38:44,842 [13068] INFO     root: Iteration 2681: RMSE=0.2922, MAE=0.2922\n",
      "2025-02-09 13:38:44,938 [13068] INFO     root: Iteration 2682: RMSE=6.5607, MAE=6.5607\n",
      "2025-02-09 13:38:45,030 [13068] INFO     root: Iteration 2683: RMSE=0.6820, MAE=0.6820\n",
      "2025-02-09 13:38:45,165 [13068] INFO     root: Iteration 2684: RMSE=4.3700, MAE=4.3700\n",
      "2025-02-09 13:38:45,270 [13068] INFO     root: Iteration 2685: RMSE=4.3271, MAE=4.3271\n",
      "2025-02-09 13:38:45,358 [13068] INFO     root: Iteration 2686: RMSE=0.6004, MAE=0.6004\n",
      "2025-02-09 13:38:45,460 [13068] INFO     root: Iteration 2687: RMSE=1.9024, MAE=1.9024\n",
      "2025-02-09 13:38:45,567 [13068] INFO     root: Iteration 2688: RMSE=0.6277, MAE=0.6277\n",
      "2025-02-09 13:38:45,669 [13068] INFO     root: Iteration 2689: RMSE=1.0783, MAE=1.0783\n",
      "2025-02-09 13:38:45,751 [13068] INFO     root: Iteration 2690: RMSE=1.9880, MAE=1.9880\n",
      "2025-02-09 13:38:45,806 [13068] INFO     ml_monitor.logging: Starting metrics logging thread...\n",
      "2025-02-09 13:38:45,852 [13068] INFO     root: Iteration 2691: RMSE=5.1385, MAE=5.1385\n",
      "2025-02-09 13:38:45,933 [13068] INFO     root: Iteration 2692: RMSE=5.8175, MAE=5.8175\n",
      "2025-02-09 13:38:46,022 [13068] INFO     root: Iteration 2693: RMSE=0.5028, MAE=0.5028\n",
      "2025-02-09 13:38:46,110 [13068] INFO     root: Iteration 2694: RMSE=4.8742, MAE=4.8742\n",
      "2025-02-09 13:38:46,193 [13068] INFO     root: Iteration 2695: RMSE=3.6498, MAE=3.6498\n",
      "2025-02-09 13:38:46,302 [13068] INFO     root: Iteration 2696: RMSE=15.7679, MAE=15.7679\n",
      "2025-02-09 13:38:46,385 [13068] INFO     root: Iteration 2697: RMSE=21.1875, MAE=21.1875\n",
      "2025-02-09 13:38:46,523 [13068] INFO     root: Iteration 2698: RMSE=3.6498, MAE=3.6498\n",
      "2025-02-09 13:38:46,614 [13068] INFO     root: Iteration 2699: RMSE=1.9024, MAE=1.9024\n",
      "2025-02-09 13:38:46,708 [13068] INFO     root: Iteration 2700: RMSE=0.0894, MAE=0.0894\n",
      "2025-02-09 13:38:46,797 [13068] INFO     root: Iteration 2701: RMSE=0.8360, MAE=0.8360\n",
      "2025-02-09 13:38:46,888 [13068] INFO     root: Iteration 2702: RMSE=1.0525, MAE=1.0525\n",
      "2025-02-09 13:38:46,979 [13068] INFO     root: Iteration 2703: RMSE=5.1385, MAE=5.1385\n",
      "2025-02-09 13:38:47,071 [13068] INFO     root: Iteration 2704: RMSE=0.4554, MAE=0.4554\n",
      "2025-02-09 13:38:47,166 [13068] INFO     root: Iteration 2705: RMSE=4.3271, MAE=4.3271\n",
      "2025-02-09 13:38:47,255 [13068] INFO     root: Iteration 2706: RMSE=4.2530, MAE=4.2530\n",
      "2025-02-09 13:38:47,409 [13068] INFO     root: Iteration 2707: RMSE=3.0048, MAE=3.0048\n",
      "2025-02-09 13:38:47,506 [13068] INFO     root: Iteration 2708: RMSE=0.8360, MAE=0.8360\n",
      "2025-02-09 13:38:47,605 [13068] INFO     root: Iteration 2709: RMSE=0.6863, MAE=0.6863\n",
      "2025-02-09 13:38:47,711 [13068] INFO     root: Iteration 2710: RMSE=4.3700, MAE=4.3700\n",
      "2025-02-09 13:38:47,805 [13068] INFO     root: Iteration 2711: RMSE=0.9201, MAE=0.9201\n",
      "2025-02-09 13:38:47,903 [13068] INFO     root: Iteration 2712: RMSE=1.6668, MAE=1.6668\n",
      "2025-02-09 13:38:47,991 [13068] INFO     root: Iteration 2713: RMSE=2.2324, MAE=2.2324\n",
      "2025-02-09 13:38:48,096 [13068] INFO     root: Iteration 2714: RMSE=1.3227, MAE=1.3227\n",
      "2025-02-09 13:38:48,215 [13068] INFO     root: Iteration 2715: RMSE=0.0894, MAE=0.0894\n",
      "2025-02-09 13:38:48,383 [13068] INFO     root: Iteration 2716: RMSE=2.8002, MAE=2.8002\n",
      "2025-02-09 13:38:48,500 [13068] INFO     root: Iteration 2717: RMSE=0.8280, MAE=0.8280\n",
      "2025-02-09 13:38:48,596 [13068] INFO     root: Iteration 2718: RMSE=2.8002, MAE=2.8002\n",
      "2025-02-09 13:38:48,725 [13068] INFO     root: Iteration 2719: RMSE=2.6178, MAE=2.6178\n",
      "2025-02-09 13:38:48,853 [13068] INFO     root: Iteration 2720: RMSE=0.6820, MAE=0.6820\n",
      "2025-02-09 13:38:48,955 [13068] INFO     root: Iteration 2721: RMSE=0.1640, MAE=0.1640\n",
      "2025-02-09 13:38:49,055 [13068] INFO     root: Iteration 2722: RMSE=0.0894, MAE=0.0894\n",
      "2025-02-09 13:38:49,150 [13068] INFO     root: Iteration 2723: RMSE=0.9690, MAE=0.9690\n",
      "2025-02-09 13:38:49,244 [13068] INFO     root: Iteration 2724: RMSE=0.6863, MAE=0.6863\n",
      "2025-02-09 13:38:49,387 [13068] INFO     root: Iteration 2725: RMSE=2.8002, MAE=2.8002\n",
      "2025-02-09 13:38:49,495 [13068] INFO     root: Iteration 2726: RMSE=0.5423, MAE=0.5423\n",
      "2025-02-09 13:38:49,600 [13068] INFO     root: Iteration 2727: RMSE=1.5289, MAE=1.5289\n",
      "2025-02-09 13:38:49,691 [13068] INFO     root: Iteration 2728: RMSE=0.8280, MAE=0.8280\n",
      "2025-02-09 13:38:49,796 [13068] INFO     root: Iteration 2729: RMSE=0.2445, MAE=0.2445\n",
      "2025-02-09 13:38:49,906 [13068] INFO     root: Iteration 2730: RMSE=0.8502, MAE=0.8502\n",
      "2025-02-09 13:38:49,996 [13068] INFO     root: Iteration 2731: RMSE=3.9035, MAE=3.9035\n",
      "2025-02-09 13:38:50,094 [13068] INFO     root: Iteration 2732: RMSE=0.6277, MAE=0.6277\n",
      "2025-02-09 13:38:50,624 [13068] INFO     root: Metrics pushed at iteration 2732. RMSE=0.6277, MAE=0.6277\n",
      "2025-02-09 13:38:50,716 [13068] INFO     root: Iteration 2733: RMSE=5.8811, MAE=5.8811\n",
      "2025-02-09 13:38:50,832 [13068] INFO     ml_monitor.logging: Starting metrics logging thread...\n",
      "2025-02-09 13:38:50,883 [13068] INFO     root: Iteration 2734: RMSE=7.1962, MAE=7.1962\n",
      "2025-02-09 13:38:51,076 [13068] INFO     root: Iteration 2735: RMSE=4.2272, MAE=4.2272\n",
      "2025-02-09 13:38:51,255 [13068] INFO     root: Iteration 2736: RMSE=2.1281, MAE=2.1281\n",
      "2025-02-09 13:38:51,391 [13068] INFO     root: Iteration 2737: RMSE=0.9201, MAE=0.9201\n",
      "2025-02-09 13:38:51,549 [13068] INFO     root: Iteration 2738: RMSE=1.9954, MAE=1.9954\n",
      "2025-02-09 13:38:51,681 [13068] INFO     root: Iteration 2739: RMSE=1.6668, MAE=1.6668\n",
      "2025-02-09 13:38:51,790 [13068] INFO     root: Iteration 2740: RMSE=4.8742, MAE=4.8742\n",
      "2025-02-09 13:38:51,891 [13068] INFO     root: Iteration 2741: RMSE=0.1550, MAE=0.1550\n",
      "2025-02-09 13:38:52,002 [13068] INFO     root: Iteration 2742: RMSE=2.2823, MAE=2.2823\n",
      "2025-02-09 13:38:52,116 [13068] INFO     root: Iteration 2743: RMSE=2.4681, MAE=2.4681\n",
      "2025-02-09 13:38:52,226 [13068] INFO     root: Iteration 2744: RMSE=1.9891, MAE=1.9891\n",
      "2025-02-09 13:38:52,488 [13068] INFO     root: Iteration 2745: RMSE=2.5855, MAE=2.5855\n",
      "2025-02-09 13:38:52,637 [13068] INFO     root: Iteration 2746: RMSE=0.6863, MAE=0.6863\n",
      "2025-02-09 13:38:52,764 [13068] INFO     root: Iteration 2747: RMSE=0.5329, MAE=0.5329\n",
      "2025-02-09 13:38:52,874 [13068] INFO     root: Iteration 2748: RMSE=0.1640, MAE=0.1640\n",
      "2025-02-09 13:38:52,988 [13068] INFO     root: Iteration 2749: RMSE=5.1385, MAE=5.1385\n",
      "2025-02-09 13:38:53,101 [13068] INFO     root: Iteration 2750: RMSE=2.1957, MAE=2.1957\n",
      "2025-02-09 13:38:53,214 [13068] INFO     root: Iteration 2751: RMSE=0.8502, MAE=0.8502\n",
      "2025-02-09 13:38:53,338 [13068] INFO     root: Iteration 2752: RMSE=0.9201, MAE=0.9201\n",
      "2025-02-09 13:38:53,465 [13068] INFO     root: Iteration 2753: RMSE=4.2619, MAE=4.2619\n",
      "2025-02-09 13:38:53,569 [13068] INFO     root: Iteration 2754: RMSE=1.2010, MAE=1.2010\n",
      "2025-02-09 13:38:53,690 [13068] INFO     root: Iteration 2755: RMSE=0.8360, MAE=0.8360\n",
      "2025-02-09 13:38:53,805 [13068] INFO     root: Iteration 2756: RMSE=0.0894, MAE=0.0894\n",
      "2025-02-09 13:38:53,914 [13068] INFO     root: Iteration 2757: RMSE=2.9898, MAE=2.9898\n",
      "2025-02-09 13:38:54,040 [13068] INFO     root: Iteration 2758: RMSE=5.2814, MAE=5.2814\n",
      "2025-02-09 13:38:54,239 [13068] INFO     root: Iteration 2759: RMSE=0.4811, MAE=0.4811\n",
      "2025-02-09 13:38:54,373 [13068] INFO     root: Iteration 2760: RMSE=3.0812, MAE=3.0812\n",
      "2025-02-09 13:38:54,493 [13068] INFO     root: Iteration 2761: RMSE=2.2324, MAE=2.2324\n",
      "2025-02-09 13:38:54,623 [13068] INFO     root: Iteration 2762: RMSE=1.3227, MAE=1.3227\n",
      "2025-02-09 13:38:54,741 [13068] INFO     root: Iteration 2763: RMSE=0.1640, MAE=0.1640\n",
      "2025-02-09 13:38:54,858 [13068] INFO     root: Iteration 2764: RMSE=0.9510, MAE=0.9510\n",
      "2025-02-09 13:38:54,971 [13068] INFO     root: Iteration 2765: RMSE=5.1399, MAE=5.1399\n",
      "2025-02-09 13:38:55,089 [13068] INFO     root: Iteration 2766: RMSE=0.5028, MAE=0.5028\n",
      "2025-02-09 13:38:55,196 [13068] INFO     root: Iteration 2767: RMSE=3.0048, MAE=3.0048\n",
      "2025-02-09 13:38:55,312 [13068] INFO     root: Iteration 2768: RMSE=2.4407, MAE=2.4407\n",
      "2025-02-09 13:38:55,413 [13068] INFO     root: Iteration 2769: RMSE=2.7728, MAE=2.7728\n",
      "2025-02-09 13:38:55,522 [13068] INFO     root: Iteration 2770: RMSE=0.0329, MAE=0.0329\n",
      "2025-02-09 13:38:55,622 [13068] INFO     root: Iteration 2771: RMSE=3.9228, MAE=3.9228\n",
      "2025-02-09 13:38:55,747 [13068] INFO     root: Iteration 2772: RMSE=4.2272, MAE=4.2272\n",
      "2025-02-09 13:38:55,874 [13068] INFO     ml_monitor.logging: Starting metrics logging thread...\n",
      "2025-02-09 13:38:55,910 [13068] INFO     root: Iteration 2773: RMSE=1.0341, MAE=1.0341\n",
      "2025-02-09 13:38:56,017 [13068] INFO     root: Iteration 2774: RMSE=0.1550, MAE=0.1550\n",
      "2025-02-09 13:38:56,124 [13068] INFO     root: Iteration 2775: RMSE=2.4681, MAE=2.4681\n",
      "2025-02-09 13:38:56,230 [13068] INFO     root: Iteration 2776: RMSE=0.1640, MAE=0.1640\n",
      "2025-02-09 13:38:56,336 [13068] INFO     root: Iteration 2777: RMSE=0.8360, MAE=0.8360\n",
      "2025-02-09 13:38:56,446 [13068] INFO     root: Iteration 2778: RMSE=5.2814, MAE=5.2814\n",
      "2025-02-09 13:38:56,541 [13068] INFO     root: Iteration 2779: RMSE=2.4407, MAE=2.4407\n",
      "2025-02-09 13:38:56,638 [13068] INFO     root: Iteration 2780: RMSE=7.4122, MAE=7.4122\n",
      "2025-02-09 13:38:56,728 [13068] INFO     root: Iteration 2781: RMSE=0.1640, MAE=0.1640\n",
      "2025-02-09 13:38:56,862 [13068] INFO     root: Iteration 2782: RMSE=5.2814, MAE=5.2814\n",
      "2025-02-09 13:38:56,963 [13068] INFO     root: Iteration 2783: RMSE=1.7964, MAE=1.7964\n",
      "2025-02-09 13:38:57,062 [13068] INFO     root: Iteration 2784: RMSE=4.2619, MAE=4.2619\n",
      "2025-02-09 13:38:57,150 [13068] INFO     root: Iteration 2785: RMSE=7.1880, MAE=7.1880\n",
      "2025-02-09 13:38:57,239 [13068] INFO     root: Iteration 2786: RMSE=4.8742, MAE=4.8742\n",
      "2025-02-09 13:38:57,336 [13068] INFO     root: Iteration 2787: RMSE=0.0894, MAE=0.0894\n",
      "2025-02-09 13:38:57,485 [13068] INFO     root: Iteration 2788: RMSE=4.2530, MAE=4.2530\n",
      "2025-02-09 13:38:57,581 [13068] INFO     root: Iteration 2789: RMSE=7.1962, MAE=7.1962\n",
      "2025-02-09 13:38:57,669 [13068] INFO     root: Iteration 2790: RMSE=1.7797, MAE=1.7797\n",
      "2025-02-09 13:38:57,756 [13068] INFO     root: Iteration 2791: RMSE=2.6178, MAE=2.6178\n",
      "2025-02-09 13:38:57,836 [13068] INFO     root: Iteration 2792: RMSE=1.9470, MAE=1.9470\n",
      "2025-02-09 13:38:57,924 [13068] INFO     root: Iteration 2793: RMSE=2.1020, MAE=2.1020\n",
      "2025-02-09 13:38:58,029 [13068] INFO     root: Iteration 2794: RMSE=1.2345, MAE=1.2345\n",
      "2025-02-09 13:38:58,121 [13068] INFO     root: Iteration 2795: RMSE=0.0190, MAE=0.0190\n",
      "2025-02-09 13:38:58,202 [13068] INFO     root: Iteration 2796: RMSE=3.0812, MAE=3.0812\n",
      "2025-02-09 13:38:58,289 [13068] INFO     root: Iteration 2797: RMSE=2.4407, MAE=2.4407\n",
      "2025-02-09 13:38:58,393 [13068] INFO     root: Iteration 2798: RMSE=1.3937, MAE=1.3937\n",
      "2025-02-09 13:38:58,485 [13068] INFO     root: Iteration 2799: RMSE=2.7728, MAE=2.7728\n",
      "2025-02-09 13:38:58,586 [13068] INFO     root: Iteration 2800: RMSE=7.1962, MAE=7.1962\n",
      "2025-02-09 13:38:58,721 [13068] INFO     root: Iteration 2801: RMSE=2.1281, MAE=2.1281\n",
      "2025-02-09 13:38:58,820 [13068] INFO     root: Iteration 2802: RMSE=3.2372, MAE=3.2372\n",
      "2025-02-09 13:38:58,907 [13068] INFO     root: Iteration 2803: RMSE=2.5855, MAE=2.5855\n",
      "2025-02-09 13:38:59,000 [13068] INFO     root: Iteration 2804: RMSE=2.9898, MAE=2.9898\n",
      "2025-02-09 13:38:59,088 [13068] INFO     root: Iteration 2805: RMSE=0.6820, MAE=0.6820\n",
      "2025-02-09 13:38:59,190 [13068] INFO     root: Iteration 2806: RMSE=3.0812, MAE=3.0812\n",
      "2025-02-09 13:38:59,294 [13068] INFO     root: Iteration 2807: RMSE=4.3271, MAE=4.3271\n",
      "2025-02-09 13:38:59,391 [13068] INFO     root: Iteration 2808: RMSE=0.5028, MAE=0.5028\n",
      "2025-02-09 13:38:59,502 [13068] INFO     root: Iteration 2809: RMSE=6.4895, MAE=6.4895\n",
      "2025-02-09 13:38:59,602 [13068] INFO     root: Iteration 2810: RMSE=0.1636, MAE=0.1636\n",
      "2025-02-09 13:38:59,712 [13068] INFO     root: Iteration 2811: RMSE=1.9891, MAE=1.9891\n",
      "2025-02-09 13:38:59,802 [13068] INFO     root: Iteration 2812: RMSE=4.2733, MAE=4.2733\n",
      "2025-02-09 13:38:59,889 [13068] INFO     root: Iteration 2813: RMSE=0.9176, MAE=0.9176\n",
      "2025-02-09 13:38:59,977 [13068] INFO     root: Iteration 2814: RMSE=2.1957, MAE=2.1957\n",
      "2025-02-09 13:39:00,064 [13068] INFO     root: Iteration 2815: RMSE=2.6178, MAE=2.6178\n",
      "2025-02-09 13:39:00,155 [13068] INFO     root: Iteration 2816: RMSE=0.5028, MAE=0.5028\n",
      "2025-02-09 13:39:00,563 [13068] INFO     root: Metrics pushed at iteration 2816. RMSE=0.5028, MAE=0.5028\n",
      "2025-02-09 13:39:00,643 [13068] INFO     root: Iteration 2817: RMSE=2.2823, MAE=2.2823\n",
      "2025-02-09 13:39:00,730 [13068] INFO     root: Iteration 2818: RMSE=0.6277, MAE=0.6277\n",
      "2025-02-09 13:39:00,854 [13068] INFO     root: Iteration 2819: RMSE=3.0641, MAE=3.0641\n",
      "2025-02-09 13:39:00,906 [13068] INFO     ml_monitor.logging: Starting metrics logging thread...\n",
      "2025-02-09 13:39:00,949 [13068] INFO     root: Iteration 2820: RMSE=2.1281, MAE=2.1281\n",
      "2025-02-09 13:39:01,031 [13068] INFO     root: Iteration 2821: RMSE=2.7728, MAE=2.7728\n",
      "2025-02-09 13:39:01,111 [13068] INFO     root: Iteration 2822: RMSE=0.9201, MAE=0.9201\n",
      "2025-02-09 13:39:01,201 [13068] INFO     root: Iteration 2823: RMSE=0.6004, MAE=0.6004\n",
      "2025-02-09 13:39:01,311 [13068] INFO     root: Iteration 2824: RMSE=0.4278, MAE=0.4278\n",
      "2025-02-09 13:39:01,411 [13068] INFO     root: Iteration 2825: RMSE=1.7964, MAE=1.7964\n",
      "2025-02-09 13:39:01,499 [13068] INFO     root: Iteration 2826: RMSE=5.0666, MAE=5.0666\n",
      "2025-02-09 13:39:01,594 [13068] INFO     root: Iteration 2827: RMSE=2.1020, MAE=2.1020\n",
      "2025-02-09 13:39:01,685 [13068] INFO     root: Iteration 2828: RMSE=0.8502, MAE=0.8502\n",
      "2025-02-09 13:39:01,773 [13068] INFO     root: Iteration 2829: RMSE=3.1092, MAE=3.1092\n",
      "2025-02-09 13:39:01,861 [13068] INFO     root: Iteration 2830: RMSE=1.9891, MAE=1.9891\n",
      "2025-02-09 13:39:01,955 [13068] INFO     root: Iteration 2831: RMSE=1.9880, MAE=1.9880\n",
      "2025-02-09 13:39:02,047 [13068] INFO     root: Iteration 2832: RMSE=0.2445, MAE=0.2445\n",
      "2025-02-09 13:39:02,129 [13068] INFO     root: Iteration 2833: RMSE=0.6863, MAE=0.6863\n",
      "2025-02-09 13:39:02,214 [13068] INFO     root: Iteration 2834: RMSE=1.3227, MAE=1.3227\n",
      "2025-02-09 13:39:02,303 [13068] INFO     root: Iteration 2835: RMSE=5.0666, MAE=5.0666\n",
      "2025-02-09 13:39:02,441 [13068] INFO     root: Iteration 2836: RMSE=0.1640, MAE=0.1640\n",
      "2025-02-09 13:39:02,538 [13068] INFO     root: Iteration 2837: RMSE=2.2319, MAE=2.2319\n",
      "2025-02-09 13:39:02,642 [13068] INFO     root: Iteration 2838: RMSE=15.7679, MAE=15.7679\n",
      "2025-02-09 13:39:02,739 [13068] INFO     root: Iteration 2839: RMSE=2.1957, MAE=2.1957\n",
      "2025-02-09 13:39:02,839 [13068] INFO     root: Iteration 2840: RMSE=0.6004, MAE=0.6004\n",
      "2025-02-09 13:39:02,952 [13068] INFO     root: Iteration 2841: RMSE=0.5329, MAE=0.5329\n",
      "2025-02-09 13:39:03,038 [13068] INFO     root: Iteration 2842: RMSE=0.1636, MAE=0.1636\n",
      "2025-02-09 13:39:03,132 [13068] INFO     root: Iteration 2843: RMSE=4.8742, MAE=4.8742\n",
      "2025-02-09 13:39:03,276 [13068] INFO     root: Iteration 2844: RMSE=1.6668, MAE=1.6668\n",
      "2025-02-09 13:39:03,363 [13068] INFO     root: Iteration 2845: RMSE=0.4811, MAE=0.4811\n",
      "2025-02-09 13:39:03,450 [13068] INFO     root: Iteration 2846: RMSE=1.5147, MAE=1.5147\n",
      "2025-02-09 13:39:03,538 [13068] INFO     root: Iteration 2847: RMSE=4.8742, MAE=4.8742\n",
      "2025-02-09 13:39:03,632 [13068] INFO     root: Iteration 2848: RMSE=1.9024, MAE=1.9024\n",
      "2025-02-09 13:39:03,741 [13068] INFO     root: Iteration 2849: RMSE=3.0812, MAE=3.0812\n",
      "2025-02-09 13:39:03,821 [13068] INFO     root: Iteration 2850: RMSE=0.4811, MAE=0.4811\n",
      "2025-02-09 13:39:03,915 [13068] INFO     root: Iteration 2851: RMSE=3.0641, MAE=3.0641\n",
      "2025-02-09 13:39:04,009 [13068] INFO     root: Iteration 2852: RMSE=0.9201, MAE=0.9201\n",
      "2025-02-09 13:39:04,121 [13068] INFO     root: Iteration 2853: RMSE=0.5423, MAE=0.5423\n",
      "2025-02-09 13:39:04,226 [13068] INFO     root: Iteration 2854: RMSE=0.6367, MAE=0.6367\n",
      "2025-02-09 13:39:04,314 [13068] INFO     root: Iteration 2855: RMSE=0.5329, MAE=0.5329\n",
      "2025-02-09 13:39:04,505 [13068] INFO     root: Iteration 2856: RMSE=3.9035, MAE=3.9035\n",
      "2025-02-09 13:39:04,622 [13068] INFO     root: Iteration 2857: RMSE=1.3937, MAE=1.3937\n",
      "2025-02-09 13:39:04,735 [13068] INFO     root: Iteration 2858: RMSE=1.6668, MAE=1.6668\n",
      "2025-02-09 13:39:04,855 [13068] INFO     root: Iteration 2859: RMSE=2.1020, MAE=2.1020\n",
      "2025-02-09 13:39:04,962 [13068] INFO     root: Iteration 2860: RMSE=5.8811, MAE=5.8811\n",
      "2025-02-09 13:39:05,080 [13068] INFO     root: Iteration 2861: RMSE=5.1399, MAE=5.1399\n",
      "2025-02-09 13:39:05,176 [13068] INFO     root: Iteration 2862: RMSE=2.4091, MAE=2.4091\n",
      "2025-02-09 13:39:05,347 [13068] INFO     root: Iteration 2863: RMSE=0.0329, MAE=0.0329\n",
      "2025-02-09 13:39:05,455 [13068] INFO     root: Iteration 2864: RMSE=0.6004, MAE=0.6004\n",
      "2025-02-09 13:39:05,553 [13068] INFO     root: Iteration 2865: RMSE=0.2445, MAE=0.2445\n",
      "2025-02-09 13:39:05,655 [13068] INFO     root: Iteration 2866: RMSE=2.2324, MAE=2.2324\n",
      "2025-02-09 13:39:05,750 [13068] INFO     root: Iteration 2867: RMSE=1.2345, MAE=1.2345\n",
      "2025-02-09 13:39:05,841 [13068] INFO     root: Iteration 2868: RMSE=1.0783, MAE=1.0783\n",
      "2025-02-09 13:39:05,931 [13068] INFO     root: Iteration 2869: RMSE=0.6004, MAE=0.6004\n",
      "2025-02-09 13:39:05,932 [13068] INFO     ml_monitor.logging: Starting metrics logging thread...\n",
      "2025-02-09 13:39:06,035 [13068] INFO     root: Iteration 2870: RMSE=0.8360, MAE=0.8360\n",
      "2025-02-09 13:39:06,117 [13068] INFO     root: Iteration 2871: RMSE=0.9510, MAE=0.9510\n",
      "2025-02-09 13:39:06,207 [13068] INFO     root: Iteration 2872: RMSE=0.4278, MAE=0.4278\n",
      "2025-02-09 13:39:06,306 [13068] INFO     root: Iteration 2873: RMSE=0.1636, MAE=0.1636\n",
      "2025-02-09 13:39:06,382 [13068] INFO     root: Iteration 2874: RMSE=4.3271, MAE=4.3271\n",
      "2025-02-09 13:39:06,469 [13068] INFO     root: Iteration 2875: RMSE=0.8360, MAE=0.8360\n",
      "2025-02-09 13:39:06,574 [13068] INFO     root: Iteration 2876: RMSE=2.2319, MAE=2.2319\n",
      "2025-02-09 13:39:06,728 [13068] INFO     root: Iteration 2877: RMSE=6.3484, MAE=6.3484\n",
      "2025-02-09 13:39:06,834 [13068] INFO     root: Iteration 2878: RMSE=0.1640, MAE=0.1640\n",
      "2025-02-09 13:39:06,925 [13068] INFO     root: Iteration 2879: RMSE=0.6367, MAE=0.6367\n",
      "2025-02-09 13:39:07,025 [13068] INFO     root: Iteration 2880: RMSE=2.4091, MAE=2.4091\n",
      "2025-02-09 13:39:07,115 [13068] INFO     root: Iteration 2881: RMSE=1.6861, MAE=1.6861\n",
      "2025-02-09 13:39:07,210 [13068] INFO     root: Iteration 2882: RMSE=3.0048, MAE=3.0048\n",
      "2025-02-09 13:39:07,307 [13068] INFO     root: Iteration 2883: RMSE=0.8502, MAE=0.8502\n",
      "2025-02-09 13:39:07,401 [13068] INFO     root: Iteration 2884: RMSE=3.0812, MAE=3.0812\n",
      "2025-02-09 13:39:07,501 [13068] INFO     root: Iteration 2885: RMSE=0.5329, MAE=0.5329\n",
      "2025-02-09 13:39:07,646 [13068] INFO     root: Iteration 2886: RMSE=3.1701, MAE=3.1701\n",
      "2025-02-09 13:39:07,733 [13068] INFO     root: Iteration 2887: RMSE=0.4053, MAE=0.4053\n",
      "2025-02-09 13:39:07,832 [13068] INFO     root: Iteration 2888: RMSE=2.1957, MAE=2.1957\n",
      "2025-02-09 13:39:07,934 [13068] INFO     root: Iteration 2889: RMSE=0.2356, MAE=0.2356\n",
      "2025-02-09 13:39:08,027 [13068] INFO     root: Iteration 2890: RMSE=1.9891, MAE=1.9891\n",
      "2025-02-09 13:39:08,119 [13068] INFO     root: Iteration 2891: RMSE=5.3491, MAE=5.3491\n",
      "2025-02-09 13:39:08,207 [13068] INFO     root: Iteration 2892: RMSE=3.2950, MAE=3.2950\n",
      "2025-02-09 13:39:08,299 [13068] INFO     root: Iteration 2893: RMSE=1.9954, MAE=1.9954\n",
      "2025-02-09 13:39:08,380 [13068] INFO     root: Iteration 2894: RMSE=3.9035, MAE=3.9035\n",
      "2025-02-09 13:39:08,471 [13068] INFO     root: Iteration 2895: RMSE=2.4091, MAE=2.4091\n",
      "2025-02-09 13:39:08,569 [13068] INFO     root: Iteration 2896: RMSE=2.8002, MAE=2.8002\n",
      "2025-02-09 13:39:08,672 [13068] INFO     root: Iteration 2897: RMSE=7.1962, MAE=7.1962\n",
      "2025-02-09 13:39:08,776 [13068] INFO     root: Iteration 2898: RMSE=0.6277, MAE=0.6277\n",
      "2025-02-09 13:39:08,875 [13068] INFO     root: Iteration 2899: RMSE=1.7797, MAE=1.7797\n",
      "2025-02-09 13:39:08,974 [13068] INFO     root: Iteration 2900: RMSE=7.1962, MAE=7.1962\n",
      "2025-02-09 13:39:09,070 [13068] INFO     root: Iteration 2901: RMSE=2.1020, MAE=2.1020\n",
      "2025-02-09 13:39:09,169 [13068] INFO     root: Iteration 2902: RMSE=1.9891, MAE=1.9891\n",
      "2025-02-09 13:39:09,272 [13068] INFO     root: Iteration 2903: RMSE=2.2823, MAE=2.2823\n",
      "2025-02-09 13:39:09,383 [13068] INFO     root: Iteration 2904: RMSE=1.9834, MAE=1.9834\n",
      "2025-02-09 13:39:09,544 [13068] INFO     root: Iteration 2905: RMSE=2.4681, MAE=2.4681\n",
      "2025-02-09 13:39:09,660 [13068] INFO     root: Iteration 2906: RMSE=1.0837, MAE=1.0837\n",
      "2025-02-09 13:39:09,775 [13068] INFO     root: Iteration 2907: RMSE=0.0894, MAE=0.0894\n",
      "2025-02-09 13:39:09,874 [13068] INFO     root: Iteration 2908: RMSE=0.2356, MAE=0.2356\n",
      "2025-02-09 13:39:09,981 [13068] INFO     root: Iteration 2909: RMSE=0.1636, MAE=0.1636\n",
      "2025-02-09 13:39:10,080 [13068] INFO     root: Iteration 2910: RMSE=5.0666, MAE=5.0666\n",
      "2025-02-09 13:39:10,189 [13068] INFO     root: Iteration 2911: RMSE=7.4122, MAE=7.4122\n",
      "2025-02-09 13:39:10,736 [13068] INFO     root: Metrics pushed at iteration 2911. RMSE=7.4122, MAE=7.4122\n",
      "2025-02-09 13:39:10,834 [13068] INFO     root: Iteration 2912: RMSE=7.1880, MAE=7.1880\n",
      "2025-02-09 13:39:10,957 [13068] INFO     ml_monitor.logging: Starting metrics logging thread...\n",
      "2025-02-09 13:39:10,998 [13068] INFO     root: Iteration 2913: RMSE=1.6861, MAE=1.6861\n",
      "2025-02-09 13:39:11,106 [13068] INFO     root: Iteration 2914: RMSE=0.9201, MAE=0.9201\n",
      "2025-02-09 13:39:11,213 [13068] INFO     root: Iteration 2915: RMSE=7.1962, MAE=7.1962\n",
      "2025-02-09 13:39:11,325 [13068] INFO     root: Iteration 2916: RMSE=3.9228, MAE=3.9228\n",
      "2025-02-09 13:39:11,452 [13068] INFO     root: Iteration 2917: RMSE=1.3937, MAE=1.3937\n",
      "2025-02-09 13:39:11,552 [13068] INFO     root: Iteration 2918: RMSE=15.7679, MAE=15.7679\n",
      "2025-02-09 13:39:11,684 [13068] INFO     root: Iteration 2919: RMSE=1.0837, MAE=1.0837\n",
      "2025-02-09 13:39:11,797 [13068] INFO     root: Iteration 2920: RMSE=3.1701, MAE=3.1701\n",
      "2025-02-09 13:39:11,894 [13068] INFO     root: Iteration 2921: RMSE=2.7728, MAE=2.7728\n",
      "2025-02-09 13:39:11,985 [13068] INFO     root: Iteration 2922: RMSE=1.0783, MAE=1.0783\n",
      "2025-02-09 13:39:12,086 [13068] INFO     root: Iteration 2923: RMSE=0.1550, MAE=0.1550\n",
      "2025-02-09 13:39:12,176 [13068] INFO     root: Iteration 2924: RMSE=0.9176, MAE=0.9176\n",
      "2025-02-09 13:39:12,262 [13068] INFO     root: Iteration 2925: RMSE=5.1399, MAE=5.1399\n",
      "2025-02-09 13:39:12,353 [13068] INFO     root: Iteration 2926: RMSE=0.2356, MAE=0.2356\n",
      "2025-02-09 13:39:12,503 [13068] INFO     root: Iteration 2927: RMSE=5.8811, MAE=5.8811\n",
      "2025-02-09 13:39:12,596 [13068] INFO     root: Iteration 2928: RMSE=7.1962, MAE=7.1962\n",
      "2025-02-09 13:39:12,692 [13068] INFO     root: Iteration 2929: RMSE=0.8280, MAE=0.8280\n",
      "2025-02-09 13:39:12,776 [13068] INFO     root: Iteration 2930: RMSE=1.6668, MAE=1.6668\n",
      "2025-02-09 13:39:12,861 [13068] INFO     root: Iteration 2931: RMSE=1.9954, MAE=1.9954\n",
      "2025-02-09 13:39:12,960 [13068] INFO     root: Iteration 2932: RMSE=7.4122, MAE=7.4122\n",
      "2025-02-09 13:39:13,064 [13068] INFO     root: Iteration 2933: RMSE=0.2922, MAE=0.2922\n",
      "2025-02-09 13:39:13,173 [13068] INFO     root: Iteration 2934: RMSE=0.1636, MAE=0.1636\n",
      "2025-02-09 13:39:13,275 [13068] INFO     root: Iteration 2935: RMSE=0.0190, MAE=0.0190\n",
      "2025-02-09 13:39:13,384 [13068] INFO     root: Iteration 2936: RMSE=1.0341, MAE=1.0341\n",
      "2025-02-09 13:39:13,493 [13068] INFO     root: Iteration 2937: RMSE=3.9228, MAE=3.9228\n",
      "2025-02-09 13:39:13,579 [13068] INFO     root: Iteration 2938: RMSE=0.1550, MAE=0.1550\n",
      "2025-02-09 13:39:13,675 [13068] INFO     root: Iteration 2939: RMSE=2.8002, MAE=2.8002\n",
      "2025-02-09 13:39:13,809 [13068] INFO     root: Iteration 2940: RMSE=0.8280, MAE=0.8280\n",
      "2025-02-09 13:39:13,902 [13068] INFO     root: Iteration 2941: RMSE=4.2530, MAE=4.2530\n",
      "2025-02-09 13:39:14,005 [13068] INFO     root: Iteration 2942: RMSE=1.0341, MAE=1.0341\n",
      "2025-02-09 13:39:14,102 [13068] INFO     root: Iteration 2943: RMSE=1.5147, MAE=1.5147\n",
      "2025-02-09 13:39:14,187 [13068] INFO     root: Iteration 2944: RMSE=4.2619, MAE=4.2619\n",
      "2025-02-09 13:39:14,273 [13068] INFO     root: Iteration 2945: RMSE=2.2324, MAE=2.2324\n",
      "2025-02-09 13:39:14,360 [13068] INFO     root: Iteration 2946: RMSE=2.7746, MAE=2.7746\n",
      "2025-02-09 13:39:14,450 [13068] INFO     root: Iteration 2947: RMSE=2.4407, MAE=2.4407\n",
      "2025-02-09 13:39:14,541 [13068] INFO     root: Iteration 2948: RMSE=5.2814, MAE=5.2814\n",
      "2025-02-09 13:39:14,621 [13068] INFO     root: Iteration 2949: RMSE=4.3700, MAE=4.3700\n",
      "2025-02-09 13:39:14,704 [13068] INFO     root: Iteration 2950: RMSE=2.4681, MAE=2.4681\n",
      "2025-02-09 13:39:14,802 [13068] INFO     root: Iteration 2951: RMSE=2.7746, MAE=2.7746\n",
      "2025-02-09 13:39:14,880 [13068] INFO     root: Iteration 2952: RMSE=2.1957, MAE=2.1957\n",
      "2025-02-09 13:39:14,953 [13068] INFO     root: Iteration 2953: RMSE=5.8811, MAE=5.8811\n",
      "2025-02-09 13:39:15,095 [13068] INFO     root: Iteration 2954: RMSE=3.9228, MAE=3.9228\n",
      "2025-02-09 13:39:15,170 [13068] INFO     root: Iteration 2955: RMSE=0.1636, MAE=0.1636\n",
      "2025-02-09 13:39:15,266 [13068] INFO     root: Iteration 2956: RMSE=7.4122, MAE=7.4122\n",
      "2025-02-09 13:39:15,350 [13068] INFO     root: Iteration 2957: RMSE=0.2922, MAE=0.2922\n",
      "2025-02-09 13:39:15,432 [13068] INFO     root: Iteration 2958: RMSE=1.3227, MAE=1.3227\n",
      "2025-02-09 13:39:15,527 [13068] INFO     root: Iteration 2959: RMSE=1.9954, MAE=1.9954\n",
      "2025-02-09 13:39:15,609 [13068] INFO     root: Iteration 2960: RMSE=2.1957, MAE=2.1957\n",
      "2025-02-09 13:39:15,688 [13068] INFO     root: Iteration 2961: RMSE=3.6498, MAE=3.6498\n",
      "2025-02-09 13:39:15,828 [13068] INFO     root: Iteration 2962: RMSE=6.4895, MAE=6.4895\n",
      "2025-02-09 13:39:15,920 [13068] INFO     root: Iteration 2963: RMSE=3.1701, MAE=3.1701\n",
      "2025-02-09 13:39:15,997 [13068] INFO     ml_monitor.logging: Starting metrics logging thread...\n",
      "2025-02-09 13:39:16,015 [13068] INFO     root: Iteration 2964: RMSE=1.9880, MAE=1.9880\n",
      "2025-02-09 13:39:16,102 [13068] INFO     root: Iteration 2965: RMSE=1.6861, MAE=1.6861\n",
      "2025-02-09 13:39:16,197 [13068] INFO     root: Iteration 2966: RMSE=0.6367, MAE=0.6367\n",
      "2025-02-09 13:39:16,295 [13068] INFO     root: Iteration 2967: RMSE=1.9891, MAE=1.9891\n",
      "2025-02-09 13:39:16,395 [13068] INFO     root: Iteration 2968: RMSE=2.1281, MAE=2.1281\n",
      "2025-02-09 13:39:16,546 [13068] INFO     root: Iteration 2969: RMSE=1.3937, MAE=1.3937\n",
      "2025-02-09 13:39:16,645 [13068] INFO     root: Iteration 2970: RMSE=0.9690, MAE=0.9690\n",
      "2025-02-09 13:39:16,735 [13068] INFO     root: Iteration 2971: RMSE=1.9954, MAE=1.9954\n",
      "2025-02-09 13:39:16,826 [13068] INFO     root: Iteration 2972: RMSE=0.9201, MAE=0.9201\n",
      "2025-02-09 13:39:16,921 [13068] INFO     root: Iteration 2973: RMSE=0.4554, MAE=0.4554\n",
      "2025-02-09 13:39:17,015 [13068] INFO     root: Iteration 2974: RMSE=0.4554, MAE=0.4554\n",
      "2025-02-09 13:39:17,111 [13068] INFO     root: Iteration 2975: RMSE=2.2324, MAE=2.2324\n",
      "2025-02-09 13:39:17,193 [13068] INFO     root: Iteration 2976: RMSE=0.6277, MAE=0.6277\n",
      "2025-02-09 13:39:17,364 [13068] INFO     root: Iteration 2977: RMSE=0.0894, MAE=0.0894\n",
      "2025-02-09 13:39:17,450 [13068] INFO     root: Iteration 2978: RMSE=0.5028, MAE=0.5028\n",
      "2025-02-09 13:39:17,544 [13068] INFO     root: Iteration 2979: RMSE=0.1640, MAE=0.1640\n",
      "2025-02-09 13:39:17,637 [13068] INFO     root: Iteration 2980: RMSE=1.0341, MAE=1.0341\n",
      "2025-02-09 13:39:17,731 [13068] INFO     root: Iteration 2981: RMSE=0.4278, MAE=0.4278\n",
      "2025-02-09 13:39:17,823 [13068] INFO     root: Iteration 2982: RMSE=1.9024, MAE=1.9024\n",
      "2025-02-09 13:39:17,915 [13068] INFO     root: Iteration 2983: RMSE=1.3227, MAE=1.3227\n",
      "2025-02-09 13:39:18,040 [13068] INFO     root: Iteration 2984: RMSE=0.1636, MAE=0.1636\n",
      "2025-02-09 13:39:18,131 [13068] INFO     root: Iteration 2985: RMSE=0.9690, MAE=0.9690\n",
      "2025-02-09 13:39:18,223 [13068] INFO     root: Iteration 2986: RMSE=0.0190, MAE=0.0190\n",
      "2025-02-09 13:39:18,311 [13068] INFO     root: Iteration 2987: RMSE=1.5289, MAE=1.5289\n",
      "2025-02-09 13:39:18,407 [13068] INFO     root: Iteration 2988: RMSE=3.0641, MAE=3.0641\n",
      "2025-02-09 13:39:18,502 [13068] INFO     root: Iteration 2989: RMSE=2.5983, MAE=2.5983\n",
      "2025-02-09 13:39:18,589 [13068] INFO     root: Iteration 2990: RMSE=7.1880, MAE=7.1880\n",
      "2025-02-09 13:39:18,680 [13068] INFO     root: Iteration 2991: RMSE=1.9024, MAE=1.9024\n",
      "2025-02-09 13:39:18,846 [13068] INFO     root: Iteration 2992: RMSE=6.3484, MAE=6.3484\n",
      "2025-02-09 13:39:18,935 [13068] INFO     root: Iteration 2993: RMSE=2.9898, MAE=2.9898\n",
      "2025-02-09 13:39:19,033 [13068] INFO     root: Iteration 2994: RMSE=15.7679, MAE=15.7679\n",
      "2025-02-09 13:39:19,127 [13068] INFO     root: Iteration 2995: RMSE=4.3700, MAE=4.3700\n",
      "2025-02-09 13:39:19,220 [13068] INFO     root: Iteration 2996: RMSE=0.9176, MAE=0.9176\n",
      "2025-02-09 13:39:19,338 [13068] INFO     root: Iteration 2997: RMSE=1.6861, MAE=1.6861\n",
      "2025-02-09 13:39:19,444 [13068] INFO     root: Iteration 2998: RMSE=4.8742, MAE=4.8742\n",
      "2025-02-09 13:39:19,559 [13068] INFO     root: Iteration 2999: RMSE=1.9880, MAE=1.9880\n",
      "2025-02-09 13:39:19,668 [13068] INFO     root: Iteration 3000: RMSE=2.6178, MAE=2.6178\n",
      "2025-02-09 13:39:19,768 [13068] INFO     root: Iteration 3001: RMSE=1.6861, MAE=1.6861\n",
      "2025-02-09 13:39:19,925 [13068] INFO     root: Iteration 3002: RMSE=6.5607, MAE=6.5607\n",
      "2025-02-09 13:39:20,025 [13068] INFO     root: Iteration 3003: RMSE=2.2823, MAE=2.2823\n",
      "2025-02-09 13:39:20,126 [13068] INFO     root: Iteration 3004: RMSE=4.2530, MAE=4.2530\n",
      "2025-02-09 13:39:20,243 [13068] INFO     root: Iteration 3005: RMSE=0.2445, MAE=0.2445\n",
      "2025-02-09 13:39:20,817 [13068] INFO     root: Metrics pushed at iteration 3005. RMSE=0.2445, MAE=0.2445\n",
      "2025-02-09 13:39:21,056 [13068] INFO     ml_monitor.logging: Starting metrics logging thread...\n",
      "2025-02-09 13:39:21,168 [13068] INFO     root: Iteration 3006: RMSE=2.7728, MAE=2.7728\n",
      "2025-02-09 13:39:21,434 [13068] INFO     root: Iteration 3007: RMSE=3.0048, MAE=3.0048\n",
      "2025-02-09 13:39:21,573 [13068] INFO     root: Iteration 3008: RMSE=0.6820, MAE=0.6820\n",
      "2025-02-09 13:39:21,685 [13068] INFO     root: Iteration 3009: RMSE=3.1092, MAE=3.1092\n",
      "2025-02-09 13:39:21,851 [13068] INFO     root: Iteration 3010: RMSE=1.9891, MAE=1.9891\n",
      "2025-02-09 13:39:22,151 [13068] INFO     root: Iteration 3011: RMSE=3.9228, MAE=3.9228\n",
      "2025-02-09 13:39:22,278 [13068] INFO     root: Iteration 3012: RMSE=1.9470, MAE=1.9470\n",
      "2025-02-09 13:39:22,394 [13068] INFO     root: Iteration 3013: RMSE=3.1701, MAE=3.1701\n",
      "2025-02-09 13:39:22,487 [13068] INFO     root: Iteration 3014: RMSE=4.2272, MAE=4.2272\n",
      "2025-02-09 13:39:22,603 [13068] INFO     root: Iteration 3015: RMSE=5.2814, MAE=5.2814\n",
      "2025-02-09 13:39:22,722 [13068] INFO     root: Iteration 3016: RMSE=3.1092, MAE=3.1092\n",
      "2025-02-09 13:39:22,837 [13068] INFO     root: Iteration 3017: RMSE=3.0641, MAE=3.0641\n",
      "2025-02-09 13:39:22,923 [13068] INFO     root: Iteration 3018: RMSE=0.4811, MAE=0.4811\n",
      "2025-02-09 13:39:23,021 [13068] INFO     root: Iteration 3019: RMSE=5.3491, MAE=5.3491\n",
      "2025-02-09 13:39:23,108 [13068] INFO     root: Iteration 3020: RMSE=5.8811, MAE=5.8811\n",
      "2025-02-09 13:39:23,195 [13068] INFO     root: Iteration 3021: RMSE=1.0783, MAE=1.0783\n",
      "2025-02-09 13:39:23,290 [13068] INFO     root: Iteration 3022: RMSE=0.1636, MAE=0.1636\n",
      "2025-02-09 13:39:23,389 [13068] INFO     root: Iteration 3023: RMSE=3.9035, MAE=3.9035\n",
      "2025-02-09 13:39:23,485 [13068] INFO     root: Iteration 3024: RMSE=0.0894, MAE=0.0894\n",
      "2025-02-09 13:39:23,584 [13068] INFO     root: Iteration 3025: RMSE=1.2345, MAE=1.2345\n",
      "2025-02-09 13:39:23,666 [13068] INFO     root: Iteration 3026: RMSE=5.2814, MAE=5.2814\n",
      "2025-02-09 13:39:23,767 [13068] INFO     root: Iteration 3027: RMSE=1.3937, MAE=1.3937\n",
      "2025-02-09 13:39:23,903 [13068] INFO     root: Iteration 3028: RMSE=3.2372, MAE=3.2372\n",
      "2025-02-09 13:39:24,016 [13068] INFO     root: Iteration 3029: RMSE=0.2445, MAE=0.2445\n",
      "2025-02-09 13:39:24,152 [13068] INFO     root: Iteration 3030: RMSE=0.1636, MAE=0.1636\n",
      "2025-02-09 13:39:24,271 [13068] INFO     root: Iteration 3031: RMSE=1.0525, MAE=1.0525\n",
      "2025-02-09 13:39:24,384 [13068] INFO     root: Iteration 3032: RMSE=0.6367, MAE=0.6367\n",
      "2025-02-09 13:39:24,555 [13068] INFO     root: Iteration 3033: RMSE=4.2733, MAE=4.2733\n",
      "2025-02-09 13:39:24,697 [13068] INFO     root: Iteration 3034: RMSE=1.0837, MAE=1.0837\n",
      "2025-02-09 13:39:24,814 [13068] INFO     root: Iteration 3035: RMSE=1.9880, MAE=1.9880\n",
      "2025-02-09 13:39:24,950 [13068] INFO     root: Iteration 3036: RMSE=2.2823, MAE=2.2823\n",
      "2025-02-09 13:39:25,188 [13068] INFO     root: Iteration 3037: RMSE=2.7746, MAE=2.7746\n",
      "2025-02-09 13:39:25,303 [13068] INFO     root: Iteration 3038: RMSE=0.4554, MAE=0.4554\n",
      "2025-02-09 13:39:25,393 [13068] INFO     root: Iteration 3039: RMSE=2.1957, MAE=2.1957\n",
      "2025-02-09 13:39:25,526 [13068] INFO     root: Iteration 3040: RMSE=1.0783, MAE=1.0783\n",
      "2025-02-09 13:39:25,678 [13068] INFO     root: Iteration 3041: RMSE=3.2950, MAE=3.2950\n",
      "2025-02-09 13:39:25,806 [13068] INFO     root: Iteration 3042: RMSE=2.0594, MAE=2.0594\n",
      "2025-02-09 13:39:25,916 [13068] INFO     root: Iteration 3043: RMSE=0.2356, MAE=0.2356\n",
      "2025-02-09 13:39:26,042 [13068] INFO     root: Iteration 3044: RMSE=2.1020, MAE=2.1020\n",
      "2025-02-09 13:39:26,199 [13068] INFO     ml_monitor.logging: Starting metrics logging thread...\n",
      "2025-02-09 13:39:26,316 [13068] INFO     root: Iteration 3045: RMSE=4.3700, MAE=4.3700\n",
      "2025-02-09 13:39:26,438 [13068] INFO     root: Iteration 3046: RMSE=1.2841, MAE=1.2841\n",
      "2025-02-09 13:39:26,584 [13068] INFO     root: Iteration 3047: RMSE=3.0048, MAE=3.0048\n",
      "2025-02-09 13:39:26,700 [13068] INFO     root: Iteration 3048: RMSE=0.4554, MAE=0.4554\n",
      "2025-02-09 13:39:26,821 [13068] INFO     root: Iteration 3049: RMSE=0.6863, MAE=0.6863\n",
      "2025-02-09 13:39:26,956 [13068] INFO     root: Iteration 3050: RMSE=3.1701, MAE=3.1701\n",
      "2025-02-09 13:39:27,078 [13068] INFO     root: Iteration 3051: RMSE=0.4053, MAE=0.4053\n",
      "2025-02-09 13:39:27,187 [13068] INFO     root: Iteration 3052: RMSE=3.0641, MAE=3.0641\n",
      "2025-02-09 13:39:27,315 [13068] INFO     root: Iteration 3053: RMSE=5.1399, MAE=5.1399\n",
      "2025-02-09 13:39:27,521 [13068] INFO     root: Iteration 3054: RMSE=3.0812, MAE=3.0812\n",
      "2025-02-09 13:39:27,638 [13068] INFO     root: Iteration 3055: RMSE=3.2372, MAE=3.2372\n",
      "2025-02-09 13:39:27,743 [13068] INFO     root: Iteration 3056: RMSE=0.4811, MAE=0.4811\n",
      "2025-02-09 13:39:27,854 [13068] INFO     root: Iteration 3057: RMSE=0.2922, MAE=0.2922\n",
      "2025-02-09 13:39:28,003 [13068] INFO     root: Iteration 3058: RMSE=4.8742, MAE=4.8742\n",
      "2025-02-09 13:39:28,417 [13068] INFO     root: Iteration 3059: RMSE=5.3491, MAE=5.3491\n",
      "2025-02-09 13:39:28,702 [13068] INFO     root: Iteration 3060: RMSE=5.1385, MAE=5.1385\n",
      "2025-02-09 13:39:28,858 [13068] INFO     root: Iteration 3061: RMSE=1.9880, MAE=1.9880\n",
      "2025-02-09 13:39:28,999 [13068] INFO     root: Iteration 3062: RMSE=21.1875, MAE=21.1875\n",
      "2025-02-09 13:39:29,213 [13068] INFO     root: Iteration 3063: RMSE=3.0048, MAE=3.0048\n",
      "2025-02-09 13:39:29,376 [13068] INFO     root: Iteration 3064: RMSE=0.2922, MAE=0.2922\n",
      "2025-02-09 13:39:29,570 [13068] INFO     root: Iteration 3065: RMSE=5.1399, MAE=5.1399\n",
      "2025-02-09 13:39:29,747 [13068] INFO     root: Iteration 3066: RMSE=0.6863, MAE=0.6863\n",
      "2025-02-09 13:39:30,158 [13068] INFO     root: Iteration 3067: RMSE=15.7679, MAE=15.7679\n",
      "2025-02-09 13:39:30,451 [13068] INFO     root: Iteration 3068: RMSE=2.4091, MAE=2.4091\n",
      "2025-02-09 13:39:31,309 [13068] INFO     ml_monitor.logging: Starting metrics logging thread...\n",
      "2025-02-09 13:39:31,337 [13068] INFO     root: Metrics pushed at iteration 3068. RMSE=2.4091, MAE=2.4091\n",
      "2025-02-09 13:39:31,450 [13068] INFO     root: Iteration 3069: RMSE=0.2445, MAE=0.2445\n",
      "2025-02-09 13:39:31,545 [13068] INFO     root: Iteration 3070: RMSE=6.3484, MAE=6.3484\n",
      "2025-02-09 13:39:31,651 [13068] INFO     root: Iteration 3071: RMSE=0.0190, MAE=0.0190\n",
      "2025-02-09 13:39:31,759 [13068] INFO     root: Iteration 3072: RMSE=1.3227, MAE=1.3227\n",
      "2025-02-09 13:39:31,999 [13068] INFO     root: Iteration 3073: RMSE=7.1962, MAE=7.1962\n",
      "2025-02-09 13:39:32,179 [13068] INFO     root: Iteration 3074: RMSE=1.9024, MAE=1.9024\n",
      "2025-02-09 13:39:32,375 [13068] INFO     root: Iteration 3075: RMSE=2.4091, MAE=2.4091\n",
      "2025-02-09 13:39:32,616 [13068] INFO     root: Iteration 3076: RMSE=1.3227, MAE=1.3227\n",
      "2025-02-09 13:39:32,728 [13068] INFO     root: Iteration 3077: RMSE=0.4278, MAE=0.4278\n",
      "2025-02-09 13:39:32,851 [13068] INFO     root: Iteration 3078: RMSE=1.9891, MAE=1.9891\n",
      "2025-02-09 13:39:32,945 [13068] INFO     root: Iteration 3079: RMSE=5.2814, MAE=5.2814\n",
      "2025-02-09 13:39:33,068 [13068] INFO     root: Iteration 3080: RMSE=0.0894, MAE=0.0894\n",
      "2025-02-09 13:39:33,165 [13068] INFO     root: Iteration 3081: RMSE=0.9510, MAE=0.9510\n",
      "2025-02-09 13:39:33,262 [13068] INFO     root: Iteration 3082: RMSE=21.1875, MAE=21.1875\n",
      "2025-02-09 13:39:33,356 [13068] INFO     root: Iteration 3083: RMSE=7.1962, MAE=7.1962\n",
      "2025-02-09 13:39:33,456 [13068] INFO     root: Iteration 3084: RMSE=2.4681, MAE=2.4681\n",
      "2025-02-09 13:39:33,551 [13068] INFO     root: Iteration 3085: RMSE=4.2272, MAE=4.2272\n",
      "2025-02-09 13:39:33,714 [13068] INFO     root: Iteration 3086: RMSE=3.9228, MAE=3.9228\n",
      "2025-02-09 13:39:33,833 [13068] INFO     root: Iteration 3087: RMSE=4.2530, MAE=4.2530\n",
      "2025-02-09 13:39:33,998 [13068] INFO     root: Iteration 3088: RMSE=2.7746, MAE=2.7746\n",
      "2025-02-09 13:39:34,123 [13068] INFO     root: Iteration 3089: RMSE=5.1385, MAE=5.1385\n",
      "2025-02-09 13:39:34,242 [13068] INFO     root: Iteration 3090: RMSE=2.2823, MAE=2.2823\n",
      "2025-02-09 13:39:34,350 [13068] INFO     root: Iteration 3091: RMSE=2.4091, MAE=2.4091\n",
      "2025-02-09 13:39:34,460 [13068] INFO     root: Iteration 3092: RMSE=2.7728, MAE=2.7728\n",
      "2025-02-09 13:39:34,672 [13068] INFO     root: Iteration 3093: RMSE=2.0594, MAE=2.0594\n",
      "2025-02-09 13:39:34,788 [13068] INFO     root: Iteration 3094: RMSE=3.0641, MAE=3.0641\n",
      "2025-02-09 13:39:34,900 [13068] INFO     root: Iteration 3095: RMSE=6.4895, MAE=6.4895\n",
      "2025-02-09 13:39:34,994 [13068] INFO     root: Iteration 3096: RMSE=2.5855, MAE=2.5855\n",
      "2025-02-09 13:39:35,135 [13068] INFO     root: Iteration 3097: RMSE=21.1875, MAE=21.1875\n",
      "2025-02-09 13:39:35,272 [13068] INFO     root: Iteration 3098: RMSE=3.9035, MAE=3.9035\n",
      "2025-02-09 13:39:35,387 [13068] INFO     root: Iteration 3099: RMSE=1.5147, MAE=1.5147\n",
      "2025-02-09 13:39:35,496 [13068] INFO     root: Iteration 3100: RMSE=0.5028, MAE=0.5028\n",
      "2025-02-09 13:39:35,659 [13068] INFO     root: Iteration 3101: RMSE=2.5855, MAE=2.5855\n",
      "2025-02-09 13:39:35,771 [13068] INFO     root: Iteration 3102: RMSE=3.2372, MAE=3.2372\n",
      "2025-02-09 13:39:35,891 [13068] INFO     root: Iteration 3103: RMSE=15.7679, MAE=15.7679\n",
      "2025-02-09 13:39:35,986 [13068] INFO     root: Iteration 3104: RMSE=7.1880, MAE=7.1880\n",
      "2025-02-09 13:39:36,081 [13068] INFO     root: Iteration 3105: RMSE=1.9024, MAE=1.9024\n",
      "2025-02-09 13:39:36,171 [13068] INFO     root: Iteration 3106: RMSE=2.2319, MAE=2.2319\n",
      "2025-02-09 13:39:36,266 [13068] INFO     root: Iteration 3107: RMSE=3.0812, MAE=3.0812\n",
      "2025-02-09 13:39:36,379 [13068] INFO     ml_monitor.logging: Starting metrics logging thread...\n",
      "2025-02-09 13:39:36,502 [13068] INFO     root: Iteration 3108: RMSE=4.8742, MAE=4.8742\n",
      "2025-02-09 13:39:36,615 [13068] INFO     root: Iteration 3109: RMSE=0.5423, MAE=0.5423\n",
      "2025-02-09 13:39:36,708 [13068] INFO     root: Iteration 3110: RMSE=3.0641, MAE=3.0641\n",
      "2025-02-09 13:39:36,805 [13068] INFO     root: Iteration 3111: RMSE=0.1136, MAE=0.1136\n",
      "2025-02-09 13:39:36,901 [13068] INFO     root: Iteration 3112: RMSE=1.6861, MAE=1.6861\n",
      "2025-02-09 13:39:36,999 [13068] INFO     root: Iteration 3113: RMSE=6.3484, MAE=6.3484\n",
      "2025-02-09 13:39:37,127 [13068] INFO     root: Iteration 3114: RMSE=4.3700, MAE=4.3700\n",
      "2025-02-09 13:39:37,230 [13068] INFO     root: Iteration 3115: RMSE=1.5147, MAE=1.5147\n",
      "2025-02-09 13:39:37,413 [13068] INFO     root: Iteration 3116: RMSE=1.6861, MAE=1.6861\n",
      "2025-02-09 13:39:37,578 [13068] INFO     root: Iteration 3117: RMSE=5.8175, MAE=5.8175\n",
      "2025-02-09 13:39:37,701 [13068] INFO     root: Iteration 3118: RMSE=2.4091, MAE=2.4091\n",
      "2025-02-09 13:39:37,820 [13068] INFO     root: Iteration 3119: RMSE=3.0812, MAE=3.0812\n",
      "2025-02-09 13:39:37,916 [13068] INFO     root: Iteration 3120: RMSE=6.4895, MAE=6.4895\n",
      "2025-02-09 13:39:38,025 [13068] INFO     root: Iteration 3121: RMSE=4.2272, MAE=4.2272\n",
      "2025-02-09 13:39:38,167 [13068] INFO     root: Iteration 3122: RMSE=2.0594, MAE=2.0594\n",
      "2025-02-09 13:39:38,271 [13068] INFO     root: Iteration 3123: RMSE=5.8811, MAE=5.8811\n",
      "2025-02-09 13:39:38,421 [13068] INFO     root: Iteration 3124: RMSE=1.5147, MAE=1.5147\n",
      "2025-02-09 13:39:38,532 [13068] INFO     root: Iteration 3125: RMSE=2.5855, MAE=2.5855\n",
      "2025-02-09 13:39:38,648 [13068] INFO     root: Iteration 3126: RMSE=4.2272, MAE=4.2272\n",
      "2025-02-09 13:39:38,782 [13068] INFO     root: Iteration 3127: RMSE=2.1957, MAE=2.1957\n",
      "2025-02-09 13:39:38,878 [13068] INFO     root: Iteration 3128: RMSE=4.2272, MAE=4.2272\n",
      "2025-02-09 13:39:38,973 [13068] INFO     root: Iteration 3129: RMSE=1.6861, MAE=1.6861\n",
      "2025-02-09 13:39:39,074 [13068] INFO     root: Iteration 3130: RMSE=0.6820, MAE=0.6820\n",
      "2025-02-09 13:39:39,170 [13068] INFO     root: Iteration 3131: RMSE=1.0525, MAE=1.0525\n",
      "2025-02-09 13:39:39,372 [13068] INFO     root: Iteration 3132: RMSE=5.1385, MAE=5.1385\n",
      "2025-02-09 13:39:39,463 [13068] INFO     root: Iteration 3133: RMSE=0.6863, MAE=0.6863\n",
      "2025-02-09 13:39:39,571 [13068] INFO     root: Iteration 3134: RMSE=1.9954, MAE=1.9954\n",
      "2025-02-09 13:39:39,673 [13068] INFO     root: Iteration 3135: RMSE=4.2733, MAE=4.2733\n",
      "2025-02-09 13:39:39,805 [13068] INFO     root: Iteration 3136: RMSE=0.2445, MAE=0.2445\n",
      "2025-02-09 13:39:39,923 [13068] INFO     root: Iteration 3137: RMSE=21.1875, MAE=21.1875\n",
      "2025-02-09 13:39:40,048 [13068] INFO     root: Iteration 3138: RMSE=1.0783, MAE=1.0783\n",
      "2025-02-09 13:39:40,282 [13068] INFO     root: Iteration 3139: RMSE=1.5289, MAE=1.5289\n",
      "2025-02-09 13:39:40,449 [13068] INFO     root: Iteration 3140: RMSE=0.4554, MAE=0.4554\n",
      "2025-02-09 13:39:40,619 [13068] INFO     root: Iteration 3141: RMSE=4.3700, MAE=4.3700\n",
      "2025-02-09 13:39:41,069 [13068] INFO     root: Metrics pushed at iteration 3141. RMSE=4.3700, MAE=4.3700\n",
      "2025-02-09 13:39:41,307 [13068] INFO     root: Iteration 3142: RMSE=0.5423, MAE=0.5423\n",
      "2025-02-09 13:39:41,469 [13068] INFO     root: Iteration 3143: RMSE=2.8002, MAE=2.8002\n",
      "2025-02-09 13:39:41,489 [13068] INFO     ml_monitor.logging: Starting metrics logging thread...\n",
      "2025-02-09 13:39:41,592 [13068] INFO     root: Iteration 3144: RMSE=0.4053, MAE=0.4053\n",
      "2025-02-09 13:39:41,882 [13068] INFO     root: Iteration 3145: RMSE=7.1880, MAE=7.1880\n",
      "2025-02-09 13:39:41,989 [13068] INFO     root: Iteration 3146: RMSE=0.4053, MAE=0.4053\n",
      "2025-02-09 13:39:42,097 [13068] INFO     root: Iteration 3147: RMSE=5.0666, MAE=5.0666\n",
      "2025-02-09 13:39:42,305 [13068] INFO     root: Iteration 3148: RMSE=3.2372, MAE=3.2372\n",
      "2025-02-09 13:39:42,443 [13068] INFO     root: Iteration 3149: RMSE=2.2823, MAE=2.2823\n",
      "2025-02-09 13:39:42,548 [13068] INFO     root: Iteration 3150: RMSE=1.6668, MAE=1.6668\n",
      "2025-02-09 13:39:42,666 [13068] INFO     root: Iteration 3151: RMSE=1.2010, MAE=1.2010\n",
      "2025-02-09 13:39:42,823 [13068] INFO     root: Iteration 3152: RMSE=1.9891, MAE=1.9891\n",
      "2025-02-09 13:39:42,968 [13068] INFO     root: Iteration 3153: RMSE=3.0641, MAE=3.0641\n",
      "2025-02-09 13:39:43,223 [13068] INFO     root: Iteration 3154: RMSE=2.6178, MAE=2.6178\n",
      "2025-02-09 13:39:43,398 [13068] INFO     root: Iteration 3155: RMSE=6.4895, MAE=6.4895\n",
      "2025-02-09 13:39:43,549 [13068] INFO     root: Iteration 3156: RMSE=0.6277, MAE=0.6277\n",
      "2025-02-09 13:39:43,662 [13068] INFO     root: Iteration 3157: RMSE=0.4278, MAE=0.4278\n",
      "2025-02-09 13:39:43,769 [13068] INFO     root: Iteration 3158: RMSE=4.3700, MAE=4.3700\n",
      "2025-02-09 13:39:43,863 [13068] INFO     root: Iteration 3159: RMSE=1.9470, MAE=1.9470\n",
      "2025-02-09 13:39:43,953 [13068] INFO     root: Iteration 3160: RMSE=1.9954, MAE=1.9954\n",
      "2025-02-09 13:39:44,067 [13068] INFO     root: Iteration 3161: RMSE=3.0641, MAE=3.0641\n",
      "2025-02-09 13:39:44,177 [13068] INFO     root: Iteration 3162: RMSE=1.2010, MAE=1.2010\n",
      "2025-02-09 13:39:44,305 [13068] INFO     root: Iteration 3163: RMSE=0.2356, MAE=0.2356\n",
      "2025-02-09 13:39:44,442 [13068] INFO     root: Iteration 3164: RMSE=2.7746, MAE=2.7746\n",
      "2025-02-09 13:39:44,570 [13068] INFO     root: Iteration 3165: RMSE=5.8175, MAE=5.8175\n",
      "2025-02-09 13:39:44,700 [13068] INFO     root: Iteration 3166: RMSE=1.7964, MAE=1.7964\n",
      "2025-02-09 13:39:44,804 [13068] INFO     root: Iteration 3167: RMSE=0.9176, MAE=0.9176\n",
      "2025-02-09 13:39:44,904 [13068] INFO     root: Iteration 3168: RMSE=0.6367, MAE=0.6367\n",
      "2025-02-09 13:39:44,996 [13068] INFO     root: Iteration 3169: RMSE=0.9510, MAE=0.9510\n",
      "2025-02-09 13:39:45,085 [13068] INFO     root: Iteration 3170: RMSE=0.1550, MAE=0.1550\n",
      "2025-02-09 13:39:45,284 [13068] INFO     root: Iteration 3171: RMSE=5.0666, MAE=5.0666\n",
      "2025-02-09 13:39:45,400 [13068] INFO     root: Iteration 3172: RMSE=7.1880, MAE=7.1880\n",
      "2025-02-09 13:39:45,507 [13068] INFO     root: Iteration 3173: RMSE=0.6367, MAE=0.6367\n",
      "2025-02-09 13:39:45,607 [13068] INFO     root: Iteration 3174: RMSE=1.5289, MAE=1.5289\n",
      "2025-02-09 13:39:45,717 [13068] INFO     root: Iteration 3175: RMSE=2.1020, MAE=2.1020\n",
      "2025-02-09 13:39:45,851 [13068] INFO     root: Iteration 3176: RMSE=5.8175, MAE=5.8175\n",
      "2025-02-09 13:39:45,968 [13068] INFO     root: Iteration 3177: RMSE=2.4091, MAE=2.4091\n",
      "2025-02-09 13:39:46,154 [13068] INFO     root: Iteration 3178: RMSE=6.3484, MAE=6.3484\n",
      "2025-02-09 13:39:46,295 [13068] INFO     root: Iteration 3179: RMSE=0.5028, MAE=0.5028\n",
      "2025-02-09 13:39:46,420 [13068] INFO     root: Iteration 3180: RMSE=0.9510, MAE=0.9510\n",
      "2025-02-09 13:39:46,513 [13068] INFO     ml_monitor.logging: Starting metrics logging thread...\n",
      "2025-02-09 13:39:46,547 [13068] INFO     root: Iteration 3181: RMSE=3.0048, MAE=3.0048\n",
      "2025-02-09 13:39:46,649 [13068] INFO     root: Iteration 3182: RMSE=1.9470, MAE=1.9470\n",
      "2025-02-09 13:39:46,739 [13068] INFO     root: Iteration 3183: RMSE=2.1281, MAE=2.1281\n",
      "2025-02-09 13:39:46,839 [13068] INFO     root: Iteration 3184: RMSE=0.1636, MAE=0.1636\n",
      "2025-02-09 13:39:47,073 [13068] INFO     root: Iteration 3185: RMSE=3.1092, MAE=3.1092\n",
      "2025-02-09 13:39:47,188 [13068] INFO     root: Iteration 3186: RMSE=3.0641, MAE=3.0641\n",
      "2025-02-09 13:39:47,305 [13068] INFO     root: Iteration 3187: RMSE=1.9880, MAE=1.9880\n",
      "2025-02-09 13:39:47,412 [13068] INFO     root: Iteration 3188: RMSE=3.1701, MAE=3.1701\n",
      "2025-02-09 13:39:47,510 [13068] INFO     root: Iteration 3189: RMSE=4.2619, MAE=4.2619\n",
      "2025-02-09 13:39:47,600 [13068] INFO     root: Iteration 3190: RMSE=1.5289, MAE=1.5289\n",
      "2025-02-09 13:39:47,714 [13068] INFO     root: Iteration 3191: RMSE=0.2356, MAE=0.2356\n",
      "2025-02-09 13:39:47,932 [13068] INFO     root: Iteration 3192: RMSE=1.2345, MAE=1.2345\n",
      "2025-02-09 13:39:48,030 [13068] INFO     root: Iteration 3193: RMSE=1.0837, MAE=1.0837\n",
      "2025-02-09 13:39:48,133 [13068] INFO     root: Iteration 3194: RMSE=3.2372, MAE=3.2372\n",
      "2025-02-09 13:39:48,233 [13068] INFO     root: Iteration 3195: RMSE=3.0812, MAE=3.0812\n",
      "2025-02-09 13:39:48,383 [13068] INFO     root: Iteration 3196: RMSE=1.9891, MAE=1.9891\n",
      "2025-02-09 13:39:48,493 [13068] INFO     root: Iteration 3197: RMSE=1.7797, MAE=1.7797\n",
      "2025-02-09 13:39:48,596 [13068] INFO     root: Iteration 3198: RMSE=1.7797, MAE=1.7797\n",
      "2025-02-09 13:39:48,703 [13068] INFO     root: Iteration 3199: RMSE=4.2619, MAE=4.2619\n",
      "2025-02-09 13:39:48,917 [13068] INFO     root: Iteration 3200: RMSE=7.1880, MAE=7.1880\n",
      "2025-02-09 13:39:49,022 [13068] INFO     root: Iteration 3201: RMSE=4.2272, MAE=4.2272\n",
      "2025-02-09 13:39:49,119 [13068] INFO     root: Iteration 3202: RMSE=1.6861, MAE=1.6861\n",
      "2025-02-09 13:39:49,226 [13068] INFO     root: Iteration 3203: RMSE=15.7679, MAE=15.7679\n",
      "2025-02-09 13:39:49,338 [13068] INFO     root: Iteration 3204: RMSE=5.8175, MAE=5.8175\n",
      "2025-02-09 13:39:49,440 [13068] INFO     root: Iteration 3205: RMSE=5.8175, MAE=5.8175\n",
      "2025-02-09 13:39:49,539 [13068] INFO     root: Iteration 3206: RMSE=3.6498, MAE=3.6498\n",
      "2025-02-09 13:39:49,629 [13068] INFO     root: Iteration 3207: RMSE=0.9176, MAE=0.9176\n",
      "2025-02-09 13:39:49,725 [13068] INFO     root: Iteration 3208: RMSE=7.1962, MAE=7.1962\n",
      "2025-02-09 13:39:49,830 [13068] INFO     root: Iteration 3209: RMSE=2.8002, MAE=2.8002\n",
      "2025-02-09 13:39:50,033 [13068] INFO     root: Iteration 3210: RMSE=21.1875, MAE=21.1875\n",
      "2025-02-09 13:39:50,126 [13068] INFO     root: Iteration 3211: RMSE=4.2272, MAE=4.2272\n",
      "2025-02-09 13:39:50,216 [13068] INFO     root: Iteration 3212: RMSE=1.0525, MAE=1.0525\n",
      "2025-02-09 13:39:50,323 [13068] INFO     root: Iteration 3213: RMSE=1.0341, MAE=1.0341\n",
      "2025-02-09 13:39:50,433 [13068] INFO     root: Iteration 3214: RMSE=0.5423, MAE=0.5423\n",
      "2025-02-09 13:39:50,564 [13068] INFO     root: Iteration 3215: RMSE=1.9834, MAE=1.9834\n",
      "2025-02-09 13:39:50,677 [13068] INFO     root: Iteration 3216: RMSE=1.6861, MAE=1.6861\n",
      "2025-02-09 13:39:51,106 [13068] INFO     root: Metrics pushed at iteration 3216. RMSE=1.6861, MAE=1.6861\n",
      "2025-02-09 13:39:51,198 [13068] INFO     root: Iteration 3217: RMSE=7.4122, MAE=7.4122\n",
      "2025-02-09 13:39:51,305 [13068] INFO     root: Iteration 3218: RMSE=0.6277, MAE=0.6277\n",
      "2025-02-09 13:39:51,393 [13068] INFO     root: Iteration 3219: RMSE=1.5147, MAE=1.5147\n",
      "2025-02-09 13:39:51,494 [13068] INFO     root: Iteration 3220: RMSE=7.1962, MAE=7.1962\n",
      "2025-02-09 13:39:51,536 [13068] INFO     ml_monitor.logging: Starting metrics logging thread...\n",
      "2025-02-09 13:39:51,597 [13068] INFO     root: Iteration 3221: RMSE=2.4091, MAE=2.4091\n",
      "2025-02-09 13:39:51,689 [13068] INFO     root: Iteration 3222: RMSE=7.1880, MAE=7.1880\n",
      "2025-02-09 13:39:51,837 [13068] INFO     root: Iteration 3223: RMSE=1.3227, MAE=1.3227\n",
      "2025-02-09 13:39:51,932 [13068] INFO     root: Iteration 3224: RMSE=6.4895, MAE=6.4895\n",
      "2025-02-09 13:39:52,021 [13068] INFO     root: Iteration 3225: RMSE=4.2272, MAE=4.2272\n",
      "2025-02-09 13:39:52,123 [13068] INFO     root: Iteration 3226: RMSE=1.6668, MAE=1.6668\n",
      "2025-02-09 13:39:52,222 [13068] INFO     root: Iteration 3227: RMSE=0.8295, MAE=0.8295\n",
      "2025-02-09 13:39:52,320 [13068] INFO     root: Iteration 3228: RMSE=2.8002, MAE=2.8002\n",
      "2025-02-09 13:39:52,447 [13068] INFO     root: Iteration 3229: RMSE=2.4407, MAE=2.4407\n",
      "2025-02-09 13:39:52,637 [13068] INFO     root: Iteration 3230: RMSE=1.7797, MAE=1.7797\n",
      "2025-02-09 13:39:52,727 [13068] INFO     root: Iteration 3231: RMSE=3.0641, MAE=3.0641\n",
      "2025-02-09 13:39:52,852 [13068] INFO     root: Iteration 3232: RMSE=3.1092, MAE=3.1092\n",
      "2025-02-09 13:39:52,967 [13068] INFO     root: Iteration 3233: RMSE=0.0190, MAE=0.0190\n",
      "2025-02-09 13:39:53,084 [13068] INFO     root: Iteration 3234: RMSE=15.7679, MAE=15.7679\n",
      "2025-02-09 13:39:53,197 [13068] INFO     root: Iteration 3235: RMSE=4.2530, MAE=4.2530\n",
      "2025-02-09 13:39:53,316 [13068] INFO     root: Iteration 3236: RMSE=4.8742, MAE=4.8742\n",
      "2025-02-09 13:39:53,414 [13068] INFO     root: Iteration 3237: RMSE=0.5329, MAE=0.5329\n",
      "2025-02-09 13:39:53,522 [13068] INFO     root: Iteration 3238: RMSE=7.1880, MAE=7.1880\n",
      "2025-02-09 13:39:53,608 [13068] INFO     root: Iteration 3239: RMSE=0.1636, MAE=0.1636\n",
      "2025-02-09 13:39:53,751 [13068] INFO     root: Iteration 3240: RMSE=0.0190, MAE=0.0190\n",
      "2025-02-09 13:39:53,859 [13068] INFO     root: Iteration 3241: RMSE=1.9024, MAE=1.9024\n",
      "2025-02-09 13:39:53,959 [13068] INFO     root: Iteration 3242: RMSE=0.9690, MAE=0.9690\n",
      "2025-02-09 13:39:54,059 [13068] INFO     root: Iteration 3243: RMSE=1.9470, MAE=1.9470\n",
      "2025-02-09 13:39:54,143 [13068] INFO     root: Iteration 3244: RMSE=1.9891, MAE=1.9891\n",
      "2025-02-09 13:39:54,250 [13068] INFO     root: Iteration 3245: RMSE=1.3227, MAE=1.3227\n",
      "2025-02-09 13:39:54,368 [13068] INFO     root: Iteration 3246: RMSE=0.2356, MAE=0.2356\n",
      "2025-02-09 13:39:54,456 [13068] INFO     root: Iteration 3247: RMSE=0.1550, MAE=0.1550\n",
      "2025-02-09 13:39:54,574 [13068] INFO     root: Iteration 3248: RMSE=0.1636, MAE=0.1636\n",
      "2025-02-09 13:39:54,708 [13068] INFO     root: Iteration 3249: RMSE=2.2319, MAE=2.2319\n",
      "2025-02-09 13:39:54,808 [13068] INFO     root: Iteration 3250: RMSE=3.0048, MAE=3.0048\n",
      "2025-02-09 13:39:54,925 [13068] INFO     root: Iteration 3251: RMSE=0.6367, MAE=0.6367\n",
      "2025-02-09 13:39:55,040 [13068] INFO     root: Iteration 3252: RMSE=0.2922, MAE=0.2922\n",
      "2025-02-09 13:39:55,152 [13068] INFO     root: Iteration 3253: RMSE=1.0341, MAE=1.0341\n",
      "2025-02-09 13:39:55,269 [13068] INFO     root: Iteration 3254: RMSE=3.2372, MAE=3.2372\n",
      "2025-02-09 13:39:55,413 [13068] INFO     root: Iteration 3255: RMSE=3.2950, MAE=3.2950\n",
      "2025-02-09 13:39:55,567 [13068] INFO     root: Iteration 3256: RMSE=2.1957, MAE=2.1957\n",
      "2025-02-09 13:39:55,697 [13068] INFO     root: Iteration 3257: RMSE=2.5855, MAE=2.5855\n",
      "2025-02-09 13:39:55,807 [13068] INFO     root: Iteration 3258: RMSE=1.0783, MAE=1.0783\n",
      "2025-02-09 13:39:55,950 [13068] INFO     root: Iteration 3259: RMSE=7.1962, MAE=7.1962\n",
      "2025-02-09 13:39:56,105 [13068] INFO     root: Iteration 3260: RMSE=0.6277, MAE=0.6277\n",
      "2025-02-09 13:39:56,245 [13068] INFO     root: Iteration 3261: RMSE=2.2823, MAE=2.2823\n",
      "2025-02-09 13:39:56,361 [13068] INFO     root: Iteration 3262: RMSE=0.4278, MAE=0.4278\n",
      "2025-02-09 13:39:56,494 [13068] INFO     root: Iteration 3263: RMSE=2.1020, MAE=2.1020\n",
      "2025-02-09 13:39:56,561 [13068] INFO     ml_monitor.logging: Starting metrics logging thread...\n",
      "2025-02-09 13:39:56,626 [13068] INFO     root: Iteration 3264: RMSE=2.6178, MAE=2.6178\n",
      "2025-02-09 13:39:56,817 [13068] INFO     root: Iteration 3265: RMSE=7.1962, MAE=7.1962\n",
      "2025-02-09 13:39:57,058 [13068] INFO     root: Iteration 3266: RMSE=4.2619, MAE=4.2619\n",
      "2025-02-09 13:39:57,185 [13068] INFO     root: Iteration 3267: RMSE=2.4681, MAE=2.4681\n",
      "2025-02-09 13:39:57,310 [13068] INFO     root: Iteration 3268: RMSE=3.2372, MAE=3.2372\n",
      "2025-02-09 13:39:57,446 [13068] INFO     root: Iteration 3269: RMSE=5.8175, MAE=5.8175\n",
      "2025-02-09 13:39:57,613 [13068] INFO     root: Iteration 3270: RMSE=15.7679, MAE=15.7679\n",
      "2025-02-09 13:39:57,845 [13068] INFO     root: Iteration 3271: RMSE=7.1962, MAE=7.1962\n",
      "2025-02-09 13:39:58,156 [13068] INFO     root: Iteration 3272: RMSE=1.0341, MAE=1.0341\n",
      "2025-02-09 13:39:58,366 [13068] INFO     root: Iteration 3273: RMSE=3.2372, MAE=3.2372\n",
      "2025-02-09 13:39:58,507 [13068] INFO     root: Iteration 3274: RMSE=2.8002, MAE=2.8002\n",
      "2025-02-09 13:39:58,625 [13068] INFO     root: Iteration 3275: RMSE=4.2733, MAE=4.2733\n",
      "2025-02-09 13:39:58,741 [13068] INFO     root: Iteration 3276: RMSE=1.9374, MAE=1.9374\n",
      "2025-02-09 13:39:58,851 [13068] INFO     root: Iteration 3277: RMSE=0.9510, MAE=0.9510\n",
      "2025-02-09 13:39:58,976 [13068] INFO     root: Iteration 3278: RMSE=0.6004, MAE=0.6004\n",
      "2025-02-09 13:39:59,083 [13068] INFO     root: Iteration 3279: RMSE=1.0341, MAE=1.0341\n",
      "2025-02-09 13:39:59,186 [13068] INFO     root: Iteration 3280: RMSE=3.2372, MAE=3.2372\n",
      "2025-02-09 13:39:59,308 [13068] INFO     root: Iteration 3281: RMSE=1.9954, MAE=1.9954\n",
      "2025-02-09 13:39:59,405 [13068] INFO     root: Iteration 3282: RMSE=1.9470, MAE=1.9470\n",
      "2025-02-09 13:39:59,520 [13068] INFO     root: Iteration 3283: RMSE=2.2324, MAE=2.2324\n",
      "2025-02-09 13:39:59,648 [13068] INFO     root: Iteration 3284: RMSE=5.8811, MAE=5.8811\n",
      "2025-02-09 13:39:59,759 [13068] INFO     root: Iteration 3285: RMSE=3.0048, MAE=3.0048\n",
      "2025-02-09 13:39:59,863 [13068] INFO     root: Iteration 3286: RMSE=0.2445, MAE=0.2445\n",
      "2025-02-09 13:39:59,963 [13068] INFO     root: Iteration 3287: RMSE=1.0837, MAE=1.0837\n",
      "2025-02-09 13:40:00,156 [13068] INFO     root: Iteration 3288: RMSE=3.0048, MAE=3.0048\n",
      "2025-02-09 13:40:00,275 [13068] INFO     root: Iteration 3289: RMSE=1.0783, MAE=1.0783\n",
      "2025-02-09 13:40:00,413 [13068] INFO     root: Iteration 3290: RMSE=0.6004, MAE=0.6004\n",
      "2025-02-09 13:40:00,563 [13068] INFO     root: Iteration 3291: RMSE=7.1880, MAE=7.1880\n",
      "2025-02-09 13:40:00,674 [13068] INFO     root: Iteration 3292: RMSE=0.6004, MAE=0.6004\n",
      "2025-02-09 13:40:00,786 [13068] INFO     root: Iteration 3293: RMSE=2.8002, MAE=2.8002\n",
      "2025-02-09 13:40:01,424 [13068] INFO     root: Metrics pushed at iteration 3293. RMSE=2.8002, MAE=2.8002\n",
      "2025-02-09 13:40:01,533 [13068] INFO     root: Iteration 3294: RMSE=2.8002, MAE=2.8002\n",
      "2025-02-09 13:40:01,588 [13068] INFO     ml_monitor.logging: Starting metrics logging thread...\n",
      "2025-02-09 13:40:01,652 [13068] INFO     root: Iteration 3295: RMSE=0.2356, MAE=0.2356\n",
      "2025-02-09 13:40:01,825 [13068] INFO     root: Iteration 3296: RMSE=5.1399, MAE=5.1399\n",
      "2025-02-09 13:40:01,956 [13068] INFO     root: Iteration 3297: RMSE=3.1092, MAE=3.1092\n",
      "2025-02-09 13:40:02,105 [13068] INFO     root: Iteration 3298: RMSE=0.6367, MAE=0.6367\n",
      "2025-02-09 13:40:02,254 [13068] INFO     root: Iteration 3299: RMSE=6.4895, MAE=6.4895\n",
      "2025-02-09 13:40:02,378 [13068] INFO     root: Iteration 3300: RMSE=2.2324, MAE=2.2324\n",
      "2025-02-09 13:40:02,501 [13068] INFO     root: Iteration 3301: RMSE=5.0666, MAE=5.0666\n",
      "2025-02-09 13:40:02,616 [13068] INFO     root: Iteration 3302: RMSE=0.8280, MAE=0.8280\n",
      "2025-02-09 13:40:02,723 [13068] INFO     root: Iteration 3303: RMSE=0.6820, MAE=0.6820\n",
      "2025-02-09 13:40:02,900 [13068] INFO     root: Iteration 3304: RMSE=1.3937, MAE=1.3937\n",
      "2025-02-09 13:40:03,003 [13068] INFO     root: Iteration 3305: RMSE=0.1636, MAE=0.1636\n",
      "2025-02-09 13:40:03,107 [13068] INFO     root: Iteration 3306: RMSE=2.4681, MAE=2.4681\n",
      "2025-02-09 13:40:03,240 [13068] INFO     root: Iteration 3307: RMSE=1.5289, MAE=1.5289\n",
      "2025-02-09 13:40:03,386 [13068] INFO     root: Iteration 3308: RMSE=1.9024, MAE=1.9024\n",
      "2025-02-09 13:40:03,519 [13068] INFO     root: Iteration 3309: RMSE=1.9470, MAE=1.9470\n",
      "2025-02-09 13:40:03,630 [13068] INFO     root: Iteration 3310: RMSE=5.3491, MAE=5.3491\n",
      "2025-02-09 13:40:03,733 [13068] INFO     root: Iteration 3311: RMSE=7.1880, MAE=7.1880\n",
      "2025-02-09 13:40:03,840 [13068] INFO     root: Iteration 3312: RMSE=0.8360, MAE=0.8360\n",
      "2025-02-09 13:40:03,937 [13068] INFO     root: Iteration 3313: RMSE=6.4895, MAE=6.4895\n",
      "2025-02-09 13:40:04,039 [13068] INFO     root: Iteration 3314: RMSE=2.0594, MAE=2.0594\n",
      "2025-02-09 13:40:04,137 [13068] INFO     root: Iteration 3315: RMSE=2.6178, MAE=2.6178\n",
      "2025-02-09 13:40:04,277 [13068] INFO     root: Iteration 3316: RMSE=2.6178, MAE=2.6178\n",
      "2025-02-09 13:40:04,402 [13068] INFO     root: Iteration 3317: RMSE=0.4554, MAE=0.4554\n",
      "2025-02-09 13:40:04,524 [13068] INFO     root: Iteration 3318: RMSE=2.2324, MAE=2.2324\n",
      "2025-02-09 13:40:04,655 [13068] INFO     root: Iteration 3319: RMSE=1.9891, MAE=1.9891\n",
      "2025-02-09 13:40:04,756 [13068] INFO     root: Iteration 3320: RMSE=2.4407, MAE=2.4407\n",
      "2025-02-09 13:40:04,860 [13068] INFO     root: Iteration 3321: RMSE=2.1020, MAE=2.1020\n",
      "2025-02-09 13:40:04,954 [13068] INFO     root: Iteration 3322: RMSE=0.1636, MAE=0.1636\n",
      "2025-02-09 13:40:05,118 [13068] INFO     root: Iteration 3323: RMSE=2.8002, MAE=2.8002\n",
      "2025-02-09 13:40:05,214 [13068] INFO     root: Iteration 3324: RMSE=3.9228, MAE=3.9228\n",
      "2025-02-09 13:40:05,324 [13068] INFO     root: Iteration 3325: RMSE=0.8280, MAE=0.8280\n",
      "2025-02-09 13:40:05,441 [13068] INFO     root: Iteration 3326: RMSE=0.6367, MAE=0.6367\n",
      "2025-02-09 13:40:05,540 [13068] INFO     root: Iteration 3327: RMSE=5.0666, MAE=5.0666\n",
      "2025-02-09 13:40:05,635 [13068] INFO     root: Iteration 3328: RMSE=3.0048, MAE=3.0048\n",
      "2025-02-09 13:40:05,742 [13068] INFO     root: Iteration 3329: RMSE=5.1399, MAE=5.1399\n",
      "2025-02-09 13:40:05,833 [13068] INFO     root: Iteration 3330: RMSE=1.9880, MAE=1.9880\n",
      "2025-02-09 13:40:05,937 [13068] INFO     root: Iteration 3331: RMSE=0.1640, MAE=0.1640\n",
      "2025-02-09 13:40:06,034 [13068] INFO     root: Iteration 3332: RMSE=0.1640, MAE=0.1640\n",
      "2025-02-09 13:40:06,186 [13068] INFO     root: Iteration 3333: RMSE=2.2823, MAE=2.2823\n",
      "2025-02-09 13:40:06,279 [13068] INFO     root: Iteration 3334: RMSE=2.6178, MAE=2.6178\n",
      "2025-02-09 13:40:06,379 [13068] INFO     root: Iteration 3335: RMSE=4.2530, MAE=4.2530\n",
      "2025-02-09 13:40:06,476 [13068] INFO     root: Iteration 3336: RMSE=0.6367, MAE=0.6367\n",
      "2025-02-09 13:40:06,571 [13068] INFO     root: Iteration 3337: RMSE=5.8175, MAE=5.8175\n",
      "2025-02-09 13:40:06,602 [13068] INFO     ml_monitor.logging: Starting metrics logging thread...\n",
      "2025-02-09 13:40:06,690 [13068] INFO     root: Iteration 3338: RMSE=1.3227, MAE=1.3227\n",
      "2025-02-09 13:40:06,784 [13068] INFO     root: Iteration 3339: RMSE=15.7679, MAE=15.7679\n",
      "2025-02-09 13:40:06,890 [13068] INFO     root: Iteration 3340: RMSE=0.9690, MAE=0.9690\n",
      "2025-02-09 13:40:07,125 [13068] INFO     root: Iteration 3341: RMSE=2.7746, MAE=2.7746\n",
      "2025-02-09 13:40:07,251 [13068] INFO     root: Iteration 3342: RMSE=5.8811, MAE=5.8811\n",
      "2025-02-09 13:40:07,347 [13068] INFO     root: Iteration 3343: RMSE=2.5855, MAE=2.5855\n",
      "2025-02-09 13:40:07,461 [13068] INFO     root: Iteration 3344: RMSE=2.5855, MAE=2.5855\n",
      "2025-02-09 13:40:07,589 [13068] INFO     root: Iteration 3345: RMSE=4.2530, MAE=4.2530\n",
      "2025-02-09 13:40:07,690 [13068] INFO     root: Iteration 3346: RMSE=1.6668, MAE=1.6668\n",
      "2025-02-09 13:40:07,792 [13068] INFO     root: Iteration 3347: RMSE=3.9035, MAE=3.9035\n",
      "2025-02-09 13:40:07,894 [13068] INFO     root: Iteration 3348: RMSE=3.9228, MAE=3.9228\n",
      "2025-02-09 13:40:07,983 [13068] INFO     root: Iteration 3349: RMSE=5.1385, MAE=5.1385\n",
      "2025-02-09 13:40:08,100 [13068] INFO     root: Iteration 3350: RMSE=1.2345, MAE=1.2345\n",
      "2025-02-09 13:40:08,181 [13068] INFO     root: Iteration 3351: RMSE=3.0048, MAE=3.0048\n",
      "2025-02-09 13:40:08,270 [13068] INFO     root: Iteration 3352: RMSE=0.9510, MAE=0.9510\n",
      "2025-02-09 13:40:08,361 [13068] INFO     root: Iteration 3353: RMSE=3.6498, MAE=3.6498\n",
      "2025-02-09 13:40:08,452 [13068] INFO     root: Iteration 3354: RMSE=0.4278, MAE=0.4278\n",
      "2025-02-09 13:40:08,568 [13068] INFO     root: Iteration 3355: RMSE=0.6367, MAE=0.6367\n",
      "2025-02-09 13:40:08,657 [13068] INFO     root: Iteration 3356: RMSE=5.3491, MAE=5.3491\n",
      "2025-02-09 13:40:08,752 [13068] INFO     root: Iteration 3357: RMSE=15.7679, MAE=15.7679\n",
      "2025-02-09 13:40:08,850 [13068] INFO     root: Iteration 3358: RMSE=1.6861, MAE=1.6861\n",
      "2025-02-09 13:40:08,942 [13068] INFO     root: Iteration 3359: RMSE=0.4053, MAE=0.4053\n",
      "2025-02-09 13:40:09,039 [13068] INFO     root: Iteration 3360: RMSE=3.9228, MAE=3.9228\n",
      "2025-02-09 13:40:09,134 [13068] INFO     root: Iteration 3361: RMSE=2.2823, MAE=2.2823\n",
      "2025-02-09 13:40:09,249 [13068] INFO     root: Iteration 3362: RMSE=1.7797, MAE=1.7797\n",
      "2025-02-09 13:40:09,334 [13068] INFO     root: Iteration 3363: RMSE=0.6820, MAE=0.6820\n",
      "2025-02-09 13:40:09,436 [13068] INFO     root: Iteration 3364: RMSE=2.4407, MAE=2.4407\n",
      "2025-02-09 13:40:09,518 [13068] INFO     root: Iteration 3365: RMSE=0.9510, MAE=0.9510\n",
      "2025-02-09 13:40:09,605 [13068] INFO     root: Iteration 3366: RMSE=5.1385, MAE=5.1385\n",
      "2025-02-09 13:40:09,705 [13068] INFO     root: Iteration 3367: RMSE=3.1092, MAE=3.1092\n",
      "2025-02-09 13:40:09,903 [13068] INFO     root: Iteration 3368: RMSE=3.6498, MAE=3.6498\n",
      "2025-02-09 13:40:09,991 [13068] INFO     root: Iteration 3369: RMSE=1.3937, MAE=1.3937\n",
      "2025-02-09 13:40:10,096 [13068] INFO     root: Iteration 3370: RMSE=0.1636, MAE=0.1636\n",
      "2025-02-09 13:40:10,179 [13068] INFO     root: Iteration 3371: RMSE=4.3271, MAE=4.3271\n",
      "2025-02-09 13:40:10,284 [13068] INFO     root: Iteration 3372: RMSE=3.9035, MAE=3.9035\n",
      "2025-02-09 13:40:10,386 [13068] INFO     root: Iteration 3373: RMSE=2.1957, MAE=2.1957\n",
      "2025-02-09 13:40:10,481 [13068] INFO     root: Iteration 3374: RMSE=2.2324, MAE=2.2324\n",
      "2025-02-09 13:40:10,576 [13068] INFO     root: Iteration 3375: RMSE=1.9891, MAE=1.9891\n",
      "2025-02-09 13:40:10,678 [13068] INFO     root: Iteration 3376: RMSE=1.9891, MAE=1.9891\n",
      "2025-02-09 13:40:10,820 [13068] INFO     root: Iteration 3377: RMSE=0.5028, MAE=0.5028\n",
      "2025-02-09 13:40:11,273 [13068] INFO     root: Metrics pushed at iteration 3377. RMSE=0.5028, MAE=0.5028\n",
      "2025-02-09 13:40:11,351 [13068] INFO     root: Iteration 3378: RMSE=3.2950, MAE=3.2950\n",
      "2025-02-09 13:40:11,423 [13068] INFO     root: Iteration 3379: RMSE=2.5983, MAE=2.5983\n",
      "2025-02-09 13:40:11,501 [13068] INFO     root: Iteration 3380: RMSE=0.2445, MAE=0.2445\n",
      "2025-02-09 13:40:11,582 [13068] INFO     root: Iteration 3381: RMSE=1.9891, MAE=1.9891\n",
      "2025-02-09 13:40:11,620 [13068] INFO     ml_monitor.logging: Starting metrics logging thread...\n",
      "2025-02-09 13:40:11,666 [13068] INFO     root: Iteration 3382: RMSE=2.2823, MAE=2.2823\n",
      "2025-02-09 13:40:11,746 [13068] INFO     root: Iteration 3383: RMSE=21.1875, MAE=21.1875\n",
      "2025-02-09 13:40:11,835 [13068] INFO     root: Iteration 3384: RMSE=0.9510, MAE=0.9510\n",
      "2025-02-09 13:40:11,923 [13068] INFO     root: Iteration 3385: RMSE=1.5289, MAE=1.5289\n",
      "2025-02-09 13:40:12,005 [13068] INFO     root: Iteration 3386: RMSE=1.6668, MAE=1.6668\n",
      "2025-02-09 13:40:12,139 [13068] INFO     root: Iteration 3387: RMSE=2.1281, MAE=2.1281\n",
      "2025-02-09 13:40:12,230 [13068] INFO     root: Iteration 3388: RMSE=1.2345, MAE=1.2345\n",
      "2025-02-09 13:40:12,319 [13068] INFO     root: Iteration 3389: RMSE=3.2372, MAE=3.2372\n",
      "2025-02-09 13:40:12,428 [13068] INFO     root: Iteration 3390: RMSE=0.5423, MAE=0.5423\n",
      "2025-02-09 13:40:12,522 [13068] INFO     root: Iteration 3391: RMSE=1.3937, MAE=1.3937\n",
      "2025-02-09 13:40:12,622 [13068] INFO     root: Iteration 3392: RMSE=1.0341, MAE=1.0341\n",
      "2025-02-09 13:40:12,737 [13068] INFO     root: Iteration 3393: RMSE=6.3484, MAE=6.3484\n",
      "2025-02-09 13:40:12,836 [13068] INFO     root: Iteration 3394: RMSE=1.3227, MAE=1.3227\n",
      "2025-02-09 13:40:12,945 [13068] INFO     root: Iteration 3395: RMSE=0.5329, MAE=0.5329\n",
      "2025-02-09 13:40:13,112 [13068] INFO     root: Iteration 3396: RMSE=2.7746, MAE=2.7746\n",
      "2025-02-09 13:40:13,228 [13068] INFO     root: Iteration 3397: RMSE=3.2372, MAE=3.2372\n",
      "2025-02-09 13:40:13,335 [13068] INFO     root: Iteration 3398: RMSE=1.9470, MAE=1.9470\n",
      "2025-02-09 13:40:13,444 [13068] INFO     root: Iteration 3399: RMSE=0.2356, MAE=0.2356\n",
      "2025-02-09 13:40:13,562 [13068] INFO     root: Iteration 3400: RMSE=2.6178, MAE=2.6178\n",
      "2025-02-09 13:40:13,673 [13068] INFO     root: Iteration 3401: RMSE=2.0594, MAE=2.0594\n",
      "2025-02-09 13:40:13,776 [13068] INFO     root: Iteration 3402: RMSE=0.8502, MAE=0.8502\n",
      "2025-02-09 13:40:13,886 [13068] INFO     root: Iteration 3403: RMSE=2.6178, MAE=2.6178\n",
      "2025-02-09 13:40:13,993 [13068] INFO     root: Iteration 3404: RMSE=0.0190, MAE=0.0190\n",
      "2025-02-09 13:40:14,093 [13068] INFO     root: Iteration 3405: RMSE=4.2530, MAE=4.2530\n",
      "2025-02-09 13:40:14,201 [13068] INFO     root: Iteration 3406: RMSE=2.5983, MAE=2.5983\n",
      "2025-02-09 13:40:14,309 [13068] INFO     root: Iteration 3407: RMSE=3.9035, MAE=3.9035\n",
      "2025-02-09 13:40:14,412 [13068] INFO     root: Iteration 3408: RMSE=0.8502, MAE=0.8502\n",
      "2025-02-09 13:40:14,524 [13068] INFO     root: Iteration 3409: RMSE=3.6498, MAE=3.6498\n",
      "2025-02-09 13:40:14,622 [13068] INFO     root: Iteration 3410: RMSE=2.2823, MAE=2.2823\n",
      "2025-02-09 13:40:14,731 [13068] INFO     root: Iteration 3411: RMSE=7.4122, MAE=7.4122\n",
      "2025-02-09 13:40:14,893 [13068] INFO     root: Iteration 3412: RMSE=0.8502, MAE=0.8502\n",
      "2025-02-09 13:40:15,005 [13068] INFO     root: Iteration 3413: RMSE=21.1875, MAE=21.1875\n",
      "2025-02-09 13:40:15,121 [13068] INFO     root: Iteration 3414: RMSE=1.7797, MAE=1.7797\n",
      "2025-02-09 13:40:15,246 [13068] INFO     root: Iteration 3415: RMSE=5.8175, MAE=5.8175\n",
      "2025-02-09 13:40:15,352 [13068] INFO     root: Iteration 3416: RMSE=21.1875, MAE=21.1875\n",
      "2025-02-09 13:40:15,451 [13068] INFO     root: Iteration 3417: RMSE=0.6277, MAE=0.6277\n",
      "2025-02-09 13:40:15,552 [13068] INFO     root: Iteration 3418: RMSE=1.2841, MAE=1.2841\n",
      "2025-02-09 13:40:15,648 [13068] INFO     root: Iteration 3419: RMSE=2.2823, MAE=2.2823\n",
      "2025-02-09 13:40:15,748 [13068] INFO     root: Iteration 3420: RMSE=2.1957, MAE=2.1957\n",
      "2025-02-09 13:40:15,838 [13068] INFO     root: Iteration 3421: RMSE=2.7746, MAE=2.7746\n",
      "2025-02-09 13:40:15,935 [13068] INFO     root: Iteration 3422: RMSE=2.5855, MAE=2.5855\n",
      "2025-02-09 13:40:16,029 [13068] INFO     root: Iteration 3423: RMSE=1.6861, MAE=1.6861\n",
      "2025-02-09 13:40:16,124 [13068] INFO     root: Iteration 3424: RMSE=5.8811, MAE=5.8811\n",
      "2025-02-09 13:40:16,231 [13068] INFO     root: Iteration 3425: RMSE=1.9834, MAE=1.9834\n",
      "2025-02-09 13:40:16,386 [13068] INFO     root: Iteration 3426: RMSE=0.5329, MAE=0.5329\n",
      "2025-02-09 13:40:16,480 [13068] INFO     root: Iteration 3427: RMSE=2.6178, MAE=2.6178\n",
      "2025-02-09 13:40:16,581 [13068] INFO     root: Iteration 3428: RMSE=2.2319, MAE=2.2319\n",
      "2025-02-09 13:40:16,640 [13068] INFO     ml_monitor.logging: Starting metrics logging thread...\n",
      "2025-02-09 13:40:16,705 [13068] INFO     root: Iteration 3429: RMSE=0.4811, MAE=0.4811\n",
      "2025-02-09 13:40:16,796 [13068] INFO     root: Iteration 3430: RMSE=2.7746, MAE=2.7746\n",
      "2025-02-09 13:40:16,890 [13068] INFO     root: Iteration 3431: RMSE=1.9954, MAE=1.9954\n",
      "2025-02-09 13:40:16,980 [13068] INFO     root: Iteration 3432: RMSE=0.1550, MAE=0.1550\n",
      "2025-02-09 13:40:17,114 [13068] INFO     root: Iteration 3433: RMSE=2.2823, MAE=2.2823\n",
      "2025-02-09 13:40:17,206 [13068] INFO     root: Iteration 3434: RMSE=1.9470, MAE=1.9470\n",
      "2025-02-09 13:40:17,310 [13068] INFO     root: Iteration 3435: RMSE=3.0641, MAE=3.0641\n",
      "2025-02-09 13:40:17,402 [13068] INFO     root: Iteration 3436: RMSE=1.6861, MAE=1.6861\n",
      "2025-02-09 13:40:17,505 [13068] INFO     root: Iteration 3437: RMSE=2.7728, MAE=2.7728\n",
      "2025-02-09 13:40:17,596 [13068] INFO     root: Iteration 3438: RMSE=3.2372, MAE=3.2372\n",
      "2025-02-09 13:40:17,684 [13068] INFO     root: Iteration 3439: RMSE=5.1385, MAE=5.1385\n",
      "2025-02-09 13:40:17,775 [13068] INFO     root: Iteration 3440: RMSE=0.6004, MAE=0.6004\n",
      "2025-02-09 13:40:17,867 [13068] INFO     root: Iteration 3441: RMSE=1.0341, MAE=1.0341\n",
      "2025-02-09 13:40:18,013 [13068] INFO     root: Iteration 3442: RMSE=21.1875, MAE=21.1875\n",
      "2025-02-09 13:40:18,109 [13068] INFO     root: Iteration 3443: RMSE=4.2272, MAE=4.2272\n",
      "2025-02-09 13:40:18,198 [13068] INFO     root: Iteration 3444: RMSE=0.9510, MAE=0.9510\n",
      "2025-02-09 13:40:18,293 [13068] INFO     root: Iteration 3445: RMSE=4.2619, MAE=4.2619\n",
      "2025-02-09 13:40:18,400 [13068] INFO     root: Iteration 3446: RMSE=1.2345, MAE=1.2345\n",
      "2025-02-09 13:40:18,490 [13068] INFO     root: Iteration 3447: RMSE=1.2345, MAE=1.2345\n",
      "2025-02-09 13:40:18,581 [13068] INFO     root: Iteration 3448: RMSE=0.5423, MAE=0.5423\n",
      "2025-02-09 13:40:18,669 [13068] INFO     root: Iteration 3449: RMSE=0.6820, MAE=0.6820\n",
      "2025-02-09 13:40:18,748 [13068] INFO     root: Iteration 3450: RMSE=0.1636, MAE=0.1636\n",
      "2025-02-09 13:40:18,828 [13068] INFO     root: Iteration 3451: RMSE=2.0594, MAE=2.0594\n",
      "2025-02-09 13:40:18,916 [13068] INFO     root: Iteration 3452: RMSE=0.5028, MAE=0.5028\n",
      "2025-02-09 13:40:19,007 [13068] INFO     root: Iteration 3453: RMSE=1.9024, MAE=1.9024\n",
      "2025-02-09 13:40:19,086 [13068] INFO     root: Iteration 3454: RMSE=3.0048, MAE=3.0048\n",
      "2025-02-09 13:40:19,177 [13068] INFO     root: Iteration 3455: RMSE=0.9201, MAE=0.9201\n",
      "2025-02-09 13:40:19,274 [13068] INFO     root: Iteration 3456: RMSE=2.4091, MAE=2.4091\n",
      "2025-02-09 13:40:19,368 [13068] INFO     root: Iteration 3457: RMSE=7.4122, MAE=7.4122\n",
      "2025-02-09 13:40:19,475 [13068] INFO     root: Iteration 3458: RMSE=3.0048, MAE=3.0048\n",
      "2025-02-09 13:40:19,621 [13068] INFO     root: Iteration 3459: RMSE=3.0048, MAE=3.0048\n",
      "2025-02-09 13:40:19,720 [13068] INFO     root: Iteration 3460: RMSE=0.0329, MAE=0.0329\n",
      "2025-02-09 13:40:19,817 [13068] INFO     root: Iteration 3461: RMSE=0.6367, MAE=0.6367\n",
      "2025-02-09 13:40:19,908 [13068] INFO     root: Iteration 3462: RMSE=2.4091, MAE=2.4091\n",
      "2025-02-09 13:40:20,014 [13068] INFO     root: Iteration 3463: RMSE=3.9035, MAE=3.9035\n",
      "2025-02-09 13:40:20,103 [13068] INFO     root: Iteration 3464: RMSE=0.9510, MAE=0.9510\n",
      "2025-02-09 13:40:20,189 [13068] INFO     root: Iteration 3465: RMSE=2.5855, MAE=2.5855\n",
      "2025-02-09 13:40:20,286 [13068] INFO     root: Iteration 3466: RMSE=2.2319, MAE=2.2319\n",
      "2025-02-09 13:40:20,388 [13068] INFO     root: Iteration 3467: RMSE=4.2733, MAE=4.2733\n",
      "2025-02-09 13:40:20,480 [13068] INFO     root: Iteration 3468: RMSE=0.8280, MAE=0.8280\n",
      "2025-02-09 13:40:20,580 [13068] INFO     root: Iteration 3469: RMSE=0.9176, MAE=0.9176\n",
      "2025-02-09 13:40:20,672 [13068] INFO     root: Iteration 3470: RMSE=4.8742, MAE=4.8742\n",
      "2025-02-09 13:40:20,759 [13068] INFO     root: Iteration 3471: RMSE=2.1281, MAE=2.1281\n",
      "2025-02-09 13:40:20,848 [13068] INFO     root: Iteration 3472: RMSE=3.0641, MAE=3.0641\n",
      "2025-02-09 13:40:21,348 [13068] INFO     root: Metrics pushed at iteration 3472. RMSE=3.0641, MAE=3.0641\n",
      "2025-02-09 13:40:21,439 [13068] INFO     root: Iteration 3473: RMSE=4.3700, MAE=4.3700\n",
      "2025-02-09 13:40:21,529 [13068] INFO     root: Iteration 3474: RMSE=1.9954, MAE=1.9954\n",
      "2025-02-09 13:40:21,613 [13068] INFO     root: Iteration 3475: RMSE=0.2445, MAE=0.2445\n",
      "2025-02-09 13:40:21,661 [13068] INFO     ml_monitor.logging: Starting metrics logging thread...\n",
      "2025-02-09 13:40:21,704 [13068] INFO     root: Iteration 3476: RMSE=2.7728, MAE=2.7728\n",
      "2025-02-09 13:40:21,787 [13068] INFO     root: Iteration 3477: RMSE=0.0329, MAE=0.0329\n",
      "2025-02-09 13:40:21,875 [13068] INFO     root: Iteration 3478: RMSE=3.2372, MAE=3.2372\n",
      "2025-02-09 13:40:21,972 [13068] INFO     root: Iteration 3479: RMSE=1.5289, MAE=1.5289\n",
      "2025-02-09 13:40:22,225 [13068] INFO     root: Iteration 3480: RMSE=1.7964, MAE=1.7964\n",
      "2025-02-09 13:40:22,347 [13068] INFO     root: Iteration 3481: RMSE=2.8002, MAE=2.8002\n",
      "2025-02-09 13:40:22,486 [13068] INFO     root: Iteration 3482: RMSE=1.0783, MAE=1.0783\n",
      "2025-02-09 13:40:22,588 [13068] INFO     root: Iteration 3483: RMSE=2.2319, MAE=2.2319\n",
      "2025-02-09 13:40:22,687 [13068] INFO     root: Iteration 3484: RMSE=3.6498, MAE=3.6498\n",
      "2025-02-09 13:40:22,820 [13068] INFO     root: Iteration 3485: RMSE=1.9374, MAE=1.9374\n",
      "2025-02-09 13:40:22,947 [13068] INFO     root: Iteration 3486: RMSE=4.8742, MAE=4.8742\n",
      "2025-02-09 13:40:23,114 [13068] INFO     root: Iteration 3487: RMSE=5.0666, MAE=5.0666\n",
      "2025-02-09 13:40:23,240 [13068] INFO     root: Iteration 3488: RMSE=2.8002, MAE=2.8002\n",
      "2025-02-09 13:40:23,378 [13068] INFO     root: Iteration 3489: RMSE=2.7728, MAE=2.7728\n",
      "2025-02-09 13:40:23,489 [13068] INFO     root: Iteration 3490: RMSE=4.8742, MAE=4.8742\n",
      "2025-02-09 13:40:23,600 [13068] INFO     root: Iteration 3491: RMSE=0.0190, MAE=0.0190\n",
      "2025-02-09 13:40:23,694 [13068] INFO     root: Iteration 3492: RMSE=7.1962, MAE=7.1962\n",
      "2025-02-09 13:40:23,847 [13068] INFO     root: Iteration 3493: RMSE=5.3491, MAE=5.3491\n",
      "2025-02-09 13:40:23,953 [13068] INFO     root: Iteration 3494: RMSE=2.2823, MAE=2.2823\n",
      "2025-02-09 13:40:24,105 [13068] INFO     root: Iteration 3495: RMSE=2.1281, MAE=2.1281\n",
      "2025-02-09 13:40:24,191 [13068] INFO     root: Iteration 3496: RMSE=0.9176, MAE=0.9176\n",
      "2025-02-09 13:40:24,305 [13068] INFO     root: Iteration 3497: RMSE=0.6820, MAE=0.6820\n",
      "2025-02-09 13:40:24,389 [13068] INFO     root: Iteration 3498: RMSE=15.7679, MAE=15.7679\n",
      "2025-02-09 13:40:24,491 [13068] INFO     root: Iteration 3499: RMSE=0.4278, MAE=0.4278\n",
      "2025-02-09 13:40:24,577 [13068] INFO     root: Iteration 3500: RMSE=1.6861, MAE=1.6861\n",
      "2025-02-09 13:40:24,732 [13068] INFO     root: Iteration 3501: RMSE=0.6367, MAE=0.6367\n",
      "2025-02-09 13:40:24,826 [13068] INFO     root: Iteration 3502: RMSE=2.0594, MAE=2.0594\n",
      "2025-02-09 13:40:24,931 [13068] INFO     root: Iteration 3503: RMSE=0.8295, MAE=0.8295\n",
      "2025-02-09 13:40:25,029 [13068] INFO     root: Iteration 3504: RMSE=4.2530, MAE=4.2530\n",
      "2025-02-09 13:40:25,119 [13068] INFO     root: Iteration 3505: RMSE=0.8502, MAE=0.8502\n",
      "2025-02-09 13:40:25,221 [13068] INFO     root: Iteration 3506: RMSE=0.8502, MAE=0.8502\n",
      "2025-02-09 13:40:25,324 [13068] INFO     root: Iteration 3507: RMSE=2.2823, MAE=2.2823\n",
      "2025-02-09 13:40:25,431 [13068] INFO     root: Iteration 3508: RMSE=1.3227, MAE=1.3227\n",
      "2025-02-09 13:40:25,533 [13068] INFO     root: Iteration 3509: RMSE=1.9834, MAE=1.9834\n",
      "2025-02-09 13:40:25,627 [13068] INFO     root: Iteration 3510: RMSE=4.2530, MAE=4.2530\n",
      "2025-02-09 13:40:25,710 [13068] INFO     root: Iteration 3511: RMSE=2.2823, MAE=2.2823\n",
      "2025-02-09 13:40:25,807 [13068] INFO     root: Iteration 3512: RMSE=2.7728, MAE=2.7728\n",
      "2025-02-09 13:40:25,903 [13068] INFO     root: Iteration 3513: RMSE=4.3700, MAE=4.3700\n",
      "2025-02-09 13:40:26,003 [13068] INFO     root: Iteration 3514: RMSE=0.1640, MAE=0.1640\n",
      "2025-02-09 13:40:26,142 [13068] INFO     root: Iteration 3515: RMSE=5.3491, MAE=5.3491\n",
      "2025-02-09 13:40:26,245 [13068] INFO     root: Iteration 3516: RMSE=0.9201, MAE=0.9201\n",
      "2025-02-09 13:40:26,339 [13068] INFO     root: Iteration 3517: RMSE=6.4895, MAE=6.4895\n",
      "2025-02-09 13:40:26,434 [13068] INFO     root: Iteration 3518: RMSE=7.1962, MAE=7.1962\n",
      "2025-02-09 13:40:26,545 [13068] INFO     root: Iteration 3519: RMSE=3.1092, MAE=3.1092\n",
      "2025-02-09 13:40:26,653 [13068] INFO     root: Iteration 3520: RMSE=0.0190, MAE=0.0190\n",
      "2025-02-09 13:40:26,680 [13068] INFO     ml_monitor.logging: Starting metrics logging thread...\n",
      "2025-02-09 13:40:26,765 [13068] INFO     root: Iteration 3521: RMSE=0.4554, MAE=0.4554\n",
      "2025-02-09 13:40:26,868 [13068] INFO     root: Iteration 3522: RMSE=0.0329, MAE=0.0329\n",
      "2025-02-09 13:40:27,029 [13068] INFO     root: Iteration 3523: RMSE=0.1636, MAE=0.1636\n",
      "2025-02-09 13:40:27,129 [13068] INFO     root: Iteration 3524: RMSE=4.3271, MAE=4.3271\n",
      "2025-02-09 13:40:27,229 [13068] INFO     root: Iteration 3525: RMSE=1.0837, MAE=1.0837\n",
      "2025-02-09 13:40:27,324 [13068] INFO     root: Iteration 3526: RMSE=2.4091, MAE=2.4091\n",
      "2025-02-09 13:40:27,427 [13068] INFO     root: Iteration 3527: RMSE=1.7964, MAE=1.7964\n",
      "2025-02-09 13:40:27,523 [13068] INFO     root: Iteration 3528: RMSE=0.6820, MAE=0.6820\n",
      "2025-02-09 13:40:27,677 [13068] INFO     root: Iteration 3529: RMSE=4.2733, MAE=4.2733\n",
      "2025-02-09 13:40:27,789 [13068] INFO     root: Iteration 3530: RMSE=3.9228, MAE=3.9228\n",
      "2025-02-09 13:40:27,886 [13068] INFO     root: Iteration 3531: RMSE=0.5329, MAE=0.5329\n",
      "2025-02-09 13:40:27,968 [13068] INFO     root: Iteration 3532: RMSE=6.5607, MAE=6.5607\n",
      "2025-02-09 13:40:28,074 [13068] INFO     root: Iteration 3533: RMSE=1.5147, MAE=1.5147\n",
      "2025-02-09 13:40:28,161 [13068] INFO     root: Iteration 3534: RMSE=1.5147, MAE=1.5147\n",
      "2025-02-09 13:40:28,256 [13068] INFO     root: Iteration 3535: RMSE=3.9035, MAE=3.9035\n",
      "2025-02-09 13:40:28,339 [13068] INFO     root: Iteration 3536: RMSE=1.6668, MAE=1.6668\n",
      "2025-02-09 13:40:28,421 [13068] INFO     root: Iteration 3537: RMSE=3.2950, MAE=3.2950\n",
      "2025-02-09 13:40:28,522 [13068] INFO     root: Iteration 3538: RMSE=7.4122, MAE=7.4122\n",
      "2025-02-09 13:40:28,616 [13068] INFO     root: Iteration 3539: RMSE=0.1640, MAE=0.1640\n",
      "2025-02-09 13:40:28,722 [13068] INFO     root: Iteration 3540: RMSE=6.3484, MAE=6.3484\n",
      "2025-02-09 13:40:28,821 [13068] INFO     root: Iteration 3541: RMSE=4.8742, MAE=4.8742\n",
      "2025-02-09 13:40:28,973 [13068] INFO     root: Iteration 3542: RMSE=5.1399, MAE=5.1399\n",
      "2025-02-09 13:40:29,073 [13068] INFO     root: Iteration 3543: RMSE=1.2841, MAE=1.2841\n",
      "2025-02-09 13:40:29,173 [13068] INFO     root: Iteration 3544: RMSE=2.1020, MAE=2.1020\n",
      "2025-02-09 13:40:29,287 [13068] INFO     root: Iteration 3545: RMSE=0.6277, MAE=0.6277\n",
      "2025-02-09 13:40:29,393 [13068] INFO     root: Iteration 3546: RMSE=6.4895, MAE=6.4895\n",
      "2025-02-09 13:40:29,493 [13068] INFO     root: Iteration 3547: RMSE=6.5607, MAE=6.5607\n",
      "2025-02-09 13:40:29,593 [13068] INFO     root: Iteration 3548: RMSE=5.1399, MAE=5.1399\n",
      "2025-02-09 13:40:29,766 [13068] INFO     root: Iteration 3549: RMSE=0.4278, MAE=0.4278\n",
      "2025-02-09 13:40:29,866 [13068] INFO     root: Iteration 3550: RMSE=4.3700, MAE=4.3700\n",
      "2025-02-09 13:40:29,971 [13068] INFO     root: Iteration 3551: RMSE=1.2345, MAE=1.2345\n",
      "2025-02-09 13:40:30,122 [13068] INFO     root: Iteration 3552: RMSE=4.2530, MAE=4.2530\n",
      "2025-02-09 13:40:30,228 [13068] INFO     root: Iteration 3553: RMSE=0.4811, MAE=0.4811\n",
      "2025-02-09 13:40:30,351 [13068] INFO     root: Iteration 3554: RMSE=0.9176, MAE=0.9176\n",
      "2025-02-09 13:40:30,475 [13068] INFO     root: Iteration 3555: RMSE=0.6367, MAE=0.6367\n",
      "2025-02-09 13:40:30,585 [13068] INFO     root: Iteration 3556: RMSE=2.0594, MAE=2.0594\n",
      "2025-02-09 13:40:30,689 [13068] INFO     root: Iteration 3557: RMSE=2.8002, MAE=2.8002\n",
      "2025-02-09 13:40:30,801 [13068] INFO     root: Iteration 3558: RMSE=0.2356, MAE=0.2356\n",
      "2025-02-09 13:40:30,896 [13068] INFO     root: Iteration 3559: RMSE=21.1875, MAE=21.1875\n",
      "2025-02-09 13:40:31,440 [13068] INFO     root: Metrics pushed at iteration 3559. RMSE=21.1875, MAE=21.1875\n",
      "2025-02-09 13:40:31,566 [13068] INFO     root: Iteration 3560: RMSE=0.1136, MAE=0.1136\n",
      "2025-02-09 13:40:31,662 [13068] INFO     root: Iteration 3561: RMSE=0.8502, MAE=0.8502\n",
      "2025-02-09 13:40:31,700 [13068] INFO     ml_monitor.logging: Starting metrics logging thread...\n",
      "2025-02-09 13:40:31,790 [13068] INFO     root: Iteration 3562: RMSE=3.2372, MAE=3.2372\n",
      "2025-02-09 13:40:31,890 [13068] INFO     root: Iteration 3563: RMSE=0.1550, MAE=0.1550\n",
      "2025-02-09 13:40:32,023 [13068] INFO     root: Iteration 3564: RMSE=2.1020, MAE=2.1020\n",
      "2025-02-09 13:40:32,121 [13068] INFO     root: Iteration 3565: RMSE=0.1136, MAE=0.1136\n",
      "2025-02-09 13:40:32,234 [13068] INFO     root: Iteration 3566: RMSE=7.1962, MAE=7.1962\n",
      "2025-02-09 13:40:32,330 [13068] INFO     root: Iteration 3567: RMSE=2.2823, MAE=2.2823\n",
      "2025-02-09 13:40:32,417 [13068] INFO     root: Iteration 3568: RMSE=1.9374, MAE=1.9374\n",
      "2025-02-09 13:40:32,522 [13068] INFO     root: Iteration 3569: RMSE=1.9954, MAE=1.9954\n",
      "2025-02-09 13:40:32,640 [13068] INFO     root: Iteration 3570: RMSE=2.4091, MAE=2.4091\n",
      "2025-02-09 13:40:32,863 [13068] INFO     root: Iteration 3571: RMSE=2.1020, MAE=2.1020\n",
      "2025-02-09 13:40:32,965 [13068] INFO     root: Iteration 3572: RMSE=5.2814, MAE=5.2814\n",
      "2025-02-09 13:40:33,064 [13068] INFO     root: Iteration 3573: RMSE=0.8280, MAE=0.8280\n",
      "2025-02-09 13:40:33,190 [13068] INFO     root: Iteration 3574: RMSE=1.9834, MAE=1.9834\n",
      "2025-02-09 13:40:33,302 [13068] INFO     root: Iteration 3575: RMSE=1.3937, MAE=1.3937\n",
      "2025-02-09 13:40:33,436 [13068] INFO     root: Iteration 3576: RMSE=1.5289, MAE=1.5289\n",
      "2025-02-09 13:40:33,577 [13068] INFO     root: Iteration 3577: RMSE=0.6004, MAE=0.6004\n",
      "2025-02-09 13:40:33,698 [13068] INFO     root: Iteration 3578: RMSE=1.2010, MAE=1.2010\n",
      "2025-02-09 13:40:33,834 [13068] INFO     root: Iteration 3579: RMSE=1.9374, MAE=1.9374\n",
      "2025-02-09 13:40:33,929 [13068] INFO     root: Iteration 3580: RMSE=4.2733, MAE=4.2733\n",
      "2025-02-09 13:40:34,032 [13068] INFO     root: Iteration 3581: RMSE=2.4091, MAE=2.4091\n",
      "2025-02-09 13:40:34,129 [13068] INFO     root: Iteration 3582: RMSE=0.5028, MAE=0.5028\n",
      "2025-02-09 13:40:34,233 [13068] INFO     root: Iteration 3583: RMSE=3.0641, MAE=3.0641\n",
      "2025-02-09 13:40:34,330 [13068] INFO     root: Iteration 3584: RMSE=1.9470, MAE=1.9470\n",
      "2025-02-09 13:40:34,423 [13068] INFO     root: Iteration 3585: RMSE=3.2950, MAE=3.2950\n",
      "2025-02-09 13:40:34,653 [13068] INFO     root: Iteration 3586: RMSE=0.5423, MAE=0.5423\n",
      "2025-02-09 13:40:34,771 [13068] INFO     root: Iteration 3587: RMSE=0.6820, MAE=0.6820\n",
      "2025-02-09 13:40:34,868 [13068] INFO     root: Iteration 3588: RMSE=7.1880, MAE=7.1880\n",
      "2025-02-09 13:40:34,960 [13068] INFO     root: Iteration 3589: RMSE=1.2841, MAE=1.2841\n",
      "2025-02-09 13:40:35,082 [13068] INFO     root: Iteration 3590: RMSE=1.0837, MAE=1.0837\n",
      "2025-02-09 13:40:35,204 [13068] INFO     root: Iteration 3591: RMSE=1.6861, MAE=1.6861\n",
      "2025-02-09 13:40:35,311 [13068] INFO     root: Iteration 3592: RMSE=5.0666, MAE=5.0666\n",
      "2025-02-09 13:40:35,410 [13068] INFO     root: Iteration 3593: RMSE=3.1092, MAE=3.1092\n",
      "2025-02-09 13:40:35,518 [13068] INFO     root: Iteration 3594: RMSE=3.2372, MAE=3.2372\n",
      "2025-02-09 13:40:35,613 [13068] INFO     root: Iteration 3595: RMSE=2.7728, MAE=2.7728\n",
      "2025-02-09 13:40:35,722 [13068] INFO     root: Iteration 3596: RMSE=2.2324, MAE=2.2324\n",
      "2025-02-09 13:40:35,962 [13068] INFO     root: Iteration 3597: RMSE=3.6498, MAE=3.6498\n",
      "2025-02-09 13:40:36,071 [13068] INFO     root: Iteration 3598: RMSE=6.5607, MAE=6.5607\n",
      "2025-02-09 13:40:36,211 [13068] INFO     root: Iteration 3599: RMSE=2.9898, MAE=2.9898\n",
      "2025-02-09 13:40:36,330 [13068] INFO     root: Iteration 3600: RMSE=0.1636, MAE=0.1636\n",
      "2025-02-09 13:40:36,439 [13068] INFO     root: Iteration 3601: RMSE=1.7964, MAE=1.7964\n",
      "2025-02-09 13:40:36,544 [13068] INFO     root: Iteration 3602: RMSE=21.1875, MAE=21.1875\n",
      "2025-02-09 13:40:36,641 [13068] INFO     root: Iteration 3603: RMSE=4.2272, MAE=4.2272\n",
      "2025-02-09 13:40:36,732 [13068] INFO     ml_monitor.logging: Starting metrics logging thread...\n",
      "2025-02-09 13:40:36,756 [13068] INFO     root: Iteration 3604: RMSE=1.9374, MAE=1.9374\n",
      "2025-02-09 13:40:36,856 [13068] INFO     root: Iteration 3605: RMSE=2.1281, MAE=2.1281\n",
      "2025-02-09 13:40:36,963 [13068] INFO     root: Iteration 3606: RMSE=5.8175, MAE=5.8175\n",
      "2025-02-09 13:40:37,063 [13068] INFO     root: Iteration 3607: RMSE=2.0594, MAE=2.0594\n",
      "2025-02-09 13:40:37,157 [13068] INFO     root: Iteration 3608: RMSE=0.2445, MAE=0.2445\n",
      "2025-02-09 13:40:37,262 [13068] INFO     root: Iteration 3609: RMSE=0.1636, MAE=0.1636\n",
      "2025-02-09 13:40:37,367 [13068] INFO     root: Iteration 3610: RMSE=1.6861, MAE=1.6861\n",
      "2025-02-09 13:40:37,478 [13068] INFO     root: Iteration 3611: RMSE=7.1962, MAE=7.1962\n",
      "2025-02-09 13:40:37,668 [13068] INFO     root: Iteration 3612: RMSE=3.6498, MAE=3.6498\n",
      "2025-02-09 13:40:37,765 [13068] INFO     root: Iteration 3613: RMSE=1.2841, MAE=1.2841\n",
      "2025-02-09 13:40:37,864 [13068] INFO     root: Iteration 3614: RMSE=3.0048, MAE=3.0048\n",
      "2025-02-09 13:40:37,954 [13068] INFO     root: Iteration 3615: RMSE=1.9834, MAE=1.9834\n",
      "2025-02-09 13:40:38,048 [13068] INFO     root: Iteration 3616: RMSE=4.2530, MAE=4.2530\n",
      "2025-02-09 13:40:38,160 [13068] INFO     root: Iteration 3617: RMSE=2.4091, MAE=2.4091\n",
      "2025-02-09 13:40:38,261 [13068] INFO     root: Iteration 3618: RMSE=0.6863, MAE=0.6863\n",
      "2025-02-09 13:40:38,370 [13068] INFO     root: Iteration 3619: RMSE=4.2272, MAE=4.2272\n",
      "2025-02-09 13:40:38,482 [13068] INFO     root: Iteration 3620: RMSE=0.4053, MAE=0.4053\n",
      "2025-02-09 13:40:38,645 [13068] INFO     root: Iteration 3621: RMSE=5.8175, MAE=5.8175\n",
      "2025-02-09 13:40:38,742 [13068] INFO     root: Iteration 3622: RMSE=2.4091, MAE=2.4091\n",
      "2025-02-09 13:40:38,869 [13068] INFO     root: Iteration 3623: RMSE=1.9374, MAE=1.9374\n",
      "2025-02-09 13:40:38,994 [13068] INFO     root: Iteration 3624: RMSE=0.9201, MAE=0.9201\n",
      "2025-02-09 13:40:39,095 [13068] INFO     root: Iteration 3625: RMSE=5.0666, MAE=5.0666\n",
      "2025-02-09 13:40:39,193 [13068] INFO     root: Iteration 3626: RMSE=2.0594, MAE=2.0594\n",
      "2025-02-09 13:40:39,284 [13068] INFO     root: Iteration 3627: RMSE=0.1636, MAE=0.1636\n",
      "2025-02-09 13:40:39,389 [13068] INFO     root: Iteration 3628: RMSE=3.0048, MAE=3.0048\n",
      "2025-02-09 13:40:39,496 [13068] INFO     root: Iteration 3629: RMSE=1.2841, MAE=1.2841\n",
      "2025-02-09 13:40:39,592 [13068] INFO     root: Iteration 3630: RMSE=0.1636, MAE=0.1636\n",
      "2025-02-09 13:40:39,716 [13068] INFO     root: Iteration 3631: RMSE=0.6820, MAE=0.6820\n",
      "2025-02-09 13:40:39,810 [13068] INFO     root: Iteration 3632: RMSE=2.4091, MAE=2.4091\n",
      "2025-02-09 13:40:39,953 [13068] INFO     root: Iteration 3633: RMSE=3.0048, MAE=3.0048\n",
      "2025-02-09 13:40:40,048 [13068] INFO     root: Iteration 3634: RMSE=1.3227, MAE=1.3227\n",
      "2025-02-09 13:40:40,147 [13068] INFO     root: Iteration 3635: RMSE=1.0837, MAE=1.0837\n",
      "2025-02-09 13:40:40,250 [13068] INFO     root: Iteration 3636: RMSE=3.9228, MAE=3.9228\n",
      "2025-02-09 13:40:40,355 [13068] INFO     root: Iteration 3637: RMSE=0.1636, MAE=0.1636\n",
      "2025-02-09 13:40:40,457 [13068] INFO     root: Iteration 3638: RMSE=7.4122, MAE=7.4122\n",
      "2025-02-09 13:40:40,552 [13068] INFO     root: Iteration 3639: RMSE=0.8295, MAE=0.8295\n",
      "2025-02-09 13:40:40,661 [13068] INFO     root: Iteration 3640: RMSE=0.6367, MAE=0.6367\n",
      "2025-02-09 13:40:40,843 [13068] INFO     root: Iteration 3641: RMSE=2.1957, MAE=2.1957\n",
      "2025-02-09 13:40:40,942 [13068] INFO     root: Iteration 3642: RMSE=4.8742, MAE=4.8742\n",
      "2025-02-09 13:40:41,431 [13068] INFO     root: Metrics pushed at iteration 3642. RMSE=4.8742, MAE=4.8742\n",
      "2025-02-09 13:40:41,542 [13068] INFO     root: Iteration 3643: RMSE=2.9898, MAE=2.9898\n",
      "2025-02-09 13:40:41,667 [13068] INFO     root: Iteration 3644: RMSE=0.1636, MAE=0.1636\n",
      "2025-02-09 13:40:41,747 [13068] INFO     ml_monitor.logging: Starting metrics logging thread...\n",
      "2025-02-09 13:40:41,789 [13068] INFO     root: Iteration 3645: RMSE=1.0837, MAE=1.0837\n",
      "2025-02-09 13:40:41,901 [13068] INFO     root: Iteration 3646: RMSE=1.0783, MAE=1.0783\n",
      "2025-02-09 13:40:42,003 [13068] INFO     root: Iteration 3647: RMSE=1.9374, MAE=1.9374\n",
      "2025-02-09 13:40:42,179 [13068] INFO     root: Iteration 3648: RMSE=2.0594, MAE=2.0594\n",
      "2025-02-09 13:40:42,290 [13068] INFO     root: Iteration 3649: RMSE=1.3937, MAE=1.3937\n",
      "2025-02-09 13:40:42,409 [13068] INFO     root: Iteration 3650: RMSE=4.2272, MAE=4.2272\n",
      "2025-02-09 13:40:42,509 [13068] INFO     root: Iteration 3651: RMSE=1.0837, MAE=1.0837\n",
      "2025-02-09 13:40:42,624 [13068] INFO     root: Iteration 3652: RMSE=4.3271, MAE=4.3271\n",
      "2025-02-09 13:40:42,721 [13068] INFO     root: Iteration 3653: RMSE=5.3491, MAE=5.3491\n",
      "2025-02-09 13:40:42,856 [13068] INFO     root: Iteration 3654: RMSE=1.5147, MAE=1.5147\n",
      "2025-02-09 13:40:42,962 [13068] INFO     root: Iteration 3655: RMSE=2.1020, MAE=2.1020\n",
      "2025-02-09 13:40:43,076 [13068] INFO     root: Iteration 3656: RMSE=3.0812, MAE=3.0812\n",
      "2025-02-09 13:40:43,182 [13068] INFO     root: Iteration 3657: RMSE=1.5147, MAE=1.5147\n",
      "2025-02-09 13:40:43,355 [13068] INFO     root: Iteration 3658: RMSE=2.5983, MAE=2.5983\n",
      "2025-02-09 13:40:43,460 [13068] INFO     root: Iteration 3659: RMSE=0.9201, MAE=0.9201\n",
      "2025-02-09 13:40:43,584 [13068] INFO     root: Iteration 3660: RMSE=1.9880, MAE=1.9880\n",
      "2025-02-09 13:40:43,767 [13068] INFO     root: Iteration 3661: RMSE=5.8175, MAE=5.8175\n",
      "2025-02-09 13:40:43,902 [13068] INFO     root: Iteration 3662: RMSE=0.9201, MAE=0.9201\n",
      "2025-02-09 13:40:44,024 [13068] INFO     root: Iteration 3663: RMSE=0.4278, MAE=0.4278\n",
      "2025-02-09 13:40:44,178 [13068] INFO     root: Iteration 3664: RMSE=3.1701, MAE=3.1701\n",
      "2025-02-09 13:40:44,323 [13068] INFO     root: Iteration 3665: RMSE=0.8502, MAE=0.8502\n",
      "2025-02-09 13:40:44,536 [13068] INFO     root: Iteration 3666: RMSE=0.5329, MAE=0.5329\n",
      "2025-02-09 13:40:44,679 [13068] INFO     root: Iteration 3667: RMSE=1.2841, MAE=1.2841\n",
      "2025-02-09 13:40:44,905 [13068] INFO     root: Iteration 3668: RMSE=0.0894, MAE=0.0894\n",
      "2025-02-09 13:40:45,024 [13068] INFO     root: Iteration 3669: RMSE=7.1962, MAE=7.1962\n",
      "2025-02-09 13:40:45,220 [13068] INFO     root: Iteration 3670: RMSE=0.5423, MAE=0.5423\n",
      "2025-02-09 13:40:45,387 [13068] INFO     root: Iteration 3671: RMSE=0.0329, MAE=0.0329\n",
      "2025-02-09 13:40:45,542 [13068] INFO     root: Iteration 3672: RMSE=2.4407, MAE=2.4407\n",
      "2025-02-09 13:40:45,705 [13068] INFO     root: Iteration 3673: RMSE=6.3484, MAE=6.3484\n",
      "2025-02-09 13:40:45,961 [13068] INFO     root: Iteration 3674: RMSE=7.4122, MAE=7.4122\n",
      "2025-02-09 13:40:46,069 [13068] INFO     root: Iteration 3675: RMSE=1.6668, MAE=1.6668\n",
      "2025-02-09 13:40:46,184 [13068] INFO     root: Iteration 3676: RMSE=5.2814, MAE=5.2814\n",
      "2025-02-09 13:40:46,321 [13068] INFO     root: Iteration 3677: RMSE=0.0894, MAE=0.0894\n",
      "2025-02-09 13:40:46,452 [13068] INFO     root: Iteration 3678: RMSE=4.2619, MAE=4.2619\n",
      "2025-02-09 13:40:46,577 [13068] INFO     root: Iteration 3679: RMSE=1.0341, MAE=1.0341\n",
      "2025-02-09 13:40:46,693 [13068] INFO     root: Iteration 3680: RMSE=2.5855, MAE=2.5855\n",
      "2025-02-09 13:40:46,830 [13068] INFO     ml_monitor.logging: Starting metrics logging thread...\n",
      "2025-02-09 13:40:46,954 [13068] INFO     root: Iteration 3681: RMSE=2.4091, MAE=2.4091\n",
      "2025-02-09 13:40:47,104 [13068] INFO     root: Iteration 3682: RMSE=0.4811, MAE=0.4811\n",
      "2025-02-09 13:40:47,211 [13068] INFO     root: Iteration 3683: RMSE=0.2356, MAE=0.2356\n",
      "2025-02-09 13:40:47,324 [13068] INFO     root: Iteration 3684: RMSE=0.6367, MAE=0.6367\n",
      "2025-02-09 13:40:47,428 [13068] INFO     root: Iteration 3685: RMSE=5.0666, MAE=5.0666\n",
      "2025-02-09 13:40:47,533 [13068] INFO     root: Iteration 3686: RMSE=3.2950, MAE=3.2950\n",
      "2025-02-09 13:40:47,649 [13068] INFO     root: Iteration 3687: RMSE=7.1962, MAE=7.1962\n",
      "2025-02-09 13:40:47,760 [13068] INFO     root: Iteration 3688: RMSE=0.1550, MAE=0.1550\n",
      "2025-02-09 13:40:47,874 [13068] INFO     root: Iteration 3689: RMSE=0.9176, MAE=0.9176\n",
      "2025-02-09 13:40:47,986 [13068] INFO     root: Iteration 3690: RMSE=0.8360, MAE=0.8360\n",
      "2025-02-09 13:40:48,105 [13068] INFO     root: Iteration 3691: RMSE=4.3700, MAE=4.3700\n",
      "2025-02-09 13:40:48,289 [13068] INFO     root: Iteration 3692: RMSE=0.1136, MAE=0.1136\n",
      "2025-02-09 13:40:48,413 [13068] INFO     root: Iteration 3693: RMSE=0.4811, MAE=0.4811\n",
      "2025-02-09 13:40:48,530 [13068] INFO     root: Iteration 3694: RMSE=1.9954, MAE=1.9954\n",
      "2025-02-09 13:40:48,641 [13068] INFO     root: Iteration 3695: RMSE=5.1399, MAE=5.1399\n",
      "2025-02-09 13:40:48,749 [13068] INFO     root: Iteration 3696: RMSE=0.5423, MAE=0.5423\n",
      "2025-02-09 13:40:48,953 [13068] INFO     root: Iteration 3697: RMSE=0.8360, MAE=0.8360\n",
      "2025-02-09 13:40:49,057 [13068] INFO     root: Iteration 3698: RMSE=5.1385, MAE=5.1385\n",
      "2025-02-09 13:40:49,166 [13068] INFO     root: Iteration 3699: RMSE=2.2319, MAE=2.2319\n",
      "2025-02-09 13:40:49,301 [13068] INFO     root: Iteration 3700: RMSE=0.6820, MAE=0.6820\n",
      "2025-02-09 13:40:49,430 [13068] INFO     root: Iteration 3701: RMSE=1.5147, MAE=1.5147\n",
      "2025-02-09 13:40:49,544 [13068] INFO     root: Iteration 3702: RMSE=1.2841, MAE=1.2841\n",
      "2025-02-09 13:40:49,648 [13068] INFO     root: Iteration 3703: RMSE=1.2010, MAE=1.2010\n",
      "2025-02-09 13:40:49,740 [13068] INFO     root: Iteration 3704: RMSE=1.9834, MAE=1.9834\n",
      "2025-02-09 13:40:50,030 [13068] INFO     root: Iteration 3705: RMSE=1.0837, MAE=1.0837\n",
      "2025-02-09 13:40:50,135 [13068] INFO     root: Iteration 3706: RMSE=2.6178, MAE=2.6178\n",
      "2025-02-09 13:40:50,421 [13068] INFO     root: Iteration 3707: RMSE=3.0641, MAE=3.0641\n",
      "2025-02-09 13:40:50,549 [13068] INFO     root: Iteration 3708: RMSE=0.6863, MAE=0.6863\n",
      "2025-02-09 13:40:50,693 [13068] INFO     root: Iteration 3709: RMSE=1.0341, MAE=1.0341\n",
      "2025-02-09 13:40:50,805 [13068] INFO     root: Iteration 3710: RMSE=2.9898, MAE=2.9898\n",
      "2025-02-09 13:40:50,916 [13068] INFO     root: Iteration 3711: RMSE=1.5147, MAE=1.5147\n",
      "2025-02-09 13:40:51,038 [13068] INFO     root: Iteration 3712: RMSE=7.1880, MAE=7.1880\n",
      "2025-02-09 13:40:51,646 [13068] INFO     root: Metrics pushed at iteration 3712. RMSE=7.1880, MAE=7.1880\n",
      "2025-02-09 13:40:52,016 [13068] INFO     ml_monitor.logging: Starting metrics logging thread...\n",
      "2025-02-09 13:40:52,311 [13068] INFO     root: Iteration 3713: RMSE=2.4407, MAE=2.4407\n",
      "2025-02-09 13:40:52,494 [13068] INFO     root: Iteration 3714: RMSE=5.3491, MAE=5.3491\n",
      "2025-02-09 13:40:52,627 [13068] INFO     root: Iteration 3715: RMSE=3.9035, MAE=3.9035\n",
      "2025-02-09 13:40:52,867 [13068] INFO     root: Iteration 3716: RMSE=5.0666, MAE=5.0666\n",
      "2025-02-09 13:40:53,130 [13068] INFO     root: Iteration 3717: RMSE=3.9228, MAE=3.9228\n",
      "2025-02-09 13:40:53,247 [13068] INFO     root: Iteration 3718: RMSE=2.8002, MAE=2.8002\n",
      "2025-02-09 13:40:53,375 [13068] INFO     root: Iteration 3719: RMSE=3.9228, MAE=3.9228\n",
      "2025-02-09 13:40:53,491 [13068] INFO     root: Iteration 3720: RMSE=5.0666, MAE=5.0666\n",
      "2025-02-09 13:40:53,657 [13068] INFO     root: Iteration 3721: RMSE=1.3937, MAE=1.3937\n",
      "2025-02-09 13:40:53,769 [13068] INFO     root: Iteration 3722: RMSE=2.1281, MAE=2.1281\n",
      "2025-02-09 13:40:53,895 [13068] INFO     root: Iteration 3723: RMSE=4.3700, MAE=4.3700\n",
      "2025-02-09 13:40:54,008 [13068] INFO     root: Iteration 3724: RMSE=2.6178, MAE=2.6178\n",
      "2025-02-09 13:40:54,116 [13068] INFO     root: Iteration 3725: RMSE=2.1957, MAE=2.1957\n",
      "2025-02-09 13:40:54,219 [13068] INFO     root: Iteration 3726: RMSE=7.4122, MAE=7.4122\n",
      "2025-02-09 13:40:54,322 [13068] INFO     root: Iteration 3727: RMSE=3.1092, MAE=3.1092\n",
      "2025-02-09 13:40:54,425 [13068] INFO     root: Iteration 3728: RMSE=3.9228, MAE=3.9228\n",
      "2025-02-09 13:40:54,526 [13068] INFO     root: Iteration 3729: RMSE=0.0329, MAE=0.0329\n",
      "2025-02-09 13:40:54,627 [13068] INFO     root: Iteration 3730: RMSE=0.8295, MAE=0.8295\n",
      "2025-02-09 13:40:54,728 [13068] INFO     root: Iteration 3731: RMSE=0.8295, MAE=0.8295\n",
      "2025-02-09 13:40:54,823 [13068] INFO     root: Iteration 3732: RMSE=1.6668, MAE=1.6668\n",
      "2025-02-09 13:40:54,907 [13068] INFO     root: Iteration 3733: RMSE=2.7728, MAE=2.7728\n",
      "2025-02-09 13:40:55,069 [13068] INFO     root: Iteration 3734: RMSE=1.2010, MAE=1.2010\n",
      "2025-02-09 13:40:55,157 [13068] INFO     root: Iteration 3735: RMSE=1.5289, MAE=1.5289\n",
      "2025-02-09 13:40:55,274 [13068] INFO     root: Iteration 3736: RMSE=0.2356, MAE=0.2356\n",
      "2025-02-09 13:40:55,376 [13068] INFO     root: Iteration 3737: RMSE=0.6863, MAE=0.6863\n",
      "2025-02-09 13:40:55,471 [13068] INFO     root: Iteration 3738: RMSE=1.7797, MAE=1.7797\n",
      "2025-02-09 13:40:55,562 [13068] INFO     root: Iteration 3739: RMSE=0.1636, MAE=0.1636\n",
      "2025-02-09 13:40:55,657 [13068] INFO     root: Iteration 3740: RMSE=2.2823, MAE=2.2823\n",
      "2025-02-09 13:40:55,755 [13068] INFO     root: Iteration 3741: RMSE=0.9690, MAE=0.9690\n",
      "2025-02-09 13:40:55,850 [13068] INFO     root: Iteration 3742: RMSE=5.3491, MAE=5.3491\n",
      "2025-02-09 13:40:55,952 [13068] INFO     root: Iteration 3743: RMSE=2.4407, MAE=2.4407\n",
      "2025-02-09 13:40:56,044 [13068] INFO     root: Iteration 3744: RMSE=3.1092, MAE=3.1092\n",
      "2025-02-09 13:40:56,133 [13068] INFO     root: Iteration 3745: RMSE=7.4122, MAE=7.4122\n",
      "2025-02-09 13:40:56,226 [13068] INFO     root: Iteration 3746: RMSE=3.0641, MAE=3.0641\n",
      "2025-02-09 13:40:56,329 [13068] INFO     root: Iteration 3747: RMSE=0.5028, MAE=0.5028\n",
      "2025-02-09 13:40:56,422 [13068] INFO     root: Iteration 3748: RMSE=2.4681, MAE=2.4681\n",
      "2025-02-09 13:40:56,582 [13068] INFO     root: Iteration 3749: RMSE=4.2272, MAE=4.2272\n",
      "2025-02-09 13:40:56,680 [13068] INFO     root: Iteration 3750: RMSE=2.2324, MAE=2.2324\n",
      "2025-02-09 13:40:56,774 [13068] INFO     root: Iteration 3751: RMSE=1.2010, MAE=1.2010\n",
      "2025-02-09 13:40:56,898 [13068] INFO     root: Iteration 3752: RMSE=0.4811, MAE=0.4811\n",
      "2025-02-09 13:40:57,000 [13068] INFO     root: Iteration 3753: RMSE=2.1281, MAE=2.1281\n",
      "2025-02-09 13:40:57,094 [13068] INFO     root: Iteration 3754: RMSE=1.5147, MAE=1.5147\n",
      "2025-02-09 13:40:57,195 [13068] INFO     root: Iteration 3755: RMSE=5.0666, MAE=5.0666\n",
      "2025-02-09 13:40:57,275 [13068] INFO     ml_monitor.logging: Starting metrics logging thread...\n",
      "2025-02-09 13:40:57,290 [13068] INFO     root: Iteration 3756: RMSE=3.6498, MAE=3.6498\n",
      "2025-02-09 13:40:57,378 [13068] INFO     root: Iteration 3757: RMSE=0.9510, MAE=0.9510\n",
      "2025-02-09 13:40:57,522 [13068] INFO     root: Iteration 3758: RMSE=1.6861, MAE=1.6861\n",
      "2025-02-09 13:40:57,628 [13068] INFO     root: Iteration 3759: RMSE=1.9880, MAE=1.9880\n",
      "2025-02-09 13:40:57,765 [13068] INFO     root: Iteration 3760: RMSE=0.5329, MAE=0.5329\n",
      "2025-02-09 13:40:57,910 [13068] INFO     root: Iteration 3761: RMSE=1.7964, MAE=1.7964\n",
      "2025-02-09 13:40:58,027 [13068] INFO     root: Iteration 3762: RMSE=0.9176, MAE=0.9176\n",
      "2025-02-09 13:40:58,134 [13068] INFO     root: Iteration 3763: RMSE=3.1701, MAE=3.1701\n",
      "2025-02-09 13:40:58,260 [13068] INFO     root: Iteration 3764: RMSE=0.9510, MAE=0.9510\n",
      "2025-02-09 13:40:58,362 [13068] INFO     root: Iteration 3765: RMSE=15.7679, MAE=15.7679\n",
      "2025-02-09 13:40:58,459 [13068] INFO     root: Iteration 3766: RMSE=1.2010, MAE=1.2010\n",
      "2025-02-09 13:40:58,590 [13068] INFO     root: Iteration 3767: RMSE=2.1957, MAE=2.1957\n",
      "2025-02-09 13:40:58,706 [13068] INFO     root: Iteration 3768: RMSE=7.1880, MAE=7.1880\n",
      "2025-02-09 13:40:58,818 [13068] INFO     root: Iteration 3769: RMSE=0.4554, MAE=0.4554\n",
      "2025-02-09 13:40:58,917 [13068] INFO     root: Iteration 3770: RMSE=1.9954, MAE=1.9954\n",
      "2025-02-09 13:40:59,008 [13068] INFO     root: Iteration 3771: RMSE=2.8002, MAE=2.8002\n",
      "2025-02-09 13:40:59,113 [13068] INFO     root: Iteration 3772: RMSE=5.8811, MAE=5.8811\n",
      "2025-02-09 13:40:59,219 [13068] INFO     root: Iteration 3773: RMSE=0.8360, MAE=0.8360\n",
      "2025-02-09 13:40:59,331 [13068] INFO     root: Iteration 3774: RMSE=2.5855, MAE=2.5855\n",
      "2025-02-09 13:40:59,484 [13068] INFO     root: Iteration 3775: RMSE=3.0641, MAE=3.0641\n",
      "2025-02-09 13:40:59,583 [13068] INFO     root: Iteration 3776: RMSE=0.4278, MAE=0.4278\n",
      "2025-02-09 13:40:59,686 [13068] INFO     root: Iteration 3777: RMSE=5.1399, MAE=5.1399\n",
      "2025-02-09 13:40:59,782 [13068] INFO     root: Iteration 3778: RMSE=6.4895, MAE=6.4895\n",
      "2025-02-09 13:40:59,889 [13068] INFO     root: Iteration 3779: RMSE=0.6277, MAE=0.6277\n",
      "2025-02-09 13:40:59,992 [13068] INFO     root: Iteration 3780: RMSE=0.9176, MAE=0.9176\n",
      "2025-02-09 13:41:00,107 [13068] INFO     root: Iteration 3781: RMSE=1.0837, MAE=1.0837\n",
      "2025-02-09 13:41:00,211 [13068] INFO     root: Iteration 3782: RMSE=1.2345, MAE=1.2345\n",
      "2025-02-09 13:41:00,326 [13068] INFO     root: Iteration 3783: RMSE=1.0525, MAE=1.0525\n",
      "2025-02-09 13:41:00,440 [13068] INFO     root: Iteration 3784: RMSE=0.6004, MAE=0.6004\n",
      "2025-02-09 13:41:00,551 [13068] INFO     root: Iteration 3785: RMSE=3.0812, MAE=3.0812\n",
      "2025-02-09 13:41:00,650 [13068] INFO     root: Iteration 3786: RMSE=4.2733, MAE=4.2733\n",
      "2025-02-09 13:41:00,761 [13068] INFO     root: Iteration 3787: RMSE=0.1550, MAE=0.1550\n",
      "2025-02-09 13:41:00,867 [13068] INFO     root: Iteration 3788: RMSE=1.7797, MAE=1.7797\n",
      "2025-02-09 13:41:01,059 [13068] INFO     root: Iteration 3789: RMSE=1.2010, MAE=1.2010\n",
      "2025-02-09 13:41:01,596 [13068] INFO     root: Metrics pushed at iteration 3789. RMSE=1.2010, MAE=1.2010\n",
      "2025-02-09 13:41:01,699 [13068] INFO     root: Iteration 3790: RMSE=0.6820, MAE=0.6820\n",
      "2025-02-09 13:41:01,803 [13068] INFO     root: Iteration 3791: RMSE=21.1875, MAE=21.1875\n",
      "2025-02-09 13:41:01,910 [13068] INFO     root: Iteration 3792: RMSE=1.2010, MAE=1.2010\n",
      "2025-02-09 13:41:02,017 [13068] INFO     root: Iteration 3793: RMSE=0.1136, MAE=0.1136\n",
      "2025-02-09 13:41:02,115 [13068] INFO     root: Iteration 3794: RMSE=1.5147, MAE=1.5147\n",
      "2025-02-09 13:41:02,210 [13068] INFO     root: Iteration 3795: RMSE=0.1136, MAE=0.1136\n",
      "2025-02-09 13:41:02,285 [13068] INFO     ml_monitor.logging: Starting metrics logging thread...\n",
      "2025-02-09 13:41:02,321 [13068] INFO     root: Iteration 3796: RMSE=3.2950, MAE=3.2950\n",
      "2025-02-09 13:41:02,427 [13068] INFO     root: Iteration 3797: RMSE=5.8175, MAE=5.8175\n",
      "2025-02-09 13:41:02,534 [13068] INFO     root: Iteration 3798: RMSE=0.5329, MAE=0.5329\n",
      "2025-02-09 13:41:02,700 [13068] INFO     root: Iteration 3799: RMSE=0.1136, MAE=0.1136\n",
      "2025-02-09 13:41:02,796 [13068] INFO     root: Iteration 3800: RMSE=0.2356, MAE=0.2356\n",
      "2025-02-09 13:41:02,910 [13068] INFO     root: Iteration 3801: RMSE=3.1701, MAE=3.1701\n",
      "2025-02-09 13:41:03,009 [13068] INFO     root: Iteration 3802: RMSE=1.0525, MAE=1.0525\n",
      "2025-02-09 13:41:03,116 [13068] INFO     root: Iteration 3803: RMSE=2.6178, MAE=2.6178\n",
      "2025-02-09 13:41:03,218 [13068] INFO     root: Iteration 3804: RMSE=3.0048, MAE=3.0048\n",
      "2025-02-09 13:41:03,331 [13068] INFO     root: Iteration 3805: RMSE=2.7728, MAE=2.7728\n",
      "2025-02-09 13:41:03,451 [13068] INFO     root: Iteration 3806: RMSE=0.9176, MAE=0.9176\n",
      "2025-02-09 13:41:03,554 [13068] INFO     root: Iteration 3807: RMSE=3.2950, MAE=3.2950\n",
      "2025-02-09 13:41:03,640 [13068] INFO     root: Iteration 3808: RMSE=3.0048, MAE=3.0048\n",
      "2025-02-09 13:41:03,800 [13068] INFO     root: Iteration 3809: RMSE=0.9201, MAE=0.9201\n",
      "2025-02-09 13:41:03,892 [13068] INFO     root: Iteration 3810: RMSE=1.9374, MAE=1.9374\n",
      "2025-02-09 13:41:03,995 [13068] INFO     root: Iteration 3811: RMSE=1.0783, MAE=1.0783\n",
      "2025-02-09 13:41:04,118 [13068] INFO     root: Iteration 3812: RMSE=5.1399, MAE=5.1399\n",
      "2025-02-09 13:41:04,249 [13068] INFO     root: Iteration 3813: RMSE=1.9374, MAE=1.9374\n",
      "2025-02-09 13:41:04,361 [13068] INFO     root: Iteration 3814: RMSE=2.4681, MAE=2.4681\n",
      "2025-02-09 13:41:04,480 [13068] INFO     root: Iteration 3815: RMSE=7.1962, MAE=7.1962\n",
      "2025-02-09 13:41:04,577 [13068] INFO     root: Iteration 3816: RMSE=5.0666, MAE=5.0666\n",
      "2025-02-09 13:41:04,672 [13068] INFO     root: Iteration 3817: RMSE=0.4811, MAE=0.4811\n",
      "2025-02-09 13:41:04,771 [13068] INFO     root: Iteration 3818: RMSE=0.6367, MAE=0.6367\n",
      "2025-02-09 13:41:04,862 [13068] INFO     root: Iteration 3819: RMSE=0.4811, MAE=0.4811\n",
      "2025-02-09 13:41:04,955 [13068] INFO     root: Iteration 3820: RMSE=2.5855, MAE=2.5855\n",
      "2025-02-09 13:41:05,048 [13068] INFO     root: Iteration 3821: RMSE=2.7746, MAE=2.7746\n",
      "2025-02-09 13:41:05,137 [13068] INFO     root: Iteration 3822: RMSE=2.8002, MAE=2.8002\n",
      "2025-02-09 13:41:05,300 [13068] INFO     root: Iteration 3823: RMSE=0.0329, MAE=0.0329\n",
      "2025-02-09 13:41:05,408 [13068] INFO     root: Iteration 3824: RMSE=2.5855, MAE=2.5855\n",
      "2025-02-09 13:41:05,501 [13068] INFO     root: Iteration 3825: RMSE=5.1385, MAE=5.1385\n",
      "2025-02-09 13:41:05,606 [13068] INFO     root: Iteration 3826: RMSE=0.4811, MAE=0.4811\n",
      "2025-02-09 13:41:05,696 [13068] INFO     root: Iteration 3827: RMSE=3.2372, MAE=3.2372\n",
      "2025-02-09 13:41:05,798 [13068] INFO     root: Iteration 3828: RMSE=0.4053, MAE=0.4053\n",
      "2025-02-09 13:41:05,899 [13068] INFO     root: Iteration 3829: RMSE=0.6863, MAE=0.6863\n",
      "2025-02-09 13:41:06,001 [13068] INFO     root: Iteration 3830: RMSE=3.9035, MAE=3.9035\n",
      "2025-02-09 13:41:06,108 [13068] INFO     root: Iteration 3831: RMSE=2.7746, MAE=2.7746\n",
      "2025-02-09 13:41:06,200 [13068] INFO     root: Iteration 3832: RMSE=15.7679, MAE=15.7679\n",
      "2025-02-09 13:41:06,310 [13068] INFO     root: Iteration 3833: RMSE=5.1399, MAE=5.1399\n",
      "2025-02-09 13:41:06,408 [13068] INFO     root: Iteration 3834: RMSE=5.1399, MAE=5.1399\n",
      "2025-02-09 13:41:06,517 [13068] INFO     root: Iteration 3835: RMSE=1.2345, MAE=1.2345\n",
      "2025-02-09 13:41:06,650 [13068] INFO     root: Iteration 3836: RMSE=4.2733, MAE=4.2733\n",
      "2025-02-09 13:41:06,744 [13068] INFO     root: Iteration 3837: RMSE=3.1092, MAE=3.1092\n",
      "2025-02-09 13:41:06,856 [13068] INFO     root: Iteration 3838: RMSE=0.4554, MAE=0.4554\n",
      "2025-02-09 13:41:06,951 [13068] INFO     root: Iteration 3839: RMSE=3.2950, MAE=3.2950\n",
      "2025-02-09 13:41:07,049 [13068] INFO     root: Iteration 3840: RMSE=1.3227, MAE=1.3227\n",
      "2025-02-09 13:41:07,144 [13068] INFO     root: Iteration 3841: RMSE=3.9228, MAE=3.9228\n",
      "2025-02-09 13:41:07,233 [13068] INFO     root: Iteration 3842: RMSE=2.9898, MAE=2.9898\n",
      "2025-02-09 13:41:07,299 [13068] INFO     ml_monitor.logging: Starting metrics logging thread...\n",
      "2025-02-09 13:41:07,340 [13068] INFO     root: Iteration 3843: RMSE=5.2814, MAE=5.2814\n",
      "2025-02-09 13:41:07,429 [13068] INFO     root: Iteration 3844: RMSE=2.4681, MAE=2.4681\n",
      "2025-02-09 13:41:07,520 [13068] INFO     root: Iteration 3845: RMSE=5.1399, MAE=5.1399\n",
      "2025-02-09 13:41:07,605 [13068] INFO     root: Iteration 3846: RMSE=3.0048, MAE=3.0048\n",
      "2025-02-09 13:41:07,837 [13068] INFO     root: Iteration 3847: RMSE=1.7797, MAE=1.7797\n",
      "2025-02-09 13:41:07,965 [13068] INFO     root: Iteration 3848: RMSE=2.4091, MAE=2.4091\n",
      "2025-02-09 13:41:08,083 [13068] INFO     root: Iteration 3849: RMSE=1.9470, MAE=1.9470\n",
      "2025-02-09 13:41:08,192 [13068] INFO     root: Iteration 3850: RMSE=0.1640, MAE=0.1640\n",
      "2025-02-09 13:41:08,327 [13068] INFO     root: Iteration 3851: RMSE=0.9690, MAE=0.9690\n",
      "2025-02-09 13:41:08,452 [13068] INFO     root: Iteration 3852: RMSE=0.5028, MAE=0.5028\n",
      "2025-02-09 13:41:08,650 [13068] INFO     root: Iteration 3853: RMSE=2.6178, MAE=2.6178\n",
      "2025-02-09 13:41:08,746 [13068] INFO     root: Iteration 3854: RMSE=3.9035, MAE=3.9035\n",
      "2025-02-09 13:41:08,868 [13068] INFO     root: Iteration 3855: RMSE=0.1550, MAE=0.1550\n",
      "2025-02-09 13:41:08,986 [13068] INFO     root: Iteration 3856: RMSE=2.2319, MAE=2.2319\n",
      "2025-02-09 13:41:09,117 [13068] INFO     root: Iteration 3857: RMSE=0.4811, MAE=0.4811\n",
      "2025-02-09 13:41:09,251 [13068] INFO     root: Iteration 3858: RMSE=3.6498, MAE=3.6498\n",
      "2025-02-09 13:41:09,441 [13068] INFO     root: Iteration 3859: RMSE=0.1640, MAE=0.1640\n",
      "2025-02-09 13:41:09,583 [13068] INFO     root: Iteration 3860: RMSE=3.2372, MAE=3.2372\n",
      "2025-02-09 13:41:09,691 [13068] INFO     root: Iteration 3861: RMSE=5.8175, MAE=5.8175\n",
      "2025-02-09 13:41:09,793 [13068] INFO     root: Iteration 3862: RMSE=3.6498, MAE=3.6498\n",
      "2025-02-09 13:41:09,883 [13068] INFO     root: Iteration 3863: RMSE=1.3227, MAE=1.3227\n",
      "2025-02-09 13:41:09,986 [13068] INFO     root: Iteration 3864: RMSE=15.7679, MAE=15.7679\n",
      "2025-02-09 13:41:10,095 [13068] INFO     root: Iteration 3865: RMSE=1.9891, MAE=1.9891\n",
      "2025-02-09 13:41:10,178 [13068] INFO     root: Iteration 3866: RMSE=0.5329, MAE=0.5329\n",
      "2025-02-09 13:41:10,274 [13068] INFO     root: Iteration 3867: RMSE=0.4554, MAE=0.4554\n",
      "2025-02-09 13:41:10,380 [13068] INFO     root: Iteration 3868: RMSE=5.8175, MAE=5.8175\n",
      "2025-02-09 13:41:10,488 [13068] INFO     root: Iteration 3869: RMSE=0.2356, MAE=0.2356\n",
      "2025-02-09 13:41:10,646 [13068] INFO     root: Iteration 3870: RMSE=0.5028, MAE=0.5028\n",
      "2025-02-09 13:41:10,745 [13068] INFO     root: Iteration 3871: RMSE=4.3700, MAE=4.3700\n",
      "2025-02-09 13:41:10,860 [13068] INFO     root: Iteration 3872: RMSE=1.0837, MAE=1.0837\n",
      "2025-02-09 13:41:10,959 [13068] INFO     root: Iteration 3873: RMSE=3.2372, MAE=3.2372\n",
      "2025-02-09 13:41:11,049 [13068] INFO     root: Iteration 3874: RMSE=2.2823, MAE=2.2823\n",
      "2025-02-09 13:41:11,143 [13068] INFO     root: Iteration 3875: RMSE=0.5423, MAE=0.5423\n",
      "2025-02-09 13:41:11,647 [13068] INFO     root: Metrics pushed at iteration 3875. RMSE=0.5423, MAE=0.5423\n",
      "2025-02-09 13:41:11,748 [13068] INFO     root: Iteration 3876: RMSE=2.4681, MAE=2.4681\n",
      "2025-02-09 13:41:11,846 [13068] INFO     root: Iteration 3877: RMSE=3.1701, MAE=3.1701\n",
      "2025-02-09 13:41:11,935 [13068] INFO     root: Iteration 3878: RMSE=5.0666, MAE=5.0666\n",
      "2025-02-09 13:41:12,032 [13068] INFO     root: Iteration 3879: RMSE=1.0837, MAE=1.0837\n",
      "2025-02-09 13:41:12,123 [13068] INFO     root: Iteration 3880: RMSE=0.9690, MAE=0.9690\n",
      "2025-02-09 13:41:12,215 [13068] INFO     root: Iteration 3881: RMSE=0.0190, MAE=0.0190\n",
      "2025-02-09 13:41:12,311 [13068] INFO     ml_monitor.logging: Starting metrics logging thread...\n",
      "2025-02-09 13:41:12,326 [13068] INFO     root: Iteration 3882: RMSE=1.9374, MAE=1.9374\n",
      "2025-02-09 13:41:12,451 [13068] INFO     root: Iteration 3883: RMSE=1.3937, MAE=1.3937\n",
      "2025-02-09 13:41:12,541 [13068] INFO     root: Iteration 3884: RMSE=3.0048, MAE=3.0048\n",
      "2025-02-09 13:41:12,632 [13068] INFO     root: Iteration 3885: RMSE=5.8811, MAE=5.8811\n",
      "2025-02-09 13:41:12,738 [13068] INFO     root: Iteration 3886: RMSE=5.1399, MAE=5.1399\n",
      "2025-02-09 13:41:12,832 [13068] INFO     root: Iteration 3887: RMSE=1.0525, MAE=1.0525\n",
      "2025-02-09 13:41:12,984 [13068] INFO     root: Iteration 3888: RMSE=0.9201, MAE=0.9201\n",
      "2025-02-09 13:41:13,087 [13068] INFO     root: Iteration 3889: RMSE=1.2010, MAE=1.2010\n",
      "2025-02-09 13:41:13,233 [13068] INFO     root: Iteration 3890: RMSE=21.1875, MAE=21.1875\n",
      "2025-02-09 13:41:13,361 [13068] INFO     root: Iteration 3891: RMSE=15.7679, MAE=15.7679\n",
      "2025-02-09 13:41:13,470 [13068] INFO     root: Iteration 3892: RMSE=2.9898, MAE=2.9898\n",
      "2025-02-09 13:41:13,568 [13068] INFO     root: Iteration 3893: RMSE=1.6668, MAE=1.6668\n",
      "2025-02-09 13:41:13,653 [13068] INFO     root: Iteration 3894: RMSE=5.8175, MAE=5.8175\n",
      "2025-02-09 13:41:13,747 [13068] INFO     root: Iteration 3895: RMSE=0.0894, MAE=0.0894\n",
      "2025-02-09 13:41:13,849 [13068] INFO     root: Iteration 3896: RMSE=2.0594, MAE=2.0594\n",
      "2025-02-09 13:41:13,934 [13068] INFO     root: Iteration 3897: RMSE=1.7797, MAE=1.7797\n",
      "2025-02-09 13:41:14,022 [13068] INFO     root: Iteration 3898: RMSE=1.9470, MAE=1.9470\n",
      "2025-02-09 13:41:14,127 [13068] INFO     root: Iteration 3899: RMSE=1.2010, MAE=1.2010\n",
      "2025-02-09 13:41:14,222 [13068] INFO     root: Iteration 3900: RMSE=5.8175, MAE=5.8175\n",
      "2025-02-09 13:41:14,313 [13068] INFO     root: Iteration 3901: RMSE=2.9898, MAE=2.9898\n",
      "2025-02-09 13:41:14,406 [13068] INFO     root: Iteration 3902: RMSE=0.8502, MAE=0.8502\n",
      "2025-02-09 13:41:14,548 [13068] INFO     root: Iteration 3903: RMSE=6.3484, MAE=6.3484\n",
      "2025-02-09 13:41:14,639 [13068] INFO     root: Iteration 3904: RMSE=4.2272, MAE=4.2272\n",
      "2025-02-09 13:41:14,739 [13068] INFO     root: Iteration 3905: RMSE=0.4811, MAE=0.4811\n",
      "2025-02-09 13:41:14,844 [13068] INFO     root: Iteration 3906: RMSE=21.1875, MAE=21.1875\n",
      "2025-02-09 13:41:14,949 [13068] INFO     root: Iteration 3907: RMSE=1.5289, MAE=1.5289\n",
      "2025-02-09 13:41:15,034 [13068] INFO     root: Iteration 3908: RMSE=0.8280, MAE=0.8280\n",
      "2025-02-09 13:41:15,114 [13068] INFO     root: Iteration 3909: RMSE=0.9201, MAE=0.9201\n",
      "2025-02-09 13:41:15,219 [13068] INFO     root: Iteration 3910: RMSE=4.3700, MAE=4.3700\n",
      "2025-02-09 13:41:15,318 [13068] INFO     root: Iteration 3911: RMSE=0.4053, MAE=0.4053\n",
      "2025-02-09 13:41:15,406 [13068] INFO     root: Iteration 3912: RMSE=1.9891, MAE=1.9891\n",
      "2025-02-09 13:41:15,506 [13068] INFO     root: Iteration 3913: RMSE=0.5028, MAE=0.5028\n",
      "2025-02-09 13:41:15,599 [13068] INFO     root: Iteration 3914: RMSE=1.0837, MAE=1.0837\n",
      "2025-02-09 13:41:15,736 [13068] INFO     root: Iteration 3915: RMSE=0.1640, MAE=0.1640\n",
      "2025-02-09 13:41:15,839 [13068] INFO     root: Iteration 3916: RMSE=3.2372, MAE=3.2372\n",
      "2025-02-09 13:41:15,940 [13068] INFO     root: Iteration 3917: RMSE=3.0641, MAE=3.0641\n",
      "2025-02-09 13:41:16,021 [13068] INFO     root: Iteration 3918: RMSE=4.8742, MAE=4.8742\n",
      "2025-02-09 13:41:16,108 [13068] INFO     root: Iteration 3919: RMSE=0.8360, MAE=0.8360\n",
      "2025-02-09 13:41:16,214 [13068] INFO     root: Iteration 3920: RMSE=1.7797, MAE=1.7797\n",
      "2025-02-09 13:41:16,328 [13068] INFO     root: Iteration 3921: RMSE=2.2319, MAE=2.2319\n",
      "2025-02-09 13:41:16,410 [13068] INFO     root: Iteration 3922: RMSE=4.2733, MAE=4.2733\n",
      "2025-02-09 13:41:16,514 [13068] INFO     root: Iteration 3923: RMSE=7.4122, MAE=7.4122\n",
      "2025-02-09 13:41:16,607 [13068] INFO     root: Iteration 3924: RMSE=4.2733, MAE=4.2733\n",
      "2025-02-09 13:41:16,800 [13068] INFO     root: Iteration 3925: RMSE=1.6861, MAE=1.6861\n",
      "2025-02-09 13:41:16,905 [13068] INFO     root: Iteration 3926: RMSE=3.2950, MAE=3.2950\n",
      "2025-02-09 13:41:17,014 [13068] INFO     root: Iteration 3927: RMSE=1.0525, MAE=1.0525\n",
      "2025-02-09 13:41:17,124 [13068] INFO     root: Iteration 3928: RMSE=0.0190, MAE=0.0190\n",
      "2025-02-09 13:41:17,219 [13068] INFO     root: Iteration 3929: RMSE=0.0329, MAE=0.0329\n",
      "2025-02-09 13:41:17,325 [13068] INFO     ml_monitor.logging: Starting metrics logging thread...\n",
      "2025-02-09 13:41:17,340 [13068] INFO     root: Iteration 3930: RMSE=3.0048, MAE=3.0048\n",
      "2025-02-09 13:41:17,439 [13068] INFO     root: Iteration 3931: RMSE=5.1399, MAE=5.1399\n",
      "2025-02-09 13:41:17,606 [13068] INFO     root: Iteration 3932: RMSE=0.6820, MAE=0.6820\n",
      "2025-02-09 13:41:17,709 [13068] INFO     root: Iteration 3933: RMSE=5.2814, MAE=5.2814\n",
      "2025-02-09 13:41:17,841 [13068] INFO     root: Iteration 3934: RMSE=0.0329, MAE=0.0329\n",
      "2025-02-09 13:41:17,941 [13068] INFO     root: Iteration 3935: RMSE=1.9880, MAE=1.9880\n",
      "2025-02-09 13:41:18,039 [13068] INFO     root: Iteration 3936: RMSE=1.9954, MAE=1.9954\n",
      "2025-02-09 13:41:18,131 [13068] INFO     root: Iteration 3937: RMSE=0.9690, MAE=0.9690\n",
      "2025-02-09 13:41:18,257 [13068] INFO     root: Iteration 3938: RMSE=2.1281, MAE=2.1281\n",
      "2025-02-09 13:41:18,412 [13068] INFO     root: Iteration 3939: RMSE=2.2324, MAE=2.2324\n",
      "2025-02-09 13:41:18,519 [13068] INFO     root: Iteration 3940: RMSE=1.9880, MAE=1.9880\n",
      "2025-02-09 13:41:18,626 [13068] INFO     root: Iteration 3941: RMSE=4.8742, MAE=4.8742\n",
      "2025-02-09 13:41:18,725 [13068] INFO     root: Iteration 3942: RMSE=3.0641, MAE=3.0641\n",
      "2025-02-09 13:41:18,823 [13068] INFO     root: Iteration 3943: RMSE=0.6863, MAE=0.6863\n",
      "2025-02-09 13:41:18,919 [13068] INFO     root: Iteration 3944: RMSE=1.5289, MAE=1.5289\n",
      "2025-02-09 13:41:19,028 [13068] INFO     root: Iteration 3945: RMSE=3.0641, MAE=3.0641\n",
      "2025-02-09 13:41:19,133 [13068] INFO     root: Iteration 3946: RMSE=2.9898, MAE=2.9898\n",
      "2025-02-09 13:41:19,234 [13068] INFO     root: Iteration 3947: RMSE=5.1399, MAE=5.1399\n",
      "2025-02-09 13:41:19,337 [13068] INFO     root: Iteration 3948: RMSE=6.5607, MAE=6.5607\n",
      "2025-02-09 13:41:19,437 [13068] INFO     root: Iteration 3949: RMSE=4.2272, MAE=4.2272\n",
      "2025-02-09 13:41:19,558 [13068] INFO     root: Iteration 3950: RMSE=4.3700, MAE=4.3700\n",
      "2025-02-09 13:41:19,663 [13068] INFO     root: Iteration 3951: RMSE=3.1701, MAE=3.1701\n",
      "2025-02-09 13:41:19,783 [13068] INFO     root: Iteration 3952: RMSE=1.0837, MAE=1.0837\n",
      "2025-02-09 13:41:19,922 [13068] INFO     root: Iteration 3953: RMSE=2.7746, MAE=2.7746\n",
      "2025-02-09 13:41:20,015 [13068] INFO     root: Iteration 3954: RMSE=5.2814, MAE=5.2814\n",
      "2025-02-09 13:41:20,116 [13068] INFO     root: Iteration 3955: RMSE=1.2345, MAE=1.2345\n",
      "2025-02-09 13:41:20,214 [13068] INFO     root: Iteration 3956: RMSE=0.2356, MAE=0.2356\n",
      "2025-02-09 13:41:20,316 [13068] INFO     root: Iteration 3957: RMSE=1.9891, MAE=1.9891\n",
      "2025-02-09 13:41:20,421 [13068] INFO     root: Iteration 3958: RMSE=1.9024, MAE=1.9024\n",
      "2025-02-09 13:41:20,512 [13068] INFO     root: Iteration 3959: RMSE=1.9954, MAE=1.9954\n",
      "2025-02-09 13:41:20,608 [13068] INFO     root: Iteration 3960: RMSE=3.9035, MAE=3.9035\n",
      "2025-02-09 13:41:20,702 [13068] INFO     root: Iteration 3961: RMSE=4.2619, MAE=4.2619\n",
      "2025-02-09 13:41:20,797 [13068] INFO     root: Iteration 3962: RMSE=1.9834, MAE=1.9834\n",
      "2025-02-09 13:41:20,890 [13068] INFO     root: Iteration 3963: RMSE=0.4554, MAE=0.4554\n",
      "2025-02-09 13:41:20,979 [13068] INFO     root: Iteration 3964: RMSE=1.9024, MAE=1.9024\n",
      "2025-02-09 13:41:21,072 [13068] INFO     root: Iteration 3965: RMSE=4.3700, MAE=4.3700\n",
      "2025-02-09 13:41:21,226 [13068] INFO     root: Iteration 3966: RMSE=1.9954, MAE=1.9954\n",
      "2025-02-09 13:41:21,705 [13068] INFO     root: Metrics pushed at iteration 3966. RMSE=1.9954, MAE=1.9954\n",
      "2025-02-09 13:41:21,797 [13068] INFO     root: Iteration 3967: RMSE=0.9690, MAE=0.9690\n",
      "2025-02-09 13:41:21,897 [13068] INFO     root: Iteration 3968: RMSE=0.0329, MAE=0.0329\n",
      "2025-02-09 13:41:21,987 [13068] INFO     root: Iteration 3969: RMSE=0.9690, MAE=0.9690\n",
      "2025-02-09 13:41:22,072 [13068] INFO     root: Iteration 3970: RMSE=4.2733, MAE=4.2733\n",
      "2025-02-09 13:41:22,157 [13068] INFO     root: Iteration 3971: RMSE=2.6178, MAE=2.6178\n",
      "2025-02-09 13:41:22,256 [13068] INFO     root: Iteration 3972: RMSE=3.0641, MAE=3.0641\n",
      "2025-02-09 13:41:22,343 [13068] INFO     root: Iteration 3973: RMSE=0.9201, MAE=0.9201\n",
      "2025-02-09 13:41:22,350 [13068] INFO     ml_monitor.logging: Starting metrics logging thread...\n",
      "2025-02-09 13:41:22,451 [13068] INFO     root: Iteration 3974: RMSE=0.4554, MAE=0.4554\n",
      "2025-02-09 13:41:22,556 [13068] INFO     root: Iteration 3975: RMSE=1.6861, MAE=1.6861\n",
      "2025-02-09 13:41:22,653 [13068] INFO     root: Iteration 3976: RMSE=5.0666, MAE=5.0666\n",
      "2025-02-09 13:41:22,763 [13068] INFO     root: Iteration 3977: RMSE=1.2010, MAE=1.2010\n",
      "2025-02-09 13:41:22,855 [13068] INFO     root: Iteration 3978: RMSE=0.6004, MAE=0.6004\n",
      "2025-02-09 13:41:22,945 [13068] INFO     root: Iteration 3979: RMSE=2.7746, MAE=2.7746\n",
      "2025-02-09 13:41:23,102 [13068] INFO     root: Iteration 3980: RMSE=1.7797, MAE=1.7797\n",
      "2025-02-09 13:41:23,222 [13068] INFO     root: Iteration 3981: RMSE=0.4554, MAE=0.4554\n",
      "2025-02-09 13:41:23,322 [13068] INFO     root: Iteration 3982: RMSE=6.3484, MAE=6.3484\n",
      "2025-02-09 13:41:23,429 [13068] INFO     root: Iteration 3983: RMSE=7.4122, MAE=7.4122\n",
      "2025-02-09 13:41:23,526 [13068] INFO     root: Iteration 3984: RMSE=2.5983, MAE=2.5983\n",
      "2025-02-09 13:41:23,616 [13068] INFO     root: Iteration 3985: RMSE=3.0812, MAE=3.0812\n",
      "2025-02-09 13:41:23,714 [13068] INFO     root: Iteration 3986: RMSE=3.0641, MAE=3.0641\n",
      "2025-02-09 13:41:23,812 [13068] INFO     root: Iteration 3987: RMSE=0.1550, MAE=0.1550\n",
      "2025-02-09 13:41:23,893 [13068] INFO     root: Iteration 3988: RMSE=5.3491, MAE=5.3491\n",
      "2025-02-09 13:41:23,988 [13068] INFO     root: Iteration 3989: RMSE=3.6498, MAE=3.6498\n",
      "2025-02-09 13:41:24,083 [13068] INFO     root: Iteration 3990: RMSE=4.2272, MAE=4.2272\n",
      "2025-02-09 13:41:24,180 [13068] INFO     root: Iteration 3991: RMSE=1.0837, MAE=1.0837\n",
      "2025-02-09 13:41:24,274 [13068] INFO     root: Iteration 3992: RMSE=5.8811, MAE=5.8811\n",
      "2025-02-09 13:41:24,430 [13068] INFO     root: Iteration 3993: RMSE=7.4122, MAE=7.4122\n",
      "2025-02-09 13:41:24,526 [13068] INFO     root: Iteration 3994: RMSE=1.0341, MAE=1.0341\n",
      "2025-02-09 13:41:24,625 [13068] INFO     root: Iteration 3995: RMSE=0.1636, MAE=0.1636\n",
      "2025-02-09 13:41:24,712 [13068] INFO     root: Iteration 3996: RMSE=4.2530, MAE=4.2530\n",
      "2025-02-09 13:41:24,805 [13068] INFO     root: Iteration 3997: RMSE=1.2345, MAE=1.2345\n",
      "2025-02-09 13:41:24,916 [13068] INFO     root: Iteration 3998: RMSE=1.9470, MAE=1.9470\n",
      "2025-02-09 13:41:25,013 [13068] INFO     root: Iteration 3999: RMSE=5.1399, MAE=5.1399\n",
      "2025-02-09 13:41:25,146 [13068] INFO     root: Iteration 4000: RMSE=0.4554, MAE=0.4554\n",
      "2025-02-09 13:41:25,287 [13068] INFO     root: Iteration 4001: RMSE=1.0783, MAE=1.0783\n",
      "2025-02-09 13:41:25,404 [13068] INFO     root: Iteration 4002: RMSE=0.5329, MAE=0.5329\n",
      "2025-02-09 13:41:25,523 [13068] INFO     root: Iteration 4003: RMSE=0.0329, MAE=0.0329\n",
      "2025-02-09 13:41:25,680 [13068] INFO     root: Iteration 4004: RMSE=2.2319, MAE=2.2319\n",
      "2025-02-09 13:41:25,807 [13068] INFO     root: Iteration 4005: RMSE=21.1875, MAE=21.1875\n",
      "2025-02-09 13:41:25,926 [13068] INFO     root: Iteration 4006: RMSE=1.0525, MAE=1.0525\n",
      "2025-02-09 13:41:26,033 [13068] INFO     root: Iteration 4007: RMSE=6.4895, MAE=6.4895\n",
      "2025-02-09 13:41:26,134 [13068] INFO     root: Iteration 4008: RMSE=0.8280, MAE=0.8280\n",
      "2025-02-09 13:41:26,240 [13068] INFO     root: Iteration 4009: RMSE=1.6861, MAE=1.6861\n",
      "2025-02-09 13:41:26,343 [13068] INFO     root: Iteration 4010: RMSE=0.6004, MAE=0.6004\n",
      "2025-02-09 13:41:26,427 [13068] INFO     root: Iteration 4011: RMSE=2.5855, MAE=2.5855\n",
      "2025-02-09 13:41:26,623 [13068] INFO     root: Iteration 4012: RMSE=1.9880, MAE=1.9880\n",
      "2025-02-09 13:41:26,739 [13068] INFO     root: Iteration 4013: RMSE=0.2922, MAE=0.2922\n",
      "2025-02-09 13:41:26,851 [13068] INFO     root: Iteration 4014: RMSE=0.4811, MAE=0.4811\n",
      "2025-02-09 13:41:26,949 [13068] INFO     root: Iteration 4015: RMSE=2.0594, MAE=2.0594\n",
      "2025-02-09 13:41:27,051 [13068] INFO     root: Iteration 4016: RMSE=1.0525, MAE=1.0525\n",
      "2025-02-09 13:41:27,142 [13068] INFO     root: Iteration 4017: RMSE=1.0525, MAE=1.0525\n",
      "2025-02-09 13:41:27,252 [13068] INFO     root: Iteration 4018: RMSE=2.2823, MAE=2.2823\n",
      "2025-02-09 13:41:27,358 [13068] INFO     root: Iteration 4019: RMSE=0.6820, MAE=0.6820\n",
      "2025-02-09 13:41:27,375 [13068] INFO     ml_monitor.logging: Starting metrics logging thread...\n",
      "2025-02-09 13:41:27,485 [13068] INFO     root: Iteration 4020: RMSE=2.7746, MAE=2.7746\n",
      "2025-02-09 13:41:27,604 [13068] INFO     root: Iteration 4021: RMSE=3.0048, MAE=3.0048\n",
      "2025-02-09 13:41:27,713 [13068] INFO     root: Iteration 4022: RMSE=0.4278, MAE=0.4278\n",
      "2025-02-09 13:41:27,812 [13068] INFO     root: Iteration 4023: RMSE=0.8280, MAE=0.8280\n",
      "2025-02-09 13:41:27,941 [13068] INFO     root: Iteration 4024: RMSE=1.9891, MAE=1.9891\n",
      "2025-02-09 13:41:28,054 [13068] INFO     root: Iteration 4025: RMSE=0.0894, MAE=0.0894\n",
      "2025-02-09 13:41:28,202 [13068] INFO     root: Iteration 4026: RMSE=1.0783, MAE=1.0783\n",
      "2025-02-09 13:41:28,302 [13068] INFO     root: Iteration 4027: RMSE=2.5983, MAE=2.5983\n",
      "2025-02-09 13:41:28,426 [13068] INFO     root: Iteration 4028: RMSE=1.0525, MAE=1.0525\n",
      "2025-02-09 13:41:28,547 [13068] INFO     root: Iteration 4029: RMSE=2.9898, MAE=2.9898\n",
      "2025-02-09 13:41:28,657 [13068] INFO     root: Iteration 4030: RMSE=1.3937, MAE=1.3937\n",
      "2025-02-09 13:41:28,831 [13068] INFO     root: Iteration 4031: RMSE=0.9201, MAE=0.9201\n",
      "2025-02-09 13:41:28,922 [13068] INFO     root: Iteration 4032: RMSE=2.1020, MAE=2.1020\n",
      "2025-02-09 13:41:29,020 [13068] INFO     root: Iteration 4033: RMSE=4.2272, MAE=4.2272\n",
      "2025-02-09 13:41:29,108 [13068] INFO     root: Iteration 4034: RMSE=2.7728, MAE=2.7728\n",
      "2025-02-09 13:41:29,214 [13068] INFO     root: Iteration 4035: RMSE=2.1020, MAE=2.1020\n",
      "2025-02-09 13:41:29,336 [13068] INFO     root: Iteration 4036: RMSE=3.6498, MAE=3.6498\n",
      "2025-02-09 13:41:29,441 [13068] INFO     root: Iteration 4037: RMSE=2.4681, MAE=2.4681\n",
      "2025-02-09 13:41:29,532 [13068] INFO     root: Iteration 4038: RMSE=0.6820, MAE=0.6820\n",
      "2025-02-09 13:41:29,624 [13068] INFO     root: Iteration 4039: RMSE=2.5855, MAE=2.5855\n",
      "2025-02-09 13:41:29,722 [13068] INFO     root: Iteration 4040: RMSE=3.2950, MAE=3.2950\n",
      "2025-02-09 13:41:29,874 [13068] INFO     root: Iteration 4041: RMSE=2.2319, MAE=2.2319\n",
      "2025-02-09 13:41:29,977 [13068] INFO     root: Iteration 4042: RMSE=0.4811, MAE=0.4811\n",
      "2025-02-09 13:41:30,068 [13068] INFO     root: Iteration 4043: RMSE=2.1281, MAE=2.1281\n",
      "2025-02-09 13:41:30,160 [13068] INFO     root: Iteration 4044: RMSE=3.2372, MAE=3.2372\n",
      "2025-02-09 13:41:30,273 [13068] INFO     root: Iteration 4045: RMSE=0.2445, MAE=0.2445\n",
      "2025-02-09 13:41:30,375 [13068] INFO     root: Iteration 4046: RMSE=1.2841, MAE=1.2841\n",
      "2025-02-09 13:41:30,499 [13068] INFO     root: Iteration 4047: RMSE=0.6863, MAE=0.6863\n",
      "2025-02-09 13:41:30,587 [13068] INFO     root: Iteration 4048: RMSE=0.5329, MAE=0.5329\n",
      "2025-02-09 13:41:30,755 [13068] INFO     root: Iteration 4049: RMSE=2.1020, MAE=2.1020\n",
      "2025-02-09 13:41:30,847 [13068] INFO     root: Iteration 4050: RMSE=2.2324, MAE=2.2324\n",
      "2025-02-09 13:41:30,937 [13068] INFO     root: Iteration 4051: RMSE=2.2319, MAE=2.2319\n",
      "2025-02-09 13:41:31,031 [13068] INFO     root: Iteration 4052: RMSE=2.1281, MAE=2.1281\n",
      "2025-02-09 13:41:31,127 [13068] INFO     root: Iteration 4053: RMSE=1.2010, MAE=1.2010\n",
      "2025-02-09 13:41:31,230 [13068] INFO     root: Iteration 4054: RMSE=0.0190, MAE=0.0190\n",
      "2025-02-09 13:41:31,699 [13068] INFO     root: Metrics pushed at iteration 4054. RMSE=0.0190, MAE=0.0190\n",
      "2025-02-09 13:41:31,807 [13068] INFO     root: Iteration 4055: RMSE=1.3227, MAE=1.3227\n",
      "2025-02-09 13:41:31,917 [13068] INFO     root: Iteration 4056: RMSE=0.9201, MAE=0.9201\n",
      "2025-02-09 13:41:32,035 [13068] INFO     root: Iteration 4057: RMSE=0.9201, MAE=0.9201\n",
      "2025-02-09 13:41:32,148 [13068] INFO     root: Iteration 4058: RMSE=5.2814, MAE=5.2814\n",
      "2025-02-09 13:41:32,257 [13068] INFO     root: Iteration 4059: RMSE=0.1636, MAE=0.1636\n",
      "2025-02-09 13:41:32,367 [13068] INFO     root: Iteration 4060: RMSE=1.9374, MAE=1.9374\n",
      "2025-02-09 13:41:32,390 [13068] INFO     ml_monitor.logging: Starting metrics logging thread...\n",
      "2025-02-09 13:41:32,524 [13068] INFO     root: Iteration 4061: RMSE=0.0894, MAE=0.0894\n",
      "2025-02-09 13:41:32,634 [13068] INFO     root: Iteration 4062: RMSE=1.0341, MAE=1.0341\n",
      "2025-02-09 13:41:32,821 [13068] INFO     root: Iteration 4063: RMSE=1.5289, MAE=1.5289\n",
      "2025-02-09 13:41:32,945 [13068] INFO     root: Iteration 4064: RMSE=0.1636, MAE=0.1636\n",
      "2025-02-09 13:41:33,072 [13068] INFO     root: Iteration 4065: RMSE=4.2733, MAE=4.2733\n",
      "2025-02-09 13:41:33,172 [13068] INFO     root: Iteration 4066: RMSE=2.8002, MAE=2.8002\n",
      "2025-02-09 13:41:33,287 [13068] INFO     root: Iteration 4067: RMSE=4.2272, MAE=4.2272\n",
      "2025-02-09 13:41:33,408 [13068] INFO     root: Iteration 4068: RMSE=1.7797, MAE=1.7797\n",
      "2025-02-09 13:41:33,536 [13068] INFO     root: Iteration 4069: RMSE=6.3484, MAE=6.3484\n",
      "2025-02-09 13:41:33,702 [13068] INFO     root: Iteration 4070: RMSE=2.7728, MAE=2.7728\n",
      "2025-02-09 13:41:33,815 [13068] INFO     root: Iteration 4071: RMSE=2.2324, MAE=2.2324\n",
      "2025-02-09 13:41:33,921 [13068] INFO     root: Iteration 4072: RMSE=0.0894, MAE=0.0894\n",
      "2025-02-09 13:41:34,026 [13068] INFO     root: Iteration 4073: RMSE=0.6277, MAE=0.6277\n",
      "2025-02-09 13:41:34,128 [13068] INFO     root: Iteration 4074: RMSE=7.1880, MAE=7.1880\n",
      "2025-02-09 13:41:34,248 [13068] INFO     root: Iteration 4075: RMSE=4.3271, MAE=4.3271\n",
      "2025-02-09 13:41:34,344 [13068] INFO     root: Iteration 4076: RMSE=5.0666, MAE=5.0666\n",
      "2025-02-09 13:41:34,483 [13068] INFO     root: Iteration 4077: RMSE=1.7797, MAE=1.7797\n",
      "2025-02-09 13:41:34,594 [13068] INFO     root: Iteration 4078: RMSE=2.0594, MAE=2.0594\n",
      "2025-02-09 13:41:34,732 [13068] INFO     root: Iteration 4079: RMSE=0.9201, MAE=0.9201\n",
      "2025-02-09 13:41:34,872 [13068] INFO     root: Iteration 4080: RMSE=0.4278, MAE=0.4278\n",
      "2025-02-09 13:41:34,975 [13068] INFO     root: Iteration 4081: RMSE=2.1020, MAE=2.1020\n",
      "2025-02-09 13:41:35,080 [13068] INFO     root: Iteration 4082: RMSE=0.6004, MAE=0.6004\n",
      "2025-02-09 13:41:35,229 [13068] INFO     root: Iteration 4083: RMSE=4.2530, MAE=4.2530\n",
      "2025-02-09 13:41:35,344 [13068] INFO     root: Iteration 4084: RMSE=2.1020, MAE=2.1020\n",
      "2025-02-09 13:41:35,455 [13068] INFO     root: Iteration 4085: RMSE=1.9834, MAE=1.9834\n",
      "2025-02-09 13:41:35,568 [13068] INFO     root: Iteration 4086: RMSE=6.5607, MAE=6.5607\n",
      "2025-02-09 13:41:35,694 [13068] INFO     root: Iteration 4087: RMSE=7.1880, MAE=7.1880\n",
      "2025-02-09 13:41:35,841 [13068] INFO     root: Iteration 4088: RMSE=15.7679, MAE=15.7679\n",
      "2025-02-09 13:41:35,946 [13068] INFO     root: Iteration 4089: RMSE=3.9035, MAE=3.9035\n",
      "2025-02-09 13:41:36,048 [13068] INFO     root: Iteration 4090: RMSE=1.7964, MAE=1.7964\n",
      "2025-02-09 13:41:36,138 [13068] INFO     root: Iteration 4091: RMSE=0.8502, MAE=0.8502\n",
      "2025-02-09 13:41:36,228 [13068] INFO     root: Iteration 4092: RMSE=0.6277, MAE=0.6277\n",
      "2025-02-09 13:41:36,343 [13068] INFO     root: Iteration 4093: RMSE=2.2324, MAE=2.2324\n",
      "2025-02-09 13:41:36,468 [13068] INFO     root: Iteration 4094: RMSE=3.9035, MAE=3.9035\n",
      "2025-02-09 13:41:36,569 [13068] INFO     root: Iteration 4095: RMSE=6.5607, MAE=6.5607\n",
      "2025-02-09 13:41:36,679 [13068] INFO     root: Iteration 4096: RMSE=4.2733, MAE=4.2733\n",
      "2025-02-09 13:41:36,850 [13068] INFO     root: Iteration 4097: RMSE=1.9880, MAE=1.9880\n",
      "2025-02-09 13:41:36,942 [13068] INFO     root: Iteration 4098: RMSE=2.1957, MAE=2.1957\n",
      "2025-02-09 13:41:37,029 [13068] INFO     root: Iteration 4099: RMSE=0.9510, MAE=0.9510\n",
      "2025-02-09 13:41:37,141 [13068] INFO     root: Iteration 4100: RMSE=3.2372, MAE=3.2372\n",
      "2025-02-09 13:41:37,249 [13068] INFO     root: Iteration 4101: RMSE=1.0837, MAE=1.0837\n",
      "2025-02-09 13:41:37,358 [13068] INFO     root: Iteration 4102: RMSE=2.7746, MAE=2.7746\n",
      "2025-02-09 13:41:37,416 [13068] INFO     ml_monitor.logging: Starting metrics logging thread...\n",
      "2025-02-09 13:41:37,473 [13068] INFO     root: Iteration 4103: RMSE=5.2814, MAE=5.2814\n",
      "2025-02-09 13:41:37,584 [13068] INFO     root: Iteration 4104: RMSE=6.4895, MAE=6.4895\n",
      "2025-02-09 13:41:37,746 [13068] INFO     root: Iteration 4105: RMSE=0.1640, MAE=0.1640\n",
      "2025-02-09 13:41:37,851 [13068] INFO     root: Iteration 4106: RMSE=15.7679, MAE=15.7679\n",
      "2025-02-09 13:41:37,940 [13068] INFO     root: Iteration 4107: RMSE=0.1640, MAE=0.1640\n",
      "2025-02-09 13:41:38,057 [13068] INFO     root: Iteration 4108: RMSE=0.6863, MAE=0.6863\n",
      "2025-02-09 13:41:38,179 [13068] INFO     root: Iteration 4109: RMSE=0.2922, MAE=0.2922\n",
      "2025-02-09 13:41:38,299 [13068] INFO     root: Iteration 4110: RMSE=1.9024, MAE=1.9024\n",
      "2025-02-09 13:41:38,426 [13068] INFO     root: Iteration 4111: RMSE=1.2345, MAE=1.2345\n",
      "2025-02-09 13:41:38,542 [13068] INFO     root: Iteration 4112: RMSE=2.4407, MAE=2.4407\n",
      "2025-02-09 13:41:38,661 [13068] INFO     root: Iteration 4113: RMSE=0.6820, MAE=0.6820\n",
      "2025-02-09 13:41:38,779 [13068] INFO     root: Iteration 4114: RMSE=3.2372, MAE=3.2372\n",
      "2025-02-09 13:41:38,911 [13068] INFO     root: Iteration 4115: RMSE=0.1640, MAE=0.1640\n",
      "2025-02-09 13:41:39,041 [13068] INFO     root: Iteration 4116: RMSE=0.1136, MAE=0.1136\n",
      "2025-02-09 13:41:39,200 [13068] INFO     root: Iteration 4117: RMSE=4.3700, MAE=4.3700\n",
      "2025-02-09 13:41:39,314 [13068] INFO     root: Iteration 4118: RMSE=1.9024, MAE=1.9024\n",
      "2025-02-09 13:41:39,436 [13068] INFO     root: Iteration 4119: RMSE=2.4681, MAE=2.4681\n",
      "2025-02-09 13:41:39,555 [13068] INFO     root: Iteration 4120: RMSE=1.2345, MAE=1.2345\n",
      "2025-02-09 13:41:39,673 [13068] INFO     root: Iteration 4121: RMSE=7.1962, MAE=7.1962\n",
      "2025-02-09 13:41:39,802 [13068] INFO     root: Iteration 4122: RMSE=0.9690, MAE=0.9690\n",
      "2025-02-09 13:41:39,932 [13068] INFO     root: Iteration 4123: RMSE=4.3271, MAE=4.3271\n",
      "2025-02-09 13:41:40,067 [13068] INFO     root: Iteration 4124: RMSE=2.5983, MAE=2.5983\n",
      "2025-02-09 13:41:40,178 [13068] INFO     root: Iteration 4125: RMSE=1.2841, MAE=1.2841\n",
      "2025-02-09 13:41:40,285 [13068] INFO     root: Iteration 4126: RMSE=6.4895, MAE=6.4895\n",
      "2025-02-09 13:41:40,393 [13068] INFO     root: Iteration 4127: RMSE=0.4278, MAE=0.4278\n",
      "2025-02-09 13:41:40,572 [13068] INFO     root: Iteration 4128: RMSE=1.0525, MAE=1.0525\n",
      "2025-02-09 13:41:40,676 [13068] INFO     root: Iteration 4129: RMSE=0.5329, MAE=0.5329\n",
      "2025-02-09 13:41:40,776 [13068] INFO     root: Iteration 4130: RMSE=6.4895, MAE=6.4895\n",
      "2025-02-09 13:41:40,866 [13068] INFO     root: Iteration 4131: RMSE=7.1962, MAE=7.1962\n",
      "2025-02-09 13:41:40,962 [13068] INFO     root: Iteration 4132: RMSE=4.3700, MAE=4.3700\n",
      "2025-02-09 13:41:41,062 [13068] INFO     root: Iteration 4133: RMSE=4.2733, MAE=4.2733\n",
      "2025-02-09 13:41:41,157 [13068] INFO     root: Iteration 4134: RMSE=3.0641, MAE=3.0641\n",
      "2025-02-09 13:41:41,253 [13068] INFO     root: Iteration 4135: RMSE=2.4407, MAE=2.4407\n",
      "2025-02-09 13:41:41,750 [13068] INFO     root: Metrics pushed at iteration 4135. RMSE=2.4407, MAE=2.4407\n",
      "2025-02-09 13:41:41,839 [13068] INFO     root: Iteration 4136: RMSE=0.4053, MAE=0.4053\n",
      "2025-02-09 13:41:41,979 [13068] INFO     root: Iteration 4137: RMSE=1.5147, MAE=1.5147\n",
      "2025-02-09 13:41:42,076 [13068] INFO     root: Iteration 4138: RMSE=1.6668, MAE=1.6668\n",
      "2025-02-09 13:41:42,188 [13068] INFO     root: Iteration 4139: RMSE=1.3937, MAE=1.3937\n",
      "2025-02-09 13:41:42,301 [13068] INFO     root: Iteration 4140: RMSE=1.9024, MAE=1.9024\n",
      "2025-02-09 13:41:42,431 [13068] INFO     root: Iteration 4141: RMSE=4.2272, MAE=4.2272\n",
      "2025-02-09 13:41:42,434 [13068] INFO     ml_monitor.logging: Starting metrics logging thread...\n",
      "2025-02-09 13:41:42,571 [13068] INFO     root: Iteration 4142: RMSE=4.2530, MAE=4.2530\n",
      "2025-02-09 13:41:42,678 [13068] INFO     root: Iteration 4143: RMSE=6.3484, MAE=6.3484\n",
      "2025-02-09 13:41:42,780 [13068] INFO     root: Iteration 4144: RMSE=2.4681, MAE=2.4681\n",
      "2025-02-09 13:41:42,897 [13068] INFO     root: Iteration 4145: RMSE=1.2010, MAE=1.2010\n",
      "2025-02-09 13:41:43,005 [13068] INFO     root: Iteration 4146: RMSE=1.5147, MAE=1.5147\n",
      "2025-02-09 13:41:43,101 [13068] INFO     root: Iteration 4147: RMSE=1.9834, MAE=1.9834\n",
      "2025-02-09 13:41:43,215 [13068] INFO     root: Iteration 4148: RMSE=2.2823, MAE=2.2823\n",
      "2025-02-09 13:41:43,384 [13068] INFO     root: Iteration 4149: RMSE=0.6277, MAE=0.6277\n",
      "2025-02-09 13:41:43,503 [13068] INFO     root: Iteration 4150: RMSE=1.9891, MAE=1.9891\n",
      "2025-02-09 13:41:43,599 [13068] INFO     root: Iteration 4151: RMSE=6.4895, MAE=6.4895\n",
      "2025-02-09 13:41:43,726 [13068] INFO     root: Iteration 4152: RMSE=4.2733, MAE=4.2733\n",
      "2025-02-09 13:41:43,823 [13068] INFO     root: Iteration 4153: RMSE=0.8502, MAE=0.8502\n",
      "2025-02-09 13:41:43,920 [13068] INFO     root: Iteration 4154: RMSE=4.2733, MAE=4.2733\n",
      "2025-02-09 13:41:44,017 [13068] INFO     root: Iteration 4155: RMSE=3.6498, MAE=3.6498\n",
      "2025-02-09 13:41:44,120 [13068] INFO     root: Iteration 4156: RMSE=5.1399, MAE=5.1399\n",
      "2025-02-09 13:41:44,225 [13068] INFO     root: Iteration 4157: RMSE=0.2922, MAE=0.2922\n",
      "2025-02-09 13:41:44,331 [13068] INFO     root: Iteration 4158: RMSE=1.9891, MAE=1.9891\n",
      "2025-02-09 13:41:44,472 [13068] INFO     root: Iteration 4159: RMSE=1.2841, MAE=1.2841\n",
      "2025-02-09 13:41:44,575 [13068] INFO     root: Iteration 4160: RMSE=0.6004, MAE=0.6004\n",
      "2025-02-09 13:41:44,688 [13068] INFO     root: Iteration 4161: RMSE=3.0641, MAE=3.0641\n",
      "2025-02-09 13:41:44,793 [13068] INFO     root: Iteration 4162: RMSE=2.9898, MAE=2.9898\n",
      "2025-02-09 13:41:44,891 [13068] INFO     root: Iteration 4163: RMSE=0.0329, MAE=0.0329\n",
      "2025-02-09 13:41:44,991 [13068] INFO     root: Iteration 4164: RMSE=2.5855, MAE=2.5855\n",
      "2025-02-09 13:41:45,086 [13068] INFO     root: Iteration 4165: RMSE=5.1399, MAE=5.1399\n",
      "2025-02-09 13:41:45,184 [13068] INFO     root: Iteration 4166: RMSE=2.4091, MAE=2.4091\n",
      "2025-02-09 13:41:45,315 [13068] INFO     root: Iteration 4167: RMSE=0.9201, MAE=0.9201\n",
      "2025-02-09 13:41:45,405 [13068] INFO     root: Iteration 4168: RMSE=5.1385, MAE=5.1385\n",
      "2025-02-09 13:41:45,507 [13068] INFO     root: Iteration 4169: RMSE=0.0894, MAE=0.0894\n",
      "2025-02-09 13:41:45,607 [13068] INFO     root: Iteration 4170: RMSE=0.4811, MAE=0.4811\n",
      "2025-02-09 13:41:45,696 [13068] INFO     root: Iteration 4171: RMSE=2.6178, MAE=2.6178\n",
      "2025-02-09 13:41:45,855 [13068] INFO     root: Iteration 4172: RMSE=0.5329, MAE=0.5329\n",
      "2025-02-09 13:41:45,962 [13068] INFO     root: Iteration 4173: RMSE=1.6668, MAE=1.6668\n",
      "2025-02-09 13:41:46,056 [13068] INFO     root: Iteration 4174: RMSE=0.8502, MAE=0.8502\n",
      "2025-02-09 13:41:46,160 [13068] INFO     root: Iteration 4175: RMSE=3.9035, MAE=3.9035\n",
      "2025-02-09 13:41:46,271 [13068] INFO     root: Iteration 4176: RMSE=4.2272, MAE=4.2272\n",
      "2025-02-09 13:41:46,374 [13068] INFO     root: Iteration 4177: RMSE=3.9228, MAE=3.9228\n",
      "2025-02-09 13:41:46,470 [13068] INFO     root: Iteration 4178: RMSE=1.7964, MAE=1.7964\n",
      "2025-02-09 13:41:46,558 [13068] INFO     root: Iteration 4179: RMSE=0.9176, MAE=0.9176\n",
      "2025-02-09 13:41:46,733 [13068] INFO     root: Iteration 4180: RMSE=3.6498, MAE=3.6498\n",
      "2025-02-09 13:41:46,835 [13068] INFO     root: Iteration 4181: RMSE=0.5423, MAE=0.5423\n",
      "2025-02-09 13:41:46,925 [13068] INFO     root: Iteration 4182: RMSE=3.2950, MAE=3.2950\n",
      "2025-02-09 13:41:47,013 [13068] INFO     root: Iteration 4183: RMSE=2.5855, MAE=2.5855\n",
      "2025-02-09 13:41:47,114 [13068] INFO     root: Iteration 4184: RMSE=0.0894, MAE=0.0894\n",
      "2025-02-09 13:41:47,204 [13068] INFO     root: Iteration 4185: RMSE=3.0812, MAE=3.0812\n",
      "2025-02-09 13:41:47,306 [13068] INFO     root: Iteration 4186: RMSE=2.4681, MAE=2.4681\n",
      "2025-02-09 13:41:47,393 [13068] INFO     root: Iteration 4187: RMSE=1.9024, MAE=1.9024\n",
      "2025-02-09 13:41:47,458 [13068] INFO     ml_monitor.logging: Starting metrics logging thread...\n",
      "2025-02-09 13:41:47,567 [13068] INFO     root: Iteration 4188: RMSE=0.6277, MAE=0.6277\n",
      "2025-02-09 13:41:47,662 [13068] INFO     root: Iteration 4189: RMSE=0.0894, MAE=0.0894\n",
      "2025-02-09 13:41:47,756 [13068] INFO     root: Iteration 4190: RMSE=6.5607, MAE=6.5607\n",
      "2025-02-09 13:41:47,847 [13068] INFO     root: Iteration 4191: RMSE=3.2372, MAE=3.2372\n",
      "2025-02-09 13:41:47,947 [13068] INFO     root: Iteration 4192: RMSE=0.6277, MAE=0.6277\n",
      "2025-02-09 13:41:48,037 [13068] INFO     root: Iteration 4193: RMSE=3.1092, MAE=3.1092\n",
      "2025-02-09 13:41:48,138 [13068] INFO     root: Iteration 4194: RMSE=1.5289, MAE=1.5289\n",
      "2025-02-09 13:41:48,243 [13068] INFO     root: Iteration 4195: RMSE=4.3271, MAE=4.3271\n",
      "2025-02-09 13:41:48,346 [13068] INFO     root: Iteration 4196: RMSE=0.6863, MAE=0.6863\n",
      "2025-02-09 13:41:48,444 [13068] INFO     root: Iteration 4197: RMSE=1.9024, MAE=1.9024\n",
      "2025-02-09 13:41:48,544 [13068] INFO     root: Iteration 4198: RMSE=5.2814, MAE=5.2814\n",
      "2025-02-09 13:41:48,640 [13068] INFO     root: Iteration 4199: RMSE=3.1701, MAE=3.1701\n",
      "2025-02-09 13:41:48,740 [13068] INFO     root: Iteration 4200: RMSE=1.0341, MAE=1.0341\n",
      "2025-02-09 13:41:48,905 [13068] INFO     root: Iteration 4201: RMSE=2.0594, MAE=2.0594\n",
      "2025-02-09 13:41:48,997 [13068] INFO     root: Iteration 4202: RMSE=0.0329, MAE=0.0329\n",
      "2025-02-09 13:41:49,100 [13068] INFO     root: Iteration 4203: RMSE=2.0594, MAE=2.0594\n",
      "2025-02-09 13:41:49,202 [13068] INFO     root: Iteration 4204: RMSE=0.4811, MAE=0.4811\n",
      "2025-02-09 13:41:49,313 [13068] INFO     root: Iteration 4205: RMSE=0.9510, MAE=0.9510\n",
      "2025-02-09 13:41:49,405 [13068] INFO     root: Iteration 4206: RMSE=0.5423, MAE=0.5423\n",
      "2025-02-09 13:41:49,529 [13068] INFO     root: Iteration 4207: RMSE=2.1957, MAE=2.1957\n",
      "2025-02-09 13:41:49,629 [13068] INFO     root: Iteration 4208: RMSE=4.2272, MAE=4.2272\n",
      "2025-02-09 13:41:49,731 [13068] INFO     root: Iteration 4209: RMSE=0.1550, MAE=0.1550\n",
      "2025-02-09 13:41:49,905 [13068] INFO     root: Iteration 4210: RMSE=4.2619, MAE=4.2619\n",
      "2025-02-09 13:41:50,005 [13068] INFO     root: Iteration 4211: RMSE=1.3227, MAE=1.3227\n",
      "2025-02-09 13:41:50,108 [13068] INFO     root: Iteration 4212: RMSE=4.2619, MAE=4.2619\n",
      "2025-02-09 13:41:50,208 [13068] INFO     root: Iteration 4213: RMSE=4.3271, MAE=4.3271\n",
      "2025-02-09 13:41:50,311 [13068] INFO     root: Iteration 4214: RMSE=7.1880, MAE=7.1880\n",
      "2025-02-09 13:41:50,428 [13068] INFO     root: Iteration 4215: RMSE=1.0783, MAE=1.0783\n",
      "2025-02-09 13:41:50,537 [13068] INFO     root: Iteration 4216: RMSE=0.1550, MAE=0.1550\n",
      "2025-02-09 13:41:50,639 [13068] INFO     root: Iteration 4217: RMSE=4.3700, MAE=4.3700\n",
      "2025-02-09 13:41:50,744 [13068] INFO     root: Iteration 4218: RMSE=1.2010, MAE=1.2010\n",
      "2025-02-09 13:41:50,843 [13068] INFO     root: Iteration 4219: RMSE=1.5289, MAE=1.5289\n",
      "2025-02-09 13:41:50,942 [13068] INFO     root: Iteration 4220: RMSE=0.0329, MAE=0.0329\n",
      "2025-02-09 13:41:51,042 [13068] INFO     root: Iteration 4221: RMSE=3.1701, MAE=3.1701\n",
      "2025-02-09 13:41:51,147 [13068] INFO     root: Iteration 4222: RMSE=0.0329, MAE=0.0329\n",
      "2025-02-09 13:41:51,332 [13068] INFO     root: Iteration 4223: RMSE=7.1880, MAE=7.1880\n",
      "2025-02-09 13:41:51,812 [13068] INFO     root: Metrics pushed at iteration 4223. RMSE=7.1880, MAE=7.1880\n",
      "2025-02-09 13:41:51,902 [13068] INFO     root: Iteration 4224: RMSE=1.0525, MAE=1.0525\n",
      "2025-02-09 13:41:51,990 [13068] INFO     root: Iteration 4225: RMSE=1.3937, MAE=1.3937\n",
      "2025-02-09 13:41:52,083 [13068] INFO     root: Iteration 4226: RMSE=2.1281, MAE=2.1281\n",
      "2025-02-09 13:41:52,168 [13068] INFO     root: Iteration 4227: RMSE=2.4091, MAE=2.4091\n",
      "2025-02-09 13:41:52,260 [13068] INFO     root: Iteration 4228: RMSE=0.1636, MAE=0.1636\n",
      "2025-02-09 13:41:52,358 [13068] INFO     root: Iteration 4229: RMSE=0.2445, MAE=0.2445\n",
      "2025-02-09 13:41:52,515 [13068] INFO     root: Iteration 4230: RMSE=0.6367, MAE=0.6367\n",
      "2025-02-09 13:41:52,557 [13068] INFO     ml_monitor.logging: Starting metrics logging thread...\n",
      "2025-02-09 13:41:52,652 [13068] INFO     root: Iteration 4231: RMSE=2.1957, MAE=2.1957\n",
      "2025-02-09 13:41:52,741 [13068] INFO     root: Iteration 4232: RMSE=1.0525, MAE=1.0525\n",
      "2025-02-09 13:41:52,833 [13068] INFO     root: Iteration 4233: RMSE=4.3271, MAE=4.3271\n",
      "2025-02-09 13:41:52,945 [13068] INFO     root: Iteration 4234: RMSE=1.0783, MAE=1.0783\n",
      "2025-02-09 13:41:53,033 [13068] INFO     root: Iteration 4235: RMSE=0.4053, MAE=0.4053\n",
      "2025-02-09 13:41:53,132 [13068] INFO     root: Iteration 4236: RMSE=0.1640, MAE=0.1640\n",
      "2025-02-09 13:41:53,249 [13068] INFO     root: Iteration 4237: RMSE=0.5423, MAE=0.5423\n",
      "2025-02-09 13:41:53,391 [13068] INFO     root: Iteration 4238: RMSE=7.1880, MAE=7.1880\n",
      "2025-02-09 13:41:53,513 [13068] INFO     root: Iteration 4239: RMSE=6.3484, MAE=6.3484\n",
      "2025-02-09 13:41:53,640 [13068] INFO     root: Iteration 4240: RMSE=0.1136, MAE=0.1136\n",
      "2025-02-09 13:41:53,734 [13068] INFO     root: Iteration 4241: RMSE=3.9035, MAE=3.9035\n",
      "2025-02-09 13:41:53,827 [13068] INFO     root: Iteration 4242: RMSE=0.8295, MAE=0.8295\n",
      "2025-02-09 13:41:53,924 [13068] INFO     root: Iteration 4243: RMSE=2.6178, MAE=2.6178\n",
      "2025-02-09 13:41:54,020 [13068] INFO     root: Iteration 4244: RMSE=1.9374, MAE=1.9374\n",
      "2025-02-09 13:41:54,114 [13068] INFO     root: Iteration 4245: RMSE=1.2841, MAE=1.2841\n",
      "2025-02-09 13:41:54,214 [13068] INFO     root: Iteration 4246: RMSE=1.5289, MAE=1.5289\n",
      "2025-02-09 13:41:54,310 [13068] INFO     root: Iteration 4247: RMSE=0.9201, MAE=0.9201\n",
      "2025-02-09 13:41:54,401 [13068] INFO     root: Iteration 4248: RMSE=1.0341, MAE=1.0341\n",
      "2025-02-09 13:41:54,500 [13068] INFO     root: Iteration 4249: RMSE=4.3700, MAE=4.3700\n",
      "2025-02-09 13:41:54,657 [13068] INFO     root: Iteration 4250: RMSE=0.6004, MAE=0.6004\n",
      "2025-02-09 13:41:54,764 [13068] INFO     root: Iteration 4251: RMSE=0.9201, MAE=0.9201\n",
      "2025-02-09 13:41:54,876 [13068] INFO     root: Iteration 4252: RMSE=1.9470, MAE=1.9470\n",
      "2025-02-09 13:41:54,973 [13068] INFO     root: Iteration 4253: RMSE=3.0641, MAE=3.0641\n",
      "2025-02-09 13:41:55,066 [13068] INFO     root: Iteration 4254: RMSE=0.6820, MAE=0.6820\n",
      "2025-02-09 13:41:55,161 [13068] INFO     root: Iteration 4255: RMSE=1.0783, MAE=1.0783\n",
      "2025-02-09 13:41:55,318 [13068] INFO     root: Iteration 4256: RMSE=1.0525, MAE=1.0525\n",
      "2025-02-09 13:41:55,416 [13068] INFO     root: Iteration 4257: RMSE=5.1385, MAE=5.1385\n",
      "2025-02-09 13:41:55,518 [13068] INFO     root: Iteration 4258: RMSE=1.2345, MAE=1.2345\n",
      "2025-02-09 13:41:55,610 [13068] INFO     root: Iteration 4259: RMSE=0.0894, MAE=0.0894\n",
      "2025-02-09 13:41:55,696 [13068] INFO     root: Iteration 4260: RMSE=3.6498, MAE=3.6498\n",
      "2025-02-09 13:41:55,790 [13068] INFO     root: Iteration 4261: RMSE=0.4811, MAE=0.4811\n",
      "2025-02-09 13:41:55,902 [13068] INFO     root: Iteration 4262: RMSE=4.2272, MAE=4.2272\n",
      "2025-02-09 13:41:55,996 [13068] INFO     root: Iteration 4263: RMSE=1.0783, MAE=1.0783\n",
      "2025-02-09 13:41:56,079 [13068] INFO     root: Iteration 4264: RMSE=0.1550, MAE=0.1550\n",
      "2025-02-09 13:41:56,183 [13068] INFO     root: Iteration 4265: RMSE=0.9690, MAE=0.9690\n",
      "2025-02-09 13:41:56,279 [13068] INFO     root: Iteration 4266: RMSE=4.2733, MAE=4.2733\n",
      "2025-02-09 13:41:56,375 [13068] INFO     root: Iteration 4267: RMSE=4.3271, MAE=4.3271\n",
      "2025-02-09 13:41:56,466 [13068] INFO     root: Iteration 4268: RMSE=2.2823, MAE=2.2823\n",
      "2025-02-09 13:41:56,558 [13068] INFO     root: Iteration 4269: RMSE=0.9690, MAE=0.9690\n",
      "2025-02-09 13:41:56,714 [13068] INFO     root: Iteration 4270: RMSE=2.5855, MAE=2.5855\n",
      "2025-02-09 13:41:56,797 [13068] INFO     root: Iteration 4271: RMSE=0.4278, MAE=0.4278\n",
      "2025-02-09 13:41:56,904 [13068] INFO     root: Iteration 4272: RMSE=4.2272, MAE=4.2272\n",
      "2025-02-09 13:41:57,015 [13068] INFO     root: Iteration 4273: RMSE=0.1550, MAE=0.1550\n",
      "2025-02-09 13:41:57,114 [13068] INFO     root: Iteration 4274: RMSE=0.0894, MAE=0.0894\n",
      "2025-02-09 13:41:57,223 [13068] INFO     root: Iteration 4275: RMSE=3.9228, MAE=3.9228\n",
      "2025-02-09 13:41:57,312 [13068] INFO     root: Iteration 4276: RMSE=1.2841, MAE=1.2841\n",
      "2025-02-09 13:41:57,415 [13068] INFO     root: Iteration 4277: RMSE=1.9024, MAE=1.9024\n",
      "2025-02-09 13:41:57,498 [13068] INFO     root: Iteration 4278: RMSE=0.9690, MAE=0.9690\n",
      "2025-02-09 13:41:57,587 [13068] INFO     ml_monitor.logging: Starting metrics logging thread...\n",
      "2025-02-09 13:41:57,605 [13068] INFO     root: Iteration 4279: RMSE=5.2814, MAE=5.2814\n",
      "2025-02-09 13:41:57,706 [13068] INFO     root: Iteration 4280: RMSE=1.9954, MAE=1.9954\n",
      "2025-02-09 13:41:57,800 [13068] INFO     root: Iteration 4281: RMSE=1.9374, MAE=1.9374\n",
      "2025-02-09 13:41:57,939 [13068] INFO     root: Iteration 4282: RMSE=1.0837, MAE=1.0837\n",
      "2025-02-09 13:41:58,039 [13068] INFO     root: Iteration 4283: RMSE=5.1385, MAE=5.1385\n",
      "2025-02-09 13:41:58,139 [13068] INFO     root: Iteration 4284: RMSE=1.9891, MAE=1.9891\n",
      "2025-02-09 13:41:58,231 [13068] INFO     root: Iteration 4285: RMSE=0.1550, MAE=0.1550\n",
      "2025-02-09 13:41:58,323 [13068] INFO     root: Iteration 4286: RMSE=1.2010, MAE=1.2010\n",
      "2025-02-09 13:41:58,440 [13068] INFO     root: Iteration 4287: RMSE=1.0341, MAE=1.0341\n",
      "2025-02-09 13:41:58,532 [13068] INFO     root: Iteration 4288: RMSE=0.8502, MAE=0.8502\n",
      "2025-02-09 13:41:58,679 [13068] INFO     root: Iteration 4289: RMSE=2.2324, MAE=2.2324\n",
      "2025-02-09 13:41:58,766 [13068] INFO     root: Iteration 4290: RMSE=1.2841, MAE=1.2841\n",
      "2025-02-09 13:41:58,860 [13068] INFO     root: Iteration 4291: RMSE=0.2445, MAE=0.2445\n",
      "2025-02-09 13:41:58,946 [13068] INFO     root: Iteration 4292: RMSE=0.8360, MAE=0.8360\n",
      "2025-02-09 13:41:59,030 [13068] INFO     root: Iteration 4293: RMSE=3.0048, MAE=3.0048\n",
      "2025-02-09 13:41:59,119 [13068] INFO     root: Iteration 4294: RMSE=3.1092, MAE=3.1092\n",
      "2025-02-09 13:41:59,214 [13068] INFO     root: Iteration 4295: RMSE=1.0341, MAE=1.0341\n",
      "2025-02-09 13:41:59,303 [13068] INFO     root: Iteration 4296: RMSE=2.7728, MAE=2.7728\n",
      "2025-02-09 13:41:59,411 [13068] INFO     root: Iteration 4297: RMSE=2.8002, MAE=2.8002\n",
      "2025-02-09 13:41:59,508 [13068] INFO     root: Iteration 4298: RMSE=2.4091, MAE=2.4091\n",
      "2025-02-09 13:41:59,615 [13068] INFO     root: Iteration 4299: RMSE=0.5329, MAE=0.5329\n",
      "2025-02-09 13:41:59,710 [13068] INFO     root: Iteration 4300: RMSE=0.4811, MAE=0.4811\n",
      "2025-02-09 13:41:59,846 [13068] INFO     root: Iteration 4301: RMSE=5.8811, MAE=5.8811\n",
      "2025-02-09 13:41:59,942 [13068] INFO     root: Iteration 4302: RMSE=0.5423, MAE=0.5423\n",
      "2025-02-09 13:42:00,059 [13068] INFO     root: Iteration 4303: RMSE=5.8175, MAE=5.8175\n",
      "2025-02-09 13:42:00,157 [13068] INFO     root: Iteration 4304: RMSE=0.4554, MAE=0.4554\n",
      "2025-02-09 13:42:00,258 [13068] INFO     root: Iteration 4305: RMSE=3.1092, MAE=3.1092\n",
      "2025-02-09 13:42:00,347 [13068] INFO     root: Iteration 4306: RMSE=21.1875, MAE=21.1875\n",
      "2025-02-09 13:42:00,443 [13068] INFO     root: Iteration 4307: RMSE=1.9834, MAE=1.9834\n",
      "2025-02-09 13:42:00,550 [13068] INFO     root: Iteration 4308: RMSE=5.0666, MAE=5.0666\n",
      "2025-02-09 13:42:00,703 [13068] INFO     root: Iteration 4309: RMSE=3.1701, MAE=3.1701\n",
      "2025-02-09 13:42:00,796 [13068] INFO     root: Iteration 4310: RMSE=2.5983, MAE=2.5983\n",
      "2025-02-09 13:42:00,886 [13068] INFO     root: Iteration 4311: RMSE=0.9201, MAE=0.9201\n",
      "2025-02-09 13:42:00,991 [13068] INFO     root: Iteration 4312: RMSE=0.4053, MAE=0.4053\n",
      "2025-02-09 13:42:01,087 [13068] INFO     root: Iteration 4313: RMSE=0.8280, MAE=0.8280\n",
      "2025-02-09 13:42:01,167 [13068] INFO     root: Iteration 4314: RMSE=1.5289, MAE=1.5289\n",
      "2025-02-09 13:42:01,270 [13068] INFO     root: Iteration 4315: RMSE=4.2530, MAE=4.2530\n",
      "2025-02-09 13:42:01,424 [13068] INFO     root: Iteration 4316: RMSE=3.2950, MAE=3.2950\n",
      "2025-02-09 13:42:01,884 [13068] INFO     root: Metrics pushed at iteration 4316. RMSE=3.2950, MAE=3.2950\n",
      "2025-02-09 13:42:01,985 [13068] INFO     root: Iteration 4317: RMSE=5.0666, MAE=5.0666\n",
      "2025-02-09 13:42:02,072 [13068] INFO     root: Iteration 4318: RMSE=2.4407, MAE=2.4407\n",
      "2025-02-09 13:42:02,165 [13068] INFO     root: Iteration 4319: RMSE=4.8742, MAE=4.8742\n",
      "2025-02-09 13:42:02,263 [13068] INFO     root: Iteration 4320: RMSE=0.2356, MAE=0.2356\n",
      "2025-02-09 13:42:02,354 [13068] INFO     root: Iteration 4321: RMSE=0.1636, MAE=0.1636\n",
      "2025-02-09 13:42:02,457 [13068] INFO     root: Iteration 4322: RMSE=3.9035, MAE=3.9035\n",
      "2025-02-09 13:42:02,541 [13068] INFO     root: Iteration 4323: RMSE=2.6178, MAE=2.6178\n",
      "2025-02-09 13:42:02,606 [13068] INFO     ml_monitor.logging: Starting metrics logging thread...\n",
      "2025-02-09 13:42:02,648 [13068] INFO     root: Iteration 4324: RMSE=0.4278, MAE=0.4278\n",
      "2025-02-09 13:42:02,795 [13068] INFO     root: Iteration 4325: RMSE=1.9834, MAE=1.9834\n",
      "2025-02-09 13:42:02,885 [13068] INFO     root: Iteration 4326: RMSE=5.3491, MAE=5.3491\n",
      "2025-02-09 13:42:02,981 [13068] INFO     root: Iteration 4327: RMSE=3.0812, MAE=3.0812\n",
      "2025-02-09 13:42:03,081 [13068] INFO     root: Iteration 4328: RMSE=1.9834, MAE=1.9834\n",
      "2025-02-09 13:42:03,178 [13068] INFO     root: Iteration 4329: RMSE=0.1636, MAE=0.1636\n",
      "2025-02-09 13:42:03,272 [13068] INFO     root: Iteration 4330: RMSE=6.3484, MAE=6.3484\n",
      "2025-02-09 13:42:03,380 [13068] INFO     root: Iteration 4331: RMSE=0.8502, MAE=0.8502\n",
      "2025-02-09 13:42:03,461 [13068] INFO     root: Iteration 4332: RMSE=1.2010, MAE=1.2010\n",
      "2025-02-09 13:42:03,613 [13068] INFO     root: Iteration 4333: RMSE=1.9374, MAE=1.9374\n",
      "2025-02-09 13:42:03,710 [13068] INFO     root: Iteration 4334: RMSE=2.8002, MAE=2.8002\n",
      "2025-02-09 13:42:03,809 [13068] INFO     root: Iteration 4335: RMSE=5.0666, MAE=5.0666\n",
      "2025-02-09 13:42:03,897 [13068] INFO     root: Iteration 4336: RMSE=4.3700, MAE=4.3700\n",
      "2025-02-09 13:42:03,994 [13068] INFO     root: Iteration 4337: RMSE=0.9690, MAE=0.9690\n",
      "2025-02-09 13:42:04,099 [13068] INFO     root: Iteration 4338: RMSE=0.5329, MAE=0.5329\n",
      "2025-02-09 13:42:04,196 [13068] INFO     root: Iteration 4339: RMSE=0.1136, MAE=0.1136\n",
      "2025-02-09 13:42:04,319 [13068] INFO     root: Iteration 4340: RMSE=2.2823, MAE=2.2823\n",
      "2025-02-09 13:42:04,421 [13068] INFO     root: Iteration 4341: RMSE=1.2345, MAE=1.2345\n",
      "2025-02-09 13:42:04,578 [13068] INFO     root: Iteration 4342: RMSE=1.9374, MAE=1.9374\n",
      "2025-02-09 13:42:04,671 [13068] INFO     root: Iteration 4343: RMSE=4.2733, MAE=4.2733\n",
      "2025-02-09 13:42:04,778 [13068] INFO     root: Iteration 4344: RMSE=1.6861, MAE=1.6861\n",
      "2025-02-09 13:42:04,895 [13068] INFO     root: Iteration 4345: RMSE=0.6863, MAE=0.6863\n",
      "2025-02-09 13:42:05,001 [13068] INFO     root: Iteration 4346: RMSE=4.2619, MAE=4.2619\n",
      "2025-02-09 13:42:05,106 [13068] INFO     root: Iteration 4347: RMSE=0.8295, MAE=0.8295\n",
      "2025-02-09 13:42:05,195 [13068] INFO     root: Iteration 4348: RMSE=0.0190, MAE=0.0190\n",
      "2025-02-09 13:42:05,310 [13068] INFO     root: Iteration 4349: RMSE=1.3937, MAE=1.3937\n",
      "2025-02-09 13:42:06,441 [13068] INFO     root: Iteration 4350: RMSE=4.2619, MAE=4.2619\n",
      "2025-02-09 13:42:06,564 [13068] INFO     root: Iteration 4351: RMSE=5.2814, MAE=5.2814\n",
      "2025-02-09 13:42:06,676 [13068] INFO     root: Iteration 4352: RMSE=0.4554, MAE=0.4554\n",
      "2025-02-09 13:42:06,787 [13068] INFO     root: Iteration 4353: RMSE=4.2733, MAE=4.2733\n",
      "2025-02-09 13:42:06,894 [13068] INFO     root: Iteration 4354: RMSE=0.5423, MAE=0.5423\n",
      "2025-02-09 13:42:07,001 [13068] INFO     root: Iteration 4355: RMSE=2.5983, MAE=2.5983\n",
      "2025-02-09 13:42:07,129 [13068] INFO     root: Iteration 4356: RMSE=5.2814, MAE=5.2814\n",
      "2025-02-09 13:42:07,253 [13068] INFO     root: Iteration 4357: RMSE=4.2619, MAE=4.2619\n",
      "2025-02-09 13:42:07,405 [13068] INFO     root: Iteration 4358: RMSE=7.1962, MAE=7.1962\n",
      "2025-02-09 13:42:07,554 [13068] INFO     root: Iteration 4359: RMSE=0.6277, MAE=0.6277\n",
      "2025-02-09 13:42:07,623 [13068] INFO     ml_monitor.logging: Starting metrics logging thread...\n",
      "2025-02-09 13:42:07,711 [13068] INFO     root: Iteration 4360: RMSE=0.8295, MAE=0.8295\n",
      "2025-02-09 13:42:07,829 [13068] INFO     root: Iteration 4361: RMSE=5.3491, MAE=5.3491\n",
      "2025-02-09 13:42:07,936 [13068] INFO     root: Iteration 4362: RMSE=1.9891, MAE=1.9891\n",
      "2025-02-09 13:42:08,076 [13068] INFO     root: Iteration 4363: RMSE=0.1136, MAE=0.1136\n",
      "2025-02-09 13:42:08,317 [13068] INFO     root: Iteration 4364: RMSE=2.6178, MAE=2.6178\n",
      "2025-02-09 13:42:08,471 [13068] INFO     root: Iteration 4365: RMSE=0.1636, MAE=0.1636\n",
      "2025-02-09 13:42:08,629 [13068] INFO     root: Iteration 4366: RMSE=0.2922, MAE=0.2922\n",
      "2025-02-09 13:42:08,782 [13068] INFO     root: Iteration 4367: RMSE=0.9201, MAE=0.9201\n",
      "2025-02-09 13:42:08,881 [13068] INFO     root: Iteration 4368: RMSE=1.9891, MAE=1.9891\n",
      "2025-02-09 13:42:08,985 [13068] INFO     root: Iteration 4369: RMSE=1.6668, MAE=1.6668\n",
      "2025-02-09 13:42:09,084 [13068] INFO     root: Iteration 4370: RMSE=0.6367, MAE=0.6367\n",
      "2025-02-09 13:42:09,176 [13068] INFO     root: Iteration 4371: RMSE=3.1701, MAE=3.1701\n",
      "2025-02-09 13:42:09,271 [13068] INFO     root: Iteration 4372: RMSE=1.9024, MAE=1.9024\n",
      "2025-02-09 13:42:09,362 [13068] INFO     root: Iteration 4373: RMSE=0.2445, MAE=0.2445\n",
      "2025-02-09 13:42:09,502 [13068] INFO     root: Iteration 4374: RMSE=21.1875, MAE=21.1875\n",
      "2025-02-09 13:42:09,596 [13068] INFO     root: Iteration 4375: RMSE=2.1020, MAE=2.1020\n",
      "2025-02-09 13:42:09,721 [13068] INFO     root: Iteration 4376: RMSE=2.1957, MAE=2.1957\n",
      "2025-02-09 13:42:09,828 [13068] INFO     root: Iteration 4377: RMSE=0.0190, MAE=0.0190\n",
      "2025-02-09 13:42:09,922 [13068] INFO     root: Iteration 4378: RMSE=3.6498, MAE=3.6498\n",
      "2025-02-09 13:42:10,029 [13068] INFO     root: Iteration 4379: RMSE=0.1636, MAE=0.1636\n",
      "2025-02-09 13:42:10,126 [13068] INFO     root: Iteration 4380: RMSE=0.9510, MAE=0.9510\n",
      "2025-02-09 13:42:10,239 [13068] INFO     root: Iteration 4381: RMSE=3.2950, MAE=3.2950\n",
      "2025-02-09 13:42:10,337 [13068] INFO     root: Iteration 4382: RMSE=3.0812, MAE=3.0812\n",
      "2025-02-09 13:42:10,428 [13068] INFO     root: Iteration 4383: RMSE=0.0894, MAE=0.0894\n",
      "2025-02-09 13:42:10,527 [13068] INFO     root: Iteration 4384: RMSE=3.1092, MAE=3.1092\n",
      "2025-02-09 13:42:10,622 [13068] INFO     root: Iteration 4385: RMSE=3.9035, MAE=3.9035\n",
      "2025-02-09 13:42:10,772 [13068] INFO     root: Iteration 4386: RMSE=0.1640, MAE=0.1640\n",
      "2025-02-09 13:42:10,862 [13068] INFO     root: Iteration 4387: RMSE=15.7679, MAE=15.7679\n",
      "2025-02-09 13:42:10,965 [13068] INFO     root: Iteration 4388: RMSE=1.2841, MAE=1.2841\n",
      "2025-02-09 13:42:11,078 [13068] INFO     root: Iteration 4389: RMSE=3.0048, MAE=3.0048\n",
      "2025-02-09 13:42:11,161 [13068] INFO     root: Iteration 4390: RMSE=2.5855, MAE=2.5855\n",
      "2025-02-09 13:42:11,254 [13068] INFO     root: Iteration 4391: RMSE=21.1875, MAE=21.1875\n",
      "2025-02-09 13:42:11,354 [13068] INFO     root: Iteration 4392: RMSE=5.2814, MAE=5.2814\n",
      "2025-02-09 13:42:11,458 [13068] INFO     root: Iteration 4393: RMSE=2.1020, MAE=2.1020\n",
      "2025-02-09 13:42:11,890 [13068] INFO     root: Metrics pushed at iteration 4393. RMSE=2.1020, MAE=2.1020\n",
      "2025-02-09 13:42:11,985 [13068] INFO     root: Iteration 4394: RMSE=0.5028, MAE=0.5028\n",
      "2025-02-09 13:42:12,070 [13068] INFO     root: Iteration 4395: RMSE=7.4122, MAE=7.4122\n",
      "2025-02-09 13:42:12,177 [13068] INFO     root: Iteration 4396: RMSE=1.0783, MAE=1.0783\n",
      "2025-02-09 13:42:12,279 [13068] INFO     root: Iteration 4397: RMSE=4.2530, MAE=4.2530\n",
      "2025-02-09 13:42:12,450 [13068] INFO     root: Iteration 4398: RMSE=0.4278, MAE=0.4278\n",
      "2025-02-09 13:42:12,567 [13068] INFO     root: Iteration 4399: RMSE=4.2733, MAE=4.2733\n",
      "2025-02-09 13:42:12,653 [13068] INFO     ml_monitor.logging: Starting metrics logging thread...\n",
      "2025-02-09 13:42:12,667 [13068] INFO     root: Iteration 4400: RMSE=0.2922, MAE=0.2922\n",
      "2025-02-09 13:42:12,774 [13068] INFO     root: Iteration 4401: RMSE=0.2922, MAE=0.2922\n",
      "2025-02-09 13:42:12,872 [13068] INFO     root: Iteration 4402: RMSE=2.1281, MAE=2.1281\n",
      "2025-02-09 13:42:12,963 [13068] INFO     root: Iteration 4403: RMSE=2.2324, MAE=2.2324\n",
      "2025-02-09 13:42:13,057 [13068] INFO     root: Iteration 4404: RMSE=2.9898, MAE=2.9898\n",
      "2025-02-09 13:42:13,157 [13068] INFO     root: Iteration 4405: RMSE=4.3271, MAE=4.3271\n",
      "2025-02-09 13:42:13,260 [13068] INFO     root: Iteration 4406: RMSE=0.1550, MAE=0.1550\n",
      "2025-02-09 13:42:13,342 [13068] INFO     root: Iteration 4407: RMSE=0.0190, MAE=0.0190\n",
      "2025-02-09 13:42:13,576 [13068] INFO     root: Iteration 4408: RMSE=0.1136, MAE=0.1136\n",
      "2025-02-09 13:42:13,747 [13068] INFO     root: Iteration 4409: RMSE=0.1636, MAE=0.1636\n",
      "2025-02-09 13:42:13,856 [13068] INFO     root: Iteration 4410: RMSE=2.1020, MAE=2.1020\n",
      "2025-02-09 13:42:13,956 [13068] INFO     root: Iteration 4411: RMSE=0.2445, MAE=0.2445\n",
      "2025-02-09 13:42:14,055 [13068] INFO     root: Iteration 4412: RMSE=0.4053, MAE=0.4053\n",
      "2025-02-09 13:42:14,165 [13068] INFO     root: Iteration 4413: RMSE=5.2814, MAE=5.2814\n",
      "2025-02-09 13:42:14,377 [13068] INFO     root: Iteration 4414: RMSE=0.6863, MAE=0.6863\n",
      "2025-02-09 13:42:14,525 [13068] INFO     root: Iteration 4415: RMSE=0.2356, MAE=0.2356\n",
      "2025-02-09 13:42:14,644 [13068] INFO     root: Iteration 4416: RMSE=3.1701, MAE=3.1701\n",
      "2025-02-09 13:42:14,757 [13068] INFO     root: Iteration 4417: RMSE=0.9176, MAE=0.9176\n",
      "2025-02-09 13:42:14,861 [13068] INFO     root: Iteration 4418: RMSE=3.9035, MAE=3.9035\n",
      "2025-02-09 13:42:14,969 [13068] INFO     root: Iteration 4419: RMSE=0.4811, MAE=0.4811\n",
      "2025-02-09 13:42:15,067 [13068] INFO     root: Iteration 4420: RMSE=1.2841, MAE=1.2841\n",
      "2025-02-09 13:42:15,222 [13068] INFO     root: Iteration 4421: RMSE=0.2922, MAE=0.2922\n",
      "2025-02-09 13:42:15,318 [13068] INFO     root: Iteration 4422: RMSE=2.2319, MAE=2.2319\n",
      "2025-02-09 13:42:15,420 [13068] INFO     root: Iteration 4423: RMSE=7.1880, MAE=7.1880\n",
      "2025-02-09 13:42:15,520 [13068] INFO     root: Iteration 4424: RMSE=5.2814, MAE=5.2814\n",
      "2025-02-09 13:42:15,639 [13068] INFO     root: Iteration 4425: RMSE=0.6004, MAE=0.6004\n",
      "2025-02-09 13:42:15,726 [13068] INFO     root: Iteration 4426: RMSE=0.1640, MAE=0.1640\n",
      "2025-02-09 13:42:15,827 [13068] INFO     root: Iteration 4427: RMSE=5.8811, MAE=5.8811\n",
      "2025-02-09 13:42:15,924 [13068] INFO     root: Iteration 4428: RMSE=3.0812, MAE=3.0812\n",
      "2025-02-09 13:42:16,133 [13068] INFO     root: Iteration 4429: RMSE=0.5329, MAE=0.5329\n",
      "2025-02-09 13:42:16,264 [13068] INFO     root: Iteration 4430: RMSE=0.9510, MAE=0.9510\n",
      "2025-02-09 13:42:16,380 [13068] INFO     root: Iteration 4431: RMSE=0.6004, MAE=0.6004\n",
      "2025-02-09 13:42:16,490 [13068] INFO     root: Iteration 4432: RMSE=4.2530, MAE=4.2530\n",
      "2025-02-09 13:42:16,582 [13068] INFO     root: Iteration 4433: RMSE=1.9024, MAE=1.9024\n",
      "2025-02-09 13:42:16,691 [13068] INFO     root: Iteration 4434: RMSE=0.5028, MAE=0.5028\n",
      "2025-02-09 13:42:16,778 [13068] INFO     root: Iteration 4435: RMSE=2.5983, MAE=2.5983\n",
      "2025-02-09 13:42:16,943 [13068] INFO     root: Iteration 4436: RMSE=1.3227, MAE=1.3227\n",
      "2025-02-09 13:42:17,074 [13068] INFO     root: Iteration 4437: RMSE=0.8295, MAE=0.8295\n",
      "2025-02-09 13:42:17,194 [13068] INFO     root: Iteration 4438: RMSE=1.6668, MAE=1.6668\n",
      "2025-02-09 13:42:17,299 [13068] INFO     root: Iteration 4439: RMSE=0.4278, MAE=0.4278\n",
      "2025-02-09 13:42:17,397 [13068] INFO     root: Iteration 4440: RMSE=0.6004, MAE=0.6004\n",
      "2025-02-09 13:42:17,494 [13068] INFO     root: Iteration 4441: RMSE=2.6178, MAE=2.6178\n",
      "2025-02-09 13:42:17,599 [13068] INFO     root: Iteration 4442: RMSE=5.3491, MAE=5.3491\n",
      "2025-02-09 13:42:17,721 [13068] INFO     ml_monitor.logging: Starting metrics logging thread...\n",
      "2025-02-09 13:42:17,861 [13068] INFO     root: Iteration 4443: RMSE=4.2272, MAE=4.2272\n",
      "2025-02-09 13:42:18,003 [13068] INFO     root: Iteration 4444: RMSE=0.6863, MAE=0.6863\n",
      "2025-02-09 13:42:18,113 [13068] INFO     root: Iteration 4445: RMSE=1.9470, MAE=1.9470\n",
      "2025-02-09 13:42:18,221 [13068] INFO     root: Iteration 4446: RMSE=6.4895, MAE=6.4895\n",
      "2025-02-09 13:42:18,349 [13068] INFO     root: Iteration 4447: RMSE=1.0341, MAE=1.0341\n",
      "2025-02-09 13:42:18,456 [13068] INFO     root: Iteration 4448: RMSE=0.0329, MAE=0.0329\n",
      "2025-02-09 13:42:18,553 [13068] INFO     root: Iteration 4449: RMSE=1.6668, MAE=1.6668\n",
      "2025-02-09 13:42:18,746 [13068] INFO     root: Iteration 4450: RMSE=0.1636, MAE=0.1636\n",
      "2025-02-09 13:42:18,875 [13068] INFO     root: Iteration 4451: RMSE=1.3937, MAE=1.3937\n",
      "2025-02-09 13:42:18,975 [13068] INFO     root: Iteration 4452: RMSE=1.2345, MAE=1.2345\n",
      "2025-02-09 13:42:19,079 [13068] INFO     root: Iteration 4453: RMSE=1.6861, MAE=1.6861\n",
      "2025-02-09 13:42:19,172 [13068] INFO     root: Iteration 4454: RMSE=2.1020, MAE=2.1020\n",
      "2025-02-09 13:42:19,306 [13068] INFO     root: Iteration 4455: RMSE=6.5607, MAE=6.5607\n",
      "2025-02-09 13:42:19,522 [13068] INFO     root: Iteration 4456: RMSE=1.9024, MAE=1.9024\n",
      "2025-02-09 13:42:19,632 [13068] INFO     root: Iteration 4457: RMSE=0.1550, MAE=0.1550\n",
      "2025-02-09 13:42:19,748 [13068] INFO     root: Iteration 4458: RMSE=5.0666, MAE=5.0666\n",
      "2025-02-09 13:42:19,859 [13068] INFO     root: Iteration 4459: RMSE=0.8360, MAE=0.8360\n",
      "2025-02-09 13:42:20,008 [13068] INFO     root: Iteration 4460: RMSE=0.5028, MAE=0.5028\n",
      "2025-02-09 13:42:20,124 [13068] INFO     root: Iteration 4461: RMSE=0.5028, MAE=0.5028\n",
      "2025-02-09 13:42:20,248 [13068] INFO     root: Iteration 4462: RMSE=2.1020, MAE=2.1020\n",
      "2025-02-09 13:42:20,348 [13068] INFO     root: Iteration 4463: RMSE=2.7728, MAE=2.7728\n",
      "2025-02-09 13:42:20,600 [13068] INFO     root: Iteration 4464: RMSE=1.6861, MAE=1.6861\n",
      "2025-02-09 13:42:20,772 [13068] INFO     root: Iteration 4465: RMSE=6.3484, MAE=6.3484\n",
      "2025-02-09 13:42:20,975 [13068] INFO     root: Iteration 4466: RMSE=4.3271, MAE=4.3271\n",
      "2025-02-09 13:42:21,130 [13068] INFO     root: Iteration 4467: RMSE=21.1875, MAE=21.1875\n",
      "2025-02-09 13:42:21,262 [13068] INFO     root: Iteration 4468: RMSE=0.8280, MAE=0.8280\n",
      "2025-02-09 13:42:21,468 [13068] INFO     root: Iteration 4469: RMSE=3.9035, MAE=3.9035\n",
      "2025-02-09 13:42:21,992 [13068] INFO     root: Metrics pushed at iteration 4469. RMSE=3.9035, MAE=3.9035\n",
      "2025-02-09 13:42:22,094 [13068] INFO     root: Iteration 4470: RMSE=3.0641, MAE=3.0641\n",
      "2025-02-09 13:42:22,199 [13068] INFO     root: Iteration 4471: RMSE=3.1092, MAE=3.1092\n",
      "2025-02-09 13:42:22,309 [13068] INFO     root: Iteration 4472: RMSE=3.2372, MAE=3.2372\n",
      "2025-02-09 13:42:22,416 [13068] INFO     root: Iteration 4473: RMSE=1.2345, MAE=1.2345\n",
      "2025-02-09 13:42:22,546 [13068] INFO     root: Iteration 4474: RMSE=0.9690, MAE=0.9690\n",
      "2025-02-09 13:42:22,661 [13068] INFO     root: Iteration 4475: RMSE=1.6861, MAE=1.6861\n",
      "2025-02-09 13:42:22,836 [13068] INFO     ml_monitor.logging: Starting metrics logging thread...\n",
      "2025-02-09 13:42:22,875 [13068] INFO     root: Iteration 4476: RMSE=1.7964, MAE=1.7964\n",
      "2025-02-09 13:42:22,977 [13068] INFO     root: Iteration 4477: RMSE=1.9880, MAE=1.9880\n",
      "2025-02-09 13:42:23,077 [13068] INFO     root: Iteration 4478: RMSE=0.1636, MAE=0.1636\n",
      "2025-02-09 13:42:23,175 [13068] INFO     root: Iteration 4479: RMSE=1.9834, MAE=1.9834\n",
      "2025-02-09 13:42:23,290 [13068] INFO     root: Iteration 4480: RMSE=2.2823, MAE=2.2823\n",
      "2025-02-09 13:42:23,397 [13068] INFO     root: Iteration 4481: RMSE=0.1636, MAE=0.1636\n",
      "2025-02-09 13:42:23,613 [13068] INFO     root: Iteration 4482: RMSE=2.8002, MAE=2.8002\n",
      "2025-02-09 13:42:23,726 [13068] INFO     root: Iteration 4483: RMSE=2.1020, MAE=2.1020\n",
      "2025-02-09 13:42:23,858 [13068] INFO     root: Iteration 4484: RMSE=5.2814, MAE=5.2814\n",
      "2025-02-09 13:42:24,015 [13068] INFO     root: Iteration 4485: RMSE=1.3227, MAE=1.3227\n",
      "2025-02-09 13:42:24,153 [13068] INFO     root: Iteration 4486: RMSE=0.2356, MAE=0.2356\n",
      "2025-02-09 13:42:24,297 [13068] INFO     root: Iteration 4487: RMSE=2.7746, MAE=2.7746\n",
      "2025-02-09 13:42:24,425 [13068] INFO     root: Iteration 4488: RMSE=3.0048, MAE=3.0048\n",
      "2025-02-09 13:42:24,563 [13068] INFO     root: Iteration 4489: RMSE=3.0048, MAE=3.0048\n",
      "2025-02-09 13:42:24,767 [13068] INFO     root: Iteration 4490: RMSE=7.4122, MAE=7.4122\n",
      "2025-02-09 13:42:24,873 [13068] INFO     root: Iteration 4491: RMSE=0.4053, MAE=0.4053\n",
      "2025-02-09 13:42:24,978 [13068] INFO     root: Iteration 4492: RMSE=5.1399, MAE=5.1399\n",
      "2025-02-09 13:42:25,072 [13068] INFO     root: Iteration 4493: RMSE=6.3484, MAE=6.3484\n",
      "2025-02-09 13:42:25,201 [13068] INFO     root: Iteration 4494: RMSE=0.6820, MAE=0.6820\n",
      "2025-02-09 13:42:25,321 [13068] INFO     root: Iteration 4495: RMSE=0.1636, MAE=0.1636\n",
      "2025-02-09 13:42:25,513 [13068] INFO     root: Iteration 4496: RMSE=2.6178, MAE=2.6178\n",
      "2025-02-09 13:42:25,614 [13068] INFO     root: Iteration 4497: RMSE=0.4811, MAE=0.4811\n",
      "2025-02-09 13:42:25,750 [13068] INFO     root: Iteration 4498: RMSE=0.2356, MAE=0.2356\n",
      "2025-02-09 13:42:25,873 [13068] INFO     root: Iteration 4499: RMSE=2.7746, MAE=2.7746\n",
      "2025-02-09 13:42:26,004 [13068] INFO     root: Iteration 4500: RMSE=6.4895, MAE=6.4895\n",
      "2025-02-09 13:42:26,146 [13068] INFO     root: Iteration 4501: RMSE=1.0783, MAE=1.0783\n",
      "2025-02-09 13:42:26,264 [13068] INFO     root: Iteration 4502: RMSE=0.1636, MAE=0.1636\n",
      "2025-02-09 13:42:26,407 [13068] INFO     root: Iteration 4503: RMSE=0.4811, MAE=0.4811\n",
      "2025-02-09 13:42:26,520 [13068] INFO     root: Iteration 4504: RMSE=2.1020, MAE=2.1020\n",
      "2025-02-09 13:42:26,613 [13068] INFO     root: Iteration 4505: RMSE=1.9470, MAE=1.9470\n",
      "2025-02-09 13:42:26,703 [13068] INFO     root: Iteration 4506: RMSE=4.2733, MAE=4.2733\n",
      "2025-02-09 13:42:26,857 [13068] INFO     root: Iteration 4507: RMSE=0.8502, MAE=0.8502\n",
      "2025-02-09 13:42:27,035 [13068] INFO     root: Iteration 4508: RMSE=3.1092, MAE=3.1092\n",
      "2025-02-09 13:42:27,152 [13068] INFO     root: Iteration 4509: RMSE=0.5329, MAE=0.5329\n",
      "2025-02-09 13:42:27,287 [13068] INFO     root: Iteration 4510: RMSE=5.8175, MAE=5.8175\n",
      "2025-02-09 13:42:27,411 [13068] INFO     root: Iteration 4511: RMSE=1.9024, MAE=1.9024\n",
      "2025-02-09 13:42:27,551 [13068] INFO     root: Iteration 4512: RMSE=2.1020, MAE=2.1020\n",
      "2025-02-09 13:42:27,655 [13068] INFO     root: Iteration 4513: RMSE=1.0783, MAE=1.0783\n",
      "2025-02-09 13:42:27,763 [13068] INFO     root: Iteration 4514: RMSE=0.8295, MAE=0.8295\n",
      "2025-02-09 13:42:27,849 [13068] INFO     root: Iteration 4515: RMSE=1.6861, MAE=1.6861\n",
      "2025-02-09 13:42:27,867 [13068] INFO     ml_monitor.logging: Starting metrics logging thread...\n",
      "2025-02-09 13:42:27,953 [13068] INFO     root: Iteration 4516: RMSE=5.8175, MAE=5.8175\n",
      "2025-02-09 13:42:28,035 [13068] INFO     root: Iteration 4517: RMSE=0.8502, MAE=0.8502\n",
      "2025-02-09 13:42:28,143 [13068] INFO     root: Iteration 4518: RMSE=4.2530, MAE=4.2530\n",
      "2025-02-09 13:42:28,372 [13068] INFO     root: Iteration 4519: RMSE=1.9470, MAE=1.9470\n",
      "2025-02-09 13:42:28,477 [13068] INFO     root: Iteration 4520: RMSE=3.6498, MAE=3.6498\n",
      "2025-02-09 13:42:28,571 [13068] INFO     root: Iteration 4521: RMSE=5.8175, MAE=5.8175\n",
      "2025-02-09 13:42:28,674 [13068] INFO     root: Iteration 4522: RMSE=1.0783, MAE=1.0783\n",
      "2025-02-09 13:42:28,769 [13068] INFO     root: Iteration 4523: RMSE=0.2445, MAE=0.2445\n",
      "2025-02-09 13:42:28,861 [13068] INFO     root: Iteration 4524: RMSE=3.1092, MAE=3.1092\n",
      "2025-02-09 13:42:28,960 [13068] INFO     root: Iteration 4525: RMSE=4.2530, MAE=4.2530\n",
      "2025-02-09 13:42:29,083 [13068] INFO     root: Iteration 4526: RMSE=2.4681, MAE=2.4681\n",
      "2025-02-09 13:42:29,276 [13068] INFO     root: Iteration 4527: RMSE=0.9690, MAE=0.9690\n",
      "2025-02-09 13:42:29,375 [13068] INFO     root: Iteration 4528: RMSE=4.2272, MAE=4.2272\n",
      "2025-02-09 13:42:29,477 [13068] INFO     root: Iteration 4529: RMSE=7.1962, MAE=7.1962\n",
      "2025-02-09 13:42:29,597 [13068] INFO     root: Iteration 4530: RMSE=21.1875, MAE=21.1875\n",
      "2025-02-09 13:42:29,730 [13068] INFO     root: Iteration 4531: RMSE=2.4681, MAE=2.4681\n",
      "2025-02-09 13:42:29,829 [13068] INFO     root: Iteration 4532: RMSE=2.5983, MAE=2.5983\n",
      "2025-02-09 13:42:29,980 [13068] INFO     root: Iteration 4533: RMSE=4.8742, MAE=4.8742\n",
      "2025-02-09 13:42:30,074 [13068] INFO     root: Iteration 4534: RMSE=0.6367, MAE=0.6367\n",
      "2025-02-09 13:42:30,177 [13068] INFO     root: Iteration 4535: RMSE=1.9834, MAE=1.9834\n",
      "2025-02-09 13:42:30,299 [13068] INFO     root: Iteration 4536: RMSE=6.4895, MAE=6.4895\n",
      "2025-02-09 13:42:30,416 [13068] INFO     root: Iteration 4537: RMSE=0.6820, MAE=0.6820\n",
      "2025-02-09 13:42:30,573 [13068] INFO     root: Iteration 4538: RMSE=2.1020, MAE=2.1020\n",
      "2025-02-09 13:42:30,684 [13068] INFO     root: Iteration 4539: RMSE=15.7679, MAE=15.7679\n",
      "2025-02-09 13:42:30,775 [13068] INFO     root: Iteration 4540: RMSE=3.0812, MAE=3.0812\n",
      "2025-02-09 13:42:30,915 [13068] INFO     root: Iteration 4541: RMSE=2.4407, MAE=2.4407\n",
      "2025-02-09 13:42:31,034 [13068] INFO     root: Iteration 4542: RMSE=1.9891, MAE=1.9891\n",
      "2025-02-09 13:42:31,133 [13068] INFO     root: Iteration 4543: RMSE=7.1880, MAE=7.1880\n",
      "2025-02-09 13:42:31,222 [13068] INFO     root: Iteration 4544: RMSE=2.6178, MAE=2.6178\n",
      "2025-02-09 13:42:31,318 [13068] INFO     root: Iteration 4545: RMSE=1.9891, MAE=1.9891\n",
      "2025-02-09 13:42:31,421 [13068] INFO     root: Iteration 4546: RMSE=0.1640, MAE=0.1640\n",
      "2025-02-09 13:42:31,524 [13068] INFO     root: Iteration 4547: RMSE=1.0837, MAE=1.0837\n",
      "2025-02-09 13:42:31,985 [13068] INFO     root: Metrics pushed at iteration 4547. RMSE=1.0837, MAE=1.0837\n",
      "2025-02-09 13:42:32,111 [13068] INFO     root: Iteration 4548: RMSE=1.0837, MAE=1.0837\n",
      "2025-02-09 13:42:32,221 [13068] INFO     root: Iteration 4549: RMSE=15.7679, MAE=15.7679\n",
      "2025-02-09 13:42:32,324 [13068] INFO     root: Iteration 4550: RMSE=0.1636, MAE=0.1636\n",
      "2025-02-09 13:42:32,485 [13068] INFO     root: Iteration 4551: RMSE=4.2272, MAE=4.2272\n",
      "2025-02-09 13:42:32,587 [13068] INFO     root: Iteration 4552: RMSE=1.2010, MAE=1.2010\n",
      "2025-02-09 13:42:32,695 [13068] INFO     root: Iteration 4553: RMSE=3.0641, MAE=3.0641\n",
      "2025-02-09 13:42:32,790 [13068] INFO     root: Iteration 4554: RMSE=4.2272, MAE=4.2272\n",
      "2025-02-09 13:42:32,881 [13068] INFO     root: Iteration 4555: RMSE=4.2272, MAE=4.2272\n",
      "2025-02-09 13:42:32,896 [13068] INFO     ml_monitor.logging: Starting metrics logging thread...\n",
      "2025-02-09 13:42:32,979 [13068] INFO     root: Iteration 4556: RMSE=2.1281, MAE=2.1281\n",
      "2025-02-09 13:42:33,079 [13068] INFO     root: Iteration 4557: RMSE=2.7728, MAE=2.7728\n",
      "2025-02-09 13:42:33,185 [13068] INFO     root: Iteration 4558: RMSE=4.2733, MAE=4.2733\n",
      "2025-02-09 13:42:33,316 [13068] INFO     root: Iteration 4559: RMSE=4.3271, MAE=4.3271\n",
      "2025-02-09 13:42:33,431 [13068] INFO     root: Iteration 4560: RMSE=0.1640, MAE=0.1640\n",
      "2025-02-09 13:42:33,535 [13068] INFO     root: Iteration 4561: RMSE=0.0329, MAE=0.0329\n",
      "2025-02-09 13:42:33,629 [13068] INFO     root: Iteration 4562: RMSE=2.2823, MAE=2.2823\n",
      "2025-02-09 13:42:33,728 [13068] INFO     root: Iteration 4563: RMSE=1.0525, MAE=1.0525\n",
      "2025-02-09 13:42:33,819 [13068] INFO     root: Iteration 4564: RMSE=0.8295, MAE=0.8295\n",
      "2025-02-09 13:42:33,965 [13068] INFO     root: Iteration 4565: RMSE=1.9024, MAE=1.9024\n",
      "2025-02-09 13:42:34,058 [13068] INFO     root: Iteration 4566: RMSE=0.2445, MAE=0.2445\n",
      "2025-02-09 13:42:34,163 [13068] INFO     root: Iteration 4567: RMSE=0.1636, MAE=0.1636\n",
      "2025-02-09 13:42:34,261 [13068] INFO     root: Iteration 4568: RMSE=0.0329, MAE=0.0329\n",
      "2025-02-09 13:42:34,353 [13068] INFO     root: Iteration 4569: RMSE=0.8360, MAE=0.8360\n",
      "2025-02-09 13:42:34,446 [13068] INFO     root: Iteration 4570: RMSE=1.9954, MAE=1.9954\n",
      "2025-02-09 13:42:34,551 [13068] INFO     root: Iteration 4571: RMSE=5.8811, MAE=5.8811\n",
      "2025-02-09 13:42:34,766 [13068] INFO     root: Iteration 4572: RMSE=7.1880, MAE=7.1880\n",
      "2025-02-09 13:42:34,901 [13068] INFO     root: Iteration 4573: RMSE=0.4053, MAE=0.4053\n",
      "2025-02-09 13:42:35,021 [13068] INFO     root: Iteration 4574: RMSE=1.9374, MAE=1.9374\n",
      "2025-02-09 13:42:35,152 [13068] INFO     root: Iteration 4575: RMSE=7.1880, MAE=7.1880\n",
      "2025-02-09 13:42:35,255 [13068] INFO     root: Iteration 4576: RMSE=1.0783, MAE=1.0783\n",
      "2025-02-09 13:42:35,359 [13068] INFO     root: Iteration 4577: RMSE=0.6820, MAE=0.6820\n",
      "2025-02-09 13:42:35,451 [13068] INFO     root: Iteration 4578: RMSE=1.0341, MAE=1.0341\n",
      "2025-02-09 13:42:35,546 [13068] INFO     root: Iteration 4579: RMSE=2.7728, MAE=2.7728\n",
      "2025-02-09 13:42:35,664 [13068] INFO     root: Iteration 4580: RMSE=6.4895, MAE=6.4895\n",
      "2025-02-09 13:42:35,758 [13068] INFO     root: Iteration 4581: RMSE=4.2733, MAE=4.2733\n",
      "2025-02-09 13:42:35,860 [13068] INFO     root: Iteration 4582: RMSE=4.2530, MAE=4.2530\n",
      "2025-02-09 13:42:35,947 [13068] INFO     root: Iteration 4583: RMSE=0.2445, MAE=0.2445\n",
      "2025-02-09 13:42:36,091 [13068] INFO     root: Iteration 4584: RMSE=2.2319, MAE=2.2319\n",
      "2025-02-09 13:42:36,191 [13068] INFO     root: Iteration 4585: RMSE=1.2345, MAE=1.2345\n",
      "2025-02-09 13:42:36,290 [13068] INFO     root: Iteration 4586: RMSE=2.2319, MAE=2.2319\n",
      "2025-02-09 13:42:36,383 [13068] INFO     root: Iteration 4587: RMSE=3.0048, MAE=3.0048\n",
      "2025-02-09 13:42:36,498 [13068] INFO     root: Iteration 4588: RMSE=4.3700, MAE=4.3700\n",
      "2025-02-09 13:42:36,620 [13068] INFO     root: Iteration 4589: RMSE=0.9201, MAE=0.9201\n",
      "2025-02-09 13:42:36,861 [13068] INFO     root: Iteration 4590: RMSE=3.6498, MAE=3.6498\n",
      "2025-02-09 13:42:37,003 [13068] INFO     root: Iteration 4591: RMSE=1.5289, MAE=1.5289\n",
      "2025-02-09 13:42:37,178 [13068] INFO     root: Iteration 4592: RMSE=3.2372, MAE=3.2372\n",
      "2025-02-09 13:42:37,322 [13068] INFO     root: Iteration 4593: RMSE=3.6498, MAE=3.6498\n",
      "2025-02-09 13:42:37,412 [13068] INFO     root: Iteration 4594: RMSE=1.9880, MAE=1.9880\n",
      "2025-02-09 13:42:37,572 [13068] INFO     root: Iteration 4595: RMSE=1.2010, MAE=1.2010\n",
      "2025-02-09 13:42:37,666 [13068] INFO     root: Iteration 4596: RMSE=0.5028, MAE=0.5028\n",
      "2025-02-09 13:42:37,771 [13068] INFO     root: Iteration 4597: RMSE=1.3937, MAE=1.3937\n",
      "2025-02-09 13:42:37,875 [13068] INFO     root: Iteration 4598: RMSE=15.7679, MAE=15.7679\n",
      "2025-02-09 13:42:37,919 [13068] INFO     ml_monitor.logging: Starting metrics logging thread...\n",
      "2025-02-09 13:42:38,002 [13068] INFO     root: Iteration 4599: RMSE=0.6277, MAE=0.6277\n",
      "2025-02-09 13:42:38,208 [13068] INFO     root: Iteration 4600: RMSE=4.2619, MAE=4.2619\n",
      "2025-02-09 13:42:38,321 [13068] INFO     root: Iteration 4601: RMSE=7.1962, MAE=7.1962\n",
      "2025-02-09 13:42:38,427 [13068] INFO     root: Iteration 4602: RMSE=0.9690, MAE=0.9690\n",
      "2025-02-09 13:42:38,537 [13068] INFO     root: Iteration 4603: RMSE=5.3491, MAE=5.3491\n",
      "2025-02-09 13:42:38,652 [13068] INFO     root: Iteration 4604: RMSE=1.9954, MAE=1.9954\n",
      "2025-02-09 13:42:38,773 [13068] INFO     root: Iteration 4605: RMSE=0.9690, MAE=0.9690\n",
      "2025-02-09 13:42:38,957 [13068] INFO     root: Iteration 4606: RMSE=0.5329, MAE=0.5329\n",
      "2025-02-09 13:42:39,058 [13068] INFO     root: Iteration 4607: RMSE=0.8280, MAE=0.8280\n",
      "2025-02-09 13:42:39,150 [13068] INFO     root: Iteration 4608: RMSE=0.8502, MAE=0.8502\n",
      "2025-02-09 13:42:39,282 [13068] INFO     root: Iteration 4609: RMSE=3.0048, MAE=3.0048\n",
      "2025-02-09 13:42:39,389 [13068] INFO     root: Iteration 4610: RMSE=2.6178, MAE=2.6178\n",
      "2025-02-09 13:42:39,565 [13068] INFO     root: Iteration 4611: RMSE=0.6367, MAE=0.6367\n",
      "2025-02-09 13:42:39,697 [13068] INFO     root: Iteration 4612: RMSE=5.2814, MAE=5.2814\n",
      "2025-02-09 13:42:39,833 [13068] INFO     root: Iteration 4613: RMSE=0.0329, MAE=0.0329\n",
      "2025-02-09 13:42:39,971 [13068] INFO     root: Iteration 4614: RMSE=7.1880, MAE=7.1880\n",
      "2025-02-09 13:42:40,075 [13068] INFO     root: Iteration 4615: RMSE=3.9228, MAE=3.9228\n",
      "2025-02-09 13:42:40,171 [13068] INFO     root: Iteration 4616: RMSE=4.2619, MAE=4.2619\n",
      "2025-02-09 13:42:40,271 [13068] INFO     root: Iteration 4617: RMSE=5.8811, MAE=5.8811\n",
      "2025-02-09 13:42:40,356 [13068] INFO     root: Iteration 4618: RMSE=4.2272, MAE=4.2272\n",
      "2025-02-09 13:42:40,530 [13068] INFO     root: Iteration 4619: RMSE=3.1092, MAE=3.1092\n",
      "2025-02-09 13:42:40,628 [13068] INFO     root: Iteration 4620: RMSE=1.0341, MAE=1.0341\n",
      "2025-02-09 13:42:40,735 [13068] INFO     root: Iteration 4621: RMSE=5.0666, MAE=5.0666\n",
      "2025-02-09 13:42:40,827 [13068] INFO     root: Iteration 4622: RMSE=3.6498, MAE=3.6498\n",
      "2025-02-09 13:42:40,938 [13068] INFO     root: Iteration 4623: RMSE=7.4122, MAE=7.4122\n",
      "2025-02-09 13:42:41,037 [13068] INFO     root: Iteration 4624: RMSE=6.5607, MAE=6.5607\n",
      "2025-02-09 13:42:41,170 [13068] INFO     root: Iteration 4625: RMSE=1.2841, MAE=1.2841\n",
      "2025-02-09 13:42:41,266 [13068] INFO     root: Iteration 4626: RMSE=7.1962, MAE=7.1962\n",
      "2025-02-09 13:42:41,363 [13068] INFO     root: Iteration 4627: RMSE=0.8295, MAE=0.8295\n",
      "2025-02-09 13:42:41,463 [13068] INFO     root: Iteration 4628: RMSE=2.4407, MAE=2.4407\n",
      "2025-02-09 13:42:41,565 [13068] INFO     root: Iteration 4629: RMSE=3.6498, MAE=3.6498\n",
      "2025-02-09 13:42:42,020 [13068] INFO     root: Metrics pushed at iteration 4629. RMSE=3.6498, MAE=3.6498\n",
      "2025-02-09 13:42:42,119 [13068] INFO     root: Iteration 4630: RMSE=5.1385, MAE=5.1385\n",
      "2025-02-09 13:42:42,199 [13068] INFO     root: Iteration 4631: RMSE=0.5028, MAE=0.5028\n",
      "2025-02-09 13:42:42,290 [13068] INFO     root: Iteration 4632: RMSE=0.8360, MAE=0.8360\n",
      "2025-02-09 13:42:42,387 [13068] INFO     root: Iteration 4633: RMSE=1.0525, MAE=1.0525\n",
      "2025-02-09 13:42:42,483 [13068] INFO     root: Iteration 4634: RMSE=21.1875, MAE=21.1875\n",
      "2025-02-09 13:42:42,697 [13068] INFO     root: Iteration 4635: RMSE=4.3700, MAE=4.3700\n",
      "2025-02-09 13:42:42,823 [13068] INFO     root: Iteration 4636: RMSE=3.9228, MAE=3.9228\n",
      "2025-02-09 13:42:42,943 [13068] INFO     ml_monitor.logging: Starting metrics logging thread...\n",
      "2025-02-09 13:42:42,965 [13068] INFO     root: Iteration 4637: RMSE=0.9510, MAE=0.9510\n",
      "2025-02-09 13:42:43,098 [13068] INFO     root: Iteration 4638: RMSE=1.9954, MAE=1.9954\n",
      "2025-02-09 13:42:43,206 [13068] INFO     root: Iteration 4639: RMSE=5.1399, MAE=5.1399\n",
      "2025-02-09 13:42:43,308 [13068] INFO     root: Iteration 4640: RMSE=1.2010, MAE=1.2010\n",
      "2025-02-09 13:42:43,421 [13068] INFO     root: Iteration 4641: RMSE=1.9954, MAE=1.9954\n",
      "2025-02-09 13:42:43,554 [13068] INFO     root: Iteration 4642: RMSE=1.0341, MAE=1.0341\n",
      "2025-02-09 13:42:43,672 [13068] INFO     root: Iteration 4643: RMSE=1.6861, MAE=1.6861\n",
      "2025-02-09 13:42:43,894 [13068] INFO     root: Iteration 4644: RMSE=1.0783, MAE=1.0783\n",
      "2025-02-09 13:42:44,009 [13068] INFO     root: Iteration 4645: RMSE=1.2841, MAE=1.2841\n",
      "2025-02-09 13:42:44,110 [13068] INFO     root: Iteration 4646: RMSE=2.1957, MAE=2.1957\n",
      "2025-02-09 13:42:44,208 [13068] INFO     root: Iteration 4647: RMSE=1.9024, MAE=1.9024\n",
      "2025-02-09 13:42:44,296 [13068] INFO     root: Iteration 4648: RMSE=0.8502, MAE=0.8502\n",
      "2025-02-09 13:42:44,454 [13068] INFO     root: Iteration 4649: RMSE=0.5028, MAE=0.5028\n",
      "2025-02-09 13:42:44,552 [13068] INFO     root: Iteration 4650: RMSE=0.8502, MAE=0.8502\n",
      "2025-02-09 13:42:44,642 [13068] INFO     root: Iteration 4651: RMSE=1.9880, MAE=1.9880\n",
      "2025-02-09 13:42:44,737 [13068] INFO     root: Iteration 4652: RMSE=2.7728, MAE=2.7728\n",
      "2025-02-09 13:42:44,837 [13068] INFO     root: Iteration 4653: RMSE=0.6004, MAE=0.6004\n",
      "2025-02-09 13:42:44,926 [13068] INFO     root: Iteration 4654: RMSE=1.5147, MAE=1.5147\n",
      "2025-02-09 13:42:45,024 [13068] INFO     root: Iteration 4655: RMSE=6.3484, MAE=6.3484\n",
      "2025-02-09 13:42:45,120 [13068] INFO     root: Iteration 4656: RMSE=3.0641, MAE=3.0641\n",
      "2025-02-09 13:42:45,205 [13068] INFO     root: Iteration 4657: RMSE=0.8295, MAE=0.8295\n",
      "2025-02-09 13:42:45,306 [13068] INFO     root: Iteration 4658: RMSE=0.1640, MAE=0.1640\n",
      "2025-02-09 13:42:45,415 [13068] INFO     root: Iteration 4659: RMSE=1.0783, MAE=1.0783\n",
      "2025-02-09 13:42:45,510 [13068] INFO     root: Iteration 4660: RMSE=3.2372, MAE=3.2372\n",
      "2025-02-09 13:42:45,608 [13068] INFO     root: Iteration 4661: RMSE=0.6820, MAE=0.6820\n",
      "2025-02-09 13:42:45,711 [13068] INFO     root: Iteration 4662: RMSE=1.0525, MAE=1.0525\n",
      "2025-02-09 13:42:45,868 [13068] INFO     root: Iteration 4663: RMSE=1.5289, MAE=1.5289\n",
      "2025-02-09 13:42:45,949 [13068] INFO     root: Iteration 4664: RMSE=0.6277, MAE=0.6277\n",
      "2025-02-09 13:42:46,039 [13068] INFO     root: Iteration 4665: RMSE=5.1399, MAE=5.1399\n",
      "2025-02-09 13:42:46,143 [13068] INFO     root: Iteration 4666: RMSE=0.4554, MAE=0.4554\n",
      "2025-02-09 13:42:46,240 [13068] INFO     root: Iteration 4667: RMSE=0.1136, MAE=0.1136\n",
      "2025-02-09 13:42:46,342 [13068] INFO     root: Iteration 4668: RMSE=0.4053, MAE=0.4053\n",
      "2025-02-09 13:42:46,422 [13068] INFO     root: Iteration 4669: RMSE=4.3271, MAE=4.3271\n",
      "2025-02-09 13:42:46,515 [13068] INFO     root: Iteration 4670: RMSE=7.1880, MAE=7.1880\n",
      "2025-02-09 13:42:46,619 [13068] INFO     root: Iteration 4671: RMSE=6.5607, MAE=6.5607\n",
      "2025-02-09 13:42:46,708 [13068] INFO     root: Iteration 4672: RMSE=2.4407, MAE=2.4407\n",
      "2025-02-09 13:42:46,810 [13068] INFO     root: Iteration 4673: RMSE=0.1640, MAE=0.1640\n",
      "2025-02-09 13:42:46,898 [13068] INFO     root: Iteration 4674: RMSE=0.4053, MAE=0.4053\n",
      "2025-02-09 13:42:46,997 [13068] INFO     root: Iteration 4675: RMSE=1.0341, MAE=1.0341\n",
      "2025-02-09 13:42:47,152 [13068] INFO     root: Iteration 4676: RMSE=6.5607, MAE=6.5607\n",
      "2025-02-09 13:42:47,240 [13068] INFO     root: Iteration 4677: RMSE=1.2345, MAE=1.2345\n",
      "2025-02-09 13:42:47,333 [13068] INFO     root: Iteration 4678: RMSE=4.2619, MAE=4.2619\n",
      "2025-02-09 13:42:47,438 [13068] INFO     root: Iteration 4679: RMSE=0.9690, MAE=0.9690\n",
      "2025-02-09 13:42:47,530 [13068] INFO     root: Iteration 4680: RMSE=7.1962, MAE=7.1962\n",
      "2025-02-09 13:42:47,624 [13068] INFO     root: Iteration 4681: RMSE=1.2345, MAE=1.2345\n",
      "2025-02-09 13:42:47,792 [13068] INFO     root: Iteration 4682: RMSE=2.2319, MAE=2.2319\n",
      "2025-02-09 13:42:47,879 [13068] INFO     root: Iteration 4683: RMSE=4.8742, MAE=4.8742\n",
      "2025-02-09 13:42:47,963 [13068] INFO     ml_monitor.logging: Starting metrics logging thread...\n",
      "2025-02-09 13:42:48,011 [13068] INFO     root: Iteration 4684: RMSE=0.4554, MAE=0.4554\n",
      "2025-02-09 13:42:48,143 [13068] INFO     root: Iteration 4685: RMSE=1.2345, MAE=1.2345\n",
      "2025-02-09 13:42:48,275 [13068] INFO     root: Iteration 4686: RMSE=5.1399, MAE=5.1399\n",
      "2025-02-09 13:42:48,374 [13068] INFO     root: Iteration 4687: RMSE=1.9880, MAE=1.9880\n",
      "2025-02-09 13:42:48,485 [13068] INFO     root: Iteration 4688: RMSE=5.1385, MAE=5.1385\n",
      "2025-02-09 13:42:48,582 [13068] INFO     root: Iteration 4689: RMSE=2.8002, MAE=2.8002\n",
      "2025-02-09 13:42:48,685 [13068] INFO     root: Iteration 4690: RMSE=0.5423, MAE=0.5423\n",
      "2025-02-09 13:42:48,780 [13068] INFO     root: Iteration 4691: RMSE=0.1636, MAE=0.1636\n",
      "2025-02-09 13:42:48,927 [13068] INFO     root: Iteration 4692: RMSE=6.5607, MAE=6.5607\n",
      "2025-02-09 13:42:49,025 [13068] INFO     root: Iteration 4693: RMSE=7.4122, MAE=7.4122\n",
      "2025-02-09 13:42:49,130 [13068] INFO     root: Iteration 4694: RMSE=3.2372, MAE=3.2372\n",
      "2025-02-09 13:42:49,243 [13068] INFO     root: Iteration 4695: RMSE=6.3484, MAE=6.3484\n",
      "2025-02-09 13:42:49,339 [13068] INFO     root: Iteration 4696: RMSE=6.3484, MAE=6.3484\n",
      "2025-02-09 13:42:49,435 [13068] INFO     root: Iteration 4697: RMSE=1.6861, MAE=1.6861\n",
      "2025-02-09 13:42:49,594 [13068] INFO     root: Iteration 4698: RMSE=1.9024, MAE=1.9024\n",
      "2025-02-09 13:42:49,703 [13068] INFO     root: Iteration 4699: RMSE=3.6498, MAE=3.6498\n",
      "2025-02-09 13:42:49,808 [13068] INFO     root: Iteration 4700: RMSE=0.5423, MAE=0.5423\n",
      "2025-02-09 13:42:49,900 [13068] INFO     root: Iteration 4701: RMSE=3.1092, MAE=3.1092\n",
      "2025-02-09 13:42:50,001 [13068] INFO     root: Iteration 4702: RMSE=0.4811, MAE=0.4811\n",
      "2025-02-09 13:42:50,111 [13068] INFO     root: Iteration 4703: RMSE=3.1701, MAE=3.1701\n",
      "2025-02-09 13:42:50,217 [13068] INFO     root: Iteration 4704: RMSE=0.1550, MAE=0.1550\n",
      "2025-02-09 13:42:50,388 [13068] INFO     root: Iteration 4705: RMSE=0.6004, MAE=0.6004\n",
      "2025-02-09 13:42:50,506 [13068] INFO     root: Iteration 4706: RMSE=5.2814, MAE=5.2814\n",
      "2025-02-09 13:42:50,612 [13068] INFO     root: Iteration 4707: RMSE=0.9690, MAE=0.9690\n",
      "2025-02-09 13:42:50,717 [13068] INFO     root: Iteration 4708: RMSE=2.5983, MAE=2.5983\n",
      "2025-02-09 13:42:50,873 [13068] INFO     root: Iteration 4709: RMSE=1.3937, MAE=1.3937\n",
      "2025-02-09 13:42:50,994 [13068] INFO     root: Iteration 4710: RMSE=1.3227, MAE=1.3227\n",
      "2025-02-09 13:42:51,097 [13068] INFO     root: Iteration 4711: RMSE=0.5423, MAE=0.5423\n",
      "2025-02-09 13:42:51,195 [13068] INFO     root: Iteration 4712: RMSE=7.1880, MAE=7.1880\n",
      "2025-02-09 13:42:51,323 [13068] INFO     root: Iteration 4713: RMSE=2.9898, MAE=2.9898\n",
      "2025-02-09 13:42:51,498 [13068] INFO     root: Iteration 4714: RMSE=4.2733, MAE=4.2733\n",
      "2025-02-09 13:42:51,627 [13068] INFO     root: Iteration 4715: RMSE=0.4278, MAE=0.4278\n",
      "2025-02-09 13:42:52,098 [13068] INFO     root: Metrics pushed at iteration 4715. RMSE=0.4278, MAE=0.4278\n",
      "2025-02-09 13:42:52,186 [13068] INFO     root: Iteration 4716: RMSE=0.9510, MAE=0.9510\n",
      "2025-02-09 13:42:52,283 [13068] INFO     root: Iteration 4717: RMSE=2.5983, MAE=2.5983\n",
      "2025-02-09 13:42:52,389 [13068] INFO     root: Iteration 4718: RMSE=5.8811, MAE=5.8811\n",
      "2025-02-09 13:42:52,481 [13068] INFO     root: Iteration 4719: RMSE=1.0525, MAE=1.0525\n",
      "2025-02-09 13:42:52,591 [13068] INFO     root: Iteration 4720: RMSE=1.9470, MAE=1.9470\n",
      "2025-02-09 13:42:52,691 [13068] INFO     root: Iteration 4721: RMSE=4.2733, MAE=4.2733\n",
      "2025-02-09 13:42:52,894 [13068] INFO     root: Iteration 4722: RMSE=4.2530, MAE=4.2530\n",
      "2025-02-09 13:42:52,980 [13068] INFO     ml_monitor.logging: Starting metrics logging thread...\n",
      "2025-02-09 13:42:52,997 [13068] INFO     root: Iteration 4723: RMSE=0.6820, MAE=0.6820\n",
      "2025-02-09 13:42:53,097 [13068] INFO     root: Iteration 4724: RMSE=2.5983, MAE=2.5983\n",
      "2025-02-09 13:42:53,187 [13068] INFO     root: Iteration 4725: RMSE=1.3227, MAE=1.3227\n",
      "2025-02-09 13:42:53,329 [13068] INFO     root: Iteration 4726: RMSE=2.7746, MAE=2.7746\n",
      "2025-02-09 13:42:53,480 [13068] INFO     root: Iteration 4727: RMSE=0.9201, MAE=0.9201\n",
      "2025-02-09 13:42:53,592 [13068] INFO     root: Iteration 4728: RMSE=3.9228, MAE=3.9228\n",
      "2025-02-09 13:42:53,695 [13068] INFO     root: Iteration 4729: RMSE=0.2445, MAE=0.2445\n",
      "2025-02-09 13:42:53,998 [13068] INFO     root: Iteration 4730: RMSE=0.6367, MAE=0.6367\n",
      "2025-02-09 13:42:54,122 [13068] INFO     root: Iteration 4731: RMSE=2.0594, MAE=2.0594\n",
      "2025-02-09 13:42:54,289 [13068] INFO     root: Iteration 4732: RMSE=21.1875, MAE=21.1875\n",
      "2025-02-09 13:42:54,421 [13068] INFO     root: Iteration 4733: RMSE=0.1550, MAE=0.1550\n",
      "2025-02-09 13:42:54,530 [13068] INFO     root: Iteration 4734: RMSE=2.2324, MAE=2.2324\n",
      "2025-02-09 13:42:54,651 [13068] INFO     root: Iteration 4735: RMSE=3.0812, MAE=3.0812\n",
      "2025-02-09 13:42:54,991 [13068] INFO     root: Iteration 4736: RMSE=2.0594, MAE=2.0594\n",
      "2025-02-09 13:42:55,135 [13068] INFO     root: Iteration 4737: RMSE=3.1092, MAE=3.1092\n",
      "2025-02-09 13:42:55,257 [13068] INFO     root: Iteration 4738: RMSE=2.7728, MAE=2.7728\n",
      "2025-02-09 13:42:55,392 [13068] INFO     root: Iteration 4739: RMSE=5.0666, MAE=5.0666\n",
      "2025-02-09 13:42:55,500 [13068] INFO     root: Iteration 4740: RMSE=0.6367, MAE=0.6367\n",
      "2025-02-09 13:42:55,623 [13068] INFO     root: Iteration 4741: RMSE=2.2324, MAE=2.2324\n",
      "2025-02-09 13:42:55,739 [13068] INFO     root: Iteration 4742: RMSE=0.4554, MAE=0.4554\n",
      "2025-02-09 13:42:55,848 [13068] INFO     root: Iteration 4743: RMSE=1.5147, MAE=1.5147\n",
      "2025-02-09 13:42:55,963 [13068] INFO     root: Iteration 4744: RMSE=4.2733, MAE=4.2733\n",
      "2025-02-09 13:42:56,221 [13068] INFO     root: Iteration 4745: RMSE=1.9954, MAE=1.9954\n",
      "2025-02-09 13:42:56,358 [13068] INFO     root: Iteration 4746: RMSE=0.6820, MAE=0.6820\n",
      "2025-02-09 13:42:56,492 [13068] INFO     root: Iteration 4747: RMSE=1.7797, MAE=1.7797\n",
      "2025-02-09 13:42:56,601 [13068] INFO     root: Iteration 4748: RMSE=2.7728, MAE=2.7728\n",
      "2025-02-09 13:42:56,706 [13068] INFO     root: Iteration 4749: RMSE=0.2445, MAE=0.2445\n",
      "2025-02-09 13:42:56,805 [13068] INFO     root: Iteration 4750: RMSE=0.0190, MAE=0.0190\n",
      "2025-02-09 13:42:56,910 [13068] INFO     root: Iteration 4751: RMSE=3.1701, MAE=3.1701\n",
      "2025-02-09 13:42:57,004 [13068] INFO     root: Iteration 4752: RMSE=0.4811, MAE=0.4811\n",
      "2025-02-09 13:42:57,238 [13068] INFO     root: Iteration 4753: RMSE=0.8280, MAE=0.8280\n",
      "2025-02-09 13:42:57,335 [13068] INFO     root: Iteration 4754: RMSE=21.1875, MAE=21.1875\n",
      "2025-02-09 13:42:57,443 [13068] INFO     root: Iteration 4755: RMSE=2.1281, MAE=2.1281\n",
      "2025-02-09 13:42:57,546 [13068] INFO     root: Iteration 4756: RMSE=1.5147, MAE=1.5147\n",
      "2025-02-09 13:42:57,671 [13068] INFO     root: Iteration 4757: RMSE=1.0525, MAE=1.0525\n",
      "2025-02-09 13:42:57,775 [13068] INFO     root: Iteration 4758: RMSE=1.6668, MAE=1.6668\n",
      "2025-02-09 13:42:57,941 [13068] INFO     root: Iteration 4759: RMSE=3.9228, MAE=3.9228\n",
      "2025-02-09 13:42:58,004 [13068] INFO     ml_monitor.logging: Starting metrics logging thread...\n",
      "2025-02-09 13:42:58,045 [13068] INFO     root: Iteration 4760: RMSE=2.1281, MAE=2.1281\n",
      "2025-02-09 13:42:58,171 [13068] INFO     root: Iteration 4761: RMSE=1.6861, MAE=1.6861\n",
      "2025-02-09 13:42:58,317 [13068] INFO     root: Iteration 4762: RMSE=2.7728, MAE=2.7728\n",
      "2025-02-09 13:42:58,419 [13068] INFO     root: Iteration 4763: RMSE=0.1636, MAE=0.1636\n",
      "2025-02-09 13:42:58,527 [13068] INFO     root: Iteration 4764: RMSE=7.4122, MAE=7.4122\n",
      "2025-02-09 13:42:58,623 [13068] INFO     root: Iteration 4765: RMSE=5.3491, MAE=5.3491\n",
      "2025-02-09 13:42:58,781 [13068] INFO     root: Iteration 4766: RMSE=1.2010, MAE=1.2010\n",
      "2025-02-09 13:42:58,873 [13068] INFO     root: Iteration 4767: RMSE=0.4554, MAE=0.4554\n",
      "2025-02-09 13:42:58,959 [13068] INFO     root: Iteration 4768: RMSE=0.6277, MAE=0.6277\n",
      "2025-02-09 13:42:59,070 [13068] INFO     root: Iteration 4769: RMSE=5.2814, MAE=5.2814\n",
      "2025-02-09 13:42:59,192 [13068] INFO     root: Iteration 4770: RMSE=1.2345, MAE=1.2345\n",
      "2025-02-09 13:42:59,321 [13068] INFO     root: Iteration 4771: RMSE=2.7728, MAE=2.7728\n",
      "2025-02-09 13:42:59,512 [13068] INFO     root: Iteration 4772: RMSE=0.0894, MAE=0.0894\n",
      "2025-02-09 13:42:59,637 [13068] INFO     root: Iteration 4773: RMSE=3.9228, MAE=3.9228\n",
      "2025-02-09 13:42:59,777 [13068] INFO     root: Iteration 4774: RMSE=6.3484, MAE=6.3484\n",
      "2025-02-09 13:42:59,925 [13068] INFO     root: Iteration 4775: RMSE=0.8280, MAE=0.8280\n",
      "2025-02-09 13:43:00,056 [13068] INFO     root: Iteration 4776: RMSE=0.9510, MAE=0.9510\n",
      "2025-02-09 13:43:00,187 [13068] INFO     root: Iteration 4777: RMSE=5.1385, MAE=5.1385\n",
      "2025-02-09 13:43:00,369 [13068] INFO     root: Iteration 4778: RMSE=2.7746, MAE=2.7746\n",
      "2025-02-09 13:43:00,469 [13068] INFO     root: Iteration 4779: RMSE=1.9834, MAE=1.9834\n",
      "2025-02-09 13:43:00,586 [13068] INFO     root: Iteration 4780: RMSE=0.1636, MAE=0.1636\n",
      "2025-02-09 13:43:00,704 [13068] INFO     root: Iteration 4781: RMSE=2.4407, MAE=2.4407\n",
      "2025-02-09 13:43:00,854 [13068] INFO     root: Iteration 4782: RMSE=4.8742, MAE=4.8742\n",
      "2025-02-09 13:43:01,041 [13068] INFO     root: Iteration 4783: RMSE=4.2272, MAE=4.2272\n",
      "2025-02-09 13:43:01,146 [13068] INFO     root: Iteration 4784: RMSE=3.1092, MAE=3.1092\n",
      "2025-02-09 13:43:01,249 [13068] INFO     root: Iteration 4785: RMSE=0.1636, MAE=0.1636\n",
      "2025-02-09 13:43:01,344 [13068] INFO     root: Iteration 4786: RMSE=5.3491, MAE=5.3491\n",
      "2025-02-09 13:43:01,442 [13068] INFO     root: Iteration 4787: RMSE=2.1957, MAE=2.1957\n",
      "2025-02-09 13:43:01,548 [13068] INFO     root: Iteration 4788: RMSE=0.1136, MAE=0.1136\n",
      "2025-02-09 13:43:01,649 [13068] INFO     root: Iteration 4789: RMSE=0.4053, MAE=0.4053\n",
      "2025-02-09 13:43:02,173 [13068] INFO     root: Metrics pushed at iteration 4789. RMSE=0.4053, MAE=0.4053\n",
      "2025-02-09 13:43:02,269 [13068] INFO     root: Iteration 4790: RMSE=0.8295, MAE=0.8295\n",
      "2025-02-09 13:43:02,364 [13068] INFO     root: Iteration 4791: RMSE=1.9024, MAE=1.9024\n",
      "2025-02-09 13:43:02,464 [13068] INFO     root: Iteration 4792: RMSE=1.3227, MAE=1.3227\n",
      "2025-02-09 13:43:02,561 [13068] INFO     root: Iteration 4793: RMSE=3.1701, MAE=3.1701\n",
      "2025-02-09 13:43:02,664 [13068] INFO     root: Iteration 4794: RMSE=3.0641, MAE=3.0641\n",
      "2025-02-09 13:43:02,757 [13068] INFO     root: Iteration 4795: RMSE=2.2319, MAE=2.2319\n",
      "2025-02-09 13:43:02,848 [13068] INFO     root: Iteration 4796: RMSE=15.7679, MAE=15.7679\n",
      "2025-02-09 13:43:02,940 [13068] INFO     root: Iteration 4797: RMSE=1.9891, MAE=1.9891\n",
      "2025-02-09 13:43:03,036 [13068] INFO     ml_monitor.logging: Starting metrics logging thread...\n",
      "2025-02-09 13:43:03,091 [13068] INFO     root: Iteration 4798: RMSE=4.2272, MAE=4.2272\n",
      "2025-02-09 13:43:03,195 [13068] INFO     root: Iteration 4799: RMSE=4.8742, MAE=4.8742\n",
      "2025-02-09 13:43:03,287 [13068] INFO     root: Iteration 4800: RMSE=0.8280, MAE=0.8280\n",
      "2025-02-09 13:43:03,374 [13068] INFO     root: Iteration 4801: RMSE=0.2922, MAE=0.2922\n",
      "2025-02-09 13:43:03,450 [13068] INFO     root: Iteration 4802: RMSE=4.3700, MAE=4.3700\n",
      "2025-02-09 13:43:03,572 [13068] INFO     root: Iteration 4803: RMSE=2.7728, MAE=2.7728\n",
      "2025-02-09 13:43:03,724 [13068] INFO     root: Iteration 4804: RMSE=2.7746, MAE=2.7746\n",
      "2025-02-09 13:43:03,825 [13068] INFO     root: Iteration 4805: RMSE=0.9201, MAE=0.9201\n",
      "2025-02-09 13:43:03,924 [13068] INFO     root: Iteration 4806: RMSE=2.1957, MAE=2.1957\n",
      "2025-02-09 13:43:04,012 [13068] INFO     root: Iteration 4807: RMSE=0.5423, MAE=0.5423\n",
      "2025-02-09 13:43:04,128 [13068] INFO     root: Iteration 4808: RMSE=1.0783, MAE=1.0783\n",
      "2025-02-09 13:43:04,222 [13068] INFO     root: Iteration 4809: RMSE=15.7679, MAE=15.7679\n",
      "2025-02-09 13:43:04,324 [13068] INFO     root: Iteration 4810: RMSE=3.1701, MAE=3.1701\n",
      "2025-02-09 13:43:04,419 [13068] INFO     root: Iteration 4811: RMSE=2.2823, MAE=2.2823\n",
      "2025-02-09 13:43:04,566 [13068] INFO     root: Iteration 4812: RMSE=1.9374, MAE=1.9374\n",
      "2025-02-09 13:43:04,673 [13068] INFO     root: Iteration 4813: RMSE=2.5983, MAE=2.5983\n",
      "2025-02-09 13:43:04,771 [13068] INFO     root: Iteration 4814: RMSE=1.3227, MAE=1.3227\n",
      "2025-02-09 13:43:04,865 [13068] INFO     root: Iteration 4815: RMSE=0.4278, MAE=0.4278\n",
      "2025-02-09 13:43:04,956 [13068] INFO     root: Iteration 4816: RMSE=0.8502, MAE=0.8502\n",
      "2025-02-09 13:43:05,059 [13068] INFO     root: Iteration 4817: RMSE=1.2345, MAE=1.2345\n",
      "2025-02-09 13:43:05,178 [13068] INFO     root: Iteration 4818: RMSE=5.8811, MAE=5.8811\n",
      "2025-02-09 13:43:05,286 [13068] INFO     root: Iteration 4819: RMSE=2.1020, MAE=2.1020\n",
      "2025-02-09 13:43:05,383 [13068] INFO     root: Iteration 4820: RMSE=0.6367, MAE=0.6367\n",
      "2025-02-09 13:43:05,483 [13068] INFO     root: Iteration 4821: RMSE=3.9035, MAE=3.9035\n",
      "2025-02-09 13:43:05,651 [13068] INFO     root: Iteration 4822: RMSE=0.4278, MAE=0.4278\n",
      "2025-02-09 13:43:05,757 [13068] INFO     root: Iteration 4823: RMSE=6.4895, MAE=6.4895\n",
      "2025-02-09 13:43:05,861 [13068] INFO     root: Iteration 4824: RMSE=0.6820, MAE=0.6820\n",
      "2025-02-09 13:43:05,967 [13068] INFO     root: Iteration 4825: RMSE=1.5147, MAE=1.5147\n",
      "2025-02-09 13:43:06,061 [13068] INFO     root: Iteration 4826: RMSE=0.2922, MAE=0.2922\n",
      "2025-02-09 13:43:06,167 [13068] INFO     root: Iteration 4827: RMSE=1.0525, MAE=1.0525\n",
      "2025-02-09 13:43:06,273 [13068] INFO     root: Iteration 4828: RMSE=4.2530, MAE=4.2530\n",
      "2025-02-09 13:43:06,365 [13068] INFO     root: Iteration 4829: RMSE=0.6863, MAE=0.6863\n",
      "2025-02-09 13:43:06,470 [13068] INFO     root: Iteration 4830: RMSE=2.5855, MAE=2.5855\n",
      "2025-02-09 13:43:06,564 [13068] INFO     root: Iteration 4831: RMSE=0.6277, MAE=0.6277\n",
      "2025-02-09 13:43:06,658 [13068] INFO     root: Iteration 4832: RMSE=2.4091, MAE=2.4091\n",
      "2025-02-09 13:43:06,829 [13068] INFO     root: Iteration 4833: RMSE=1.3227, MAE=1.3227\n",
      "2025-02-09 13:43:06,921 [13068] INFO     root: Iteration 4834: RMSE=3.9035, MAE=3.9035\n",
      "2025-02-09 13:43:07,022 [13068] INFO     root: Iteration 4835: RMSE=3.9228, MAE=3.9228\n",
      "2025-02-09 13:43:07,113 [13068] INFO     root: Iteration 4836: RMSE=6.3484, MAE=6.3484\n",
      "2025-02-09 13:43:07,203 [13068] INFO     root: Iteration 4837: RMSE=6.5607, MAE=6.5607\n",
      "2025-02-09 13:43:07,291 [13068] INFO     root: Iteration 4838: RMSE=3.9228, MAE=3.9228\n",
      "2025-02-09 13:43:07,395 [13068] INFO     root: Iteration 4839: RMSE=0.6367, MAE=0.6367\n",
      "2025-02-09 13:43:07,483 [13068] INFO     root: Iteration 4840: RMSE=4.2272, MAE=4.2272\n",
      "2025-02-09 13:43:07,597 [13068] INFO     root: Iteration 4841: RMSE=0.9201, MAE=0.9201\n",
      "2025-02-09 13:43:07,693 [13068] INFO     root: Iteration 4842: RMSE=1.5289, MAE=1.5289\n",
      "2025-02-09 13:43:07,791 [13068] INFO     root: Iteration 4843: RMSE=1.3227, MAE=1.3227\n",
      "2025-02-09 13:43:07,890 [13068] INFO     root: Iteration 4844: RMSE=4.2272, MAE=4.2272\n",
      "2025-02-09 13:43:08,026 [13068] INFO     root: Iteration 4845: RMSE=2.0594, MAE=2.0594\n",
      "2025-02-09 13:43:08,085 [13068] INFO     ml_monitor.logging: Starting metrics logging thread...\n",
      "2025-02-09 13:43:08,144 [13068] INFO     root: Iteration 4846: RMSE=0.8360, MAE=0.8360\n",
      "2025-02-09 13:43:08,247 [13068] INFO     root: Iteration 4847: RMSE=1.9470, MAE=1.9470\n",
      "2025-02-09 13:43:08,351 [13068] INFO     root: Iteration 4848: RMSE=0.9201, MAE=0.9201\n",
      "2025-02-09 13:43:08,454 [13068] INFO     root: Iteration 4849: RMSE=2.4091, MAE=2.4091\n",
      "2025-02-09 13:43:08,561 [13068] INFO     root: Iteration 4850: RMSE=0.9690, MAE=0.9690\n",
      "2025-02-09 13:43:08,671 [13068] INFO     root: Iteration 4851: RMSE=0.2445, MAE=0.2445\n",
      "2025-02-09 13:43:08,778 [13068] INFO     root: Iteration 4852: RMSE=0.2356, MAE=0.2356\n",
      "2025-02-09 13:43:08,927 [13068] INFO     root: Iteration 4853: RMSE=0.6367, MAE=0.6367\n",
      "2025-02-09 13:43:09,039 [13068] INFO     root: Iteration 4854: RMSE=0.4053, MAE=0.4053\n",
      "2025-02-09 13:43:09,138 [13068] INFO     root: Iteration 4855: RMSE=0.6277, MAE=0.6277\n",
      "2025-02-09 13:43:09,248 [13068] INFO     root: Iteration 4856: RMSE=2.0594, MAE=2.0594\n",
      "2025-02-09 13:43:09,377 [13068] INFO     root: Iteration 4857: RMSE=4.3271, MAE=4.3271\n",
      "2025-02-09 13:43:09,547 [13068] INFO     root: Iteration 4858: RMSE=5.1399, MAE=5.1399\n",
      "2025-02-09 13:43:09,674 [13068] INFO     root: Iteration 4859: RMSE=0.1640, MAE=0.1640\n",
      "2025-02-09 13:43:09,797 [13068] INFO     root: Iteration 4860: RMSE=3.1701, MAE=3.1701\n",
      "2025-02-09 13:43:09,901 [13068] INFO     root: Iteration 4861: RMSE=3.9035, MAE=3.9035\n",
      "2025-02-09 13:43:10,003 [13068] INFO     root: Iteration 4862: RMSE=5.2814, MAE=5.2814\n",
      "2025-02-09 13:43:10,108 [13068] INFO     root: Iteration 4863: RMSE=7.1880, MAE=7.1880\n",
      "2025-02-09 13:43:10,227 [13068] INFO     root: Iteration 4864: RMSE=4.8742, MAE=4.8742\n",
      "2025-02-09 13:43:10,348 [13068] INFO     root: Iteration 4865: RMSE=3.6498, MAE=3.6498\n",
      "2025-02-09 13:43:10,462 [13068] INFO     root: Iteration 4866: RMSE=1.9891, MAE=1.9891\n",
      "2025-02-09 13:43:10,576 [13068] INFO     root: Iteration 4867: RMSE=3.2950, MAE=3.2950\n",
      "2025-02-09 13:43:10,699 [13068] INFO     root: Iteration 4868: RMSE=5.8175, MAE=5.8175\n",
      "2025-02-09 13:43:10,896 [13068] INFO     root: Iteration 4869: RMSE=3.6498, MAE=3.6498\n",
      "2025-02-09 13:43:11,019 [13068] INFO     root: Iteration 4870: RMSE=0.8295, MAE=0.8295\n",
      "2025-02-09 13:43:11,119 [13068] INFO     root: Iteration 4871: RMSE=0.5329, MAE=0.5329\n",
      "2025-02-09 13:43:11,226 [13068] INFO     root: Iteration 4872: RMSE=3.0048, MAE=3.0048\n",
      "2025-02-09 13:43:11,324 [13068] INFO     root: Iteration 4873: RMSE=0.0190, MAE=0.0190\n",
      "2025-02-09 13:43:11,426 [13068] INFO     root: Iteration 4874: RMSE=0.5423, MAE=0.5423\n",
      "2025-02-09 13:43:11,579 [13068] INFO     root: Iteration 4875: RMSE=0.6863, MAE=0.6863\n",
      "2025-02-09 13:43:11,705 [13068] INFO     root: Iteration 4876: RMSE=0.6820, MAE=0.6820\n",
      "2025-02-09 13:43:12,196 [13068] INFO     root: Metrics pushed at iteration 4876. RMSE=0.6820, MAE=0.6820\n",
      "2025-02-09 13:43:12,292 [13068] INFO     root: Iteration 4877: RMSE=6.4895, MAE=6.4895\n",
      "2025-02-09 13:43:12,393 [13068] INFO     root: Iteration 4878: RMSE=0.1636, MAE=0.1636\n",
      "2025-02-09 13:43:12,489 [13068] INFO     root: Iteration 4879: RMSE=6.4895, MAE=6.4895\n",
      "2025-02-09 13:43:12,578 [13068] INFO     root: Iteration 4880: RMSE=5.1385, MAE=5.1385\n",
      "2025-02-09 13:43:12,682 [13068] INFO     root: Iteration 4881: RMSE=2.5983, MAE=2.5983\n",
      "2025-02-09 13:43:12,769 [13068] INFO     root: Iteration 4882: RMSE=2.1281, MAE=2.1281\n",
      "2025-02-09 13:43:12,858 [13068] INFO     root: Iteration 4883: RMSE=3.9228, MAE=3.9228\n",
      "2025-02-09 13:43:12,942 [13068] INFO     root: Iteration 4884: RMSE=1.5289, MAE=1.5289\n",
      "2025-02-09 13:43:13,029 [13068] INFO     root: Iteration 4885: RMSE=21.1875, MAE=21.1875\n",
      "2025-02-09 13:43:13,111 [13068] INFO     root: Iteration 4886: RMSE=0.1640, MAE=0.1640\n",
      "2025-02-09 13:43:13,118 [13068] INFO     ml_monitor.logging: Starting metrics logging thread...\n",
      "2025-02-09 13:43:13,220 [13068] INFO     root: Iteration 4887: RMSE=0.6863, MAE=0.6863\n",
      "2025-02-09 13:43:13,307 [13068] INFO     root: Iteration 4888: RMSE=1.0525, MAE=1.0525\n",
      "2025-02-09 13:43:13,474 [13068] INFO     root: Iteration 4889: RMSE=3.9035, MAE=3.9035\n",
      "2025-02-09 13:43:13,589 [13068] INFO     root: Iteration 4890: RMSE=3.9035, MAE=3.9035\n",
      "2025-02-09 13:43:13,672 [13068] INFO     root: Iteration 4891: RMSE=5.1385, MAE=5.1385\n",
      "2025-02-09 13:43:13,764 [13068] INFO     root: Iteration 4892: RMSE=4.8742, MAE=4.8742\n",
      "2025-02-09 13:43:13,859 [13068] INFO     root: Iteration 4893: RMSE=2.7746, MAE=2.7746\n",
      "2025-02-09 13:43:13,946 [13068] INFO     root: Iteration 4894: RMSE=0.9201, MAE=0.9201\n",
      "2025-02-09 13:43:14,039 [13068] INFO     root: Iteration 4895: RMSE=2.0594, MAE=2.0594\n",
      "2025-02-09 13:43:14,131 [13068] INFO     root: Iteration 4896: RMSE=3.1701, MAE=3.1701\n",
      "2025-02-09 13:43:14,231 [13068] INFO     root: Iteration 4897: RMSE=2.2823, MAE=2.2823\n",
      "2025-02-09 13:43:14,338 [13068] INFO     root: Iteration 4898: RMSE=2.1020, MAE=2.1020\n",
      "2025-02-09 13:43:14,454 [13068] INFO     root: Iteration 4899: RMSE=0.9201, MAE=0.9201\n",
      "2025-02-09 13:43:14,595 [13068] INFO     root: Iteration 4900: RMSE=1.0341, MAE=1.0341\n",
      "2025-02-09 13:43:14,692 [13068] INFO     root: Iteration 4901: RMSE=6.4895, MAE=6.4895\n",
      "2025-02-09 13:43:14,798 [13068] INFO     root: Iteration 4902: RMSE=2.7728, MAE=2.7728\n",
      "2025-02-09 13:43:14,893 [13068] INFO     root: Iteration 4903: RMSE=0.2445, MAE=0.2445\n",
      "2025-02-09 13:43:14,985 [13068] INFO     root: Iteration 4904: RMSE=3.0812, MAE=3.0812\n",
      "2025-02-09 13:43:15,082 [13068] INFO     root: Iteration 4905: RMSE=4.3271, MAE=4.3271\n",
      "2025-02-09 13:43:15,182 [13068] INFO     root: Iteration 4906: RMSE=0.8360, MAE=0.8360\n",
      "2025-02-09 13:43:15,282 [13068] INFO     root: Iteration 4907: RMSE=0.1636, MAE=0.1636\n",
      "2025-02-09 13:43:15,412 [13068] INFO     root: Iteration 4908: RMSE=2.1957, MAE=2.1957\n",
      "2025-02-09 13:43:15,498 [13068] INFO     root: Iteration 4909: RMSE=0.2356, MAE=0.2356\n",
      "2025-02-09 13:43:15,594 [13068] INFO     root: Iteration 4910: RMSE=1.0525, MAE=1.0525\n",
      "2025-02-09 13:43:15,729 [13068] INFO     root: Iteration 4911: RMSE=0.1640, MAE=0.1640\n",
      "2025-02-09 13:43:15,829 [13068] INFO     root: Iteration 4912: RMSE=5.3491, MAE=5.3491\n",
      "2025-02-09 13:43:15,909 [13068] INFO     root: Iteration 4913: RMSE=2.8002, MAE=2.8002\n",
      "2025-02-09 13:43:16,006 [13068] INFO     root: Iteration 4914: RMSE=5.1385, MAE=5.1385\n",
      "2025-02-09 13:43:16,099 [13068] INFO     root: Iteration 4915: RMSE=0.4053, MAE=0.4053\n",
      "2025-02-09 13:43:16,194 [13068] INFO     root: Iteration 4916: RMSE=1.0525, MAE=1.0525\n",
      "2025-02-09 13:43:16,311 [13068] INFO     root: Iteration 4917: RMSE=2.7728, MAE=2.7728\n",
      "2025-02-09 13:43:16,399 [13068] INFO     root: Iteration 4918: RMSE=4.2530, MAE=4.2530\n",
      "2025-02-09 13:43:16,484 [13068] INFO     root: Iteration 4919: RMSE=0.8295, MAE=0.8295\n",
      "2025-02-09 13:43:16,590 [13068] INFO     root: Iteration 4920: RMSE=0.6863, MAE=0.6863\n",
      "2025-02-09 13:43:16,683 [13068] INFO     root: Iteration 4921: RMSE=1.7797, MAE=1.7797\n",
      "2025-02-09 13:43:16,774 [13068] INFO     root: Iteration 4922: RMSE=2.9898, MAE=2.9898\n",
      "2025-02-09 13:43:16,860 [13068] INFO     root: Iteration 4923: RMSE=0.2445, MAE=0.2445\n",
      "2025-02-09 13:43:16,959 [13068] INFO     root: Iteration 4924: RMSE=6.5607, MAE=6.5607\n",
      "2025-02-09 13:43:17,117 [13068] INFO     root: Iteration 4925: RMSE=0.8295, MAE=0.8295\n",
      "2025-02-09 13:43:17,215 [13068] INFO     root: Iteration 4926: RMSE=1.7797, MAE=1.7797\n",
      "2025-02-09 13:43:17,318 [13068] INFO     root: Iteration 4927: RMSE=0.5028, MAE=0.5028\n",
      "2025-02-09 13:43:17,398 [13068] INFO     root: Iteration 4928: RMSE=2.7746, MAE=2.7746\n",
      "2025-02-09 13:43:17,513 [13068] INFO     root: Iteration 4929: RMSE=5.8175, MAE=5.8175\n",
      "2025-02-09 13:43:17,604 [13068] INFO     root: Iteration 4930: RMSE=4.2733, MAE=4.2733\n",
      "2025-02-09 13:43:17,706 [13068] INFO     root: Iteration 4931: RMSE=1.0341, MAE=1.0341\n",
      "2025-02-09 13:43:17,800 [13068] INFO     root: Iteration 4932: RMSE=2.5983, MAE=2.5983\n",
      "2025-02-09 13:43:17,898 [13068] INFO     root: Iteration 4933: RMSE=1.2841, MAE=1.2841\n",
      "2025-02-09 13:43:17,984 [13068] INFO     root: Iteration 4934: RMSE=15.7679, MAE=15.7679\n",
      "2025-02-09 13:43:18,083 [13068] INFO     root: Iteration 4935: RMSE=0.4278, MAE=0.4278\n",
      "2025-02-09 13:43:18,178 [13068] INFO     ml_monitor.logging: Starting metrics logging thread...\n",
      "2025-02-09 13:43:18,257 [13068] INFO     root: Iteration 4936: RMSE=5.1385, MAE=5.1385\n",
      "2025-02-09 13:43:18,345 [13068] INFO     root: Iteration 4937: RMSE=1.6668, MAE=1.6668\n",
      "2025-02-09 13:43:18,457 [13068] INFO     root: Iteration 4938: RMSE=2.2823, MAE=2.2823\n",
      "2025-02-09 13:43:18,578 [13068] INFO     root: Iteration 4939: RMSE=0.5423, MAE=0.5423\n",
      "2025-02-09 13:43:18,670 [13068] INFO     root: Iteration 4940: RMSE=2.7746, MAE=2.7746\n",
      "2025-02-09 13:43:18,757 [13068] INFO     root: Iteration 4941: RMSE=7.1962, MAE=7.1962\n",
      "2025-02-09 13:43:18,846 [13068] INFO     root: Iteration 4942: RMSE=6.5607, MAE=6.5607\n",
      "2025-02-09 13:43:18,937 [13068] INFO     root: Iteration 4943: RMSE=1.0783, MAE=1.0783\n",
      "2025-02-09 13:43:19,022 [13068] INFO     root: Iteration 4944: RMSE=3.1701, MAE=3.1701\n",
      "2025-02-09 13:43:19,107 [13068] INFO     root: Iteration 4945: RMSE=1.2010, MAE=1.2010\n",
      "2025-02-09 13:43:19,209 [13068] INFO     root: Iteration 4946: RMSE=1.0783, MAE=1.0783\n",
      "2025-02-09 13:43:19,314 [13068] INFO     root: Iteration 4947: RMSE=0.2445, MAE=0.2445\n",
      "2025-02-09 13:43:19,483 [13068] INFO     root: Iteration 4948: RMSE=4.3271, MAE=4.3271\n",
      "2025-02-09 13:43:19,583 [13068] INFO     root: Iteration 4949: RMSE=2.2319, MAE=2.2319\n",
      "2025-02-09 13:43:19,677 [13068] INFO     root: Iteration 4950: RMSE=5.3491, MAE=5.3491\n",
      "2025-02-09 13:43:19,767 [13068] INFO     root: Iteration 4951: RMSE=1.6861, MAE=1.6861\n",
      "2025-02-09 13:43:19,870 [13068] INFO     root: Iteration 4952: RMSE=1.0837, MAE=1.0837\n",
      "2025-02-09 13:43:19,975 [13068] INFO     root: Iteration 4953: RMSE=6.4895, MAE=6.4895\n",
      "2025-02-09 13:43:20,133 [13068] INFO     root: Iteration 4954: RMSE=2.9898, MAE=2.9898\n",
      "2025-02-09 13:43:20,220 [13068] INFO     root: Iteration 4955: RMSE=1.9470, MAE=1.9470\n",
      "2025-02-09 13:43:20,315 [13068] INFO     root: Iteration 4956: RMSE=0.9510, MAE=0.9510\n",
      "2025-02-09 13:43:20,425 [13068] INFO     root: Iteration 4957: RMSE=1.2841, MAE=1.2841\n",
      "2025-02-09 13:43:20,525 [13068] INFO     root: Iteration 4958: RMSE=6.4895, MAE=6.4895\n",
      "2025-02-09 13:43:20,624 [13068] INFO     root: Iteration 4959: RMSE=0.6367, MAE=0.6367\n",
      "2025-02-09 13:43:20,741 [13068] INFO     root: Iteration 4960: RMSE=1.5147, MAE=1.5147\n",
      "2025-02-09 13:43:20,839 [13068] INFO     root: Iteration 4961: RMSE=5.1385, MAE=5.1385\n",
      "2025-02-09 13:43:20,937 [13068] INFO     root: Iteration 4962: RMSE=0.6367, MAE=0.6367\n",
      "2025-02-09 13:43:21,029 [13068] INFO     root: Iteration 4963: RMSE=3.6498, MAE=3.6498\n",
      "2025-02-09 13:43:21,120 [13068] INFO     root: Iteration 4964: RMSE=0.9690, MAE=0.9690\n",
      "2025-02-09 13:43:21,211 [13068] INFO     root: Iteration 4965: RMSE=0.4554, MAE=0.4554\n",
      "2025-02-09 13:43:21,304 [13068] INFO     root: Iteration 4966: RMSE=0.1640, MAE=0.1640\n",
      "2025-02-09 13:43:21,452 [13068] INFO     root: Iteration 4967: RMSE=1.9374, MAE=1.9374\n",
      "2025-02-09 13:43:21,579 [13068] INFO     root: Iteration 4968: RMSE=0.8280, MAE=0.8280\n",
      "2025-02-09 13:43:21,728 [13068] INFO     root: Iteration 4969: RMSE=0.6863, MAE=0.6863\n",
      "2025-02-09 13:43:22,279 [13068] INFO     root: Metrics pushed at iteration 4969. RMSE=0.6863, MAE=0.6863\n",
      "2025-02-09 13:43:22,379 [13068] INFO     root: Iteration 4970: RMSE=0.0894, MAE=0.0894\n",
      "2025-02-09 13:43:22,482 [13068] INFO     root: Iteration 4971: RMSE=1.3937, MAE=1.3937\n",
      "2025-02-09 13:43:22,583 [13068] INFO     root: Iteration 4972: RMSE=3.0048, MAE=3.0048\n",
      "2025-02-09 13:43:22,682 [13068] INFO     root: Iteration 4973: RMSE=2.5855, MAE=2.5855\n",
      "2025-02-09 13:43:22,993 [13068] INFO     root: Iteration 4974: RMSE=1.2010, MAE=1.2010\n",
      "2025-02-09 13:43:23,112 [13068] INFO     root: Iteration 4975: RMSE=2.9898, MAE=2.9898\n",
      "2025-02-09 13:43:23,211 [13068] INFO     root: Iteration 4976: RMSE=2.1281, MAE=2.1281\n",
      "2025-02-09 13:43:23,218 [13068] INFO     ml_monitor.logging: Starting metrics logging thread...\n",
      "2025-02-09 13:43:23,307 [13068] INFO     root: Iteration 4977: RMSE=1.9834, MAE=1.9834\n",
      "2025-02-09 13:43:23,400 [13068] INFO     root: Iteration 4978: RMSE=1.9891, MAE=1.9891\n",
      "2025-02-09 13:43:23,492 [13068] INFO     root: Iteration 4979: RMSE=2.2324, MAE=2.2324\n",
      "2025-02-09 13:43:23,604 [13068] INFO     root: Iteration 4980: RMSE=0.0329, MAE=0.0329\n",
      "2025-02-09 13:43:23,697 [13068] INFO     root: Iteration 4981: RMSE=0.9510, MAE=0.9510\n",
      "2025-02-09 13:43:23,796 [13068] INFO     root: Iteration 4982: RMSE=1.3937, MAE=1.3937\n",
      "2025-02-09 13:43:23,891 [13068] INFO     root: Iteration 4983: RMSE=6.5607, MAE=6.5607\n",
      "2025-02-09 13:43:23,993 [13068] INFO     root: Iteration 4984: RMSE=0.1136, MAE=0.1136\n",
      "2025-02-09 13:43:24,146 [13068] INFO     root: Iteration 4985: RMSE=2.1281, MAE=2.1281\n",
      "2025-02-09 13:43:24,255 [13068] INFO     root: Iteration 4986: RMSE=4.2619, MAE=4.2619\n",
      "2025-02-09 13:43:24,370 [13068] INFO     root: Iteration 4987: RMSE=1.2010, MAE=1.2010\n",
      "2025-02-09 13:43:24,503 [13068] INFO     root: Iteration 4988: RMSE=1.9954, MAE=1.9954\n",
      "2025-02-09 13:43:24,604 [13068] INFO     root: Iteration 4989: RMSE=6.3484, MAE=6.3484\n",
      "2025-02-09 13:43:24,704 [13068] INFO     root: Iteration 4990: RMSE=2.1281, MAE=2.1281\n",
      "2025-02-09 13:43:24,810 [13068] INFO     root: Iteration 4991: RMSE=2.9898, MAE=2.9898\n",
      "2025-02-09 13:43:24,923 [13068] INFO     root: Iteration 4992: RMSE=1.0341, MAE=1.0341\n",
      "2025-02-09 13:43:25,030 [13068] INFO     root: Iteration 4993: RMSE=2.1957, MAE=2.1957\n",
      "2025-02-09 13:43:25,126 [13068] INFO     root: Iteration 4994: RMSE=2.1281, MAE=2.1281\n",
      "2025-02-09 13:43:25,227 [13068] INFO     root: Iteration 4995: RMSE=2.1281, MAE=2.1281\n",
      "2025-02-09 13:43:25,335 [13068] INFO     root: Iteration 4996: RMSE=0.6004, MAE=0.6004\n",
      "2025-02-09 13:43:25,499 [13068] INFO     root: Iteration 4997: RMSE=1.7797, MAE=1.7797\n",
      "2025-02-09 13:43:25,617 [13068] INFO     root: Iteration 4998: RMSE=3.0048, MAE=3.0048\n",
      "2025-02-09 13:43:25,718 [13068] INFO     root: Iteration 4999: RMSE=7.4122, MAE=7.4122\n",
      "2025-02-09 13:43:25,811 [13068] INFO     root: Iteration 5000: RMSE=5.2814, MAE=5.2814\n",
      "2025-02-09 13:43:25,918 [13068] INFO     root: Iteration 5001: RMSE=1.6861, MAE=1.6861\n",
      "2025-02-09 13:43:26,048 [13068] INFO     root: Iteration 5002: RMSE=2.4407, MAE=2.4407\n",
      "2025-02-09 13:43:26,148 [13068] INFO     root: Iteration 5003: RMSE=7.1962, MAE=7.1962\n",
      "2025-02-09 13:43:26,320 [13068] INFO     root: Iteration 5004: RMSE=2.2823, MAE=2.2823\n",
      "2025-02-09 13:43:26,420 [13068] INFO     root: Iteration 5005: RMSE=2.4091, MAE=2.4091\n",
      "2025-02-09 13:43:26,529 [13068] INFO     root: Iteration 5006: RMSE=0.9690, MAE=0.9690\n",
      "2025-02-09 13:43:26,636 [13068] INFO     root: Iteration 5007: RMSE=2.2319, MAE=2.2319\n",
      "2025-02-09 13:43:26,745 [13068] INFO     root: Iteration 5008: RMSE=2.0594, MAE=2.0594\n",
      "2025-02-09 13:43:26,865 [13068] INFO     root: Iteration 5009: RMSE=0.1636, MAE=0.1636\n",
      "2025-02-09 13:43:26,988 [13068] INFO     root: Iteration 5010: RMSE=1.3937, MAE=1.3937\n",
      "2025-02-09 13:43:27,100 [13068] INFO     root: Iteration 5011: RMSE=0.6820, MAE=0.6820\n",
      "2025-02-09 13:43:27,273 [13068] INFO     root: Iteration 5012: RMSE=0.2356, MAE=0.2356\n",
      "2025-02-09 13:43:27,398 [13068] INFO     root: Iteration 5013: RMSE=3.6498, MAE=3.6498\n",
      "2025-02-09 13:43:27,506 [13068] INFO     root: Iteration 5014: RMSE=0.9510, MAE=0.9510\n",
      "2025-02-09 13:43:27,609 [13068] INFO     root: Iteration 5015: RMSE=2.4407, MAE=2.4407\n",
      "2025-02-09 13:43:27,708 [13068] INFO     root: Iteration 5016: RMSE=4.8742, MAE=4.8742\n",
      "2025-02-09 13:43:27,801 [13068] INFO     root: Iteration 5017: RMSE=1.9834, MAE=1.9834\n",
      "2025-02-09 13:43:27,944 [13068] INFO     root: Iteration 5018: RMSE=1.9834, MAE=1.9834\n",
      "2025-02-09 13:43:28,058 [13068] INFO     root: Iteration 5019: RMSE=3.2372, MAE=3.2372\n",
      "2025-02-09 13:43:28,160 [13068] INFO     root: Iteration 5020: RMSE=5.2814, MAE=5.2814\n",
      "2025-02-09 13:43:28,250 [13068] INFO     ml_monitor.logging: Starting metrics logging thread...\n",
      "2025-02-09 13:43:28,264 [13068] INFO     root: Iteration 5021: RMSE=7.1962, MAE=7.1962\n",
      "2025-02-09 13:43:28,355 [13068] INFO     root: Iteration 5022: RMSE=3.0048, MAE=3.0048\n",
      "2025-02-09 13:43:28,453 [13068] INFO     root: Iteration 5023: RMSE=0.8295, MAE=0.8295\n",
      "2025-02-09 13:43:28,551 [13068] INFO     root: Iteration 5024: RMSE=1.5147, MAE=1.5147\n",
      "2025-02-09 13:43:28,682 [13068] INFO     root: Iteration 5025: RMSE=0.4053, MAE=0.4053\n",
      "2025-02-09 13:43:28,775 [13068] INFO     root: Iteration 5026: RMSE=0.0894, MAE=0.0894\n",
      "2025-02-09 13:43:28,898 [13068] INFO     root: Iteration 5027: RMSE=0.2922, MAE=0.2922\n",
      "2025-02-09 13:43:29,009 [13068] INFO     root: Iteration 5028: RMSE=1.0341, MAE=1.0341\n",
      "2025-02-09 13:43:29,105 [13068] INFO     root: Iteration 5029: RMSE=1.3227, MAE=1.3227\n",
      "2025-02-09 13:43:29,190 [13068] INFO     root: Iteration 5030: RMSE=0.5423, MAE=0.5423\n",
      "2025-02-09 13:43:29,279 [13068] INFO     root: Iteration 5031: RMSE=3.9228, MAE=3.9228\n",
      "2025-02-09 13:43:29,379 [13068] INFO     root: Iteration 5032: RMSE=0.1550, MAE=0.1550\n",
      "2025-02-09 13:43:29,470 [13068] INFO     root: Iteration 5033: RMSE=3.1092, MAE=3.1092\n",
      "2025-02-09 13:43:29,673 [13068] INFO     root: Iteration 5034: RMSE=0.4053, MAE=0.4053\n",
      "2025-02-09 13:43:29,852 [13068] INFO     root: Iteration 5035: RMSE=0.8280, MAE=0.8280\n",
      "2025-02-09 13:43:30,015 [13068] INFO     root: Iteration 5036: RMSE=1.0783, MAE=1.0783\n",
      "2025-02-09 13:43:30,154 [13068] INFO     root: Iteration 5037: RMSE=3.0812, MAE=3.0812\n",
      "2025-02-09 13:43:30,262 [13068] INFO     root: Iteration 5038: RMSE=1.2010, MAE=1.2010\n",
      "2025-02-09 13:43:30,368 [13068] INFO     root: Iteration 5039: RMSE=5.8175, MAE=5.8175\n",
      "2025-02-09 13:43:30,469 [13068] INFO     root: Iteration 5040: RMSE=1.9374, MAE=1.9374\n",
      "2025-02-09 13:43:30,584 [13068] INFO     root: Iteration 5041: RMSE=0.8360, MAE=0.8360\n",
      "2025-02-09 13:43:30,693 [13068] INFO     root: Iteration 5042: RMSE=2.4681, MAE=2.4681\n",
      "2025-02-09 13:43:30,863 [13068] INFO     root: Iteration 5043: RMSE=5.8811, MAE=5.8811\n",
      "2025-02-09 13:43:30,973 [13068] INFO     root: Iteration 5044: RMSE=0.4278, MAE=0.4278\n",
      "2025-02-09 13:43:31,069 [13068] INFO     root: Iteration 5045: RMSE=0.5329, MAE=0.5329\n",
      "2025-02-09 13:43:31,173 [13068] INFO     root: Iteration 5046: RMSE=0.6277, MAE=0.6277\n",
      "2025-02-09 13:43:31,281 [13068] INFO     root: Iteration 5047: RMSE=1.9374, MAE=1.9374\n",
      "2025-02-09 13:43:31,368 [13068] INFO     root: Iteration 5048: RMSE=5.3491, MAE=5.3491\n",
      "2025-02-09 13:43:31,465 [13068] INFO     root: Iteration 5049: RMSE=5.1399, MAE=5.1399\n",
      "2025-02-09 13:43:31,574 [13068] INFO     root: Iteration 5050: RMSE=2.5983, MAE=2.5983\n",
      "2025-02-09 13:43:31,732 [13068] INFO     root: Iteration 5051: RMSE=5.8175, MAE=5.8175\n",
      "2025-02-09 13:43:32,291 [13068] INFO     root: Metrics pushed at iteration 5051. RMSE=5.8175, MAE=5.8175\n",
      "2025-02-09 13:43:32,395 [13068] INFO     root: Iteration 5052: RMSE=0.9690, MAE=0.9690\n",
      "2025-02-09 13:43:32,485 [13068] INFO     root: Iteration 5053: RMSE=1.5289, MAE=1.5289\n",
      "2025-02-09 13:43:32,598 [13068] INFO     root: Iteration 5054: RMSE=0.4053, MAE=0.4053\n",
      "2025-02-09 13:43:32,695 [13068] INFO     root: Iteration 5055: RMSE=1.9834, MAE=1.9834\n",
      "2025-02-09 13:43:32,851 [13068] INFO     root: Iteration 5056: RMSE=0.6367, MAE=0.6367\n",
      "2025-02-09 13:43:32,949 [13068] INFO     root: Iteration 5057: RMSE=1.6861, MAE=1.6861\n",
      "2025-02-09 13:43:33,058 [13068] INFO     root: Iteration 5058: RMSE=0.6367, MAE=0.6367\n",
      "2025-02-09 13:43:33,149 [13068] INFO     root: Iteration 5059: RMSE=6.3484, MAE=6.3484\n",
      "2025-02-09 13:43:33,236 [13068] INFO     root: Iteration 5060: RMSE=3.2372, MAE=3.2372\n",
      "2025-02-09 13:43:33,267 [13068] INFO     ml_monitor.logging: Starting metrics logging thread...\n",
      "2025-02-09 13:43:33,342 [13068] INFO     root: Iteration 5061: RMSE=7.1880, MAE=7.1880\n",
      "2025-02-09 13:43:33,441 [13068] INFO     root: Iteration 5062: RMSE=1.9470, MAE=1.9470\n",
      "2025-02-09 13:43:33,536 [13068] INFO     root: Iteration 5063: RMSE=3.0048, MAE=3.0048\n",
      "2025-02-09 13:43:33,637 [13068] INFO     root: Iteration 5064: RMSE=1.2345, MAE=1.2345\n",
      "2025-02-09 13:43:33,786 [13068] INFO     root: Iteration 5065: RMSE=1.9880, MAE=1.9880\n",
      "2025-02-09 13:43:33,894 [13068] INFO     root: Iteration 5066: RMSE=2.1020, MAE=2.1020\n",
      "2025-02-09 13:43:33,986 [13068] INFO     root: Iteration 5067: RMSE=3.9228, MAE=3.9228\n",
      "2025-02-09 13:43:34,086 [13068] INFO     root: Iteration 5068: RMSE=1.0341, MAE=1.0341\n",
      "2025-02-09 13:43:34,280 [13068] INFO     root: Iteration 5069: RMSE=0.9690, MAE=0.9690\n",
      "2025-02-09 13:43:34,450 [13068] INFO     root: Iteration 5070: RMSE=0.2922, MAE=0.2922\n",
      "2025-02-09 13:43:34,625 [13068] INFO     root: Iteration 5071: RMSE=1.0341, MAE=1.0341\n",
      "2025-02-09 13:43:34,748 [13068] INFO     root: Iteration 5072: RMSE=2.4091, MAE=2.4091\n",
      "2025-02-09 13:43:34,858 [13068] INFO     root: Iteration 5073: RMSE=1.9470, MAE=1.9470\n",
      "2025-02-09 13:43:35,004 [13068] INFO     root: Iteration 5074: RMSE=4.2530, MAE=4.2530\n",
      "2025-02-09 13:43:35,169 [13068] INFO     root: Iteration 5075: RMSE=2.7746, MAE=2.7746\n",
      "2025-02-09 13:43:35,373 [13068] INFO     root: Iteration 5076: RMSE=1.0525, MAE=1.0525\n",
      "2025-02-09 13:43:35,485 [13068] INFO     root: Iteration 5077: RMSE=5.0666, MAE=5.0666\n",
      "2025-02-09 13:43:35,583 [13068] INFO     root: Iteration 5078: RMSE=0.1636, MAE=0.1636\n",
      "2025-02-09 13:43:35,689 [13068] INFO     root: Iteration 5079: RMSE=0.8280, MAE=0.8280\n",
      "2025-02-09 13:43:35,796 [13068] INFO     root: Iteration 5080: RMSE=2.7728, MAE=2.7728\n",
      "2025-02-09 13:43:35,894 [13068] INFO     root: Iteration 5081: RMSE=5.8175, MAE=5.8175\n",
      "2025-02-09 13:43:35,998 [13068] INFO     root: Iteration 5082: RMSE=0.1136, MAE=0.1136\n",
      "2025-02-09 13:43:36,095 [13068] INFO     root: Iteration 5083: RMSE=4.2530, MAE=4.2530\n",
      "2025-02-09 13:43:36,199 [13068] INFO     root: Iteration 5084: RMSE=0.4554, MAE=0.4554\n",
      "2025-02-09 13:43:36,355 [13068] INFO     root: Iteration 5085: RMSE=1.7964, MAE=1.7964\n",
      "2025-02-09 13:43:36,459 [13068] INFO     root: Iteration 5086: RMSE=2.8002, MAE=2.8002\n",
      "2025-02-09 13:43:36,549 [13068] INFO     root: Iteration 5087: RMSE=6.5607, MAE=6.5607\n",
      "2025-02-09 13:43:36,645 [13068] INFO     root: Iteration 5088: RMSE=2.5855, MAE=2.5855\n",
      "2025-02-09 13:43:36,742 [13068] INFO     root: Iteration 5089: RMSE=0.8502, MAE=0.8502\n",
      "2025-02-09 13:43:36,846 [13068] INFO     root: Iteration 5090: RMSE=1.6668, MAE=1.6668\n",
      "2025-02-09 13:43:37,008 [13068] INFO     root: Iteration 5091: RMSE=3.0048, MAE=3.0048\n",
      "2025-02-09 13:43:37,102 [13068] INFO     root: Iteration 5092: RMSE=0.8280, MAE=0.8280\n",
      "2025-02-09 13:43:37,196 [13068] INFO     root: Iteration 5093: RMSE=2.1957, MAE=2.1957\n",
      "2025-02-09 13:43:37,302 [13068] INFO     root: Iteration 5094: RMSE=1.6668, MAE=1.6668\n",
      "2025-02-09 13:43:37,399 [13068] INFO     root: Iteration 5095: RMSE=1.2010, MAE=1.2010\n",
      "2025-02-09 13:43:37,490 [13068] INFO     root: Iteration 5096: RMSE=0.6367, MAE=0.6367\n",
      "2025-02-09 13:43:37,586 [13068] INFO     root: Iteration 5097: RMSE=3.0048, MAE=3.0048\n",
      "2025-02-09 13:43:37,683 [13068] INFO     root: Iteration 5098: RMSE=3.0641, MAE=3.0641\n",
      "2025-02-09 13:43:37,772 [13068] INFO     root: Iteration 5099: RMSE=2.4091, MAE=2.4091\n",
      "2025-02-09 13:43:37,863 [13068] INFO     root: Iteration 5100: RMSE=1.7964, MAE=1.7964\n",
      "2025-02-09 13:43:37,966 [13068] INFO     root: Iteration 5101: RMSE=0.5423, MAE=0.5423\n",
      "2025-02-09 13:43:38,119 [13068] INFO     root: Iteration 5102: RMSE=1.0525, MAE=1.0525\n",
      "2025-02-09 13:43:38,213 [13068] INFO     root: Iteration 5103: RMSE=2.4407, MAE=2.4407\n",
      "2025-02-09 13:43:38,278 [13068] INFO     ml_monitor.logging: Starting metrics logging thread...\n",
      "2025-02-09 13:43:38,312 [13068] INFO     root: Iteration 5104: RMSE=2.0594, MAE=2.0594\n",
      "2025-02-09 13:43:38,405 [13068] INFO     root: Iteration 5105: RMSE=1.6668, MAE=1.6668\n",
      "2025-02-09 13:43:38,504 [13068] INFO     root: Iteration 5106: RMSE=0.0329, MAE=0.0329\n",
      "2025-02-09 13:43:38,618 [13068] INFO     root: Iteration 5107: RMSE=1.0525, MAE=1.0525\n",
      "2025-02-09 13:43:38,718 [13068] INFO     root: Iteration 5108: RMSE=0.5329, MAE=0.5329\n",
      "2025-02-09 13:43:38,818 [13068] INFO     root: Iteration 5109: RMSE=0.8295, MAE=0.8295\n",
      "2025-02-09 13:43:38,912 [13068] INFO     root: Iteration 5110: RMSE=4.3271, MAE=4.3271\n",
      "2025-02-09 13:43:39,006 [13068] INFO     root: Iteration 5111: RMSE=0.0329, MAE=0.0329\n",
      "2025-02-09 13:43:39,140 [13068] INFO     root: Iteration 5112: RMSE=5.1399, MAE=5.1399\n",
      "2025-02-09 13:43:39,248 [13068] INFO     root: Iteration 5113: RMSE=5.3491, MAE=5.3491\n",
      "2025-02-09 13:43:39,344 [13068] INFO     root: Iteration 5114: RMSE=1.9470, MAE=1.9470\n",
      "2025-02-09 13:43:39,442 [13068] INFO     root: Iteration 5115: RMSE=1.0837, MAE=1.0837\n",
      "2025-02-09 13:43:39,539 [13068] INFO     root: Iteration 5116: RMSE=1.3937, MAE=1.3937\n",
      "2025-02-09 13:43:39,640 [13068] INFO     root: Iteration 5117: RMSE=5.0666, MAE=5.0666\n",
      "2025-02-09 13:43:39,743 [13068] INFO     root: Iteration 5118: RMSE=0.6863, MAE=0.6863\n",
      "2025-02-09 13:43:39,834 [13068] INFO     root: Iteration 5119: RMSE=1.7797, MAE=1.7797\n",
      "2025-02-09 13:43:39,915 [13068] INFO     root: Iteration 5120: RMSE=0.4278, MAE=0.4278\n",
      "2025-02-09 13:43:40,018 [13068] INFO     root: Iteration 5121: RMSE=2.2823, MAE=2.2823\n",
      "2025-02-09 13:43:40,113 [13068] INFO     root: Iteration 5122: RMSE=3.0812, MAE=3.0812\n",
      "2025-02-09 13:43:40,288 [13068] INFO     root: Iteration 5123: RMSE=5.1399, MAE=5.1399\n",
      "2025-02-09 13:43:40,393 [13068] INFO     root: Iteration 5124: RMSE=2.1281, MAE=2.1281\n",
      "2025-02-09 13:43:40,567 [13068] INFO     root: Iteration 5125: RMSE=1.0341, MAE=1.0341\n",
      "2025-02-09 13:43:40,724 [13068] INFO     root: Iteration 5126: RMSE=2.6178, MAE=2.6178\n",
      "2025-02-09 13:43:40,877 [13068] INFO     root: Iteration 5127: RMSE=5.8175, MAE=5.8175\n",
      "2025-02-09 13:43:40,986 [13068] INFO     root: Iteration 5128: RMSE=2.1020, MAE=2.1020\n",
      "2025-02-09 13:43:41,092 [13068] INFO     root: Iteration 5129: RMSE=1.9834, MAE=1.9834\n",
      "2025-02-09 13:43:41,207 [13068] INFO     root: Iteration 5130: RMSE=2.5983, MAE=2.5983\n",
      "2025-02-09 13:43:41,318 [13068] INFO     root: Iteration 5131: RMSE=2.5855, MAE=2.5855\n",
      "2025-02-09 13:43:41,431 [13068] INFO     root: Iteration 5132: RMSE=2.4681, MAE=2.4681\n",
      "2025-02-09 13:43:41,540 [13068] INFO     root: Iteration 5133: RMSE=0.2922, MAE=0.2922\n",
      "2025-02-09 13:43:41,743 [13068] INFO     root: Iteration 5134: RMSE=0.1136, MAE=0.1136\n",
      "2025-02-09 13:43:42,248 [13068] INFO     root: Metrics pushed at iteration 5134. RMSE=0.1136, MAE=0.1136\n",
      "2025-02-09 13:43:42,348 [13068] INFO     root: Iteration 5135: RMSE=2.4681, MAE=2.4681\n",
      "2025-02-09 13:43:42,448 [13068] INFO     root: Iteration 5136: RMSE=0.5423, MAE=0.5423\n",
      "2025-02-09 13:43:42,559 [13068] INFO     root: Iteration 5137: RMSE=0.6277, MAE=0.6277\n",
      "2025-02-09 13:43:42,693 [13068] INFO     root: Iteration 5138: RMSE=0.5423, MAE=0.5423\n",
      "2025-02-09 13:43:42,828 [13068] INFO     root: Iteration 5139: RMSE=0.5028, MAE=0.5028\n",
      "2025-02-09 13:43:43,137 [13068] INFO     root: Iteration 5140: RMSE=3.0048, MAE=3.0048\n",
      "2025-02-09 13:43:43,258 [13068] INFO     root: Iteration 5141: RMSE=4.3271, MAE=4.3271\n",
      "2025-02-09 13:43:43,301 [13068] INFO     ml_monitor.logging: Starting metrics logging thread...\n",
      "2025-02-09 13:43:43,412 [13068] INFO     root: Iteration 5142: RMSE=1.6861, MAE=1.6861\n",
      "2025-02-09 13:43:43,531 [13068] INFO     root: Iteration 5143: RMSE=0.8295, MAE=0.8295\n",
      "2025-02-09 13:43:43,662 [13068] INFO     root: Iteration 5144: RMSE=1.0783, MAE=1.0783\n",
      "2025-02-09 13:43:43,795 [13068] INFO     root: Iteration 5145: RMSE=5.3491, MAE=5.3491\n",
      "2025-02-09 13:43:43,947 [13068] INFO     root: Iteration 5146: RMSE=1.7797, MAE=1.7797\n",
      "2025-02-09 13:43:44,047 [13068] INFO     root: Iteration 5147: RMSE=5.2814, MAE=5.2814\n",
      "2025-02-09 13:43:44,275 [13068] INFO     root: Iteration 5148: RMSE=5.1385, MAE=5.1385\n",
      "2025-02-09 13:43:44,392 [13068] INFO     root: Iteration 5149: RMSE=1.3227, MAE=1.3227\n",
      "2025-02-09 13:43:44,510 [13068] INFO     root: Iteration 5150: RMSE=5.2814, MAE=5.2814\n",
      "2025-02-09 13:43:44,658 [13068] INFO     root: Iteration 5151: RMSE=0.9510, MAE=0.9510\n",
      "2025-02-09 13:43:44,880 [13068] INFO     root: Iteration 5152: RMSE=2.1957, MAE=2.1957\n",
      "2025-02-09 13:43:45,067 [13068] INFO     root: Iteration 5153: RMSE=1.9954, MAE=1.9954\n",
      "2025-02-09 13:43:45,362 [13068] INFO     root: Iteration 5154: RMSE=4.8742, MAE=4.8742\n",
      "2025-02-09 13:43:45,491 [13068] INFO     root: Iteration 5155: RMSE=3.1092, MAE=3.1092\n",
      "2025-02-09 13:43:45,627 [13068] INFO     root: Iteration 5156: RMSE=0.4278, MAE=0.4278\n",
      "2025-02-09 13:43:45,757 [13068] INFO     root: Iteration 5157: RMSE=0.1640, MAE=0.1640\n",
      "2025-02-09 13:43:45,925 [13068] INFO     root: Iteration 5158: RMSE=1.2345, MAE=1.2345\n",
      "2025-02-09 13:43:46,053 [13068] INFO     root: Iteration 5159: RMSE=0.2445, MAE=0.2445\n",
      "2025-02-09 13:43:46,176 [13068] INFO     root: Iteration 5160: RMSE=0.9510, MAE=0.9510\n",
      "2025-02-09 13:43:46,304 [13068] INFO     root: Iteration 5161: RMSE=0.5028, MAE=0.5028\n",
      "2025-02-09 13:43:46,486 [13068] INFO     root: Iteration 5162: RMSE=2.0594, MAE=2.0594\n",
      "2025-02-09 13:43:46,586 [13068] INFO     root: Iteration 5163: RMSE=0.9176, MAE=0.9176\n",
      "2025-02-09 13:43:46,733 [13068] INFO     root: Iteration 5164: RMSE=4.2272, MAE=4.2272\n",
      "2025-02-09 13:43:47,111 [13068] INFO     root: Iteration 5165: RMSE=0.4811, MAE=0.4811\n",
      "2025-02-09 13:43:47,225 [13068] INFO     root: Iteration 5166: RMSE=0.4554, MAE=0.4554\n",
      "2025-02-09 13:43:47,321 [13068] INFO     root: Iteration 5167: RMSE=15.7679, MAE=15.7679\n",
      "2025-02-09 13:43:47,469 [13068] INFO     root: Iteration 5168: RMSE=2.1281, MAE=2.1281\n",
      "2025-02-09 13:43:47,588 [13068] INFO     root: Iteration 5169: RMSE=1.7797, MAE=1.7797\n",
      "2025-02-09 13:43:47,694 [13068] INFO     root: Iteration 5170: RMSE=4.3700, MAE=4.3700\n",
      "2025-02-09 13:43:47,839 [13068] INFO     root: Iteration 5171: RMSE=0.5028, MAE=0.5028\n",
      "2025-02-09 13:43:47,964 [13068] INFO     root: Iteration 5172: RMSE=6.3484, MAE=6.3484\n",
      "2025-02-09 13:43:48,093 [13068] INFO     root: Iteration 5173: RMSE=1.6668, MAE=1.6668\n",
      "2025-02-09 13:43:48,284 [13068] INFO     root: Iteration 5174: RMSE=1.9891, MAE=1.9891\n",
      "2025-02-09 13:43:48,340 [13068] INFO     ml_monitor.logging: Starting metrics logging thread...\n",
      "2025-02-09 13:43:48,399 [13068] INFO     root: Iteration 5175: RMSE=4.2619, MAE=4.2619\n",
      "2025-02-09 13:43:48,496 [13068] INFO     root: Iteration 5176: RMSE=3.1701, MAE=3.1701\n",
      "2025-02-09 13:43:48,590 [13068] INFO     root: Iteration 5177: RMSE=1.3227, MAE=1.3227\n",
      "2025-02-09 13:43:48,684 [13068] INFO     root: Iteration 5178: RMSE=1.9024, MAE=1.9024\n",
      "2025-02-09 13:43:48,791 [13068] INFO     root: Iteration 5179: RMSE=5.1399, MAE=5.1399\n",
      "2025-02-09 13:43:49,001 [13068] INFO     root: Iteration 5180: RMSE=3.9035, MAE=3.9035\n",
      "2025-02-09 13:43:49,103 [13068] INFO     root: Iteration 5181: RMSE=2.6178, MAE=2.6178\n",
      "2025-02-09 13:43:49,215 [13068] INFO     root: Iteration 5182: RMSE=2.6178, MAE=2.6178\n",
      "2025-02-09 13:43:49,322 [13068] INFO     root: Iteration 5183: RMSE=7.1880, MAE=7.1880\n",
      "2025-02-09 13:43:49,411 [13068] INFO     root: Iteration 5184: RMSE=0.5028, MAE=0.5028\n",
      "2025-02-09 13:43:49,508 [13068] INFO     root: Iteration 5185: RMSE=0.9510, MAE=0.9510\n",
      "2025-02-09 13:43:49,672 [13068] INFO     root: Iteration 5186: RMSE=1.0341, MAE=1.0341\n",
      "2025-02-09 13:43:49,778 [13068] INFO     root: Iteration 5187: RMSE=5.8175, MAE=5.8175\n",
      "2025-02-09 13:43:49,886 [13068] INFO     root: Iteration 5188: RMSE=3.9228, MAE=3.9228\n",
      "2025-02-09 13:43:49,985 [13068] INFO     root: Iteration 5189: RMSE=6.4895, MAE=6.4895\n",
      "2025-02-09 13:43:50,093 [13068] INFO     root: Iteration 5190: RMSE=2.9898, MAE=2.9898\n",
      "2025-02-09 13:43:50,194 [13068] INFO     root: Iteration 5191: RMSE=1.9880, MAE=1.9880\n",
      "2025-02-09 13:43:50,305 [13068] INFO     root: Iteration 5192: RMSE=0.4811, MAE=0.4811\n",
      "2025-02-09 13:43:50,405 [13068] INFO     root: Iteration 5193: RMSE=0.0190, MAE=0.0190\n",
      "2025-02-09 13:43:50,526 [13068] INFO     root: Iteration 5194: RMSE=0.5423, MAE=0.5423\n",
      "2025-02-09 13:43:50,657 [13068] INFO     root: Iteration 5195: RMSE=0.5028, MAE=0.5028\n",
      "2025-02-09 13:43:50,805 [13068] INFO     root: Iteration 5196: RMSE=3.0048, MAE=3.0048\n",
      "2025-02-09 13:43:50,928 [13068] INFO     root: Iteration 5197: RMSE=5.1399, MAE=5.1399\n",
      "2025-02-09 13:43:51,039 [13068] INFO     root: Iteration 5198: RMSE=5.1385, MAE=5.1385\n",
      "2025-02-09 13:43:51,213 [13068] INFO     root: Iteration 5199: RMSE=0.0190, MAE=0.0190\n",
      "2025-02-09 13:43:51,316 [13068] INFO     root: Iteration 5200: RMSE=0.6367, MAE=0.6367\n",
      "2025-02-09 13:43:51,415 [13068] INFO     root: Iteration 5201: RMSE=6.4895, MAE=6.4895\n",
      "2025-02-09 13:43:51,534 [13068] INFO     root: Iteration 5202: RMSE=4.2733, MAE=4.2733\n",
      "2025-02-09 13:43:51,658 [13068] INFO     root: Iteration 5203: RMSE=4.2272, MAE=4.2272\n",
      "2025-02-09 13:43:51,767 [13068] INFO     root: Iteration 5204: RMSE=4.3271, MAE=4.3271\n",
      "2025-02-09 13:43:52,428 [13068] INFO     root: Metrics pushed at iteration 5204. RMSE=4.3271, MAE=4.3271\n",
      "2025-02-09 13:43:52,533 [13068] INFO     root: Iteration 5205: RMSE=3.2372, MAE=3.2372\n",
      "2025-02-09 13:43:52,631 [13068] INFO     root: Iteration 5206: RMSE=0.0190, MAE=0.0190\n",
      "2025-02-09 13:43:52,739 [13068] INFO     root: Iteration 5207: RMSE=5.2814, MAE=5.2814\n",
      "2025-02-09 13:43:52,859 [13068] INFO     root: Iteration 5208: RMSE=1.5147, MAE=1.5147\n",
      "2025-02-09 13:43:52,972 [13068] INFO     root: Iteration 5209: RMSE=2.2823, MAE=2.2823\n",
      "2025-02-09 13:43:53,095 [13068] INFO     root: Iteration 5210: RMSE=0.5329, MAE=0.5329\n",
      "2025-02-09 13:43:53,229 [13068] INFO     root: Iteration 5211: RMSE=0.6367, MAE=0.6367\n",
      "2025-02-09 13:43:53,357 [13068] INFO     ml_monitor.logging: Starting metrics logging thread...\n",
      "2025-02-09 13:43:53,377 [13068] INFO     root: Iteration 5212: RMSE=2.4681, MAE=2.4681\n",
      "2025-02-09 13:43:53,477 [13068] INFO     root: Iteration 5213: RMSE=1.3227, MAE=1.3227\n",
      "2025-02-09 13:43:53,589 [13068] INFO     root: Iteration 5214: RMSE=1.9834, MAE=1.9834\n",
      "2025-02-09 13:43:53,701 [13068] INFO     root: Iteration 5215: RMSE=2.5983, MAE=2.5983\n",
      "2025-02-09 13:43:53,927 [13068] INFO     root: Iteration 5216: RMSE=0.5028, MAE=0.5028\n",
      "2025-02-09 13:43:54,048 [13068] INFO     root: Iteration 5217: RMSE=2.5983, MAE=2.5983\n",
      "2025-02-09 13:43:54,156 [13068] INFO     root: Iteration 5218: RMSE=3.1092, MAE=3.1092\n",
      "2025-02-09 13:43:54,299 [13068] INFO     root: Iteration 5219: RMSE=1.5289, MAE=1.5289\n",
      "2025-02-09 13:43:54,430 [13068] INFO     root: Iteration 5220: RMSE=2.2319, MAE=2.2319\n",
      "2025-02-09 13:43:54,566 [13068] INFO     root: Iteration 5221: RMSE=1.9954, MAE=1.9954\n",
      "2025-02-09 13:43:54,712 [13068] INFO     root: Iteration 5222: RMSE=2.1281, MAE=2.1281\n",
      "2025-02-09 13:43:54,813 [13068] INFO     root: Iteration 5223: RMSE=1.9834, MAE=1.9834\n",
      "2025-02-09 13:43:54,924 [13068] INFO     root: Iteration 5224: RMSE=1.9024, MAE=1.9024\n",
      "2025-02-09 13:43:55,038 [13068] INFO     root: Iteration 5225: RMSE=2.4681, MAE=2.4681\n",
      "2025-02-09 13:43:55,146 [13068] INFO     root: Iteration 5226: RMSE=3.0048, MAE=3.0048\n",
      "2025-02-09 13:43:55,322 [13068] INFO     root: Iteration 5227: RMSE=0.8295, MAE=0.8295\n",
      "2025-02-09 13:43:55,439 [13068] INFO     root: Iteration 5228: RMSE=0.6863, MAE=0.6863\n",
      "2025-02-09 13:43:55,546 [13068] INFO     root: Iteration 5229: RMSE=1.3937, MAE=1.3937\n",
      "2025-02-09 13:43:55,654 [13068] INFO     root: Iteration 5230: RMSE=0.0894, MAE=0.0894\n",
      "2025-02-09 13:43:55,753 [13068] INFO     root: Iteration 5231: RMSE=7.4122, MAE=7.4122\n",
      "2025-02-09 13:43:55,858 [13068] INFO     root: Iteration 5232: RMSE=5.1385, MAE=5.1385\n",
      "2025-02-09 13:43:55,966 [13068] INFO     root: Iteration 5233: RMSE=0.6820, MAE=0.6820\n",
      "2025-02-09 13:43:56,074 [13068] INFO     root: Iteration 5234: RMSE=0.6004, MAE=0.6004\n",
      "2025-02-09 13:43:56,160 [13068] INFO     root: Iteration 5235: RMSE=4.8742, MAE=4.8742\n",
      "2025-02-09 13:43:56,257 [13068] INFO     root: Iteration 5236: RMSE=0.6277, MAE=0.6277\n",
      "2025-02-09 13:43:56,353 [13068] INFO     root: Iteration 5237: RMSE=15.7679, MAE=15.7679\n",
      "2025-02-09 13:43:56,465 [13068] INFO     root: Iteration 5238: RMSE=1.6668, MAE=1.6668\n",
      "2025-02-09 13:43:56,653 [13068] INFO     root: Iteration 5239: RMSE=3.9035, MAE=3.9035\n",
      "2025-02-09 13:43:56,764 [13068] INFO     root: Iteration 5240: RMSE=0.8295, MAE=0.8295\n",
      "2025-02-09 13:43:56,866 [13068] INFO     root: Iteration 5241: RMSE=2.0594, MAE=2.0594\n",
      "2025-02-09 13:43:56,972 [13068] INFO     root: Iteration 5242: RMSE=1.5289, MAE=1.5289\n",
      "2025-02-09 13:43:57,073 [13068] INFO     root: Iteration 5243: RMSE=1.9880, MAE=1.9880\n",
      "2025-02-09 13:43:57,166 [13068] INFO     root: Iteration 5244: RMSE=0.8295, MAE=0.8295\n",
      "2025-02-09 13:43:57,271 [13068] INFO     root: Iteration 5245: RMSE=4.2619, MAE=4.2619\n",
      "2025-02-09 13:43:57,482 [13068] INFO     root: Iteration 5246: RMSE=3.9228, MAE=3.9228\n",
      "2025-02-09 13:43:57,592 [13068] INFO     root: Iteration 5247: RMSE=0.5329, MAE=0.5329\n",
      "2025-02-09 13:43:57,715 [13068] INFO     root: Iteration 5248: RMSE=2.2319, MAE=2.2319\n",
      "2025-02-09 13:43:57,841 [13068] INFO     root: Iteration 5249: RMSE=6.4895, MAE=6.4895\n",
      "2025-02-09 13:43:57,987 [13068] INFO     root: Iteration 5250: RMSE=1.9834, MAE=1.9834\n",
      "2025-02-09 13:43:58,087 [13068] INFO     root: Iteration 5251: RMSE=0.2922, MAE=0.2922\n",
      "2025-02-09 13:43:58,211 [13068] INFO     root: Iteration 5252: RMSE=0.6367, MAE=0.6367\n",
      "2025-02-09 13:43:58,381 [13068] INFO     ml_monitor.logging: Starting metrics logging thread...\n",
      "2025-02-09 13:43:58,411 [13068] INFO     root: Iteration 5253: RMSE=0.9176, MAE=0.9176\n",
      "2025-02-09 13:43:58,528 [13068] INFO     root: Iteration 5254: RMSE=5.3491, MAE=5.3491\n",
      "2025-02-09 13:43:58,639 [13068] INFO     root: Iteration 5255: RMSE=21.1875, MAE=21.1875\n",
      "2025-02-09 13:43:58,746 [13068] INFO     root: Iteration 5256: RMSE=0.6820, MAE=0.6820\n",
      "2025-02-09 13:43:58,842 [13068] INFO     root: Iteration 5257: RMSE=2.2823, MAE=2.2823\n",
      "2025-02-09 13:43:58,939 [13068] INFO     root: Iteration 5258: RMSE=2.8002, MAE=2.8002\n",
      "2025-02-09 13:43:59,038 [13068] INFO     root: Iteration 5259: RMSE=2.2823, MAE=2.2823\n",
      "2025-02-09 13:43:59,150 [13068] INFO     root: Iteration 5260: RMSE=15.7679, MAE=15.7679\n",
      "2025-02-09 13:43:59,253 [13068] INFO     root: Iteration 5261: RMSE=0.6367, MAE=0.6367\n",
      "2025-02-09 13:43:59,358 [13068] INFO     root: Iteration 5262: RMSE=3.0641, MAE=3.0641\n",
      "2025-02-09 13:43:59,513 [13068] INFO     root: Iteration 5263: RMSE=1.2841, MAE=1.2841\n",
      "2025-02-09 13:43:59,613 [13068] INFO     root: Iteration 5264: RMSE=2.4091, MAE=2.4091\n",
      "2025-02-09 13:43:59,722 [13068] INFO     root: Iteration 5265: RMSE=3.1701, MAE=3.1701\n",
      "2025-02-09 13:43:59,819 [13068] INFO     root: Iteration 5266: RMSE=1.7797, MAE=1.7797\n",
      "2025-02-09 13:43:59,939 [13068] INFO     root: Iteration 5267: RMSE=1.7964, MAE=1.7964\n",
      "2025-02-09 13:44:00,045 [13068] INFO     root: Iteration 5268: RMSE=2.9898, MAE=2.9898\n",
      "2025-02-09 13:44:00,145 [13068] INFO     root: Iteration 5269: RMSE=1.9834, MAE=1.9834\n",
      "2025-02-09 13:44:00,242 [13068] INFO     root: Iteration 5270: RMSE=1.9834, MAE=1.9834\n",
      "2025-02-09 13:44:00,339 [13068] INFO     root: Iteration 5271: RMSE=3.0812, MAE=3.0812\n",
      "2025-02-09 13:44:00,455 [13068] INFO     root: Iteration 5272: RMSE=0.6004, MAE=0.6004\n",
      "2025-02-09 13:44:00,615 [13068] INFO     root: Iteration 5273: RMSE=5.1385, MAE=5.1385\n",
      "2025-02-09 13:44:00,714 [13068] INFO     root: Iteration 5274: RMSE=5.8175, MAE=5.8175\n",
      "2025-02-09 13:44:00,812 [13068] INFO     root: Iteration 5275: RMSE=0.8502, MAE=0.8502\n",
      "2025-02-09 13:44:00,914 [13068] INFO     root: Iteration 5276: RMSE=1.2345, MAE=1.2345\n",
      "2025-02-09 13:44:01,008 [13068] INFO     root: Iteration 5277: RMSE=3.9228, MAE=3.9228\n",
      "2025-02-09 13:44:01,105 [13068] INFO     root: Iteration 5278: RMSE=0.4278, MAE=0.4278\n",
      "2025-02-09 13:44:01,200 [13068] INFO     root: Iteration 5279: RMSE=3.9035, MAE=3.9035\n",
      "2025-02-09 13:44:01,338 [13068] INFO     root: Iteration 5280: RMSE=1.9024, MAE=1.9024\n",
      "2025-02-09 13:44:01,429 [13068] INFO     root: Iteration 5281: RMSE=0.8295, MAE=0.8295\n",
      "2025-02-09 13:44:01,547 [13068] INFO     root: Iteration 5282: RMSE=0.8502, MAE=0.8502\n",
      "2025-02-09 13:44:01,652 [13068] INFO     root: Iteration 5283: RMSE=1.2345, MAE=1.2345\n",
      "2025-02-09 13:44:01,751 [13068] INFO     root: Iteration 5284: RMSE=1.9891, MAE=1.9891\n",
      "2025-02-09 13:44:01,846 [13068] INFO     root: Iteration 5285: RMSE=1.2010, MAE=1.2010\n",
      "2025-02-09 13:44:02,388 [13068] INFO     root: Metrics pushed at iteration 5285. RMSE=1.2010, MAE=1.2010\n",
      "2025-02-09 13:44:02,490 [13068] INFO     root: Iteration 5286: RMSE=6.4895, MAE=6.4895\n",
      "2025-02-09 13:44:02,589 [13068] INFO     root: Iteration 5287: RMSE=1.5289, MAE=1.5289\n",
      "2025-02-09 13:44:02,669 [13068] INFO     root: Iteration 5288: RMSE=1.0341, MAE=1.0341\n",
      "2025-02-09 13:44:02,763 [13068] INFO     root: Iteration 5289: RMSE=0.6277, MAE=0.6277\n",
      "2025-02-09 13:44:02,848 [13068] INFO     root: Iteration 5290: RMSE=1.9891, MAE=1.9891\n",
      "2025-02-09 13:44:02,949 [13068] INFO     root: Iteration 5291: RMSE=0.4053, MAE=0.4053\n",
      "2025-02-09 13:44:03,051 [13068] INFO     root: Iteration 5292: RMSE=2.2324, MAE=2.2324\n",
      "2025-02-09 13:44:03,142 [13068] INFO     root: Iteration 5293: RMSE=1.9880, MAE=1.9880\n",
      "2025-02-09 13:44:03,245 [13068] INFO     root: Iteration 5294: RMSE=0.1636, MAE=0.1636\n",
      "2025-02-09 13:44:03,344 [13068] INFO     root: Iteration 5295: RMSE=1.3227, MAE=1.3227\n",
      "2025-02-09 13:44:03,416 [13068] INFO     ml_monitor.logging: Starting metrics logging thread...\n",
      "2025-02-09 13:44:03,444 [13068] INFO     root: Iteration 5296: RMSE=5.8811, MAE=5.8811\n",
      "2025-02-09 13:44:03,564 [13068] INFO     root: Iteration 5297: RMSE=1.0341, MAE=1.0341\n",
      "2025-02-09 13:44:03,731 [13068] INFO     root: Iteration 5298: RMSE=0.1550, MAE=0.1550\n",
      "2025-02-09 13:44:03,829 [13068] INFO     root: Iteration 5299: RMSE=3.0812, MAE=3.0812\n",
      "2025-02-09 13:44:03,910 [13068] INFO     root: Iteration 5300: RMSE=1.0341, MAE=1.0341\n",
      "2025-02-09 13:44:03,994 [13068] INFO     root: Iteration 5301: RMSE=1.2345, MAE=1.2345\n",
      "2025-02-09 13:44:04,091 [13068] INFO     root: Iteration 5302: RMSE=0.8280, MAE=0.8280\n",
      "2025-02-09 13:44:04,190 [13068] INFO     root: Iteration 5303: RMSE=0.1636, MAE=0.1636\n",
      "2025-02-09 13:44:04,366 [13068] INFO     root: Iteration 5304: RMSE=0.8280, MAE=0.8280\n",
      "2025-02-09 13:44:04,464 [13068] INFO     root: Iteration 5305: RMSE=5.0666, MAE=5.0666\n",
      "2025-02-09 13:44:04,559 [13068] INFO     root: Iteration 5306: RMSE=3.1701, MAE=3.1701\n",
      "2025-02-09 13:44:04,663 [13068] INFO     root: Iteration 5307: RMSE=3.9228, MAE=3.9228\n",
      "2025-02-09 13:44:04,758 [13068] INFO     root: Iteration 5308: RMSE=1.9880, MAE=1.9880\n",
      "2025-02-09 13:44:04,852 [13068] INFO     root: Iteration 5309: RMSE=0.4554, MAE=0.4554\n",
      "2025-02-09 13:44:04,943 [13068] INFO     root: Iteration 5310: RMSE=1.9470, MAE=1.9470\n",
      "2025-02-09 13:44:05,047 [13068] INFO     root: Iteration 5311: RMSE=3.1092, MAE=3.1092\n",
      "2025-02-09 13:44:05,137 [13068] INFO     root: Iteration 5312: RMSE=1.9954, MAE=1.9954\n",
      "2025-02-09 13:44:05,323 [13068] INFO     root: Iteration 5313: RMSE=4.2733, MAE=4.2733\n",
      "2025-02-09 13:44:05,434 [13068] INFO     root: Iteration 5314: RMSE=2.4407, MAE=2.4407\n",
      "2025-02-09 13:44:05,522 [13068] INFO     root: Iteration 5315: RMSE=0.6277, MAE=0.6277\n",
      "2025-02-09 13:44:05,627 [13068] INFO     root: Iteration 5316: RMSE=1.0837, MAE=1.0837\n",
      "2025-02-09 13:44:05,722 [13068] INFO     root: Iteration 5317: RMSE=0.1636, MAE=0.1636\n",
      "2025-02-09 13:44:05,817 [13068] INFO     root: Iteration 5318: RMSE=0.6820, MAE=0.6820\n",
      "2025-02-09 13:44:05,979 [13068] INFO     root: Iteration 5319: RMSE=7.4122, MAE=7.4122\n",
      "2025-02-09 13:44:06,085 [13068] INFO     root: Iteration 5320: RMSE=2.1957, MAE=2.1957\n",
      "2025-02-09 13:44:06,195 [13068] INFO     root: Iteration 5321: RMSE=1.6861, MAE=1.6861\n",
      "2025-02-09 13:44:06,295 [13068] INFO     root: Iteration 5322: RMSE=1.9834, MAE=1.9834\n",
      "2025-02-09 13:44:06,395 [13068] INFO     root: Iteration 5323: RMSE=1.9024, MAE=1.9024\n",
      "2025-02-09 13:44:06,496 [13068] INFO     root: Iteration 5324: RMSE=5.1385, MAE=5.1385\n",
      "2025-02-09 13:44:06,593 [13068] INFO     root: Iteration 5325: RMSE=5.1399, MAE=5.1399\n",
      "2025-02-09 13:44:06,695 [13068] INFO     root: Iteration 5326: RMSE=5.8175, MAE=5.8175\n",
      "2025-02-09 13:44:06,846 [13068] INFO     root: Iteration 5327: RMSE=3.1092, MAE=3.1092\n",
      "2025-02-09 13:44:06,951 [13068] INFO     root: Iteration 5328: RMSE=7.1962, MAE=7.1962\n",
      "2025-02-09 13:44:07,041 [13068] INFO     root: Iteration 5329: RMSE=1.5289, MAE=1.5289\n",
      "2025-02-09 13:44:07,135 [13068] INFO     root: Iteration 5330: RMSE=2.9898, MAE=2.9898\n",
      "2025-02-09 13:44:07,230 [13068] INFO     root: Iteration 5331: RMSE=2.5855, MAE=2.5855\n",
      "2025-02-09 13:44:07,337 [13068] INFO     root: Iteration 5332: RMSE=0.0894, MAE=0.0894\n",
      "2025-02-09 13:44:07,433 [13068] INFO     root: Iteration 5333: RMSE=0.0894, MAE=0.0894\n",
      "2025-02-09 13:44:07,522 [13068] INFO     root: Iteration 5334: RMSE=1.9891, MAE=1.9891\n",
      "2025-02-09 13:44:07,652 [13068] INFO     root: Iteration 5335: RMSE=2.5983, MAE=2.5983\n",
      "2025-02-09 13:44:07,756 [13068] INFO     root: Iteration 5336: RMSE=2.1957, MAE=2.1957\n",
      "2025-02-09 13:44:07,841 [13068] INFO     root: Iteration 5337: RMSE=1.7964, MAE=1.7964\n",
      "2025-02-09 13:44:07,930 [13068] INFO     root: Iteration 5338: RMSE=3.0048, MAE=3.0048\n",
      "2025-02-09 13:44:08,026 [13068] INFO     root: Iteration 5339: RMSE=3.9035, MAE=3.9035\n",
      "2025-02-09 13:44:08,113 [13068] INFO     root: Iteration 5340: RMSE=3.6498, MAE=3.6498\n",
      "2025-02-09 13:44:08,208 [13068] INFO     root: Iteration 5341: RMSE=2.2823, MAE=2.2823\n",
      "2025-02-09 13:44:08,298 [13068] INFO     root: Iteration 5342: RMSE=1.0341, MAE=1.0341\n",
      "2025-02-09 13:44:08,386 [13068] INFO     root: Iteration 5343: RMSE=2.8002, MAE=2.8002\n",
      "2025-02-09 13:44:08,427 [13068] INFO     ml_monitor.logging: Starting metrics logging thread...\n",
      "2025-02-09 13:44:08,493 [13068] INFO     root: Iteration 5344: RMSE=5.3491, MAE=5.3491\n",
      "2025-02-09 13:44:08,589 [13068] INFO     root: Iteration 5345: RMSE=3.1701, MAE=3.1701\n",
      "2025-02-09 13:44:08,695 [13068] INFO     root: Iteration 5346: RMSE=1.0837, MAE=1.0837\n",
      "2025-02-09 13:44:08,795 [13068] INFO     root: Iteration 5347: RMSE=1.9834, MAE=1.9834\n",
      "2025-02-09 13:44:08,939 [13068] INFO     root: Iteration 5348: RMSE=0.0190, MAE=0.0190\n",
      "2025-02-09 13:44:09,045 [13068] INFO     root: Iteration 5349: RMSE=6.5607, MAE=6.5607\n",
      "2025-02-09 13:44:09,136 [13068] INFO     root: Iteration 5350: RMSE=1.9374, MAE=1.9374\n",
      "2025-02-09 13:44:09,253 [13068] INFO     root: Iteration 5351: RMSE=0.0329, MAE=0.0329\n",
      "2025-02-09 13:44:09,365 [13068] INFO     root: Iteration 5352: RMSE=0.6863, MAE=0.6863\n",
      "2025-02-09 13:44:09,474 [13068] INFO     root: Iteration 5353: RMSE=1.9834, MAE=1.9834\n",
      "2025-02-09 13:44:09,580 [13068] INFO     root: Iteration 5354: RMSE=2.2823, MAE=2.2823\n",
      "2025-02-09 13:44:09,766 [13068] INFO     root: Iteration 5355: RMSE=5.3491, MAE=5.3491\n",
      "2025-02-09 13:44:09,870 [13068] INFO     root: Iteration 5356: RMSE=0.2356, MAE=0.2356\n",
      "2025-02-09 13:44:09,976 [13068] INFO     root: Iteration 5357: RMSE=1.0525, MAE=1.0525\n",
      "2025-02-09 13:44:10,094 [13068] INFO     root: Iteration 5358: RMSE=2.2319, MAE=2.2319\n",
      "2025-02-09 13:44:10,203 [13068] INFO     root: Iteration 5359: RMSE=3.9228, MAE=3.9228\n",
      "2025-02-09 13:44:10,316 [13068] INFO     root: Iteration 5360: RMSE=21.1875, MAE=21.1875\n",
      "2025-02-09 13:44:10,494 [13068] INFO     root: Iteration 5361: RMSE=3.0048, MAE=3.0048\n",
      "2025-02-09 13:44:10,721 [13068] INFO     root: Iteration 5362: RMSE=0.4053, MAE=0.4053\n",
      "2025-02-09 13:44:11,051 [13068] INFO     root: Iteration 5363: RMSE=1.5147, MAE=1.5147\n",
      "2025-02-09 13:44:11,163 [13068] INFO     root: Iteration 5364: RMSE=0.5329, MAE=0.5329\n",
      "2025-02-09 13:44:11,296 [13068] INFO     root: Iteration 5365: RMSE=5.3491, MAE=5.3491\n",
      "2025-02-09 13:44:11,417 [13068] INFO     root: Iteration 5366: RMSE=0.6863, MAE=0.6863\n",
      "2025-02-09 13:44:11,587 [13068] INFO     root: Iteration 5367: RMSE=1.2010, MAE=1.2010\n",
      "2025-02-09 13:44:11,728 [13068] INFO     root: Iteration 5368: RMSE=1.3937, MAE=1.3937\n",
      "2025-02-09 13:44:11,905 [13068] INFO     root: Iteration 5369: RMSE=1.9834, MAE=1.9834\n",
      "2025-02-09 13:44:12,622 [13068] INFO     root: Metrics pushed at iteration 5369. RMSE=1.9834, MAE=1.9834\n",
      "2025-02-09 13:44:12,736 [13068] INFO     root: Iteration 5370: RMSE=2.0594, MAE=2.0594\n",
      "2025-02-09 13:44:12,835 [13068] INFO     root: Iteration 5371: RMSE=4.2619, MAE=4.2619\n",
      "2025-02-09 13:44:13,003 [13068] INFO     root: Iteration 5372: RMSE=0.1636, MAE=0.1636\n",
      "2025-02-09 13:44:13,207 [13068] INFO     root: Iteration 5373: RMSE=5.2814, MAE=5.2814\n",
      "2025-02-09 13:44:13,334 [13068] INFO     root: Iteration 5374: RMSE=2.7746, MAE=2.7746\n",
      "2025-02-09 13:44:13,433 [13068] INFO     root: Iteration 5375: RMSE=0.6863, MAE=0.6863\n",
      "2025-02-09 13:44:13,457 [13068] INFO     ml_monitor.logging: Starting metrics logging thread...\n",
      "2025-02-09 13:44:13,543 [13068] INFO     root: Iteration 5376: RMSE=1.0783, MAE=1.0783\n",
      "2025-02-09 13:44:13,639 [13068] INFO     root: Iteration 5377: RMSE=7.1962, MAE=7.1962\n",
      "2025-02-09 13:44:14,001 [13068] INFO     root: Iteration 5378: RMSE=7.4122, MAE=7.4122\n",
      "2025-02-09 13:44:14,169 [13068] INFO     root: Iteration 5379: RMSE=1.9470, MAE=1.9470\n",
      "2025-02-09 13:44:14,295 [13068] INFO     root: Iteration 5380: RMSE=0.8280, MAE=0.8280\n",
      "2025-02-09 13:44:14,409 [13068] INFO     root: Iteration 5381: RMSE=5.0666, MAE=5.0666\n",
      "2025-02-09 13:44:14,543 [13068] INFO     root: Iteration 5382: RMSE=0.4554, MAE=0.4554\n",
      "2025-02-09 13:44:14,643 [13068] INFO     root: Iteration 5383: RMSE=4.2530, MAE=4.2530\n",
      "2025-02-09 13:44:14,832 [13068] INFO     root: Iteration 5384: RMSE=3.0812, MAE=3.0812\n",
      "2025-02-09 13:44:14,946 [13068] INFO     root: Iteration 5385: RMSE=0.8502, MAE=0.8502\n",
      "2025-02-09 13:44:15,058 [13068] INFO     root: Iteration 5386: RMSE=0.6863, MAE=0.6863\n",
      "2025-02-09 13:44:15,173 [13068] INFO     root: Iteration 5387: RMSE=5.0666, MAE=5.0666\n",
      "2025-02-09 13:44:15,307 [13068] INFO     root: Iteration 5388: RMSE=2.2324, MAE=2.2324\n",
      "2025-02-09 13:44:15,479 [13068] INFO     root: Iteration 5389: RMSE=0.2922, MAE=0.2922\n",
      "2025-02-09 13:44:15,590 [13068] INFO     root: Iteration 5390: RMSE=0.9176, MAE=0.9176\n",
      "2025-02-09 13:44:15,713 [13068] INFO     root: Iteration 5391: RMSE=0.1636, MAE=0.1636\n",
      "2025-02-09 13:44:15,845 [13068] INFO     root: Iteration 5392: RMSE=0.4278, MAE=0.4278\n",
      "2025-02-09 13:44:15,959 [13068] INFO     root: Iteration 5393: RMSE=3.0812, MAE=3.0812\n",
      "2025-02-09 13:44:16,072 [13068] INFO     root: Iteration 5394: RMSE=3.0641, MAE=3.0641\n",
      "2025-02-09 13:44:16,407 [13068] INFO     root: Iteration 5395: RMSE=4.3271, MAE=4.3271\n",
      "2025-02-09 13:44:16,557 [13068] INFO     root: Iteration 5396: RMSE=6.3484, MAE=6.3484\n",
      "2025-02-09 13:44:16,670 [13068] INFO     root: Iteration 5397: RMSE=1.5289, MAE=1.5289\n",
      "2025-02-09 13:44:16,821 [13068] INFO     root: Iteration 5398: RMSE=2.0594, MAE=2.0594\n",
      "2025-02-09 13:44:16,924 [13068] INFO     root: Iteration 5399: RMSE=4.3271, MAE=4.3271\n",
      "2025-02-09 13:44:17,019 [13068] INFO     root: Iteration 5400: RMSE=2.1020, MAE=2.1020\n",
      "2025-02-09 13:44:17,115 [13068] INFO     root: Iteration 5401: RMSE=2.8002, MAE=2.8002\n",
      "2025-02-09 13:44:17,313 [13068] INFO     root: Iteration 5402: RMSE=5.0666, MAE=5.0666\n",
      "2025-02-09 13:44:17,416 [13068] INFO     root: Iteration 5403: RMSE=2.5855, MAE=2.5855\n",
      "2025-02-09 13:44:17,509 [13068] INFO     root: Iteration 5404: RMSE=0.0894, MAE=0.0894\n",
      "2025-02-09 13:44:17,633 [13068] INFO     root: Iteration 5405: RMSE=3.0641, MAE=3.0641\n",
      "2025-02-09 13:44:17,751 [13068] INFO     root: Iteration 5406: RMSE=2.9898, MAE=2.9898\n",
      "2025-02-09 13:44:17,858 [13068] INFO     root: Iteration 5407: RMSE=2.4407, MAE=2.4407\n",
      "2025-02-09 13:44:18,079 [13068] INFO     root: Iteration 5408: RMSE=0.0329, MAE=0.0329\n",
      "2025-02-09 13:44:18,186 [13068] INFO     root: Iteration 5409: RMSE=1.9470, MAE=1.9470\n",
      "2025-02-09 13:44:18,309 [13068] INFO     root: Iteration 5410: RMSE=0.8295, MAE=0.8295\n",
      "2025-02-09 13:44:18,410 [13068] INFO     root: Iteration 5411: RMSE=4.3271, MAE=4.3271\n",
      "2025-02-09 13:44:18,492 [13068] INFO     ml_monitor.logging: Starting metrics logging thread...\n",
      "2025-02-09 13:44:18,521 [13068] INFO     root: Iteration 5412: RMSE=2.4407, MAE=2.4407\n",
      "2025-02-09 13:44:18,627 [13068] INFO     root: Iteration 5413: RMSE=0.1636, MAE=0.1636\n",
      "2025-02-09 13:44:18,731 [13068] INFO     root: Iteration 5414: RMSE=5.1399, MAE=5.1399\n",
      "2025-02-09 13:44:18,828 [13068] INFO     root: Iteration 5415: RMSE=2.4091, MAE=2.4091\n",
      "2025-02-09 13:44:18,996 [13068] INFO     root: Iteration 5416: RMSE=0.8360, MAE=0.8360\n",
      "2025-02-09 13:44:19,111 [13068] INFO     root: Iteration 5417: RMSE=7.1880, MAE=7.1880\n",
      "2025-02-09 13:44:19,241 [13068] INFO     root: Iteration 5418: RMSE=1.6861, MAE=1.6861\n",
      "2025-02-09 13:44:19,348 [13068] INFO     root: Iteration 5419: RMSE=0.8280, MAE=0.8280\n",
      "2025-02-09 13:44:19,443 [13068] INFO     root: Iteration 5420: RMSE=21.1875, MAE=21.1875\n",
      "2025-02-09 13:44:19,635 [13068] INFO     root: Iteration 5421: RMSE=2.8002, MAE=2.8002\n",
      "2025-02-09 13:44:19,736 [13068] INFO     root: Iteration 5422: RMSE=4.2530, MAE=4.2530\n",
      "2025-02-09 13:44:19,832 [13068] INFO     root: Iteration 5423: RMSE=0.4053, MAE=0.4053\n",
      "2025-02-09 13:44:19,910 [13068] INFO     root: Iteration 5424: RMSE=6.5607, MAE=6.5607\n",
      "2025-02-09 13:44:20,001 [13068] INFO     root: Iteration 5425: RMSE=0.5028, MAE=0.5028\n",
      "2025-02-09 13:44:20,191 [13068] INFO     root: Iteration 5426: RMSE=0.6277, MAE=0.6277\n",
      "2025-02-09 13:44:20,313 [13068] INFO     root: Iteration 5427: RMSE=2.9898, MAE=2.9898\n",
      "2025-02-09 13:44:20,424 [13068] INFO     root: Iteration 5428: RMSE=0.5423, MAE=0.5423\n",
      "2025-02-09 13:44:20,586 [13068] INFO     root: Iteration 5429: RMSE=0.5423, MAE=0.5423\n",
      "2025-02-09 13:44:21,441 [13068] INFO     root: Iteration 5430: RMSE=15.7679, MAE=15.7679\n",
      "2025-02-09 13:44:21,710 [13068] INFO     root: Iteration 5431: RMSE=4.3271, MAE=4.3271\n",
      "2025-02-09 13:44:22,115 [13068] INFO     root: Iteration 5432: RMSE=1.2010, MAE=1.2010\n",
      "2025-02-09 13:44:22,823 [13068] INFO     root: Metrics pushed at iteration 5432. RMSE=1.2010, MAE=1.2010\n",
      "2025-02-09 13:44:22,918 [13068] INFO     root: Iteration 5433: RMSE=1.6861, MAE=1.6861\n",
      "2025-02-09 13:44:23,015 [13068] INFO     root: Iteration 5434: RMSE=1.5147, MAE=1.5147\n",
      "2025-02-09 13:44:23,121 [13068] INFO     root: Iteration 5435: RMSE=0.1640, MAE=0.1640\n",
      "2025-02-09 13:44:23,212 [13068] INFO     root: Iteration 5436: RMSE=1.9880, MAE=1.9880\n",
      "2025-02-09 13:44:23,361 [13068] INFO     root: Iteration 5437: RMSE=0.2356, MAE=0.2356\n",
      "2025-02-09 13:44:23,506 [13068] INFO     ml_monitor.logging: Starting metrics logging thread...\n",
      "2025-02-09 13:44:23,517 [13068] INFO     root: Iteration 5438: RMSE=0.0894, MAE=0.0894\n",
      "2025-02-09 13:44:23,611 [13068] INFO     root: Iteration 5439: RMSE=7.1962, MAE=7.1962\n",
      "2025-02-09 13:44:23,712 [13068] INFO     root: Iteration 5440: RMSE=1.5147, MAE=1.5147\n",
      "2025-02-09 13:44:23,808 [13068] INFO     root: Iteration 5441: RMSE=4.8742, MAE=4.8742\n",
      "2025-02-09 13:44:23,908 [13068] INFO     root: Iteration 5442: RMSE=7.4122, MAE=7.4122\n",
      "2025-02-09 13:44:24,003 [13068] INFO     root: Iteration 5443: RMSE=1.3227, MAE=1.3227\n",
      "2025-02-09 13:44:24,179 [13068] INFO     root: Iteration 5444: RMSE=1.7797, MAE=1.7797\n",
      "2025-02-09 13:44:24,281 [13068] INFO     root: Iteration 5445: RMSE=1.7797, MAE=1.7797\n",
      "2025-02-09 13:44:24,382 [13068] INFO     root: Iteration 5446: RMSE=1.3227, MAE=1.3227\n",
      "2025-02-09 13:44:24,509 [13068] INFO     root: Iteration 5447: RMSE=1.9834, MAE=1.9834\n",
      "2025-02-09 13:44:24,628 [13068] INFO     root: Iteration 5448: RMSE=1.5147, MAE=1.5147\n",
      "2025-02-09 13:44:24,848 [13068] INFO     root: Iteration 5449: RMSE=1.0341, MAE=1.0341\n",
      "2025-02-09 13:44:24,973 [13068] INFO     root: Iteration 5450: RMSE=0.6277, MAE=0.6277\n",
      "2025-02-09 13:44:25,073 [13068] INFO     root: Iteration 5451: RMSE=1.3937, MAE=1.3937\n",
      "2025-02-09 13:44:25,192 [13068] INFO     root: Iteration 5452: RMSE=0.1636, MAE=0.1636\n",
      "2025-02-09 13:44:25,289 [13068] INFO     root: Iteration 5453: RMSE=4.2733, MAE=4.2733\n",
      "2025-02-09 13:44:25,408 [13068] INFO     root: Iteration 5454: RMSE=1.5147, MAE=1.5147\n",
      "2025-02-09 13:44:25,614 [13068] INFO     root: Iteration 5455: RMSE=0.6820, MAE=0.6820\n",
      "2025-02-09 13:44:25,839 [13068] INFO     root: Iteration 5456: RMSE=0.8360, MAE=0.8360\n",
      "2025-02-09 13:44:26,058 [13068] INFO     root: Iteration 5457: RMSE=4.3271, MAE=4.3271\n",
      "2025-02-09 13:44:26,302 [13068] INFO     root: Iteration 5458: RMSE=0.1640, MAE=0.1640\n",
      "2025-02-09 13:44:26,455 [13068] INFO     root: Iteration 5459: RMSE=0.9201, MAE=0.9201\n",
      "2025-02-09 13:44:26,575 [13068] INFO     root: Iteration 5460: RMSE=4.2530, MAE=4.2530\n",
      "2025-02-09 13:44:26,737 [13068] INFO     root: Iteration 5461: RMSE=1.6861, MAE=1.6861\n",
      "2025-02-09 13:44:26,832 [13068] INFO     root: Iteration 5462: RMSE=0.4811, MAE=0.4811\n",
      "2025-02-09 13:44:26,929 [13068] INFO     root: Iteration 5463: RMSE=4.2530, MAE=4.2530\n",
      "2025-02-09 13:44:27,031 [13068] INFO     root: Iteration 5464: RMSE=15.7679, MAE=15.7679\n",
      "2025-02-09 13:44:27,123 [13068] INFO     root: Iteration 5465: RMSE=2.2823, MAE=2.2823\n",
      "2025-02-09 13:44:27,226 [13068] INFO     root: Iteration 5466: RMSE=2.7746, MAE=2.7746\n",
      "2025-02-09 13:44:27,324 [13068] INFO     root: Iteration 5467: RMSE=0.9201, MAE=0.9201\n",
      "2025-02-09 13:44:27,502 [13068] INFO     root: Iteration 5468: RMSE=5.1399, MAE=5.1399\n",
      "2025-02-09 13:44:27,605 [13068] INFO     root: Iteration 5469: RMSE=2.1020, MAE=2.1020\n",
      "2025-02-09 13:44:27,708 [13068] INFO     root: Iteration 5470: RMSE=2.2823, MAE=2.2823\n",
      "2025-02-09 13:44:27,809 [13068] INFO     root: Iteration 5471: RMSE=1.0525, MAE=1.0525\n",
      "2025-02-09 13:44:27,900 [13068] INFO     root: Iteration 5472: RMSE=4.8742, MAE=4.8742\n",
      "2025-02-09 13:44:27,994 [13068] INFO     root: Iteration 5473: RMSE=3.1701, MAE=3.1701\n",
      "2025-02-09 13:44:28,102 [13068] INFO     root: Iteration 5474: RMSE=3.0812, MAE=3.0812\n",
      "2025-02-09 13:44:28,326 [13068] INFO     root: Iteration 5475: RMSE=0.2356, MAE=0.2356\n",
      "2025-02-09 13:44:28,438 [13068] INFO     root: Iteration 5476: RMSE=1.2010, MAE=1.2010\n",
      "2025-02-09 13:44:28,558 [13068] INFO     ml_monitor.logging: Starting metrics logging thread...\n",
      "2025-02-09 13:44:28,706 [13068] INFO     root: Iteration 5477: RMSE=0.1550, MAE=0.1550\n",
      "2025-02-09 13:44:29,372 [13068] INFO     root: Iteration 5478: RMSE=3.0048, MAE=3.0048\n",
      "2025-02-09 13:44:29,638 [13068] INFO     root: Iteration 5479: RMSE=2.1281, MAE=2.1281\n",
      "2025-02-09 13:44:29,837 [13068] INFO     root: Iteration 5480: RMSE=2.1281, MAE=2.1281\n",
      "2025-02-09 13:44:29,959 [13068] INFO     root: Iteration 5481: RMSE=1.2841, MAE=1.2841\n",
      "2025-02-09 13:44:30,065 [13068] INFO     root: Iteration 5482: RMSE=3.0641, MAE=3.0641\n",
      "2025-02-09 13:44:30,178 [13068] INFO     root: Iteration 5483: RMSE=3.9228, MAE=3.9228\n",
      "2025-02-09 13:44:30,297 [13068] INFO     root: Iteration 5484: RMSE=0.4554, MAE=0.4554\n",
      "2025-02-09 13:44:30,418 [13068] INFO     root: Iteration 5485: RMSE=0.1550, MAE=0.1550\n",
      "2025-02-09 13:44:30,614 [13068] INFO     root: Iteration 5486: RMSE=3.2950, MAE=3.2950\n",
      "2025-02-09 13:44:30,726 [13068] INFO     root: Iteration 5487: RMSE=0.0894, MAE=0.0894\n",
      "2025-02-09 13:44:30,862 [13068] INFO     root: Iteration 5488: RMSE=2.9898, MAE=2.9898\n",
      "2025-02-09 13:44:30,980 [13068] INFO     root: Iteration 5489: RMSE=1.9374, MAE=1.9374\n",
      "2025-02-09 13:44:31,104 [13068] INFO     root: Iteration 5490: RMSE=1.2841, MAE=1.2841\n",
      "2025-02-09 13:44:31,208 [13068] INFO     root: Iteration 5491: RMSE=0.1636, MAE=0.1636\n",
      "2025-02-09 13:44:31,392 [13068] INFO     root: Iteration 5492: RMSE=1.9470, MAE=1.9470\n",
      "2025-02-09 13:44:31,692 [13068] INFO     root: Iteration 5493: RMSE=0.1636, MAE=0.1636\n",
      "2025-02-09 13:44:31,933 [13068] INFO     root: Iteration 5494: RMSE=0.1636, MAE=0.1636\n",
      "2025-02-09 13:44:32,069 [13068] INFO     root: Iteration 5495: RMSE=1.3937, MAE=1.3937\n",
      "2025-02-09 13:44:32,208 [13068] INFO     root: Iteration 5496: RMSE=0.6863, MAE=0.6863\n",
      "2025-02-09 13:44:32,811 [13068] INFO     root: Metrics pushed at iteration 5496. RMSE=0.6863, MAE=0.6863\n",
      "2025-02-09 13:44:32,972 [13068] INFO     root: Iteration 5497: RMSE=0.9176, MAE=0.9176\n",
      "2025-02-09 13:44:33,084 [13068] INFO     root: Iteration 5498: RMSE=2.5983, MAE=2.5983\n",
      "2025-02-09 13:44:33,350 [13068] INFO     root: Iteration 5499: RMSE=0.8360, MAE=0.8360\n",
      "2025-02-09 13:44:33,457 [13068] INFO     root: Iteration 5500: RMSE=0.4554, MAE=0.4554\n",
      "2025-02-09 13:44:33,571 [13068] INFO     root: Iteration 5501: RMSE=1.9374, MAE=1.9374\n",
      "2025-02-09 13:44:33,653 [13068] INFO     ml_monitor.logging: Starting metrics logging thread...\n",
      "2025-02-09 13:44:33,687 [13068] INFO     root: Iteration 5502: RMSE=0.6004, MAE=0.6004\n",
      "2025-02-09 13:44:33,814 [13068] INFO     root: Iteration 5503: RMSE=2.7728, MAE=2.7728\n",
      "2025-02-09 13:44:33,920 [13068] INFO     root: Iteration 5504: RMSE=1.6861, MAE=1.6861\n",
      "2025-02-09 13:44:34,321 [13068] INFO     root: Iteration 5505: RMSE=2.1957, MAE=2.1957\n",
      "2025-02-09 13:44:34,426 [13068] INFO     root: Iteration 5506: RMSE=0.9690, MAE=0.9690\n",
      "2025-02-09 13:44:34,529 [13068] INFO     root: Iteration 5507: RMSE=0.0190, MAE=0.0190\n",
      "2025-02-09 13:44:34,621 [13068] INFO     root: Iteration 5508: RMSE=6.4895, MAE=6.4895\n",
      "2025-02-09 13:44:34,735 [13068] INFO     root: Iteration 5509: RMSE=2.5983, MAE=2.5983\n",
      "2025-02-09 13:44:34,840 [13068] INFO     root: Iteration 5510: RMSE=0.6863, MAE=0.6863\n",
      "2025-02-09 13:44:34,953 [13068] INFO     root: Iteration 5511: RMSE=0.6820, MAE=0.6820\n",
      "2025-02-09 13:44:35,068 [13068] INFO     root: Iteration 5512: RMSE=5.8811, MAE=5.8811\n",
      "2025-02-09 13:44:35,237 [13068] INFO     root: Iteration 5513: RMSE=0.9176, MAE=0.9176\n",
      "2025-02-09 13:44:35,361 [13068] INFO     root: Iteration 5514: RMSE=0.5423, MAE=0.5423\n",
      "2025-02-09 13:44:35,474 [13068] INFO     root: Iteration 5515: RMSE=4.8742, MAE=4.8742\n",
      "2025-02-09 13:44:35,571 [13068] INFO     root: Iteration 5516: RMSE=1.6861, MAE=1.6861\n",
      "2025-02-09 13:44:35,672 [13068] INFO     root: Iteration 5517: RMSE=4.8742, MAE=4.8742\n",
      "2025-02-09 13:44:35,784 [13068] INFO     root: Iteration 5518: RMSE=0.9176, MAE=0.9176\n",
      "2025-02-09 13:44:35,893 [13068] INFO     root: Iteration 5519: RMSE=0.4554, MAE=0.4554\n",
      "2025-02-09 13:44:36,018 [13068] INFO     root: Iteration 5520: RMSE=0.2445, MAE=0.2445\n",
      "2025-02-09 13:44:36,123 [13068] INFO     root: Iteration 5521: RMSE=0.5423, MAE=0.5423\n",
      "2025-02-09 13:44:36,302 [13068] INFO     root: Iteration 5522: RMSE=5.8811, MAE=5.8811\n",
      "2025-02-09 13:44:36,397 [13068] INFO     root: Iteration 5523: RMSE=0.5423, MAE=0.5423\n",
      "2025-02-09 13:44:36,494 [13068] INFO     root: Iteration 5524: RMSE=6.5607, MAE=6.5607\n",
      "2025-02-09 13:44:36,595 [13068] INFO     root: Iteration 5525: RMSE=2.2823, MAE=2.2823\n",
      "2025-02-09 13:44:36,712 [13068] INFO     root: Iteration 5526: RMSE=0.4053, MAE=0.4053\n",
      "2025-02-09 13:44:36,815 [13068] INFO     root: Iteration 5527: RMSE=2.2324, MAE=2.2324\n",
      "2025-02-09 13:44:36,915 [13068] INFO     root: Iteration 5528: RMSE=0.0190, MAE=0.0190\n",
      "2025-02-09 13:44:37,081 [13068] INFO     root: Iteration 5529: RMSE=0.5423, MAE=0.5423\n",
      "2025-02-09 13:44:37,187 [13068] INFO     root: Iteration 5530: RMSE=0.4554, MAE=0.4554\n",
      "2025-02-09 13:44:37,286 [13068] INFO     root: Iteration 5531: RMSE=4.2619, MAE=4.2619\n",
      "2025-02-09 13:44:37,401 [13068] INFO     root: Iteration 5532: RMSE=1.9024, MAE=1.9024\n",
      "2025-02-09 13:44:37,514 [13068] INFO     root: Iteration 5533: RMSE=0.4278, MAE=0.4278\n",
      "2025-02-09 13:44:37,609 [13068] INFO     root: Iteration 5534: RMSE=1.6668, MAE=1.6668\n",
      "2025-02-09 13:44:37,729 [13068] INFO     root: Iteration 5535: RMSE=1.0525, MAE=1.0525\n",
      "2025-02-09 13:44:37,824 [13068] INFO     root: Iteration 5536: RMSE=0.8502, MAE=0.8502\n",
      "2025-02-09 13:44:37,924 [13068] INFO     root: Iteration 5537: RMSE=0.9510, MAE=0.9510\n",
      "2025-02-09 13:44:38,101 [13068] INFO     root: Iteration 5538: RMSE=2.1957, MAE=2.1957\n",
      "2025-02-09 13:44:38,199 [13068] INFO     root: Iteration 5539: RMSE=3.2372, MAE=3.2372\n",
      "2025-02-09 13:44:38,301 [13068] INFO     root: Iteration 5540: RMSE=0.4811, MAE=0.4811\n",
      "2025-02-09 13:44:38,392 [13068] INFO     root: Iteration 5541: RMSE=0.5423, MAE=0.5423\n",
      "2025-02-09 13:44:38,493 [13068] INFO     root: Iteration 5542: RMSE=0.6367, MAE=0.6367\n",
      "2025-02-09 13:44:38,602 [13068] INFO     root: Iteration 5543: RMSE=3.2950, MAE=3.2950\n",
      "2025-02-09 13:44:38,672 [13068] INFO     ml_monitor.logging: Starting metrics logging thread...\n",
      "2025-02-09 13:44:38,706 [13068] INFO     root: Iteration 5544: RMSE=1.9954, MAE=1.9954\n",
      "2025-02-09 13:44:38,800 [13068] INFO     root: Iteration 5545: RMSE=1.7964, MAE=1.7964\n",
      "2025-02-09 13:44:38,892 [13068] INFO     root: Iteration 5546: RMSE=5.8175, MAE=5.8175\n",
      "2025-02-09 13:44:38,983 [13068] INFO     root: Iteration 5547: RMSE=4.2619, MAE=4.2619\n",
      "2025-02-09 13:44:39,178 [13068] INFO     root: Iteration 5548: RMSE=0.5423, MAE=0.5423\n",
      "2025-02-09 13:44:39,286 [13068] INFO     root: Iteration 5549: RMSE=5.8175, MAE=5.8175\n",
      "2025-02-09 13:44:39,386 [13068] INFO     root: Iteration 5550: RMSE=0.8295, MAE=0.8295\n",
      "2025-02-09 13:44:39,486 [13068] INFO     root: Iteration 5551: RMSE=2.5983, MAE=2.5983\n",
      "2025-02-09 13:44:39,578 [13068] INFO     root: Iteration 5552: RMSE=3.9228, MAE=3.9228\n",
      "2025-02-09 13:44:39,669 [13068] INFO     root: Iteration 5553: RMSE=4.2733, MAE=4.2733\n",
      "2025-02-09 13:44:39,776 [13068] INFO     root: Iteration 5554: RMSE=3.9035, MAE=3.9035\n",
      "2025-02-09 13:44:39,863 [13068] INFO     root: Iteration 5555: RMSE=0.6863, MAE=0.6863\n",
      "2025-02-09 13:44:39,950 [13068] INFO     root: Iteration 5556: RMSE=1.9891, MAE=1.9891\n",
      "2025-02-09 13:44:40,041 [13068] INFO     root: Iteration 5557: RMSE=0.2922, MAE=0.2922\n",
      "2025-02-09 13:44:40,136 [13068] INFO     root: Iteration 5558: RMSE=1.0525, MAE=1.0525\n",
      "2025-02-09 13:44:40,241 [13068] INFO     root: Iteration 5559: RMSE=0.1636, MAE=0.1636\n",
      "2025-02-09 13:44:40,351 [13068] INFO     root: Iteration 5560: RMSE=2.4091, MAE=2.4091\n",
      "2025-02-09 13:44:40,459 [13068] INFO     root: Iteration 5561: RMSE=15.7679, MAE=15.7679\n",
      "2025-02-09 13:44:40,604 [13068] INFO     root: Iteration 5562: RMSE=1.9954, MAE=1.9954\n",
      "2025-02-09 13:44:40,713 [13068] INFO     root: Iteration 5563: RMSE=3.6498, MAE=3.6498\n",
      "2025-02-09 13:44:40,910 [13068] INFO     root: Iteration 5564: RMSE=5.2814, MAE=5.2814\n",
      "2025-02-09 13:44:41,018 [13068] INFO     root: Iteration 5565: RMSE=0.9510, MAE=0.9510\n",
      "2025-02-09 13:44:41,132 [13068] INFO     root: Iteration 5566: RMSE=2.2823, MAE=2.2823\n",
      "2025-02-09 13:44:41,230 [13068] INFO     root: Iteration 5567: RMSE=3.0641, MAE=3.0641\n",
      "2025-02-09 13:44:41,323 [13068] INFO     root: Iteration 5568: RMSE=0.4811, MAE=0.4811\n",
      "2025-02-09 13:44:41,446 [13068] INFO     root: Iteration 5569: RMSE=2.1957, MAE=2.1957\n",
      "2025-02-09 13:44:41,540 [13068] INFO     root: Iteration 5570: RMSE=0.1136, MAE=0.1136\n",
      "2025-02-09 13:44:41,648 [13068] INFO     root: Iteration 5571: RMSE=0.8295, MAE=0.8295\n",
      "2025-02-09 13:44:41,771 [13068] INFO     root: Iteration 5572: RMSE=4.2733, MAE=4.2733\n",
      "2025-02-09 13:44:41,999 [13068] INFO     root: Iteration 5573: RMSE=2.2319, MAE=2.2319\n",
      "2025-02-09 13:44:42,111 [13068] INFO     root: Iteration 5574: RMSE=1.0341, MAE=1.0341\n",
      "2025-02-09 13:44:42,208 [13068] INFO     root: Iteration 5575: RMSE=2.4091, MAE=2.4091\n",
      "2025-02-09 13:44:42,331 [13068] INFO     root: Iteration 5576: RMSE=0.4554, MAE=0.4554\n",
      "2025-02-09 13:44:42,868 [13068] INFO     root: Metrics pushed at iteration 5576. RMSE=0.4554, MAE=0.4554\n",
      "2025-02-09 13:44:42,980 [13068] INFO     root: Iteration 5577: RMSE=2.1281, MAE=2.1281\n",
      "2025-02-09 13:44:43,075 [13068] INFO     root: Iteration 5578: RMSE=2.1020, MAE=2.1020\n",
      "2025-02-09 13:44:43,235 [13068] INFO     root: Iteration 5579: RMSE=1.5289, MAE=1.5289\n",
      "2025-02-09 13:44:43,325 [13068] INFO     root: Iteration 5580: RMSE=5.3491, MAE=5.3491\n",
      "2025-02-09 13:44:43,414 [13068] INFO     root: Iteration 5581: RMSE=0.8502, MAE=0.8502\n",
      "2025-02-09 13:44:43,540 [13068] INFO     root: Iteration 5582: RMSE=2.2324, MAE=2.2324\n",
      "2025-02-09 13:44:43,670 [13068] INFO     root: Iteration 5583: RMSE=1.9834, MAE=1.9834\n",
      "2025-02-09 13:44:43,701 [13068] INFO     ml_monitor.logging: Starting metrics logging thread...\n",
      "2025-02-09 13:44:43,802 [13068] INFO     root: Iteration 5584: RMSE=2.8002, MAE=2.8002\n",
      "2025-02-09 13:44:43,903 [13068] INFO     root: Iteration 5585: RMSE=2.5855, MAE=2.5855\n",
      "2025-02-09 13:44:44,001 [13068] INFO     root: Iteration 5586: RMSE=0.1636, MAE=0.1636\n",
      "2025-02-09 13:44:44,102 [13068] INFO     root: Iteration 5587: RMSE=4.3700, MAE=4.3700\n",
      "2025-02-09 13:44:44,311 [13068] INFO     root: Iteration 5588: RMSE=2.7746, MAE=2.7746\n",
      "2025-02-09 13:44:44,446 [13068] INFO     root: Iteration 5589: RMSE=0.5329, MAE=0.5329\n",
      "2025-02-09 13:44:44,544 [13068] INFO     root: Iteration 5590: RMSE=0.5028, MAE=0.5028\n",
      "2025-02-09 13:44:44,658 [13068] INFO     root: Iteration 5591: RMSE=4.3271, MAE=4.3271\n",
      "2025-02-09 13:44:44,783 [13068] INFO     root: Iteration 5592: RMSE=1.6861, MAE=1.6861\n",
      "2025-02-09 13:44:44,908 [13068] INFO     root: Iteration 5593: RMSE=1.3937, MAE=1.3937\n",
      "2025-02-09 13:44:45,038 [13068] INFO     root: Iteration 5594: RMSE=0.8280, MAE=0.8280\n",
      "2025-02-09 13:44:45,144 [13068] INFO     root: Iteration 5595: RMSE=3.0641, MAE=3.0641\n",
      "2025-02-09 13:44:45,248 [13068] INFO     root: Iteration 5596: RMSE=0.1636, MAE=0.1636\n",
      "2025-02-09 13:44:45,367 [13068] INFO     root: Iteration 5597: RMSE=3.2950, MAE=3.2950\n",
      "2025-02-09 13:44:45,475 [13068] INFO     root: Iteration 5598: RMSE=2.9898, MAE=2.9898\n",
      "2025-02-09 13:44:45,657 [13068] INFO     root: Iteration 5599: RMSE=1.7964, MAE=1.7964\n",
      "2025-02-09 13:44:45,775 [13068] INFO     root: Iteration 5600: RMSE=1.9834, MAE=1.9834\n",
      "2025-02-09 13:44:45,902 [13068] INFO     root: Iteration 5601: RMSE=0.8360, MAE=0.8360\n",
      "2025-02-09 13:44:46,007 [13068] INFO     root: Iteration 5602: RMSE=1.0783, MAE=1.0783\n",
      "2025-02-09 13:44:46,186 [13068] INFO     root: Iteration 5603: RMSE=5.3491, MAE=5.3491\n",
      "2025-02-09 13:44:46,477 [13068] INFO     root: Iteration 5604: RMSE=1.9834, MAE=1.9834\n",
      "2025-02-09 13:44:46,596 [13068] INFO     root: Iteration 5605: RMSE=4.2530, MAE=4.2530\n",
      "2025-02-09 13:44:46,709 [13068] INFO     root: Iteration 5606: RMSE=0.5028, MAE=0.5028\n",
      "2025-02-09 13:44:46,837 [13068] INFO     root: Iteration 5607: RMSE=0.5329, MAE=0.5329\n",
      "2025-02-09 13:44:46,987 [13068] INFO     root: Iteration 5608: RMSE=4.2530, MAE=4.2530\n",
      "2025-02-09 13:44:47,102 [13068] INFO     root: Iteration 5609: RMSE=6.3484, MAE=6.3484\n",
      "2025-02-09 13:44:47,488 [13068] INFO     root: Iteration 5610: RMSE=4.2530, MAE=4.2530\n",
      "2025-02-09 13:44:47,608 [13068] INFO     root: Iteration 5611: RMSE=1.6668, MAE=1.6668\n",
      "2025-02-09 13:44:47,719 [13068] INFO     root: Iteration 5612: RMSE=3.1092, MAE=3.1092\n",
      "2025-02-09 13:44:47,837 [13068] INFO     root: Iteration 5613: RMSE=0.2922, MAE=0.2922\n",
      "2025-02-09 13:44:47,956 [13068] INFO     root: Iteration 5614: RMSE=1.0783, MAE=1.0783\n",
      "2025-02-09 13:44:48,074 [13068] INFO     root: Iteration 5615: RMSE=21.1875, MAE=21.1875\n",
      "2025-02-09 13:44:48,188 [13068] INFO     root: Iteration 5616: RMSE=2.2324, MAE=2.2324\n",
      "2025-02-09 13:44:48,298 [13068] INFO     root: Iteration 5617: RMSE=3.9228, MAE=3.9228\n",
      "2025-02-09 13:44:48,393 [13068] INFO     root: Iteration 5618: RMSE=0.9201, MAE=0.9201\n",
      "2025-02-09 13:44:48,493 [13068] INFO     root: Iteration 5619: RMSE=0.1636, MAE=0.1636\n",
      "2025-02-09 13:44:48,587 [13068] INFO     root: Iteration 5620: RMSE=2.5855, MAE=2.5855\n",
      "2025-02-09 13:44:48,743 [13068] INFO     ml_monitor.logging: Starting metrics logging thread...\n",
      "2025-02-09 13:44:48,775 [13068] INFO     root: Iteration 5621: RMSE=2.1957, MAE=2.1957\n",
      "2025-02-09 13:44:48,901 [13068] INFO     root: Iteration 5622: RMSE=0.1636, MAE=0.1636\n",
      "2025-02-09 13:44:49,012 [13068] INFO     root: Iteration 5623: RMSE=0.4053, MAE=0.4053\n",
      "2025-02-09 13:44:49,124 [13068] INFO     root: Iteration 5624: RMSE=2.4091, MAE=2.4091\n",
      "2025-02-09 13:44:49,232 [13068] INFO     root: Iteration 5625: RMSE=2.5983, MAE=2.5983\n",
      "2025-02-09 13:44:49,329 [13068] INFO     root: Iteration 5626: RMSE=0.0190, MAE=0.0190\n",
      "2025-02-09 13:44:49,432 [13068] INFO     root: Iteration 5627: RMSE=0.8502, MAE=0.8502\n",
      "2025-02-09 13:44:49,529 [13068] INFO     root: Iteration 5628: RMSE=2.1281, MAE=2.1281\n",
      "2025-02-09 13:44:49,701 [13068] INFO     root: Iteration 5629: RMSE=0.1136, MAE=0.1136\n",
      "2025-02-09 13:44:49,806 [13068] INFO     root: Iteration 5630: RMSE=0.8502, MAE=0.8502\n",
      "2025-02-09 13:44:49,924 [13068] INFO     root: Iteration 5631: RMSE=1.9880, MAE=1.9880\n",
      "2025-02-09 13:44:50,140 [13068] INFO     root: Iteration 5632: RMSE=5.1385, MAE=5.1385\n",
      "2025-02-09 13:44:50,313 [13068] INFO     root: Iteration 5633: RMSE=1.9954, MAE=1.9954\n",
      "2025-02-09 13:44:50,439 [13068] INFO     root: Iteration 5634: RMSE=2.0594, MAE=2.0594\n",
      "2025-02-09 13:44:50,697 [13068] INFO     root: Iteration 5635: RMSE=21.1875, MAE=21.1875\n",
      "2025-02-09 13:44:50,855 [13068] INFO     root: Iteration 5636: RMSE=1.6668, MAE=1.6668\n",
      "2025-02-09 13:44:50,990 [13068] INFO     root: Iteration 5637: RMSE=2.6178, MAE=2.6178\n",
      "2025-02-09 13:44:51,093 [13068] INFO     root: Iteration 5638: RMSE=3.2372, MAE=3.2372\n",
      "2025-02-09 13:44:51,214 [13068] INFO     root: Iteration 5639: RMSE=0.6367, MAE=0.6367\n",
      "2025-02-09 13:44:51,328 [13068] INFO     root: Iteration 5640: RMSE=2.5855, MAE=2.5855\n",
      "2025-02-09 13:44:51,430 [13068] INFO     root: Iteration 5641: RMSE=1.6861, MAE=1.6861\n",
      "2025-02-09 13:44:51,520 [13068] INFO     root: Iteration 5642: RMSE=1.5147, MAE=1.5147\n",
      "2025-02-09 13:44:51,745 [13068] INFO     root: Iteration 5643: RMSE=0.2356, MAE=0.2356\n",
      "2025-02-09 13:44:51,863 [13068] INFO     root: Iteration 5644: RMSE=3.9035, MAE=3.9035\n",
      "2025-02-09 13:44:51,961 [13068] INFO     root: Iteration 5645: RMSE=4.2619, MAE=4.2619\n",
      "2025-02-09 13:44:52,071 [13068] INFO     root: Iteration 5646: RMSE=2.5983, MAE=2.5983\n",
      "2025-02-09 13:44:52,170 [13068] INFO     root: Iteration 5647: RMSE=7.1962, MAE=7.1962\n",
      "2025-02-09 13:44:52,275 [13068] INFO     root: Iteration 5648: RMSE=5.8175, MAE=5.8175\n",
      "2025-02-09 13:44:52,380 [13068] INFO     root: Iteration 5649: RMSE=1.2841, MAE=1.2841\n",
      "2025-02-09 13:44:52,827 [13068] INFO     root: Metrics pushed at iteration 5649. RMSE=1.2841, MAE=1.2841\n",
      "2025-02-09 13:44:52,962 [13068] INFO     root: Iteration 5650: RMSE=6.4895, MAE=6.4895\n",
      "2025-02-09 13:44:53,080 [13068] INFO     root: Iteration 5651: RMSE=1.9374, MAE=1.9374\n",
      "2025-02-09 13:44:53,177 [13068] INFO     root: Iteration 5652: RMSE=3.1092, MAE=3.1092\n",
      "2025-02-09 13:44:53,322 [13068] INFO     root: Iteration 5653: RMSE=7.4122, MAE=7.4122\n",
      "2025-02-09 13:44:53,429 [13068] INFO     root: Iteration 5654: RMSE=0.2445, MAE=0.2445\n",
      "2025-02-09 13:44:53,521 [13068] INFO     root: Iteration 5655: RMSE=1.9374, MAE=1.9374\n",
      "2025-02-09 13:44:53,622 [13068] INFO     root: Iteration 5656: RMSE=0.2922, MAE=0.2922\n",
      "2025-02-09 13:44:53,719 [13068] INFO     root: Iteration 5657: RMSE=3.1701, MAE=3.1701\n",
      "2025-02-09 13:44:53,777 [13068] INFO     ml_monitor.logging: Starting metrics logging thread...\n",
      "2025-02-09 13:44:53,835 [13068] INFO     root: Iteration 5658: RMSE=0.8295, MAE=0.8295\n",
      "2025-02-09 13:44:53,946 [13068] INFO     root: Iteration 5659: RMSE=0.4554, MAE=0.4554\n",
      "2025-02-09 13:44:54,047 [13068] INFO     root: Iteration 5660: RMSE=2.7746, MAE=2.7746\n",
      "2025-02-09 13:44:54,216 [13068] INFO     root: Iteration 5661: RMSE=0.8295, MAE=0.8295\n",
      "2025-02-09 13:44:54,392 [13068] INFO     root: Iteration 5662: RMSE=4.8742, MAE=4.8742\n",
      "2025-02-09 13:44:54,516 [13068] INFO     root: Iteration 5663: RMSE=2.8002, MAE=2.8002\n",
      "2025-02-09 13:44:54,726 [13068] INFO     root: Iteration 5664: RMSE=3.9035, MAE=3.9035\n",
      "2025-02-09 13:44:54,839 [13068] INFO     root: Iteration 5665: RMSE=3.1092, MAE=3.1092\n",
      "2025-02-09 13:44:54,948 [13068] INFO     root: Iteration 5666: RMSE=5.1399, MAE=5.1399\n",
      "2025-02-09 13:44:55,074 [13068] INFO     root: Iteration 5667: RMSE=1.0783, MAE=1.0783\n",
      "2025-02-09 13:44:55,203 [13068] INFO     root: Iteration 5668: RMSE=0.0894, MAE=0.0894\n",
      "2025-02-09 13:44:55,323 [13068] INFO     root: Iteration 5669: RMSE=4.2530, MAE=4.2530\n",
      "2025-02-09 13:44:55,432 [13068] INFO     root: Iteration 5670: RMSE=3.9228, MAE=3.9228\n",
      "2025-02-09 13:44:55,531 [13068] INFO     root: Iteration 5671: RMSE=1.9024, MAE=1.9024\n",
      "2025-02-09 13:44:55,621 [13068] INFO     root: Iteration 5672: RMSE=3.0641, MAE=3.0641\n",
      "2025-02-09 13:44:55,707 [13068] INFO     root: Iteration 5673: RMSE=7.4122, MAE=7.4122\n",
      "2025-02-09 13:44:55,810 [13068] INFO     root: Iteration 5674: RMSE=3.0812, MAE=3.0812\n",
      "2025-02-09 13:44:55,913 [13068] INFO     root: Iteration 5675: RMSE=0.0894, MAE=0.0894\n",
      "2025-02-09 13:44:56,063 [13068] INFO     root: Iteration 5676: RMSE=21.1875, MAE=21.1875\n",
      "2025-02-09 13:44:56,181 [13068] INFO     root: Iteration 5677: RMSE=3.0812, MAE=3.0812\n",
      "2025-02-09 13:44:56,289 [13068] INFO     root: Iteration 5678: RMSE=1.5147, MAE=1.5147\n",
      "2025-02-09 13:44:56,383 [13068] INFO     root: Iteration 5679: RMSE=2.6178, MAE=2.6178\n",
      "2025-02-09 13:44:56,478 [13068] INFO     root: Iteration 5680: RMSE=4.2272, MAE=4.2272\n",
      "2025-02-09 13:44:56,569 [13068] INFO     root: Iteration 5681: RMSE=1.6861, MAE=1.6861\n",
      "2025-02-09 13:44:56,729 [13068] INFO     root: Iteration 5682: RMSE=5.2814, MAE=5.2814\n",
      "2025-02-09 13:44:56,812 [13068] INFO     root: Iteration 5683: RMSE=3.0641, MAE=3.0641\n",
      "2025-02-09 13:44:56,919 [13068] INFO     root: Iteration 5684: RMSE=3.1092, MAE=3.1092\n",
      "2025-02-09 13:44:57,018 [13068] INFO     root: Iteration 5685: RMSE=1.9954, MAE=1.9954\n",
      "2025-02-09 13:44:57,113 [13068] INFO     root: Iteration 5686: RMSE=4.3271, MAE=4.3271\n",
      "2025-02-09 13:44:57,202 [13068] INFO     root: Iteration 5687: RMSE=1.6668, MAE=1.6668\n",
      "2025-02-09 13:44:57,295 [13068] INFO     root: Iteration 5688: RMSE=0.8502, MAE=0.8502\n",
      "2025-02-09 13:44:57,395 [13068] INFO     root: Iteration 5689: RMSE=2.6178, MAE=2.6178\n",
      "2025-02-09 13:44:57,480 [13068] INFO     root: Iteration 5690: RMSE=1.3937, MAE=1.3937\n",
      "2025-02-09 13:44:57,571 [13068] INFO     root: Iteration 5691: RMSE=3.0048, MAE=3.0048\n",
      "2025-02-09 13:44:57,725 [13068] INFO     root: Iteration 5692: RMSE=4.3700, MAE=4.3700\n",
      "2025-02-09 13:44:57,831 [13068] INFO     root: Iteration 5693: RMSE=5.2814, MAE=5.2814\n",
      "2025-02-09 13:44:57,924 [13068] INFO     root: Iteration 5694: RMSE=4.2619, MAE=4.2619\n",
      "2025-02-09 13:44:58,024 [13068] INFO     root: Iteration 5695: RMSE=0.1136, MAE=0.1136\n",
      "2025-02-09 13:44:58,131 [13068] INFO     root: Iteration 5696: RMSE=1.0837, MAE=1.0837\n",
      "2025-02-09 13:44:58,232 [13068] INFO     root: Iteration 5697: RMSE=1.7797, MAE=1.7797\n",
      "2025-02-09 13:44:58,327 [13068] INFO     root: Iteration 5698: RMSE=15.7679, MAE=15.7679\n",
      "2025-02-09 13:44:58,423 [13068] INFO     root: Iteration 5699: RMSE=1.0837, MAE=1.0837\n",
      "2025-02-09 13:44:58,607 [13068] INFO     root: Iteration 5700: RMSE=4.8742, MAE=4.8742\n",
      "2025-02-09 13:44:58,700 [13068] INFO     root: Iteration 5701: RMSE=1.7797, MAE=1.7797\n",
      "2025-02-09 13:44:58,792 [13068] INFO     ml_monitor.logging: Starting metrics logging thread...\n",
      "2025-02-09 13:44:58,816 [13068] INFO     root: Iteration 5702: RMSE=2.7728, MAE=2.7728\n",
      "2025-02-09 13:44:58,914 [13068] INFO     root: Iteration 5703: RMSE=3.9228, MAE=3.9228\n",
      "2025-02-09 13:44:59,010 [13068] INFO     root: Iteration 5704: RMSE=5.1399, MAE=5.1399\n",
      "2025-02-09 13:44:59,119 [13068] INFO     root: Iteration 5705: RMSE=0.5028, MAE=0.5028\n",
      "2025-02-09 13:44:59,235 [13068] INFO     root: Iteration 5706: RMSE=3.2950, MAE=3.2950\n",
      "2025-02-09 13:44:59,327 [13068] INFO     root: Iteration 5707: RMSE=4.8742, MAE=4.8742\n",
      "2025-02-09 13:44:59,424 [13068] INFO     root: Iteration 5708: RMSE=1.9891, MAE=1.9891\n",
      "2025-02-09 13:44:59,531 [13068] INFO     root: Iteration 5709: RMSE=0.9690, MAE=0.9690\n",
      "2025-02-09 13:44:59,640 [13068] INFO     root: Iteration 5710: RMSE=0.6863, MAE=0.6863\n",
      "2025-02-09 13:44:59,789 [13068] INFO     root: Iteration 5711: RMSE=3.2950, MAE=3.2950\n",
      "2025-02-09 13:44:59,879 [13068] INFO     root: Iteration 5712: RMSE=3.9228, MAE=3.9228\n",
      "2025-02-09 13:44:59,983 [13068] INFO     root: Iteration 5713: RMSE=7.4122, MAE=7.4122\n",
      "2025-02-09 13:45:00,106 [13068] INFO     root: Iteration 5714: RMSE=6.4895, MAE=6.4895\n",
      "2025-02-09 13:45:00,198 [13068] INFO     root: Iteration 5715: RMSE=2.6178, MAE=2.6178\n",
      "2025-02-09 13:45:00,319 [13068] INFO     root: Iteration 5716: RMSE=1.9470, MAE=1.9470\n",
      "2025-02-09 13:45:00,437 [13068] INFO     root: Iteration 5717: RMSE=5.2814, MAE=5.2814\n",
      "2025-02-09 13:45:00,556 [13068] INFO     root: Iteration 5718: RMSE=0.2922, MAE=0.2922\n",
      "2025-02-09 13:45:00,663 [13068] INFO     root: Iteration 5719: RMSE=3.0812, MAE=3.0812\n",
      "2025-02-09 13:45:00,872 [13068] INFO     root: Iteration 5720: RMSE=0.5329, MAE=0.5329\n",
      "2025-02-09 13:45:00,972 [13068] INFO     root: Iteration 5721: RMSE=1.0783, MAE=1.0783\n",
      "2025-02-09 13:45:01,157 [13068] INFO     root: Iteration 5722: RMSE=3.0641, MAE=3.0641\n",
      "2025-02-09 13:45:01,264 [13068] INFO     root: Iteration 5723: RMSE=1.6861, MAE=1.6861\n",
      "2025-02-09 13:45:01,372 [13068] INFO     root: Iteration 5724: RMSE=1.2841, MAE=1.2841\n",
      "2025-02-09 13:45:01,473 [13068] INFO     root: Iteration 5725: RMSE=3.1092, MAE=3.1092\n",
      "2025-02-09 13:45:01,570 [13068] INFO     root: Iteration 5726: RMSE=1.6668, MAE=1.6668\n",
      "2025-02-09 13:45:01,709 [13068] INFO     root: Iteration 5727: RMSE=2.0594, MAE=2.0594\n",
      "2025-02-09 13:45:01,843 [13068] INFO     root: Iteration 5728: RMSE=0.1136, MAE=0.1136\n",
      "2025-02-09 13:45:01,973 [13068] INFO     root: Iteration 5729: RMSE=0.2922, MAE=0.2922\n",
      "2025-02-09 13:45:02,082 [13068] INFO     root: Iteration 5730: RMSE=1.9374, MAE=1.9374\n",
      "2025-02-09 13:45:02,186 [13068] INFO     root: Iteration 5731: RMSE=1.9470, MAE=1.9470\n",
      "2025-02-09 13:45:02,298 [13068] INFO     root: Iteration 5732: RMSE=3.9035, MAE=3.9035\n",
      "2025-02-09 13:45:02,412 [13068] INFO     root: Iteration 5733: RMSE=1.9954, MAE=1.9954\n",
      "2025-02-09 13:45:03,165 [13068] INFO     root: Metrics pushed at iteration 5733. RMSE=1.9954, MAE=1.9954\n",
      "2025-02-09 13:45:03,277 [13068] INFO     root: Iteration 5734: RMSE=0.2356, MAE=0.2356\n",
      "2025-02-09 13:45:03,365 [13068] INFO     root: Iteration 5735: RMSE=1.9880, MAE=1.9880\n",
      "2025-02-09 13:45:03,470 [13068] INFO     root: Iteration 5736: RMSE=0.9690, MAE=0.9690\n",
      "2025-02-09 13:45:03,589 [13068] INFO     root: Iteration 5737: RMSE=2.2324, MAE=2.2324\n",
      "2025-02-09 13:45:03,691 [13068] INFO     root: Iteration 5738: RMSE=3.1092, MAE=3.1092\n",
      "2025-02-09 13:45:03,791 [13068] INFO     root: Iteration 5739: RMSE=0.8280, MAE=0.8280\n",
      "2025-02-09 13:45:03,819 [13068] INFO     ml_monitor.logging: Starting metrics logging thread...\n",
      "2025-02-09 13:45:03,906 [13068] INFO     root: Iteration 5740: RMSE=0.9510, MAE=0.9510\n",
      "2025-02-09 13:45:04,003 [13068] INFO     root: Iteration 5741: RMSE=1.9891, MAE=1.9891\n",
      "2025-02-09 13:45:04,104 [13068] INFO     root: Iteration 5742: RMSE=1.5289, MAE=1.5289\n",
      "2025-02-09 13:45:04,199 [13068] INFO     root: Iteration 5743: RMSE=1.7797, MAE=1.7797\n",
      "2025-02-09 13:45:04,315 [13068] INFO     root: Iteration 5744: RMSE=1.0837, MAE=1.0837\n",
      "2025-02-09 13:45:04,481 [13068] INFO     root: Iteration 5745: RMSE=0.6863, MAE=0.6863\n",
      "2025-02-09 13:45:04,595 [13068] INFO     root: Iteration 5746: RMSE=0.5423, MAE=0.5423\n",
      "2025-02-09 13:45:04,721 [13068] INFO     root: Iteration 5747: RMSE=0.8295, MAE=0.8295\n",
      "2025-02-09 13:45:04,819 [13068] INFO     root: Iteration 5748: RMSE=0.1640, MAE=0.1640\n",
      "2025-02-09 13:45:04,934 [13068] INFO     root: Iteration 5749: RMSE=4.8742, MAE=4.8742\n",
      "2025-02-09 13:45:05,024 [13068] INFO     root: Iteration 5750: RMSE=0.9201, MAE=0.9201\n",
      "2025-02-09 13:45:05,128 [13068] INFO     root: Iteration 5751: RMSE=2.1957, MAE=2.1957\n",
      "2025-02-09 13:45:05,326 [13068] INFO     root: Iteration 5752: RMSE=1.9880, MAE=1.9880\n",
      "2025-02-09 13:45:05,427 [13068] INFO     root: Iteration 5753: RMSE=1.6668, MAE=1.6668\n",
      "2025-02-09 13:45:05,522 [13068] INFO     root: Iteration 5754: RMSE=15.7679, MAE=15.7679\n",
      "2025-02-09 13:45:05,611 [13068] INFO     root: Iteration 5755: RMSE=3.0048, MAE=3.0048\n",
      "2025-02-09 13:45:05,707 [13068] INFO     root: Iteration 5756: RMSE=0.9176, MAE=0.9176\n",
      "2025-02-09 13:45:05,884 [13068] INFO     root: Iteration 5757: RMSE=2.9898, MAE=2.9898\n",
      "2025-02-09 13:45:06,006 [13068] INFO     root: Iteration 5758: RMSE=2.2823, MAE=2.2823\n",
      "2025-02-09 13:45:06,108 [13068] INFO     root: Iteration 5759: RMSE=3.0812, MAE=3.0812\n",
      "2025-02-09 13:45:06,197 [13068] INFO     root: Iteration 5760: RMSE=7.1880, MAE=7.1880\n",
      "2025-02-09 13:45:06,288 [13068] INFO     root: Iteration 5761: RMSE=2.5855, MAE=2.5855\n",
      "2025-02-09 13:45:06,482 [13068] INFO     root: Iteration 5762: RMSE=2.6178, MAE=2.6178\n",
      "2025-02-09 13:45:06,582 [13068] INFO     root: Iteration 5763: RMSE=3.2950, MAE=3.2950\n",
      "2025-02-09 13:45:06,731 [13068] INFO     root: Iteration 5764: RMSE=2.5855, MAE=2.5855\n",
      "2025-02-09 13:45:06,838 [13068] INFO     root: Iteration 5765: RMSE=1.2345, MAE=1.2345\n",
      "2025-02-09 13:45:06,946 [13068] INFO     root: Iteration 5766: RMSE=0.5423, MAE=0.5423\n",
      "2025-02-09 13:45:07,038 [13068] INFO     root: Iteration 5767: RMSE=0.4278, MAE=0.4278\n",
      "2025-02-09 13:45:07,134 [13068] INFO     root: Iteration 5768: RMSE=1.6861, MAE=1.6861\n",
      "2025-02-09 13:45:07,254 [13068] INFO     root: Iteration 5769: RMSE=6.4895, MAE=6.4895\n",
      "2025-02-09 13:45:07,355 [13068] INFO     root: Iteration 5770: RMSE=1.0783, MAE=1.0783\n",
      "2025-02-09 13:45:07,475 [13068] INFO     root: Iteration 5771: RMSE=1.2841, MAE=1.2841\n",
      "2025-02-09 13:45:07,586 [13068] INFO     root: Iteration 5772: RMSE=3.6498, MAE=3.6498\n",
      "2025-02-09 13:45:07,701 [13068] INFO     root: Iteration 5773: RMSE=3.9228, MAE=3.9228\n",
      "2025-02-09 13:45:07,849 [13068] INFO     root: Iteration 5774: RMSE=4.3271, MAE=4.3271\n",
      "2025-02-09 13:45:07,949 [13068] INFO     root: Iteration 5775: RMSE=3.2950, MAE=3.2950\n",
      "2025-02-09 13:45:08,057 [13068] INFO     root: Iteration 5776: RMSE=0.9176, MAE=0.9176\n",
      "2025-02-09 13:45:08,164 [13068] INFO     root: Iteration 5777: RMSE=0.2445, MAE=0.2445\n",
      "2025-02-09 13:45:08,262 [13068] INFO     root: Iteration 5778: RMSE=1.3227, MAE=1.3227\n",
      "2025-02-09 13:45:08,368 [13068] INFO     root: Iteration 5779: RMSE=0.4053, MAE=0.4053\n",
      "2025-02-09 13:45:08,475 [13068] INFO     root: Iteration 5780: RMSE=0.8295, MAE=0.8295\n",
      "2025-02-09 13:45:08,565 [13068] INFO     root: Iteration 5781: RMSE=0.8280, MAE=0.8280\n",
      "2025-02-09 13:45:08,662 [13068] INFO     root: Iteration 5782: RMSE=7.1962, MAE=7.1962\n",
      "2025-02-09 13:45:08,753 [13068] INFO     root: Iteration 5783: RMSE=4.2530, MAE=4.2530\n",
      "2025-02-09 13:45:08,859 [13068] INFO     ml_monitor.logging: Starting metrics logging thread...\n",
      "2025-02-09 13:45:08,913 [13068] INFO     root: Iteration 5784: RMSE=0.1550, MAE=0.1550\n",
      "2025-02-09 13:45:09,014 [13068] INFO     root: Iteration 5785: RMSE=4.2619, MAE=4.2619\n",
      "2025-02-09 13:45:09,125 [13068] INFO     root: Iteration 5786: RMSE=0.4811, MAE=0.4811\n",
      "2025-02-09 13:45:09,212 [13068] INFO     root: Iteration 5787: RMSE=2.7728, MAE=2.7728\n",
      "2025-02-09 13:45:09,297 [13068] INFO     root: Iteration 5788: RMSE=6.3484, MAE=6.3484\n",
      "2025-02-09 13:45:09,386 [13068] INFO     root: Iteration 5789: RMSE=1.9891, MAE=1.9891\n",
      "2025-02-09 13:45:09,482 [13068] INFO     root: Iteration 5790: RMSE=0.0329, MAE=0.0329\n",
      "2025-02-09 13:45:09,855 [13068] INFO     root: Iteration 5791: RMSE=2.6178, MAE=2.6178\n",
      "2025-02-09 13:45:10,015 [13068] INFO     root: Iteration 5792: RMSE=0.4811, MAE=0.4811\n",
      "2025-02-09 13:45:10,114 [13068] INFO     root: Iteration 5793: RMSE=1.2010, MAE=1.2010\n",
      "2025-02-09 13:45:10,226 [13068] INFO     root: Iteration 5794: RMSE=3.9035, MAE=3.9035\n",
      "2025-02-09 13:45:10,334 [13068] INFO     root: Iteration 5795: RMSE=0.0190, MAE=0.0190\n",
      "2025-02-09 13:45:10,428 [13068] INFO     root: Iteration 5796: RMSE=2.7746, MAE=2.7746\n",
      "2025-02-09 13:45:10,518 [13068] INFO     root: Iteration 5797: RMSE=1.9891, MAE=1.9891\n",
      "2025-02-09 13:45:10,631 [13068] INFO     root: Iteration 5798: RMSE=1.5147, MAE=1.5147\n",
      "2025-02-09 13:45:10,755 [13068] INFO     root: Iteration 5799: RMSE=0.4811, MAE=0.4811\n",
      "2025-02-09 13:45:10,859 [13068] INFO     root: Iteration 5800: RMSE=0.2922, MAE=0.2922\n",
      "2025-02-09 13:45:10,954 [13068] INFO     root: Iteration 5801: RMSE=0.8360, MAE=0.8360\n",
      "2025-02-09 13:45:11,140 [13068] INFO     root: Iteration 5802: RMSE=5.1399, MAE=5.1399\n",
      "2025-02-09 13:45:11,241 [13068] INFO     root: Iteration 5803: RMSE=1.9834, MAE=1.9834\n",
      "2025-02-09 13:45:11,351 [13068] INFO     root: Iteration 5804: RMSE=4.3271, MAE=4.3271\n",
      "2025-02-09 13:45:11,450 [13068] INFO     root: Iteration 5805: RMSE=0.4278, MAE=0.4278\n",
      "2025-02-09 13:45:11,539 [13068] INFO     root: Iteration 5806: RMSE=0.1550, MAE=0.1550\n",
      "2025-02-09 13:45:11,818 [13068] INFO     root: Iteration 5807: RMSE=3.2372, MAE=3.2372\n",
      "2025-02-09 13:45:11,933 [13068] INFO     root: Iteration 5808: RMSE=2.4407, MAE=2.4407\n",
      "2025-02-09 13:45:12,037 [13068] INFO     root: Iteration 5809: RMSE=21.1875, MAE=21.1875\n",
      "2025-02-09 13:45:12,135 [13068] INFO     root: Iteration 5810: RMSE=1.7797, MAE=1.7797\n",
      "2025-02-09 13:45:12,232 [13068] INFO     root: Iteration 5811: RMSE=0.0329, MAE=0.0329\n",
      "2025-02-09 13:45:12,329 [13068] INFO     root: Iteration 5812: RMSE=2.9898, MAE=2.9898\n",
      "2025-02-09 13:45:12,423 [13068] INFO     root: Iteration 5813: RMSE=2.2319, MAE=2.2319\n",
      "2025-02-09 13:45:12,902 [13068] INFO     root: Metrics pushed at iteration 5813. RMSE=2.2319, MAE=2.2319\n",
      "2025-02-09 13:45:13,008 [13068] INFO     root: Iteration 5814: RMSE=5.1385, MAE=5.1385\n",
      "2025-02-09 13:45:13,107 [13068] INFO     root: Iteration 5815: RMSE=0.9176, MAE=0.9176\n",
      "2025-02-09 13:45:13,201 [13068] INFO     root: Iteration 5816: RMSE=1.6861, MAE=1.6861\n",
      "2025-02-09 13:45:13,296 [13068] INFO     root: Iteration 5817: RMSE=1.5147, MAE=1.5147\n",
      "2025-02-09 13:45:13,399 [13068] INFO     root: Iteration 5818: RMSE=0.9690, MAE=0.9690\n",
      "2025-02-09 13:45:13,564 [13068] INFO     root: Iteration 5819: RMSE=5.3491, MAE=5.3491\n",
      "2025-02-09 13:45:13,663 [13068] INFO     root: Iteration 5820: RMSE=1.5147, MAE=1.5147\n",
      "2025-02-09 13:45:13,751 [13068] INFO     root: Iteration 5821: RMSE=2.7728, MAE=2.7728\n",
      "2025-02-09 13:45:13,852 [13068] INFO     root: Iteration 5822: RMSE=15.7679, MAE=15.7679\n",
      "2025-02-09 13:45:13,903 [13068] INFO     ml_monitor.logging: Starting metrics logging thread...\n",
      "2025-02-09 13:45:13,957 [13068] INFO     root: Iteration 5823: RMSE=2.8002, MAE=2.8002\n",
      "2025-02-09 13:45:14,075 [13068] INFO     root: Iteration 5824: RMSE=0.5423, MAE=0.5423\n",
      "2025-02-09 13:45:14,178 [13068] INFO     root: Iteration 5825: RMSE=1.3937, MAE=1.3937\n",
      "2025-02-09 13:45:14,287 [13068] INFO     root: Iteration 5826: RMSE=2.5855, MAE=2.5855\n",
      "2025-02-09 13:45:14,381 [13068] INFO     root: Iteration 5827: RMSE=0.4811, MAE=0.4811\n",
      "2025-02-09 13:45:14,532 [13068] INFO     root: Iteration 5828: RMSE=5.0666, MAE=5.0666\n",
      "2025-02-09 13:45:14,643 [13068] INFO     root: Iteration 5829: RMSE=0.6820, MAE=0.6820\n",
      "2025-02-09 13:45:14,748 [13068] INFO     root: Iteration 5830: RMSE=4.2733, MAE=4.2733\n",
      "2025-02-09 13:45:14,884 [13068] INFO     root: Iteration 5831: RMSE=3.1092, MAE=3.1092\n",
      "2025-02-09 13:45:14,986 [13068] INFO     root: Iteration 5832: RMSE=1.3937, MAE=1.3937\n",
      "2025-02-09 13:45:15,081 [13068] INFO     root: Iteration 5833: RMSE=0.8502, MAE=0.8502\n",
      "2025-02-09 13:45:15,200 [13068] INFO     root: Iteration 5834: RMSE=0.8502, MAE=0.8502\n",
      "2025-02-09 13:45:15,351 [13068] INFO     root: Iteration 5835: RMSE=2.4407, MAE=2.4407\n",
      "2025-02-09 13:45:15,450 [13068] INFO     root: Iteration 5836: RMSE=1.7964, MAE=1.7964\n",
      "2025-02-09 13:45:15,554 [13068] INFO     root: Iteration 5837: RMSE=0.2922, MAE=0.2922\n",
      "2025-02-09 13:45:15,791 [13068] INFO     root: Iteration 5838: RMSE=1.0783, MAE=1.0783\n",
      "2025-02-09 13:45:16,194 [13068] INFO     root: Iteration 5839: RMSE=3.0641, MAE=3.0641\n",
      "2025-02-09 13:45:16,300 [13068] INFO     root: Iteration 5840: RMSE=7.4122, MAE=7.4122\n",
      "2025-02-09 13:45:16,404 [13068] INFO     root: Iteration 5841: RMSE=3.6498, MAE=3.6498\n",
      "2025-02-09 13:45:16,545 [13068] INFO     root: Iteration 5842: RMSE=2.8002, MAE=2.8002\n",
      "2025-02-09 13:45:16,640 [13068] INFO     root: Iteration 5843: RMSE=2.2324, MAE=2.2324\n",
      "2025-02-09 13:45:16,768 [13068] INFO     root: Iteration 5844: RMSE=1.9470, MAE=1.9470\n",
      "2025-02-09 13:45:16,877 [13068] INFO     root: Iteration 5845: RMSE=1.3227, MAE=1.3227\n",
      "2025-02-09 13:45:17,009 [13068] INFO     root: Iteration 5846: RMSE=1.3227, MAE=1.3227\n",
      "2025-02-09 13:45:17,141 [13068] INFO     root: Iteration 5847: RMSE=3.2372, MAE=3.2372\n",
      "2025-02-09 13:45:17,372 [13068] INFO     root: Iteration 5848: RMSE=0.4554, MAE=0.4554\n",
      "2025-02-09 13:45:17,488 [13068] INFO     root: Iteration 5849: RMSE=4.2272, MAE=4.2272\n",
      "2025-02-09 13:45:17,618 [13068] INFO     root: Iteration 5850: RMSE=0.5028, MAE=0.5028\n",
      "2025-02-09 13:45:17,718 [13068] INFO     root: Iteration 5851: RMSE=4.2733, MAE=4.2733\n",
      "2025-02-09 13:45:17,814 [13068] INFO     root: Iteration 5852: RMSE=0.0190, MAE=0.0190\n",
      "2025-02-09 13:45:17,942 [13068] INFO     root: Iteration 5853: RMSE=0.9176, MAE=0.9176\n",
      "2025-02-09 13:45:18,068 [13068] INFO     root: Iteration 5854: RMSE=5.3491, MAE=5.3491\n",
      "2025-02-09 13:45:18,227 [13068] INFO     root: Iteration 5855: RMSE=2.7728, MAE=2.7728\n",
      "2025-02-09 13:45:18,336 [13068] INFO     root: Iteration 5856: RMSE=0.4053, MAE=0.4053\n",
      "2025-02-09 13:45:18,435 [13068] INFO     root: Iteration 5857: RMSE=4.2530, MAE=4.2530\n",
      "2025-02-09 13:45:18,561 [13068] INFO     root: Iteration 5858: RMSE=2.1957, MAE=2.1957\n",
      "2025-02-09 13:45:18,690 [13068] INFO     root: Iteration 5859: RMSE=0.1636, MAE=0.1636\n",
      "2025-02-09 13:45:18,790 [13068] INFO     root: Iteration 5860: RMSE=1.3227, MAE=1.3227\n",
      "2025-02-09 13:45:18,899 [13068] INFO     root: Iteration 5861: RMSE=7.4122, MAE=7.4122\n",
      "2025-02-09 13:45:18,922 [13068] INFO     ml_monitor.logging: Starting metrics logging thread...\n",
      "2025-02-09 13:45:19,018 [13068] INFO     root: Iteration 5862: RMSE=2.7728, MAE=2.7728\n",
      "2025-02-09 13:45:19,112 [13068] INFO     root: Iteration 5863: RMSE=1.9834, MAE=1.9834\n",
      "2025-02-09 13:45:19,211 [13068] INFO     root: Iteration 5864: RMSE=0.1550, MAE=0.1550\n",
      "2025-02-09 13:45:19,319 [13068] INFO     root: Iteration 5865: RMSE=0.6277, MAE=0.6277\n",
      "2025-02-09 13:45:19,509 [13068] INFO     root: Iteration 5866: RMSE=0.9201, MAE=0.9201\n",
      "2025-02-09 13:45:19,749 [13068] INFO     root: Iteration 5867: RMSE=2.7746, MAE=2.7746\n",
      "2025-02-09 13:45:19,926 [13068] INFO     root: Iteration 5868: RMSE=1.9470, MAE=1.9470\n",
      "2025-02-09 13:45:20,088 [13068] INFO     root: Iteration 5869: RMSE=4.2733, MAE=4.2733\n",
      "2025-02-09 13:45:20,213 [13068] INFO     root: Iteration 5870: RMSE=0.5028, MAE=0.5028\n",
      "2025-02-09 13:45:20,333 [13068] INFO     root: Iteration 5871: RMSE=2.6178, MAE=2.6178\n",
      "2025-02-09 13:45:20,456 [13068] INFO     root: Iteration 5872: RMSE=6.5607, MAE=6.5607\n",
      "2025-02-09 13:45:20,570 [13068] INFO     root: Iteration 5873: RMSE=5.0666, MAE=5.0666\n",
      "2025-02-09 13:45:20,747 [13068] INFO     root: Iteration 5874: RMSE=0.1636, MAE=0.1636\n",
      "2025-02-09 13:45:20,866 [13068] INFO     root: Iteration 5875: RMSE=0.2356, MAE=0.2356\n",
      "2025-02-09 13:45:20,983 [13068] INFO     root: Iteration 5876: RMSE=1.9024, MAE=1.9024\n",
      "2025-02-09 13:45:21,104 [13068] INFO     root: Iteration 5877: RMSE=0.1636, MAE=0.1636\n",
      "2025-02-09 13:45:21,198 [13068] INFO     root: Iteration 5878: RMSE=2.2324, MAE=2.2324\n",
      "2025-02-09 13:45:21,306 [13068] INFO     root: Iteration 5879: RMSE=0.1640, MAE=0.1640\n",
      "2025-02-09 13:45:21,436 [13068] INFO     root: Iteration 5880: RMSE=1.5147, MAE=1.5147\n",
      "2025-02-09 13:45:21,543 [13068] INFO     root: Iteration 5881: RMSE=2.5855, MAE=2.5855\n",
      "2025-02-09 13:45:21,707 [13068] INFO     root: Iteration 5882: RMSE=1.9024, MAE=1.9024\n",
      "2025-02-09 13:45:21,867 [13068] INFO     root: Iteration 5883: RMSE=0.9201, MAE=0.9201\n",
      "2025-02-09 13:45:22,048 [13068] INFO     root: Iteration 5884: RMSE=3.2372, MAE=3.2372\n",
      "2025-02-09 13:45:22,191 [13068] INFO     root: Iteration 5885: RMSE=1.9834, MAE=1.9834\n",
      "2025-02-09 13:45:22,317 [13068] INFO     root: Iteration 5886: RMSE=4.3271, MAE=4.3271\n",
      "2025-02-09 13:45:22,429 [13068] INFO     root: Iteration 5887: RMSE=1.0783, MAE=1.0783\n",
      "2025-02-09 13:45:22,908 [13068] INFO     root: Metrics pushed at iteration 5887. RMSE=1.0783, MAE=1.0783\n",
      "2025-02-09 13:45:23,001 [13068] INFO     root: Iteration 5888: RMSE=1.0783, MAE=1.0783\n",
      "2025-02-09 13:45:23,095 [13068] INFO     root: Iteration 5889: RMSE=0.2922, MAE=0.2922\n",
      "2025-02-09 13:45:23,213 [13068] INFO     root: Iteration 5890: RMSE=0.2445, MAE=0.2445\n",
      "2025-02-09 13:45:23,307 [13068] INFO     root: Iteration 5891: RMSE=0.0329, MAE=0.0329\n",
      "2025-02-09 13:45:23,405 [13068] INFO     root: Iteration 5892: RMSE=1.7964, MAE=1.7964\n",
      "2025-02-09 13:45:23,633 [13068] INFO     root: Iteration 5893: RMSE=0.8280, MAE=0.8280\n",
      "2025-02-09 13:45:23,751 [13068] INFO     root: Iteration 5894: RMSE=2.2319, MAE=2.2319\n",
      "2025-02-09 13:45:23,888 [13068] INFO     root: Iteration 5895: RMSE=1.5289, MAE=1.5289\n",
      "2025-02-09 13:45:23,944 [13068] INFO     ml_monitor.logging: Starting metrics logging thread...\n",
      "2025-02-09 13:45:24,010 [13068] INFO     root: Iteration 5896: RMSE=1.9954, MAE=1.9954\n",
      "2025-02-09 13:45:24,139 [13068] INFO     root: Iteration 5897: RMSE=4.8742, MAE=4.8742\n",
      "2025-02-09 13:45:24,331 [13068] INFO     root: Iteration 5898: RMSE=5.8811, MAE=5.8811\n",
      "2025-02-09 13:45:24,432 [13068] INFO     root: Iteration 5899: RMSE=4.2272, MAE=4.2272\n",
      "2025-02-09 13:45:24,550 [13068] INFO     root: Iteration 5900: RMSE=1.9880, MAE=1.9880\n",
      "2025-02-09 13:45:24,655 [13068] INFO     root: Iteration 5901: RMSE=0.9201, MAE=0.9201\n",
      "2025-02-09 13:45:24,765 [13068] INFO     root: Iteration 5902: RMSE=0.0329, MAE=0.0329\n",
      "2025-02-09 13:45:24,885 [13068] INFO     root: Iteration 5903: RMSE=6.3484, MAE=6.3484\n",
      "2025-02-09 13:45:24,987 [13068] INFO     root: Iteration 5904: RMSE=2.7728, MAE=2.7728\n",
      "2025-02-09 13:45:25,073 [13068] INFO     root: Iteration 5905: RMSE=5.8811, MAE=5.8811\n",
      "2025-02-09 13:45:25,162 [13068] INFO     root: Iteration 5906: RMSE=2.1957, MAE=2.1957\n",
      "2025-02-09 13:45:25,258 [13068] INFO     root: Iteration 5907: RMSE=3.0812, MAE=3.0812\n",
      "2025-02-09 13:45:25,359 [13068] INFO     root: Iteration 5908: RMSE=0.8502, MAE=0.8502\n",
      "2025-02-09 13:45:25,452 [13068] INFO     root: Iteration 5909: RMSE=0.9176, MAE=0.9176\n",
      "2025-02-09 13:45:25,600 [13068] INFO     root: Iteration 5910: RMSE=4.3700, MAE=4.3700\n",
      "2025-02-09 13:45:25,708 [13068] INFO     root: Iteration 5911: RMSE=0.9690, MAE=0.9690\n",
      "2025-02-09 13:45:25,935 [13068] INFO     root: Iteration 5912: RMSE=2.5983, MAE=2.5983\n",
      "2025-02-09 13:45:26,038 [13068] INFO     root: Iteration 5913: RMSE=2.1281, MAE=2.1281\n",
      "2025-02-09 13:45:26,141 [13068] INFO     root: Iteration 5914: RMSE=0.9690, MAE=0.9690\n",
      "2025-02-09 13:45:26,258 [13068] INFO     root: Iteration 5915: RMSE=0.8502, MAE=0.8502\n",
      "2025-02-09 13:45:26,438 [13068] INFO     root: Iteration 5916: RMSE=0.8280, MAE=0.8280\n",
      "2025-02-09 13:45:26,541 [13068] INFO     root: Iteration 5917: RMSE=0.6863, MAE=0.6863\n",
      "2025-02-09 13:45:26,640 [13068] INFO     root: Iteration 5918: RMSE=0.1136, MAE=0.1136\n",
      "2025-02-09 13:45:26,771 [13068] INFO     root: Iteration 5919: RMSE=0.4053, MAE=0.4053\n",
      "2025-02-09 13:45:26,869 [13068] INFO     root: Iteration 5920: RMSE=4.2272, MAE=4.2272\n",
      "2025-02-09 13:45:26,959 [13068] INFO     root: Iteration 5921: RMSE=0.5423, MAE=0.5423\n",
      "2025-02-09 13:45:27,070 [13068] INFO     root: Iteration 5922: RMSE=4.3271, MAE=4.3271\n",
      "2025-02-09 13:45:27,306 [13068] INFO     root: Iteration 5923: RMSE=6.4895, MAE=6.4895\n",
      "2025-02-09 13:45:27,428 [13068] INFO     root: Iteration 5924: RMSE=3.9035, MAE=3.9035\n",
      "2025-02-09 13:45:27,540 [13068] INFO     root: Iteration 5925: RMSE=1.9880, MAE=1.9880\n",
      "2025-02-09 13:45:27,642 [13068] INFO     root: Iteration 5926: RMSE=2.4681, MAE=2.4681\n",
      "2025-02-09 13:45:27,750 [13068] INFO     root: Iteration 5927: RMSE=6.5607, MAE=6.5607\n",
      "2025-02-09 13:45:27,860 [13068] INFO     root: Iteration 5928: RMSE=3.1092, MAE=3.1092\n",
      "2025-02-09 13:45:27,958 [13068] INFO     root: Iteration 5929: RMSE=21.1875, MAE=21.1875\n",
      "2025-02-09 13:45:28,175 [13068] INFO     root: Iteration 5930: RMSE=2.2324, MAE=2.2324\n",
      "2025-02-09 13:45:28,287 [13068] INFO     root: Iteration 5931: RMSE=6.3484, MAE=6.3484\n",
      "2025-02-09 13:45:28,402 [13068] INFO     root: Iteration 5932: RMSE=0.9176, MAE=0.9176\n",
      "2025-02-09 13:45:28,537 [13068] INFO     root: Iteration 5933: RMSE=1.2010, MAE=1.2010\n",
      "2025-02-09 13:45:28,645 [13068] INFO     root: Iteration 5934: RMSE=0.6820, MAE=0.6820\n",
      "2025-02-09 13:45:28,753 [13068] INFO     root: Iteration 5935: RMSE=1.2010, MAE=1.2010\n",
      "2025-02-09 13:45:28,964 [13068] INFO     root: Iteration 5936: RMSE=0.0190, MAE=0.0190\n",
      "2025-02-09 13:45:28,969 [13068] INFO     ml_monitor.logging: Starting metrics logging thread...\n",
      "2025-02-09 13:45:29,079 [13068] INFO     root: Iteration 5937: RMSE=2.4091, MAE=2.4091\n",
      "2025-02-09 13:45:29,177 [13068] INFO     root: Iteration 5938: RMSE=7.1880, MAE=7.1880\n",
      "2025-02-09 13:45:29,285 [13068] INFO     root: Iteration 5939: RMSE=2.7728, MAE=2.7728\n",
      "2025-02-09 13:45:29,380 [13068] INFO     root: Iteration 5940: RMSE=3.0641, MAE=3.0641\n",
      "2025-02-09 13:45:29,507 [13068] INFO     root: Iteration 5941: RMSE=1.6668, MAE=1.6668\n",
      "2025-02-09 13:45:29,600 [13068] INFO     root: Iteration 5942: RMSE=4.2619, MAE=4.2619\n",
      "2025-02-09 13:45:29,685 [13068] INFO     root: Iteration 5943: RMSE=1.3227, MAE=1.3227\n",
      "2025-02-09 13:45:29,963 [13068] INFO     root: Iteration 5944: RMSE=6.4895, MAE=6.4895\n",
      "2025-02-09 13:45:30,110 [13068] INFO     root: Iteration 5945: RMSE=3.2372, MAE=3.2372\n",
      "2025-02-09 13:45:30,241 [13068] INFO     root: Iteration 5946: RMSE=1.9470, MAE=1.9470\n",
      "2025-02-09 13:45:30,353 [13068] INFO     root: Iteration 5947: RMSE=5.3491, MAE=5.3491\n",
      "2025-02-09 13:45:30,489 [13068] INFO     root: Iteration 5948: RMSE=15.7679, MAE=15.7679\n",
      "2025-02-09 13:45:30,623 [13068] INFO     root: Iteration 5949: RMSE=2.0594, MAE=2.0594\n",
      "2025-02-09 13:45:30,789 [13068] INFO     root: Iteration 5950: RMSE=1.5147, MAE=1.5147\n",
      "2025-02-09 13:45:30,894 [13068] INFO     root: Iteration 5951: RMSE=3.0641, MAE=3.0641\n",
      "2025-02-09 13:45:31,099 [13068] INFO     root: Iteration 5952: RMSE=1.9954, MAE=1.9954\n",
      "2025-02-09 13:45:31,297 [13068] INFO     root: Iteration 5953: RMSE=7.4122, MAE=7.4122\n",
      "2025-02-09 13:45:31,470 [13068] INFO     root: Iteration 5954: RMSE=1.9374, MAE=1.9374\n",
      "2025-02-09 13:45:31,600 [13068] INFO     root: Iteration 5955: RMSE=2.9898, MAE=2.9898\n",
      "2025-02-09 13:45:31,725 [13068] INFO     root: Iteration 5956: RMSE=0.1550, MAE=0.1550\n",
      "2025-02-09 13:45:31,890 [13068] INFO     root: Iteration 5957: RMSE=0.1136, MAE=0.1136\n",
      "2025-02-09 13:45:32,005 [13068] INFO     root: Iteration 5958: RMSE=1.6861, MAE=1.6861\n",
      "2025-02-09 13:45:32,124 [13068] INFO     root: Iteration 5959: RMSE=0.4053, MAE=0.4053\n",
      "2025-02-09 13:45:32,250 [13068] INFO     root: Iteration 5960: RMSE=0.0190, MAE=0.0190\n",
      "2025-02-09 13:45:32,449 [13068] INFO     root: Iteration 5961: RMSE=3.0812, MAE=3.0812\n",
      "2025-02-09 13:45:33,203 [13068] INFO     root: Metrics pushed at iteration 5961. RMSE=3.0812, MAE=3.0812\n",
      "2025-02-09 13:45:33,374 [13068] INFO     root: Iteration 5962: RMSE=0.5423, MAE=0.5423\n",
      "2025-02-09 13:45:33,504 [13068] INFO     root: Iteration 5963: RMSE=1.9024, MAE=1.9024\n",
      "2025-02-09 13:45:33,646 [13068] INFO     root: Iteration 5964: RMSE=0.4811, MAE=0.4811\n",
      "2025-02-09 13:45:33,820 [13068] INFO     root: Iteration 5965: RMSE=2.6178, MAE=2.6178\n",
      "2025-02-09 13:45:34,021 [13068] INFO     ml_monitor.logging: Starting metrics logging thread...\n",
      "2025-02-09 13:45:34,506 [13068] INFO     root: Iteration 5966: RMSE=4.8742, MAE=4.8742\n",
      "2025-02-09 13:45:34,887 [13068] INFO     root: Iteration 5967: RMSE=0.2356, MAE=0.2356\n",
      "2025-02-09 13:45:35,407 [13068] INFO     root: Iteration 5968: RMSE=2.2319, MAE=2.2319\n",
      "2025-02-09 13:45:35,606 [13068] INFO     root: Iteration 5969: RMSE=0.4554, MAE=0.4554\n",
      "2025-02-09 13:45:35,891 [13068] INFO     root: Iteration 5970: RMSE=3.6498, MAE=3.6498\n",
      "2025-02-09 13:45:36,137 [13068] INFO     root: Iteration 5971: RMSE=1.5147, MAE=1.5147\n",
      "2025-02-09 13:45:36,491 [13068] INFO     root: Iteration 5972: RMSE=3.2950, MAE=3.2950\n",
      "2025-02-09 13:45:36,612 [13068] INFO     root: Iteration 5973: RMSE=3.2372, MAE=3.2372\n",
      "2025-02-09 13:45:36,723 [13068] INFO     root: Iteration 5974: RMSE=0.5028, MAE=0.5028\n",
      "2025-02-09 13:45:36,897 [13068] INFO     root: Iteration 5975: RMSE=0.0894, MAE=0.0894\n",
      "2025-02-09 13:45:37,010 [13068] INFO     root: Iteration 5976: RMSE=2.8002, MAE=2.8002\n",
      "2025-02-09 13:45:37,193 [13068] INFO     root: Iteration 5977: RMSE=5.3491, MAE=5.3491\n",
      "2025-02-09 13:45:37,397 [13068] INFO     root: Iteration 5978: RMSE=1.6668, MAE=1.6668\n",
      "2025-02-09 13:45:37,511 [13068] INFO     root: Iteration 5979: RMSE=4.2272, MAE=4.2272\n",
      "2025-02-09 13:45:37,628 [13068] INFO     root: Iteration 5980: RMSE=7.4122, MAE=7.4122\n",
      "2025-02-09 13:45:37,743 [13068] INFO     root: Iteration 5981: RMSE=0.6004, MAE=0.6004\n",
      "2025-02-09 13:45:37,925 [13068] INFO     root: Iteration 5982: RMSE=5.2814, MAE=5.2814\n",
      "2025-02-09 13:45:38,046 [13068] INFO     root: Iteration 5983: RMSE=2.9898, MAE=2.9898\n",
      "2025-02-09 13:45:38,164 [13068] INFO     root: Iteration 5984: RMSE=1.0525, MAE=1.0525\n",
      "2025-02-09 13:45:38,278 [13068] INFO     root: Iteration 5985: RMSE=0.6277, MAE=0.6277\n",
      "2025-02-09 13:45:38,386 [13068] INFO     root: Iteration 5986: RMSE=0.4278, MAE=0.4278\n",
      "2025-02-09 13:45:38,495 [13068] INFO     root: Iteration 5987: RMSE=5.1385, MAE=5.1385\n",
      "2025-02-09 13:45:38,602 [13068] INFO     root: Iteration 5988: RMSE=3.0812, MAE=3.0812\n",
      "2025-02-09 13:45:38,729 [13068] INFO     root: Iteration 5989: RMSE=0.5028, MAE=0.5028\n",
      "2025-02-09 13:45:38,961 [13068] INFO     root: Iteration 5990: RMSE=1.6861, MAE=1.6861\n",
      "2025-02-09 13:45:39,193 [13068] INFO     root: Iteration 5991: RMSE=1.2345, MAE=1.2345\n",
      "2025-02-09 13:45:39,294 [13068] INFO     ml_monitor.logging: Starting metrics logging thread...\n",
      "2025-02-09 13:45:39,499 [13068] INFO     root: Iteration 5992: RMSE=5.0666, MAE=5.0666\n",
      "2025-02-09 13:45:39,730 [13068] INFO     root: Iteration 5993: RMSE=1.9954, MAE=1.9954\n",
      "2025-02-09 13:45:39,844 [13068] INFO     root: Iteration 5994: RMSE=1.9024, MAE=1.9024\n",
      "2025-02-09 13:45:39,949 [13068] INFO     root: Iteration 5995: RMSE=3.9035, MAE=3.9035\n",
      "2025-02-09 13:45:40,069 [13068] INFO     root: Iteration 5996: RMSE=0.2356, MAE=0.2356\n",
      "2025-02-09 13:45:40,271 [13068] INFO     root: Iteration 5997: RMSE=1.9880, MAE=1.9880\n",
      "2025-02-09 13:45:40,371 [13068] INFO     root: Iteration 5998: RMSE=7.1880, MAE=7.1880\n",
      "2025-02-09 13:45:40,472 [13068] INFO     root: Iteration 5999: RMSE=5.1399, MAE=5.1399\n",
      "2025-02-09 13:45:40,590 [13068] INFO     root: Iteration 6000: RMSE=5.8175, MAE=5.8175\n",
      "2025-02-09 13:45:40,729 [13068] INFO     root: Iteration 6001: RMSE=0.5028, MAE=0.5028\n",
      "2025-02-09 13:45:41,220 [13068] INFO     root: Iteration 6002: RMSE=3.2372, MAE=3.2372\n",
      "2025-02-09 13:45:41,455 [13068] INFO     root: Iteration 6003: RMSE=0.6820, MAE=0.6820\n",
      "2025-02-09 13:45:41,696 [13068] INFO     root: Iteration 6004: RMSE=1.2841, MAE=1.2841\n",
      "2025-02-09 13:45:41,853 [13068] INFO     root: Iteration 6005: RMSE=3.2372, MAE=3.2372\n",
      "2025-02-09 13:45:42,014 [13068] INFO     root: Iteration 6006: RMSE=7.1880, MAE=7.1880\n",
      "2025-02-09 13:45:42,125 [13068] INFO     root: Iteration 6007: RMSE=1.2841, MAE=1.2841\n",
      "2025-02-09 13:45:42,238 [13068] INFO     root: Iteration 6008: RMSE=3.2372, MAE=3.2372\n",
      "2025-02-09 13:45:42,341 [13068] INFO     root: Iteration 6009: RMSE=5.1399, MAE=5.1399\n",
      "2025-02-09 13:45:42,453 [13068] INFO     root: Iteration 6010: RMSE=1.9024, MAE=1.9024\n",
      "2025-02-09 13:45:42,974 [13068] INFO     root: Metrics pushed at iteration 6010. RMSE=1.9024, MAE=1.9024\n",
      "2025-02-09 13:45:43,086 [13068] INFO     root: Iteration 6011: RMSE=1.3937, MAE=1.3937\n",
      "2025-02-09 13:45:43,183 [13068] INFO     root: Iteration 6012: RMSE=1.9891, MAE=1.9891\n",
      "2025-02-09 13:45:43,366 [13068] INFO     root: Iteration 6013: RMSE=1.9954, MAE=1.9954\n",
      "2025-02-09 13:45:43,519 [13068] INFO     root: Iteration 6014: RMSE=3.9228, MAE=3.9228\n",
      "2025-02-09 13:45:43,722 [13068] INFO     root: Iteration 6015: RMSE=4.2272, MAE=4.2272\n",
      "2025-02-09 13:45:43,837 [13068] INFO     root: Iteration 6016: RMSE=1.9891, MAE=1.9891\n",
      "2025-02-09 13:45:43,969 [13068] INFO     root: Iteration 6017: RMSE=1.3227, MAE=1.3227\n",
      "2025-02-09 13:45:44,099 [13068] INFO     root: Iteration 6018: RMSE=0.1640, MAE=0.1640\n",
      "2025-02-09 13:45:44,196 [13068] INFO     root: Iteration 6019: RMSE=2.5983, MAE=2.5983\n",
      "2025-02-09 13:45:44,375 [13068] INFO     root: Iteration 6020: RMSE=1.7964, MAE=1.7964\n",
      "2025-02-09 13:45:44,383 [13068] INFO     ml_monitor.logging: Starting metrics logging thread...\n",
      "2025-02-09 13:45:44,515 [13068] INFO     root: Iteration 6021: RMSE=1.7964, MAE=1.7964\n",
      "2025-02-09 13:45:44,652 [13068] INFO     root: Iteration 6022: RMSE=2.1020, MAE=2.1020\n",
      "2025-02-09 13:45:44,759 [13068] INFO     root: Iteration 6023: RMSE=2.0594, MAE=2.0594\n",
      "2025-02-09 13:45:44,872 [13068] INFO     root: Iteration 6024: RMSE=3.1092, MAE=3.1092\n",
      "2025-02-09 13:45:44,991 [13068] INFO     root: Iteration 6025: RMSE=0.5329, MAE=0.5329\n",
      "2025-02-09 13:45:45,146 [13068] INFO     root: Iteration 6026: RMSE=0.2356, MAE=0.2356\n",
      "2025-02-09 13:45:45,270 [13068] INFO     root: Iteration 6027: RMSE=3.0812, MAE=3.0812\n",
      "2025-02-09 13:45:45,381 [13068] INFO     root: Iteration 6028: RMSE=1.2345, MAE=1.2345\n",
      "2025-02-09 13:45:45,489 [13068] INFO     root: Iteration 6029: RMSE=3.1092, MAE=3.1092\n",
      "2025-02-09 13:45:45,707 [13068] INFO     root: Iteration 6030: RMSE=1.9834, MAE=1.9834\n",
      "2025-02-09 13:45:45,811 [13068] INFO     root: Iteration 6031: RMSE=7.1962, MAE=7.1962\n",
      "2025-02-09 13:45:45,918 [13068] INFO     root: Iteration 6032: RMSE=6.4895, MAE=6.4895\n",
      "2025-02-09 13:45:46,057 [13068] INFO     root: Iteration 6033: RMSE=2.7746, MAE=2.7746\n",
      "2025-02-09 13:45:46,170 [13068] INFO     root: Iteration 6034: RMSE=4.3700, MAE=4.3700\n",
      "2025-02-09 13:45:46,280 [13068] INFO     root: Iteration 6035: RMSE=5.1385, MAE=5.1385\n",
      "2025-02-09 13:45:46,384 [13068] INFO     root: Iteration 6036: RMSE=2.4681, MAE=2.4681\n",
      "2025-02-09 13:45:46,492 [13068] INFO     root: Iteration 6037: RMSE=2.4681, MAE=2.4681\n",
      "2025-02-09 13:45:46,677 [13068] INFO     root: Iteration 6038: RMSE=0.1636, MAE=0.1636\n",
      "2025-02-09 13:45:46,816 [13068] INFO     root: Iteration 6039: RMSE=1.9470, MAE=1.9470\n",
      "2025-02-09 13:45:46,958 [13068] INFO     root: Iteration 6040: RMSE=3.0641, MAE=3.0641\n",
      "2025-02-09 13:45:47,106 [13068] INFO     root: Iteration 6041: RMSE=0.1640, MAE=0.1640\n",
      "2025-02-09 13:45:47,220 [13068] INFO     root: Iteration 6042: RMSE=1.2010, MAE=1.2010\n",
      "2025-02-09 13:45:47,412 [13068] INFO     root: Iteration 6043: RMSE=3.0812, MAE=3.0812\n",
      "2025-02-09 13:45:47,546 [13068] INFO     root: Iteration 6044: RMSE=0.6863, MAE=0.6863\n",
      "2025-02-09 13:45:47,676 [13068] INFO     root: Iteration 6045: RMSE=2.5983, MAE=2.5983\n",
      "2025-02-09 13:45:47,804 [13068] INFO     root: Iteration 6046: RMSE=3.0812, MAE=3.0812\n",
      "2025-02-09 13:45:47,922 [13068] INFO     root: Iteration 6047: RMSE=0.6277, MAE=0.6277\n",
      "2025-02-09 13:45:48,094 [13068] INFO     root: Iteration 6048: RMSE=1.6861, MAE=1.6861\n",
      "2025-02-09 13:45:48,202 [13068] INFO     root: Iteration 6049: RMSE=5.1399, MAE=5.1399\n",
      "2025-02-09 13:45:48,333 [13068] INFO     root: Iteration 6050: RMSE=0.6277, MAE=0.6277\n",
      "2025-02-09 13:45:48,470 [13068] INFO     root: Iteration 6051: RMSE=0.0329, MAE=0.0329\n",
      "2025-02-09 13:45:48,605 [13068] INFO     root: Iteration 6052: RMSE=2.4407, MAE=2.4407\n",
      "2025-02-09 13:45:48,854 [13068] INFO     root: Iteration 6053: RMSE=3.9035, MAE=3.9035\n",
      "2025-02-09 13:45:48,987 [13068] INFO     root: Iteration 6054: RMSE=1.9024, MAE=1.9024\n",
      "2025-02-09 13:45:49,124 [13068] INFO     root: Iteration 6055: RMSE=5.2814, MAE=5.2814\n",
      "2025-02-09 13:45:49,231 [13068] INFO     root: Iteration 6056: RMSE=4.8742, MAE=4.8742\n",
      "2025-02-09 13:45:49,352 [13068] INFO     root: Iteration 6057: RMSE=0.8280, MAE=0.8280\n",
      "2025-02-09 13:45:49,408 [13068] INFO     ml_monitor.logging: Starting metrics logging thread...\n",
      "2025-02-09 13:45:49,492 [13068] INFO     root: Iteration 6058: RMSE=0.9176, MAE=0.9176\n",
      "2025-02-09 13:45:49,614 [13068] INFO     root: Iteration 6059: RMSE=1.0837, MAE=1.0837\n",
      "2025-02-09 13:45:49,838 [13068] INFO     root: Iteration 6060: RMSE=0.8502, MAE=0.8502\n",
      "2025-02-09 13:45:49,971 [13068] INFO     root: Iteration 6061: RMSE=0.0894, MAE=0.0894\n",
      "2025-02-09 13:45:50,120 [13068] INFO     root: Iteration 6062: RMSE=2.4681, MAE=2.4681\n",
      "2025-02-09 13:45:50,268 [13068] INFO     root: Iteration 6063: RMSE=1.6668, MAE=1.6668\n",
      "2025-02-09 13:45:50,387 [13068] INFO     root: Iteration 6064: RMSE=3.9228, MAE=3.9228\n",
      "2025-02-09 13:45:50,518 [13068] INFO     root: Iteration 6065: RMSE=2.4681, MAE=2.4681\n",
      "2025-02-09 13:45:50,787 [13068] INFO     root: Iteration 6066: RMSE=3.6498, MAE=3.6498\n",
      "2025-02-09 13:45:50,921 [13068] INFO     root: Iteration 6067: RMSE=3.9228, MAE=3.9228\n",
      "2025-02-09 13:45:51,079 [13068] INFO     root: Iteration 6068: RMSE=1.6668, MAE=1.6668\n",
      "2025-02-09 13:45:51,221 [13068] INFO     root: Iteration 6069: RMSE=2.1957, MAE=2.1957\n",
      "2025-02-09 13:45:51,359 [13068] INFO     root: Iteration 6070: RMSE=2.7746, MAE=2.7746\n",
      "2025-02-09 13:45:51,482 [13068] INFO     root: Iteration 6071: RMSE=4.2619, MAE=4.2619\n",
      "2025-02-09 13:45:51,607 [13068] INFO     root: Iteration 6072: RMSE=0.6367, MAE=0.6367\n",
      "2025-02-09 13:45:51,871 [13068] INFO     root: Iteration 6073: RMSE=3.6498, MAE=3.6498\n",
      "2025-02-09 13:45:51,998 [13068] INFO     root: Iteration 6074: RMSE=1.2345, MAE=1.2345\n",
      "2025-02-09 13:45:52,164 [13068] INFO     root: Iteration 6075: RMSE=0.6820, MAE=0.6820\n",
      "2025-02-09 13:45:52,307 [13068] INFO     root: Iteration 6076: RMSE=2.4407, MAE=2.4407\n",
      "2025-02-09 13:45:52,450 [13068] INFO     root: Iteration 6077: RMSE=0.2356, MAE=0.2356\n",
      "2025-02-09 13:45:52,614 [13068] INFO     root: Iteration 6078: RMSE=1.7797, MAE=1.7797\n",
      "2025-02-09 13:45:53,255 [13068] INFO     root: Metrics pushed at iteration 6078. RMSE=1.7797, MAE=1.7797\n",
      "2025-02-09 13:45:53,423 [13068] INFO     root: Iteration 6079: RMSE=3.6498, MAE=3.6498\n",
      "2025-02-09 13:45:53,571 [13068] INFO     root: Iteration 6080: RMSE=2.1957, MAE=2.1957\n",
      "2025-02-09 13:45:53,721 [13068] INFO     root: Iteration 6081: RMSE=2.7728, MAE=2.7728\n",
      "2025-02-09 13:45:53,848 [13068] INFO     root: Iteration 6082: RMSE=4.2272, MAE=4.2272\n",
      "2025-02-09 13:45:53,975 [13068] INFO     root: Iteration 6083: RMSE=0.0190, MAE=0.0190\n",
      "2025-02-09 13:45:54,166 [13068] INFO     root: Iteration 6084: RMSE=2.5855, MAE=2.5855\n",
      "2025-02-09 13:45:54,325 [13068] INFO     root: Iteration 6085: RMSE=2.7746, MAE=2.7746\n",
      "2025-02-09 13:45:54,452 [13068] INFO     ml_monitor.logging: Starting metrics logging thread...\n",
      "2025-02-09 13:45:54,489 [13068] INFO     root: Iteration 6086: RMSE=15.7679, MAE=15.7679\n",
      "2025-02-09 13:45:54,673 [13068] INFO     root: Iteration 6087: RMSE=3.9035, MAE=3.9035\n",
      "2025-02-09 13:45:54,797 [13068] INFO     root: Iteration 6088: RMSE=0.4053, MAE=0.4053\n",
      "2025-02-09 13:45:54,986 [13068] INFO     root: Iteration 6089: RMSE=0.5028, MAE=0.5028\n",
      "2025-02-09 13:45:55,128 [13068] INFO     root: Iteration 6090: RMSE=5.1399, MAE=5.1399\n",
      "2025-02-09 13:45:55,255 [13068] INFO     root: Iteration 6091: RMSE=0.8502, MAE=0.8502\n",
      "2025-02-09 13:45:55,372 [13068] INFO     root: Iteration 6092: RMSE=2.5855, MAE=2.5855\n",
      "2025-02-09 13:45:55,499 [13068] INFO     root: Iteration 6093: RMSE=2.2319, MAE=2.2319\n",
      "2025-02-09 13:45:55,645 [13068] INFO     root: Iteration 6094: RMSE=0.8280, MAE=0.8280\n",
      "2025-02-09 13:45:55,767 [13068] INFO     root: Iteration 6095: RMSE=2.2823, MAE=2.2823\n",
      "2025-02-09 13:45:55,925 [13068] INFO     root: Iteration 6096: RMSE=0.8502, MAE=0.8502\n",
      "2025-02-09 13:45:56,068 [13068] INFO     root: Iteration 6097: RMSE=1.5147, MAE=1.5147\n",
      "2025-02-09 13:45:56,239 [13068] INFO     root: Iteration 6098: RMSE=2.1281, MAE=2.1281\n",
      "2025-02-09 13:45:56,387 [13068] INFO     root: Iteration 6099: RMSE=3.1701, MAE=3.1701\n",
      "2025-02-09 13:45:56,531 [13068] INFO     root: Iteration 6100: RMSE=2.7728, MAE=2.7728\n",
      "2025-02-09 13:45:56,658 [13068] INFO     root: Iteration 6101: RMSE=1.7964, MAE=1.7964\n",
      "2025-02-09 13:45:56,781 [13068] INFO     root: Iteration 6102: RMSE=0.5028, MAE=0.5028\n",
      "2025-02-09 13:45:56,895 [13068] INFO     root: Iteration 6103: RMSE=3.1092, MAE=3.1092\n",
      "2025-02-09 13:45:57,151 [13068] INFO     root: Iteration 6104: RMSE=5.1385, MAE=5.1385\n",
      "2025-02-09 13:45:57,333 [13068] INFO     root: Iteration 6105: RMSE=0.1550, MAE=0.1550\n",
      "2025-02-09 13:45:57,503 [13068] INFO     root: Iteration 6106: RMSE=1.3937, MAE=1.3937\n",
      "2025-02-09 13:45:57,695 [13068] INFO     root: Iteration 6107: RMSE=2.0594, MAE=2.0594\n",
      "2025-02-09 13:45:57,850 [13068] INFO     root: Iteration 6108: RMSE=0.5329, MAE=0.5329\n",
      "2025-02-09 13:45:58,156 [13068] INFO     root: Iteration 6109: RMSE=0.1640, MAE=0.1640\n",
      "2025-02-09 13:45:58,365 [13068] INFO     root: Iteration 6110: RMSE=6.3484, MAE=6.3484\n",
      "2025-02-09 13:45:58,492 [13068] INFO     root: Iteration 6111: RMSE=5.1399, MAE=5.1399\n",
      "2025-02-09 13:45:58,639 [13068] INFO     root: Iteration 6112: RMSE=0.0329, MAE=0.0329\n",
      "2025-02-09 13:45:58,805 [13068] INFO     root: Iteration 6113: RMSE=5.0666, MAE=5.0666\n",
      "2025-02-09 13:45:58,945 [13068] INFO     root: Iteration 6114: RMSE=2.5983, MAE=2.5983\n",
      "2025-02-09 13:45:59,078 [13068] INFO     root: Iteration 6115: RMSE=0.9510, MAE=0.9510\n",
      "2025-02-09 13:45:59,284 [13068] INFO     root: Iteration 6116: RMSE=0.8360, MAE=0.8360\n",
      "2025-02-09 13:45:59,421 [13068] INFO     root: Iteration 6117: RMSE=0.2445, MAE=0.2445\n",
      "2025-02-09 13:45:59,504 [13068] INFO     ml_monitor.logging: Starting metrics logging thread...\n",
      "2025-02-09 13:45:59,571 [13068] INFO     root: Iteration 6118: RMSE=0.8295, MAE=0.8295\n",
      "2025-02-09 13:45:59,686 [13068] INFO     root: Iteration 6119: RMSE=0.1636, MAE=0.1636\n",
      "2025-02-09 13:45:59,848 [13068] INFO     root: Iteration 6120: RMSE=0.8295, MAE=0.8295\n",
      "2025-02-09 13:45:59,973 [13068] INFO     root: Iteration 6121: RMSE=0.2445, MAE=0.2445\n",
      "2025-02-09 13:46:00,090 [13068] INFO     root: Iteration 6122: RMSE=0.1636, MAE=0.1636\n",
      "2025-02-09 13:46:00,263 [13068] INFO     root: Iteration 6123: RMSE=7.4122, MAE=7.4122\n",
      "2025-02-09 13:46:00,370 [13068] INFO     root: Iteration 6124: RMSE=3.2950, MAE=3.2950\n",
      "2025-02-09 13:46:00,507 [13068] INFO     root: Iteration 6125: RMSE=2.7746, MAE=2.7746\n",
      "2025-02-09 13:46:00,654 [13068] INFO     root: Iteration 6126: RMSE=6.3484, MAE=6.3484\n",
      "2025-02-09 13:46:00,854 [13068] INFO     root: Iteration 6127: RMSE=3.0641, MAE=3.0641\n",
      "2025-02-09 13:46:01,089 [13068] INFO     root: Iteration 6128: RMSE=1.7964, MAE=1.7964\n",
      "2025-02-09 13:46:01,214 [13068] INFO     root: Iteration 6129: RMSE=1.9891, MAE=1.9891\n",
      "2025-02-09 13:46:01,351 [13068] INFO     root: Iteration 6130: RMSE=2.2324, MAE=2.2324\n",
      "2025-02-09 13:46:01,488 [13068] INFO     root: Iteration 6131: RMSE=2.2823, MAE=2.2823\n",
      "2025-02-09 13:46:01,643 [13068] INFO     root: Iteration 6132: RMSE=1.0837, MAE=1.0837\n",
      "2025-02-09 13:46:01,774 [13068] INFO     root: Iteration 6133: RMSE=1.9834, MAE=1.9834\n",
      "2025-02-09 13:46:01,916 [13068] INFO     root: Iteration 6134: RMSE=6.3484, MAE=6.3484\n",
      "2025-02-09 13:46:02,056 [13068] INFO     root: Iteration 6135: RMSE=1.5147, MAE=1.5147\n",
      "2025-02-09 13:46:02,289 [13068] INFO     root: Iteration 6136: RMSE=1.0783, MAE=1.0783\n",
      "2025-02-09 13:46:02,425 [13068] INFO     root: Iteration 6137: RMSE=3.1092, MAE=3.1092\n",
      "2025-02-09 13:46:02,568 [13068] INFO     root: Iteration 6138: RMSE=6.3484, MAE=6.3484\n",
      "2025-02-09 13:46:02,669 [13068] INFO     root: Iteration 6139: RMSE=2.7728, MAE=2.7728\n",
      "2025-02-09 13:46:03,349 [13068] INFO     root: Metrics pushed at iteration 6139. RMSE=2.7728, MAE=2.7728\n",
      "2025-02-09 13:46:03,489 [13068] INFO     root: Iteration 6140: RMSE=1.6861, MAE=1.6861\n",
      "2025-02-09 13:46:03,604 [13068] INFO     root: Iteration 6141: RMSE=2.2324, MAE=2.2324\n",
      "2025-02-09 13:46:03,713 [13068] INFO     root: Iteration 6142: RMSE=3.6498, MAE=3.6498\n",
      "2025-02-09 13:46:03,846 [13068] INFO     root: Iteration 6143: RMSE=2.4091, MAE=2.4091\n",
      "2025-02-09 13:46:03,966 [13068] INFO     root: Iteration 6144: RMSE=5.2814, MAE=5.2814\n",
      "2025-02-09 13:46:04,096 [13068] INFO     root: Iteration 6145: RMSE=1.0837, MAE=1.0837\n",
      "2025-02-09 13:46:04,307 [13068] INFO     root: Iteration 6146: RMSE=3.1701, MAE=3.1701\n",
      "2025-02-09 13:46:04,422 [13068] INFO     root: Iteration 6147: RMSE=5.8811, MAE=5.8811\n",
      "2025-02-09 13:46:04,529 [13068] INFO     ml_monitor.logging: Starting metrics logging thread...\n",
      "2025-02-09 13:46:04,551 [13068] INFO     root: Iteration 6148: RMSE=1.9024, MAE=1.9024\n",
      "2025-02-09 13:46:04,677 [13068] INFO     root: Iteration 6149: RMSE=6.4895, MAE=6.4895\n",
      "2025-02-09 13:46:04,777 [13068] INFO     root: Iteration 6150: RMSE=2.1281, MAE=2.1281\n",
      "2025-02-09 13:46:04,883 [13068] INFO     root: Iteration 6151: RMSE=0.8280, MAE=0.8280\n",
      "2025-02-09 13:46:04,992 [13068] INFO     root: Iteration 6152: RMSE=5.3491, MAE=5.3491\n",
      "2025-02-09 13:46:05,106 [13068] INFO     root: Iteration 6153: RMSE=2.9898, MAE=2.9898\n",
      "2025-02-09 13:46:05,289 [13068] INFO     root: Iteration 6154: RMSE=1.7964, MAE=1.7964\n",
      "2025-02-09 13:46:05,387 [13068] INFO     root: Iteration 6155: RMSE=5.1399, MAE=5.1399\n",
      "2025-02-09 13:46:05,483 [13068] INFO     root: Iteration 6156: RMSE=1.9880, MAE=1.9880\n",
      "2025-02-09 13:46:05,579 [13068] INFO     root: Iteration 6157: RMSE=0.8360, MAE=0.8360\n",
      "2025-02-09 13:46:05,709 [13068] INFO     root: Iteration 6158: RMSE=0.8360, MAE=0.8360\n",
      "2025-02-09 13:46:05,916 [13068] INFO     root: Iteration 6159: RMSE=0.2356, MAE=0.2356\n",
      "2025-02-09 13:46:06,019 [13068] INFO     root: Iteration 6160: RMSE=2.6178, MAE=2.6178\n",
      "2025-02-09 13:46:06,134 [13068] INFO     root: Iteration 6161: RMSE=4.2619, MAE=4.2619\n",
      "2025-02-09 13:46:06,247 [13068] INFO     root: Iteration 6162: RMSE=1.0837, MAE=1.0837\n",
      "2025-02-09 13:46:06,374 [13068] INFO     root: Iteration 6163: RMSE=0.8502, MAE=0.8502\n",
      "2025-02-09 13:46:06,473 [13068] INFO     root: Iteration 6164: RMSE=4.2733, MAE=4.2733\n",
      "2025-02-09 13:46:06,583 [13068] INFO     root: Iteration 6165: RMSE=1.2841, MAE=1.2841\n",
      "2025-02-09 13:46:06,747 [13068] INFO     root: Iteration 6166: RMSE=1.9470, MAE=1.9470\n",
      "2025-02-09 13:46:06,848 [13068] INFO     root: Iteration 6167: RMSE=0.1636, MAE=0.1636\n",
      "2025-02-09 13:46:06,946 [13068] INFO     root: Iteration 6168: RMSE=3.2950, MAE=3.2950\n",
      "2025-02-09 13:46:07,048 [13068] INFO     root: Iteration 6169: RMSE=5.2814, MAE=5.2814\n",
      "2025-02-09 13:46:07,146 [13068] INFO     root: Iteration 6170: RMSE=1.9834, MAE=1.9834\n",
      "2025-02-09 13:46:07,258 [13068] INFO     root: Iteration 6171: RMSE=1.0783, MAE=1.0783\n",
      "2025-02-09 13:46:07,420 [13068] INFO     root: Iteration 6172: RMSE=0.1136, MAE=0.1136\n",
      "2025-02-09 13:46:07,541 [13068] INFO     root: Iteration 6173: RMSE=0.9201, MAE=0.9201\n",
      "2025-02-09 13:46:07,652 [13068] INFO     root: Iteration 6174: RMSE=4.2530, MAE=4.2530\n",
      "2025-02-09 13:46:07,758 [13068] INFO     root: Iteration 6175: RMSE=0.6863, MAE=0.6863\n",
      "2025-02-09 13:46:07,858 [13068] INFO     root: Iteration 6176: RMSE=3.0048, MAE=3.0048\n",
      "2025-02-09 13:46:07,953 [13068] INFO     root: Iteration 6177: RMSE=4.8742, MAE=4.8742\n",
      "2025-02-09 13:46:08,068 [13068] INFO     root: Iteration 6178: RMSE=1.0341, MAE=1.0341\n",
      "2025-02-09 13:46:08,168 [13068] INFO     root: Iteration 6179: RMSE=1.2841, MAE=1.2841\n",
      "2025-02-09 13:46:08,260 [13068] INFO     root: Iteration 6180: RMSE=3.2372, MAE=3.2372\n",
      "2025-02-09 13:46:08,422 [13068] INFO     root: Iteration 6181: RMSE=3.0048, MAE=3.0048\n",
      "2025-02-09 13:46:08,527 [13068] INFO     root: Iteration 6182: RMSE=1.7797, MAE=1.7797\n",
      "2025-02-09 13:46:08,629 [13068] INFO     root: Iteration 6183: RMSE=5.2814, MAE=5.2814\n",
      "2025-02-09 13:46:08,728 [13068] INFO     root: Iteration 6184: RMSE=0.1636, MAE=0.1636\n",
      "2025-02-09 13:46:08,842 [13068] INFO     root: Iteration 6185: RMSE=5.0666, MAE=5.0666\n",
      "2025-02-09 13:46:08,929 [13068] INFO     root: Iteration 6186: RMSE=0.1636, MAE=0.1636\n",
      "2025-02-09 13:46:09,024 [13068] INFO     root: Iteration 6187: RMSE=0.8295, MAE=0.8295\n",
      "2025-02-09 13:46:09,130 [13068] INFO     root: Iteration 6188: RMSE=0.2445, MAE=0.2445\n",
      "2025-02-09 13:46:09,241 [13068] INFO     root: Iteration 6189: RMSE=1.7797, MAE=1.7797\n",
      "2025-02-09 13:46:09,333 [13068] INFO     root: Iteration 6190: RMSE=2.7746, MAE=2.7746\n",
      "2025-02-09 13:46:09,429 [13068] INFO     root: Iteration 6191: RMSE=15.7679, MAE=15.7679\n",
      "2025-02-09 13:46:09,539 [13068] INFO     root: Iteration 6192: RMSE=1.6668, MAE=1.6668\n",
      "2025-02-09 13:46:09,544 [13068] INFO     ml_monitor.logging: Starting metrics logging thread...\n",
      "2025-02-09 13:46:09,641 [13068] INFO     root: Iteration 6193: RMSE=0.1136, MAE=0.1136\n",
      "2025-02-09 13:46:09,739 [13068] INFO     root: Iteration 6194: RMSE=3.0641, MAE=3.0641\n",
      "2025-02-09 13:46:09,835 [13068] INFO     root: Iteration 6195: RMSE=6.4895, MAE=6.4895\n",
      "2025-02-09 13:46:09,929 [13068] INFO     root: Iteration 6196: RMSE=4.2530, MAE=4.2530\n",
      "2025-02-09 13:46:10,019 [13068] INFO     root: Iteration 6197: RMSE=3.0048, MAE=3.0048\n",
      "2025-02-09 13:46:10,126 [13068] INFO     root: Iteration 6198: RMSE=2.5983, MAE=2.5983\n",
      "2025-02-09 13:46:10,279 [13068] INFO     root: Iteration 6199: RMSE=0.1550, MAE=0.1550\n",
      "2025-02-09 13:46:10,391 [13068] INFO     root: Iteration 6200: RMSE=21.1875, MAE=21.1875\n",
      "2025-02-09 13:46:10,491 [13068] INFO     root: Iteration 6201: RMSE=0.0329, MAE=0.0329\n",
      "2025-02-09 13:46:10,588 [13068] INFO     root: Iteration 6202: RMSE=4.3700, MAE=4.3700\n",
      "2025-02-09 13:46:10,726 [13068] INFO     root: Iteration 6203: RMSE=7.1962, MAE=7.1962\n",
      "2025-02-09 13:46:10,884 [13068] INFO     root: Iteration 6204: RMSE=0.9510, MAE=0.9510\n",
      "2025-02-09 13:46:10,986 [13068] INFO     root: Iteration 6205: RMSE=0.8502, MAE=0.8502\n",
      "2025-02-09 13:46:11,086 [13068] INFO     root: Iteration 6206: RMSE=0.6367, MAE=0.6367\n",
      "2025-02-09 13:46:11,180 [13068] INFO     root: Iteration 6207: RMSE=15.7679, MAE=15.7679\n",
      "2025-02-09 13:46:11,422 [13068] INFO     root: Iteration 6208: RMSE=0.1636, MAE=0.1636\n",
      "2025-02-09 13:46:11,538 [13068] INFO     root: Iteration 6209: RMSE=3.0048, MAE=3.0048\n",
      "2025-02-09 13:46:11,670 [13068] INFO     root: Iteration 6210: RMSE=0.1550, MAE=0.1550\n",
      "2025-02-09 13:46:11,806 [13068] INFO     root: Iteration 6211: RMSE=0.4278, MAE=0.4278\n",
      "2025-02-09 13:46:11,976 [13068] INFO     root: Iteration 6212: RMSE=1.0341, MAE=1.0341\n",
      "2025-02-09 13:46:12,091 [13068] INFO     root: Iteration 6213: RMSE=2.7746, MAE=2.7746\n",
      "2025-02-09 13:46:12,210 [13068] INFO     root: Iteration 6214: RMSE=15.7679, MAE=15.7679\n",
      "2025-02-09 13:46:12,332 [13068] INFO     root: Iteration 6215: RMSE=1.9834, MAE=1.9834\n",
      "2025-02-09 13:46:12,550 [13068] INFO     root: Iteration 6216: RMSE=1.5289, MAE=1.5289\n",
      "2025-02-09 13:46:12,667 [13068] INFO     root: Iteration 6217: RMSE=1.9470, MAE=1.9470\n",
      "2025-02-09 13:46:12,777 [13068] INFO     root: Iteration 6218: RMSE=1.9374, MAE=1.9374\n",
      "2025-02-09 13:46:13,308 [13068] INFO     root: Metrics pushed at iteration 6218. RMSE=1.9374, MAE=1.9374\n",
      "2025-02-09 13:46:13,424 [13068] INFO     root: Iteration 6219: RMSE=3.0048, MAE=3.0048\n",
      "2025-02-09 13:46:13,575 [13068] INFO     root: Iteration 6220: RMSE=0.9201, MAE=0.9201\n",
      "2025-02-09 13:46:13,709 [13068] INFO     root: Iteration 6221: RMSE=5.3491, MAE=5.3491\n",
      "2025-02-09 13:46:13,947 [13068] INFO     root: Iteration 6222: RMSE=2.2319, MAE=2.2319\n",
      "2025-02-09 13:46:14,061 [13068] INFO     root: Iteration 6223: RMSE=7.4122, MAE=7.4122\n",
      "2025-02-09 13:46:14,174 [13068] INFO     root: Iteration 6224: RMSE=5.1399, MAE=5.1399\n",
      "2025-02-09 13:46:14,288 [13068] INFO     root: Iteration 6225: RMSE=0.4278, MAE=0.4278\n",
      "2025-02-09 13:46:14,386 [13068] INFO     root: Iteration 6226: RMSE=0.9201, MAE=0.9201\n",
      "2025-02-09 13:46:14,499 [13068] INFO     root: Iteration 6227: RMSE=4.3271, MAE=4.3271\n",
      "2025-02-09 13:46:14,562 [13068] INFO     ml_monitor.logging: Starting metrics logging thread...\n",
      "2025-02-09 13:46:14,619 [13068] INFO     root: Iteration 6228: RMSE=3.2950, MAE=3.2950\n",
      "2025-02-09 13:46:14,765 [13068] INFO     root: Iteration 6229: RMSE=5.0666, MAE=5.0666\n",
      "2025-02-09 13:46:14,953 [13068] INFO     root: Iteration 6230: RMSE=1.0837, MAE=1.0837\n",
      "2025-02-09 13:46:15,063 [13068] INFO     root: Iteration 6231: RMSE=1.0837, MAE=1.0837\n",
      "2025-02-09 13:46:15,161 [13068] INFO     root: Iteration 6232: RMSE=0.4554, MAE=0.4554\n",
      "2025-02-09 13:46:15,249 [13068] INFO     root: Iteration 6233: RMSE=0.9690, MAE=0.9690\n",
      "2025-02-09 13:46:15,359 [13068] INFO     root: Iteration 6234: RMSE=3.1701, MAE=3.1701\n",
      "2025-02-09 13:46:15,455 [13068] INFO     root: Iteration 6235: RMSE=0.8280, MAE=0.8280\n",
      "2025-02-09 13:46:15,539 [13068] INFO     root: Iteration 6236: RMSE=0.1636, MAE=0.1636\n",
      "2025-02-09 13:46:15,632 [13068] INFO     root: Iteration 6237: RMSE=0.9201, MAE=0.9201\n",
      "2025-02-09 13:46:15,731 [13068] INFO     root: Iteration 6238: RMSE=1.7964, MAE=1.7964\n",
      "2025-02-09 13:46:15,827 [13068] INFO     root: Iteration 6239: RMSE=1.9374, MAE=1.9374\n",
      "2025-02-09 13:46:15,992 [13068] INFO     root: Iteration 6240: RMSE=0.0894, MAE=0.0894\n",
      "2025-02-09 13:46:16,088 [13068] INFO     root: Iteration 6241: RMSE=2.4681, MAE=2.4681\n",
      "2025-02-09 13:46:16,183 [13068] INFO     root: Iteration 6242: RMSE=2.2319, MAE=2.2319\n",
      "2025-02-09 13:46:16,289 [13068] INFO     root: Iteration 6243: RMSE=0.9176, MAE=0.9176\n",
      "2025-02-09 13:46:16,404 [13068] INFO     root: Iteration 6244: RMSE=4.8742, MAE=4.8742\n",
      "2025-02-09 13:46:16,501 [13068] INFO     root: Iteration 6245: RMSE=2.4091, MAE=2.4091\n",
      "2025-02-09 13:46:16,587 [13068] INFO     root: Iteration 6246: RMSE=1.0837, MAE=1.0837\n",
      "2025-02-09 13:46:16,684 [13068] INFO     root: Iteration 6247: RMSE=0.8295, MAE=0.8295\n",
      "2025-02-09 13:46:16,789 [13068] INFO     root: Iteration 6248: RMSE=0.2922, MAE=0.2922\n",
      "2025-02-09 13:46:16,893 [13068] INFO     root: Iteration 6249: RMSE=0.6820, MAE=0.6820\n",
      "2025-02-09 13:46:17,037 [13068] INFO     root: Iteration 6250: RMSE=1.6861, MAE=1.6861\n",
      "2025-02-09 13:46:17,123 [13068] INFO     root: Iteration 6251: RMSE=2.4091, MAE=2.4091\n",
      "2025-02-09 13:46:17,221 [13068] INFO     root: Iteration 6252: RMSE=3.0048, MAE=3.0048\n",
      "2025-02-09 13:46:17,317 [13068] INFO     root: Iteration 6253: RMSE=0.9201, MAE=0.9201\n",
      "2025-02-09 13:46:17,420 [13068] INFO     root: Iteration 6254: RMSE=0.6277, MAE=0.6277\n",
      "2025-02-09 13:46:17,526 [13068] INFO     root: Iteration 6255: RMSE=1.3937, MAE=1.3937\n",
      "2025-02-09 13:46:17,617 [13068] INFO     root: Iteration 6256: RMSE=0.6863, MAE=0.6863\n",
      "2025-02-09 13:46:17,727 [13068] INFO     root: Iteration 6257: RMSE=4.3700, MAE=4.3700\n",
      "2025-02-09 13:46:17,821 [13068] INFO     root: Iteration 6258: RMSE=0.4811, MAE=0.4811\n",
      "2025-02-09 13:46:17,908 [13068] INFO     root: Iteration 6259: RMSE=1.5289, MAE=1.5289\n",
      "2025-02-09 13:46:18,075 [13068] INFO     root: Iteration 6260: RMSE=0.1640, MAE=0.1640\n",
      "2025-02-09 13:46:18,164 [13068] INFO     root: Iteration 6261: RMSE=3.0812, MAE=3.0812\n",
      "2025-02-09 13:46:18,278 [13068] INFO     root: Iteration 6262: RMSE=2.4681, MAE=2.4681\n",
      "2025-02-09 13:46:18,385 [13068] INFO     root: Iteration 6263: RMSE=1.2010, MAE=1.2010\n",
      "2025-02-09 13:46:18,485 [13068] INFO     root: Iteration 6264: RMSE=3.2950, MAE=3.2950\n",
      "2025-02-09 13:46:18,579 [13068] INFO     root: Iteration 6265: RMSE=3.2950, MAE=3.2950\n",
      "2025-02-09 13:46:18,684 [13068] INFO     root: Iteration 6266: RMSE=1.7797, MAE=1.7797\n",
      "2025-02-09 13:46:18,783 [13068] INFO     root: Iteration 6267: RMSE=4.3700, MAE=4.3700\n",
      "2025-02-09 13:46:18,879 [13068] INFO     root: Iteration 6268: RMSE=3.2372, MAE=3.2372\n",
      "2025-02-09 13:46:18,965 [13068] INFO     root: Iteration 6269: RMSE=21.1875, MAE=21.1875\n",
      "2025-02-09 13:46:19,058 [13068] INFO     root: Iteration 6270: RMSE=0.9201, MAE=0.9201\n",
      "2025-02-09 13:46:19,249 [13068] INFO     root: Iteration 6271: RMSE=2.4091, MAE=2.4091\n",
      "2025-02-09 13:46:19,352 [13068] INFO     root: Iteration 6272: RMSE=3.6498, MAE=3.6498\n",
      "2025-02-09 13:46:19,443 [13068] INFO     root: Iteration 6273: RMSE=2.5983, MAE=2.5983\n",
      "2025-02-09 13:46:19,549 [13068] INFO     root: Iteration 6274: RMSE=2.4407, MAE=2.4407\n",
      "2025-02-09 13:46:19,579 [13068] INFO     ml_monitor.logging: Starting metrics logging thread...\n",
      "2025-02-09 13:46:19,663 [13068] INFO     root: Iteration 6275: RMSE=0.8502, MAE=0.8502\n",
      "2025-02-09 13:46:19,875 [13068] INFO     root: Iteration 6276: RMSE=2.5855, MAE=2.5855\n",
      "2025-02-09 13:46:19,987 [13068] INFO     root: Iteration 6277: RMSE=1.0837, MAE=1.0837\n",
      "2025-02-09 13:46:20,106 [13068] INFO     root: Iteration 6278: RMSE=0.8295, MAE=0.8295\n",
      "2025-02-09 13:46:20,218 [13068] INFO     root: Iteration 6279: RMSE=0.5423, MAE=0.5423\n",
      "2025-02-09 13:46:20,329 [13068] INFO     root: Iteration 6280: RMSE=1.0525, MAE=1.0525\n",
      "2025-02-09 13:46:20,459 [13068] INFO     root: Iteration 6281: RMSE=4.2733, MAE=4.2733\n",
      "2025-02-09 13:46:20,581 [13068] INFO     root: Iteration 6282: RMSE=1.9880, MAE=1.9880\n",
      "2025-02-09 13:46:20,714 [13068] INFO     root: Iteration 6283: RMSE=21.1875, MAE=21.1875\n",
      "2025-02-09 13:46:20,876 [13068] INFO     root: Iteration 6284: RMSE=4.8742, MAE=4.8742\n",
      "2025-02-09 13:46:21,031 [13068] INFO     root: Iteration 6285: RMSE=21.1875, MAE=21.1875\n",
      "2025-02-09 13:46:21,140 [13068] INFO     root: Iteration 6286: RMSE=0.8280, MAE=0.8280\n",
      "2025-02-09 13:46:21,257 [13068] INFO     root: Iteration 6287: RMSE=5.0666, MAE=5.0666\n",
      "2025-02-09 13:46:21,485 [13068] INFO     root: Iteration 6288: RMSE=0.4811, MAE=0.4811\n",
      "2025-02-09 13:46:21,710 [13068] INFO     root: Iteration 6289: RMSE=0.9690, MAE=0.9690\n",
      "2025-02-09 13:46:21,885 [13068] INFO     root: Iteration 6290: RMSE=7.1962, MAE=7.1962\n",
      "2025-02-09 13:46:22,010 [13068] INFO     root: Iteration 6291: RMSE=2.2823, MAE=2.2823\n",
      "2025-02-09 13:46:22,167 [13068] INFO     root: Iteration 6292: RMSE=2.7746, MAE=2.7746\n",
      "2025-02-09 13:46:22,304 [13068] INFO     root: Iteration 6293: RMSE=3.0641, MAE=3.0641\n",
      "2025-02-09 13:46:22,511 [13068] INFO     root: Iteration 6294: RMSE=15.7679, MAE=15.7679\n",
      "2025-02-09 13:46:22,662 [13068] INFO     root: Iteration 6295: RMSE=2.6178, MAE=2.6178\n",
      "2025-02-09 13:46:22,788 [13068] INFO     root: Iteration 6296: RMSE=2.4681, MAE=2.4681\n",
      "2025-02-09 13:46:23,381 [13068] INFO     root: Metrics pushed at iteration 6296. RMSE=2.4681, MAE=2.4681\n",
      "2025-02-09 13:46:23,504 [13068] INFO     root: Iteration 6297: RMSE=15.7679, MAE=15.7679\n",
      "2025-02-09 13:46:23,615 [13068] INFO     root: Iteration 6298: RMSE=0.6820, MAE=0.6820\n",
      "2025-02-09 13:46:23,723 [13068] INFO     root: Iteration 6299: RMSE=0.1136, MAE=0.1136\n",
      "2025-02-09 13:46:24,054 [13068] INFO     root: Iteration 6300: RMSE=0.8280, MAE=0.8280\n",
      "2025-02-09 13:46:24,159 [13068] INFO     root: Iteration 6301: RMSE=1.5147, MAE=1.5147\n",
      "2025-02-09 13:46:24,291 [13068] INFO     root: Iteration 6302: RMSE=0.4053, MAE=0.4053\n",
      "2025-02-09 13:46:24,478 [13068] INFO     root: Iteration 6303: RMSE=0.6277, MAE=0.6277\n",
      "2025-02-09 13:46:24,599 [13068] INFO     ml_monitor.logging: Starting metrics logging thread...\n",
      "2025-02-09 13:46:24,639 [13068] INFO     root: Iteration 6304: RMSE=0.4278, MAE=0.4278\n",
      "2025-02-09 13:46:24,734 [13068] INFO     root: Iteration 6305: RMSE=5.8811, MAE=5.8811\n",
      "2025-02-09 13:46:24,858 [13068] INFO     root: Iteration 6306: RMSE=7.1962, MAE=7.1962\n",
      "2025-02-09 13:46:25,050 [13068] INFO     root: Iteration 6307: RMSE=2.2324, MAE=2.2324\n",
      "2025-02-09 13:46:25,166 [13068] INFO     root: Iteration 6308: RMSE=0.1136, MAE=0.1136\n",
      "2025-02-09 13:46:25,290 [13068] INFO     root: Iteration 6309: RMSE=0.1136, MAE=0.1136\n",
      "2025-02-09 13:46:25,391 [13068] INFO     root: Iteration 6310: RMSE=0.9176, MAE=0.9176\n",
      "2025-02-09 13:46:25,482 [13068] INFO     root: Iteration 6311: RMSE=2.2319, MAE=2.2319\n",
      "2025-02-09 13:46:25,580 [13068] INFO     root: Iteration 6312: RMSE=2.5855, MAE=2.5855\n",
      "2025-02-09 13:46:25,689 [13068] INFO     root: Iteration 6313: RMSE=1.7797, MAE=1.7797\n",
      "2025-02-09 13:46:25,777 [13068] INFO     root: Iteration 6314: RMSE=3.2372, MAE=3.2372\n",
      "2025-02-09 13:46:25,871 [13068] INFO     root: Iteration 6315: RMSE=0.1550, MAE=0.1550\n",
      "2025-02-09 13:46:26,006 [13068] INFO     root: Iteration 6316: RMSE=0.1550, MAE=0.1550\n",
      "2025-02-09 13:46:26,094 [13068] INFO     root: Iteration 6317: RMSE=2.8002, MAE=2.8002\n",
      "2025-02-09 13:46:26,189 [13068] INFO     root: Iteration 6318: RMSE=0.4053, MAE=0.4053\n",
      "2025-02-09 13:46:26,281 [13068] INFO     root: Iteration 6319: RMSE=0.1550, MAE=0.1550\n",
      "2025-02-09 13:46:26,399 [13068] INFO     root: Iteration 6320: RMSE=2.5855, MAE=2.5855\n",
      "2025-02-09 13:46:26,532 [13068] INFO     root: Iteration 6321: RMSE=1.9470, MAE=1.9470\n",
      "2025-02-09 13:46:26,629 [13068] INFO     root: Iteration 6322: RMSE=2.7746, MAE=2.7746\n",
      "2025-02-09 13:46:26,729 [13068] INFO     root: Iteration 6323: RMSE=21.1875, MAE=21.1875\n",
      "2025-02-09 13:46:26,850 [13068] INFO     root: Iteration 6324: RMSE=0.1550, MAE=0.1550\n",
      "2025-02-09 13:46:26,946 [13068] INFO     root: Iteration 6325: RMSE=0.0190, MAE=0.0190\n",
      "2025-02-09 13:46:27,073 [13068] INFO     root: Iteration 6326: RMSE=3.9228, MAE=3.9228\n",
      "2025-02-09 13:46:27,220 [13068] INFO     root: Iteration 6327: RMSE=4.3700, MAE=4.3700\n",
      "2025-02-09 13:46:27,321 [13068] INFO     root: Iteration 6328: RMSE=2.1957, MAE=2.1957\n",
      "2025-02-09 13:46:27,420 [13068] INFO     root: Iteration 6329: RMSE=2.4681, MAE=2.4681\n",
      "2025-02-09 13:46:27,525 [13068] INFO     root: Iteration 6330: RMSE=1.3937, MAE=1.3937\n",
      "2025-02-09 13:46:27,691 [13068] INFO     root: Iteration 6331: RMSE=0.6004, MAE=0.6004\n",
      "2025-02-09 13:46:27,799 [13068] INFO     root: Iteration 6332: RMSE=0.2445, MAE=0.2445\n",
      "2025-02-09 13:46:27,928 [13068] INFO     root: Iteration 6333: RMSE=7.1962, MAE=7.1962\n",
      "2025-02-09 13:46:28,119 [13068] INFO     root: Iteration 6334: RMSE=1.7797, MAE=1.7797\n",
      "2025-02-09 13:46:28,246 [13068] INFO     root: Iteration 6335: RMSE=2.9898, MAE=2.9898\n",
      "2025-02-09 13:46:28,337 [13068] INFO     root: Iteration 6336: RMSE=1.9954, MAE=1.9954\n",
      "2025-02-09 13:46:28,430 [13068] INFO     root: Iteration 6337: RMSE=0.9201, MAE=0.9201\n",
      "2025-02-09 13:46:28,525 [13068] INFO     root: Iteration 6338: RMSE=4.2272, MAE=4.2272\n",
      "2025-02-09 13:46:28,728 [13068] INFO     root: Iteration 6339: RMSE=2.4407, MAE=2.4407\n",
      "2025-02-09 13:46:28,876 [13068] INFO     root: Iteration 6340: RMSE=3.1701, MAE=3.1701\n",
      "2025-02-09 13:46:29,027 [13068] INFO     root: Iteration 6341: RMSE=5.8175, MAE=5.8175\n",
      "2025-02-09 13:46:29,153 [13068] INFO     root: Iteration 6342: RMSE=3.1092, MAE=3.1092\n",
      "2025-02-09 13:46:29,267 [13068] INFO     root: Iteration 6343: RMSE=1.9024, MAE=1.9024\n",
      "2025-02-09 13:46:29,375 [13068] INFO     root: Iteration 6344: RMSE=0.4278, MAE=0.4278\n",
      "2025-02-09 13:46:29,475 [13068] INFO     root: Iteration 6345: RMSE=0.4053, MAE=0.4053\n",
      "2025-02-09 13:46:29,645 [13068] INFO     ml_monitor.logging: Starting metrics logging thread...\n",
      "2025-02-09 13:46:29,734 [13068] INFO     root: Iteration 6346: RMSE=15.7679, MAE=15.7679\n",
      "2025-02-09 13:46:29,893 [13068] INFO     root: Iteration 6347: RMSE=0.8295, MAE=0.8295\n",
      "2025-02-09 13:46:30,030 [13068] INFO     root: Iteration 6348: RMSE=4.2619, MAE=4.2619\n",
      "2025-02-09 13:46:30,179 [13068] INFO     root: Iteration 6349: RMSE=5.8175, MAE=5.8175\n",
      "2025-02-09 13:46:30,325 [13068] INFO     root: Iteration 6350: RMSE=2.4407, MAE=2.4407\n",
      "2025-02-09 13:46:30,437 [13068] INFO     root: Iteration 6351: RMSE=2.6178, MAE=2.6178\n",
      "2025-02-09 13:46:30,685 [13068] INFO     root: Iteration 6352: RMSE=1.6668, MAE=1.6668\n",
      "2025-02-09 13:46:30,805 [13068] INFO     root: Iteration 6353: RMSE=5.1399, MAE=5.1399\n",
      "2025-02-09 13:46:30,971 [13068] INFO     root: Iteration 6354: RMSE=0.6863, MAE=0.6863\n",
      "2025-02-09 13:46:31,094 [13068] INFO     root: Iteration 6355: RMSE=0.2445, MAE=0.2445\n",
      "2025-02-09 13:46:31,189 [13068] INFO     root: Iteration 6356: RMSE=2.7728, MAE=2.7728\n",
      "2025-02-09 13:46:31,284 [13068] INFO     root: Iteration 6357: RMSE=1.2841, MAE=1.2841\n",
      "2025-02-09 13:46:31,380 [13068] INFO     root: Iteration 6358: RMSE=0.6367, MAE=0.6367\n",
      "2025-02-09 13:46:31,484 [13068] INFO     root: Iteration 6359: RMSE=5.3491, MAE=5.3491\n",
      "2025-02-09 13:46:31,702 [13068] INFO     root: Iteration 6360: RMSE=6.5607, MAE=6.5607\n",
      "2025-02-09 13:46:31,866 [13068] INFO     root: Iteration 6361: RMSE=0.4278, MAE=0.4278\n",
      "2025-02-09 13:46:32,041 [13068] INFO     root: Iteration 6362: RMSE=0.1136, MAE=0.1136\n",
      "2025-02-09 13:46:32,146 [13068] INFO     root: Iteration 6363: RMSE=5.1399, MAE=5.1399\n",
      "2025-02-09 13:46:32,241 [13068] INFO     root: Iteration 6364: RMSE=1.2841, MAE=1.2841\n",
      "2025-02-09 13:46:32,332 [13068] INFO     root: Iteration 6365: RMSE=1.9954, MAE=1.9954\n",
      "2025-02-09 13:46:32,440 [13068] INFO     root: Iteration 6366: RMSE=0.1136, MAE=0.1136\n",
      "2025-02-09 13:46:32,535 [13068] INFO     root: Iteration 6367: RMSE=3.6498, MAE=3.6498\n",
      "2025-02-09 13:46:32,819 [13068] INFO     root: Iteration 6368: RMSE=1.9954, MAE=1.9954\n",
      "2025-02-09 13:46:33,350 [13068] INFO     root: Metrics pushed at iteration 6368. RMSE=1.9954, MAE=1.9954\n",
      "2025-02-09 13:46:33,461 [13068] INFO     root: Iteration 6369: RMSE=0.9690, MAE=0.9690\n",
      "2025-02-09 13:46:33,565 [13068] INFO     root: Iteration 6370: RMSE=6.3484, MAE=6.3484\n",
      "2025-02-09 13:46:33,705 [13068] INFO     root: Iteration 6371: RMSE=0.6004, MAE=0.6004\n",
      "2025-02-09 13:46:33,842 [13068] INFO     root: Iteration 6372: RMSE=1.2841, MAE=1.2841\n",
      "2025-02-09 13:46:33,967 [13068] INFO     root: Iteration 6373: RMSE=0.4053, MAE=0.4053\n",
      "2025-02-09 13:46:34,117 [13068] INFO     root: Iteration 6374: RMSE=1.9470, MAE=1.9470\n",
      "2025-02-09 13:46:34,217 [13068] INFO     root: Iteration 6375: RMSE=2.7728, MAE=2.7728\n",
      "2025-02-09 13:46:34,322 [13068] INFO     root: Iteration 6376: RMSE=3.1701, MAE=3.1701\n",
      "2025-02-09 13:46:34,437 [13068] INFO     root: Iteration 6377: RMSE=6.4895, MAE=6.4895\n",
      "2025-02-09 13:46:34,578 [13068] INFO     root: Iteration 6378: RMSE=2.9898, MAE=2.9898\n",
      "2025-02-09 13:46:34,696 [13068] INFO     root: Iteration 6379: RMSE=0.4278, MAE=0.4278\n",
      "2025-02-09 13:46:34,698 [13068] INFO     ml_monitor.logging: Starting metrics logging thread...\n",
      "2025-02-09 13:46:34,908 [13068] INFO     root: Iteration 6380: RMSE=3.6498, MAE=3.6498\n",
      "2025-02-09 13:46:35,024 [13068] INFO     root: Iteration 6381: RMSE=1.0525, MAE=1.0525\n",
      "2025-02-09 13:46:35,154 [13068] INFO     root: Iteration 6382: RMSE=5.1399, MAE=5.1399\n",
      "2025-02-09 13:46:35,309 [13068] INFO     root: Iteration 6383: RMSE=1.0525, MAE=1.0525\n",
      "2025-02-09 13:46:35,428 [13068] INFO     root: Iteration 6384: RMSE=15.7679, MAE=15.7679\n",
      "2025-02-09 13:46:35,554 [13068] INFO     root: Iteration 6385: RMSE=0.1550, MAE=0.1550\n",
      "2025-02-09 13:46:35,661 [13068] INFO     root: Iteration 6386: RMSE=0.8360, MAE=0.8360\n",
      "2025-02-09 13:46:35,750 [13068] INFO     root: Iteration 6387: RMSE=5.2814, MAE=5.2814\n",
      "2025-02-09 13:46:35,856 [13068] INFO     root: Iteration 6388: RMSE=1.3937, MAE=1.3937\n",
      "2025-02-09 13:46:35,960 [13068] INFO     root: Iteration 6389: RMSE=2.5983, MAE=2.5983\n",
      "2025-02-09 13:46:36,121 [13068] INFO     root: Iteration 6390: RMSE=3.0812, MAE=3.0812\n",
      "2025-02-09 13:46:36,217 [13068] INFO     root: Iteration 6391: RMSE=1.3227, MAE=1.3227\n",
      "2025-02-09 13:46:36,329 [13068] INFO     root: Iteration 6392: RMSE=1.7964, MAE=1.7964\n",
      "2025-02-09 13:46:36,430 [13068] INFO     root: Iteration 6393: RMSE=0.9176, MAE=0.9176\n",
      "2025-02-09 13:46:36,534 [13068] INFO     root: Iteration 6394: RMSE=0.4811, MAE=0.4811\n"
     ]
    }
   ],
   "source": [
    "# In this notebook, we will apply data generator to monitor test outcome on Grafana dashboard.\n",
    "\n",
    "# TensorFlow and tf.keras to load the data\n",
    "import tensorflow as tf\n",
    "from tensorflow import keras\n",
    "\n",
    "# Commonly used modules\n",
    "import numpy as np\n",
    "import os\n",
    "import sys\n",
    "\n",
    "# Images, plots, display, and visualization\n",
    "import matplotlib.pyplot as plt\n",
    "import pandas as pd\n",
    "import seaborn as sns\n",
    "import cv2\n",
    "import IPython\n",
    "from six.moves import urllib\n",
    "from keras.layers import Dense\n",
    "import json\n",
    "import logging\n",
    "import time\n",
    "import random\n",
    "from datetime import datetime\n",
    "from prometheus_client import CollectorRegistry, Gauge, push_to_gateway\n",
    "\n",
    "# ✅ Set up logging\n",
    "LOG_FILE = \"C:/Users/91966/ml_monitor/logs/ml_model.log\"\n",
    "logging.basicConfig(\n",
    "    filename=LOG_FILE,\n",
    "    level=logging.INFO,\n",
    "    format=\"%(asctime)s - %(levelname)s - %(message)s\"\n",
    ")\n",
    "\n",
    "def log_event(level, message):\n",
    "    \"\"\"Logs an event in JSON format.\"\"\"\n",
    "    log_entry = {\n",
    "        \"timestamp\": datetime.now().strftime(\"%Y-%m-%d %H:%M:%S\"),\n",
    "        \"level\": level,\n",
    "        \"message\": message,\n",
    "    }\n",
    "    with open(LOG_FILE, \"a\") as f:\n",
    "        f.write(json.dumps(log_entry) + \"\\n\")\n",
    "\n",
    "    if level.lower() == \"info\":\n",
    "        logging.info(message)\n",
    "    elif level.lower() == \"error\":\n",
    "        logging.error(message)\n",
    "\n",
    "# ✅ Load Boston Housing dataset\n",
    "(train_features, train_labels), (test_features, test_labels) = keras.datasets.boston_housing.load_data()\n",
    "\n",
    "# ✅ Normalize Data\n",
    "train_mean, train_std = np.mean(train_features, axis=0), np.std(train_features, axis=0)\n",
    "train_features = (train_features - train_mean) / train_std\n",
    "test_mean, test_std = np.mean(test_features, axis=0), np.std(test_features, axis=0)\n",
    "test_features = (test_features - test_mean) / test_std\n",
    "\n",
    "# ✅ Define Neural Network Model\n",
    "def nn_model():\n",
    "    model = keras.Sequential([\n",
    "        keras.layers.Dense(100, activation=\"relu\", input_shape=[len(train_features[0])]),\n",
    "        keras.layers.Dense(1)\n",
    "    ])\n",
    "    model.compile(optimizer=keras.optimizers.Adam(), loss=\"mse\", metrics=[\"mae\", \"mse\"])\n",
    "    return model\n",
    "\n",
    "# ✅ Create model and log start of training\n",
    "model = nn_model()\n",
    "log_event(\"info\", \"ML Model training started.\")\n",
    "\n",
    "# ✅ Train model and log epoch-wise updates\n",
    "early_stop = keras.callbacks.EarlyStopping(monitor='val_loss', patience=50)\n",
    "\n",
    "class LoggingCallback(keras.callbacks.Callback):\n",
    "    def on_epoch_end(self, epoch, logs=None):\n",
    "        log_event(\"info\", f\"Epoch {epoch+1}: Loss={logs['loss']:.4f}, Val_Loss={logs['val_loss']:.4f}, MAE={logs['mae']:.4f}\")\n",
    "\n",
    "history = model.fit(\n",
    "    train_features, train_labels, epochs=1000, verbose=1, validation_split=0.1,\n",
    "    callbacks=[early_stop, LoggingCallback()]  # ✅ Logs after each epoch\n",
    ")\n",
    "\n",
    "# ✅ Log Final Training Results\n",
    "hist = history.history\n",
    "rmse_final = np.sqrt(float(hist['val_mse'][-1]))\n",
    "log_event(\"info\", f\"Final RMSE on validation set: {rmse_final:.4f}\")\n",
    "\n",
    "# ✅ Evaluate on Test Data\n",
    "mse, mae, _ = model.evaluate(test_features, test_labels)\n",
    "rmse = np.sqrt(mse)\n",
    "log_event(\"info\", f\"Test Evaluation -> RMSE: {rmse:.4f}, MAE: {mae:.4f}\")\n",
    "\n",
    "# ✅ Set up Prometheus Metrics\n",
    "registry = CollectorRegistry()\n",
    "n_rmse_gauge = Gauge(\"n_rmse\", \"Root Mean Squared Error\", registry=registry)\n",
    "accuracy_gauge = Gauge(\"accuracy\", \"Model Accuracy\", registry=registry)\n",
    "\n",
    "# ✅ Generate Predictions & Log Real-Time Performance\n",
    "num = np.shape(test_labels)[0]\n",
    "push_interval = 10  # Push every 10 seconds\n",
    "last_push = time.time()\n",
    "\n",
    "for i in range(100000):  # Infinite loop to monitor continuously\n",
    "    indx = random.randint(0, num - 1)  \n",
    "    x_batch = np.expand_dims(test_features[indx, :], axis=0)\n",
    "    y_batch = np.expand_dims(test_labels[indx], axis=0)\n",
    "\n",
    "    mse, mae, _ = model.evaluate(x_batch, y_batch, verbose=0)\n",
    "    rmse = np.sqrt(mse)\n",
    "    \n",
    "    # ✅ Log real-time prediction performance\n",
    "    log_event(\"info\", f\"Iteration {i}: RMSE={rmse:.4f}, MAE={mae:.4f}\")\n",
    "\n",
    "    # ✅ Push Metrics to Prometheus\n",
    "    n_rmse_gauge.set(rmse)\n",
    "    accuracy_gauge.set(1 / (1 + rmse))  # Approximated accuracy\n",
    "\n",
    "    current_time = time.time()\n",
    "    if current_time - last_push >= push_interval:\n",
    "        try:\n",
    "            push_to_gateway(\"localhost:9091\", job=\"model_metrics\", registry=registry)\n",
    "            log_event(\"info\", f\"Metrics pushed at iteration {i}. RMSE={rmse:.4f}, MAE={mae:.4f}\")\n",
    "            last_push = current_time\n",
    "        except Exception as e:\n",
    "            log_event(\"error\", f\"Error pushing metrics: {str(e)}\")\n",
    "\n",
    "    time.sleep(0.001)  # Small delay to avoid overwhelming logs\n",
    "\n",
    "\n",
    "\n",
    "\n",
    "\n",
    "\n",
    "\n"
   ]
  },
  {
   "cell_type": "code",
   "execution_count": null,
   "metadata": {},
   "outputs": [],
   "source": []
  }
 ],
 "metadata": {
  "kernelspec": {
   "display_name": "Python 3 (ipykernel)",
   "language": "python",
   "name": "python3"
  },
  "language_info": {
   "codemirror_mode": {
    "name": "ipython",
    "version": 3
   },
   "file_extension": ".py",
   "mimetype": "text/x-python",
   "name": "python",
   "nbconvert_exporter": "python",
   "pygments_lexer": "ipython3",
   "version": "3.12.4"
  }
 },
 "nbformat": 4,
 "nbformat_minor": 4
}
